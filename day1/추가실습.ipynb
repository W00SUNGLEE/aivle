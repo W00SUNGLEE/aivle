{
 "cells": [
  {
   "cell_type": "markdown",
   "id": "56cdd1cf",
   "metadata": {},
   "source": [
    "# 1일차"
   ]
  },
  {
   "cell_type": "markdown",
   "id": "2f1f869c",
   "metadata": {},
   "source": [
    "## 추가 실습 1"
   ]
  },
  {
   "cell_type": "code",
   "execution_count": null,
   "id": "fbbcbf0a",
   "metadata": {},
   "outputs": [],
   "source": [
    "a, b = map(int, input(\"정수 2개를 입력하세요. : \").split())\n",
    "def solution(a, b):\n",
    "    a1 = min(a,b)\n",
    "    b1 = max(a,b)\n",
    "    for i in range(1,b1+1):\n",
    "        answer = a * i\n",
    "        if answer % b1 == 0:\n",
    "            break\n",
    "    return answer\n",
    "\n",
    "c = solution(a,b)\n",
    "print(c)"
   ]
  },
  {
   "cell_type": "markdown",
   "id": "5efa8674",
   "metadata": {},
   "source": [
    "## 추가 실습 2"
   ]
  },
  {
   "cell_type": "code",
   "execution_count": null,
   "id": "0a61ab43",
   "metadata": {},
   "outputs": [],
   "source": [
    "n = int(input(\"0보다 크고 99보다 작거나 같은 정수 1개를 입력하세요. : \"))\n",
    "\n",
    "tmp = n\n",
    "\n",
    "count = 0\n",
    "\n",
    "while tmp != n or count == 0:\n",
    "    if tmp < 10:\n",
    "        tmp += tmp * 10\n",
    "    else:\n",
    "        tmp = tmp % 10 * 10 + (tmp // 10 + tmp % 10) % 10\n",
    "\n",
    "    count += 1\n",
    "\n",
    "print(count)"
   ]
  },
  {
   "cell_type": "markdown",
   "id": "afa81357",
   "metadata": {},
   "source": [
    "## 추가 실습 3"
   ]
  },
  {
   "cell_type": "code",
   "execution_count": 9,
   "id": "1913bf1c",
   "metadata": {},
   "outputs": [
    {
     "name": "stdout",
     "output_type": "stream",
     "text": [
      "43\n"
     ]
    }
   ],
   "source": [
    "def solution(left, right):\n",
    "    answer = 0\n",
    "    \n",
    "    for i in range(left, right+1):\n",
    "        answer += count(i)\n",
    "    return answer\n",
    "\n",
    "def count(n):\n",
    "    tmp = 0\n",
    "    for i in range(1, n+1):\n",
    "        if n % i == 0:\n",
    "            tmp += 1\n",
    "            \n",
    "    if tmp % 2 == 0:\n",
    "        return n\n",
    "    else:\n",
    "        return -n\n",
    "\n",
    "left = 13\n",
    "right = 17\n",
    "c = solution(left, right)\n",
    "print(c)"
   ]
  },
  {
   "cell_type": "markdown",
   "id": "907b1008",
   "metadata": {},
   "source": [
    "## 추가 실습 4"
   ]
  },
  {
   "cell_type": "code",
   "execution_count": 12,
   "id": "24e300db",
   "metadata": {},
   "outputs": [
    {
     "name": "stdout",
     "output_type": "stream",
     "text": [
      "숫자로 이루어진 문자열을 입력하세요. 567\n",
      "210\n"
     ]
    }
   ],
   "source": [
    "data = input('숫자로 이루어진 문자열을 입력하세요. ')\n",
    "\n",
    "result = int(data[0])\n",
    "\n",
    "for i in range(1, len(data)):\n",
    "    result = max(result + int(data[i]), result * int(data[i]))\n",
    "\n",
    "print(result)"
   ]
  },
  {
   "cell_type": "markdown",
   "id": "b637345b",
   "metadata": {},
   "source": [
    "## 추가 실습 5"
   ]
  },
  {
   "cell_type": "code",
   "execution_count": 16,
   "id": "1800071e",
   "metadata": {},
   "outputs": [
    {
     "name": "stdout",
     "output_type": "stream",
     "text": [
      "숫자를 입력하세요. 7755\n",
      "READY\n"
     ]
    }
   ],
   "source": [
    "n = input('숫자를 입력하세요. ')\n",
    "\n",
    "arr = list()\n",
    "\n",
    "for i in range(len(n)):\n",
    "    arr.append(int(n[i]))\n",
    "\n",
    "left = sum(arr[:len(arr)//2])\n",
    "right = sum(arr[len(arr)//2:])\n",
    "\n",
    "if left == right:\n",
    "    print(\"LUCKY\")\n",
    "else:\n",
    "    print(\"READY\")"
   ]
  },
  {
   "cell_type": "markdown",
   "id": "c66da5a7",
   "metadata": {},
   "source": [
    "## 추가 실습 6"
   ]
  },
  {
   "cell_type": "code",
   "execution_count": 19,
   "id": "dfacea20",
   "metadata": {},
   "outputs": [
    {
     "name": "stdout",
     "output_type": "stream",
     "text": [
      "1이상, 50000000000000 이하인 양의 정수를 입력하세요. : 3\n",
      "-1\n"
     ]
    }
   ],
   "source": [
    "def solution(n):\n",
    "    for i in range(n):\n",
    "        if i ** 2 == n:\n",
    "            return (i+1) ** 2\n",
    "        \n",
    "        if i ** 2 > n:\n",
    "            break\n",
    "            \n",
    "    return -1\n",
    "\n",
    "print(solution(int(input(\"1이상, 50000000000000 이하인 양의 정수를 입력하세요. : \"))))"
   ]
  },
  {
   "cell_type": "code",
   "execution_count": 22,
   "id": "ba8e59b2",
   "metadata": {},
   "outputs": [
    {
     "name": "stdout",
     "output_type": "stream",
     "text": [
      "0.14000000000000012\n"
     ]
    }
   ],
   "source": [
    "print(3.14 % 1)"
   ]
  }
 ],
 "metadata": {
  "kernelspec": {
   "display_name": "Python 3 (ipykernel)",
   "language": "python",
   "name": "python3"
  },
  "language_info": {
   "codemirror_mode": {
    "name": "ipython",
    "version": 3
   },
   "file_extension": ".py",
   "mimetype": "text/x-python",
   "name": "python",
   "nbconvert_exporter": "python",
   "pygments_lexer": "ipython3",
   "version": "3.9.7"
  }
 },
 "nbformat": 4,
 "nbformat_minor": 5
}
