{
 "cells": [
  {
   "cell_type": "markdown",
   "id": "1d5584cc",
   "metadata": {},
   "source": [
    "# 1일차"
   ]
  },
  {
   "cell_type": "markdown",
   "id": "43ef748d",
   "metadata": {},
   "source": [
    "## 실습 1"
   ]
  },
  {
   "cell_type": "code",
   "execution_count": null,
   "id": "1c0a6f33",
   "metadata": {},
   "outputs": [],
   "source": [
    "import math\n",
    "\n",
    "def electircPay(usage):\n",
    "    cost = 1600\n",
    "    if usage < 100:\n",
    "        cost += usage *60.7\n",
    "        \n",
    "    elif 100 <= usage < 200:\n",
    "        cost += 100 * 60.7 + (usage - 100) * 125.9\n",
    "    \n",
    "    elif usage >= 200:\n",
    "        cost += 100 * 60.7 + 100 * 125.9 + (usage - 200) * 187.9\n",
    "    \n",
    "    cost *= 1.137\n",
    "    \n",
    "    print(math.floor(cost))\n",
    "        \n",
    "    \n",
    "electircPay(int(input('전기 사용량을 입력하세요.: ')))"
   ]
  },
  {
   "cell_type": "markdown",
   "id": "003a14ff",
   "metadata": {},
   "source": [
    "## 실습 2"
   ]
  },
  {
   "cell_type": "code",
   "execution_count": null,
   "id": "9bf2840a",
   "metadata": {},
   "outputs": [],
   "source": [
    "def func(a):\n",
    "    for i in range(a):\n",
    "        if i % 2 == 0:\n",
    "            print('+', end='')\n",
    "        else:\n",
    "            print('-', end='')\n",
    "    print()\n",
    "\n",
    "\n",
    "func(int(input('몇번 출력할까요?: ')))"
   ]
  },
  {
   "cell_type": "markdown",
   "id": "e27e0447",
   "metadata": {},
   "source": [
    "## 실습 3"
   ]
  },
  {
   "cell_type": "code",
   "execution_count": null,
   "id": "efd84ef6",
   "metadata": {},
   "outputs": [],
   "source": [
    "for i in range(1,13):\n",
    "    if i == 8:\n",
    "        continue\n",
    "    else:\n",
    "        print(i, end=\" \")\n",
    "print()"
   ]
  },
  {
   "cell_type": "markdown",
   "id": "7501e78c",
   "metadata": {},
   "source": [
    "## 실습 4"
   ]
  },
  {
   "cell_type": "code",
   "execution_count": null,
   "id": "911227b6",
   "metadata": {},
   "outputs": [],
   "source": [
    "def func():\n",
    "    n = int(input('정수를 입력하세요.: '))\n",
    "\n",
    "    for i in range(n//2+1):\n",
    "        for j in range(2,6):\n",
    "            print(i, j)\n",
    "            if i**j == n:\n",
    "                print(f\"root: {i}, pwr: {j}\")\n",
    "                return None\n",
    "            \n",
    "    print(\"결과가 없습니다.\")\n",
    "    \n",
    "func()"
   ]
  }
 ],
 "metadata": {
  "kernelspec": {
   "display_name": "Python 3 (ipykernel)",
   "language": "python",
   "name": "python3"
  },
  "language_info": {
   "codemirror_mode": {
    "name": "ipython",
    "version": 3
   },
   "file_extension": ".py",
   "mimetype": "text/x-python",
   "name": "python",
   "nbconvert_exporter": "python",
   "pygments_lexer": "ipython3",
   "version": "3.9.7"
  }
 },
 "nbformat": 4,
 "nbformat_minor": 5
}
