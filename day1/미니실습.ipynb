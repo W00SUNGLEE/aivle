{
 "cells": [
  {
   "cell_type": "markdown",
   "id": "3d2c8303",
   "metadata": {},
   "source": [
    "# 1일차"
   ]
  },
  {
   "cell_type": "markdown",
   "id": "7765f31b",
   "metadata": {},
   "source": [
    "## 미니 실습 1"
   ]
  },
  {
   "cell_type": "code",
   "execution_count": null,
   "id": "2165ba8e",
   "metadata": {},
   "outputs": [],
   "source": [
    "def f(a, b, c, d):\n",
    "    maximum = a\n",
    "    if b > maximum:\n",
    "        maximum = b\n",
    "    if c > maximum:\n",
    "        maximum = c\n",
    "    if d > maximum:\n",
    "        maximum = d\n",
    "    return maximum\n",
    "\n",
    "print(f(1, 2, 3, 4))"
   ]
  },
  {
   "cell_type": "markdown",
   "id": "c24dc795",
   "metadata": {},
   "source": [
    "## 미니 실습 2"
   ]
  },
  {
   "cell_type": "code",
   "execution_count": null,
   "id": "77cd5b88",
   "metadata": {},
   "outputs": [],
   "source": [
    "def waterPay(water):\n",
    "    a = water * 100\n",
    "\n",
    "    if water <= 50:\n",
    "        b = water * 150\n",
    "    else:\n",
    "        b = 50 * 150 + (water - 50) * 75\n",
    "    \n",
    "    print(\"A 수도회사 : \" + str(a))\n",
    "    print(\"B 수도회사 : \" + str(b))\n",
    "\n",
    "print(waterPay(100))"
   ]
  },
  {
   "cell_type": "markdown",
   "id": "5f6e2356",
   "metadata": {},
   "source": [
    "## 미니 실습 3"
   ]
  },
  {
   "cell_type": "code",
   "execution_count": null,
   "id": "74a2d4c7",
   "metadata": {},
   "outputs": [],
   "source": [
    "def f():\n",
    "    print('a부터 b까지 정수의 합을 구합니다.')\n",
    "    a = int(input('정수 a를 입력하세요.: '))\n",
    "    b = int(input('정수 b를 입력하세요.: '))\n",
    "    if a > b:\n",
    "        a, b = b, a\n",
    "    sum = 0\n",
    "    for i in range(a, b):\n",
    "        print(f'{i} + ', end='')\n",
    "        sum += i\n",
    "\n",
    "    print(f'{b} = ', end='')\n",
    "    sum += b\n",
    "\n",
    "    print(sum)\n",
    "\n",
    "f()"
   ]
  },
  {
   "cell_type": "markdown",
   "id": "c822bc5f",
   "metadata": {},
   "source": [
    "## 미니 실습 4"
   ]
  },
  {
   "cell_type": "code",
   "execution_count": null,
   "id": "b285f0c3",
   "metadata": {},
   "outputs": [],
   "source": [
    "def f():\n",
    "    area = int(input('직사각형의 넓이를 입력하세요.: '))\n",
    "\n",
    "    for i in range(1, area + 1):\n",
    "        if area % i: continue\n",
    "        print(f'{i} x {area // i}')\n",
    "    print(sum)\n",
    "\n",
    "f()"
   ]
  }
 ],
 "metadata": {
  "kernelspec": {
   "display_name": "Python 3 (ipykernel)",
   "language": "python",
   "name": "python3"
  },
  "language_info": {
   "codemirror_mode": {
    "name": "ipython",
    "version": 3
   },
   "file_extension": ".py",
   "mimetype": "text/x-python",
   "name": "python",
   "nbconvert_exporter": "python",
   "pygments_lexer": "ipython3",
   "version": "3.9.7"
  }
 },
 "nbformat": 4,
 "nbformat_minor": 5
}
