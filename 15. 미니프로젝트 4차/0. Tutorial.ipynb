{
 "cells": [
  {
   "cell_type": "markdown",
   "id": "52e1f0fb",
   "metadata": {},
   "source": [
    "# 안녕하세요^^ \n",
    "# AIVLE 미니 프로젝트에 오신 여러분을 환영합니다.\n",
    "* 본 과정에서는 실제 사례와 데이터를 기반으로 문제를 해결하는 전체 과정을 자기 주도형 실습으로 진행해볼 예정입니다.\n",
    "* 앞선 교육과정을 정리하는 마음과 지금까지 배운 내용을 바탕으로 문제 해결을 해볼게요!\n",
    "* 미니 프로젝트를 통한 문제 해결 과정 'A에서 Z까지', 지금부터 시작합니다!"
   ]
  },
  {
   "cell_type": "markdown",
   "id": "3cd4ccb4",
   "metadata": {},
   "source": [
    "----"
   ]
  },
  {
   "cell_type": "markdown",
   "id": "f88f0a2a-3c38-4b42-b85e-b13213dcf8bb",
   "metadata": {},
   "source": [
    "### References\n",
    "> * 한국어 처리\n",
    ">> * [konlpy - 한국어 처리 라이브러리](https://konlpy.org/ko/latest/)\n",
    ">> * [한국어 품사 태그 비교표](https://docs.google.com/spreadsheets/d/1OGAjUvalBuX-oZvZ_-9tEfYD2gQe7hTGsgUpiiBSXI8/edit#gid=0)\n",
    ">> * [한국어 품사 태깅 성능 비교](https://konlpy.org/ko/latest/morph/#comparison-between-pos-tagging-classes)\n",
    ">> * [한국어 시스템 사전](https://konlpy.org/ko/latest/data/#corpora)\n",
    "\n",
    "> * 자연어 처리\n",
    ">> * [NLTK](https://www.nltk.org/book/)\n",
    ">> * [gensim](https://radimrehurek.com/gensim/)\n",
    ">> * [Google guide](https://developers.google.com/machine-learning/guides/text-classification/step-2)\n",
    ">> * [WordCloud](https://amueller.github.io/word_cloud/)"
   ]
  },
  {
   "cell_type": "markdown",
   "id": "6df48b7b",
   "metadata": {},
   "source": [
    "---"
   ]
  },
  {
   "cell_type": "markdown",
   "id": "a6228455-6dd3-4373-8ebd-b2f629104755",
   "metadata": {},
   "source": [
    "# 시작 이전에 맛보기 실습을 해볼게요."
   ]
  },
  {
   "cell_type": "code",
   "execution_count": 1,
   "id": "d35e5a75",
   "metadata": {
    "tags": []
   },
   "outputs": [
    {
     "name": "stdout",
     "output_type": "stream",
     "text": [
      "Requirement already satisfied: konlpy in /usr/local/lib/python3.6/dist-packages (0.6.0)\n",
      "Requirement already satisfied: pandas in /usr/local/lib/python3.6/dist-packages (1.1.5)\n",
      "Collecting seaborn\n",
      "  Downloading seaborn-0.11.2-py3-none-any.whl (292 kB)\n",
      "     |████████████████████████████████| 292 kB 24.1 MB/s            \n",
      "\u001b[?25hCollecting gensim\n",
      "  Downloading gensim-4.2.0.tar.gz (23.2 MB)\n",
      "     |████████████████████████████████| 23.2 MB 93.4 MB/s                                        | 419 kB 93.4 MB/s eta 0:00:01��██████▎                   | 8.9 MB 93.4 MB/s eta 0:00:01/s eta 0:00:01 17.6 MB 93.4 MB/s eta 0:00:01�� | 22.1 MB 93.4 MB/s eta 0:00:01\n",
      "\u001b[?25h  Preparing metadata (setup.py) ... \u001b[?25ldone\n",
      "\u001b[?25hCollecting wordcloud\n",
      "  Downloading wordcloud-1.8.2.2-cp36-cp36m-manylinux_2_17_x86_64.manylinux2014_x86_64.whl (435 kB)\n",
      "     |████████████████████████████████| 435 kB 50.9 MB/s            \n",
      "\u001b[?25hCollecting mecab-ko\n",
      "  Downloading mecab_ko-1.0.0-cp36-cp36m-manylinux_2_17_x86_64.manylinux2014_x86_64.whl (575 kB)\n",
      "     |████████████████████████████████| 575 kB 84.9 MB/s            \n",
      "\u001b[?25hRequirement already satisfied: JPype1>=0.7.0 in /usr/local/lib/python3.6/dist-packages (from konlpy) (1.3.0)\n",
      "Requirement already satisfied: lxml>=4.1.0 in /usr/local/lib/python3.6/dist-packages (from konlpy) (4.9.0)\n",
      "Requirement already satisfied: numpy>=1.6 in /usr/local/lib/python3.6/dist-packages (from konlpy) (1.19.5)\n",
      "Requirement already satisfied: pytz>=2017.2 in /usr/local/lib/python3.6/dist-packages (from pandas) (2022.1)\n",
      "Requirement already satisfied: python-dateutil>=2.7.3 in /usr/local/lib/python3.6/dist-packages (from pandas) (2.8.1)\n",
      "Requirement already satisfied: matplotlib>=2.2 in /usr/local/lib/python3.6/dist-packages (from seaborn) (3.3.3)\n",
      "Requirement already satisfied: scipy>=1.0 in /usr/local/lib/python3.6/dist-packages (from seaborn) (1.5.4)\n",
      "Collecting smart_open>=1.8.1\n",
      "  Downloading smart_open-6.2.0-py3-none-any.whl (58 kB)\n",
      "     |████████████████████████████████| 58 kB 5.3 MB/s             \n",
      "\u001b[?25hRequirement already satisfied: pillow in /usr/local/lib/python3.6/dist-packages (from wordcloud) (8.1.0)\n",
      "Collecting mecab-ko-dic<2.0,>=1.0\n",
      "  Downloading mecab-ko-dic-1.0.0.tar.gz (33.2 MB)\n",
      "     |████████████████████████████████| 33.2 MB 95.4 MB/s            /s eta 0:00:01                        | 4.6 MB 95.4 MB/s eta 0:00:011MB/s eta 0:00:01��███▍   | 29.4 MB 95.4 MB/s eta 0:00:01\n",
      "\u001b[?25h  Preparing metadata (setup.py) ... \u001b[?25ldone\n",
      "\u001b[?25hRequirement already satisfied: typing-extensions in /usr/local/lib/python3.6/dist-packages (from JPype1>=0.7.0->konlpy) (3.7.4.3)\n",
      "Requirement already satisfied: cycler>=0.10 in /usr/local/lib/python3.6/dist-packages (from matplotlib>=2.2->seaborn) (0.10.0)\n",
      "Requirement already satisfied: pyparsing!=2.0.4,!=2.1.2,!=2.1.6,>=2.0.3 in /usr/local/lib/python3.6/dist-packages (from matplotlib>=2.2->seaborn) (2.4.7)\n",
      "Requirement already satisfied: kiwisolver>=1.0.1 in /usr/local/lib/python3.6/dist-packages (from matplotlib>=2.2->seaborn) (1.3.1)\n",
      "Requirement already satisfied: six>=1.5 in /usr/local/lib/python3.6/dist-packages (from python-dateutil>=2.7.3->pandas) (1.15.0)\n",
      "Building wheels for collected packages: gensim, mecab-ko-dic\n",
      "  Building wheel for gensim (setup.py) ... \u001b[?25ldone\n",
      "\u001b[?25h  Created wheel for gensim: filename=gensim-4.2.0-cp36-cp36m-linux_x86_64.whl size=25525350 sha256=43072129ca041b83296ca644c4219e791c19b2cb955ef25d3d402044f6f4393f\n",
      "  Stored in directory: /root/.cache/pip/wheels/44/1e/2b/b0056a533d057c3ed56c84fbdd79cca690496f4cd7c03c157c\n",
      "  Building wheel for mecab-ko-dic (setup.py) ... \u001b[?25ldone\n",
      "\u001b[?25h  Created wheel for mecab-ko-dic: filename=mecab_ko_dic-1.0.0-py3-none-any.whl size=33424414 sha256=fb650424dfbbbb9c2f3ae6cbe10180034658523a0815be410805e76bf60c1b5d\n",
      "  Stored in directory: /root/.cache/pip/wheels/5d/af/be/5663c22c6369da4117d4d089d5fdb10ff90b9ff135dffb398d\n",
      "Successfully built gensim mecab-ko-dic\n",
      "Installing collected packages: smart-open, mecab-ko-dic, wordcloud, seaborn, mecab-ko, gensim\n",
      "Successfully installed gensim-4.2.0 mecab-ko-1.0.0 mecab-ko-dic-1.0.0 seaborn-0.11.2 smart-open-6.2.0 wordcloud-1.8.2.2\n",
      "\u001b[33mWARNING: Running pip as the 'root' user can result in broken permissions and conflicting behaviour with the system package manager. It is recommended to use a virtual environment instead: https://pip.pypa.io/warnings/venv\u001b[0m\n"
     ]
    }
   ],
   "source": [
    "# 필요 라이브러리부터 설치할께요.\n",
    "!pip install konlpy pandas seaborn gensim wordcloud mecab-ko"
   ]
  },
  {
   "cell_type": "markdown",
   "id": "ccb2a1c1",
   "metadata": {},
   "source": [
    "---"
   ]
  },
  {
   "cell_type": "code",
   "execution_count": 2,
   "id": "4b05c0c2",
   "metadata": {},
   "outputs": [
    {
     "name": "stdout",
     "output_type": "stream",
     "text": [
      "[]\n",
      "[]\n"
     ]
    }
   ],
   "source": [
    "## import sklearn\n",
    "import pandas as pd\n",
    "import matplotlib.font_manager as fm\n",
    "import matplotlib.pyplot as plt\n",
    "import tensorflow as tf\n",
    "fm.findSystemFonts()\n",
    "plt.rcParams['font.family']= [\"NanumGothicCoding\"]\n",
    "plt.rcParams[\"axes.unicode_minus\"]=False\n",
    "# GPU 환경 설정하기\n",
    "# assert tf.test.is_gpu_available() == True, 'GPU 설정을 확인하세요.'\n",
    "print(tf.config.list_physical_devices('GPU'))\n",
    "print(tf.config.list_logical_devices('GPU'))"
   ]
  },
  {
   "cell_type": "markdown",
   "id": "75a2eba1-ed0f-48d6-8e6d-0220dcae255a",
   "metadata": {},
   "source": [
    "## Tutorial data - 대한민국 헌법"
   ]
  },
  {
   "cell_type": "code",
   "execution_count": 3,
   "id": "89251d3d",
   "metadata": {},
   "outputs": [],
   "source": [
    "import nltk\n",
    "from konlpy.tag import Mecab\n",
    "from konlpy.corpus import kolaw\n",
    "constitution = kolaw.open('constitution.txt').read()\n",
    "mecab = Mecab()"
   ]
  },
  {
   "cell_type": "markdown",
   "id": "0d9165c9-3963-413d-987d-5f08dc7e8d69",
   "metadata": {},
   "source": [
    "### 1. tokenization\n",
    "#### 1-1. 명사 추출"
   ]
  },
  {
   "cell_type": "code",
   "execution_count": 11,
   "id": "74d7db0a-197c-4386-8db3-b81b54c5187b",
   "metadata": {},
   "outputs": [
    {
     "name": "stdout",
     "output_type": "stream",
     "text": [
      "4210\n"
     ]
    }
   ],
   "source": [
    "print(len(constitution.split(sep=\" \")))"
   ]
  },
  {
   "cell_type": "code",
   "execution_count": 22,
   "id": "396f0a9d",
   "metadata": {
    "tags": []
   },
   "outputs": [
    {
     "name": "stdout",
     "output_type": "stream",
     "text": [
      "9320\n"
     ]
    },
    {
     "data": {
      "text/plain": [
       "['대한민국', '헌법', '유구', '한', '역사', '와', '전통', '에', '빛나', '는']"
      ]
     },
     "execution_count": 22,
     "metadata": {},
     "output_type": "execute_result"
    }
   ],
   "source": [
    "# mecab을 이용해 문장을 명사단위로 토큰화 합니다.\n",
    "# nouns 함수를 이용합니다.\n",
    "# mecab 이용시 한글의 경우 띄어쓰기를 하지 않아도 추출이 가능합니다. \n",
    "morphs_constitution = mecab.morphs(constitution)\n",
    "print(len(morphs_constitution))\n",
    "morphs_constitution[:10]"
   ]
  },
  {
   "cell_type": "markdown",
   "id": "ba843735-4ee1-4f1c-a576-2165bcab3537",
   "metadata": {},
   "source": [
    "#### 1-2. 형태소 추출"
   ]
  },
  {
   "cell_type": "code",
   "execution_count": 18,
   "id": "a81c24ab",
   "metadata": {},
   "outputs": [
    {
     "name": "stdout",
     "output_type": "stream",
     "text": [
      "3609\n"
     ]
    },
    {
     "data": {
      "text/plain": [
       "['대한민국', '헌법', '역사', '전통', '우리', '국민', '운동', '건립', '대한민국', '임시']"
      ]
     },
     "execution_count": 18,
     "metadata": {},
     "output_type": "execute_result"
    }
   ],
   "source": [
    "# 형태소 단위로 토큰화 해 봅니다.\n",
    "nouns_constitution = mecab.nouns(constitution)\n",
    "print(len(nouns_constitution))\n",
    "nouns_constitution[:10]"
   ]
  },
  {
   "cell_type": "markdown",
   "id": "98a04d92-215d-4362-b386-46c95b8109d1",
   "metadata": {
    "tags": []
   },
   "source": [
    "## 2. Part Of Speech tagging(품사 태깅)"
   ]
  },
  {
   "cell_type": "code",
   "execution_count": 19,
   "id": "5563f6f2-0364-4ca0-841a-cb079480f86e",
   "metadata": {},
   "outputs": [
    {
     "name": "stdout",
     "output_type": "stream",
     "text": [
      "9320\n",
      "[('대한민국', 'NNP'), ('헌법', 'NNG'), ('유구', 'XR')]\n",
      "[[('대한민국', 'NNP'), ('헌법', 'NNG')], [('유구', 'XR'), ('한', 'XSA+ETM')], [('역사', 'NNG'), ('와', 'JC')]]\n",
      "['대한민국/NNP', '헌법/NNG', '유구/XR']\n"
     ]
    }
   ],
   "source": [
    "pos_constitution = mecab.pos(constitution)\n",
    "print(len(pos_constitution))\n",
    "print(pos_constitution[:3])\n",
    "print(mecab.pos(constitution,flatten=False)[:3])\n",
    "print(mecab.pos(constitution,join=True)[:3])"
   ]
  },
  {
   "cell_type": "markdown",
   "id": "24e79a35-939d-4040-b412-22c464578bb7",
   "metadata": {},
   "source": [
    "## 3. [NLTK](https://www.nltk.org/book/)"
   ]
  },
  {
   "cell_type": "code",
   "execution_count": 20,
   "id": "cc5f63c1-33ca-4564-816b-65ac06f81770",
   "metadata": {
    "tags": []
   },
   "outputs": [],
   "source": [
    "from nltk import bigrams"
   ]
  },
  {
   "cell_type": "code",
   "execution_count": 23,
   "id": "d475c6f9-100f-41f5-880e-a1163a2987a3",
   "metadata": {},
   "outputs": [],
   "source": [
    "nltk_morphs_constitution = nltk.Text(morphs_constitution)\n",
    "nltk_nouns_constitution = nltk.Text(nouns_constitution)"
   ]
  },
  {
   "cell_type": "code",
   "execution_count": 24,
   "id": "a79e1f14-754f-4a26-98a5-3668511b1cab",
   "metadata": {},
   "outputs": [
    {
     "data": {
      "text/plain": [
       "<Text: 대한민국 헌법 유구 한 역사 와 전통 에...>"
      ]
     },
     "execution_count": 24,
     "metadata": {},
     "output_type": "execute_result"
    }
   ],
   "source": [
    "nltk_morphs_constitution"
   ]
  },
  {
   "cell_type": "code",
   "execution_count": 25,
   "id": "9f8a3d1a-5196-406b-9936-ec1f5ba6460c",
   "metadata": {},
   "outputs": [
    {
     "data": {
      "text/plain": [
       "<Text: 대한민국 헌법 역사 전통 우리 국민 운동 건립...>"
      ]
     },
     "execution_count": 25,
     "metadata": {},
     "output_type": "execute_result"
    }
   ],
   "source": [
    "nltk_nouns_constitution"
   ]
  },
  {
   "cell_type": "code",
   "execution_count": 26,
   "id": "6d21cc58-0f76-498f-9d98-04cedfc7d9b6",
   "metadata": {},
   "outputs": [
    {
     "data": {
      "text/plain": [
       "nltk.text.Text"
      ]
     },
     "execution_count": 26,
     "metadata": {},
     "output_type": "execute_result"
    }
   ],
   "source": [
    "type(nltk_morphs_constitution)"
   ]
  },
  {
   "cell_type": "markdown",
   "id": "335d71a6-3046-4dad-bd1e-cbeb579db05a",
   "metadata": {
    "tags": []
   },
   "source": [
    "### 3-1. Frequency plot"
   ]
  },
  {
   "cell_type": "code",
   "execution_count": 27,
   "id": "2336d044-5309-4b78-819d-c15ce92afefb",
   "metadata": {},
   "outputs": [
    {
     "data": {
      "image/png": "[encoded data removed]",
      "text/plain": [
       "<Figure size 576x288 with 1 Axes>"
      ]
     },
     "metadata": {
      "needs_background": "light"
     },
     "output_type": "display_data"
    },
    {
     "data": {
      "image/png": "[encoded data removed]",
      "text/plain": [
       "<Figure size 576x288 with 1 Axes>"
      ]
     },
     "metadata": {
      "needs_background": "light"
     },
     "output_type": "display_data"
    }
   ],
   "source": [
    "plt.figure(figsize=(8,4))\n",
    "plt.title(\"형태소 개수 : \" + str(len(nltk_morphs_constitution.tokens)))\n",
    "nltk_morphs_constitution.plot(10)\n",
    "plt.figure(figsize=(8,4))\n",
    "plt.title(\"명사 개수 : \" + str(len(nltk_nouns_constitution.tokens)))\n",
    "nltk_nouns_constitution.plot(10)\n",
    "plt.show()"
   ]
  },
  {
   "cell_type": "markdown",
   "id": "a42b28c5-5ace-451c-8779-2d33ff9e980f",
   "metadata": {},
   "source": [
    "### 3-2. Similar words"
   ]
  },
  {
   "cell_type": "code",
   "execution_count": 28,
   "id": "326b94f3-d7d4-4d59-b478-9cab5c187432",
   "metadata": {},
   "outputs": [
    {
     "name": "stdout",
     "output_type": "stream",
     "text": [
      "국회 국가 대한민국 정부 조국 법관 법원 타인 판결 근로 국회의원 대통령 대법원장 법령 농지 정치 책임 인 차 권력\n"
     ]
    }
   ],
   "source": [
    "nltk_morphs_constitution.similar('국민')"
   ]
  },
  {
   "cell_type": "code",
   "execution_count": 29,
   "id": "681d6e4a-bcc9-4d41-b9ec-c1e2b950ef57",
   "metadata": {},
   "outputs": [
    {
     "name": "stdout",
     "output_type": "stream",
     "text": [
      "국회 법률 대통령 대한민국 지향 이 법관 근로자 국회의원 과반수 제안\n"
     ]
    }
   ],
   "source": [
    "nltk_nouns_constitution.similar('국민')"
   ]
  },
  {
   "cell_type": "markdown",
   "id": "88cdd01a-51b3-4127-97b8-8329dc22c807",
   "metadata": {},
   "source": [
    "### 3-3. Lexical dispersion_plot"
   ]
  },
  {
   "cell_type": "code",
   "execution_count": 31,
   "id": "667d298e-ec79-4280-a7c9-7acdf721e805",
   "metadata": {},
   "outputs": [
    {
     "data": {
      "image/png": "[encoded data removed]",
      "text/plain": [
       "<Figure size 720x360 with 1 Axes>"
      ]
     },
     "metadata": {
      "needs_background": "light"
     },
     "output_type": "display_data"
    }
   ],
   "source": [
    "plt.figure(figsize=(10,5))\n",
    "nltk_morphs_constitution.dispersion_plot(['국회','국가','대한민국','법률'])\n",
    "plt.show()\n",
    "# plt.figure(figsize=(10,5))\n",
    "# nltk_nouns_constitution.dispersion_plot(['국회','국가','대한민국',])\n",
    "# plt.show()"
   ]
  },
  {
   "cell_type": "markdown",
   "id": "82e001a6-70a0-455d-81e0-834af65c0191",
   "metadata": {},
   "source": [
    "### 3-4. Searching Text(Concordance)"
   ]
  },
  {
   "cell_type": "code",
   "execution_count": 40,
   "id": "981a2a7c-bfc6-4c61-8d9f-3e841077cf4d",
   "metadata": {},
   "outputs": [
    {
     "name": "stdout",
     "output_type": "stream",
     "text": [
      "Displaying 5 of 69 matches:\n",
      " 헌법 을 이제 국회 의 의결 을 거\n",
      " . 제 3 장 국회 제 40 조 입\n",
      " 조 입법권 은 국회 에 속한다 . \n",
      "제 41 조 ① 국회 는 국민 의 보\n",
      "고 는 회기 중 국회 의 동의 없이 \n"
     ]
    }
   ],
   "source": [
    "nltk_morphs_constitution.concordance('국회',width=20,lines=5)"
   ]
  },
  {
   "cell_type": "code",
   "execution_count": 14,
   "id": "9c98d610-5dd0-45b6-9383-a9e047a8aa4b",
   "metadata": {},
   "outputs": [
    {
     "name": "stdout",
     "output_type": "stream",
     "text": [
      "Displaying 5 of 69 matches:\n",
      " 차 개정 헌법 국회 의결 국민 투표\n",
      " 이익 처우 장 국회 조 입법권 국회\n",
      "국회 조 입법권 국회 조 국회 국민 \n",
      "입법권 국회 조 국회 국민 보통 평등\n",
      " 제외 회기 중 국회 동의 체포 구금\n"
     ]
    }
   ],
   "source": [
    "nltk_nouns_constitution.concordance('국회',width=20,lines=5)"
   ]
  },
  {
   "cell_type": "code",
   "execution_count": 15,
   "id": "a295a178-fb48-444c-978e-f36d3a04f803",
   "metadata": {},
   "outputs": [
    {
     "data": {
      "text/plain": [
       "85"
      ]
     },
     "execution_count": 15,
     "metadata": {},
     "output_type": "execute_result"
    }
   ],
   "source": [
    "nltk_nouns_constitution.index('국회')"
   ]
  },
  {
   "cell_type": "markdown",
   "id": "c621148a-043c-4487-85d8-b5eca13caf38",
   "metadata": {},
   "source": [
    "### 3-5. Collocation"
   ]
  },
  {
   "cell_type": "code",
   "execution_count": 43,
   "id": "860d3fd1-5102-422a-ade1-75b04d8ed96d",
   "metadata": {},
   "outputs": [
    {
     "name": "stdout",
     "output_type": "stream",
     "text": [
      "재판소 재판관; 가진다 피고인; 공무원 불법행위; 대법원장 대법관; 대통령 국무총리; 아니한다 국회의원; 국무총리 대통령;\n",
      "재판관 대통령\n",
      "**************************************************\n",
      "재판소 재판관; 대법원장 대법관; 국회의원 선거후; 국무총리 행정각부; 공무원 불법행위; 대법관 대법관; 국회의원 국회의원;\n",
      "공무원 기업체; 공무원 후임자; 대법관 대법원장; 국무총리 대통령; 대통령 국무총리; 대통령 행정각부; 재판관 재판관; 과반수\n",
      "과반수; 대통령 당선자; 후임자 대통령; 재판관 대통령; 대통령 감사원; 과반수 대통령\n"
     ]
    }
   ],
   "source": [
    "nltk_morphs_constitution.collocations(window_size=5)\n",
    "print(\"*\"*50)\n",
    "nltk_nouns_constitution.collocations(window_size=5)"
   ]
  },
  {
   "cell_type": "markdown",
   "id": "59aee185-7fad-41ea-8a87-2f85cdc79cd3",
   "metadata": {
    "tags": []
   },
   "source": [
    "## 4. [WordCloud](https://amueller.github.io/word_cloud/)"
   ]
  },
  {
   "cell_type": "code",
   "execution_count": 17,
   "id": "467f5b73-6b26-4135-be6f-fe6d6ae4f8ad",
   "metadata": {},
   "outputs": [
    {
     "data": {
      "text/plain": [
       "nltk.text.Text"
      ]
     },
     "execution_count": 17,
     "metadata": {},
     "output_type": "execute_result"
    }
   ],
   "source": [
    "type(nltk_nouns_constitution)"
   ]
  },
  {
   "cell_type": "code",
   "execution_count": 44,
   "id": "dc415a77-fbc8-48f4-ba2d-f51a7b587ef7",
   "metadata": {},
   "outputs": [
    {
     "data": {
      "image/png": "[encoded data removed]",
      "text/plain": [
       "<Figure size 864x432 with 1 Axes>"
      ]
     },
     "metadata": {
      "needs_background": "light"
     },
     "output_type": "display_data"
    }
   ],
   "source": [
    "import matplotlib.font_manager as font_manager\n",
    "from wordcloud import WordCloud\n",
    "NGC_path = font_manager.findfont('NanumGothicCoding')\n",
    "#wc = WordCloud(font_path=NGC_path,max_font_size=40).generate(constitution)\n",
    "wc = WordCloud(font_path=NGC_path,max_font_size=40,background_color=\"white\",collocations=False).generate(' '.join(nltk_nouns_constitution))\n",
    "plt.figure(figsize=(12,6))\n",
    "plt.imshow(wc)\n",
    "plt.axis(\"off\")\n",
    "plt.show()"
   ]
  },
  {
   "cell_type": "markdown",
   "id": "c093d0b4",
   "metadata": {
    "tags": []
   },
   "source": [
    "## 5. vocabulary 만들기"
   ]
  },
  {
   "cell_type": "markdown",
   "id": "3dd43834",
   "metadata": {},
   "source": [
    "지금부터는 단어사전을 만드는 원리에 대해 이해하는 실습을 해보도록 하겠습니다.<br>\n",
    "아래 로직을 이해 하셨다가, 잠시 후 실습 때 직접 만들어 보시기 바랍니다.\n",
    "> 1. 단어를 토큰화 하고, 하나의 리스트 만듭니다.\n",
    "> 2. 중복된 단어는 제거하고 토큰의 출현 빈도 순으로 내림차순 정렬 합니다.\n",
    "> 3. 각 토큰에 정수를 부여하고 dictionary 생성합니다."
   ]
  },
  {
   "cell_type": "markdown",
   "id": "db18b04b-bbdb-437f-ac2c-eb526bccd789",
   "metadata": {
    "tags": []
   },
   "source": [
    "#### 5-1. pos function 응용"
   ]
  },
  {
   "cell_type": "code",
   "execution_count": 46,
   "id": "17d623d8",
   "metadata": {},
   "outputs": [
    {
     "data": {
      "text/plain": [
       "['대한민국', '헌법', '역사', '전통', '우리', '국민', '운동', '건립', '대한민국', '임시']"
      ]
     },
     "execution_count": 46,
     "metadata": {},
     "output_type": "execute_result"
    }
   ],
   "source": [
    "# 명사는 nouns라는 함수를 이용하면 쉽게 추출이 가능한데요.\n",
    "# 특수기호는 형태소 분석을 한 후에 추출을 해야 합니다. \n",
    "# 특수기호까지 추출하는 함수를 만들어 보겠습니다.\n",
    "def extended_extraction(text):\n",
    "    pos = mecab.pos(text, flatten=True, join=False)\n",
    "    extended_list = []\n",
    "    for i in range(len(pos)):\n",
    "        #명사 : NP, NNB, NNP, NNG\n",
    "        #특수기호 : SF, SY\n",
    "        if pos[i][1] in('NP','NNB','NNP','NNG','SF','SY'):\n",
    "            extended_list.append(pos[i][0])\n",
    "    return extended_list\n",
    "# 새로 만든 함수를 이용하여 문장의 명사와 특수기호만을 추출해서 토큰화 합니다.\n",
    "# 이 함수를 이용해서 나중에 dictionary를 만들때와 문자를 숫자열로 변환하는 작업을 실습 해보시기 바랍니다.\n",
    "token_list = extended_extraction(constitution)\n",
    "token_list[:10]"
   ]
  },
  {
   "cell_type": "markdown",
   "id": "b9030493-12af-40de-bc70-396c1d3a9379",
   "metadata": {},
   "source": [
    "#### 5-2. Count frequency and sorting"
   ]
  },
  {
   "cell_type": "code",
   "execution_count": 49,
   "id": "89cdcf94",
   "metadata": {
    "tags": []
   },
   "outputs": [
    {
     "name": "stdout",
     "output_type": "stream",
     "text": [
      "고유한 토큰 갯수 :  867\n",
      "빈도순으로 정렬 : [('.', 360), ('법률', 121), ('수', 89), ('대통령', 84), ('조', 79), ('①', 78), ('②', 78), ('국가', 73), ('헌법', 69), ('국민', 69), ('국회', 69), ('때', 55), ('③', 45), ('바', 37), ('필요', 31), ('위원', 30), ('기타', 26), ('법원', 25), ('보장', 24), ('정부', 23), ('사항', 23), ('국무', 23), ('이', 22), ('항', 22), ('자유', 21), ('권리', 21), ('선거', 21), ('의원', 21), ('회의', 21), ('경제', 20), ('④', 20), ('국회의원', 20), ('의무', 19), ('직무', 19), ('국무총리', 19), ('임명', 19), ('조직', 18), ('이상', 18), ('임기', 18), ('의결', 17), ('공무원', 17), ('경우', 17), ('장', 16), ('범위', 16), ('보호', 15), ('법관', 15), ('정책', 14), ('정당', 14), ('재판소', 14), ('노력', 13), ('재판', 13), ('단체', 13), ('요구', 13), ('심판', 12), ('집회', 12), ('군사', 12), ('시행', 12), ('재', 12), ('과반수', 12), ('출석', 12), ('찬성', 12), ('자문', 12), ('대한민국', 11), ('안', 11), ('안전', 11), ('조약', 11), ('자', 11), ('⑤', 11), ('중', 11), ('처분', 11), ('인', 11), ('동의', 11), ('탄핵', 11), ('권한', 11), ('민주', 10), ('공포', 10), ('기관', 10), ('중요', 10), ('재판관', 10), ('대법원장', 10), ('사회', 9), ('기본', 9), ('정치', 9), ('개정', 9), ('효력', 9), ('체포', 9), ('절차', 9), ('형사', 9), ('교육', 9), ('근로', 9), ('국정', 9), ('행정', 9), ('명령', 9), ('지방', 9), ('자치', 9), ('생활', 8), ('제정', 8), ('투표', 8), ('인정', 8), ('구속', 8), ('구성', 8), ('확정', 8), ('제출', 8), ('사무', 8), ('것', 7), ('수립', 7), ('유지', 7), ('이유', 7), ('행위', 7), ('제한', 7), ('공개', 7), ('선출', 7), ('전', 7), ('법률안', 7), ('감사', 7), ('행정각부', 7), ('선거관리위원회', 7), ('대법관', 7), ('관리', 7), ('최초', 7), ('평화', 6), ('통일', 6), ('질서', 6), ('승인', 6), ('누구', 6), ('등', 6), ('청구', 6), ('피고인', 6), ('지체', 6), ('⑥', 6), ('소추', 6), ('재산', 6), ('공공', 6), ('재정', 6), ('특별', 6), ('개발', 6), ('회기', 6), ('의장', 6), ('규정', 6), ('이내', 6), ('예산안', 6), ('회계', 6), ('처리', 6), ('규칙', 6), ('자격', 6), ('결정', 6), ('중임', 6), ('제청', 6), ('간', 6), ('당시', 6), ('책임', 5), ('향상', 5), ('운영', 5), ('해산', 5), ('발전', 5), ('제도', 5), ('진술', 5), ('심사', 5), ('이익', 5), ('언론', 5), ('출판', 5), ('내용', 5), ('군인', 5), ('제외', 5), ('기간', 5), ('재의', 5), ('후', 5), ('심의', 5), ('연도', 5), ('개시', 5), ('예산', 5), ('설치', 5), ('계엄', 5), ('계획', 5), ('개정안', 5), ('감사원', 5), ('각급', 5), ('균형', 5), ('이용', 5), ('육성', 5), ('문화', 4), ('영역', 4), ('국군', 4), ('수행', 4), ('체결', 4), ('목적', 4), ('평등', 4), ('검사', 4), ('영장', 4), ('형', 4), ('죄', 4), ('변호인', 4), ('방법', 4), ('범죄', 4), ('비밀', 4), ('타인', 4), ('보상', 4), ('비상계엄', 4), ('선포', 4), ('판결', 4), ('집행', 4), ('근로자', 4), ('조건', 4), ('임시회', 4), ('다음', 4), ('지출', 4), ('부담', 4), ('발의', 4), ('저촉', 4), ('내부', 4), ('규율', 4), ('파면', 4), ('후임자', 4), ('긴급', 4), ('관계', 4), ('원로', 4), ('선고', 4), ('선임', 4), ('농지', 4), ('우리', 3), ('운동', 3), ('조국', 3), ('민족', 3), ('자율', 3), ('기회', 3), ('능력', 3), ('최고', 3), ('균등', 3), ('국제', 3), ('중립', 3), ('일반', 3), ('지위', 3), ('신분', 3), ('활동', 3), ('위배', 3), ('제소', 3), ('인간', 3), ('존엄', 3), ('개인', 3), ('종교', 3), ('영전', 3), ('압수', 3), ('수색', 3), ('처벌', 3), ('불리', 3), ('현행범', 3), ('⑦', 3), ('그', 3), ('침', 3), ('양심', 3), ('결사', 3), ('침해', 3), ('배상', 3), ('행사', 3), ('문서', 3), ('청원', 3), ('군무원', 3), ('구금', 3), ('외', 3), ('증진', 3), ('복지', 3), ('실시', 3), ('사유', 3), ('환경', 3), ('보전', 3), ('기업체', 3), ('계약', 3), ('만료', 3), ('편성', 3), ('변경', 3), ('상호', 3), ('강화', 3), ('선전', 3), ('외국', 3), ('의견', 3), ('해임', 3), ('건의', 3), ('중앙', 3), ('위임', 3), ('대통령령', 3), ('조치', 3), ('해제', 3), ('복권', 3), ('대외', 3), ('결산', 3), ('조정', 3), ('지명', 3), ('평화통일', 3), ('원장', 3), ('연임', 3), ('금고', 3), ('여부', 3), ('법령', 3), ('농', 3), ('제안', 3), ('불의', 2), ('계승', 2), ('사명', 2), ('입각', 2), ('단결', 2), ('조화', 2), ('행복', 2), ('주권', 2), ('영토', 2), ('의사', 2), ('창달', 2), ('앞', 2), ('차별', 2), ('훈장', 2), ('신체', 2), ('고문', 2), ('자기', 2), ('신청', 2), ('발부', 2), ('제시', 2), ('장기', 2), ('염려', 2), ('조력', 2), ('가족', 2), ('자백', 2), ('증거', 2), ('유죄', 2), ('입법', 2), ('처우', 2), ('이전', 2), ('주거', 2), ('통신', 2), ('허가', 2), ('시설', 2), ('기준', 2), ('명예', 2), ('피해자', 2), ('피해', 2), ('과학', 2), ('공공복리', 2), ('초병', 2), ('초소', 2), ('음식물', 2), ('공급', 2), ('군', 2), ('무죄', 2), ('불법행위', 2), ('손해', 2), ('면제', 2), ('관련', 2), ('구조', 2), ('자주', 2), ('평생', 2), ('포함', 2), ('고용', 2), ('적정', 2), ('임금', 2), ('원칙', 2), ('여자', 2), ('단체교섭', 2), ('행동', 2), ('국방', 2), ('이행', 2), ('보통', 2), ('직', 2), ('발언', 2), ('남용', 2), ('취득', 2), ('정기회', 2), ('인과', 2), ('부의장', 2), ('이송', 2), ('내', 2), ('날', 2), ('발생', 2), ('경비', 2), ('계속', 2), ('예비비', 2), ('비준', 2), ('포고', 2), ('파견', 2), ('조사', 2), ('위원회', 2), ('상황', 2), ('답변', 2), ('징계', 2), ('감사원장', 2), ('절', 2), ('독립', 2), ('당선자', 2), ('후보', 2), ('궐위', 2), ('상실', 2), ('선서', 2), ('\"', 2), ('보위', 2), ('복리', 2), ('외교', 2), ('안위', 2), ('외환', 2), ('안녕질서', 2), ('재적', 2), ('감', 2), ('사면', 2), ('수여', 2), ('보좌', 2), ('현역', 2), ('이하', 2), ('총장', 2), ('직전', 2), ('각부', 2), ('세입', 2), ('세출', 2), ('사법', 2), ('위반', 2), ('전제', 2), ('심리', 2), ('관할', 2), ('위', 2), ('소원', 2), ('가입', 2), ('관여', 2), ('지시', 2), ('기업', 2), ('안정', 2), ('규제', 2), ('자원', 2), ('국토', 2), ('달성', 2), ('농업', 2), ('생산', 2), ('경영', 2), ('지역', 2), ('중소기업', 2), ('어민', 2), ('공고', 2), ('부칙', 2), ('일', 2), ('전일', 2), ('역사', 1), ('전통', 1), ('건립', 1), ('임시', 1), ('법통', 1), ('항거', 1), ('이념', 1), ('개혁', 1), ('정의', 1), ('인도', 1), ('동포', 1), ('애', 1), ('폐습', 1), ('타파', 1), ('바탕', 1), ('각인', 1), ('도로', 1), ('발휘', 1), ('완수', 1), ('밖', 1), ('항구', 1), ('세계', 1), ('인류', 1), ('공영', 1), ('이바지', 1), ('자손', 1), ('확보', 1), ('짐', 1), ('총강', 1), ('공화국', 1), ('권력', 1), ('요건', 1), ('재외', 1), ('한반도', 1), ('부속', 1), ('지향', 1), ('추진', 1), ('침략', 1), ('전쟁', 1), ('부인', 1), ('국토방위', 1), ('신성', 1), ('준수', 1), ('법규', 1), ('국내법', 1), ('외국인', 1), ('국제법', 1), ('전체', 1), ('봉사자', 1), ('설립', 1), ('복수', 1), ('정당제', 1), ('형성', 1), ('참여', 1), ('데', 1), ('자금', 1), ('보조', 1), ('전통문화', 1), ('가치', 1), ('추구', 1), ('불가침', 1), ('인권', 1), ('확인', 1), ('법', 1), ('성별', 1), ('특수', 1), ('계급', 1), ('형태', 1), ('창설', 1), ('특권', 1), ('심문', 1), ('보안처분', 1), ('강제', 1), ('노역', 1), ('강요', 1), ('해당', 1), ('도피', 1), ('증거인', 1), ('멸', 1), ('사후', 1), ('일시', 1), ('장소', 1), ('통지', 1), ('적부', 1), ('폭행', 1), ('협박', 1), ('부당', 1), ('기망', 1), ('자의', 1), ('정식', 1), ('유일', 1), ('시', 1), ('동일', 1), ('소급', 1), ('정권', 1), ('박탈', 1), ('친족', 1), ('거주', 1), ('직업', 1), ('선택', 1), ('주', 1), ('사생활', 1), ('국교', 1), ('분리', 1), ('검열', 1), ('방송', 1), ('신문', 1), ('기능', 1), ('공중도덕', 1), ('윤리', 1), ('학문', 1), ('예술', 1), ('저작', 1), ('발명가', 1), ('기술자', 1), ('예술가', 1), ('한계', 1), ('수용', 1), ('사용', 1), ('지급', 1), ('공무담임권', 1), ('기밀', 1), ('포', 1), ('물', 1), ('신속', 1), ('상당', 1), ('추정', 1), ('사건', 1), ('피의자', 1), ('불기소', 1), ('자신', 1), ('경찰', 1), ('전투', 1), ('훈련', 1), ('생명', 1), ('자녀', 1), ('초등', 1), ('무교육', 1), ('무상', 1), ('전문', 1), ('대학', 1), ('진흥', 1), ('학교', 1), ('교원', 1), ('최저', 1), ('임금제', 1), ('민주주의', 1), ('연소자', 1), ('유공자', 1), ('상이군경', 1), ('전몰군경', 1), ('유가족', 1), ('우선', 1), ('단결권', 1), ('주요', 1), ('방위', 1), ('산업체', 1), ('종사', 1), ('단체행동권', 1), ('권익', 1), ('노인', 1), ('청소년', 1), ('신체장애자', 1), ('질병', 1), ('노령', 1), ('재해', 1), ('예방', 1), ('위험', 1), ('건강', 1), ('주택', 1), ('혼인', 1), ('양성', 1), ('기초', 1), ('성립', 1), ('모성', 1), ('보건', 1), ('열거', 1), ('경시', 1), ('본질', 1), ('납세', 1), ('병역', 1), ('입법권', 1), ('선거구', 1), ('비례대표제', 1), ('석방', 1), ('표결', 1), ('청렴', 1), ('직위', 1), ('알선', 1), ('초과', 1), ('명시', 1), ('가부', 1), ('동수', 1), ('부결', 1), ('공표', 1), ('의안', 1), ('폐기', 1), ('이의', 1), ('의서', 1), ('환부', 1), ('회중', 1), ('일부', 1), ('수정', 1), ('경과', 1), ('전년', 1), ('사업', 1), ('연한', 1), ('계속비', 1), ('총액', 1), ('차기', 1), ('추가', 1), ('경정', 1), ('각항', 1), ('금액', 1), ('증가', 1), ('비목', 1), ('국채', 1), ('모집', 1), ('조세', 1), ('종목', 1), ('세율', 1), ('원조', 1), ('우호', 1), ('통상항해조약', 1), ('제약', 1), ('군대', 1), ('주류', 1), ('특정', 1), ('사안', 1), ('서류', 1), ('증인', 1), ('증언', 1), ('질문', 1), ('응답', 1), ('제명', 1), ('정지', 1), ('공직', 1), ('사상', 1), ('원수', 1), ('대표', 1), ('수호', 1), ('책무', 1), ('성실', 1), ('수반', 1), ('득표자', 1), ('다수표', 1), ('인일', 1), ('득표수', 1), ('총수', 1), ('당선', 1), ('피선거권', 1), ('선거일', 1), ('내지', 1), ('사망', 1), ('취임', 1), ('즈음', 1), ('나', 1), ('직책', 1), ('사고', 1), ('순서', 1), ('대행', 1), ('사절', 1), ('신임', 1), ('접수', 1), ('통수', 1), ('구체', 1), ('내우', 1), ('천재', 1), ('지변', 1), ('위기', 1), ('여유', 1), ('최소한', 1), ('교전', 1), ('상태', 1), ('가능', 1), ('그때', 1), ('폐지', 1), ('회복', 1), ('전시', 1), ('사변', 1), ('비상사태', 1), ('병력', 1), ('경비계엄', 1), ('통고', 1), ('임면', 1), ('서한', 1), ('표시', 1), ('국법', 1), ('부서', 1), ('공사', 1), ('내란', 1), ('재직', 1), ('전직', 1), ('예우', 1), ('행정부', 1), ('명', 1), ('통할', 1), ('구성원', 1), ('국무회의', 1), ('국유재산', 1), ('감형', 1), ('획정', 1), ('정부안', 1), ('배정', 1), ('평가', 1), ('분석', 1), ('회부', 1), ('검찰', 1), ('합동', 1), ('참모', 1), ('참모총장', 1), ('국립', 1), ('대학교', 1), ('대사', 1), ('국영', 1), ('관리자', 1), ('국내', 1), ('주재', 1), ('소관', 1), ('직권', 1), ('총리령', 1), ('부령', 1), ('감찰', 1), ('소속', 1), ('차년', 1), ('결과', 1), ('대상', 1), ('대법원', 1), ('부', 1), ('정년', 1), ('정직', 1), ('감봉', 1), ('심신', 1), ('장해', 1), ('퇴직', 1), ('최종', 1), ('전심', 1), ('준용', 1), ('소송', 1), ('방해', 1), ('풍속', 1), ('상고심', 1), ('간첩죄', 1), ('포로', 1), ('단심', 1), ('사형', 1), ('관장', 1), ('쟁의', 1), ('인용', 1), ('공정', 1), ('위원장', 1), ('호선', 1), ('선거인명부', 1), ('작성', 1), ('당해', 1), ('주민', 1), ('종류', 1), ('의회', 1), ('창의', 1), ('존중', 1), ('성장', 1), ('소득', 1), ('분배', 1), ('시장', 1), ('지배', 1), ('경제력', 1), ('방지', 1), ('주체', 1), ('광물', 1), ('지하자원', 1), ('수산', 1), ('수력', 1), ('자연력', 1), ('일정', 1), ('채취', 1), ('특허', 1), ('경자', 1), ('유전', 1), ('소작', 1), ('금지', 1), ('제고', 1), ('합리', 1), ('사정', 1), ('임대차', 1), ('위탁', 1), ('모두', 1), ('기반', 1), ('효율', 1), ('어업', 1), ('어촌', 1), ('종합', 1), ('지원', 1), ('농수산물', 1), ('수급', 1), ('유통', 1), ('개선', 1), ('가격', 1), ('도모', 1), ('자조', 1), ('소비', 1), ('계도', 1), ('생산품', 1), ('품질', 1), ('촉구', 1), ('소비자', 1), ('무역', 1), ('국방상', 1), ('사영', 1), ('국유', 1), ('공유', 1), ('통제', 1), ('기술', 1), ('혁신', 1), ('정보', 1), ('인력', 1), ('표준', 1), ('확립', 1), ('기구', 1), ('연장', 1), ('투표자', 1), ('<', 1), ('>', 1), ('준비', 1), ('공포일', 1), ('선거후', 1), ('임원', 1), ('임명권자', 1), ('전임자', 1), ('판사', 1), ('단서', 1), ('적용', 1), ('지속', 1), ('존속', 1)]\n"
     ]
    }
   ],
   "source": [
    "#2. 토큰의 출현 빈도 순으로 내림차순 정렬합니다.\n",
    "# 데이터 갯수를 셀 때, 유용한 collections모듈의 Counter클래스와 most_common 함수를 이용합니다.\n",
    "# most_common을 이용하면 데이터 갯수가 많은 순으로 정렬된 배열이 리턴 됩니다.\n",
    "# collections모듈의 Counter클래스를 import 합니다.\n",
    "from collections import Counter\n",
    "# Counter 클레스를 이용하여 토큰의 빈도를 계산 합니다.\n",
    "vocab_collection = Counter(token_list)\n",
    "# 결과를 출력해 확인합니다.\n",
    "print(\"고유한 토큰 갯수 : \",len(vocab_collection))\n",
    "#print(\"토큰 목록: \", vocab_collection)\n",
    "# most_common 함수 이용해서 토큰을 빈도가 높은 순으로 정렬한 배열을 얻습니다.\n",
    "vocab = vocab_collection.most_common(len(vocab_collection))\n",
    "print(\"빈도순으로 정렬 :\",vocab)"
   ]
  },
  {
   "cell_type": "code",
   "execution_count": 50,
   "id": "8ac44f1d",
   "metadata": {},
   "outputs": [
    {
     "name": "stdout",
     "output_type": "stream",
     "text": [
      "[('.', 360), ('법률', 121), ('수', 89), ('대통령', 84), ('조', 79)]\n"
     ]
    }
   ],
   "source": [
    "#  most_common 함수 이용해서 토큰을 빈도가 높은 top five를 구해보세요.\n",
    "## 실습해보세요\n",
    "vocab_five = vocab[:5]\n",
    "print(vocab_five)"
   ]
  },
  {
   "cell_type": "markdown",
   "id": "4fcbcfc1-54d1-4777-9047-dc5621e8960f",
   "metadata": {},
   "source": [
    "#### 5-3. mapping string from integer"
   ]
  },
  {
   "cell_type": "code",
   "execution_count": 51,
   "id": "742b6e82",
   "metadata": {
    "tags": []
   },
   "outputs": [
    {
     "name": "stdout",
     "output_type": "stream",
     "text": [
      "dic : {'.': 1, '법률': 2, '수': 3, '대통령': 4, '조': 5, '①': 6, '②': 7, '국가': 8, '헌법': 9, '국민': 10, '국회': 11, '때': 12, '③': 13, '바': 14, '필요': 15, '위원': 16, '기타': 17, '법원': 18, '보장': 19, '정부': 20, '사항': 21, '국무': 22, '이': 23, '항': 24, '자유': 25, '권리': 26, '선거': 27, '의원': 28, '회의': 29, '경제': 30, '④': 31, '국회의원': 32, '의무': 33, '직무': 34, '국무총리': 35, '임명': 36, '조직': 37, '이상': 38, '임기': 39, '의결': 40, '공무원': 41, '경우': 42, '장': 43, '범위': 44, '보호': 45, '법관': 46, '정책': 47, '정당': 48, '재판소': 49, '노력': 50, '재판': 51, '단체': 52, '요구': 53, '심판': 54, '집회': 55, '군사': 56, '시행': 57, '재': 58, '과반수': 59, '출석': 60, '찬성': 61, '자문': 62, '대한민국': 63, '안': 64, '안전': 65, '조약': 66, '자': 67, '⑤': 68, '중': 69, '처분': 70, '인': 71, '동의': 72, '탄핵': 73, '권한': 74, '민주': 75, '공포': 76, '기관': 77, '중요': 78, '재판관': 79, '대법원장': 80, '사회': 81, '기본': 82, '정치': 83, '개정': 84, '효력': 85, '체포': 86, '절차': 87, '형사': 88, '교육': 89, '근로': 90, '국정': 91, '행정': 92, '명령': 93, '지방': 94, '자치': 95, '생활': 96, '제정': 97, '투표': 98, '인정': 99, '구속': 100, '구성': 101, '확정': 102, '제출': 103, '사무': 104, '것': 105, '수립': 106, '유지': 107, '이유': 108, '행위': 109, '제한': 110, '공개': 111, '선출': 112, '전': 113, '법률안': 114, '감사': 115, '행정각부': 116, '선거관리위원회': 117, '대법관': 118, '관리': 119, '최초': 120, '평화': 121, '통일': 122, '질서': 123, '승인': 124, '누구': 125, '등': 126, '청구': 127, '피고인': 128, '지체': 129, '⑥': 130, '소추': 131, '재산': 132, '공공': 133, '재정': 134, '특별': 135, '개발': 136, '회기': 137, '의장': 138, '규정': 139, '이내': 140, '예산안': 141, '회계': 142, '처리': 143, '규칙': 144, '자격': 145, '결정': 146, '중임': 147, '제청': 148, '간': 149, '당시': 150, '책임': 151, '향상': 152, '운영': 153, '해산': 154, '발전': 155, '제도': 156, '진술': 157, '심사': 158, '이익': 159, '언론': 160, '출판': 161, '내용': 162, '군인': 163, '제외': 164, '기간': 165, '재의': 166, '후': 167, '심의': 168, '연도': 169, '개시': 170, '예산': 171, '설치': 172, '계엄': 173, '계획': 174, '개정안': 175, '감사원': 176, '각급': 177, '균형': 178, '이용': 179, '육성': 180, '문화': 181, '영역': 182, '국군': 183, '수행': 184, '체결': 185, '목적': 186, '평등': 187, '검사': 188, '영장': 189, '형': 190, '죄': 191, '변호인': 192, '방법': 193, '범죄': 194, '비밀': 195, '타인': 196, '보상': 197, '비상계엄': 198, '선포': 199, '판결': 200, '집행': 201, '근로자': 202, '조건': 203, '임시회': 204, '다음': 205, '지출': 206, '부담': 207, '발의': 208, '저촉': 209, '내부': 210, '규율': 211, '파면': 212, '후임자': 213, '긴급': 214, '관계': 215, '원로': 216, '선고': 217, '선임': 218, '농지': 219, '우리': 220, '운동': 221, '조국': 222, '민족': 223, '자율': 224, '기회': 225, '능력': 226, '최고': 227, '균등': 228, '국제': 229, '중립': 230, '일반': 231, '지위': 232, '신분': 233, '활동': 234, '위배': 235, '제소': 236, '인간': 237, '존엄': 238, '개인': 239, '종교': 240, '영전': 241, '압수': 242, '수색': 243, '처벌': 244, '불리': 245, '현행범': 246, '⑦': 247, '그': 248, '침': 249, '양심': 250, '결사': 251, '침해': 252, '배상': 253, '행사': 254, '문서': 255, '청원': 256, '군무원': 257, '구금': 258, '외': 259, '증진': 260, '복지': 261, '실시': 262, '사유': 263, '환경': 264, '보전': 265, '기업체': 266, '계약': 267, '만료': 268, '편성': 269, '변경': 270, '상호': 271, '강화': 272, '선전': 273, '외국': 274, '의견': 275, '해임': 276, '건의': 277, '중앙': 278, '위임': 279, '대통령령': 280, '조치': 281, '해제': 282, '복권': 283, '대외': 284, '결산': 285, '조정': 286, '지명': 287, '평화통일': 288, '원장': 289, '연임': 290, '금고': 291, '여부': 292, '법령': 293, '농': 294, '제안': 295, '불의': 296, '계승': 297, '사명': 298, '입각': 299, '단결': 300, '조화': 301, '행복': 302, '주권': 303, '영토': 304, '의사': 305, '창달': 306, '앞': 307, '차별': 308, '훈장': 309, '신체': 310, '고문': 311, '자기': 312, '신청': 313, '발부': 314, '제시': 315, '장기': 316, '염려': 317, '조력': 318, '가족': 319, '자백': 320, '증거': 321, '유죄': 322, '입법': 323, '처우': 324, '이전': 325, '주거': 326, '통신': 327, '허가': 328, '시설': 329, '기준': 330, '명예': 331, '피해자': 332, '피해': 333, '과학': 334, '공공복리': 335, '초병': 336, '초소': 337, '음식물': 338, '공급': 339, '군': 340, '무죄': 341, '불법행위': 342, '손해': 343, '면제': 344, '관련': 345, '구조': 346, '자주': 347, '평생': 348, '포함': 349, '고용': 350, '적정': 351, '임금': 352, '원칙': 353, '여자': 354, '단체교섭': 355, '행동': 356, '국방': 357, '이행': 358, '보통': 359, '직': 360, '발언': 361, '남용': 362, '취득': 363, '정기회': 364, '인과': 365, '부의장': 366, '이송': 367, '내': 368, '날': 369, '발생': 370, '경비': 371, '계속': 372, '예비비': 373, '비준': 374, '포고': 375, '파견': 376, '조사': 377, '위원회': 378, '상황': 379, '답변': 380, '징계': 381, '감사원장': 382, '절': 383, '독립': 384, '당선자': 385, '후보': 386, '궐위': 387, '상실': 388, '선서': 389, '\"': 390, '보위': 391, '복리': 392, '외교': 393, '안위': 394, '외환': 395, '안녕질서': 396, '재적': 397, '감': 398, '사면': 399, '수여': 400, '보좌': 401, '현역': 402, '이하': 403, '총장': 404, '직전': 405, '각부': 406, '세입': 407, '세출': 408, '사법': 409, '위반': 410, '전제': 411, '심리': 412, '관할': 413, '위': 414, '소원': 415, '가입': 416, '관여': 417, '지시': 418, '기업': 419, '안정': 420, '규제': 421, '자원': 422, '국토': 423, '달성': 424, '농업': 425, '생산': 426, '경영': 427, '지역': 428, '중소기업': 429, '어민': 430, '공고': 431, '부칙': 432, '일': 433, '전일': 434, '역사': 435, '전통': 436, '건립': 437, '임시': 438, '법통': 439, '항거': 440, '이념': 441, '개혁': 442, '정의': 443, '인도': 444, '동포': 445, '애': 446, '폐습': 447, '타파': 448, '바탕': 449, '각인': 450, '도로': 451, '발휘': 452, '완수': 453, '밖': 454, '항구': 455, '세계': 456, '인류': 457, '공영': 458, '이바지': 459, '자손': 460, '확보': 461, '짐': 462, '총강': 463, '공화국': 464, '권력': 465, '요건': 466, '재외': 467, '한반도': 468, '부속': 469, '지향': 470, '추진': 471, '침략': 472, '전쟁': 473, '부인': 474, '국토방위': 475, '신성': 476, '준수': 477, '법규': 478, '국내법': 479, '외국인': 480, '국제법': 481, '전체': 482, '봉사자': 483, '설립': 484, '복수': 485, '정당제': 486, '형성': 487, '참여': 488, '데': 489, '자금': 490, '보조': 491, '전통문화': 492, '가치': 493, '추구': 494, '불가침': 495, '인권': 496, '확인': 497, '법': 498, '성별': 499, '특수': 500, '계급': 501, '형태': 502, '창설': 503, '특권': 504, '심문': 505, '보안처분': 506, '강제': 507, '노역': 508, '강요': 509, '해당': 510, '도피': 511, '증거인': 512, '멸': 513, '사후': 514, '일시': 515, '장소': 516, '통지': 517, '적부': 518, '폭행': 519, '협박': 520, '부당': 521, '기망': 522, '자의': 523, '정식': 524, '유일': 525, '시': 526, '동일': 527, '소급': 528, '정권': 529, '박탈': 530, '친족': 531, '거주': 532, '직업': 533, '선택': 534, '주': 535, '사생활': 536, '국교': 537, '분리': 538, '검열': 539, '방송': 540, '신문': 541, '기능': 542, '공중도덕': 543, '윤리': 544, '학문': 545, '예술': 546, '저작': 547, '발명가': 548, '기술자': 549, '예술가': 550, '한계': 551, '수용': 552, '사용': 553, '지급': 554, '공무담임권': 555, '기밀': 556, '포': 557, '물': 558, '신속': 559, '상당': 560, '추정': 561, '사건': 562, '피의자': 563, '불기소': 564, '자신': 565, '경찰': 566, '전투': 567, '훈련': 568, '생명': 569, '자녀': 570, '초등': 571, '무교육': 572, '무상': 573, '전문': 574, '대학': 575, '진흥': 576, '학교': 577, '교원': 578, '최저': 579, '임금제': 580, '민주주의': 581, '연소자': 582, '유공자': 583, '상이군경': 584, '전몰군경': 585, '유가족': 586, '우선': 587, '단결권': 588, '주요': 589, '방위': 590, '산업체': 591, '종사': 592, '단체행동권': 593, '권익': 594, '노인': 595, '청소년': 596, '신체장애자': 597, '질병': 598, '노령': 599, '재해': 600, '예방': 601, '위험': 602, '건강': 603, '주택': 604, '혼인': 605, '양성': 606, '기초': 607, '성립': 608, '모성': 609, '보건': 610, '열거': 611, '경시': 612, '본질': 613, '납세': 614, '병역': 615, '입법권': 616, '선거구': 617, '비례대표제': 618, '석방': 619, '표결': 620, '청렴': 621, '직위': 622, '알선': 623, '초과': 624, '명시': 625, '가부': 626, '동수': 627, '부결': 628, '공표': 629, '의안': 630, '폐기': 631, '이의': 632, '의서': 633, '환부': 634, '회중': 635, '일부': 636, '수정': 637, '경과': 638, '전년': 639, '사업': 640, '연한': 641, '계속비': 642, '총액': 643, '차기': 644, '추가': 645, '경정': 646, '각항': 647, '금액': 648, '증가': 649, '비목': 650, '국채': 651, '모집': 652, '조세': 653, '종목': 654, '세율': 655, '원조': 656, '우호': 657, '통상항해조약': 658, '제약': 659, '군대': 660, '주류': 661, '특정': 662, '사안': 663, '서류': 664, '증인': 665, '증언': 666, '질문': 667, '응답': 668, '제명': 669, '정지': 670, '공직': 671, '사상': 672, '원수': 673, '대표': 674, '수호': 675, '책무': 676, '성실': 677, '수반': 678, '득표자': 679, '다수표': 680, '인일': 681, '득표수': 682, '총수': 683, '당선': 684, '피선거권': 685, '선거일': 686, '내지': 687, '사망': 688, '취임': 689, '즈음': 690, '나': 691, '직책': 692, '사고': 693, '순서': 694, '대행': 695, '사절': 696, '신임': 697, '접수': 698, '통수': 699, '구체': 700, '내우': 701, '천재': 702, '지변': 703, '위기': 704, '여유': 705, '최소한': 706, '교전': 707, '상태': 708, '가능': 709, '그때': 710, '폐지': 711, '회복': 712, '전시': 713, '사변': 714, '비상사태': 715, '병력': 716, '경비계엄': 717, '통고': 718, '임면': 719, '서한': 720, '표시': 721, '국법': 722, '부서': 723, '공사': 724, '내란': 725, '재직': 726, '전직': 727, '예우': 728, '행정부': 729, '명': 730, '통할': 731, '구성원': 732, '국무회의': 733, '국유재산': 734, '감형': 735, '획정': 736, '정부안': 737, '배정': 738, '평가': 739, '분석': 740, '회부': 741, '검찰': 742, '합동': 743, '참모': 744, '참모총장': 745, '국립': 746, '대학교': 747, '대사': 748, '국영': 749, '관리자': 750, '국내': 751, '주재': 752, '소관': 753, '직권': 754, '총리령': 755, '부령': 756, '감찰': 757, '소속': 758, '차년': 759, '결과': 760, '대상': 761, '대법원': 762, '부': 763, '정년': 764, '정직': 765, '감봉': 766, '심신': 767, '장해': 768, '퇴직': 769, '최종': 770, '전심': 771, '준용': 772, '소송': 773, '방해': 774, '풍속': 775, '상고심': 776, '간첩죄': 777, '포로': 778, '단심': 779, '사형': 780, '관장': 781, '쟁의': 782, '인용': 783, '공정': 784, '위원장': 785, '호선': 786, '선거인명부': 787, '작성': 788, '당해': 789, '주민': 790, '종류': 791, '의회': 792, '창의': 793, '존중': 794, '성장': 795, '소득': 796, '분배': 797, '시장': 798, '지배': 799, '경제력': 800, '방지': 801, '주체': 802, '광물': 803, '지하자원': 804, '수산': 805, '수력': 806, '자연력': 807, '일정': 808, '채취': 809, '특허': 810, '경자': 811, '유전': 812, '소작': 813, '금지': 814, '제고': 815, '합리': 816, '사정': 817, '임대차': 818, '위탁': 819, '모두': 820, '기반': 821, '효율': 822, '어업': 823, '어촌': 824, '종합': 825, '지원': 826, '농수산물': 827, '수급': 828, '유통': 829, '개선': 830, '가격': 831, '도모': 832, '자조': 833, '소비': 834, '계도': 835, '생산품': 836, '품질': 837, '촉구': 838, '소비자': 839, '무역': 840, '국방상': 841, '사영': 842, '국유': 843, '공유': 844, '통제': 845, '기술': 846, '혁신': 847, '정보': 848, '인력': 849, '표준': 850, '확립': 851, '기구': 852, '연장': 853, '투표자': 854, '<': 855, '>': 856, '준비': 857, '공포일': 858, '선거후': 859, '임원': 860, '임명권자': 861, '전임자': 862, '판사': 863, '단서': 864, '적용': 865, '지속': 866, '존속': 867}\n"
     ]
    }
   ],
   "source": [
    "#3. 각 토큰에 정수를 부여하고 dict type의 dictionary를 생성합니다.\n",
    "dic = {}\n",
    "i = 0\n",
    "for (word, frequency) in vocab :\n",
    "    i +=1 \n",
    "    dic[word] = i\n",
    "print(\"dic :\", dic)"
   ]
  },
  {
   "cell_type": "code",
   "execution_count": 53,
   "id": "dbe16000-5208-4cdf-961f-0127fcbf08be",
   "metadata": {},
   "outputs": [
    {
     "name": "stdout",
     "output_type": "stream",
     "text": [
      "[('.', 360), ('법률', 121), ('수', 89), ('대통령', 84), ('조', 79)]\n"
     ]
    }
   ],
   "source": [
    "vocab_five = vocab[:5]\n",
    "print(vocab_five)"
   ]
  },
  {
   "cell_type": "code",
   "execution_count": 55,
   "id": "ccadcf1f-3c33-4a43-8d35-a8f90ead2b6e",
   "metadata": {},
   "outputs": [],
   "source": [
    "from sklearn.feature_extraction.text import CountVectorizer"
   ]
  },
  {
   "cell_type": "code",
   "execution_count": 56,
   "id": "363b545e-dd9c-4f8c-8d60-6087fd69959c",
   "metadata": {},
   "outputs": [],
   "source": [
    "cv = CountVectorizer()"
   ]
  },
  {
   "cell_type": "code",
   "execution_count": 57,
   "id": "8fd124ae-4f4e-4113-bc0c-5c0c1ae976c0",
   "metadata": {},
   "outputs": [],
   "source": [
    "morps_ft = cv.fit_transform(morphs_constitution)"
   ]
  },
  {
   "cell_type": "code",
   "execution_count": 59,
   "id": "308e6565-1ef8-4d79-863a-6da348d0ab5d",
   "metadata": {},
   "outputs": [
    {
     "data": {
      "text/plain": [
       "<9320x1081 sparse matrix of type '<class 'numpy.int64'>'\n",
       "\twith 4250 stored elements in Compressed Sparse Row format>"
      ]
     },
     "execution_count": 59,
     "metadata": {},
     "output_type": "execute_result"
    }
   ],
   "source": [
    "morps_ft"
   ]
  },
  {
   "cell_type": "code",
   "execution_count": 58,
   "id": "3dbe8a3b-4654-42f5-b268-c40186efd735",
   "metadata": {},
   "outputs": [
    {
     "data": {
      "text/plain": [
       "{'대한민국': 362,\n",
       " '헌법': 1049,\n",
       " '유구': 688,\n",
       " '역사': 638,\n",
       " '전통': 811,\n",
       " '빛나': 495,\n",
       " '우리': 665,\n",
       " '대한': 361,\n",
       " '국민': 248,\n",
       " '운동': 668,\n",
       " '으로': 697,\n",
       " '건립': 164,\n",
       " '임시': 755,\n",
       " '정부': 822,\n",
       " '법통': 442,\n",
       " '불의': 484,\n",
       " '항거': 1031,\n",
       " '19': 40,\n",
       " '민주': 413,\n",
       " '이념': 720,\n",
       " '계승': 191,\n",
       " '조국': 846,\n",
       " '개혁': 156,\n",
       " '평화': 1001,\n",
       " '통일': 978,\n",
       " '사명': 500,\n",
       " '입각': 758,\n",
       " '정의': 825,\n",
       " '인도': 736,\n",
       " '동포': 373,\n",
       " '로써': 387,\n",
       " '민족': 412,\n",
       " '단결': 332,\n",
       " '공고히': 200,\n",
       " '모든': 400,\n",
       " '사회': 515,\n",
       " '폐습': 1004,\n",
       " '타파': 972,\n",
       " '자율': 772,\n",
       " '조화': 854,\n",
       " '바탕': 415,\n",
       " '자유': 771,\n",
       " '기본': 296,\n",
       " '질서': 916,\n",
       " '더욱': 364,\n",
       " '확고히': 1060,\n",
       " '정치': 829,\n",
       " '경제': 184,\n",
       " '문화': 410,\n",
       " '영역': 646,\n",
       " '어서': 624,\n",
       " '각인': 138,\n",
       " '기회': 305,\n",
       " '균등히': 277,\n",
       " '능력': 326,\n",
       " '최고': 954,\n",
       " '도로': 365,\n",
       " '발휘': 424,\n",
       " '권리': 268,\n",
       " '따르': 380,\n",
       " '책임': 932,\n",
       " '의무': 708,\n",
       " '완수': 658,\n",
       " '생활': 530,\n",
       " '균등': 276,\n",
       " '향상': 1047,\n",
       " '기하': 304,\n",
       " '항구': 1032,\n",
       " '세계': 556,\n",
       " '인류': 738,\n",
       " '공영': 207,\n",
       " '이바지': 722,\n",
       " '으로써': 700,\n",
       " '자손': 767,\n",
       " '안전': 615,\n",
       " '행복': 1038,\n",
       " '영원히': 647,\n",
       " '확보': 1062,\n",
       " '면서': 391,\n",
       " '1948': 41,\n",
       " '12': 22,\n",
       " '제정': 841,\n",
       " '걸쳐': 167,\n",
       " '개정': 154,\n",
       " '이제': 730,\n",
       " '국회': 261,\n",
       " '의결': 707,\n",
       " '거쳐': 161,\n",
       " '투표': 985,\n",
       " '의하': 714,\n",
       " '한다': 1025,\n",
       " '총강': 949,\n",
       " '공화국': 215,\n",
       " '주권': 864,\n",
       " '에게': 631,\n",
       " '권력': 267,\n",
       " '으로부터': 698,\n",
       " '나온다': 309,\n",
       " '요건': 663,\n",
       " '법률': 439,\n",
       " '정한다': 832,\n",
       " '국가': 239,\n",
       " '정하': 830,\n",
       " '재외': 782,\n",
       " '보호': 456,\n",
       " '진다': 911,\n",
       " '영토': 650,\n",
       " '한반도': 1026,\n",
       " '부속': 469,\n",
       " '서로': 531,\n",
       " '지향': 903,\n",
       " '정책': 828,\n",
       " '수립': 575,\n",
       " '추진': 962,\n",
       " '국제': 256,\n",
       " '유지': 693,\n",
       " '노력': 317,\n",
       " '침략': 968,\n",
       " '전쟁': 807,\n",
       " '부인': 472,\n",
       " '국군': 241,\n",
       " '보장': 451,\n",
       " '국토방위': 260,\n",
       " '신성': 593,\n",
       " '수행': 582,\n",
       " '중립': 876,\n",
       " '준수': 872,\n",
       " '된다': 374,\n",
       " '체결': 942,\n",
       " '공포': 212,\n",
       " '조약': 850,\n",
       " '일반': 744,\n",
       " '승인': 586,\n",
       " '법규': 437,\n",
       " '국내법': 243,\n",
       " '효력': 1075,\n",
       " '가진다': 133,\n",
       " '외국인': 661,\n",
       " '국제법': 257,\n",
       " '지위': 899,\n",
       " '공무원': 205,\n",
       " '전체': 810,\n",
       " '봉사자': 463,\n",
       " '대하': 358,\n",
       " '신분': 592,\n",
       " '정당': 819,\n",
       " '설립': 549,\n",
       " '복수': 459,\n",
       " '정당제': 820,\n",
       " '목적': 403,\n",
       " '조직': 852,\n",
       " '활동': 1067,\n",
       " '어야': 625,\n",
       " '의사': 709,\n",
       " '형성': 1056,\n",
       " '참여': 926,\n",
       " '필요': 1020,\n",
       " '가져야': 129,\n",
       " '으며': 701,\n",
       " '운영': 669,\n",
       " '자금': 762,\n",
       " '보조': 453,\n",
       " '이나': 718,\n",
       " '위배': 677,\n",
       " '재판소': 789,\n",
       " '해산': 1034,\n",
       " '제소': 836,\n",
       " '심판': 605,\n",
       " '전통문화': 812,\n",
       " '발전': 422,\n",
       " '창달': 927,\n",
       " '여야': 635,\n",
       " '10': 0,\n",
       " '인간': 733,\n",
       " '으로서': 699,\n",
       " '존엄': 856,\n",
       " '가치': 134,\n",
       " '가지': 131,\n",
       " '추구': 960,\n",
       " '개인': 153,\n",
       " '불가침': 478,\n",
       " '인권': 735,\n",
       " '확인': 1063,\n",
       " '11': 11,\n",
       " '평등': 999,\n",
       " '누구': 324,\n",
       " '든지': 378,\n",
       " '성별': 552,\n",
       " '종교': 858,\n",
       " '또는': 381,\n",
       " '차별': 922,\n",
       " '아니한다': 609,\n",
       " '특수': 989,\n",
       " '계급': 187,\n",
       " '제도': 834,\n",
       " '인정': 741,\n",
       " '아니하': 607,\n",
       " '어떠': 622,\n",
       " '형태': 1057,\n",
       " '창설': 928,\n",
       " '훈장': 1080,\n",
       " '영전': 649,\n",
       " '특권': 987,\n",
       " '신체': 597,\n",
       " '체포': 943,\n",
       " '구속': 235,\n",
       " '압수': 618,\n",
       " '수색': 578,\n",
       " '심문': 601,\n",
       " '적법': 794,\n",
       " '절차': 814,\n",
       " '처벌': 934,\n",
       " '보안처분': 449,\n",
       " '강제': 148,\n",
       " '노역': 319,\n",
       " '고문': 196,\n",
       " '형사': 1055,\n",
       " '자기': 763,\n",
       " '불리': 482,\n",
       " '진술': 912,\n",
       " '강요': 147,\n",
       " '당하': 346,\n",
       " '따라': 379,\n",
       " '검사': 168,\n",
       " '신청': 596,\n",
       " '법관': 436,\n",
       " '발부': 418,\n",
       " '영장': 648,\n",
       " '제시': 837,\n",
       " '다만': 328,\n",
       " '현행범': 1053,\n",
       " '경우': 181,\n",
       " '장기': 778,\n",
       " '이상': 723,\n",
       " '해당': 1033,\n",
       " '범하': 434,\n",
       " '도피': 368,\n",
       " '증거인': 885,\n",
       " '염려': 645,\n",
       " '사후': 516,\n",
       " '청구': 938,\n",
       " '당한': 347,\n",
       " '즉시': 882,\n",
       " '변호인': 444,\n",
       " '조력': 847,\n",
       " '피고인': 1015,\n",
       " '스스로': 585,\n",
       " '구할': 238,\n",
       " '붙인다': 487,\n",
       " '이유': 726,\n",
       " '가족': 130,\n",
       " '일시': 746,\n",
       " '장소': 779,\n",
       " '지체': 900,\n",
       " '없이': 630,\n",
       " '통지': 980,\n",
       " '적부': 795,\n",
       " '심사': 602,\n",
       " '법원': 441,\n",
       " '자백': 766,\n",
       " '폭행': 1009,\n",
       " '협박': 1054,\n",
       " '부당': 466,\n",
       " '기망': 293,\n",
       " '기타': 303,\n",
       " '방법': 425,\n",
       " '자의': 773,\n",
       " '아니': 606,\n",
       " '라고': 383,\n",
       " '정식': 824,\n",
       " '재판': 787,\n",
       " '유일': 690,\n",
       " '증거': 884,\n",
       " '유죄': 692,\n",
       " '거나': 157,\n",
       " '13': 33,\n",
       " '행위': 1040,\n",
       " '범죄': 433,\n",
       " '구성': 233,\n",
       " '소추': 569,\n",
       " '동일': 372,\n",
       " '거듭': 158,\n",
       " '소급': 561,\n",
       " '입법': 759,\n",
       " '정권': 816,\n",
       " '제한': 844,\n",
       " '재산': 781,\n",
       " '박탈': 416,\n",
       " '아닌': 611,\n",
       " '친족': 967,\n",
       " '인하': 742,\n",
       " '이익': 728,\n",
       " '처우': 936,\n",
       " '14': 35,\n",
       " '거주': 160,\n",
       " '이전': 729,\n",
       " '15': 36,\n",
       " '직업': 906,\n",
       " '선택': 547,\n",
       " '16': 37,\n",
       " '거의': 159,\n",
       " '주거': 863,\n",
       " '17': 38,\n",
       " '사생활': 505,\n",
       " '비밀': 491,\n",
       " '18': 39,\n",
       " '통신': 977,\n",
       " '양심': 621,\n",
       " '20': 44,\n",
       " '국교': 240,\n",
       " '분리': 475,\n",
       " '21': 46,\n",
       " '언론': 628,\n",
       " '출판': 964,\n",
       " '집회': 918,\n",
       " '결사': 172,\n",
       " '허가': 1048,\n",
       " '검열': 169,\n",
       " '방송': 426,\n",
       " '시설': 587,\n",
       " '기준': 301,\n",
       " '신문': 591,\n",
       " '기능': 291,\n",
       " '위하': 683,\n",
       " '사항': 513,\n",
       " '타인': 971,\n",
       " '명예': 396,\n",
       " '공중도덕': 210,\n",
       " '윤리': 696,\n",
       " '침해': 969,\n",
       " '여서는': 634,\n",
       " '피해자': 1019,\n",
       " '피해': 1018,\n",
       " '배상': 430,\n",
       " '22': 47,\n",
       " '학문': 1023,\n",
       " '예술': 655,\n",
       " '저작': 792,\n",
       " '발명가': 417,\n",
       " '과학': 217,\n",
       " '기술자': 298,\n",
       " '예술가': 656,\n",
       " '23': 48,\n",
       " '내용': 314,\n",
       " '한계': 1024,\n",
       " '행사': 1039,\n",
       " '공공복리': 202,\n",
       " '적합': 799,\n",
       " '도록': 366,\n",
       " '공공': 201,\n",
       " '의한': 715,\n",
       " '수용': 580,\n",
       " '사용': 509,\n",
       " '보상': 448,\n",
       " '지급': 889,\n",
       " '24': 49,\n",
       " '선거': 535,\n",
       " '25': 50,\n",
       " '공무담임권': 204,\n",
       " '26': 51,\n",
       " '기관': 289,\n",
       " '문서': 409,\n",
       " '청원': 941,\n",
       " '27': 52,\n",
       " '정한': 831,\n",
       " '군인': 266,\n",
       " '군무원': 264,\n",
       " '에서': 632,\n",
       " '중대': 875,\n",
       " '군사': 265,\n",
       " '기밀': 294,\n",
       " '초병': 946,\n",
       " '초소': 947,\n",
       " '유독': 689,\n",
       " '음식물': 703,\n",
       " '공급': 203,\n",
       " '관한': 226,\n",
       " '비상계엄': 492,\n",
       " '선포': 548,\n",
       " '제외': 840,\n",
       " '신속': 594,\n",
       " '상당': 519,\n",
       " '공개': 198,\n",
       " '판결': 994,\n",
       " '확정': 1064,\n",
       " '까지': 308,\n",
       " '무죄': 408,\n",
       " '추정': 961,\n",
       " '당해': 348,\n",
       " '사건': 496,\n",
       " '28': 53,\n",
       " '피의자': 1017,\n",
       " '구금': 232,\n",
       " '불기소': 481,\n",
       " '처분': 935,\n",
       " '29': 54,\n",
       " '직무': 905,\n",
       " '불법행위': 483,\n",
       " '손해': 572,\n",
       " '단체': 336,\n",
       " '자신': 768,\n",
       " '면제': 392,\n",
       " '경찰': 186,\n",
       " '전투': 813,\n",
       " '훈련': 1079,\n",
       " '집행': 917,\n",
       " '관련': 220,\n",
       " '인한': 743,\n",
       " '30': 55,\n",
       " '생명': 527,\n",
       " '로부터': 385,\n",
       " '구조': 236,\n",
       " '31': 56,\n",
       " '교육': 230,\n",
       " '자녀': 764,\n",
       " '적어도': 796,\n",
       " '초등': 945,\n",
       " '무교육': 405,\n",
       " '무상': 406,\n",
       " '자주': 775,\n",
       " '전문': 802,\n",
       " '대학': 359,\n",
       " '평생': 1000,\n",
       " '진흥': 913,\n",
       " '학교': 1022,\n",
       " '포함': 1008,\n",
       " '재정': 785,\n",
       " '교원': 229,\n",
       " '32': 57,\n",
       " '근로': 283,\n",
       " '근로자': 284,\n",
       " '고용': 197,\n",
       " '증진': 888,\n",
       " '적정': 798,\n",
       " '임금': 748,\n",
       " '최저': 956,\n",
       " '임금제': 749,\n",
       " '시행': 590,\n",
       " '조건': 845,\n",
       " '민주주의': 414,\n",
       " '원칙': 674,\n",
       " '여자': 637,\n",
       " '특별': 988,\n",
       " '연소자': 640,\n",
       " '는다': 325,\n",
       " '유공자': 687,\n",
       " '상이군경': 521,\n",
       " '전몰군경': 801,\n",
       " '유가족': 686,\n",
       " '우선': 666,\n",
       " '부여받': 470,\n",
       " '33': 58,\n",
       " '단결권': 333,\n",
       " '단체교섭': 337,\n",
       " '행동': 1037,\n",
       " '한하': 1027,\n",
       " '주요': 867,\n",
       " '방위': 427,\n",
       " '산업체': 517,\n",
       " '종사': 861,\n",
       " '단체행동권': 338,\n",
       " '아니할': 610,\n",
       " '34': 59,\n",
       " '다운': 330,\n",
       " '복지': 460,\n",
       " '권익': 269,\n",
       " '노인': 320,\n",
       " '청소년': 940,\n",
       " '위한': 684,\n",
       " '실시': 599,\n",
       " '신체장애자': 598,\n",
       " '질병': 915,\n",
       " '노령': 318,\n",
       " '사유': 510,\n",
       " '재해': 790,\n",
       " '예방': 651,\n",
       " '위험': 685,\n",
       " '35': 60,\n",
       " '건강': 163,\n",
       " '쾌적': 970,\n",
       " '환경': 1065,\n",
       " '보전': 452,\n",
       " '관하': 225,\n",
       " '주택': 870,\n",
       " '개발': 150,\n",
       " '통하': 981,\n",
       " '36': 61,\n",
       " '혼인': 1059,\n",
       " '양성': 620,\n",
       " '기초': 302,\n",
       " '성립': 551,\n",
       " '모성': 401,\n",
       " '보건': 447,\n",
       " '37': 62,\n",
       " '열거': 644,\n",
       " '아니한': 608,\n",
       " '경시': 179,\n",
       " '본질': 462,\n",
       " '38': 63,\n",
       " '납세': 311,\n",
       " '39': 64,\n",
       " '국방': 249,\n",
       " '병역': 446,\n",
       " '이행': 732,\n",
       " '40': 65,\n",
       " '입법권': 760,\n",
       " '속한다': 571,\n",
       " '41': 66,\n",
       " '보통': 455,\n",
       " '직접': 909,\n",
       " '선출': 546,\n",
       " '국회의원': 262,\n",
       " '200': 45,\n",
       " '선거구': 537,\n",
       " '비례대표제': 489,\n",
       " '42': 67,\n",
       " '임기': 750,\n",
       " '43': 68,\n",
       " '겸할': 175,\n",
       " '44': 69,\n",
       " '회기': 1069,\n",
       " '동의': 371,\n",
       " '요구': 664,\n",
       " '으면': 702,\n",
       " '석방': 534,\n",
       " '45': 70,\n",
       " '행한': 1045,\n",
       " '발언': 420,\n",
       " '표결': 1010,\n",
       " '46': 71,\n",
       " '청렴': 939,\n",
       " '행한다': 1046,\n",
       " '남용': 310,\n",
       " '기업체': 300,\n",
       " '계약': 192,\n",
       " '직위': 907,\n",
       " '취득': 965,\n",
       " '알선': 617,\n",
       " '47': 72,\n",
       " '정기회': 817,\n",
       " '매년': 390,\n",
       " '임시회': 756,\n",
       " '대통령': 355,\n",
       " '의원': 712,\n",
       " '100': 1,\n",
       " '초과': 944,\n",
       " '기간': 288,\n",
       " '명시': 395,\n",
       " '48': 73,\n",
       " '의장': 713,\n",
       " '인과': 734,\n",
       " '부의장': 471,\n",
       " '49': 74,\n",
       " '규정': 273,\n",
       " '과반수': 216,\n",
       " '출석': 963,\n",
       " '찬성': 923,\n",
       " '가부': 127,\n",
       " '동수': 370,\n",
       " '부결': 464,\n",
       " '본다': 461,\n",
       " '50': 75,\n",
       " '회의': 1072,\n",
       " '다고': 327,\n",
       " '공표': 214,\n",
       " '의한다': 716,\n",
       " '51': 76,\n",
       " '제출': 843,\n",
       " '법률안': 440,\n",
       " '의안': 711,\n",
       " '못한': 404,\n",
       " '폐기': 1003,\n",
       " '만료': 389,\n",
       " '그러': 280,\n",
       " '52': 77,\n",
       " '53': 78,\n",
       " '이송': 724,\n",
       " '이내': 719,\n",
       " '이의': 727,\n",
       " '의서': 710,\n",
       " '붙여': 485,\n",
       " '환부': 1066,\n",
       " '재의': 783,\n",
       " '회중': 1073,\n",
       " '또한': 382,\n",
       " '일부': 745,\n",
       " '수정': 581,\n",
       " '붙이': 486,\n",
       " '로서': 386,\n",
       " '경과': 176,\n",
       " '발생': 419,\n",
       " '54': 79,\n",
       " '예산안': 654,\n",
       " '심의': 604,\n",
       " '회계': 1068,\n",
       " '연도': 639,\n",
       " '마다': 388,\n",
       " '편성': 996,\n",
       " '개시': 152,\n",
       " '90': 115,\n",
       " '새로운': 526,\n",
       " '다음': 331,\n",
       " '경비': 177,\n",
       " '전년': 800,\n",
       " '예산': 653,\n",
       " '준하': 874,\n",
       " '설치': 550,\n",
       " '지출': 901,\n",
       " '이미': 721,\n",
       " '사업': 507,\n",
       " '계속': 189,\n",
       " '55': 80,\n",
       " '연한': 643,\n",
       " '계속비': 190,\n",
       " '예비비': 652,\n",
       " '총액': 952,\n",
       " '차기': 920,\n",
       " '56': 81,\n",
       " '변경': 443,\n",
       " '가할': 135,\n",
       " '추가': 959,\n",
       " '경정': 183,\n",
       " '57': 82,\n",
       " '각항': 139,\n",
       " '금액': 286,\n",
       " '증가': 883,\n",
       " '비목': 490,\n",
       " '58': 83,\n",
       " '국채': 258,\n",
       " '모집': 402,\n",
       " '부담': 465,\n",
       " '미리': 411,\n",
       " '59': 84,\n",
       " '조세': 849,\n",
       " '종목': 860,\n",
       " '세율': 557,\n",
       " '60': 85,\n",
       " '상호': 523,\n",
       " '원조': 673,\n",
       " '중요': 879,\n",
       " '우호': 667,\n",
       " '통상항해조약': 975,\n",
       " '제약': 839,\n",
       " '강화': 149,\n",
       " '지우': 897,\n",
       " '비준': 494,\n",
       " '선전': 545,\n",
       " '포고': 1006,\n",
       " '외국': 660,\n",
       " '파견': 992,\n",
       " '군대': 263,\n",
       " '주류': 865,\n",
       " '61': 86,\n",
       " '국정': 255,\n",
       " '감사': 142,\n",
       " '특정': 990,\n",
       " '사안': 506,\n",
       " '조사': 848,\n",
       " '서류': 532,\n",
       " '증인': 887,\n",
       " '증언': 886,\n",
       " '의견': 706,\n",
       " '62': 87,\n",
       " '국무총리': 246,\n",
       " '국무': 245,\n",
       " '위원': 678,\n",
       " '위원회': 680,\n",
       " '처리': 933,\n",
       " '상황': 524,\n",
       " '질문': 914,\n",
       " '응답': 704,\n",
       " '답변': 341,\n",
       " '하여금': 1021,\n",
       " '63': 88,\n",
       " '해임': 1035,\n",
       " '건의': 165,\n",
       " '발의': 421,\n",
       " '64': 89,\n",
       " '저촉': 793,\n",
       " '범위': 432,\n",
       " '내부': 313,\n",
       " '규율': 272,\n",
       " '규칙': 275,\n",
       " '자격': 761,\n",
       " '징계': 919,\n",
       " '제명': 835,\n",
       " '려면': 384,\n",
       " '65': 90,\n",
       " '행정각부': 1042,\n",
       " '재판관': 788,\n",
       " '중앙': 878,\n",
       " '선거관리위원회': 536,\n",
       " '감사원장': 144,\n",
       " '탄핵': 973,\n",
       " '권한': 270,\n",
       " '정지': 826,\n",
       " '결정': 174,\n",
       " '공직': 211,\n",
       " '파면': 993,\n",
       " '그친다': 282,\n",
       " '그러나': 281,\n",
       " '사상': 504,\n",
       " '66': 91,\n",
       " '원수': 671,\n",
       " '대표': 357,\n",
       " '독립': 369,\n",
       " '수호': 583,\n",
       " '책무': 931,\n",
       " '성실': 553,\n",
       " '행정': 1041,\n",
       " '수반': 576,\n",
       " '67': 92,\n",
       " '득표자': 377,\n",
       " '다수표': 329,\n",
       " '당선자': 343,\n",
       " '후보': 1077,\n",
       " '인일': 740,\n",
       " '득표수': 376,\n",
       " '총수': 951,\n",
       " '당선': 342,\n",
       " '피선거권': 1016,\n",
       " '선거일': 539,\n",
       " '현재': 1052,\n",
       " '달하': 340,\n",
       " '68': 93,\n",
       " '70': 95,\n",
       " '내지': 316,\n",
       " '후임자': 1078,\n",
       " '궐위': 271,\n",
       " '사망': 498,\n",
       " '상실': 520,\n",
       " '69': 94,\n",
       " '취임': 966,\n",
       " '즈음': 881,\n",
       " '선서': 543,\n",
       " '보위': 450,\n",
       " '복리': 458,\n",
       " '직책': 910,\n",
       " '성실히': 554,\n",
       " '엄숙히': 629,\n",
       " '합니다': 1028,\n",
       " '중임': 880,\n",
       " '71': 96,\n",
       " '사고': 497,\n",
       " '순서': 584,\n",
       " '대행': 363,\n",
       " '72': 97,\n",
       " '외교': 659,\n",
       " '안위': 614,\n",
       " '붙일': 488,\n",
       " '73': 98,\n",
       " '사절': 511,\n",
       " '신임': 595,\n",
       " '접수': 815,\n",
       " '74': 99,\n",
       " '통수': 976,\n",
       " '75': 100,\n",
       " '구체': 237,\n",
       " '위임': 681,\n",
       " '대통령령': 356,\n",
       " '발할': 423,\n",
       " '76': 101,\n",
       " '내우': 315,\n",
       " '외환': 662,\n",
       " '천재': 937,\n",
       " '지변': 893,\n",
       " '위기': 675,\n",
       " '안녕질서': 613,\n",
       " '긴급': 306,\n",
       " '조치': 853,\n",
       " '기다릴': 292,\n",
       " '여유': 636,\n",
       " '최소한': 955,\n",
       " '명령': 394,\n",
       " '관계': 219,\n",
       " '교전': 231,\n",
       " '상태': 522,\n",
       " '가능': 126,\n",
       " '그때': 279,\n",
       " '부터': 474,\n",
       " '폐지': 1005,\n",
       " '당연히': 345,\n",
       " '회복': 1070,\n",
       " '77': 102,\n",
       " '전시': 803,\n",
       " '사변': 503,\n",
       " '비상사태': 493,\n",
       " '병력': 445,\n",
       " '응하': 705,\n",
       " '계엄': 193,\n",
       " '경비계엄': 178,\n",
       " '통고': 974,\n",
       " '재적': 784,\n",
       " '해제': 1036,\n",
       " '78': 103,\n",
       " '임면': 752,\n",
       " '79': 104,\n",
       " '복권': 457,\n",
       " '명할': 398,\n",
       " '사면': 499,\n",
       " '명하': 397,\n",
       " '80': 105,\n",
       " '수여': 579,\n",
       " '81': 106,\n",
       " '서한': 533,\n",
       " '표시': 1011,\n",
       " '82': 107,\n",
       " '국법': 251,\n",
       " '부서': 468,\n",
       " '83': 108,\n",
       " '공사': 206,\n",
       " '84': 109,\n",
       " '내란': 312,\n",
       " '범한': 435,\n",
       " '재직': 786,\n",
       " '85': 110,\n",
       " '전직': 809,\n",
       " '예우': 657,\n",
       " '행정부': 1043,\n",
       " '86': 111,\n",
       " '임명': 753,\n",
       " '보좌': 454,\n",
       " '통할': 983,\n",
       " '현역': 1051,\n",
       " '면한': 393,\n",
       " '87': 112,\n",
       " '제청': 842,\n",
       " '구성원': 234,\n",
       " '국무회의': 247,\n",
       " '88': 113,\n",
       " '속하': 570,\n",
       " '이하': 731,\n",
       " '89': 114,\n",
       " '거쳐야': 162,\n",
       " '계획': 194,\n",
       " '대외': 354,\n",
       " '개정안': 155,\n",
       " '결산': 173,\n",
       " '국유재산': 254,\n",
       " '감형': 146,\n",
       " '획정': 1074,\n",
       " '정부안': 823,\n",
       " '배정': 431,\n",
       " '평가': 998,\n",
       " '분석': 477,\n",
       " '조정': 851,\n",
       " '회부': 1071,\n",
       " '검찰': 170,\n",
       " '총장': 953,\n",
       " '합동': 1029,\n",
       " '참모': 924,\n",
       " '참모총장': 925,\n",
       " '국립': 244,\n",
       " '대학교': 360,\n",
       " '대사': 352,\n",
       " '국영': 252,\n",
       " '관리자': 222,\n",
       " '자문': 765,\n",
       " '원로': 670,\n",
       " '직전': 908,\n",
       " '지명': 890,\n",
       " '91': 116,\n",
       " '국내': 242,\n",
       " '앞서': 619,\n",
       " '둔다': 375,\n",
       " '주재': 868,\n",
       " '92': 117,\n",
       " '평화통일': 1002,\n",
       " '93': 118,\n",
       " '94': 119,\n",
       " '각부': 137,\n",
       " '95': 120,\n",
       " '소관': 560,\n",
       " '사무': 501,\n",
       " '직권': 904,\n",
       " '총리령': 950,\n",
       " '부령': 467,\n",
       " '96': 121,\n",
       " '감사원': 143,\n",
       " '97': 122,\n",
       " '세입': 558,\n",
       " '세출': 559,\n",
       " '감찰': 145,\n",
       " '소속': 565,\n",
       " '98': 123,\n",
       " '원장': 672,\n",
       " '99': 124,\n",
       " '차년': 921,\n",
       " '결과': 171,\n",
       " '대상': 353,\n",
       " '101': 2,\n",
       " '사법': 502,\n",
       " '대법원': 350,\n",
       " '각급': 136,\n",
       " '102': 3,\n",
       " '대법관': 349,\n",
       " '103': 4,\n",
       " '104': 5,\n",
       " '대법원장': 351,\n",
       " '105': 6,\n",
       " '연임': 641,\n",
       " '정년': 818,\n",
       " '106': 7,\n",
       " '금고': 285,\n",
       " '선고': 541,\n",
       " '정직': 827,\n",
       " '감봉': 141,\n",
       " '심신': 603,\n",
       " '장해': 780,\n",
       " '퇴직': 984,\n",
       " '107': 8,\n",
       " '위반': 676,\n",
       " '여부': 633,\n",
       " '전제': 808,\n",
       " '최종': 957,\n",
       " '전심': 804,\n",
       " '준용': 873,\n",
       " '108': 9,\n",
       " '소송': 566,\n",
       " '109': 10,\n",
       " '심리': 600,\n",
       " '안녕': 612,\n",
       " '방해': 429,\n",
       " '선량': 542,\n",
       " '풍속': 1014,\n",
       " '110': 12,\n",
       " '관할': 227,\n",
       " '상고심': 518,\n",
       " '간첩죄': 140,\n",
       " '포로': 1007,\n",
       " '단심': 335,\n",
       " '사형': 514,\n",
       " '111': 13,\n",
       " '관장': 224,\n",
       " '지방': 891,\n",
       " '자치': 776,\n",
       " '쟁의': 791,\n",
       " '소원': 567,\n",
       " '가진': 132,\n",
       " '112': 14,\n",
       " '가입': 128,\n",
       " '관여': 223,\n",
       " '113': 15,\n",
       " '인용': 739,\n",
       " '관리': 221,\n",
       " '114': 16,\n",
       " '공정': 209,\n",
       " '위원장': 679,\n",
       " '호선': 1058,\n",
       " '법령': 438,\n",
       " '115': 17,\n",
       " '선거인명부': 538,\n",
       " '작성': 777,\n",
       " '지시': 895,\n",
       " '116': 18,\n",
       " '시킬': 589,\n",
       " '117': 19,\n",
       " '주민': 866,\n",
       " '종류': 859,\n",
       " '118': 20,\n",
       " '의회': 717,\n",
       " '선임': 544,\n",
       " '119': 21,\n",
       " '기업': 299,\n",
       " '창의': 929,\n",
       " '존중': 857,\n",
       " '균형': 278,\n",
       " '성장': 555,\n",
       " '안정': 616,\n",
       " '소득': 562,\n",
       " '분배': 476,\n",
       " '시장': 588,\n",
       " '지배': 892,\n",
       " '경제력': 185,\n",
       " '방지': 428,\n",
       " '주체': 869,\n",
       " '통한': 982,\n",
       " '규제': 274,\n",
       " '120': 23,\n",
       " '광물': 228,\n",
       " '지하자원': 902,\n",
       " '수산': 577,\n",
       " '자원': 770,\n",
       " '수력': 574,\n",
       " '이용': 725,\n",
       " '자연력': 769,\n",
       " '일정': 747,\n",
       " '채취': 930,\n",
       " '특허': 991,\n",
       " '국토': 259,\n",
       " '121': 24,\n",
       " '농지': 323,\n",
       " '경자': 182,\n",
       " '유전': 691,\n",
       " '달성': 339,\n",
       " '소작': 568,\n",
       " '금지': 287,\n",
       " '농업': 322,\n",
       " '생산': 528,\n",
       " '제고': 833,\n",
       " ...}"
      ]
     },
     "execution_count": 58,
     "metadata": {},
     "output_type": "execute_result"
    }
   ],
   "source": [
    "cv.vocabulary_"
   ]
  },
  {
   "cell_type": "code",
   "execution_count": null,
   "id": "48be335f-b117-48dc-b4fa-85cf5a6d3122",
   "metadata": {},
   "outputs": [],
   "source": []
  }
 ],
 "metadata": {
  "kernelspec": {
   "display_name": "Python 3",
   "language": "python",
   "name": "python3"
  },
  "language_info": {
   "codemirror_mode": {
    "name": "ipython",
    "version": 3
   },
   "file_extension": ".py",
   "mimetype": "text/x-python",
   "name": "python",
   "nbconvert_exporter": "python",
   "pygments_lexer": "ipython3",
   "version": "3.6.9"
  }
 },
 "nbformat": 4,
 "nbformat_minor": 5
}