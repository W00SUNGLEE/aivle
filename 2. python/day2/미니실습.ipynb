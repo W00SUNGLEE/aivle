{
 "cells": [
  {
   "cell_type": "markdown",
   "id": "d4b89e1a",
   "metadata": {},
   "source": [
    "# 2일차"
   ]
  },
  {
   "cell_type": "markdown",
   "id": "91b9022b",
   "metadata": {},
   "source": [
    "## 미니 실습 1"
   ]
  },
  {
   "cell_type": "code",
   "execution_count": null,
   "id": "d1e00043",
   "metadata": {},
   "outputs": [],
   "source": [
    "def min_of(arr):\n",
    "    return min(arr)\n",
    "\n",
    "t = (4,7,5,6,3.14,1)\n",
    "s = 'string'\n",
    "a = ['DTS', 'AAC', 'FLAC']\n",
    "\n",
    "print(min_of(t))\n",
    "print(min_of(s))\n",
    "print(min_of(a))"
   ]
  },
  {
   "cell_type": "markdown",
   "id": "62fa554b",
   "metadata": {},
   "source": [
    "### f string\n",
    "https://pyformat.info/"
   ]
  },
  {
   "cell_type": "code",
   "execution_count": null,
   "id": "ca3fe63b",
   "metadata": {},
   "outputs": [],
   "source": [
    "ab = 3.14\n",
    "\n",
    "print('{:0>8.2f}'.format(ab))"
   ]
  },
  {
   "cell_type": "markdown",
   "id": "fc4c1455",
   "metadata": {},
   "source": [
    "## 미니 실습 2"
   ]
  },
  {
   "cell_type": "code",
   "execution_count": null,
   "id": "8d8c2e7d",
   "metadata": {},
   "outputs": [],
   "source": [
    "print('리스트를 역순으로 출력합니다.')\n",
    "n = int(input('원소 수를 입력하세요.:'))\n",
    "\n",
    "arr = [0 for _ in range(n)]\n",
    "\n",
    "for i in range(n):\n",
    "    arr[n-1-i] = int(input('x[{}]값을 입력하세요.:'.format(i)))\n",
    "    \n",
    "print('리스트를 역순으로 출력합니다.')\n",
    "\n",
    "for i in range(n):\n",
    "    print('x[{}]={}'.format(i, arr[i]))"
   ]
  },
  {
   "cell_type": "markdown",
   "id": "599624ed",
   "metadata": {},
   "source": [
    "## 미니 실습 3"
   ]
  },
  {
   "cell_type": "code",
   "execution_count": 2,
   "id": "4bf5f02c",
   "metadata": {},
   "outputs": [
    {
     "name": "stdout",
     "output_type": "stream",
     "text": [
      "1\n",
      "검색값 : 13\n",
      "보초법 검색값 : 7\n"
     ]
    }
   ],
   "source": [
    "a = [2, 5, 1, 3, 9, 6, 7]\n",
    "b = [2, 5, 1, 3, 9, 6, 7, 7]\n",
    "\n",
    "n = 7\n",
    "\n",
    "def search(n):\n",
    "    i = 0\n",
    "    count = 0\n",
    "    \n",
    "    while True:\n",
    "        count += 1\n",
    "        if i == len(a)-1:\n",
    "            break\n",
    "            \n",
    "        count += 1\n",
    "        if a[i] == n:\n",
    "            break\n",
    "        \n",
    "        i += 1\n",
    "            \n",
    "    return count\n",
    "\n",
    "def search2(n):\n",
    "    i = 0\n",
    "    count = 0\n",
    "    \n",
    "    while True:           \n",
    "        count += 1\n",
    "        if b[i] == n:\n",
    "            break\n",
    "        \n",
    "        i += 1\n",
    "            \n",
    "    return count\n",
    "\n",
    "print(\"검색값 : {}\".format(search(7)))\n",
    "print(\"보초법 검색값 : {}\".format(search2(7)))"
   ]
  },
  {
   "cell_type": "markdown",
   "id": "d24cf3e6",
   "metadata": {},
   "source": [
    "### 이진 탐색"
   ]
  },
  {
   "cell_type": "code",
   "execution_count": null,
   "id": "35082d79",
   "metadata": {},
   "outputs": [],
   "source": [
    "def bin_search(a, key):\n",
    "    pl = 0\n",
    "    pr = len(a)-1\n",
    "    while True:\n",
    "        pc = (pl + pr) // 2\n",
    "        if a[pc] == key:\n",
    "            return pc\n",
    "        \n",
    "        elif a[pc] < key:\n",
    "            pl = pc + 1\n",
    "            \n",
    "        else:\n",
    "            pr = pc - 1\n",
    "            \n",
    "        if pl > pr:\n",
    "            break\n",
    "    return -1"
   ]
  }
 ],
 "metadata": {
  "kernelspec": {
   "display_name": "Python 3 (ipykernel)",
   "language": "python",
   "name": "python3"
  },
  "language_info": {
   "codemirror_mode": {
    "name": "ipython",
    "version": 3
   },
   "file_extension": ".py",
   "mimetype": "text/x-python",
   "name": "python",
   "nbconvert_exporter": "python",
   "pygments_lexer": "ipython3",
   "version": "3.9.7"
  }
 },
 "nbformat": 4,
 "nbformat_minor": 5
}
