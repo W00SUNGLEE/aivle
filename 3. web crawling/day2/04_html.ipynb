{
 "cells": [
  {
   "cell_type": "markdown",
   "id": "d6cf43d8-7587-4af7-9aea-b649afb3dbe5",
   "metadata": {},
   "source": [
    "### html\n",
    "- 웹문서를 작성하는 언어\n",
    "- 구성요소\n",
    "    - Document : 한페이지를 나타내는 코드\n",
    "    - Element : 하나의 레이아웃 : Element가 모여서 Document를 만듬\n",
    "    - Tag : Element의 종류를 정의 : 시작태그 + 끝태그 = Element\n",
    "    - Attribute : 속성값 : 시작태그에서 태그의 기능 정의\n",
    "        - id : element를 지정하는 페이지 내에서 유일한 값\n",
    "        - class : element를 지정하는 값으로 페이지 내에서 여러개 사용 가능\n",
    "        - attr : id, class 를 제외한 나머지 속성값\n",
    "    - Text : 시작태그와 끝태그 사이의 문자열\n",
    "- 엘리먼트는 계층적 구조를 갖습니다."
   ]
  },
  {
   "cell_type": "code",
   "execution_count": 7,
   "id": "757bc000-d6bc-45de-b6f1-e44910797594",
   "metadata": {},
   "outputs": [
    {
     "data": {
      "text/html": [
       "<div class=\"wrapper\">\n",
       "    <button id=\"b1\" class=\"btn no1\" value=\"1\">HTML_1</button>\n",
       "    <button id=\"b2\" class=\"btn no2\" value=\"2\">HTML_2</button>\n",
       "    <p>HTML_3</p>\n",
       "</div>\n"
      ],
      "text/plain": [
       "<IPython.core.display.HTML object>"
      ]
     },
     "metadata": {},
     "output_type": "display_data"
    }
   ],
   "source": [
    "%%html\n",
    "<div class=\"wrapper\">\n",
    "    <button id=\"b1\" class=\"btn no1\" value=\"1\">HTML_1</button>\n",
    "    <button id=\"b2\" class=\"btn no2\" value=\"2\">HTML_2</button>\n",
    "    <p>HTML_3</p>\n",
    "</div>"
   ]
  },
  {
   "cell_type": "markdown",
   "id": "98f98147-9e25-4690-b101-a17df437bfb6",
   "metadata": {},
   "source": [
    "### HTML 태그 종류"
   ]
  },
  {
   "cell_type": "code",
   "execution_count": 8,
   "id": "410de580-82ed-4a64-a4d6-077bd391f0e1",
   "metadata": {},
   "outputs": [],
   "source": [
    "# p : 한줄의 문자열 출력"
   ]
  },
  {
   "cell_type": "code",
   "execution_count": 9,
   "id": "d3fb9629-0b51-44fd-81b6-0af851a75902",
   "metadata": {},
   "outputs": [
    {
     "data": {
      "text/html": [
       "<p>python 1</p>\n",
       "<p>python 2</p>\n"
      ],
      "text/plain": [
       "<IPython.core.display.HTML object>"
      ]
     },
     "metadata": {},
     "output_type": "display_data"
    }
   ],
   "source": [
    "%%html\n",
    "<p>python 1</p>\n",
    "<p>python 2</p>"
   ]
  },
  {
   "cell_type": "code",
   "execution_count": null,
   "id": "ccf60985-187f-4b76-96d5-b0ead00c2bf0",
   "metadata": {},
   "outputs": [],
   "source": [
    "# span : 한 블럭의 문자열 출력"
   ]
  },
  {
   "cell_type": "code",
   "execution_count": 11,
   "id": "6860c24e-9a70-4578-aae3-2a3349967385",
   "metadata": {},
   "outputs": [
    {
     "data": {
      "text/html": [
       "<span>python 1</span>\n",
       "<span>python 2</span>\n"
      ],
      "text/plain": [
       "<IPython.core.display.HTML object>"
      ]
     },
     "metadata": {},
     "output_type": "display_data"
    }
   ],
   "source": [
    "%%html\n",
    "<span>python 1</span>\n",
    "<span>python 2</span>"
   ]
  },
  {
   "cell_type": "code",
   "execution_count": null,
   "id": "590542a7-1f34-4777-bc08-9653bc7e96f3",
   "metadata": {},
   "outputs": [],
   "source": [
    "# ul, li : 리스트 문자열 출력"
   ]
  },
  {
   "cell_type": "code",
   "execution_count": 14,
   "id": "18694a94-cadc-41a3-864e-40763887573b",
   "metadata": {},
   "outputs": [
    {
     "data": {
      "text/html": [
       "<ul>\n",
       "    <li>python 1</li>\n",
       "    <li>python 2</li>\n",
       "</ul>\n"
      ],
      "text/plain": [
       "<IPython.core.display.HTML object>"
      ]
     },
     "metadata": {},
     "output_type": "display_data"
    }
   ],
   "source": [
    "%%html\n",
    "<ul>\n",
    "    <li>python 1</li>\n",
    "    <li>python 2</li>\n",
    "</ul>"
   ]
  },
  {
   "cell_type": "code",
   "execution_count": 15,
   "id": "a16a5aaf-1b7f-4bad-aa89-5dbeff72b4ff",
   "metadata": {},
   "outputs": [],
   "source": [
    "# a : 링크를 나타내는 태그"
   ]
  },
  {
   "cell_type": "code",
   "execution_count": 18,
   "id": "36dde336-ba43-4cb1-b92b-3929e35cd633",
   "metadata": {},
   "outputs": [
    {
     "data": {
      "text/html": [
       "<a href=\"https://naver.com\" target=\"_blink\">\n",
       "    Click\n",
       "</a>\n"
      ],
      "text/plain": [
       "<IPython.core.display.HTML object>"
      ]
     },
     "metadata": {},
     "output_type": "display_data"
    }
   ],
   "source": [
    "%%html\n",
    "<a href=\"https://naver.com\" target=\"_blink\">\n",
    "    Click\n",
    "</a>"
   ]
  },
  {
   "cell_type": "code",
   "execution_count": null,
   "id": "e61315cd-3d9e-4e26-a02a-bb79f6439603",
   "metadata": {},
   "outputs": [],
   "source": [
    "# img : 이미지를 출력하는 태그"
   ]
  },
  {
   "cell_type": "code",
   "execution_count": 19,
   "id": "b15bd02a-8765-453b-a993-6e492867cd4d",
   "metadata": {},
   "outputs": [
    {
     "data": {
      "text/html": [
       "<img src=\"https://cfm.kt.com/images/v2/layout/gnb-ktlogo.png\">\n",
       "</img>\n"
      ],
      "text/plain": [
       "<IPython.core.display.HTML object>"
      ]
     },
     "metadata": {},
     "output_type": "display_data"
    }
   ],
   "source": [
    "%%html\n",
    "<img src=\"https://cfm.kt.com/images/v2/layout/gnb-ktlogo.png\">\n",
    "</img>"
   ]
  },
  {
   "cell_type": "code",
   "execution_count": 20,
   "id": "b3faab70-e136-4bb0-abf8-8da7099815b2",
   "metadata": {},
   "outputs": [],
   "source": [
    "# iframe : 외부 URL 링크에 해당하는 웹페이지를 출력"
   ]
  },
  {
   "cell_type": "code",
   "execution_count": 25,
   "id": "b2e6999b-8211-4166-845a-331405b27486",
   "metadata": {},
   "outputs": [
    {
     "data": {
      "text/html": [
       "<iframe src=\"https://kt.com\" width=\"100%\" heignt=\"400px\"/>\n"
      ],
      "text/plain": [
       "<IPython.core.display.HTML object>"
      ]
     },
     "metadata": {},
     "output_type": "display_data"
    }
   ],
   "source": [
    "%%html\n",
    "<iframe src=\"https://kt.com\" width=\"100%\" heignt=\"400px\"/>"
   ]
  },
  {
   "cell_type": "code",
   "execution_count": 29,
   "id": "9249919b-52c6-4d19-a748-173d926e8be6",
   "metadata": {},
   "outputs": [],
   "source": [
    "# div : 레이아웃을 나타내는 태크"
   ]
  },
  {
   "cell_type": "code",
   "execution_count": 28,
   "id": "d53d162c-98fd-46c7-b882-ed66b5bbcfa2",
   "metadata": {},
   "outputs": [
    {
     "data": {
      "text/html": [
       "<div>\n",
       "    <p>python 1</p>\n",
       "    <p>python 2</p>\n",
       "</div>\n",
       "<div>\n",
       "    <p>python 3</p>\n",
       "</div>\n"
      ],
      "text/plain": [
       "<IPython.core.display.HTML object>"
      ]
     },
     "metadata": {},
     "output_type": "display_data"
    }
   ],
   "source": [
    "%%html\n",
    "<div>\n",
    "    <p>python 1</p>\n",
    "    <p>python 2</p>\n",
    "</div>\n",
    "<div>\n",
    "    <p>python 3</p>\n",
    "</div>"
   ]
  },
  {
   "cell_type": "code",
   "execution_count": 36,
   "id": "fccb1b4a-296c-4596-9349-72400a68d972",
   "metadata": {},
   "outputs": [
    {
     "data": {
      "text/html": [
       "<table>\n",
       "    <caption>제목</caption>\n",
       "    <thead>\n",
       "        <tr>\n",
       "            <th>column1</th>\n",
       "            <th>column2</th>\n",
       "        </tr>\n",
       "    </thead>\n",
       "    <tbody>\n",
       "        <tr>\n",
       "            <th>column3</th>\n",
       "            <th>column4</th>\n",
       "        </tr>\n",
       "        <tr>\n",
       "            <th>column5</th>\n",
       "            <th>column6</th>\n",
       "        </tr>\n",
       "    </tbody>\n",
       "</table>\n"
      ],
      "text/plain": [
       "<IPython.core.display.HTML object>"
      ]
     },
     "metadata": {},
     "output_type": "display_data"
    }
   ],
   "source": [
    "%%html\n",
    "<table>\n",
    "    <caption>제목</caption>\n",
    "    <thead>\n",
    "        <tr>\n",
    "            <th>column1</th>\n",
    "            <th>column2</th>\n",
    "        </tr>\n",
    "    </thead>\n",
    "    <tbody>\n",
    "        <tr>\n",
    "            <th>column3</th>\n",
    "            <th>column4</th>\n",
    "        </tr>\n",
    "        <tr>\n",
    "            <th>column5</th>\n",
    "            <th>column6</th>\n",
    "        </tr>\n",
    "    </tbody>\n",
    "</table>\n"
   ]
  },
  {
   "cell_type": "code",
   "execution_count": null,
   "id": "bf4da6f8-8d2c-41ef-b47b-0b57439c7b86",
   "metadata": {},
   "outputs": [],
   "source": [
    "# 부동소수점 에러"
   ]
  },
  {
   "cell_type": "code",
   "execution_count": 37,
   "id": "3e14ab7f-f51d-448a-b548-086a467b020e",
   "metadata": {},
   "outputs": [
    {
     "name": "stdout",
     "output_type": "stream",
     "text": [
      "0.1 0.2\n"
     ]
    }
   ],
   "source": [
    "data1, data2 = 0.1, 0.2\n",
    "print(data1, data2)"
   ]
  },
  {
   "cell_type": "code",
   "execution_count": 38,
   "id": "87a90b1a-a194-4225-8e12-1ac546366b6d",
   "metadata": {},
   "outputs": [
    {
     "data": {
      "text/plain": [
       "False"
      ]
     },
     "execution_count": 38,
     "metadata": {},
     "output_type": "execute_result"
    }
   ],
   "source": [
    "(data1 + data2) == 0.3"
   ]
  },
  {
   "cell_type": "code",
   "execution_count": 39,
   "id": "97f0ae58-f8d8-43eb-a111-c745a7f92573",
   "metadata": {},
   "outputs": [
    {
     "data": {
      "text/plain": [
       "0.30000000000000004"
      ]
     },
     "execution_count": 39,
     "metadata": {},
     "output_type": "execute_result"
    }
   ],
   "source": [
    "data1 + data2"
   ]
  },
  {
   "cell_type": "code",
   "execution_count": 41,
   "id": "4ec2c5b3-47ad-4eb4-aa38-b3dd31f00800",
   "metadata": {},
   "outputs": [
    {
     "data": {
      "text/plain": [
       "(0.3, True)"
      ]
     },
     "execution_count": 41,
     "metadata": {},
     "output_type": "execute_result"
    }
   ],
   "source": [
    "# 해결방법 : 반올림 사용 : round\\\n",
    "round(data1 + data2, 1), round(data1 + data2, 1) == 0.3"
   ]
  },
  {
   "cell_type": "code",
   "execution_count": 49,
   "id": "31b0cf63-861b-47b9-8faa-e4d1a65e0b1d",
   "metadata": {},
   "outputs": [
    {
     "data": {
      "text/plain": [
       "0.3"
      ]
     },
     "execution_count": 49,
     "metadata": {},
     "output_type": "execute_result"
    }
   ],
   "source": [
    "# 해결방법2 : 교정소수점 방식으로 연산\n",
    "from decimal import Decimal\n",
    "float(Decimal(str(data1)) + Decimal(str(data2)))"
   ]
  },
  {
   "cell_type": "code",
   "execution_count": 52,
   "id": "1684ac48-df4e-4fca-a3af-769a474bfd79",
   "metadata": {},
   "outputs": [
    {
     "data": {
      "text/plain": [
       "5.551115123125783e-17"
      ]
     },
     "execution_count": 52,
     "metadata": {},
     "output_type": "execute_result"
    }
   ],
   "source": [
    "(data1 + data2) - 0.3 "
   ]
  },
  {
   "cell_type": "code",
   "execution_count": null,
   "id": "b87401a4-eac3-4a6c-8bac-50173e019a91",
   "metadata": {},
   "outputs": [],
   "source": []
  }
 ],
 "metadata": {
  "kernelspec": {
   "display_name": "Python 3 (ipykernel)",
   "language": "python",
   "name": "python3"
  },
  "language_info": {
   "codemirror_mode": {
    "name": "ipython",
    "version": 3
   },
   "file_extension": ".py",
   "mimetype": "text/x-python",
   "name": "python",
   "nbconvert_exporter": "python",
   "pygments_lexer": "ipython3",
   "version": "3.9.7"
  }
 },
 "nbformat": 4,
 "nbformat_minor": 5
}
