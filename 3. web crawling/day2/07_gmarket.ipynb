{
 "cells": [
  {
   "cell_type": "markdown",
   "id": "95053547-de0b-4f36-8a81-e97ec973df3e",
   "metadata": {},
   "source": [
    "### gmarket\n",
    "    - 베스트 상품 200개 수집"
   ]
  },
  {
   "cell_type": "code",
   "execution_count": 1,
   "id": "28847be5-2262-4aad-bccf-ef9de504fa3c",
   "metadata": {},
   "outputs": [],
   "source": [
    "import pandas as pd\n",
    "import requests\n",
    "from bs4 import BeautifulSoup"
   ]
  },
  {
   "cell_type": "code",
   "execution_count": 2,
   "id": "a9131ddb-d269-4236-b31d-a53aa145153c",
   "metadata": {},
   "outputs": [],
   "source": [
    "# 1. URL"
   ]
  },
  {
   "cell_type": "code",
   "execution_count": 6,
   "id": "151bd3dc-8f18-4d31-af4a-18c78620ae12",
   "metadata": {},
   "outputs": [
    {
     "data": {
      "text/plain": [
       "'http://corners.gmarket.co.kr/Bestsellers'"
      ]
     },
     "execution_count": 6,
     "metadata": {},
     "output_type": "execute_result"
    }
   ],
   "source": [
    "url = \"http://corners.gmarket.co.kr/Bestsellers\"\n",
    "url"
   ]
  },
  {
   "cell_type": "code",
   "execution_count": 3,
   "id": "5c4a815c-1261-4f3f-aed5-8069e31c1d0e",
   "metadata": {},
   "outputs": [],
   "source": [
    "# 2. requests > response : HTML(str)"
   ]
  },
  {
   "cell_type": "code",
   "execution_count": 10,
   "id": "cd24cf10-b2d4-48b0-a848-8ba78f9ebed8",
   "metadata": {},
   "outputs": [
    {
     "data": {
      "text/plain": [
       "<Response [200]>"
      ]
     },
     "execution_count": 10,
     "metadata": {},
     "output_type": "execute_result"
    }
   ],
   "source": [
    "response = requests.get(url)\n",
    "response"
   ]
  },
  {
   "cell_type": "code",
   "execution_count": 11,
   "id": "6e00e191-cb21-4c99-aa8b-dde768b14ddf",
   "metadata": {},
   "outputs": [
    {
     "data": {
      "text/plain": [
       "'<!DOCTYPE HTML PUBLIC \"-//W3C//DTD HTML 4.01 Transitional//EN\" \"http://www.w3.org/TR/html4/loose.dtd\">\\r\\n<html lang=\"ko\">\\r\\n<head>\\r\\n\\t<title>G마켓 - G마켓 베스트</title>\\r\\n\\t<meta http-equiv=\"X-UA-Compatible\" content=\"IE=edge\" />\\r\\n\\t<meta http-equiv=\"content-type\" content=\"text/html; charset=utf-8\" />\\r\\n\\t<meta http-equiv=\"content-style-type\" content=\"text/css\" />\\r\\n\\t<meta http-equiv=\"content-script-type\" content=\"text/javascript\" />\\r\\n\\t<meta http-equiv=\"imagetoolbar\" content=\"no\" />\\r\\n\\t<meta id=\"viewport\" name=\"'"
      ]
     },
     "execution_count": 11,
     "metadata": {},
     "output_type": "execute_result"
    }
   ],
   "source": [
    "response.text[:500]"
   ]
  },
  {
   "cell_type": "code",
   "execution_count": 4,
   "id": "17d8a3ad-e558-44dd-a2f8-1aa729403f58",
   "metadata": {},
   "outputs": [],
   "source": [
    "# 3. HTML(str) > BeautifulSoup Object"
   ]
  },
  {
   "cell_type": "code",
   "execution_count": 17,
   "id": "55792219-b7dc-4ca2-b55e-7f89304839e7",
   "metadata": {},
   "outputs": [
    {
     "data": {
      "text/plain": [
       "bs4.BeautifulSoup"
      ]
     },
     "execution_count": 17,
     "metadata": {},
     "output_type": "execute_result"
    }
   ],
   "source": [
    "dom = BeautifulSoup(response.text, \"html.parser\")\n",
    "type(dom)"
   ]
  },
  {
   "cell_type": "code",
   "execution_count": 20,
   "id": "7937c4d0-7b24-4f22-83f8-e8090c56b8e5",
   "metadata": {},
   "outputs": [
    {
     "data": {
      "text/plain": [
       "200"
      ]
     },
     "execution_count": 20,
     "metadata": {},
     "output_type": "execute_result"
    }
   ],
   "source": [
    "# select() : 엘리먼트 여러개 선택\n",
    "# select_one() : 엘리먼트 한개 선택\n",
    "elements = dom.select(\"#gBestWrap > div > div:nth-child(5) > div > ul > li\")\n",
    "len(elements)"
   ]
  },
  {
   "cell_type": "code",
   "execution_count": 24,
   "id": "2cac9d2a-489d-4315-94b0-f4f1d5a573a8",
   "metadata": {},
   "outputs": [
    {
     "data": {
      "text/plain": [
       "<li class=\"first\">\n",
       "<p class=\"no1\" id=\"no1\">1</p>\n",
       "<div class=\"thumb\">\n",
       "<a href=\"http://item.gmarket.co.kr/Item?goodscode=1798110680&amp;ver=637952284067683932\" onclick=\"pdsClickLog('200000680', 'Item', {'ASN': 1, 'goodsCode': '1798110680'});\"><img alt=\"[한상궁김치]한상궁김치 국산 겉절이 2kg 출고당일생산\" class=\"lazy\" data-original=\"//gdimg.gmarket.co.kr/1798110680/still/300?ver=2022080416\" height=\"210\" src=\"//image.gmarket.co.kr/challenge/neo_image/no_image.gif\" width=\"210\"/></a>\n",
       "</div>\n",
       "<!--div class=\"goods-view\">\n",
       "\t\t\t\t\t\t\t\t\t<a href=\"http://minishop.gmarket.co.kr/hansanggungfood\"><span class=\"view\">판매자 다른상품 보기</span>맛있는한상궁</a>\n",
       "\t\t\t\t\t\t\t\t</div-->\n",
       "<a class=\"itemname\" href=\"http://item.gmarket.co.kr/Item?goodscode=1798110680&amp;ver=637952284067683932\" onclick=\"pdsClickLog('200000680', 'Item', {'ASN': 1, 'goodsCode': '1798110680'});\">[한상궁김치]한상궁김치 국산 겉절이 2kg 출고당일생산</a>\n",
       "<div class=\"item_price\">\n",
       "<div class=\"o-price\"><span><span>23,400원</span></span></div>\n",
       "<div class=\"s-price\">\n",
       "<strong><span><span>11,000원</span></span></strong>\n",
       "<span><span class=\"sale\"></span><em>52%</em></span>\n",
       "</div>\n",
       "<div class=\"icon\">\n",
       "<img alt=\"무료배송\" src=\"//pics.gmkt.kr/pc/ko/corner/gbest/ic_freeshipping.gif\"/>\n",
       "</div>\n",
       "</div>\n",
       "</li>"
      ]
     },
     "execution_count": 24,
     "metadata": {},
     "output_type": "execute_result"
    }
   ],
   "source": [
    "elements[0]"
   ]
  },
  {
   "cell_type": "code",
   "execution_count": 5,
   "id": "80fd2e5e-fdd9-49b4-afdb-27ac4dd19d35",
   "metadata": {},
   "outputs": [],
   "source": [
    "# 4. BeautifulSoup Object > css-selector > DataFrame"
   ]
  },
  {
   "cell_type": "code",
   "execution_count": 35,
   "id": "21bf8607-d3cf-4421-918a-e6913abd3f19",
   "metadata": {},
   "outputs": [
    {
     "name": "stdout",
     "output_type": "stream",
     "text": [
      "['[한상궁김치]한상궁김치 국산 겉절이 2kg 출고당일생산', '[광동]아이스웨일 레몬라임 탄산수 500ml 40pet/음료/음료수', '[바디스토리]남성 누디5매 냉감 쿨 드로즈 남자 아이스 사각 팬티 / 무료반품+10%+15%할인', '(쌀가게) (광주신세계)[주문폭증으로 순차적 출고 예정] [2021년 햅쌀] 쌀가게  수향미 (특등급 )10KG', '[이지바이](무료반품)균일6900원/남녀 쿨론티셔츠/반바지/추리닝']\n"
     ]
    }
   ],
   "source": [
    "keywords = []\n",
    "for element in elements:\n",
    "    keyword = element.select_one(\".itemname\").text\n",
    "    \n",
    "    keywords.append(keyword)\n",
    "    \n",
    "print(keywords[:5])"
   ]
  },
  {
   "cell_type": "code",
   "execution_count": 28,
   "id": "f4b32ce3-9426-42d2-ac30-5dda70187593",
   "metadata": {},
   "outputs": [
    {
     "name": "stdout",
     "output_type": "stream",
     "text": [
      "['[한상궁김치]한상궁김치 국산 겉절이 2kg 출고당일생산', '[광동]아이스웨일 레몬라임 탄산수 500ml 40pet/음료/음료수', '[바디스토리]남성 누디5매 냉감 쿨 드로즈 남자 아이스 사각 팬티 / 무료반품+10%+15%할인', '(쌀가게) (광주신세계)[주문폭증으로 순차적 출고 예정] [2021년 햅쌀] 쌀가게  수향미 (특등급 )10KG', '[이지바이](무료반품)균일6900원/남녀 쿨론티셔츠/반바지/추리닝']\n"
     ]
    }
   ],
   "source": [
    "keywords = [element.select_one(\".itemname\").text for element in elements]\n",
    "print(keywords[:5])"
   ]
  },
  {
   "cell_type": "code",
   "execution_count": 55,
   "id": "ecb54b48-f91e-4faa-8d35-161ecbc4f1dc",
   "metadata": {},
   "outputs": [
    {
     "data": {
      "text/plain": [
       "{'title': '김치메밀전병900gx2봉1.8kg/만두 간식 메밀 2봉/HACCP/',\n",
       " 'o_price': '19,900원',\n",
       " 's_price': '12,500원',\n",
       " 'img': '//gdimg.gmarket.co.kr/1521852173/still/300?ver=2022080416'}"
      ]
     },
     "execution_count": 55,
     "metadata": {},
     "output_type": "execute_result"
    }
   ],
   "source": [
    "elemente = elements[0]\n",
    "\n",
    "data = {\n",
    "    \"title\": element.select_one(\".itemname\").text,\n",
    "    \"o_price\": element.select_one(\".o-price\").text, \n",
    "    \"s_price\": element.select_one(\".s-price > strong\").text, \n",
    "    \"img\": element.select_one(\"img\").get(\"data-original\"),\n",
    "}\n",
    "data"
   ]
  },
  {
   "cell_type": "code",
   "execution_count": 48,
   "id": "ac2553fd-668b-4b56-a61d-ac64bd2bffc8",
   "metadata": {},
   "outputs": [
    {
     "name": "stdout",
     "output_type": "stream",
     "text": [
      "{'title': '[한상궁김치]한상궁김치 국산 겉절이 2kg 출고당일생산', 'o_price': '23,400원', 's_price': '11,000원', 'img': 'http://gdimg.gmarket.co.kr/1798110680/still/300?ver=2022080416'}\n"
     ]
    }
   ],
   "source": [
    "items = []\n",
    "for element in elements:\n",
    "    data = {\n",
    "        \"title\": element.select_one(\".itemname\").text,\n",
    "        \"o_price\": element.select_one(\".o-price\").text, \n",
    "        \"s_price\": element.select_one(\".s-price > strong\").text, \n",
    "        \"img\": \"http:\" + element.select_one(\"img\").get(\"data-original\"),\n",
    "    }\n",
    "    items.append(data)\n",
    "    \n",
    "print(items[0])"
   ]
  },
  {
   "cell_type": "code",
   "execution_count": 44,
   "id": "29ea4428-f28c-4b18-9a67-514d9f8d0ce2",
   "metadata": {},
   "outputs": [
    {
     "data": {
      "text/html": [
       "<div>\n",
       "<style scoped>\n",
       "    .dataframe tbody tr th:only-of-type {\n",
       "        vertical-align: middle;\n",
       "    }\n",
       "\n",
       "    .dataframe tbody tr th {\n",
       "        vertical-align: top;\n",
       "    }\n",
       "\n",
       "    .dataframe thead th {\n",
       "        text-align: right;\n",
       "    }\n",
       "</style>\n",
       "<table border=\"1\" class=\"dataframe\">\n",
       "  <thead>\n",
       "    <tr style=\"text-align: right;\">\n",
       "      <th></th>\n",
       "      <th>title</th>\n",
       "      <th>o_price</th>\n",
       "      <th>s_price</th>\n",
       "      <th>img</th>\n",
       "    </tr>\n",
       "  </thead>\n",
       "  <tbody>\n",
       "    <tr>\n",
       "      <th>198</th>\n",
       "      <td>주니어김영사 놓지 마 어휘 한자어 1 2 3 4 번 전4권 세트</td>\n",
       "      <td>81,000원</td>\n",
       "      <td>55,200원</td>\n",
       "      <td>http://gdimg.gmarket.co.kr/2298871614/still/30...</td>\n",
       "    </tr>\n",
       "    <tr>\n",
       "      <th>199</th>\n",
       "      <td>김치메밀전병900gx2봉1.8kg/만두 간식 메밀 2봉/HACCP/</td>\n",
       "      <td>19,900원</td>\n",
       "      <td>12,500원</td>\n",
       "      <td>http://gdimg.gmarket.co.kr/1521852173/still/30...</td>\n",
       "    </tr>\n",
       "  </tbody>\n",
       "</table>\n",
       "</div>"
      ],
      "text/plain": [
       "                                     title  o_price  s_price  \\\n",
       "198    주니어김영사 놓지 마 어휘 한자어 1 2 3 4 번 전4권 세트  81,000원  55,200원   \n",
       "199  김치메밀전병900gx2봉1.8kg/만두 간식 메밀 2봉/HACCP/  19,900원  12,500원   \n",
       "\n",
       "                                                   img  \n",
       "198  http://gdimg.gmarket.co.kr/2298871614/still/30...  \n",
       "199  http://gdimg.gmarket.co.kr/1521852173/still/30...  "
      ]
     },
     "execution_count": 44,
     "metadata": {},
     "output_type": "execute_result"
    }
   ],
   "source": [
    "df = pd.DataFrame(items)\n",
    "df.tail(2)"
   ]
  },
  {
   "cell_type": "code",
   "execution_count": 45,
   "id": "514fc2e0-c182-4b53-870d-0f2279331d8f",
   "metadata": {},
   "outputs": [],
   "source": [
    "# summary\n",
    "# 웹 페이지의 종류\n",
    "# - 동적페이지 : URL 변경 없이 웹 페이지 데이터 변경 : JSON : API\n",
    "# - 정적페이지 : URL 변경 해서 웹 페이지 데이터 변경 : HTML : BeatifulSoup(css selector)"
   ]
  },
  {
   "cell_type": "code",
   "execution_count": 46,
   "id": "09cab727-0277-45ed-96bc-d6d7cc3d8ff6",
   "metadata": {},
   "outputs": [],
   "source": [
    "# 실습\n",
    "# naver api : 검색어 트랜드\n",
    "# zigbang : 원룸 데이터 수집\n",
    "# daum exchange : headers(user-agent, referer)\n",
    "# html, css-selector\n",
    "# naver relational keyword\n",
    "# gmarket items"
   ]
  },
  {
   "cell_type": "code",
   "execution_count": null,
   "id": "8af532e7-f1c4-41fc-8933-5ebe5cc330f8",
   "metadata": {},
   "outputs": [],
   "source": [
    "# crawling images\n",
    "# crawling selenium\n",
    "# xpath\n",
    "# python web crawling f.w. : scrapy"
   ]
  }
 ],
 "metadata": {
  "kernelspec": {
   "display_name": "Python 3 (ipykernel)",
   "language": "python",
   "name": "python3"
  },
  "language_info": {
   "codemirror_mode": {
    "name": "ipython",
    "version": 3
   },
   "file_extension": ".py",
   "mimetype": "text/x-python",
   "name": "python",
   "nbconvert_exporter": "python",
   "pygments_lexer": "ipython3",
   "version": "3.9.7"
  }
 },
 "nbformat": 4,
 "nbformat_minor": 5
}
