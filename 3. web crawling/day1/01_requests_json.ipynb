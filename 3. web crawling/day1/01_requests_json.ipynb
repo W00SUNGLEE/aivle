{
 "cells": [
  {
   "cell_type": "markdown",
   "id": "4cc9bc1b-b783-4104-b8a6-9e2730ad1fcc",
   "metadata": {},
   "source": [
    "### WebCrawing\n",
    "- 웹페이지의 종류\n",
    "    - 정적페이지: 페이지의 데이터가 변경될때 URL이 변경 O -> html 수집\n",
    "    https://news.naver.com/\n",
    "    - 동적페이지: 페이지의 데이터가 변경될때 URL이 변경 X -> json 수집\n",
    "    페이지내에 더보기 같은 경우, json으로 데이터를 받아와 상황에 따라 데이터 출력\n",
    "\n",
    "- requests package\n",
    "    - 브라우저의 URL을 입력하면 서버에서 데이터를 다운받아 화면에 출력 : URL -> DATA\n",
    "    - requests 패키지 : URL -> DATA"
   ]
  },
  {
   "cell_type": "markdown",
   "id": "009beeb2-4c46-456f-978b-c9d23d39feb6",
   "metadata": {
    "tags": []
   },
   "source": [
    "### Naver Stock Data\n",
    "- Kospi 지수\n",
    "- Kosdaq 지수\n",
    "- USD : 원달러 환율"
   ]
  },
  {
   "cell_type": "code",
   "execution_count": 4,
   "id": "b3f0cb00-db1b-41a6-b567-51c70f44e764",
   "metadata": {},
   "outputs": [],
   "source": [
    "import requests\n",
    "import pandas as pd"
   ]
  },
  {
   "cell_type": "markdown",
   "id": "b9e4e7ca-c595-4643-be51-80b61ffb60ba",
   "metadata": {},
   "source": [
    "### 1. 웹서비스를 분석 : 크롬 개발자 도구 : URL"
   ]
  },
  {
   "cell_type": "markdown",
   "id": "b2722efd-2024-4599-a825-d5a046726abd",
   "metadata": {},
   "source": [
    "https://m.stock.naver.com/domestic/index/KOSPI"
   ]
  },
  {
   "cell_type": "code",
   "execution_count": 86,
   "id": "9c5ba6fd-34af-4a0b-b152-94bfe031005c",
   "metadata": {},
   "outputs": [],
   "source": [
    "url = \"https://m.stock.naver.com/api/index/KOSPI/price?pageSize=20&page=6\""
   ]
  },
  {
   "cell_type": "markdown",
   "id": "f040f51d-8a01-4d2a-b2e9-ef130a08ba5d",
   "metadata": {},
   "source": [
    "### 2. request > response : JSON(str)"
   ]
  },
  {
   "cell_type": "code",
   "execution_count": 87,
   "id": "ca00482f-1f78-41f7-b86c-ed7da07fc54f",
   "metadata": {},
   "outputs": [
    {
     "data": {
      "text/plain": [
       "<Response [200]>"
      ]
     },
     "execution_count": 87,
     "metadata": {},
     "output_type": "execute_result"
    }
   ],
   "source": [
    "response = requests.get(url)\n",
    "response"
   ]
  },
  {
   "cell_type": "code",
   "execution_count": 106,
   "id": "fc79c33c-ff3c-4401-8988-dfead06fd5cc",
   "metadata": {},
   "outputs": [
    {
     "data": {
      "text/plain": [
       "'[{\"localTradedAt\":\"2022-07-06\",\"closePrice\":\"744.63\",\"compareToPreviousClosePrice\":\"-6.32\",\"compareToPreviousPrice\":{\"code\":\"5\",\"text\":\"하락\",\"name\":\"FALLING\"},\"fluctuationsRatio\":\"-0.84\",\"openPrice\":\"7'"
      ]
     },
     "execution_count": 106,
     "metadata": {},
     "output_type": "execute_result"
    }
   ],
   "source": [
    "response.text[0:200]"
   ]
  },
  {
   "cell_type": "markdown",
   "id": "41fc3bcf-ed39-477b-abc9-d79e2a858819",
   "metadata": {},
   "source": [
    "### 3. JSON(str) > list, dict > DataFrame"
   ]
  },
  {
   "cell_type": "code",
   "execution_count": 108,
   "id": "32188d1f-54c6-4d3a-bc3e-2ac5c808ae5f",
   "metadata": {},
   "outputs": [
    {
     "data": {
      "text/plain": [
       "(requests.models.Response,\n",
       " {'localTradedAt': '2022-07-06',\n",
       "  'closePrice': '744.63',\n",
       "  'compareToPreviousClosePrice': '-6.32',\n",
       "  'compareToPreviousPrice': {'code': '5', 'text': '하락', 'name': 'FALLING'},\n",
       "  'fluctuationsRatio': '-0.84',\n",
       "  'openPrice': '750.04',\n",
       "  'highPrice': '759.88',\n",
       "  'lowPrice': '743.61'})"
      ]
     },
     "execution_count": 108,
     "metadata": {},
     "output_type": "execute_result"
    }
   ],
   "source": [
    "data = response.json()\n",
    "type(response), data[0]"
   ]
  },
  {
   "cell_type": "code",
   "execution_count": 92,
   "id": "e221d587-f55b-4183-a0d8-ad97e86b95bd",
   "metadata": {},
   "outputs": [
    {
     "data": {
      "text/html": [
       "<div>\n",
       "<style scoped>\n",
       "    .dataframe tbody tr th:only-of-type {\n",
       "        vertical-align: middle;\n",
       "    }\n",
       "\n",
       "    .dataframe tbody tr th {\n",
       "        vertical-align: top;\n",
       "    }\n",
       "\n",
       "    .dataframe thead th {\n",
       "        text-align: right;\n",
       "    }\n",
       "</style>\n",
       "<table border=\"1\" class=\"dataframe\">\n",
       "  <thead>\n",
       "    <tr style=\"text-align: right;\">\n",
       "      <th></th>\n",
       "      <th>localTradedAt</th>\n",
       "      <th>closePrice</th>\n",
       "    </tr>\n",
       "  </thead>\n",
       "  <tbody>\n",
       "    <tr>\n",
       "      <th>18</th>\n",
       "      <td>2022-02-11</td>\n",
       "      <td>2,747.71</td>\n",
       "    </tr>\n",
       "    <tr>\n",
       "      <th>19</th>\n",
       "      <td>2022-02-10</td>\n",
       "      <td>2,771.93</td>\n",
       "    </tr>\n",
       "  </tbody>\n",
       "</table>\n",
       "</div>"
      ],
      "text/plain": [
       "   localTradedAt closePrice\n",
       "18    2022-02-11   2,747.71\n",
       "19    2022-02-10   2,771.93"
      ]
     },
     "execution_count": 92,
     "metadata": {},
     "output_type": "execute_result"
    }
   ],
   "source": [
    "df = pd.DataFrame(data)[['localTradedAt', 'closePrice']]\n",
    "df.tail(2)"
   ]
  },
  {
   "cell_type": "markdown",
   "id": "16f7cf47-11a0-4bc0-9b26-89d907e11722",
   "metadata": {},
   "source": [
    "### 4. 함수만들기\n",
    "### param : pagesize, page"
   ]
  },
  {
   "cell_type": "code",
   "execution_count": 27,
   "id": "2c4aa0ca-dabd-4583-ae5c-c3f941e2a875",
   "metadata": {},
   "outputs": [],
   "source": [
    "def stock_price(pagesize, page):\n",
    "    url = f\"https://m.stock.naver.com/api/index/KOSPI/price?pageSize={pagesize}&page={page}\"\n",
    "    response = requests.get(url)\n",
    "    data = response.json()\n",
    "    return pd.DataFrame(data)[['localTradedAt', 'closePrice']]"
   ]
  },
  {
   "cell_type": "code",
   "execution_count": 35,
   "id": "2cb355a8-c55a-40d1-9d0f-a1ea2127ea32",
   "metadata": {},
   "outputs": [
    {
     "data": {
      "text/html": [
       "<div>\n",
       "<style scoped>\n",
       "    .dataframe tbody tr th:only-of-type {\n",
       "        vertical-align: middle;\n",
       "    }\n",
       "\n",
       "    .dataframe tbody tr th {\n",
       "        vertical-align: top;\n",
       "    }\n",
       "\n",
       "    .dataframe thead th {\n",
       "        text-align: right;\n",
       "    }\n",
       "</style>\n",
       "<table border=\"1\" class=\"dataframe\">\n",
       "  <thead>\n",
       "    <tr style=\"text-align: right;\">\n",
       "      <th></th>\n",
       "      <th>localTradedAt</th>\n",
       "      <th>closePrice</th>\n",
       "    </tr>\n",
       "  </thead>\n",
       "  <tbody>\n",
       "    <tr>\n",
       "      <th>8</th>\n",
       "      <td>2022-05-11</td>\n",
       "      <td>2,592.27</td>\n",
       "    </tr>\n",
       "    <tr>\n",
       "      <th>9</th>\n",
       "      <td>2022-05-10</td>\n",
       "      <td>2,596.56</td>\n",
       "    </tr>\n",
       "  </tbody>\n",
       "</table>\n",
       "</div>"
      ],
      "text/plain": [
       "  localTradedAt closePrice\n",
       "8    2022-05-11   2,592.27\n",
       "9    2022-05-10   2,596.56"
      ]
     },
     "execution_count": 35,
     "metadata": {},
     "output_type": "execute_result"
    }
   ],
   "source": [
    "df = stock_price(100, 5)\n",
    "df.tail(2)"
   ]
  },
  {
   "cell_type": "markdown",
   "id": "233f2fbd-c0e7-4b9c-9b35-c580daa6c62d",
   "metadata": {},
   "source": [
    "    # KOSDQ 데이터 수집 코드 작성"
   ]
  },
  {
   "cell_type": "markdown",
   "id": "9e15c999-ff4e-416f-9c1c-16533a2d7b64",
   "metadata": {},
   "source": [
    "### 1 웹서비스 분석 : URL"
   ]
  },
  {
   "cell_type": "code",
   "execution_count": 100,
   "id": "b9598a47-6297-4a66-bbd4-73e6cd4fdb46",
   "metadata": {},
   "outputs": [],
   "source": [
    "url = \"https://m.stock.naver.com/api/index/KOSDAQ/price?pageSize=10&page=3\""
   ]
  },
  {
   "cell_type": "markdown",
   "id": "cd66f83f-cf06-4f07-b11c-55a80c07fccb",
   "metadata": {},
   "source": [
    "### 2. request > response : JSON(str)"
   ]
  },
  {
   "cell_type": "code",
   "execution_count": 101,
   "id": "6d8b27d8-d448-4f3e-b9ac-11bf2fc47ab4",
   "metadata": {},
   "outputs": [],
   "source": [
    "response = requests.get(url)\n",
    "data = response.json()"
   ]
  },
  {
   "cell_type": "markdown",
   "id": "db9da755-dcee-4107-a413-c22229fd75df",
   "metadata": {},
   "source": [
    "### 3. JSON(str) > list, dict > DataFrame"
   ]
  },
  {
   "cell_type": "code",
   "execution_count": 102,
   "id": "ad523399-83d9-4114-afd2-aad5bd961167",
   "metadata": {},
   "outputs": [
    {
     "data": {
      "text/html": [
       "<div>\n",
       "<style scoped>\n",
       "    .dataframe tbody tr th:only-of-type {\n",
       "        vertical-align: middle;\n",
       "    }\n",
       "\n",
       "    .dataframe tbody tr th {\n",
       "        vertical-align: top;\n",
       "    }\n",
       "\n",
       "    .dataframe thead th {\n",
       "        text-align: right;\n",
       "    }\n",
       "</style>\n",
       "<table border=\"1\" class=\"dataframe\">\n",
       "  <thead>\n",
       "    <tr style=\"text-align: right;\">\n",
       "      <th></th>\n",
       "      <th>localTradedAt</th>\n",
       "      <th>closePrice</th>\n",
       "    </tr>\n",
       "  </thead>\n",
       "  <tbody>\n",
       "    <tr>\n",
       "      <th>0</th>\n",
       "      <td>2022-07-06</td>\n",
       "      <td>744.63</td>\n",
       "    </tr>\n",
       "    <tr>\n",
       "      <th>1</th>\n",
       "      <td>2022-07-05</td>\n",
       "      <td>750.95</td>\n",
       "    </tr>\n",
       "    <tr>\n",
       "      <th>2</th>\n",
       "      <td>2022-07-04</td>\n",
       "      <td>722.73</td>\n",
       "    </tr>\n",
       "    <tr>\n",
       "      <th>3</th>\n",
       "      <td>2022-07-01</td>\n",
       "      <td>729.48</td>\n",
       "    </tr>\n",
       "    <tr>\n",
       "      <th>4</th>\n",
       "      <td>2022-06-30</td>\n",
       "      <td>745.44</td>\n",
       "    </tr>\n",
       "    <tr>\n",
       "      <th>5</th>\n",
       "      <td>2022-06-29</td>\n",
       "      <td>762.35</td>\n",
       "    </tr>\n",
       "    <tr>\n",
       "      <th>6</th>\n",
       "      <td>2022-06-28</td>\n",
       "      <td>769.51</td>\n",
       "    </tr>\n",
       "    <tr>\n",
       "      <th>7</th>\n",
       "      <td>2022-06-27</td>\n",
       "      <td>770.60</td>\n",
       "    </tr>\n",
       "    <tr>\n",
       "      <th>8</th>\n",
       "      <td>2022-06-24</td>\n",
       "      <td>750.30</td>\n",
       "    </tr>\n",
       "    <tr>\n",
       "      <th>9</th>\n",
       "      <td>2022-06-23</td>\n",
       "      <td>714.38</td>\n",
       "    </tr>\n",
       "  </tbody>\n",
       "</table>\n",
       "</div>"
      ],
      "text/plain": [
       "  localTradedAt closePrice\n",
       "0    2022-07-06     744.63\n",
       "1    2022-07-05     750.95\n",
       "2    2022-07-04     722.73\n",
       "3    2022-07-01     729.48\n",
       "4    2022-06-30     745.44\n",
       "5    2022-06-29     762.35\n",
       "6    2022-06-28     769.51\n",
       "7    2022-06-27     770.60\n",
       "8    2022-06-24     750.30\n",
       "9    2022-06-23     714.38"
      ]
     },
     "execution_count": 102,
     "metadata": {},
     "output_type": "execute_result"
    }
   ],
   "source": [
    "df = pd.DataFrame(data)[['localTradedAt', 'closePrice']]\n",
    "df"
   ]
  },
  {
   "cell_type": "markdown",
   "id": "29c8ac03-42cb-412d-bbfb-3952c7b50323",
   "metadata": {},
   "source": [
    "\n",
    "### 4. 함수만들기\n",
    "### param : pagesize, page"
   ]
  },
  {
   "cell_type": "code",
   "execution_count": 119,
   "id": "45bfddc6-bedb-4191-8452-bc543ade4496",
   "metadata": {},
   "outputs": [],
   "source": [
    "def stock_price(pagesize, page, code):\n",
    "    \"\"\"\n",
    "    This function is crwaling stock price from naver stock web page\n",
    "    \n",
    "    parameters :\n",
    "        page_size : int : one page size\n",
    "        page : int : page number\n",
    "        code : str : KOSPI or KOSDAQ\n",
    "    \n",
    "    return :\n",
    "        type : DataFame of pandas\n",
    "    \"\"\"\n",
    "    \n",
    "    url = f\"https://m.stock.naver.com/api/index/{code}/price?pageSize={pagesize}&page={page}\"\n",
    "    response = requests.get(url)\n",
    "    data = response.json()\n",
    "\n",
    "    return pd.DataFrame(data)[['localTradedAt', 'closePrice']]"
   ]
  },
  {
   "cell_type": "code",
   "execution_count": 105,
   "id": "c63b17ed-97cb-47f0-bd42-d4b16c03ee4e",
   "metadata": {},
   "outputs": [
    {
     "data": {
      "text/html": [
       "<div>\n",
       "<style scoped>\n",
       "    .dataframe tbody tr th:only-of-type {\n",
       "        vertical-align: middle;\n",
       "    }\n",
       "\n",
       "    .dataframe tbody tr th {\n",
       "        vertical-align: top;\n",
       "    }\n",
       "\n",
       "    .dataframe thead th {\n",
       "        text-align: right;\n",
       "    }\n",
       "</style>\n",
       "<table border=\"1\" class=\"dataframe\">\n",
       "  <thead>\n",
       "    <tr style=\"text-align: right;\">\n",
       "      <th></th>\n",
       "      <th>localTradedAt</th>\n",
       "      <th>closePrice</th>\n",
       "    </tr>\n",
       "  </thead>\n",
       "  <tbody>\n",
       "    <tr>\n",
       "      <th>18</th>\n",
       "      <td>2022-07-08</td>\n",
       "      <td>766.48</td>\n",
       "    </tr>\n",
       "    <tr>\n",
       "      <th>19</th>\n",
       "      <td>2022-07-07</td>\n",
       "      <td>757.97</td>\n",
       "    </tr>\n",
       "  </tbody>\n",
       "</table>\n",
       "</div>"
      ],
      "text/plain": [
       "   localTradedAt closePrice\n",
       "18    2022-07-08     766.48\n",
       "19    2022-07-07     757.97"
      ]
     },
     "execution_count": 105,
     "metadata": {},
     "output_type": "execute_result"
    }
   ],
   "source": [
    "df = stock_price(20, 1, \"KOSDAQ\")\n",
    "df.tail(2)"
   ]
  },
  {
   "cell_type": "code",
   "execution_count": null,
   "id": "24142a05-e3e1-42c5-968b-6774275a9691",
   "metadata": {},
   "outputs": [],
   "source": [
    "### stock_price(10, 1, \"KOSDAQ\")"
   ]
  },
  {
   "cell_type": "code",
   "execution_count": 109,
   "id": "4098c4fd-8fe6-45da-bbb1-b744d21afb76",
   "metadata": {},
   "outputs": [],
   "source": [
    "kospi = stock_price(60, 1, \"KOSPI\")\n",
    "kosdaq = stock_price(60, 1, \"KOSDAQ\")"
   ]
  },
  {
   "cell_type": "markdown",
   "id": "a126df51-859c-4ace-9ab7-7c9238b120eb",
   "metadata": {},
   "source": [
    "### docstring"
   ]
  },
  {
   "cell_type": "code",
   "execution_count": 120,
   "id": "52b4d146-6335-4fd8-8aa3-93be747a2d6b",
   "metadata": {},
   "outputs": [
    {
     "name": "stdout",
     "output_type": "stream",
     "text": [
      "Help on function stock_price in module __main__:\n",
      "\n",
      "stock_price(pagesize, page, code)\n",
      "    This function is crwaling stock price from naver stock web page\n",
      "    \n",
      "    parameters :\n",
      "        page_size : int : one page size\n",
      "        page : int : page number\n",
      "        code : str : KOSPI or KOSDAQ\n",
      "    \n",
      "    return :\n",
      "        type : DataFame of pandas\n",
      "\n"
     ]
    }
   ],
   "source": [
    "help(stock_price)"
   ]
  },
  {
   "cell_type": "markdown",
   "id": "5b71299e-40b9-41f2-b31d-66d732442e75",
   "metadata": {},
   "source": [
    "### 원달러 환율 데이터 수집\n",
    "https://m.stock.naver.com/ > 시장지표 > 미국 USD > 일별시세(더보기)"
   ]
  },
  {
   "cell_type": "code",
   "execution_count": 121,
   "id": "1f3fcf12-dd5e-4bda-9cbc-d0c1d2e808c1",
   "metadata": {},
   "outputs": [],
   "source": [
    "### 최근 60일 원달러 환율 데이터 수집"
   ]
  },
  {
   "cell_type": "code",
   "execution_count": 125,
   "id": "d1d66ab6-8126-43e3-9644-9e9fb8f4dba6",
   "metadata": {},
   "outputs": [],
   "source": [
    "### 1. 웹서비스 분석 : URL"
   ]
  },
  {
   "cell_type": "code",
   "execution_count": 139,
   "id": "ea9b793d-a28a-4ef5-9e3f-aa9c70b29bce",
   "metadata": {},
   "outputs": [
    {
     "data": {
      "text/plain": [
       "<Response [200]>"
      ]
     },
     "execution_count": 139,
     "metadata": {},
     "output_type": "execute_result"
    }
   ],
   "source": [
    "page = 1\n",
    "pagesize = 60\n",
    "url = f\"https://api.stock.naver.com/marketindex/exchange/FX_USDKRW/prices?page={page}&pageSize={pagesize}\"\n",
    "response = requests.get(url)\n",
    "response"
   ]
  },
  {
   "cell_type": "code",
   "execution_count": 140,
   "id": "5f5206f5-597b-4c0d-8558-d2ca51d40244",
   "metadata": {},
   "outputs": [],
   "source": [
    "### 2. request(url) > response(json) : JSON(str)"
   ]
  },
  {
   "cell_type": "code",
   "execution_count": 141,
   "id": "976fbb87-e65f-4bdb-8b6d-eb3807cdbc7c",
   "metadata": {},
   "outputs": [
    {
     "data": {
      "text/plain": [
       "{'localTradedAt': '2022-08-03',\n",
       " 'closePrice': '1,309.70',\n",
       " 'fluctuations': '-2.30',\n",
       " 'fluctuationsRatio': '-0.18',\n",
       " 'fluctuationsType': {'code': '5', 'text': '하락', 'name': 'FALLING'},\n",
       " 'cashBuyValue': '1,332.61',\n",
       " 'cashSellValue': '1,286.79',\n",
       " 'sendValue': '1,322.50',\n",
       " 'receiveValue': '1,296.90'}"
      ]
     },
     "execution_count": 141,
     "metadata": {},
     "output_type": "execute_result"
    }
   ],
   "source": [
    "data = response.json()\n",
    "data[0]"
   ]
  },
  {
   "cell_type": "code",
   "execution_count": 142,
   "id": "d1b5f3d6-1328-4f7d-ad25-52c7df07a118",
   "metadata": {},
   "outputs": [],
   "source": [
    "### 3. JSON(str) > list, dict > DataFrame"
   ]
  },
  {
   "cell_type": "code",
   "execution_count": 146,
   "id": "cce1d030-d910-439e-b61c-4786da7d35c8",
   "metadata": {},
   "outputs": [
    {
     "data": {
      "text/html": [
       "<div>\n",
       "<style scoped>\n",
       "    .dataframe tbody tr th:only-of-type {\n",
       "        vertical-align: middle;\n",
       "    }\n",
       "\n",
       "    .dataframe tbody tr th {\n",
       "        vertical-align: top;\n",
       "    }\n",
       "\n",
       "    .dataframe thead th {\n",
       "        text-align: right;\n",
       "    }\n",
       "</style>\n",
       "<table border=\"1\" class=\"dataframe\">\n",
       "  <thead>\n",
       "    <tr style=\"text-align: right;\">\n",
       "      <th></th>\n",
       "      <th>localTradedAt</th>\n",
       "      <th>closePrice</th>\n",
       "      <th>fluctuations</th>\n",
       "      <th>fluctuationsRatio</th>\n",
       "      <th>fluctuationsType</th>\n",
       "      <th>cashBuyValue</th>\n",
       "      <th>cashSellValue</th>\n",
       "      <th>sendValue</th>\n",
       "      <th>receiveValue</th>\n",
       "    </tr>\n",
       "  </thead>\n",
       "  <tbody>\n",
       "    <tr>\n",
       "      <th>58</th>\n",
       "      <td>2022-05-11</td>\n",
       "      <td>1,274.50</td>\n",
       "      <td>-1.50</td>\n",
       "      <td>-0.12</td>\n",
       "      <td>{'code': '5', 'text': '하락', 'name': 'FALLING'}</td>\n",
       "      <td>1,296.80</td>\n",
       "      <td>1,252.20</td>\n",
       "      <td>1,286.90</td>\n",
       "      <td>1,262.10</td>\n",
       "    </tr>\n",
       "    <tr>\n",
       "      <th>59</th>\n",
       "      <td>2022-05-10</td>\n",
       "      <td>1,276.00</td>\n",
       "      <td>-1.50</td>\n",
       "      <td>-0.12</td>\n",
       "      <td>{'code': '5', 'text': '하락', 'name': 'FALLING'}</td>\n",
       "      <td>1,298.33</td>\n",
       "      <td>1,253.67</td>\n",
       "      <td>1,288.50</td>\n",
       "      <td>1,263.50</td>\n",
       "    </tr>\n",
       "  </tbody>\n",
       "</table>\n",
       "</div>"
      ],
      "text/plain": [
       "   localTradedAt closePrice fluctuations fluctuationsRatio  \\\n",
       "58    2022-05-11   1,274.50        -1.50             -0.12   \n",
       "59    2022-05-10   1,276.00        -1.50             -0.12   \n",
       "\n",
       "                                  fluctuationsType cashBuyValue cashSellValue  \\\n",
       "58  {'code': '5', 'text': '하락', 'name': 'FALLING'}     1,296.80      1,252.20   \n",
       "59  {'code': '5', 'text': '하락', 'name': 'FALLING'}     1,298.33      1,253.67   \n",
       "\n",
       "   sendValue receiveValue  \n",
       "58  1,286.90     1,262.10  \n",
       "59  1,288.50     1,263.50  "
      ]
     },
     "execution_count": 146,
     "metadata": {},
     "output_type": "execute_result"
    }
   ],
   "source": [
    "df = pd.DataFrame(data)\n",
    "df.tail(2)"
   ]
  },
  {
   "cell_type": "code",
   "execution_count": 147,
   "id": "828b2480-bca7-42d8-b289-a91cd82f9d30",
   "metadata": {},
   "outputs": [],
   "source": [
    "def stock_price(pagesize, page, code):\n",
    "    \"\"\"\n",
    "    This function is crwaling stock price from naver stock web page\n",
    "    \n",
    "    parameters :\n",
    "        page_size : int : one page size\n",
    "        page : int : page number\n",
    "        code : str : FX_USDKRW or FX_EURKRW\n",
    "    \n",
    "    return :\n",
    "        type : DataFame of pandas\n",
    "    \"\"\"\n",
    "    \n",
    "    url = f\"https://api.stock.naver.com/marketindex/exchange/{code}/prices?page={page}&pageSize={pagesize}\"\n",
    "    response = requests.get(url)\n",
    "    data = response.json()\n",
    "\n",
    "    return pd.DataFrame(data)[['localTradedAt', 'closePrice']]"
   ]
  },
  {
   "cell_type": "code",
   "execution_count": 153,
   "id": "4fab3662-8a9b-45d4-9171-87fd9177f87f",
   "metadata": {},
   "outputs": [
    {
     "data": {
      "text/html": [
       "<div>\n",
       "<style scoped>\n",
       "    .dataframe tbody tr th:only-of-type {\n",
       "        vertical-align: middle;\n",
       "    }\n",
       "\n",
       "    .dataframe tbody tr th {\n",
       "        vertical-align: top;\n",
       "    }\n",
       "\n",
       "    .dataframe thead th {\n",
       "        text-align: right;\n",
       "    }\n",
       "</style>\n",
       "<table border=\"1\" class=\"dataframe\">\n",
       "  <thead>\n",
       "    <tr style=\"text-align: right;\">\n",
       "      <th></th>\n",
       "      <th>localTradedAt</th>\n",
       "      <th>closePrice</th>\n",
       "    </tr>\n",
       "  </thead>\n",
       "  <tbody>\n",
       "    <tr>\n",
       "      <th>58</th>\n",
       "      <td>2022-05-11</td>\n",
       "      <td>1,274.50</td>\n",
       "    </tr>\n",
       "    <tr>\n",
       "      <th>59</th>\n",
       "      <td>2022-05-10</td>\n",
       "      <td>1,276.00</td>\n",
       "    </tr>\n",
       "  </tbody>\n",
       "</table>\n",
       "</div>"
      ],
      "text/plain": [
       "   localTradedAt closePrice\n",
       "58    2022-05-11   1,274.50\n",
       "59    2022-05-10   1,276.00"
      ]
     },
     "execution_count": 153,
     "metadata": {},
     "output_type": "execute_result"
    }
   ],
   "source": [
    "usd = stock_price(60, 1, \"FX_USDKRW\")\n",
    "usd.tail(2)"
   ]
  },
  {
   "cell_type": "markdown",
   "id": "e05fddcd-e965-4000-adf5-1bcd1cda8788",
   "metadata": {},
   "source": [
    "### 데이터 분석\n",
    "#### 상관관계분석 : 두 데이터 집합 사이에 어떤 관계가 있는지 확인하는 분석방법\n",
    "#### 원달러 환율이 높으면 코스피, 코스닥 지수가 낮다. > 음의 상관관계를 갖는다."
   ]
  },
  {
   "cell_type": "markdown",
   "id": "9d09e7ef-7652-4b66-810f-a0e08cfddf55",
   "metadata": {},
   "source": [
    "### 피어슨 상관계수 : df.corr()\n",
    "#### 1과 가까울수록 강한 양의 상관관계를 갖는다.\n",
    "#### -1과 가까울수록 강한 음의 상관관계를 갖는다.\n",
    "#### 0과 가까울수록 관계가 없다."
   ]
  },
  {
   "cell_type": "code",
   "execution_count": 184,
   "id": "b5c67d5d-444e-4d79-b03a-ba7f31089769",
   "metadata": {},
   "outputs": [
    {
     "data": {
      "text/html": [
       "<div>\n",
       "<style scoped>\n",
       "    .dataframe tbody tr th:only-of-type {\n",
       "        vertical-align: middle;\n",
       "    }\n",
       "\n",
       "    .dataframe tbody tr th {\n",
       "        vertical-align: top;\n",
       "    }\n",
       "\n",
       "    .dataframe thead th {\n",
       "        text-align: right;\n",
       "    }\n",
       "</style>\n",
       "<table border=\"1\" class=\"dataframe\">\n",
       "  <thead>\n",
       "    <tr style=\"text-align: right;\">\n",
       "      <th></th>\n",
       "      <th>kospi</th>\n",
       "      <th>kosdaq</th>\n",
       "      <th>usd</th>\n",
       "    </tr>\n",
       "  </thead>\n",
       "  <tbody>\n",
       "    <tr>\n",
       "      <th>58</th>\n",
       "      <td>2,592.27</td>\n",
       "      <td>866.34</td>\n",
       "      <td>1,274.50</td>\n",
       "    </tr>\n",
       "    <tr>\n",
       "      <th>59</th>\n",
       "      <td>2,596.56</td>\n",
       "      <td>856.14</td>\n",
       "      <td>1,276.00</td>\n",
       "    </tr>\n",
       "  </tbody>\n",
       "</table>\n",
       "</div>"
      ],
      "text/plain": [
       "       kospi  kosdaq       usd\n",
       "58  2,592.27  866.34  1,274.50\n",
       "59  2,596.56  856.14  1,276.00"
      ]
     },
     "execution_count": 184,
     "metadata": {},
     "output_type": "execute_result"
    }
   ],
   "source": [
    "### 데이터 전처리\n",
    "df = kospi.copy()\n",
    "df[\"kosdaq\"] = kosdaq[\"closePrice\"]\n",
    "df[\"usd\"] = usd[\"closePrice\"]\n",
    "df = df.rename(columns={\"closePrice\" : \"kospi\"})\n",
    "df = df.drop(columns=[\"localTradedAt\"])\n",
    "df.tail(2)"
   ]
  },
  {
   "cell_type": "code",
   "execution_count": 195,
   "id": "b6a7ebbd-b004-4d7d-ae38-de382c8ef4c2",
   "metadata": {},
   "outputs": [],
   "source": [
    "### 칼럼의 데이터 타입 변경 str -> float\n",
    "### df[column].apply() : 모든 데이터를 함수에 대입한 결과를 출력\n",
    "df[\"kospi\"] = df[\"kospi\"].apply(lambda data : float(data.replace(\",\", \"\")))\n",
    "df[\"kosdaq\"] = df[\"kosdaq\"].apply(lambda data : float(data.replace(\",\", \"\")))\n",
    "df[\"usd\"] = df[\"usd\"].apply(lambda data : float(data.replace(\",\", \"\")))"
   ]
  },
  {
   "cell_type": "code",
   "execution_count": 196,
   "id": "dd6bb298-88a5-4823-96b0-c40bd4bea6c3",
   "metadata": {},
   "outputs": [
    {
     "data": {
      "text/plain": [
       "kospi     float64\n",
       "kosdaq    float64\n",
       "usd       float64\n",
       "dtype: object"
      ]
     },
     "execution_count": 196,
     "metadata": {},
     "output_type": "execute_result"
    }
   ],
   "source": [
    "df.dtypes"
   ]
  },
  {
   "cell_type": "code",
   "execution_count": 205,
   "id": "da6790f0-022b-4f38-9134-da07b4dc19c0",
   "metadata": {},
   "outputs": [
    {
     "data": {
      "text/html": [
       "<div>\n",
       "<style scoped>\n",
       "    .dataframe tbody tr th:only-of-type {\n",
       "        vertical-align: middle;\n",
       "    }\n",
       "\n",
       "    .dataframe tbody tr th {\n",
       "        vertical-align: top;\n",
       "    }\n",
       "\n",
       "    .dataframe thead th {\n",
       "        text-align: right;\n",
       "    }\n",
       "</style>\n",
       "<table border=\"1\" class=\"dataframe\">\n",
       "  <thead>\n",
       "    <tr style=\"text-align: right;\">\n",
       "      <th></th>\n",
       "      <th>kospi</th>\n",
       "      <th>kosdaq</th>\n",
       "      <th>usd</th>\n",
       "    </tr>\n",
       "  </thead>\n",
       "  <tbody>\n",
       "    <tr>\n",
       "      <th>kospi</th>\n",
       "      <td>1.000000</td>\n",
       "      <td>0.984058</td>\n",
       "      <td>-0.878358</td>\n",
       "    </tr>\n",
       "    <tr>\n",
       "      <th>kosdaq</th>\n",
       "      <td>0.984058</td>\n",
       "      <td>1.000000</td>\n",
       "      <td>-0.821411</td>\n",
       "    </tr>\n",
       "    <tr>\n",
       "      <th>usd</th>\n",
       "      <td>-0.878358</td>\n",
       "      <td>-0.821411</td>\n",
       "      <td>1.000000</td>\n",
       "    </tr>\n",
       "  </tbody>\n",
       "</table>\n",
       "</div>"
      ],
      "text/plain": [
       "           kospi    kosdaq       usd\n",
       "kospi   1.000000  0.984058 -0.878358\n",
       "kosdaq  0.984058  1.000000 -0.821411\n",
       "usd    -0.878358 -0.821411  1.000000"
      ]
     },
     "execution_count": 205,
     "metadata": {},
     "output_type": "execute_result"
    }
   ],
   "source": [
    "df[[\"kospi\", \"kosdaq\", \"usd\"]].corr()"
   ]
  },
  {
   "cell_type": "code",
   "execution_count": null,
   "id": "aa6f2cba-d582-4ef5-aed4-4621dfdc6143",
   "metadata": {},
   "outputs": [],
   "source": [
    "# kospi <-> kosdaq 양의 상관 관계\n",
    "# usd <-> kospi, kosdaq음의 상관 관계"
   ]
  },
  {
   "cell_type": "markdown",
   "id": "363c27aa-3ef8-477b-a2d0-ab528558a333",
   "metadata": {},
   "source": [
    "### copy()"
   ]
  },
  {
   "cell_type": "code",
   "execution_count": 227,
   "id": "d7fa70f8-92ed-450b-84fa-85dd5899a080",
   "metadata": {},
   "outputs": [
    {
     "name": "stdout",
     "output_type": "stream",
     "text": [
      "[1, 2, 3] [1, 2, 3] [1, 2, 3]\n",
      "[1, 4, 3] [1, 4, 3] [1, 2, 3]\n"
     ]
    }
   ],
   "source": [
    "data1 = [1, 2, 3]\n",
    "\n",
    "data2 = data1\n",
    "data3 = data1.copy()\n",
    "print(data1, data2, data3) # [1, 2, 3] [1, 2, 3]\n",
    "\n",
    "data1[1] = 4\n",
    "print(data1, data2, data3)"
   ]
  },
  {
   "cell_type": "markdown",
   "id": "f6b37cb5-6b4c-48bf-864f-6e798035e7a5",
   "metadata": {},
   "source": [
    "### apply()"
   ]
  },
  {
   "cell_type": "code",
   "execution_count": 228,
   "id": "9e68ea28-f0ca-42a5-90f1-32b5e79f957d",
   "metadata": {},
   "outputs": [
    {
     "data": {
      "text/html": [
       "<div>\n",
       "<style scoped>\n",
       "    .dataframe tbody tr th:only-of-type {\n",
       "        vertical-align: middle;\n",
       "    }\n",
       "\n",
       "    .dataframe tbody tr th {\n",
       "        vertical-align: top;\n",
       "    }\n",
       "\n",
       "    .dataframe thead th {\n",
       "        text-align: right;\n",
       "    }\n",
       "</style>\n",
       "<table border=\"1\" class=\"dataframe\">\n",
       "  <thead>\n",
       "    <tr style=\"text-align: right;\">\n",
       "      <th></th>\n",
       "      <th>age</th>\n",
       "    </tr>\n",
       "  </thead>\n",
       "  <tbody>\n",
       "    <tr>\n",
       "      <th>0</th>\n",
       "      <td>23</td>\n",
       "    </tr>\n",
       "    <tr>\n",
       "      <th>1</th>\n",
       "      <td>36</td>\n",
       "    </tr>\n",
       "    <tr>\n",
       "      <th>2</th>\n",
       "      <td>27</td>\n",
       "    </tr>\n",
       "  </tbody>\n",
       "</table>\n",
       "</div>"
      ],
      "text/plain": [
       "   age\n",
       "0   23\n",
       "1   36\n",
       "2   27"
      ]
     },
     "execution_count": 228,
     "metadata": {},
     "output_type": "execute_result"
    }
   ],
   "source": [
    "df = pd.DataFrame([\n",
    "    { \"age\" : 23 },\n",
    "    { \"age\" : 36 },\n",
    "    { \"age\" : 27 }\n",
    "])\n",
    "df"
   ]
  },
  {
   "cell_type": "code",
   "execution_count": 229,
   "id": "ffd13adc-9ae6-4c2c-bdcd-d00e5e3f56a0",
   "metadata": {},
   "outputs": [],
   "source": [
    "# 연령대 컬럼을 추가 \n",
    "def change_ages(age): \n",
    "    return age // 10 * 10"
   ]
  },
  {
   "cell_type": "code",
   "execution_count": 230,
   "id": "0a19581b-7a8a-4073-9186-d2e3c442d70c",
   "metadata": {},
   "outputs": [
    {
     "data": {
      "text/html": [
       "<div>\n",
       "<style scoped>\n",
       "    .dataframe tbody tr th:only-of-type {\n",
       "        vertical-align: middle;\n",
       "    }\n",
       "\n",
       "    .dataframe tbody tr th {\n",
       "        vertical-align: top;\n",
       "    }\n",
       "\n",
       "    .dataframe thead th {\n",
       "        text-align: right;\n",
       "    }\n",
       "</style>\n",
       "<table border=\"1\" class=\"dataframe\">\n",
       "  <thead>\n",
       "    <tr style=\"text-align: right;\">\n",
       "      <th></th>\n",
       "      <th>age</th>\n",
       "      <th>ages</th>\n",
       "    </tr>\n",
       "  </thead>\n",
       "  <tbody>\n",
       "    <tr>\n",
       "      <th>0</th>\n",
       "      <td>23</td>\n",
       "      <td>20</td>\n",
       "    </tr>\n",
       "    <tr>\n",
       "      <th>1</th>\n",
       "      <td>36</td>\n",
       "      <td>30</td>\n",
       "    </tr>\n",
       "    <tr>\n",
       "      <th>2</th>\n",
       "      <td>27</td>\n",
       "      <td>20</td>\n",
       "    </tr>\n",
       "  </tbody>\n",
       "</table>\n",
       "</div>"
      ],
      "text/plain": [
       "   age  ages\n",
       "0   23    20\n",
       "1   36    30\n",
       "2   27    20"
      ]
     },
     "metadata": {},
     "output_type": "display_data"
    }
   ],
   "source": [
    "df[\"ages\"] = df[\"age\"].apply(change_ages)\n",
    "display(df)"
   ]
  },
  {
   "cell_type": "markdown",
   "id": "ca6b28aa-c92f-41f8-b771-df064a2cdd73",
   "metadata": {},
   "source": [
    "### lambda 일회성 함수\n",
    "#### 사용이유 : 간단한 함수(파라미터를 받아서 바로 리턴하는)를 메모리를 절약하여 사용"
   ]
  },
  {
   "cell_type": "code",
   "execution_count": 231,
   "id": "0fe804c0-6ff9-4e5a-97f6-923cc2b3d320",
   "metadata": {},
   "outputs": [],
   "source": [
    "def plus(n1, n2): \n",
    "    return n1 + n2\n",
    "\n",
    "def minus(n1, n2): \n",
    "    return n1 - n2\n",
    "\n",
    "def calc(func, n1, n2): \n",
    "    return func(n1, n2)"
   ]
  },
  {
   "cell_type": "code",
   "execution_count": 233,
   "id": "4b9dec03-233e-4ba8-94df-9d96f651e390",
   "metadata": {},
   "outputs": [
    {
     "data": {
      "text/plain": [
       "(3, -1)"
      ]
     },
     "execution_count": 233,
     "metadata": {},
     "output_type": "execute_result"
    }
   ],
   "source": [
    "(calc(plus, 1, 2), calc(minus, 1, 2))"
   ]
  },
  {
   "cell_type": "code",
   "execution_count": 235,
   "id": "6dfa96f9-8524-4597-acc6-7855421d5f51",
   "metadata": {},
   "outputs": [
    {
     "data": {
      "text/plain": [
       "(5, 5)"
      ]
     },
     "execution_count": 235,
     "metadata": {},
     "output_type": "execute_result"
    }
   ],
   "source": [
    "plus_lambda = lambda n1, n2 : n1 + n2\n",
    "(plus(2, 3), plus_lambda(2, 3))"
   ]
  },
  {
   "cell_type": "code",
   "execution_count": 236,
   "id": "e85e9b35-9c2f-4e17-bd94-b8b6c0bdf59d",
   "metadata": {},
   "outputs": [
    {
     "data": {
      "text/plain": [
       "(3, -1)"
      ]
     },
     "execution_count": 236,
     "metadata": {},
     "output_type": "execute_result"
    }
   ],
   "source": [
    "def calc(func, n1, n2): \n",
    "    return func(n1, n2)\n",
    "\n",
    "(calc(lambda n1, n2 : n1 + n2, 1, 2), calc(lambda n1, n2 : n1 - n2, 1, 2))"
   ]
  },
  {
   "cell_type": "code",
   "execution_count": null,
   "id": "ea0c0ec8-b52f-41b4-96fc-23bcca663348",
   "metadata": {},
   "outputs": [],
   "source": [
    "# summary\n",
    "# 웹페이지의 종류\n",
    "# 정적페이지 : 데이터가 변경할때 URL 변경 O : HTML\n",
    "# 동적페이지 : 데이터가 변경할때 URL 변경 X : JSON\n",
    "\n",
    "# 웹크롤링 절차\n",
    "# 1. 웹서비스 분석 : 크롬 개발자 도구 : URL\n",
    "# 2. resquests(url) > response(json) : JSON(str)\n",
    "# 3. JSON(str) > list, dict > DataFrame"
   ]
  }
 ],
 "metadata": {
  "kernelspec": {
   "display_name": "Python 3 (ipykernel)",
   "language": "python",
   "name": "python3"
  },
  "language_info": {
   "codemirror_mode": {
    "name": "ipython",
    "version": 3
   },
   "file_extension": ".py",
   "mimetype": "text/x-python",
   "name": "python",
   "nbconvert_exporter": "python",
   "pygments_lexer": "ipython3",
   "version": "3.9.7"
  }
 },
 "nbformat": 4,
 "nbformat_minor": 5
}
