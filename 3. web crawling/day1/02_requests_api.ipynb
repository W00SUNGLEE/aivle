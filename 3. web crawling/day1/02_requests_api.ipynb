{
 "cells": [
  {
   "cell_type": "markdown",
   "id": "78f8e0da-d608-4720-9cad-8396e9041453",
   "metadata": {},
   "source": [
    "### API\n",
    "- application programing interface\n",
    "- api를 사용해서 데이터를 수집하는것은 서비스에 데이터를 제공하는 공식적인 방법으로 데이터 수집\n",
    "- naver api : papago api : 번역 서비스"
   ]
  },
  {
   "cell_type": "code",
   "execution_count": 4,
   "id": "19eb1cc4-7e35-4d00-839d-1b597154d5ec",
   "metadata": {},
   "outputs": [],
   "source": [
    "import pandas as pd\n",
    "import requests, json"
   ]
  },
  {
   "cell_type": "code",
   "execution_count": 1,
   "id": "43d4ae5c-f0c7-4a12-a9b3-c7033711a5fc",
   "metadata": {},
   "outputs": [],
   "source": [
    "# 1. APP 등록 > app_key(request_token)\n",
    "# https://developers.naver.com/"
   ]
  },
  {
   "cell_type": "code",
   "execution_count": 11,
   "id": "1b8831aa-ebd6-47f1-9d2b-3ef5a586ce0b",
   "metadata": {},
   "outputs": [],
   "source": [
    "CLIENT_ID, CLIENT_SECRET = \"NolYzvV_nveIfSGN0eys\", \"gBM0HfT_U4\""
   ]
  },
  {
   "cell_type": "code",
   "execution_count": 12,
   "id": "513ed678-9615-4ac9-acbc-556f1ee3f057",
   "metadata": {},
   "outputs": [],
   "source": [
    "# 2. Naver API Document 확인 > URL"
   ]
  },
  {
   "cell_type": "code",
   "execution_count": 19,
   "id": "f8b6e01c-ce68-4de2-894d-94c0da0be338",
   "metadata": {},
   "outputs": [],
   "source": [
    "url = f\"https://openapi.naver.com/v1/papago/n2mt\"\n",
    "txt = \"파이썬은 재미있습니다.\"\n",
    "params = {\n",
    "    \"source\" : \"ko\",\n",
    "    \"target\" : \"en\",\n",
    "    \"text\" : txt\n",
    "}\n",
    "headers = {\n",
    "    \"Content-Type\" : \"application/json\",\n",
    "    \"X-Naver-Client-Id\" : CLIENT_ID,\n",
    "    \"X-Naver-Client-Secret\" : CLIENT_SECRET\n",
    "}"
   ]
  },
  {
   "cell_type": "code",
   "execution_count": 20,
   "id": "fde8c9c5-5cd5-4a7e-b33c-3fb5dc2e33f7",
   "metadata": {},
   "outputs": [],
   "source": [
    "# 3. request(url, app_key) > response(json) : JSON(str)"
   ]
  },
  {
   "cell_type": "code",
   "execution_count": null,
   "id": "db0ce5d3-d110-4371-a2a4-b4e914963664",
   "metadata": {},
   "outputs": [],
   "source": [
    "# json.dumps()\n",
    "#인터넷 트래픽에서는 영문, 숫자, 특수문자만 사용가능\n",
    "# 한글과 같은 문자를 인코딩(영문, 숫자, 특수문자)"
   ]
  },
  {
   "cell_type": "code",
   "execution_count": 23,
   "id": "8d55d7d1-f2dd-4a55-8029-1e744c4caf6c",
   "metadata": {},
   "outputs": [
    {
     "data": {
      "text/plain": [
       "<Response [200]>"
      ]
     },
     "execution_count": 23,
     "metadata": {},
     "output_type": "execute_result"
    }
   ],
   "source": [
    "response = requests.post(url, json.dumps(params), headers=headers)\n",
    "response"
   ]
  },
  {
   "cell_type": "code",
   "execution_count": 27,
   "id": "a127e260-1e30-4f46-ac6a-dffdfabfe18f",
   "metadata": {},
   "outputs": [
    {
     "data": {
      "text/plain": [
       "'{\"message\":{\"result\":{\"srcLangType\":\"ko\",\"tarLangType\":\"en\",\"translatedText\":\"Python is fun.\",\"engineType\":\"N2MT\",\"pivot\":null,\"dict\":null,\"tarDict\":null},\"@type\":\"response\",\"@service\":\"naverservice.nmt.proxy\",\"@version\":\"1.0.0\"}}'"
      ]
     },
     "execution_count": 27,
     "metadata": {},
     "output_type": "execute_result"
    }
   ],
   "source": [
    "response.text"
   ]
  },
  {
   "cell_type": "code",
   "execution_count": 15,
   "id": "82b63fe4-6d42-4007-9050-3e8543ca183b",
   "metadata": {},
   "outputs": [],
   "source": [
    "# 4. JSON(str) > list, dict > DataFrame"
   ]
  },
  {
   "cell_type": "code",
   "execution_count": 33,
   "id": "db7b4846-f966-42d1-8264-1ea2b8e36943",
   "metadata": {},
   "outputs": [
    {
     "data": {
      "text/plain": [
       "'Python is fun.'"
      ]
     },
     "execution_count": 33,
     "metadata": {},
     "output_type": "execute_result"
    }
   ],
   "source": [
    "data = response.json()\n",
    "text_en = data[\"message\"][\"result\"][\"translatedText\"]\n",
    "text_en"
   ]
  },
  {
   "cell_type": "code",
   "execution_count": null,
   "id": "a56ce769-4fe7-4ad8-b1fa-1761f15431bb",
   "metadata": {},
   "outputs": [],
   "source": [
    "# 5. 함수로 작성"
   ]
  },
  {
   "cell_type": "code",
   "execution_count": 41,
   "id": "6a30a4da-622f-4019-9074-69a5e8c6b488",
   "metadata": {},
   "outputs": [],
   "source": [
    "def translate(txt):\n",
    "    CLIENT_ID, CLIENT_SECRET = \"NolYzvV_nveIfSGN0eys\", \"gBM0HfT_U4\"\n",
    "    url = f\"https://openapi.naver.com/v1/papago/n2mt\"\n",
    "    params = {\n",
    "        \"source\" : \"ko\",\n",
    "        \"target\" : \"en\",\n",
    "        \"text\" : txt\n",
    "    }\n",
    "    headers = {\n",
    "        \"Content-Type\" : \"application/json\",\n",
    "        \"X-Naver-Client-Id\" : CLIENT_ID,\n",
    "        \"X-Naver-Client-Secret\" : CLIENT_SECRET\n",
    "    }\n",
    "    \n",
    "    response = requests.post(url, json.dumps(params), headers=headers)\n",
    "    return response.json()[\"message\"][\"result\"][\"translatedText\"]"
   ]
  },
  {
   "cell_type": "code",
   "execution_count": 42,
   "id": "a9038f84-4c8b-4923-8db3-f9db4eda5544",
   "metadata": {},
   "outputs": [
    {
     "data": {
      "text/plain": [
       "'Hello.'"
      ]
     },
     "execution_count": 42,
     "metadata": {},
     "output_type": "execute_result"
    }
   ],
   "source": [
    "translate(\"안녕하세요.\")"
   ]
  },
  {
   "cell_type": "code",
   "execution_count": null,
   "id": "3d2d14b9-2d95-4f5b-adfd-9ef0bd6357fa",
   "metadata": {},
   "outputs": [],
   "source": [
    "# 6. 한글 excel 파일을 영문 excel 파일로 변경"
   ]
  },
  {
   "cell_type": "code",
   "execution_count": 44,
   "id": "923abdcf-a4ae-4365-aa1b-1bcfa25572af",
   "metadata": {},
   "outputs": [
    {
     "name": "stdout",
     "output_type": "stream",
     "text": [
      " C 드라이브의 볼륨에는 이름이 없습니다.\n",
      " 볼륨 일련 번호: D3A3-08A0\n",
      "\n",
      " C:\\Users\\Wslee\\Desktop\\github\\aivle\\web crawling\\code 디렉터리\n",
      "\n",
      "2022-08-03  오후 04:47    <DIR>          .\n",
      "2022-08-03  오후 04:47    <DIR>          ..\n",
      "2022-08-03  오후 03:41    <DIR>          .ipynb_checkpoints\n",
      "2022-08-03  오후 03:41            37,165 01_requests_json.ipynb\n",
      "2022-08-03  오후 04:45             6,321 02_requests_api.ipynb\n",
      "2022-08-03  오후 04:46            10,060 covid.xlsx\n",
      "               3개 파일              53,546 바이트\n",
      "               3개 디렉터리  39,755,984,896 바이트 남음\n"
     ]
    }
   ],
   "source": [
    "%ls"
   ]
  },
  {
   "cell_type": "code",
   "execution_count": 47,
   "id": "834c4e9f-18b0-4631-8028-a501f38d6e6b",
   "metadata": {},
   "outputs": [
    {
     "data": {
      "text/html": [
       "<div>\n",
       "<style scoped>\n",
       "    .dataframe tbody tr th:only-of-type {\n",
       "        vertical-align: middle;\n",
       "    }\n",
       "\n",
       "    .dataframe tbody tr th {\n",
       "        vertical-align: top;\n",
       "    }\n",
       "\n",
       "    .dataframe thead th {\n",
       "        text-align: right;\n",
       "    }\n",
       "</style>\n",
       "<table border=\"1\" class=\"dataframe\">\n",
       "  <thead>\n",
       "    <tr style=\"text-align: right;\">\n",
       "      <th></th>\n",
       "      <th>category</th>\n",
       "      <th>title</th>\n",
       "    </tr>\n",
       "  </thead>\n",
       "  <tbody>\n",
       "    <tr>\n",
       "      <th>4</th>\n",
       "      <td>104</td>\n",
       "      <td>\"코로나 확진자 '0명'인 날은 절대 오지 않는다\" 美전문가</td>\n",
       "    </tr>\n",
       "    <tr>\n",
       "      <th>5</th>\n",
       "      <td>104</td>\n",
       "      <td>올림픽 다가오는데 도쿄 코로나 확산 빨라져...일주일새 25％↑</td>\n",
       "    </tr>\n",
       "  </tbody>\n",
       "</table>\n",
       "</div>"
      ],
      "text/plain": [
       "   category                                title\n",
       "4       104    \"코로나 확진자 '0명'인 날은 절대 오지 않는다\" 美전문가\n",
       "5       104  올림픽 다가오는데 도쿄 코로나 확산 빨라져...일주일새 25％↑"
      ]
     },
     "execution_count": 47,
     "metadata": {},
     "output_type": "execute_result"
    }
   ],
   "source": [
    "covid = pd.read_excel('covid.xlsx')[['category', 'title']]\n",
    "covid.tail(2)"
   ]
  },
  {
   "cell_type": "code",
   "execution_count": 51,
   "id": "59c366d9-21f1-4270-8cf5-74ccde4dc7df",
   "metadata": {},
   "outputs": [
    {
     "data": {
      "text/plain": [
       "0      SK바이오사이언스, 코로나19 백신 임상 3상 시험계획 제출\n",
       "1               고양시 노래연습장 코로나19 누적확진 41명\n",
       "2          코로나19 신규 감염, 28일 오후 9시까지 542명\n",
       "3              프로야구 수도권 구단서 코로나19 확진자 발생\n",
       "4      \"코로나 확진자 '0명'인 날은 절대 오지 않는다\" 美전문가\n",
       "5    올림픽 다가오는데 도쿄 코로나 확산 빨라져...일주일새 25％↑\n",
       "Name: title, dtype: object"
      ]
     },
     "execution_count": 51,
     "metadata": {},
     "output_type": "execute_result"
    }
   ],
   "source": [
    "covid['title']"
   ]
  },
  {
   "cell_type": "code",
   "execution_count": 52,
   "id": "467b9e89-96d8-433c-992c-305e054956bf",
   "metadata": {},
   "outputs": [],
   "source": [
    "covid_en = covid['title'].apply(translate)"
   ]
  },
  {
   "cell_type": "code",
   "execution_count": 53,
   "id": "4daa510c-459d-40bf-a0d2-265306c5d72f",
   "metadata": {},
   "outputs": [
    {
     "data": {
      "text/plain": [
       "0    SK Bioscience Submits Phase III Clinical Trial...\n",
       "1    41 cumulative COVID-19 confirmed patients at G...\n",
       "2    New COVID-19 infections, 542 people by 9 p.m. ...\n",
       "3    Covid-19 confirmed cases in professional baseb...\n",
       "4    \"The day when there are zero confirmed cases o...\n",
       "5    As the Olympics are approaching, the spread of...\n",
       "Name: title, dtype: object"
      ]
     },
     "execution_count": 53,
     "metadata": {},
     "output_type": "execute_result"
    }
   ],
   "source": [
    "covid_en"
   ]
  },
  {
   "cell_type": "code",
   "execution_count": 54,
   "id": "1d2bc16f-c1a6-415e-a974-73e9226976b1",
   "metadata": {},
   "outputs": [
    {
     "data": {
      "text/html": [
       "<div>\n",
       "<style scoped>\n",
       "    .dataframe tbody tr th:only-of-type {\n",
       "        vertical-align: middle;\n",
       "    }\n",
       "\n",
       "    .dataframe tbody tr th {\n",
       "        vertical-align: top;\n",
       "    }\n",
       "\n",
       "    .dataframe thead th {\n",
       "        text-align: right;\n",
       "    }\n",
       "</style>\n",
       "<table border=\"1\" class=\"dataframe\">\n",
       "  <thead>\n",
       "    <tr style=\"text-align: right;\">\n",
       "      <th></th>\n",
       "      <th>category</th>\n",
       "      <th>title</th>\n",
       "      <th>title_en</th>\n",
       "    </tr>\n",
       "  </thead>\n",
       "  <tbody>\n",
       "    <tr>\n",
       "      <th>0</th>\n",
       "      <td>101</td>\n",
       "      <td>SK바이오사이언스, 코로나19 백신 임상 3상 시험계획 제출</td>\n",
       "      <td>SK Bioscience Submits Phase III Clinical Trial...</td>\n",
       "    </tr>\n",
       "    <tr>\n",
       "      <th>1</th>\n",
       "      <td>102</td>\n",
       "      <td>고양시 노래연습장 코로나19 누적확진 41명</td>\n",
       "      <td>41 cumulative COVID-19 confirmed patients at G...</td>\n",
       "    </tr>\n",
       "    <tr>\n",
       "      <th>2</th>\n",
       "      <td>103</td>\n",
       "      <td>코로나19 신규 감염, 28일 오후 9시까지 542명</td>\n",
       "      <td>New COVID-19 infections, 542 people by 9 p.m. ...</td>\n",
       "    </tr>\n",
       "    <tr>\n",
       "      <th>3</th>\n",
       "      <td>103</td>\n",
       "      <td>프로야구 수도권 구단서 코로나19 확진자 발생</td>\n",
       "      <td>Covid-19 confirmed cases in professional baseb...</td>\n",
       "    </tr>\n",
       "    <tr>\n",
       "      <th>4</th>\n",
       "      <td>104</td>\n",
       "      <td>\"코로나 확진자 '0명'인 날은 절대 오지 않는다\" 美전문가</td>\n",
       "      <td>\"The day when there are zero confirmed cases o...</td>\n",
       "    </tr>\n",
       "    <tr>\n",
       "      <th>5</th>\n",
       "      <td>104</td>\n",
       "      <td>올림픽 다가오는데 도쿄 코로나 확산 빨라져...일주일새 25％↑</td>\n",
       "      <td>As the Olympics are approaching, the spread of...</td>\n",
       "    </tr>\n",
       "  </tbody>\n",
       "</table>\n",
       "</div>"
      ],
      "text/plain": [
       "   category                                title  \\\n",
       "0       101    SK바이오사이언스, 코로나19 백신 임상 3상 시험계획 제출   \n",
       "1       102             고양시 노래연습장 코로나19 누적확진 41명   \n",
       "2       103        코로나19 신규 감염, 28일 오후 9시까지 542명   \n",
       "3       103            프로야구 수도권 구단서 코로나19 확진자 발생   \n",
       "4       104    \"코로나 확진자 '0명'인 날은 절대 오지 않는다\" 美전문가   \n",
       "5       104  올림픽 다가오는데 도쿄 코로나 확산 빨라져...일주일새 25％↑   \n",
       "\n",
       "                                            title_en  \n",
       "0  SK Bioscience Submits Phase III Clinical Trial...  \n",
       "1  41 cumulative COVID-19 confirmed patients at G...  \n",
       "2  New COVID-19 infections, 542 people by 9 p.m. ...  \n",
       "3  Covid-19 confirmed cases in professional baseb...  \n",
       "4  \"The day when there are zero confirmed cases o...  \n",
       "5  As the Olympics are approaching, the spread of...  "
      ]
     },
     "execution_count": 54,
     "metadata": {},
     "output_type": "execute_result"
    }
   ],
   "source": [
    "covid[\"title_en\"] = covid_en\n",
    "covid"
   ]
  },
  {
   "cell_type": "code",
   "execution_count": 55,
   "id": "06436ce3-b93a-405d-94f7-d2aef52fc29b",
   "metadata": {},
   "outputs": [],
   "source": [
    "# utf-8-sig : excel 에서 사용하는 인코딩 방식과 호환이 되는 utf-8 인코딩 방식\n",
    "covid.to_excel(\"covid_en.xlsx\", index=False, encoding=\"utf-8-sig\")"
   ]
  },
  {
   "cell_type": "code",
   "execution_count": 58,
   "id": "13bf71d2-6aaf-40a9-80cd-53293f616190",
   "metadata": {},
   "outputs": [],
   "source": [
    "# 함수 : Scope\n",
    "# 변수를 선언할때 함수 밖에서 선언하는것과 함수 안에서 선언하는 변수의 메모리 저장공간이 다릅니다.\n",
    "# 전역(global)영역 : 함수 밖의 영역\n",
    "# 지역(local) 영역 : 함수 안의 영역\n",
    "# global : 지역영역에서 전역영역에 있는 변수를 가져올때 사용하는 명령어"
   ]
  },
  {
   "cell_type": "code",
   "execution_count": 60,
   "id": "f6b1397a-3978-4ddf-b00c-44e85805d86a",
   "metadata": {},
   "outputs": [
    {
     "name": "stdout",
     "output_type": "stream",
     "text": [
      "20\n"
     ]
    }
   ],
   "source": [
    "data = 10\n",
    "\n",
    "def change():\n",
    "    global data\n",
    "    data = 20\n",
    "    \n",
    "change()\n",
    "print(data)"
   ]
  },
  {
   "cell_type": "code",
   "execution_count": null,
   "id": "09bc2fad-d412-4a82-8283-67bd0e683766",
   "metadata": {},
   "outputs": [],
   "source": [
    "# 실습 과제\n",
    "# https://finance.daum.net/exchanges\n",
    "# headers : referer, user-agent 설정\n"
   ]
  }
 ],
 "metadata": {
  "kernelspec": {
   "display_name": "Python 3 (ipykernel)",
   "language": "python",
   "name": "python3"
  },
  "language_info": {
   "codemirror_mode": {
    "name": "ipython",
    "version": 3
   },
   "file_extension": ".py",
   "mimetype": "text/x-python",
   "name": "python",
   "nbconvert_exporter": "python",
   "pygments_lexer": "ipython3",
   "version": "3.9.7"
  }
 },
 "nbformat": 4,
 "nbformat_minor": 5
}
