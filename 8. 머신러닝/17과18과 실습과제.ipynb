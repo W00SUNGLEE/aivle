{
 "cells": [
  {
   "cell_type": "markdown",
   "metadata": {
    "id": "cVB9pY-v8uv5"
   },
   "source": [
    "# 전통적 시계열 모델링\n",
    "\n",
    "   ## 유통매장 수요량 예측\n",
    "\n",
    "* 비즈니스 현황\n",
    "    * 고객사는 A 유통회사의 a 매장 입니다.\n",
    "    * a 매장에서 주력상품인 a01에 대한 재고 최적화를 위해 수요량을 예측하고자 합니다.\n",
    "    * 최근 경쟁사의 매장이 가까운 거리에 오픈하였고, 유사한 상품에 대한 공격적인 마케팅을 펼치고 있습니다. \n",
    "* 발주 최적화를 위한 수요량 예측\n",
    "    * 일마감 이후, 발주량을 결정할 때, 예측된 수요량이 필요합니다.\n",
    "    * 발주후 입고까지는 2일의 기간이 걸립니다. \n",
    "    * 예를 들면 \n",
    "        * 2019년 6월 1일 저녁 10시 일마감 직후, 6월 3일의 수요량을 예측해야 합니다.\n",
    "\n",
    "\n",
    "![](https://www.artefact.com//wp-content/uploads/2021/08/GettyImages-1295864156-scaled.jpg)"
   ]
  },
  {
   "cell_type": "markdown",
   "metadata": {
    "id": "jnCv9u_Wy9e1"
   },
   "source": [
    "# 1.환경 준비"
   ]
  },
  {
   "cell_type": "markdown",
   "metadata": {
    "id": "O1uL0UIEzBPw"
   },
   "source": [
    "## (1) Import Packages"
   ]
  },
  {
   "cell_type": "code",
   "execution_count": null,
   "metadata": {
    "id": "GVvCef6A8uv6"
   },
   "outputs": [],
   "source": [
    "import pandas as pd\n",
    "import numpy as np\n",
    "import matplotlib.pyplot as plt\n",
    "import seaborn as sns\n",
    "\n",
    "import scipy.stats as spst\n",
    "import statsmodels.api as sm\n",
    "from statsmodels.graphics.tsaplots import plot_acf, plot_pacf\n",
    "\n",
    "import warnings\n",
    "from statsmodels.tools.sm_exceptions import ConvergenceWarning\n",
    "warnings.filterwarnings(action='ignore')\n",
    "warnings.simplefilter('ignore', ConvergenceWarning)"
   ]
  },
  {
   "cell_type": "markdown",
   "metadata": {
    "id": "VHy5s1OOzItm"
   },
   "source": [
    "## (2) Data Loading"
   ]
  },
  {
   "cell_type": "code",
   "execution_count": null,
   "metadata": {
    "id": "3GgFpOB4zQ7h"
   },
   "outputs": [],
   "source": [
    "path = 'https://raw.githubusercontent.com/DA4BAM/dataset/master/retail_demand2.csv'\n",
    "data = pd.read_csv(path)\n",
    "data = data.loc[(data['date']>= '2013-06-01') & (data['date']< '2015-07-01')].reset_index(drop = True)\n",
    "data.head(10)"
   ]
  },
  {
   "cell_type": "markdown",
   "metadata": {
    "id": "cG5cky5FS7jp"
   },
   "source": [
    "* 변수 설명\n",
    "\n",
    "    * date : 날짜\n",
    "    * item : 상품코드 (여기서는 한가지 상품만 있음)\n",
    "    * sales : A유통회사 a 매장 판매량 ==> target\n",
    "    * tot_sales : A유통회사 전체 판매량\n",
    "    * comp_sales : 인근에 위치한 B유통회사 b 매장 판매량"
   ]
  },
  {
   "cell_type": "code",
   "execution_count": null,
   "metadata": {
    "id": "DUpVlbReCZS9"
   },
   "outputs": [],
   "source": [
    "plt.figure(figsize = (20,8))\n",
    "plt.plot(data['sales'])\n",
    "plt.grid()\n",
    "plt.show()"
   ]
  },
  {
   "cell_type": "markdown",
   "metadata": {
    "id": "DEoiMH2cIfcE"
   },
   "source": [
    "## (3) 함수 생성 "
   ]
  },
  {
   "cell_type": "markdown",
   "metadata": {
    "id": "wz964deeIlvQ"
   },
   "source": [
    "* 잔차분석"
   ]
  },
  {
   "cell_type": "code",
   "execution_count": null,
   "metadata": {
    "id": "idEWM3VAIiCV"
   },
   "outputs": [],
   "source": [
    "def residual_diag(residuals, lags = 20) :\n",
    "\n",
    "    print('* 정규성 검정(> 0.05) : ', round(spst.shapiro(residuals)[1],5))\n",
    "    print('* 정상성 검정(< 0.05) : ', round(sm.tsa.stattools.adfuller(residuals)[1],5))\n",
    "    print('* 자기상관성 확인(ACF, PACF)')\n",
    "    fig,ax = plt.subplots(1,2, figsize = (15,5))\n",
    "    plot_acf(residuals, lags = lags, ax = ax[0])\n",
    "    plot_pacf(residuals, lags = lags, ax = ax[1])\n",
    "    plt.show()"
   ]
  },
  {
   "cell_type": "markdown",
   "metadata": {
    "id": "wW0d0eGmCYJM"
   },
   "source": [
    "# 2.데이터 준비 "
   ]
  },
  {
   "cell_type": "markdown",
   "metadata": {
    "id": "WKUlhPjfLwQD"
   },
   "source": [
    "## (1) 시간정보 인덱스 만들기\n",
    "* 날짜 타입으로 변환\n",
    "* 날짜를 인덱스로\n",
    "* freq 지정하기"
   ]
  },
  {
   "cell_type": "markdown",
   "metadata": {
    "id": "f6izlN8PO8u5"
   },
   "source": [
    "### 1) 날짜 타입으로 변경하기"
   ]
  },
  {
   "cell_type": "code",
   "execution_count": null,
   "metadata": {
    "id": "689S2PusPNQ6"
   },
   "outputs": [],
   "source": []
  },
  {
   "cell_type": "markdown",
   "metadata": {
    "id": "YzJ6BiXCujTp"
   },
   "source": [
    "### 2) 날짜를 인덱스로 변환하기"
   ]
  },
  {
   "cell_type": "code",
   "execution_count": null,
   "metadata": {
    "id": "rlipXDmdnYF1"
   },
   "outputs": [],
   "source": []
  },
  {
   "cell_type": "markdown",
   "metadata": {
    "id": "p7KBfAHjeF-H"
   },
   "source": [
    "### 3) 날짜단위 지정하기 : freq\n",
    "\n",
    "* **분석 단위**를 어떻게 가져갈 것인가와 관련이 있습니다.\n",
    "* 시계열 데이터를 **일정한 시간 간격**으로 만들어 줍니다.\n",
    "* 인덱스 조회시, 마지막에 있는 **freq** 옵션"
   ]
  },
  {
   "cell_type": "code",
   "execution_count": null,
   "metadata": {
    "id": "Swx0faeunYF3"
   },
   "outputs": [],
   "source": []
  },
  {
   "cell_type": "markdown",
   "metadata": {
    "id": "oZl2TdpLLwQF"
   },
   "source": [
    "## (2) y 만들기\n",
    "2일후의 판매량을 예측해야 합니다."
   ]
  },
  {
   "cell_type": "code",
   "execution_count": null,
   "metadata": {
    "id": "zjglO5PuLwQF"
   },
   "outputs": [],
   "source": []
  },
  {
   "cell_type": "markdown",
   "metadata": {
    "id": "jC-EE5I5LwQG"
   },
   "source": [
    "## (3) NaN 조치 \n",
    "* y 생성으로 인해 NaN이 발생되었습니다. 어떻게 조치해야 할까요?"
   ]
  },
  {
   "cell_type": "code",
   "execution_count": null,
   "metadata": {
    "id": "OL67gZauLwQG"
   },
   "outputs": [],
   "source": []
  },
  {
   "cell_type": "markdown",
   "metadata": {
    "id": "J7loZvlMLwQG"
   },
   "source": [
    "## (4) 가변수화"
   ]
  },
  {
   "cell_type": "markdown",
   "metadata": {
    "id": "84sf0jI0LwQG"
   },
   "source": [
    "## (5) 데이터 분할\n",
    "\n",
    "* Cross Validation : 데이터의 마지막 6개월을 6등분해서 교차 검증해 봅시다.\n",
    "    * fold : 6\n",
    "    * validation size : 1개월(30일)"
   ]
  },
  {
   "cell_type": "markdown",
   "metadata": {
    "id": "YZk7Ha1YLwQG"
   },
   "source": [
    "### 1) x, y 나누기"
   ]
  },
  {
   "cell_type": "code",
   "execution_count": null,
   "metadata": {
    "id": "YCI8K9kALwQG"
   },
   "outputs": [],
   "source": []
  },
  {
   "cell_type": "markdown",
   "metadata": {
    "id": "-1YFPHZrLwQG"
   },
   "source": [
    "### 2) 시계열 데이터 분할\n",
    "\n",
    "https://scikit-learn.org/stable/modules/generated/sklearn.model_selection.TimeSeriesSplit.html"
   ]
  },
  {
   "cell_type": "code",
   "execution_count": null,
   "metadata": {
    "id": "489BrrTCLwQG"
   },
   "outputs": [],
   "source": [
    "from sklearn.model_selection import TimeSeriesSplit"
   ]
  },
  {
   "cell_type": "code",
   "execution_count": null,
   "metadata": {
    "id": "Iz-5EJ-ILwQH"
   },
   "outputs": [],
   "source": [
    "# validation set size\n",
    "val_size = \n",
    "nfold = \n",
    "\n",
    "tscv = TimeSeriesSplit( )"
   ]
  },
  {
   "cell_type": "markdown",
   "metadata": {
    "id": "31UjxDapIFw4"
   },
   "source": [
    "# 4.모델링 : Baseline Model"
   ]
  },
  {
   "cell_type": "code",
   "execution_count": null,
   "metadata": {
    "id": "SSLMwocO1vdf"
   },
   "outputs": [],
   "source": [
    "from sklearn.linear_model import LinearRegression\n",
    "from sklearn.metrics import * "
   ]
  },
  {
   "cell_type": "markdown",
   "metadata": {
    "id": "ARTv024DnvVP"
   },
   "source": [
    "## (1) Cross Validation\n",
    "\n",
    "* for loop를 이용하여 Cross Validation을 수행하시오.\n",
    "* 알고리즘은 LinearRegression을 이용하여 default로 사용"
   ]
  },
  {
   "cell_type": "code",
   "execution_count": null,
   "metadata": {
    "id": "bra-tNPXyTos"
   },
   "outputs": [],
   "source": [
    "model = "
   ]
  },
  {
   "cell_type": "code",
   "execution_count": null,
   "metadata": {
    "id": "TbSwHqtx11eD"
   },
   "outputs": [],
   "source": [
    "rmse, mae, mape = [],[],[]\n",
    "residuals = []\n",
    "pred = []\n",
    "\n",
    "for train_index, val_index in tscv.split(x):\n",
    "\n",
    "    # 인덱스로 데이터 분할\n",
    "    x_train, y_train = x.iloc[train_index], y.iloc[train_index]\n",
    "    x_val, y_val = x.iloc[val_index], y.iloc[val_index]\n",
    "\n",
    "    # 학습\n",
    "    model.fit(x_train, y_train)\n",
    "\n",
    "    # 예측\n",
    "    pr = model.predict(x_val)\n",
    "    pred += list(pr)\n",
    "\n",
    "    # 평가\n",
    "    rmse.append(mean_squared_error(y_val, pr, squared = False))\n",
    "    mae.append(mean_absolute_error(y_val, pr))\n",
    "    mape.append(mean_absolute_percentage_error(y_val, pr))\n",
    "\n",
    "    # 잔차 : 각 fold의 결과를 리스트로 변환하여 추가\n",
    "    residuals += list(y_val - pr)"
   ]
  },
  {
   "cell_type": "markdown",
   "metadata": {
    "id": "UM3LQP6Rn9AK"
   },
   "source": [
    "## (2) 예측 결과 평가"
   ]
  },
  {
   "cell_type": "markdown",
   "metadata": {
    "id": "zANg8Zi3oFoA"
   },
   "source": [
    "### 1) RMSE, MAE, MAPE"
   ]
  },
  {
   "cell_type": "code",
   "execution_count": null,
   "metadata": {
    "id": "EiLvX5aDoJHm"
   },
   "outputs": [],
   "source": [
    "print('RMSE : ',round(np.mean(rmse),4))\n",
    "print('MAE  : ',round(np.mean(mae),4))\n",
    "print('MAPE : ',round(np.mean(mape),4))"
   ]
  },
  {
   "cell_type": "markdown",
   "metadata": {
    "id": "WGGWLOpkoJaD"
   },
   "source": [
    "### 2) 그래프 비교"
   ]
  },
  {
   "cell_type": "code",
   "execution_count": null,
   "metadata": {
    "id": "Y4YlhqnVO6nc"
   },
   "outputs": [],
   "source": [
    "n = val_size * nfold\n",
    "pred = pd.Series(pred, index = y[-n:].index)"
   ]
  },
  {
   "cell_type": "code",
   "execution_count": null,
   "metadata": {
    "id": "tcWzvdJpy6SL"
   },
   "outputs": [],
   "source": [
    "plt.figure(figsize = (20,8))\n",
    "plt.plot(y[:-n], label = 'train')\n",
    "plt.plot(y[-n:], label = 'val')\n",
    "plt.plot(pred, label = 'predicted')\n",
    "\n",
    "plt.legend()\n",
    "plt.grid()\n",
    "plt.show()"
   ]
  },
  {
   "cell_type": "code",
   "execution_count": null,
   "metadata": {
    "id": "H8J2-8tqy-Vq"
   },
   "outputs": [],
   "source": [
    "plt.figure(figsize = (20,8))\n",
    "plt.plot(y[-n:], label = 'val')\n",
    "plt.plot(pred, label = 'predicted')\n",
    "\n",
    "plt.legend()\n",
    "plt.grid()\n",
    "plt.show()"
   ]
  },
  {
   "cell_type": "markdown",
   "metadata": {
    "id": "A2GWpdAtzgZJ"
   },
   "source": [
    "# 5.평가 : 잔차분석"
   ]
  },
  {
   "cell_type": "markdown",
   "metadata": {
    "id": "NUCFCxa45hD7"
   },
   "source": [
    "## (1) 시각화\n",
    "\n",
    "* 잔차에 대해 라인차트, 히스토그램 등을 그려봅시다."
   ]
  },
  {
   "cell_type": "code",
   "execution_count": null,
   "metadata": {
    "id": "scxQCwCaoj8_"
   },
   "outputs": [],
   "source": [
    "plt.figure(figsize = (12,8))\n",
    "plt.plot(residuals)\n",
    "plt.axhline(0, color = 'r', ls = '--')\n",
    "plt.axhline(np.mean(residuals), color = 'g', ls = '--')\n",
    "plt.show()"
   ]
  },
  {
   "cell_type": "markdown",
   "metadata": {
    "id": "5EzJvVc3-MOy"
   },
   "source": [
    "## (2) ACF, PACF\n",
    "\n",
    "* acf, pacf 그림을 그려 자기 상관성 여부를 판단해 봅시다."
   ]
  },
  {
   "cell_type": "code",
   "execution_count": null,
   "metadata": {
    "id": "7bvykqnw-LwH"
   },
   "outputs": [],
   "source": [
    "from statsmodels.graphics.tsaplots import plot_acf, plot_pacf"
   ]
  },
  {
   "cell_type": "code",
   "execution_count": null,
   "metadata": {
    "id": "fl8nNNPH-P-2"
   },
   "outputs": [],
   "source": [
    "lags = 20\n",
    "\n",
    "fig,ax = plt.subplots(1,2, figsize = (15,5))\n",
    "plot_acf(residuals, lags = lags, ax = ax[0])\n",
    "plot_pacf(residuals, lags = lags, ax = ax[1])\n",
    "plt.show()"
   ]
  },
  {
   "cell_type": "markdown",
   "metadata": {
    "id": "Wy4deB6j6pzh"
   },
   "source": [
    "## (3) 검정\n",
    "\n",
    "* 정규성 검정, 정상성 검정을 수행하고 판정해 봅시다."
   ]
  },
  {
   "cell_type": "code",
   "execution_count": null,
   "metadata": {
    "id": "f89fwqvW7NAP"
   },
   "outputs": [],
   "source": [
    "from scipy import stats\n",
    "import statsmodels.api as sm"
   ]
  },
  {
   "cell_type": "markdown",
   "metadata": {
    "id": "kMfGQvox65H6"
   },
   "source": [
    "* 정규성 검정 : Shapiro-Wilk 검정"
   ]
  },
  {
   "cell_type": "code",
   "execution_count": null,
   "metadata": {
    "id": "ZAd8ooBxzlic"
   },
   "outputs": [],
   "source": [
    "stats.shapiro(residuals)[1]"
   ]
  },
  {
   "cell_type": "markdown",
   "metadata": {
    "id": "pJkXVRNU8Y7U"
   },
   "source": [
    "* 정상성 검정 : ADF 검정"
   ]
  },
  {
   "cell_type": "code",
   "execution_count": null,
   "metadata": {
    "id": "o1slWXD99nzw"
   },
   "outputs": [],
   "source": [
    "sm.tsa.stattools.adfuller(residuals)[1]"
   ]
  },
  {
   "cell_type": "markdown",
   "metadata": {
    "id": "XISaBFuuqHhL"
   },
   "source": [
    "# 6.모델링 : ARIMA"
   ]
  },
  {
   "cell_type": "code",
   "execution_count": null,
   "metadata": {
    "id": "ZHDjBwQBLOxd"
   },
   "outputs": [],
   "source": [
    "from sklearn.metrics import *"
   ]
  },
  {
   "cell_type": "markdown",
   "metadata": {
    "id": "k-bOrYkYHcDa"
   },
   "source": [
    "## (1) y 값 살펴보기"
   ]
  },
  {
   "cell_type": "code",
   "execution_count": null,
   "metadata": {
    "id": "BbUsEWcVovkw"
   },
   "outputs": [],
   "source": [
    "residual_diag(y, lags = 20)"
   ]
  },
  {
   "cell_type": "markdown",
   "metadata": {
    "id": "5JIWU_Rho4qP"
   },
   "source": [
    "## (2) 모델링 : 초기모델"
   ]
  },
  {
   "cell_type": "markdown",
   "metadata": {
    "id": "vQrCYkCPo4qQ"
   },
   "source": [
    "* p, d, q 값을 어떻게 정해야 할까요?\n",
    "* AR의 p 차수와 MA q 차수 모두 값이 필요해 보입니다. 일단 1, 1을 지정합시다."
   ]
  },
  {
   "cell_type": "code",
   "execution_count": null,
   "metadata": {
    "id": "fvoeBTYophev"
   },
   "outputs": [],
   "source": [
    "train = y[:-30]\n",
    "val = y[-30:]"
   ]
  },
  {
   "cell_type": "markdown",
   "metadata": {
    "id": "yViklUjXbhdN"
   },
   "source": [
    "### 1) 학습"
   ]
  },
  {
   "cell_type": "markdown",
   "metadata": {
    "id": "jqCqY1IrEbOo"
   },
   "source": [
    "* sm.tsa.SARIMAX(train, order=(p,d,q)).fit()\n",
    "    * 모델 선언시 train이 포함\n",
    "    * .fit()으로 학습."
   ]
  },
  {
   "cell_type": "code",
   "execution_count": null,
   "metadata": {
    "id": "dMJkUvYZc2i7"
   },
   "outputs": [],
   "source": [
    "model1 = "
   ]
  },
  {
   "cell_type": "markdown",
   "metadata": {
    "id": "ZosuIjIQG534"
   },
   "source": [
    "### 2) 평가"
   ]
  },
  {
   "cell_type": "markdown",
   "metadata": {
    "id": "zdkJ_HM2bqCm"
   },
   "source": [
    "#### ① 잔차진단"
   ]
  },
  {
   "cell_type": "code",
   "execution_count": null,
   "metadata": {
    "id": "nymDqFsYPZ6b"
   },
   "outputs": [],
   "source": []
  },
  {
   "cell_type": "markdown",
   "metadata": {
    "id": "WMadFywAHNdj"
   },
   "source": [
    "#### ② AIC\n",
    "* 선형 모델에서의 적합도와, feature가 과도하게 늘어나는 것을 방지하도록 설계된 통계량이 AIC 입니다.\n",
    "* 값이 작을 수록 좋은 모델\n",
    "* 공식 : 𝐴𝐼𝐶=−2 ln⁡(𝐿)+2𝑘 ➡ - 모델의 적합도 + 변수의 갯수"
   ]
  },
  {
   "cell_type": "code",
   "execution_count": null,
   "metadata": {
    "id": "0cMCOj7lzZtn"
   },
   "outputs": [],
   "source": []
  },
  {
   "cell_type": "markdown",
   "metadata": {
    "id": "BdU4TLWBpBz6"
   },
   "source": [
    "#### ③ Validation\n",
    "\n",
    "시계열 데이터로 실제값과 예측값에 대해 비교하여 그래프를 그려봅시다."
   ]
  },
  {
   "cell_type": "code",
   "execution_count": null,
   "metadata": {
    "id": "rb2X5yFNVbvs"
   },
   "outputs": [],
   "source": []
  },
  {
   "cell_type": "code",
   "execution_count": null,
   "metadata": {
    "id": "0DGynj78kdDy"
   },
   "outputs": [],
   "source": [
    "plt.figure(figsize=(15,8))\n",
    "plt.plot(train[-120:], label='train')\n",
    "plt.plot(pred, label = 'forecast')\n",
    "plt.plot(val, label = 'val')\n",
    "plt.legend()\n",
    "plt.show()"
   ]
  },
  {
   "cell_type": "markdown",
   "metadata": {
    "id": "f0ML9nggRF3g"
   },
   "source": [
    "## (3) 하이퍼파라미터 튜닝"
   ]
  },
  {
   "cell_type": "markdown",
   "metadata": {
    "id": "LhjxJIbNcvo7"
   },
   "source": [
    "### 1) 학습"
   ]
  },
  {
   "cell_type": "code",
   "execution_count": null,
   "metadata": {
    "id": "JermisztPkzf"
   },
   "outputs": [],
   "source": [
    "from itertools import product"
   ]
  },
  {
   "cell_type": "markdown",
   "metadata": {
    "id": "x4wHHu36flvb"
   },
   "source": [
    "* 값의 범위 지정"
   ]
  },
  {
   "cell_type": "code",
   "execution_count": null,
   "metadata": {
    "id": "nLAqcBeAfjyZ"
   },
   "outputs": [],
   "source": [
    "# product 함수를 이용하여 값의 조합을 구성\n",
    "p = [1,2,3,4]\n",
    "q = [1,2,3,4]\n",
    "d = [1,2]\n",
    "iter = list(product(p,d,q))\n",
    "iter"
   ]
  },
  {
   "cell_type": "code",
   "execution_count": null,
   "metadata": {
    "id": "0923t5ugPsGs"
   },
   "outputs": [],
   "source": [
    "# \n",
    "mae, aic = [],[]\n",
    "for i in iter :\n",
    "    model_fit = \n",
    "    pred = \n",
    "    mae.append( mean_absolute_error(val, pred))\n",
    "    aic.append(model_fit.aic)\n",
    "    print(i)"
   ]
  },
  {
   "cell_type": "code",
   "execution_count": null,
   "metadata": {
    "id": "yrAmvc4NPsGt"
   },
   "outputs": [],
   "source": [
    "result = pd.DataFrame({'params(p,d,q)' : iter, 'mae' : mae, 'aic':aic})\n",
    "\n",
    "display(result.loc[result['mae'] == result.mae.min()])\n",
    "display(result.loc[result['aic'] == result.aic.min()])"
   ]
  },
  {
   "cell_type": "code",
   "execution_count": null,
   "metadata": {
    "id": "7l-RJG3jQVyD"
   },
   "outputs": [],
   "source": [
    "model2_1 = \n",
    "model2_2 = "
   ]
  },
  {
   "cell_type": "markdown",
   "metadata": {
    "id": "OXTvBEzBcodF"
   },
   "source": [
    "### 2) 평가"
   ]
  },
  {
   "cell_type": "markdown",
   "metadata": {
    "id": "aoze7fTkcodF"
   },
   "source": [
    "#### ① 잔차진단"
   ]
  },
  {
   "cell_type": "code",
   "execution_count": null,
   "metadata": {
    "id": "C9ki3tfNcodF"
   },
   "outputs": [],
   "source": []
  },
  {
   "cell_type": "code",
   "execution_count": null,
   "metadata": {
    "id": "l9NJ6msbQzf8"
   },
   "outputs": [],
   "source": []
  },
  {
   "cell_type": "markdown",
   "metadata": {
    "id": "ZpyxIVPZcodG"
   },
   "source": [
    "#### ② AIC\n",
    "* 선형 모델에서의 적합도와, feature가 과도하게 늘어나는 것을 방지하도록 설계된 통계량이 AIC 입니다.\n",
    "* 값이 작을 수록 좋은 모델\n",
    "* 공식 : 𝐴𝐼𝐶=−2 ln⁡(𝐿)+2𝑘 ➡ - 모델의 적합도 + 변수의 갯수"
   ]
  },
  {
   "cell_type": "code",
   "execution_count": null,
   "metadata": {
    "id": "KO8bBT0LcodG"
   },
   "outputs": [],
   "source": []
  },
  {
   "cell_type": "markdown",
   "metadata": {
    "id": "OYv6fGjXcodG"
   },
   "source": [
    "#### ③ Validation(그래프 비교)\n"
   ]
  },
  {
   "cell_type": "code",
   "execution_count": null,
   "metadata": {
    "id": "FC_NpB4ncodG"
   },
   "outputs": [],
   "source": []
  },
  {
   "cell_type": "code",
   "execution_count": null,
   "metadata": {
    "id": "bYihPBy3RHpl"
   },
   "outputs": [],
   "source": []
  },
  {
   "cell_type": "code",
   "execution_count": null,
   "metadata": {
    "id": "S1aY9n44_1Om"
   },
   "outputs": [],
   "source": []
  },
  {
   "cell_type": "code",
   "execution_count": null,
   "metadata": {
    "id": "2xNGxRWQpSPh"
   },
   "outputs": [],
   "source": []
  },
  {
   "cell_type": "markdown",
   "metadata": {
    "id": "y5v5E2C5SY3J"
   },
   "source": [
    "## (4) Cross Validation"
   ]
  },
  {
   "cell_type": "markdown",
   "metadata": {
    "id": "MzyLa-O6dgnf"
   },
   "source": [
    "### 1) 학습"
   ]
  },
  {
   "cell_type": "code",
   "execution_count": null,
   "metadata": {
    "id": "HMVsMv-uT9Gp"
   },
   "outputs": [],
   "source": [
    "rmse, mae, mape, aic = [],[],[],[]\n",
    "residuals = []\n",
    "preds = []\n",
    "p,d,q = 2,2,3\n",
    "\n",
    "for train_index, val_index in tscv.split(x):\n",
    "\n",
    "    # 인덱스로 데이터 분할\n",
    "    train = y[train_index]\n",
    "    val = y[val_index]\n",
    "\n",
    "    # 학습\n",
    "    model = sm.tsa.SARIMAX(train, order=(p,d,q)).fit()\n",
    "\n",
    "    # 예측\n",
    "    pred = model.forecast(val_size)\n",
    "    preds += list(pred)\n",
    "\n",
    "    # 잔차 저장\n",
    "    residuals += list(model.resid)\n",
    "\n",
    "    # 평가\n",
    "    rmse.append(mean_squared_error(val, pred, squared = False))\n",
    "    mae.append(mean_absolute_error(val, pred))\n",
    "    mape.append(mean_absolute_percentage_error(val, pred))\n",
    "    aic.append(model.aic)"
   ]
  },
  {
   "cell_type": "code",
   "execution_count": null,
   "metadata": {
    "id": "hGC1SauPHVTN"
   },
   "outputs": [],
   "source": [
    "print('RMSE : ',round(np.mean(rmse),4))\n",
    "print('MAE  : ',round(np.mean(mae),4))\n",
    "print('MAPE : ',round(np.mean(mape),4))"
   ]
  },
  {
   "cell_type": "markdown",
   "metadata": {
    "id": "DI28CdDDdioF"
   },
   "source": [
    "### 2) 평가"
   ]
  },
  {
   "cell_type": "markdown",
   "metadata": {
    "id": "NNASmohHpaKE"
   },
   "source": [
    "#### ① 잔차진단"
   ]
  },
  {
   "cell_type": "markdown",
   "metadata": {
    "id": "VZBngCXzpaKG"
   },
   "source": [
    "* residual_diag"
   ]
  },
  {
   "cell_type": "code",
   "execution_count": null,
   "metadata": {
    "id": "uSH04C0upaKH"
   },
   "outputs": [],
   "source": []
  },
  {
   "cell_type": "markdown",
   "metadata": {
    "id": "qdO23H9BpaKH"
   },
   "source": [
    "#### ② AIC\n",
    "* 선형 모델에서의 적합도와, feature가 과도하게 늘어나는 것을 방지하도록 설계된 통계량이 AIC 입니다.\n",
    "* 값이 작을 수록 좋은 모델\n",
    "* 공식 : 𝐴𝐼𝐶=−2 ln⁡(𝐿)+2𝑘 ➡ - 모델의 적합도 + 변수의 갯수"
   ]
  },
  {
   "cell_type": "code",
   "execution_count": null,
   "metadata": {
    "id": "tJn6ChkhdioI"
   },
   "outputs": [],
   "source": []
  },
  {
   "cell_type": "markdown",
   "metadata": {
    "id": "zzfzmi2TdioI"
   },
   "source": [
    "#### ③ Validation"
   ]
  },
  {
   "cell_type": "code",
   "execution_count": null,
   "metadata": {
    "id": "aTDehB4fSI1R"
   },
   "outputs": [],
   "source": [
    "n = nfold * val_size"
   ]
  },
  {
   "cell_type": "code",
   "execution_count": null,
   "metadata": {
    "id": "SfZfDdRqeZFk"
   },
   "outputs": [],
   "source": [
    "preds = pd.Series(preds, index = y[-n:].index)\n",
    "print('MAE :', mean_absolute_error(y[-n:], preds))\n",
    "\n",
    "plt.figure(figsize = (20,8))\n",
    "plt.plot(y[-200:], label = 'train')\n",
    "plt.plot(y[-n:], label = 'val')\n",
    "plt.plot(preds, label = 'predicted')\n",
    "\n",
    "plt.legend()\n",
    "plt.grid()\n",
    "plt.show()"
   ]
  },
  {
   "cell_type": "markdown",
   "metadata": {
    "id": "dB_MISZcyG9t"
   },
   "source": [
    "# 7.모델링 : SARIMA"
   ]
  },
  {
   "cell_type": "markdown",
   "metadata": {
    "id": "7nOKgeTKyG97"
   },
   "source": [
    "## (1) 모델링 : 초기모델"
   ]
  },
  {
   "cell_type": "code",
   "execution_count": null,
   "metadata": {
    "id": "lV0xhBmWvtRd"
   },
   "outputs": [],
   "source": [
    "train = y[:-30]\n",
    "val = y[-30:]"
   ]
  },
  {
   "cell_type": "markdown",
   "metadata": {
    "id": "dIiyeJ4ZsVAz"
   },
   "source": [
    "### 1) 학습"
   ]
  },
  {
   "cell_type": "code",
   "execution_count": null,
   "metadata": {
    "id": "atvFdMA7yG98"
   },
   "outputs": [],
   "source": [
    "model1 = sm.tsa.SARIMAX(train, order=(2,2,3), seasonal_order = (1,1,1,7)).fit()"
   ]
  },
  {
   "cell_type": "markdown",
   "metadata": {
    "id": "4WFysD3Ssfo6"
   },
   "source": [
    "### 2) 평가"
   ]
  },
  {
   "cell_type": "markdown",
   "metadata": {
    "id": "W4HJdxtYsfo7"
   },
   "source": [
    "#### ① 잔차진단"
   ]
  },
  {
   "cell_type": "code",
   "execution_count": null,
   "metadata": {
    "id": "cv1oRa1tsbmC"
   },
   "outputs": [],
   "source": []
  },
  {
   "cell_type": "markdown",
   "metadata": {
    "id": "Snt5ttXSsmgj"
   },
   "source": [
    "#### ② AIC"
   ]
  },
  {
   "cell_type": "code",
   "execution_count": null,
   "metadata": {
    "id": "mf_abb1DZEcH"
   },
   "outputs": [],
   "source": []
  },
  {
   "cell_type": "markdown",
   "metadata": {
    "id": "ryL-EIRVpxgj"
   },
   "source": [
    "#### ③ Validation(그래프 비교)\n"
   ]
  },
  {
   "cell_type": "code",
   "execution_count": null,
   "metadata": {
    "id": "PguZd-Uu4OXY"
   },
   "outputs": [],
   "source": []
  },
  {
   "cell_type": "code",
   "execution_count": null,
   "metadata": {
    "id": "mmi7BEMU4OXZ"
   },
   "outputs": [],
   "source": []
  },
  {
   "cell_type": "markdown",
   "metadata": {
    "id": "U4OnDFjDfdwi"
   },
   "source": [
    "## (2) 하이퍼파라미터 튜닝"
   ]
  },
  {
   "cell_type": "markdown",
   "metadata": {
    "id": "Hz_5yJZqs-vS"
   },
   "source": [
    "### 1) 학습"
   ]
  },
  {
   "cell_type": "code",
   "execution_count": null,
   "metadata": {
    "id": "My3kvx014gMW"
   },
   "outputs": [],
   "source": [
    "from itertools import product"
   ]
  },
  {
   "cell_type": "code",
   "execution_count": null,
   "metadata": {
    "id": "514AB6lkdWwD"
   },
   "outputs": [],
   "source": []
  },
  {
   "cell_type": "code",
   "execution_count": null,
   "metadata": {
    "id": "QuIb8WM38fnS"
   },
   "outputs": [],
   "source": []
  },
  {
   "cell_type": "code",
   "execution_count": null,
   "metadata": {
    "id": "GjoUpN8t5xTB"
   },
   "outputs": [],
   "source": []
  },
  {
   "cell_type": "code",
   "execution_count": null,
   "metadata": {
    "id": "0DfsIuhW5xTB"
   },
   "outputs": [],
   "source": []
  },
  {
   "cell_type": "markdown",
   "metadata": {
    "id": "v8lrXdbgtGLN"
   },
   "source": [
    "### 2) 평가"
   ]
  },
  {
   "cell_type": "markdown",
   "metadata": {
    "id": "gSY0Jr1YtGLO"
   },
   "source": [
    "#### ① 잔차진단"
   ]
  },
  {
   "cell_type": "code",
   "execution_count": null,
   "metadata": {
    "id": "AenqcNry5mnV"
   },
   "outputs": [],
   "source": []
  },
  {
   "cell_type": "markdown",
   "metadata": {
    "id": "HCAe4MvV5mnX"
   },
   "source": [
    "#### ② AIC"
   ]
  },
  {
   "cell_type": "code",
   "execution_count": null,
   "metadata": {
    "id": "j2vff_625mnY"
   },
   "outputs": [],
   "source": []
  },
  {
   "cell_type": "markdown",
   "metadata": {
    "id": "tZEELTMb5mnY"
   },
   "source": [
    "#### ③ Validation(그래프 비교)\n"
   ]
  },
  {
   "cell_type": "code",
   "execution_count": null,
   "metadata": {
    "id": "UJKY1QvV5mnY"
   },
   "outputs": [],
   "source": []
  },
  {
   "cell_type": "code",
   "execution_count": null,
   "metadata": {
    "id": "8NhEUCsz5mnZ"
   },
   "outputs": [],
   "source": []
  },
  {
   "cell_type": "markdown",
   "metadata": {
    "id": "MkRysB6OaIsC"
   },
   "source": [
    "## (3) Cross Validation"
   ]
  },
  {
   "cell_type": "markdown",
   "metadata": {
    "id": "pKEGok7Ws_Vu"
   },
   "source": [
    "### 1) 학습"
   ]
  },
  {
   "cell_type": "code",
   "execution_count": null,
   "metadata": {
    "id": "ivqKgQkiyMAA"
   },
   "outputs": [],
   "source": []
  },
  {
   "cell_type": "code",
   "execution_count": null,
   "metadata": {
    "id": "Fq3dBh02-tu1"
   },
   "outputs": [],
   "source": []
  },
  {
   "cell_type": "markdown",
   "metadata": {
    "id": "ew2R7G5stV3G"
   },
   "source": [
    "### 2) 평가1"
   ]
  },
  {
   "cell_type": "markdown",
   "metadata": {
    "id": "08i1wp34tV3G"
   },
   "source": [
    "#### ① 잔차진단"
   ]
  },
  {
   "cell_type": "code",
   "execution_count": null,
   "metadata": {
    "id": "AKyb7QsQtV3G"
   },
   "outputs": [],
   "source": []
  },
  {
   "cell_type": "markdown",
   "metadata": {
    "id": "oAUipvMQtV3H"
   },
   "source": [
    "#### ② AIC"
   ]
  },
  {
   "cell_type": "code",
   "execution_count": null,
   "metadata": {
    "id": "b8ofUSmctV3H"
   },
   "outputs": [],
   "source": []
  },
  {
   "cell_type": "markdown",
   "metadata": {
    "id": "91_3To5Xp1Ok"
   },
   "source": [
    "#### ③ Validation(그래프 비교)\n"
   ]
  },
  {
   "cell_type": "code",
   "execution_count": null,
   "metadata": {
    "id": "obyWz4xS79Q4"
   },
   "outputs": [],
   "source": []
  },
  {
   "cell_type": "code",
   "execution_count": null,
   "metadata": {
    "id": "WgidNuU679Q5"
   },
   "outputs": [],
   "source": []
  },
  {
   "cell_type": "markdown",
   "metadata": {
    "id": "6E569Ba4yK9a"
   },
   "source": [
    "# 8.모델링 : SARIMAX"
   ]
  },
  {
   "cell_type": "markdown",
   "metadata": {
    "id": "GNghLpmSyK9b"
   },
   "source": [
    "## (1) 모델링"
   ]
  },
  {
   "cell_type": "markdown",
   "metadata": {
    "id": "gY9u6Ught9-J"
   },
   "source": [
    "### 1) 학습"
   ]
  },
  {
   "cell_type": "code",
   "execution_count": null,
   "metadata": {
    "id": "rSsAkoUx1_2T"
   },
   "outputs": [],
   "source": [
    "val_size = 30\n",
    "x_train, y_train = x[:-val_size], y[:-val_size]\n",
    "x_val, y_val = x[-val_size:], y[-val_size:]"
   ]
  },
  {
   "cell_type": "code",
   "execution_count": null,
   "metadata": {
    "id": "byoemaPz24GV"
   },
   "outputs": [],
   "source": [
    "x_train.shape, y_train.shape"
   ]
  },
  {
   "cell_type": "code",
   "execution_count": null,
   "metadata": {
    "id": "DMv486sryK9b"
   },
   "outputs": [],
   "source": []
  },
  {
   "cell_type": "markdown",
   "metadata": {
    "id": "Eofgkr-YuVRA"
   },
   "source": [
    "### 2) 평가"
   ]
  },
  {
   "cell_type": "markdown",
   "metadata": {
    "id": "eFNqfYgKuVRB"
   },
   "source": [
    "#### ① 잔차진단"
   ]
  },
  {
   "cell_type": "markdown",
   "metadata": {
    "id": "rrnRQInouVRB"
   },
   "source": [
    "* residual_diag"
   ]
  },
  {
   "cell_type": "code",
   "execution_count": null,
   "metadata": {
    "id": "c_tUMV2TuVRB"
   },
   "outputs": [],
   "source": []
  },
  {
   "cell_type": "markdown",
   "metadata": {
    "id": "6mzg32dZuVRC"
   },
   "source": [
    "#### ② AIC"
   ]
  },
  {
   "cell_type": "code",
   "execution_count": null,
   "metadata": {
    "id": "qFz8gIXUuVRC"
   },
   "outputs": [],
   "source": []
  },
  {
   "cell_type": "markdown",
   "metadata": {
    "id": "Rw-ivfZ-uVRC"
   },
   "source": [
    "#### ③ Validation (그래프비교)\n",
    "SARIMAX 모델을 생성하고, 예측할 때는 exog=x_val 옵션이 들어가야 함."
   ]
  },
  {
   "cell_type": "code",
   "execution_count": null,
   "metadata": {
    "id": "1_T-yDnjuVRC"
   },
   "outputs": [],
   "source": [
    "pred = model3_1.forecast(30,  exog=x_val)\n",
    "mean_absolute_error(val, pred)"
   ]
  },
  {
   "cell_type": "code",
   "execution_count": null,
   "metadata": {
    "id": "PMpkjFzJuVRC"
   },
   "outputs": [],
   "source": []
  },
  {
   "cell_type": "markdown",
   "metadata": {
    "id": "Wt7oWwnVu_VI"
   },
   "source": [
    "## (2) Cross Validation"
   ]
  },
  {
   "cell_type": "markdown",
   "metadata": {
    "id": "sxGNq_fiu_VJ"
   },
   "source": [
    "### 1) 학습"
   ]
  },
  {
   "cell_type": "code",
   "execution_count": null,
   "metadata": {
    "id": "jGhZ6sWsS1bI"
   },
   "outputs": [],
   "source": []
  },
  {
   "cell_type": "code",
   "execution_count": null,
   "metadata": {
    "id": "H7u1cdzhu0zy"
   },
   "outputs": [],
   "source": []
  },
  {
   "cell_type": "code",
   "execution_count": null,
   "metadata": {
    "id": "qX--Esug9q96"
   },
   "outputs": [],
   "source": []
  },
  {
   "cell_type": "markdown",
   "metadata": {
    "id": "NvIzd_YRu_VK"
   },
   "source": [
    "### 2) 평가"
   ]
  },
  {
   "cell_type": "markdown",
   "metadata": {
    "id": "ICws_itcu_VL"
   },
   "source": [
    "#### ① 잔차진단"
   ]
  },
  {
   "cell_type": "code",
   "execution_count": null,
   "metadata": {
    "id": "M6KnNQthu_VL"
   },
   "outputs": [],
   "source": []
  },
  {
   "cell_type": "markdown",
   "metadata": {
    "id": "2roYdskeu_VL"
   },
   "source": [
    "#### ② AIC"
   ]
  },
  {
   "cell_type": "code",
   "execution_count": null,
   "metadata": {
    "id": "0sroKyChu_VM"
   },
   "outputs": [],
   "source": []
  },
  {
   "cell_type": "markdown",
   "metadata": {
    "id": "DurFyCRQu_VM"
   },
   "source": [
    "#### ③ Validation(그래프 비교)\n"
   ]
  },
  {
   "cell_type": "code",
   "execution_count": null,
   "metadata": {
    "id": "tlksS_v_YDd2"
   },
   "outputs": [],
   "source": []
  },
  {
   "cell_type": "code",
   "execution_count": null,
   "metadata": {
    "id": "bBtNnQBmqCUk"
   },
   "outputs": [],
   "source": []
  },
  {
   "cell_type": "code",
   "execution_count": null,
   "metadata": {
    "id": "v3eB6Z93u_VM"
   },
   "outputs": [],
   "source": []
  },
  {
   "cell_type": "markdown",
   "metadata": {
    "id": "qIsENOGllefw"
   },
   "source": [
    "-------"
   ]
  }
 ],
 "metadata": {
  "colab": {
   "collapsed_sections": [],
   "name": "17과18과 실습과제.ipynb",
   "provenance": [],
   "toc_visible": true
  },
  "gpuClass": "standard",
  "kernelspec": {
   "display_name": "Python 3 (ipykernel)",
   "language": "python",
   "name": "python3"
  },
  "language_info": {
   "codemirror_mode": {
    "name": "ipython",
    "version": 3
   },
   "file_extension": ".py",
   "mimetype": "text/x-python",
   "name": "python",
   "nbconvert_exporter": "python",
   "pygments_lexer": "ipython3",
   "version": "3.9.7"
  }
 },
 "nbformat": 4,
 "nbformat_minor": 4
}
