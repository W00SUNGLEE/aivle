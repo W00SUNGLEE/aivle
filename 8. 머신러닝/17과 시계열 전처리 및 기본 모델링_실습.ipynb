{
 "cells": [
  {
   "cell_type": "markdown",
   "id": "cVB9pY-v8uv5",
   "metadata": {
    "id": "cVB9pY-v8uv5"
   },
   "source": [
    "# 전통적 시계열 모델링\n",
    "\n",
    "   ## 유통매장 수요량 예측\n",
    "\n",
    "* 비즈니스 현황\n",
    "    * 고객사는 A 유통회사의 a 매장 입니다.\n",
    "    * a 매장에서 주력상품인 a01에 대한 재고 최적화를 위해 수요량을 예측하고자 합니다.\n",
    "    * 최근 경쟁사의 매장이 가까운 거리에 오픈하였고, 유사한 상품에 대한 공격적인 마케팅을 펼치고 있습니다. \n",
    "* 발주 최적화를 위한 수요량 예측 : 1일후의 판매량을 예측\n",
    "\n",
    "![](https://www.artefact.com//wp-content/uploads/2021/08/GettyImages-1295864156-scaled.jpg)"
   ]
  },
  {
   "cell_type": "markdown",
   "id": "jnCv9u_Wy9e1",
   "metadata": {
    "id": "jnCv9u_Wy9e1"
   },
   "source": [
    "# 1.환경 준비"
   ]
  },
  {
   "cell_type": "markdown",
   "id": "O1uL0UIEzBPw",
   "metadata": {
    "id": "O1uL0UIEzBPw"
   },
   "source": [
    "## (1) Import Packages"
   ]
  },
  {
   "cell_type": "code",
   "execution_count": 9,
   "id": "GVvCef6A8uv6",
   "metadata": {
    "id": "GVvCef6A8uv6"
   },
   "outputs": [],
   "source": [
    "import pandas as pd\n",
    "import numpy as np\n",
    "import matplotlib.pyplot as plt\n",
    "import seaborn as sns\n",
    "\n",
    "import scipy.stats as spst\n",
    "import statsmodels.api as sm\n",
    "from statsmodels.graphics.tsaplots import plot_acf, plot_pacf\n",
    "\n",
    "from sklearn.model_selection import train_test_split\n",
    "from sklearn.linear_model import LinearRegression\n",
    "from sklearn.metrics import * \n",
    "\n",
    "\n",
    "import warnings\n",
    "from statsmodels.tools.sm_exceptions import ConvergenceWarning\n",
    "warnings.filterwarnings(action='ignore')\n",
    "warnings.simplefilter('ignore', ConvergenceWarning)"
   ]
  },
  {
   "cell_type": "markdown",
   "id": "VHy5s1OOzItm",
   "metadata": {
    "id": "VHy5s1OOzItm"
   },
   "source": [
    "## (2) Data Loading"
   ]
  },
  {
   "cell_type": "code",
   "execution_count": 1,
   "id": "3GgFpOB4zQ7h",
   "metadata": {
    "id": "3GgFpOB4zQ7h"
   },
   "outputs": [
    {
     "data": {
      "text/html": [
       "<div>\n",
       "<style scoped>\n",
       "    .dataframe tbody tr th:only-of-type {\n",
       "        vertical-align: middle;\n",
       "    }\n",
       "\n",
       "    .dataframe tbody tr th {\n",
       "        vertical-align: top;\n",
       "    }\n",
       "\n",
       "    .dataframe thead th {\n",
       "        text-align: right;\n",
       "    }\n",
       "</style>\n",
       "<table border=\"1\" class=\"dataframe\">\n",
       "  <thead>\n",
       "    <tr style=\"text-align: right;\">\n",
       "      <th></th>\n",
       "      <th>date</th>\n",
       "      <th>item</th>\n",
       "      <th>sales</th>\n",
       "      <th>tot_sales</th>\n",
       "      <th>comp_sales</th>\n",
       "    </tr>\n",
       "  </thead>\n",
       "  <tbody>\n",
       "    <tr>\n",
       "      <th>0</th>\n",
       "      <td>2013-06-01</td>\n",
       "      <td>28</td>\n",
       "      <td>124</td>\n",
       "      <td>1016</td>\n",
       "      <td>80</td>\n",
       "    </tr>\n",
       "    <tr>\n",
       "      <th>1</th>\n",
       "      <td>2013-06-02</td>\n",
       "      <td>28</td>\n",
       "      <td>139</td>\n",
       "      <td>1019</td>\n",
       "      <td>93</td>\n",
       "    </tr>\n",
       "    <tr>\n",
       "      <th>2</th>\n",
       "      <td>2013-06-03</td>\n",
       "      <td>28</td>\n",
       "      <td>77</td>\n",
       "      <td>676</td>\n",
       "      <td>65</td>\n",
       "    </tr>\n",
       "    <tr>\n",
       "      <th>3</th>\n",
       "      <td>2013-06-04</td>\n",
       "      <td>28</td>\n",
       "      <td>93</td>\n",
       "      <td>764</td>\n",
       "      <td>80</td>\n",
       "    </tr>\n",
       "    <tr>\n",
       "      <th>4</th>\n",
       "      <td>2013-06-05</td>\n",
       "      <td>28</td>\n",
       "      <td>117</td>\n",
       "      <td>818</td>\n",
       "      <td>80</td>\n",
       "    </tr>\n",
       "    <tr>\n",
       "      <th>5</th>\n",
       "      <td>2013-06-06</td>\n",
       "      <td>28</td>\n",
       "      <td>112</td>\n",
       "      <td>881</td>\n",
       "      <td>71</td>\n",
       "    </tr>\n",
       "    <tr>\n",
       "      <th>6</th>\n",
       "      <td>2013-06-07</td>\n",
       "      <td>28</td>\n",
       "      <td>127</td>\n",
       "      <td>929</td>\n",
       "      <td>81</td>\n",
       "    </tr>\n",
       "    <tr>\n",
       "      <th>7</th>\n",
       "      <td>2013-06-08</td>\n",
       "      <td>28</td>\n",
       "      <td>105</td>\n",
       "      <td>925</td>\n",
       "      <td>78</td>\n",
       "    </tr>\n",
       "    <tr>\n",
       "      <th>8</th>\n",
       "      <td>2013-06-09</td>\n",
       "      <td>28</td>\n",
       "      <td>129</td>\n",
       "      <td>998</td>\n",
       "      <td>95</td>\n",
       "    </tr>\n",
       "    <tr>\n",
       "      <th>9</th>\n",
       "      <td>2013-06-10</td>\n",
       "      <td>28</td>\n",
       "      <td>103</td>\n",
       "      <td>710</td>\n",
       "      <td>74</td>\n",
       "    </tr>\n",
       "  </tbody>\n",
       "</table>\n",
       "</div>"
      ],
      "text/plain": [
       "         date  item  sales  tot_sales  comp_sales\n",
       "0  2013-06-01    28    124       1016          80\n",
       "1  2013-06-02    28    139       1019          93\n",
       "2  2013-06-03    28     77        676          65\n",
       "3  2013-06-04    28     93        764          80\n",
       "4  2013-06-05    28    117        818          80\n",
       "5  2013-06-06    28    112        881          71\n",
       "6  2013-06-07    28    127        929          81\n",
       "7  2013-06-08    28    105        925          78\n",
       "8  2013-06-09    28    129        998          95\n",
       "9  2013-06-10    28    103        710          74"
      ]
     },
     "execution_count": 1,
     "metadata": {},
     "output_type": "execute_result"
    }
   ],
   "source": [
    "path = 'https://raw.githubusercontent.com/DA4BAM/dataset/master/retail_demand2.csv'\n",
    "data = pd.read_csv(path)\n",
    "data = data.loc[(data['date']>= '2013-06-01') & (data['date']< '2015-03-01')].reset_index(drop = True)\n",
    "data.head(10)"
   ]
  },
  {
   "cell_type": "markdown",
   "id": "cG5cky5FS7jp",
   "metadata": {
    "id": "cG5cky5FS7jp"
   },
   "source": [
    "* 변수 설명\n",
    "\n",
    "    * date : 날짜\n",
    "    * item : 상품코드 (여기서는 한가지 상품만 있음)\n",
    "    * sales : A유통회사 a 매장 판매량 ==> target\n",
    "    * tot_sales : A유통회사 전체 판매량\n",
    "    * comp_sales : 인근에 위치한 B유통회사 b 매장 판매량"
   ]
  },
  {
   "cell_type": "code",
   "execution_count": 10,
   "id": "DUpVlbReCZS9",
   "metadata": {
    "id": "DUpVlbReCZS9"
   },
   "outputs": [
    {
     "data": {
      "image/png": "[encoded data removed]",
      "text/plain": [
       "<Figure size 1440x576 with 1 Axes>"
      ]
     },
     "metadata": {
      "needs_background": "light"
     },
     "output_type": "display_data"
    }
   ],
   "source": [
    "plt.figure(figsize = (20,8))\n",
    "plt.plot(data['sales'])\n",
    "plt.grid()\n",
    "plt.show()"
   ]
  },
  {
   "cell_type": "markdown",
   "id": "DEoiMH2cIfcE",
   "metadata": {
    "id": "DEoiMH2cIfcE"
   },
   "source": [
    "## (3) 함수 생성 "
   ]
  },
  {
   "cell_type": "markdown",
   "id": "LCDr4hlJH0Sb",
   "metadata": {
    "id": "LCDr4hlJH0Sb"
   },
   "source": [
    "* 결과 시각화"
   ]
  },
  {
   "cell_type": "code",
   "execution_count": 3,
   "id": "ASqlPmNkH0DK",
   "metadata": {
    "id": "ASqlPmNkH0DK"
   },
   "outputs": [],
   "source": [
    "def plot_model_result(y_train, y_val, pred) :\n",
    "    pred = pd.Series(pred, index = y_val.index)\n",
    "\n",
    "    # 전체 시각화\n",
    "    plt.figure(figsize = (20,12))\n",
    "    plt.subplot(2,1,1)\n",
    "    plt.plot(y_train, label = 'train')\n",
    "    plt.plot(y_val, label = 'val')\n",
    "    plt.plot(pred, label = 'pred')\n",
    "    plt.legend()\n",
    "    plt.grid()\n",
    "\n",
    "    plt.subplot(2,1,2)\n",
    "    plt.plot(y_val, label = 'val')\n",
    "    plt.plot(pred, label = 'pred')\n",
    "    plt.legend()\n",
    "    plt.grid()\n",
    "\n",
    "    plt.show()"
   ]
  },
  {
   "cell_type": "markdown",
   "id": "wz964deeIlvQ",
   "metadata": {
    "id": "wz964deeIlvQ"
   },
   "source": [
    "* 잔차분석"
   ]
  },
  {
   "cell_type": "code",
   "execution_count": 4,
   "id": "idEWM3VAIiCV",
   "metadata": {
    "id": "idEWM3VAIiCV"
   },
   "outputs": [],
   "source": [
    "def residual_diag(residuals, lags = 30) :\n",
    "    print('* 정규성 검정(> 0.05) : ', round(spst.shapiro(residuals)[1],5))\n",
    "    print('* 정상성 검정(< 0.05) : ', round(sm.tsa.stattools.adfuller(residuals)[1],5))\n",
    "    print('* 자기상관성 확인(ACF, PACF)')\n",
    "    fig,ax = plt.subplots(1,2, figsize = (15,5))\n",
    "    plot_acf(residuals, lags = lags, ax = ax[0])\n",
    "    plot_pacf(residuals, lags = lags, ax = ax[1])\n",
    "    plt.show()"
   ]
  },
  {
   "cell_type": "markdown",
   "id": "voqylIOmCBk-",
   "metadata": {
    "id": "voqylIOmCBk-"
   },
   "source": [
    "# 2.기본 전처리"
   ]
  },
  {
   "cell_type": "markdown",
   "id": "s50kY0-oCBlI",
   "metadata": {
    "id": "s50kY0-oCBlI"
   },
   "source": [
    "## (1) y 만들기"
   ]
  },
  {
   "cell_type": "markdown",
   "id": "Z_DDKxZJCBlI",
   "metadata": {
    "id": "Z_DDKxZJCBlI"
   },
   "source": [
    "* 사전 관찰(look-ahead) : 미래의 어떤 사실을 안다는 뜻\n",
    "* 사전 관찰 문제 : \n",
    "    * 데이터를 통해 실제로 알아야 하는 시점보다 더 일찍 미래에 대한 사실을 알게 되는 문제.  \n",
    "    * 사전관찰 문제가 있는 채로 모델링을 하게 되면, 놀라운 성능의 모델이 만들어짐. --> 그러나 실제로는 불가능한 상황."
   ]
  },
  {
   "cell_type": "markdown",
   "id": "bDG2GCTZCBlI",
   "metadata": {
    "id": "bDG2GCTZCBlI"
   },
   "source": [
    "* 그래서 y를 만들때 사전관찰문제가 발생되지 않도록 해야 함.\n",
    "    * 예제는 1일 후의 수요량을 예측하려고 합니다."
   ]
  },
  {
   "cell_type": "markdown",
   "id": "vgrTjuphCBlJ",
   "metadata": {
    "id": "vgrTjuphCBlJ"
   },
   "source": [
    "* 1일 후 수요량을 예측하려면, y를 어떻게 만들어야 할까요?"
   ]
  },
  {
   "cell_type": "code",
   "execution_count": 11,
   "id": "mJ-tUKqgCBlJ",
   "metadata": {
    "id": "mJ-tUKqgCBlJ"
   },
   "outputs": [
    {
     "data": {
      "text/html": [
       "<div>\n",
       "<style scoped>\n",
       "    .dataframe tbody tr th:only-of-type {\n",
       "        vertical-align: middle;\n",
       "    }\n",
       "\n",
       "    .dataframe tbody tr th {\n",
       "        vertical-align: top;\n",
       "    }\n",
       "\n",
       "    .dataframe thead th {\n",
       "        text-align: right;\n",
       "    }\n",
       "</style>\n",
       "<table border=\"1\" class=\"dataframe\">\n",
       "  <thead>\n",
       "    <tr style=\"text-align: right;\">\n",
       "      <th></th>\n",
       "      <th>date</th>\n",
       "      <th>item</th>\n",
       "      <th>sales</th>\n",
       "      <th>tot_sales</th>\n",
       "      <th>comp_sales</th>\n",
       "      <th>y</th>\n",
       "    </tr>\n",
       "  </thead>\n",
       "  <tbody>\n",
       "    <tr>\n",
       "      <th>0</th>\n",
       "      <td>2013-06-01</td>\n",
       "      <td>28</td>\n",
       "      <td>124</td>\n",
       "      <td>1016</td>\n",
       "      <td>80</td>\n",
       "      <td>139.0</td>\n",
       "    </tr>\n",
       "    <tr>\n",
       "      <th>1</th>\n",
       "      <td>2013-06-02</td>\n",
       "      <td>28</td>\n",
       "      <td>139</td>\n",
       "      <td>1019</td>\n",
       "      <td>93</td>\n",
       "      <td>77.0</td>\n",
       "    </tr>\n",
       "    <tr>\n",
       "      <th>2</th>\n",
       "      <td>2013-06-03</td>\n",
       "      <td>28</td>\n",
       "      <td>77</td>\n",
       "      <td>676</td>\n",
       "      <td>65</td>\n",
       "      <td>93.0</td>\n",
       "    </tr>\n",
       "    <tr>\n",
       "      <th>3</th>\n",
       "      <td>2013-06-04</td>\n",
       "      <td>28</td>\n",
       "      <td>93</td>\n",
       "      <td>764</td>\n",
       "      <td>80</td>\n",
       "      <td>117.0</td>\n",
       "    </tr>\n",
       "    <tr>\n",
       "      <th>4</th>\n",
       "      <td>2013-06-05</td>\n",
       "      <td>28</td>\n",
       "      <td>117</td>\n",
       "      <td>818</td>\n",
       "      <td>80</td>\n",
       "      <td>112.0</td>\n",
       "    </tr>\n",
       "  </tbody>\n",
       "</table>\n",
       "</div>"
      ],
      "text/plain": [
       "         date  item  sales  tot_sales  comp_sales      y\n",
       "0  2013-06-01    28    124       1016          80  139.0\n",
       "1  2013-06-02    28    139       1019          93   77.0\n",
       "2  2013-06-03    28     77        676          65   93.0\n",
       "3  2013-06-04    28     93        764          80  117.0\n",
       "4  2013-06-05    28    117        818          80  112.0"
      ]
     },
     "metadata": {},
     "output_type": "display_data"
    },
    {
     "data": {
      "text/html": [
       "<div>\n",
       "<style scoped>\n",
       "    .dataframe tbody tr th:only-of-type {\n",
       "        vertical-align: middle;\n",
       "    }\n",
       "\n",
       "    .dataframe tbody tr th {\n",
       "        vertical-align: top;\n",
       "    }\n",
       "\n",
       "    .dataframe thead th {\n",
       "        text-align: right;\n",
       "    }\n",
       "</style>\n",
       "<table border=\"1\" class=\"dataframe\">\n",
       "  <thead>\n",
       "    <tr style=\"text-align: right;\">\n",
       "      <th></th>\n",
       "      <th>date</th>\n",
       "      <th>item</th>\n",
       "      <th>sales</th>\n",
       "      <th>tot_sales</th>\n",
       "      <th>comp_sales</th>\n",
       "      <th>y</th>\n",
       "    </tr>\n",
       "  </thead>\n",
       "  <tbody>\n",
       "    <tr>\n",
       "      <th>632</th>\n",
       "      <td>2015-02-23</td>\n",
       "      <td>28</td>\n",
       "      <td>66</td>\n",
       "      <td>488</td>\n",
       "      <td>43</td>\n",
       "      <td>66.0</td>\n",
       "    </tr>\n",
       "    <tr>\n",
       "      <th>633</th>\n",
       "      <td>2015-02-24</td>\n",
       "      <td>28</td>\n",
       "      <td>66</td>\n",
       "      <td>603</td>\n",
       "      <td>71</td>\n",
       "      <td>83.0</td>\n",
       "    </tr>\n",
       "    <tr>\n",
       "      <th>634</th>\n",
       "      <td>2015-02-25</td>\n",
       "      <td>28</td>\n",
       "      <td>83</td>\n",
       "      <td>622</td>\n",
       "      <td>61</td>\n",
       "      <td>83.0</td>\n",
       "    </tr>\n",
       "    <tr>\n",
       "      <th>635</th>\n",
       "      <td>2015-02-26</td>\n",
       "      <td>28</td>\n",
       "      <td>83</td>\n",
       "      <td>611</td>\n",
       "      <td>48</td>\n",
       "      <td>91.0</td>\n",
       "    </tr>\n",
       "    <tr>\n",
       "      <th>636</th>\n",
       "      <td>2015-02-27</td>\n",
       "      <td>28</td>\n",
       "      <td>91</td>\n",
       "      <td>696</td>\n",
       "      <td>74</td>\n",
       "      <td>NaN</td>\n",
       "    </tr>\n",
       "  </tbody>\n",
       "</table>\n",
       "</div>"
      ],
      "text/plain": [
       "           date  item  sales  tot_sales  comp_sales     y\n",
       "632  2015-02-23    28     66        488          43  66.0\n",
       "633  2015-02-24    28     66        603          71  83.0\n",
       "634  2015-02-25    28     83        622          61  83.0\n",
       "635  2015-02-26    28     83        611          48  91.0\n",
       "636  2015-02-27    28     91        696          74   NaN"
      ]
     },
     "metadata": {},
     "output_type": "display_data"
    }
   ],
   "source": [
    "data['y'] = data['sales'].shift(-1)\n",
    "display(data.head())\n",
    "display(data.tail())"
   ]
  },
  {
   "cell_type": "code",
   "execution_count": 12,
   "id": "IkaodghkCBlJ",
   "metadata": {
    "id": "IkaodghkCBlJ"
   },
   "outputs": [
    {
     "data": {
      "text/html": [
       "<div>\n",
       "<style scoped>\n",
       "    .dataframe tbody tr th:only-of-type {\n",
       "        vertical-align: middle;\n",
       "    }\n",
       "\n",
       "    .dataframe tbody tr th {\n",
       "        vertical-align: top;\n",
       "    }\n",
       "\n",
       "    .dataframe thead th {\n",
       "        text-align: right;\n",
       "    }\n",
       "</style>\n",
       "<table border=\"1\" class=\"dataframe\">\n",
       "  <thead>\n",
       "    <tr style=\"text-align: right;\">\n",
       "      <th></th>\n",
       "      <th>date</th>\n",
       "      <th>item</th>\n",
       "      <th>sales</th>\n",
       "      <th>tot_sales</th>\n",
       "      <th>comp_sales</th>\n",
       "      <th>y</th>\n",
       "    </tr>\n",
       "  </thead>\n",
       "  <tbody>\n",
       "    <tr>\n",
       "      <th>631</th>\n",
       "      <td>2015-02-22</td>\n",
       "      <td>28</td>\n",
       "      <td>96</td>\n",
       "      <td>816</td>\n",
       "      <td>78</td>\n",
       "      <td>66.0</td>\n",
       "    </tr>\n",
       "    <tr>\n",
       "      <th>632</th>\n",
       "      <td>2015-02-23</td>\n",
       "      <td>28</td>\n",
       "      <td>66</td>\n",
       "      <td>488</td>\n",
       "      <td>43</td>\n",
       "      <td>66.0</td>\n",
       "    </tr>\n",
       "    <tr>\n",
       "      <th>633</th>\n",
       "      <td>2015-02-24</td>\n",
       "      <td>28</td>\n",
       "      <td>66</td>\n",
       "      <td>603</td>\n",
       "      <td>71</td>\n",
       "      <td>83.0</td>\n",
       "    </tr>\n",
       "    <tr>\n",
       "      <th>634</th>\n",
       "      <td>2015-02-25</td>\n",
       "      <td>28</td>\n",
       "      <td>83</td>\n",
       "      <td>622</td>\n",
       "      <td>61</td>\n",
       "      <td>83.0</td>\n",
       "    </tr>\n",
       "    <tr>\n",
       "      <th>635</th>\n",
       "      <td>2015-02-26</td>\n",
       "      <td>28</td>\n",
       "      <td>83</td>\n",
       "      <td>611</td>\n",
       "      <td>48</td>\n",
       "      <td>91.0</td>\n",
       "    </tr>\n",
       "  </tbody>\n",
       "</table>\n",
       "</div>"
      ],
      "text/plain": [
       "           date  item  sales  tot_sales  comp_sales     y\n",
       "631  2015-02-22    28     96        816          78  66.0\n",
       "632  2015-02-23    28     66        488          43  66.0\n",
       "633  2015-02-24    28     66        603          71  83.0\n",
       "634  2015-02-25    28     83        622          61  83.0\n",
       "635  2015-02-26    28     83        611          48  91.0"
      ]
     },
     "execution_count": 12,
     "metadata": {},
     "output_type": "execute_result"
    }
   ],
   "source": [
    "# 제일 마지막 행은 삭제\n",
    "data.dropna(axis = 0, inplace = True)\n",
    "data.tail()"
   ]
  },
  {
   "cell_type": "markdown",
   "id": "dkdUjXqGCBlJ",
   "metadata": {
    "id": "dkdUjXqGCBlJ"
   },
   "source": [
    "## (2) 데이터 분할"
   ]
  },
  {
   "cell_type": "markdown",
   "id": "IpMC7JzSCBlJ",
   "metadata": {
    "id": "IpMC7JzSCBlJ"
   },
   "source": [
    "### 1) x, y 나누기"
   ]
  },
  {
   "cell_type": "code",
   "execution_count": 13,
   "id": "FNVggJLSCBlJ",
   "metadata": {
    "id": "FNVggJLSCBlJ"
   },
   "outputs": [],
   "source": [
    "target = 'y'\n",
    "\n",
    "x = data.drop([target, 'date'], axis = 1) #제거할 때, date도 제거\n",
    "y = data.loc[:, target]"
   ]
  },
  {
   "cell_type": "markdown",
   "id": "uZTtYcKtCBlJ",
   "metadata": {
    "id": "uZTtYcKtCBlJ"
   },
   "source": [
    "### 2) train, val 분할\n",
    "* 1회 분할 : train_test_split( x, y, test_size= , shuffle = False) \n",
    "    * test_size : 소수 - 비율, 자연수 - 갯수\n",
    "    * shuffle = False : 섞지 말고 데이터 끝에서 test_size 만큼 자르기\n",
    "* k-fold cross validation for Time Seires : TimeSeriesSplit"
   ]
  },
  {
   "cell_type": "code",
   "execution_count": 14,
   "id": "KXqW0KNPCBlK",
   "metadata": {
    "id": "KXqW0KNPCBlK"
   },
   "outputs": [],
   "source": [
    "x_train, x_val, y_train, y_val = train_test_split(x, y, test_size = 30, shuffle = False)"
   ]
  },
  {
   "cell_type": "code",
   "execution_count": 15,
   "id": "73214693-9013-4b0a-96bd-1b4dcda637a9",
   "metadata": {},
   "outputs": [
    {
     "data": {
      "text/plain": [
       "(606, 4)"
      ]
     },
     "execution_count": 15,
     "metadata": {},
     "output_type": "execute_result"
    }
   ],
   "source": [
    "x_train.shape"
   ]
  },
  {
   "cell_type": "markdown",
   "id": "DFYFffGvCBlK",
   "metadata": {
    "id": "DFYFffGvCBlK"
   },
   "source": [
    "# 3.시계열모델링① : ML 기반 모델링"
   ]
  },
  {
   "cell_type": "markdown",
   "id": "X7CGQm0vCBlK",
   "metadata": {
    "id": "X7CGQm0vCBlK"
   },
   "source": [
    "## (1) 모델링"
   ]
  },
  {
   "cell_type": "code",
   "execution_count": null,
   "id": "MqE0gVs8CBlK",
   "metadata": {
    "id": "MqE0gVs8CBlK"
   },
   "outputs": [],
   "source": []
  },
  {
   "cell_type": "markdown",
   "id": "O-pAr8VlCBlK",
   "metadata": {
    "id": "O-pAr8VlCBlK"
   },
   "source": [
    "## (2) 검증"
   ]
  },
  {
   "cell_type": "code",
   "execution_count": null,
   "id": "pu-YURUxCBlK",
   "metadata": {
    "id": "pu-YURUxCBlK"
   },
   "outputs": [],
   "source": []
  },
  {
   "cell_type": "markdown",
   "id": "OuN8sQKSCBlK",
   "metadata": {
    "id": "OuN8sQKSCBlK"
   },
   "source": [
    "## (3) 결과 시각화"
   ]
  },
  {
   "cell_type": "code",
   "execution_count": null,
   "id": "JKJqWHSsH5xm",
   "metadata": {
    "id": "JKJqWHSsH5xm"
   },
   "outputs": [],
   "source": []
  },
  {
   "cell_type": "markdown",
   "id": "orh4RBM-CBlL",
   "metadata": {
    "id": "orh4RBM-CBlL"
   },
   "source": [
    "# 4.시계열모델링② : 전통적 시계열 모델링"
   ]
  },
  {
   "cell_type": "markdown",
   "id": "VlHemJZ4CBlL",
   "metadata": {
    "id": "VlHemJZ4CBlL"
   },
   "source": [
    "## (1) 모델링\n",
    "* 일단 모델링을 해 봅시다.\n",
    "* order=(p,d,q) : p,d,q 숫자는 아무것이나 넣어도 됩니다. 0~4 사이의 숫자들.\n"
   ]
  },
  {
   "cell_type": "code",
   "execution_count": null,
   "id": "4ReiQ4CeCBlL",
   "metadata": {
    "id": "4ReiQ4CeCBlL"
   },
   "outputs": [],
   "source": []
  },
  {
   "cell_type": "markdown",
   "id": "-SRIOa7nCBlM",
   "metadata": {
    "id": "-SRIOa7nCBlM"
   },
   "source": [
    "## (2) 검증"
   ]
  },
  {
   "cell_type": "code",
   "execution_count": null,
   "id": "Yx_rPwWDCBlM",
   "metadata": {
    "id": "Yx_rPwWDCBlM"
   },
   "outputs": [],
   "source": []
  },
  {
   "cell_type": "markdown",
   "id": "__SZagalCBlM",
   "metadata": {
    "id": "__SZagalCBlM"
   },
   "source": [
    "## (3) 결과 시각화"
   ]
  },
  {
   "cell_type": "code",
   "execution_count": null,
   "id": "IUBMI0laIQbl",
   "metadata": {
    "id": "IUBMI0laIQbl"
   },
   "outputs": [],
   "source": []
  },
  {
   "cell_type": "markdown",
   "id": "YNAPJ8FCCBlM",
   "metadata": {
    "id": "YNAPJ8FCCBlM"
   },
   "source": [
    "# 5.평가 : 잔차분석"
   ]
  },
  {
   "cell_type": "code",
   "execution_count": null,
   "id": "Jjxua_bYBYaB",
   "metadata": {
    "id": "Jjxua_bYBYaB"
   },
   "outputs": [],
   "source": []
  },
  {
   "cell_type": "code",
   "execution_count": null,
   "id": "ldyfYMB7BNc4",
   "metadata": {
    "id": "ldyfYMB7BNc4"
   },
   "outputs": [],
   "source": []
  },
  {
   "cell_type": "code",
   "execution_count": null,
   "id": "N2IRAwmlIecG",
   "metadata": {
    "id": "N2IRAwmlIecG"
   },
   "outputs": [],
   "source": []
  }
 ],
 "metadata": {
  "colab": {
   "collapsed_sections": [],
   "name": "17과 시계열 전처리 및 기본 모델링_실습.ipynb",
   "provenance": [],
   "toc_visible": true
  },
  "kernelspec": {
   "display_name": "Python 3 (ipykernel)",
   "language": "python",
   "name": "python3"
  },
  "language_info": {
   "codemirror_mode": {
    "name": "ipython",
    "version": 3
   },
   "file_extension": ".py",
   "mimetype": "text/x-python",
   "name": "python",
   "nbconvert_exporter": "python",
   "pygments_lexer": "ipython3",
   "version": "3.9.7"
  }
 },
 "nbformat": 4,
 "nbformat_minor": 5
}
