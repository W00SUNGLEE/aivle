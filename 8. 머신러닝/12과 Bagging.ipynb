{
 "cells": [
  {
   "cell_type": "markdown",
   "metadata": {
    "id": "AVG5bLhFJe6a"
   },
   "source": [
    "# Ensemble : Bagging"
   ]
  },
  {
   "cell_type": "markdown",
   "metadata": {
    "id": "O1uL0UIEzBPw"
   },
   "source": [
    "## 1.환경준비"
   ]
  },
  {
   "cell_type": "markdown",
   "metadata": {
    "id": "vNt997De17qz"
   },
   "source": [
    "### (1) import"
   ]
  },
  {
   "cell_type": "code",
   "execution_count": 18,
   "metadata": {
    "id": "GugpCLBiVHzd"
   },
   "outputs": [],
   "source": [
    "#라이브러리들을 불러오자.\n",
    "import numpy as np\n",
    "import pandas as pd\n",
    "import matplotlib.pyplot as plt\n",
    "import seaborn as sns\n",
    "\n",
    "# 전처리\n",
    "from sklearn.model_selection import train_test_split\n",
    "from sklearn.preprocessing import MinMaxScaler\n",
    "\n",
    "# 모델링\n",
    "from sklearn.tree import plot_tree\n",
    "from sklearn.ensemble import RandomForestClassifier\n",
    "from sklearn.metrics import * \n",
    "from sklearn.model_selection import RandomizedSearchCV, GridSearchCV\n",
    "\n",
    "import warnings    # 경고메시지 제외\n",
    "warnings.filterwarnings(action='ignore')"
   ]
  },
  {
   "cell_type": "markdown",
   "metadata": {
    "id": "CG-FeAY4f25C"
   },
   "source": [
    "### (2) 데이터 준비"
   ]
  },
  {
   "cell_type": "markdown",
   "metadata": {
    "id": "LGBEnPENs4Fs"
   },
   "source": [
    "* 변수설명\n",
    "    * COLLEGE : 대학 졸업여부\n",
    "    * INCOME : 연수입\n",
    "    * OVERAGE : 월평균 초과사용 시간(분)\n",
    "    * LEFTOVER : 월평균 잔여시간비율(%)\n",
    "    * HOUSE : 집값\n",
    "    * HANDSET_PRICE : 스마트폰 가격\n",
    "    * OVER_15MINS_CALLS_PER_MONTH : 월평균 장기통화(15분이상) 횟수\n",
    "    * AVERAGE_CALL_DURATION : 평균 통화 시간\n",
    "    * REPORTED_SATISFACTION : 만족도 설문조사 결과\n",
    "    * REPORTED_USAGE_LEVEL : 사용도 자가진단 결과\n",
    "    * CONSIDERING_CHANGE_OF_PLAN : 향후 변경계획 설문조사 결과\n",
    "    * CHURN : 이탈(번호이동) 여부 (1-이탈, 0-잔류, Target 변수)\n"
   ]
  },
  {
   "cell_type": "code",
   "execution_count": 2,
   "metadata": {
    "id": "8omLhiDis4Fs"
   },
   "outputs": [
    {
     "data": {
      "text/html": [
       "<div>\n",
       "<style scoped>\n",
       "    .dataframe tbody tr th:only-of-type {\n",
       "        vertical-align: middle;\n",
       "    }\n",
       "\n",
       "    .dataframe tbody tr th {\n",
       "        vertical-align: top;\n",
       "    }\n",
       "\n",
       "    .dataframe thead th {\n",
       "        text-align: right;\n",
       "    }\n",
       "</style>\n",
       "<table border=\"1\" class=\"dataframe\">\n",
       "  <thead>\n",
       "    <tr style=\"text-align: right;\">\n",
       "      <th></th>\n",
       "      <th>id</th>\n",
       "      <th>COLLEGE</th>\n",
       "      <th>INCOME</th>\n",
       "      <th>OVERAGE</th>\n",
       "      <th>LEFTOVER</th>\n",
       "      <th>HOUSE</th>\n",
       "      <th>HANDSET_PRICE</th>\n",
       "      <th>OVER_15MINS_CALLS_PER_MONTH</th>\n",
       "      <th>AVERAGE_CALL_DURATION</th>\n",
       "      <th>REPORTED_SATISFACTION</th>\n",
       "      <th>REPORTED_USAGE_LEVEL</th>\n",
       "      <th>CONSIDERING_CHANGE_OF_PLAN</th>\n",
       "      <th>CHURN</th>\n",
       "    </tr>\n",
       "  </thead>\n",
       "  <tbody>\n",
       "    <tr>\n",
       "      <th>3178</th>\n",
       "      <td>3179</td>\n",
       "      <td>0</td>\n",
       "      <td>119512</td>\n",
       "      <td>51</td>\n",
       "      <td>31</td>\n",
       "      <td>248566</td>\n",
       "      <td>229</td>\n",
       "      <td>5</td>\n",
       "      <td>2</td>\n",
       "      <td>very_sat</td>\n",
       "      <td>very_high</td>\n",
       "      <td>considering</td>\n",
       "      <td>1</td>\n",
       "    </tr>\n",
       "    <tr>\n",
       "      <th>14926</th>\n",
       "      <td>14927</td>\n",
       "      <td>1</td>\n",
       "      <td>142144</td>\n",
       "      <td>192</td>\n",
       "      <td>15</td>\n",
       "      <td>774317</td>\n",
       "      <td>581</td>\n",
       "      <td>29</td>\n",
       "      <td>4</td>\n",
       "      <td>unsat</td>\n",
       "      <td>very_little</td>\n",
       "      <td>never_thought</td>\n",
       "      <td>1</td>\n",
       "    </tr>\n",
       "    <tr>\n",
       "      <th>15116</th>\n",
       "      <td>15117</td>\n",
       "      <td>1</td>\n",
       "      <td>142308</td>\n",
       "      <td>0</td>\n",
       "      <td>79</td>\n",
       "      <td>306426</td>\n",
       "      <td>497</td>\n",
       "      <td>1</td>\n",
       "      <td>1</td>\n",
       "      <td>sat</td>\n",
       "      <td>little</td>\n",
       "      <td>considering</td>\n",
       "      <td>0</td>\n",
       "    </tr>\n",
       "    <tr>\n",
       "      <th>12733</th>\n",
       "      <td>12734</td>\n",
       "      <td>1</td>\n",
       "      <td>113385</td>\n",
       "      <td>0</td>\n",
       "      <td>0</td>\n",
       "      <td>333599</td>\n",
       "      <td>819</td>\n",
       "      <td>1</td>\n",
       "      <td>6</td>\n",
       "      <td>very_unsat</td>\n",
       "      <td>very_high</td>\n",
       "      <td>considering</td>\n",
       "      <td>1</td>\n",
       "    </tr>\n",
       "    <tr>\n",
       "      <th>14032</th>\n",
       "      <td>14033</td>\n",
       "      <td>1</td>\n",
       "      <td>90348</td>\n",
       "      <td>209</td>\n",
       "      <td>10</td>\n",
       "      <td>637286</td>\n",
       "      <td>360</td>\n",
       "      <td>26</td>\n",
       "      <td>4</td>\n",
       "      <td>unsat</td>\n",
       "      <td>little</td>\n",
       "      <td>actively_looking_into_it</td>\n",
       "      <td>0</td>\n",
       "    </tr>\n",
       "  </tbody>\n",
       "</table>\n",
       "</div>"
      ],
      "text/plain": [
       "          id  COLLEGE  INCOME  OVERAGE  LEFTOVER   HOUSE  HANDSET_PRICE  \\\n",
       "3178    3179        0  119512       51        31  248566            229   \n",
       "14926  14927        1  142144      192        15  774317            581   \n",
       "15116  15117        1  142308        0        79  306426            497   \n",
       "12733  12734        1  113385        0         0  333599            819   \n",
       "14032  14033        1   90348      209        10  637286            360   \n",
       "\n",
       "       OVER_15MINS_CALLS_PER_MONTH  AVERAGE_CALL_DURATION  \\\n",
       "3178                             5                      2   \n",
       "14926                           29                      4   \n",
       "15116                            1                      1   \n",
       "12733                            1                      6   \n",
       "14032                           26                      4   \n",
       "\n",
       "      REPORTED_SATISFACTION REPORTED_USAGE_LEVEL CONSIDERING_CHANGE_OF_PLAN  \\\n",
       "3178               very_sat            very_high                considering   \n",
       "14926                 unsat          very_little              never_thought   \n",
       "15116                   sat               little                considering   \n",
       "12733            very_unsat            very_high                considering   \n",
       "14032                 unsat               little   actively_looking_into_it   \n",
       "\n",
       "       CHURN  \n",
       "3178       1  \n",
       "14926      1  \n",
       "15116      0  \n",
       "12733      1  \n",
       "14032      0  "
      ]
     },
     "execution_count": 2,
     "metadata": {},
     "output_type": "execute_result"
    }
   ],
   "source": [
    "# 데이터를 불러옵시다.\n",
    "path = 'https://raw.githubusercontent.com/DA4BAM/dataset/master/mobile_cust_churn.csv'\n",
    "data = pd.read_csv(path)\n",
    "data = data.sample(5000, random_state = 2022)\n",
    "data['CHURN'] = data['CHURN'].map({'LEAVE':1, 'STAY':0})\n",
    "data.head()"
   ]
  },
  {
   "cell_type": "markdown",
   "metadata": {
    "id": "wW0d0eGmCYJM"
   },
   "source": [
    "## 2.데이터 준비"
   ]
  },
  {
   "cell_type": "markdown",
   "metadata": {
    "id": "y9Q6jR6OZjUk"
   },
   "source": [
    "### (1) 데이터 정리"
   ]
  },
  {
   "cell_type": "code",
   "execution_count": 3,
   "metadata": {
    "id": "Dhi6-3jgrEgQ"
   },
   "outputs": [],
   "source": [
    "drop_cols = ['id']\n",
    "data.drop(drop_cols, axis = 1, inplace = True )"
   ]
  },
  {
   "cell_type": "markdown",
   "metadata": {
    "id": "WpJEGpUuuVWm"
   },
   "source": [
    "### (2) 데이터분할1 : x, y 나누기"
   ]
  },
  {
   "cell_type": "code",
   "execution_count": 4,
   "metadata": {
    "id": "3u8-Ovu4ADVn"
   },
   "outputs": [],
   "source": [
    "target = 'CHURN'\n",
    "x = data.drop(target, axis = 1)\n",
    "y = data.loc[:, target]"
   ]
  },
  {
   "cell_type": "markdown",
   "metadata": {
    "id": "mp_5volyuaA1"
   },
   "source": [
    "### (3) NA 조치"
   ]
  },
  {
   "cell_type": "markdown",
   "metadata": {
    "id": "nOF9fSLQugGf"
   },
   "source": [
    "### (4) 가변수화"
   ]
  },
  {
   "cell_type": "code",
   "execution_count": 5,
   "metadata": {
    "id": "CZgBC2QSoKc8"
   },
   "outputs": [],
   "source": [
    "dumm_cols = ['REPORTED_SATISFACTION','REPORTED_USAGE_LEVEL','CONSIDERING_CHANGE_OF_PLAN']\n",
    "x = pd.get_dummies(x, columns = dumm_cols, drop_first = True)"
   ]
  },
  {
   "cell_type": "markdown",
   "metadata": {
    "id": "Mlz_XI5zAkke"
   },
   "source": [
    "### (5) 데이터분할2 : train : validation"
   ]
  },
  {
   "cell_type": "code",
   "execution_count": 6,
   "metadata": {
    "id": "U5_90TWnhexz"
   },
   "outputs": [],
   "source": [
    "x_train, x_val, y_train, y_val = train_test_split(x, y, test_size=.3, random_state = 2022)"
   ]
  },
  {
   "cell_type": "markdown",
   "metadata": {
    "id": "XKCwnOC5i8PV"
   },
   "source": [
    "## 3.모델링 : 랜덤포레스트\n"
   ]
  },
  {
   "cell_type": "code",
   "execution_count": 7,
   "metadata": {
    "id": "H0ddP6SlqRHv"
   },
   "outputs": [],
   "source": [
    "# 모델 선언\n",
    "model = RandomForestClassifier(n_estimators = 5, max_depth = 3)"
   ]
  },
  {
   "cell_type": "code",
   "execution_count": 8,
   "metadata": {
    "id": "ZTVihfwNqRHx"
   },
   "outputs": [
    {
     "data": {
      "text/plain": [
       "RandomForestClassifier(max_depth=3, n_estimators=5)"
      ]
     },
     "execution_count": 8,
     "metadata": {},
     "output_type": "execute_result"
    }
   ],
   "source": [
    "# 학습\n",
    "model.fit(x_train, y_train)"
   ]
  },
  {
   "cell_type": "code",
   "execution_count": 9,
   "metadata": {
    "id": "2gXzn8Qa5NQS"
   },
   "outputs": [],
   "source": [
    "# 예측\n",
    "pred = model.predict(x_val)"
   ]
  },
  {
   "cell_type": "code",
   "execution_count": 10,
   "metadata": {
    "id": "322ZrUXr5NQS"
   },
   "outputs": [
    {
     "name": "stdout",
     "output_type": "stream",
     "text": [
      "              precision    recall  f1-score   support\n",
      "\n",
      "           0       0.65      0.68      0.67       769\n",
      "           1       0.65      0.62      0.63       731\n",
      "\n",
      "    accuracy                           0.65      1500\n",
      "   macro avg       0.65      0.65      0.65      1500\n",
      "weighted avg       0.65      0.65      0.65      1500\n",
      "\n"
     ]
    }
   ],
   "source": [
    "# 평가\n",
    "print(classification_report(y_val, pred))"
   ]
  },
  {
   "cell_type": "markdown",
   "metadata": {
    "id": "VIBByHoq5UnD"
   },
   "source": [
    "## 4.시각화와 변수중요도"
   ]
  },
  {
   "cell_type": "markdown",
   "metadata": {
    "id": "l7HDjalZvn5V"
   },
   "source": [
    "### (1) 모델의 내부를 살펴봅시다."
   ]
  },
  {
   "cell_type": "code",
   "execution_count": 11,
   "metadata": {
    "id": "aFIZR3G2lHNx"
   },
   "outputs": [
    {
     "data": {
      "text/plain": [
       "[DecisionTreeClassifier(max_depth=3, max_features='auto', random_state=235279883),\n",
       " DecisionTreeClassifier(max_depth=3, max_features='auto',\n",
       "                        random_state=1611413267),\n",
       " DecisionTreeClassifier(max_depth=3, max_features='auto', random_state=64800675),\n",
       " DecisionTreeClassifier(max_depth=3, max_features='auto', random_state=828541000),\n",
       " DecisionTreeClassifier(max_depth=3, max_features='auto', random_state=933499120)]"
      ]
     },
     "execution_count": 11,
     "metadata": {},
     "output_type": "execute_result"
    }
   ],
   "source": [
    "# 5개 decision tree\n",
    "model.estimators_ # estimators_ 모델 리스트"
   ]
  },
  {
   "cell_type": "code",
   "execution_count": 12,
   "metadata": {},
   "outputs": [
    {
     "data": {
      "text/plain": [
       "array([0.        , 0.12332557, 0.        , 0.05780888, 0.26594915,\n",
       "       0.        , 0.54154233, 0.        , 0.        , 0.        ,\n",
       "       0.        , 0.        , 0.        , 0.        , 0.        ,\n",
       "       0.        , 0.01137406, 0.        , 0.        , 0.        ])"
      ]
     },
     "execution_count": 12,
     "metadata": {},
     "output_type": "execute_result"
    }
   ],
   "source": [
    "model.estimators_[0].feature_importances_"
   ]
  },
  {
   "cell_type": "code",
   "execution_count": 13,
   "metadata": {
    "id": "lrMz1G6AlHb3"
   },
   "outputs": [
    {
     "data": {
      "image/png": "[encoded data removed]",
      "text/plain": [
       "<Figure size 1440x432 with 1 Axes>"
      ]
     },
     "metadata": {
      "needs_background": "light"
     },
     "output_type": "display_data"
    }
   ],
   "source": [
    "# 각 트리별로 시각화 할 수 있다.\n",
    "plt.figure(figsize=(20,6))\n",
    "plot_tree(model.estimators_[0], \n",
    "               feature_names = x_train.columns,\n",
    "               class_names= ['LEAVE','STAY'], \n",
    "               filled = True, fontsize = 8);"
   ]
  },
  {
   "cell_type": "markdown",
   "metadata": {
    "id": "1A3IrSloyvMc"
   },
   "source": [
    "### (2) 변수 중요도"
   ]
  },
  {
   "cell_type": "code",
   "execution_count": 14,
   "metadata": {
    "id": "yMzgMkHix8hH"
   },
   "outputs": [
    {
     "name": "stdout",
     "output_type": "stream",
     "text": [
      "Index(['COLLEGE', 'INCOME', 'OVERAGE', 'LEFTOVER', 'HOUSE', 'HANDSET_PRICE',\n",
      "       'OVER_15MINS_CALLS_PER_MONTH', 'AVERAGE_CALL_DURATION',\n",
      "       'REPORTED_SATISFACTION_sat', 'REPORTED_SATISFACTION_unsat',\n",
      "       'REPORTED_SATISFACTION_very_sat', 'REPORTED_SATISFACTION_very_unsat',\n",
      "       'REPORTED_USAGE_LEVEL_high', 'REPORTED_USAGE_LEVEL_little',\n",
      "       'REPORTED_USAGE_LEVEL_very_high', 'REPORTED_USAGE_LEVEL_very_little',\n",
      "       'CONSIDERING_CHANGE_OF_PLAN_considering',\n",
      "       'CONSIDERING_CHANGE_OF_PLAN_never_thought',\n",
      "       'CONSIDERING_CHANGE_OF_PLAN_no', 'CONSIDERING_CHANGE_OF_PLAN_perhaps'],\n",
      "      dtype='object')\n",
      "[0.         0.03905268 0.24897636 0.13380855 0.15332514 0.05059284\n",
      " 0.30257936 0.05288329 0.00868673 0.         0.         0.00269508\n",
      " 0.         0.         0.         0.         0.00227481 0.\n",
      " 0.00512515 0.        ]\n"
     ]
    }
   ],
   "source": [
    "# 변수 중요도\n",
    "print(x_train.columns)\n",
    "print(model.feature_importances_)"
   ]
  },
  {
   "cell_type": "markdown",
   "metadata": {
    "id": "sWJZioD01kne"
   },
   "source": [
    "* 변수중요도 그래프 그리기 함수 만들기"
   ]
  },
  {
   "cell_type": "code",
   "execution_count": 15,
   "metadata": {
    "id": "U2yhFi1Z1mx5"
   },
   "outputs": [],
   "source": [
    "def plot_feature_importance(importance, names):\n",
    "    feature_importance = np.array(importance)\n",
    "    feature_names = np.array(names)\n",
    "\n",
    "    data={'feature_names':feature_names,'feature_importance':feature_importance}\n",
    "    fi_df = pd.DataFrame(data)\n",
    "\n",
    "    fi_df.sort_values(by=['feature_importance'], ascending=False,inplace=True)\n",
    "    fi_df.reset_index(drop=True, inplace = True)\n",
    "\n",
    "    plt.figure(figsize=(10,8))\n",
    "    sns.barplot(x='feature_importance', y='feature_names', data = fi_df)\n",
    "\n",
    "    plt.xlabel('FEATURE IMPORTANCE')\n",
    "    plt.ylabel('FEATURE NAMES')\n",
    "    plt.grid()\n",
    "\n",
    "    return fi_df"
   ]
  },
  {
   "cell_type": "code",
   "execution_count": 16,
   "metadata": {
    "id": "zp9JdYhF16Kl"
   },
   "outputs": [
    {
     "data": {
      "image/png": "[encoded data removed]",
      "text/plain": [
       "<Figure size 720x576 with 1 Axes>"
      ]
     },
     "metadata": {
      "needs_background": "light"
     },
     "output_type": "display_data"
    }
   ],
   "source": [
    "result = plot_feature_importance(model.feature_importances_, x_train.columns)"
   ]
  },
  {
   "cell_type": "markdown",
   "metadata": {
    "id": "FMsEXaw3jKWc"
   },
   "source": [
    "## 5.실습: random forest 튜닝\n",
    "\n",
    "* grid search를 수행합니다.\n",
    "    * ① n_estimators 의 갯수를 5 ~ 200까지 5개씩 증가시켜가며 튜닝해 봅시다.\n",
    "    * ② max_features를 1 ~ feature갯수까지 1씩 증가시켜가며 튜닝해 봅시다.\n",
    "    * ③ n_estimators, max_features를 동시에 튜닝.\n",
    "\n",
    "* 모델링 후 cv 평가 결과를 차트로 그려봅시다. \n",
    "* 튜닝된 모델로 부터 변수중요도를 뽑아 봅시다.\n"
   ]
  },
  {
   "cell_type": "markdown",
   "metadata": {
    "id": "ZBvc-UZbDKdF"
   },
   "source": [
    "### (1) n_estimators 튜닝"
   ]
  },
  {
   "cell_type": "code",
   "execution_count": 7,
   "metadata": {
    "id": "Vnc2DixK8zIY"
   },
   "outputs": [],
   "source": [
    "model = RandomForestClassifier()"
   ]
  },
  {
   "cell_type": "code",
   "execution_count": 8,
   "metadata": {
    "id": "wkbEfOTC8zFt"
   },
   "outputs": [],
   "source": [
    "params = {'n_estimators': range(5, 201, 5)}"
   ]
  },
  {
   "cell_type": "code",
   "execution_count": 9,
   "metadata": {
    "id": "woHm6dFw8zC0"
   },
   "outputs": [],
   "source": [
    "model_gs = GridSearchCV(model, params, cv=5,) # verbose=3"
   ]
  },
  {
   "cell_type": "code",
   "execution_count": 33,
   "metadata": {
    "id": "StpzYtke8y_4",
    "scrolled": true,
    "tags": []
   },
   "outputs": [
    {
     "name": "stdout",
     "output_type": "stream",
     "text": [
      "Fitting 5 folds for each of 40 candidates, totalling 200 fits\n",
      "[CV 1/5] END ....................n_estimators=5;, score=0.611 total time=   0.0s\n",
      "[CV 2/5] END ....................n_estimators=5;, score=0.623 total time=   0.0s\n",
      "[CV 3/5] END ....................n_estimators=5;, score=0.677 total time=   0.0s\n",
      "[CV 4/5] END ....................n_estimators=5;, score=0.639 total time=   0.0s\n",
      "[CV 5/5] END ....................n_estimators=5;, score=0.650 total time=   0.0s\n",
      "[CV 1/5] END ...................n_estimators=10;, score=0.626 total time=   0.0s\n",
      "[CV 2/5] END ...................n_estimators=10;, score=0.690 total time=   0.0s\n",
      "[CV 3/5] END ...................n_estimators=10;, score=0.646 total time=   0.0s\n",
      "[CV 4/5] END ...................n_estimators=10;, score=0.656 total time=   0.0s\n",
      "[CV 5/5] END ...................n_estimators=10;, score=0.669 total time=   0.0s\n",
      "[CV 1/5] END ...................n_estimators=15;, score=0.660 total time=   0.0s\n",
      "[CV 2/5] END ...................n_estimators=15;, score=0.670 total time=   0.0s\n",
      "[CV 3/5] END ...................n_estimators=15;, score=0.636 total time=   0.0s\n",
      "[CV 4/5] END ...................n_estimators=15;, score=0.650 total time=   0.0s\n",
      "[CV 5/5] END ...................n_estimators=15;, score=0.666 total time=   0.0s\n",
      "[CV 1/5] END ...................n_estimators=20;, score=0.656 total time=   0.1s\n",
      "[CV 2/5] END ...................n_estimators=20;, score=0.667 total time=   0.0s\n",
      "[CV 3/5] END ...................n_estimators=20;, score=0.654 total time=   0.0s\n",
      "[CV 4/5] END ...................n_estimators=20;, score=0.684 total time=   0.0s\n",
      "[CV 5/5] END ...................n_estimators=20;, score=0.676 total time=   0.0s\n",
      "[CV 1/5] END ...................n_estimators=25;, score=0.650 total time=   0.0s\n",
      "[CV 2/5] END ...................n_estimators=25;, score=0.676 total time=   0.0s\n",
      "[CV 3/5] END ...................n_estimators=25;, score=0.671 total time=   0.0s\n",
      "[CV 4/5] END ...................n_estimators=25;, score=0.657 total time=   0.0s\n",
      "[CV 5/5] END ...................n_estimators=25;, score=0.673 total time=   0.0s\n",
      "[CV 1/5] END ...................n_estimators=30;, score=0.650 total time=   0.1s\n",
      "[CV 2/5] END ...................n_estimators=30;, score=0.711 total time=   0.1s\n",
      "[CV 3/5] END ...................n_estimators=30;, score=0.654 total time=   0.1s\n",
      "[CV 4/5] END ...................n_estimators=30;, score=0.684 total time=   0.1s\n",
      "[CV 5/5] END ...................n_estimators=30;, score=0.664 total time=   0.1s\n",
      "[CV 1/5] END ...................n_estimators=35;, score=0.669 total time=   0.1s\n",
      "[CV 2/5] END ...................n_estimators=35;, score=0.694 total time=   0.1s\n",
      "[CV 3/5] END ...................n_estimators=35;, score=0.673 total time=   0.1s\n",
      "[CV 4/5] END ...................n_estimators=35;, score=0.661 total time=   0.1s\n",
      "[CV 5/5] END ...................n_estimators=35;, score=0.699 total time=   0.1s\n",
      "[CV 1/5] END ...................n_estimators=40;, score=0.636 total time=   0.1s\n",
      "[CV 2/5] END ...................n_estimators=40;, score=0.699 total time=   0.1s\n",
      "[CV 3/5] END ...................n_estimators=40;, score=0.680 total time=   0.1s\n",
      "[CV 4/5] END ...................n_estimators=40;, score=0.696 total time=   0.1s\n",
      "[CV 5/5] END ...................n_estimators=40;, score=0.679 total time=   0.1s\n",
      "[CV 1/5] END ...................n_estimators=45;, score=0.657 total time=   0.1s\n",
      "[CV 2/5] END ...................n_estimators=45;, score=0.713 total time=   0.1s\n",
      "[CV 3/5] END ...................n_estimators=45;, score=0.679 total time=   0.1s\n",
      "[CV 4/5] END ...................n_estimators=45;, score=0.689 total time=   0.1s\n",
      "[CV 5/5] END ...................n_estimators=45;, score=0.696 total time=   0.2s\n",
      "[CV 1/5] END ...................n_estimators=50;, score=0.667 total time=   0.2s\n",
      "[CV 2/5] END ...................n_estimators=50;, score=0.707 total time=   0.2s\n",
      "[CV 3/5] END ...................n_estimators=50;, score=0.667 total time=   0.2s\n",
      "[CV 4/5] END ...................n_estimators=50;, score=0.696 total time=   0.2s\n",
      "[CV 5/5] END ...................n_estimators=50;, score=0.680 total time=   0.1s\n",
      "[CV 1/5] END ...................n_estimators=55;, score=0.657 total time=   0.2s\n",
      "[CV 2/5] END ...................n_estimators=55;, score=0.703 total time=   0.2s\n",
      "[CV 3/5] END ...................n_estimators=55;, score=0.694 total time=   0.2s\n",
      "[CV 4/5] END ...................n_estimators=55;, score=0.696 total time=   0.2s\n",
      "[CV 5/5] END ...................n_estimators=55;, score=0.681 total time=   0.2s\n",
      "[CV 1/5] END ...................n_estimators=60;, score=0.666 total time=   0.2s\n",
      "[CV 2/5] END ...................n_estimators=60;, score=0.700 total time=   0.4s\n",
      "[CV 3/5] END ...................n_estimators=60;, score=0.657 total time=   0.3s\n",
      "[CV 4/5] END ...................n_estimators=60;, score=0.687 total time=   0.3s\n",
      "[CV 5/5] END ...................n_estimators=60;, score=0.680 total time=   0.3s\n",
      "[CV 1/5] END ...................n_estimators=65;, score=0.661 total time=   0.3s\n",
      "[CV 2/5] END ...................n_estimators=65;, score=0.701 total time=   0.3s\n",
      "[CV 3/5] END ...................n_estimators=65;, score=0.667 total time=   0.3s\n",
      "[CV 4/5] END ...................n_estimators=65;, score=0.697 total time=   0.3s\n",
      "[CV 5/5] END ...................n_estimators=65;, score=0.693 total time=   0.3s\n",
      "[CV 1/5] END ...................n_estimators=70;, score=0.659 total time=   0.4s\n",
      "[CV 2/5] END ...................n_estimators=70;, score=0.696 total time=   0.4s\n",
      "[CV 3/5] END ...................n_estimators=70;, score=0.687 total time=   0.3s\n",
      "[CV 4/5] END ...................n_estimators=70;, score=0.673 total time=   0.2s\n",
      "[CV 5/5] END ...................n_estimators=70;, score=0.696 total time=   0.3s\n",
      "[CV 1/5] END ...................n_estimators=75;, score=0.661 total time=   0.3s\n",
      "[CV 2/5] END ...................n_estimators=75;, score=0.697 total time=   0.3s\n",
      "[CV 3/5] END ...................n_estimators=75;, score=0.684 total time=   0.4s\n",
      "[CV 4/5] END ...................n_estimators=75;, score=0.689 total time=   0.3s\n",
      "[CV 5/5] END ...................n_estimators=75;, score=0.689 total time=   0.3s\n",
      "[CV 1/5] END ...................n_estimators=80;, score=0.653 total time=   0.3s\n",
      "[CV 2/5] END ...................n_estimators=80;, score=0.706 total time=   0.3s\n",
      "[CV 3/5] END ...................n_estimators=80;, score=0.693 total time=   0.3s\n",
      "[CV 4/5] END ...................n_estimators=80;, score=0.679 total time=   0.3s\n",
      "[CV 5/5] END ...................n_estimators=80;, score=0.693 total time=   0.3s\n",
      "[CV 1/5] END ...................n_estimators=85;, score=0.674 total time=   0.4s\n",
      "[CV 2/5] END ...................n_estimators=85;, score=0.697 total time=   0.6s\n",
      "[CV 3/5] END ...................n_estimators=85;, score=0.674 total time=   0.4s\n",
      "[CV 4/5] END ...................n_estimators=85;, score=0.671 total time=   0.3s\n",
      "[CV 5/5] END ...................n_estimators=85;, score=0.691 total time=   0.4s\n",
      "[CV 1/5] END ...................n_estimators=90;, score=0.661 total time=   0.4s\n",
      "[CV 2/5] END ...................n_estimators=90;, score=0.699 total time=   0.3s\n",
      "[CV 3/5] END ...................n_estimators=90;, score=0.669 total time=   0.4s\n",
      "[CV 4/5] END ...................n_estimators=90;, score=0.691 total time=   0.4s\n",
      "[CV 5/5] END ...................n_estimators=90;, score=0.683 total time=   0.3s\n",
      "[CV 1/5] END ...................n_estimators=95;, score=0.651 total time=   0.4s\n",
      "[CV 2/5] END ...................n_estimators=95;, score=0.697 total time=   0.4s\n",
      "[CV 3/5] END ...................n_estimators=95;, score=0.677 total time=   0.4s\n",
      "[CV 4/5] END ...................n_estimators=95;, score=0.679 total time=   1.1s\n",
      "[CV 5/5] END ...................n_estimators=95;, score=0.683 total time=   0.7s\n",
      "[CV 1/5] END ..................n_estimators=100;, score=0.650 total time=   0.7s\n",
      "[CV 2/5] END ..................n_estimators=100;, score=0.693 total time=   0.5s\n",
      "[CV 3/5] END ..................n_estimators=100;, score=0.679 total time=   0.5s\n",
      "[CV 4/5] END ..................n_estimators=100;, score=0.677 total time=   0.6s\n",
      "[CV 5/5] END ..................n_estimators=100;, score=0.677 total time=   0.5s\n",
      "[CV 1/5] END ..................n_estimators=105;, score=0.667 total time=   0.5s\n",
      "[CV 2/5] END ..................n_estimators=105;, score=0.710 total time=   0.4s\n",
      "[CV 3/5] END ..................n_estimators=105;, score=0.686 total time=   0.4s\n",
      "[CV 4/5] END ..................n_estimators=105;, score=0.687 total time=   0.5s\n",
      "[CV 5/5] END ..................n_estimators=105;, score=0.694 total time=   0.5s\n",
      "[CV 1/5] END ..................n_estimators=110;, score=0.674 total time=   0.5s\n",
      "[CV 2/5] END ..................n_estimators=110;, score=0.691 total time=   0.5s\n",
      "[CV 3/5] END ..................n_estimators=110;, score=0.651 total time=   0.7s\n",
      "[CV 4/5] END ..................n_estimators=110;, score=0.686 total time=   0.6s\n",
      "[CV 5/5] END ..................n_estimators=110;, score=0.690 total time=   0.5s\n",
      "[CV 1/5] END ..................n_estimators=115;, score=0.670 total time=   0.6s\n",
      "[CV 2/5] END ..................n_estimators=115;, score=0.699 total time=   0.6s\n",
      "[CV 3/5] END ..................n_estimators=115;, score=0.686 total time=   0.5s\n",
      "[CV 4/5] END ..................n_estimators=115;, score=0.679 total time=   0.6s\n",
      "[CV 5/5] END ..................n_estimators=115;, score=0.684 total time=   0.6s\n",
      "[CV 1/5] END ..................n_estimators=120;, score=0.671 total time=   0.5s\n",
      "[CV 2/5] END ..................n_estimators=120;, score=0.706 total time=   0.5s\n",
      "[CV 3/5] END ..................n_estimators=120;, score=0.684 total time=   0.7s\n",
      "[CV 4/5] END ..................n_estimators=120;, score=0.666 total time=   0.8s\n",
      "[CV 5/5] END ..................n_estimators=120;, score=0.691 total time=   0.5s\n",
      "[CV 1/5] END ..................n_estimators=125;, score=0.661 total time=   0.5s\n",
      "[CV 2/5] END ..................n_estimators=125;, score=0.690 total time=   0.6s\n",
      "[CV 3/5] END ..................n_estimators=125;, score=0.684 total time=   0.5s\n",
      "[CV 4/5] END ..................n_estimators=125;, score=0.679 total time=   0.6s\n",
      "[CV 5/5] END ..................n_estimators=125;, score=0.690 total time=   0.6s\n",
      "[CV 1/5] END ..................n_estimators=130;, score=0.670 total time=   0.6s\n",
      "[CV 2/5] END ..................n_estimators=130;, score=0.709 total time=   0.6s\n",
      "[CV 3/5] END ..................n_estimators=130;, score=0.660 total time=   0.6s\n",
      "[CV 4/5] END ..................n_estimators=130;, score=0.684 total time=   0.7s\n",
      "[CV 5/5] END ..................n_estimators=130;, score=0.703 total time=   0.5s\n",
      "[CV 1/5] END ..................n_estimators=135;, score=0.654 total time=   0.6s\n",
      "[CV 2/5] END ..................n_estimators=135;, score=0.703 total time=   0.6s\n",
      "[CV 3/5] END ..................n_estimators=135;, score=0.680 total time=   0.6s\n",
      "[CV 4/5] END ..................n_estimators=135;, score=0.679 total time=   0.6s\n",
      "[CV 5/5] END ..................n_estimators=135;, score=0.683 total time=   0.7s\n",
      "[CV 1/5] END ..................n_estimators=140;, score=0.653 total time=   0.7s\n",
      "[CV 2/5] END ..................n_estimators=140;, score=0.709 total time=   0.6s\n",
      "[CV 3/5] END ..................n_estimators=140;, score=0.679 total time=   0.7s\n",
      "[CV 4/5] END ..................n_estimators=140;, score=0.691 total time=   0.6s\n",
      "[CV 5/5] END ..................n_estimators=140;, score=0.691 total time=   0.7s\n",
      "[CV 1/5] END ..................n_estimators=145;, score=0.666 total time=   1.0s\n",
      "[CV 2/5] END ..................n_estimators=145;, score=0.703 total time=   0.9s\n",
      "[CV 3/5] END ..................n_estimators=145;, score=0.670 total time=   1.0s\n",
      "[CV 4/5] END ..................n_estimators=145;, score=0.691 total time=   0.6s\n",
      "[CV 5/5] END ..................n_estimators=145;, score=0.690 total time=   0.6s\n",
      "[CV 1/5] END ..................n_estimators=150;, score=0.664 total time=   1.0s\n",
      "[CV 2/5] END ..................n_estimators=150;, score=0.700 total time=   0.8s\n",
      "[CV 3/5] END ..................n_estimators=150;, score=0.686 total time=   0.7s\n",
      "[CV 4/5] END ..................n_estimators=150;, score=0.686 total time=   0.8s\n",
      "[CV 5/5] END ..................n_estimators=150;, score=0.679 total time=   0.7s\n",
      "[CV 1/5] END ..................n_estimators=155;, score=0.656 total time=   0.7s\n",
      "[CV 2/5] END ..................n_estimators=155;, score=0.709 total time=   0.7s\n",
      "[CV 3/5] END ..................n_estimators=155;, score=0.689 total time=   0.7s\n",
      "[CV 4/5] END ..................n_estimators=155;, score=0.673 total time=   0.8s\n",
      "[CV 5/5] END ..................n_estimators=155;, score=0.687 total time=   0.7s\n",
      "[CV 1/5] END ..................n_estimators=160;, score=0.657 total time=   0.8s\n",
      "[CV 2/5] END ..................n_estimators=160;, score=0.707 total time=   0.9s\n",
      "[CV 3/5] END ..................n_estimators=160;, score=0.683 total time=   0.9s\n",
      "[CV 4/5] END ..................n_estimators=160;, score=0.673 total time=   0.9s\n",
      "[CV 5/5] END ..................n_estimators=160;, score=0.687 total time=   0.8s\n",
      "[CV 1/5] END ..................n_estimators=165;, score=0.656 total time=   0.8s\n",
      "[CV 2/5] END ..................n_estimators=165;, score=0.700 total time=   0.7s\n",
      "[CV 3/5] END ..................n_estimators=165;, score=0.680 total time=   0.7s\n",
      "[CV 4/5] END ..................n_estimators=165;, score=0.683 total time=   0.8s\n",
      "[CV 5/5] END ..................n_estimators=165;, score=0.689 total time=   0.8s\n",
      "[CV 1/5] END ..................n_estimators=170;, score=0.667 total time=   1.0s\n",
      "[CV 2/5] END ..................n_estimators=170;, score=0.701 total time=   1.6s\n",
      "[CV 3/5] END ..................n_estimators=170;, score=0.674 total time=   0.9s\n",
      "[CV 4/5] END ..................n_estimators=170;, score=0.684 total time=   0.8s\n",
      "[CV 5/5] END ..................n_estimators=170;, score=0.697 total time=   0.8s\n",
      "[CV 1/5] END ..................n_estimators=175;, score=0.674 total time=   1.0s\n",
      "[CV 2/5] END ..................n_estimators=175;, score=0.693 total time=   0.8s\n",
      "[CV 3/5] END ..................n_estimators=175;, score=0.684 total time=   0.8s\n",
      "[CV 4/5] END ..................n_estimators=175;, score=0.676 total time=   1.2s\n",
      "[CV 5/5] END ..................n_estimators=175;, score=0.689 total time=   1.6s\n",
      "[CV 1/5] END ..................n_estimators=180;, score=0.659 total time=   1.0s\n",
      "[CV 2/5] END ..................n_estimators=180;, score=0.697 total time=   0.9s\n",
      "[CV 3/5] END ..................n_estimators=180;, score=0.659 total time=   0.8s\n",
      "[CV 4/5] END ..................n_estimators=180;, score=0.690 total time=   1.1s\n",
      "[CV 5/5] END ..................n_estimators=180;, score=0.696 total time=   0.9s\n",
      "[CV 1/5] END ..................n_estimators=185;, score=0.666 total time=   0.9s\n",
      "[CV 2/5] END ..................n_estimators=185;, score=0.714 total time=   1.2s\n",
      "[CV 3/5] END ..................n_estimators=185;, score=0.683 total time=   1.0s\n",
      "[CV 4/5] END ..................n_estimators=185;, score=0.677 total time=   0.8s\n",
      "[CV 5/5] END ..................n_estimators=185;, score=0.689 total time=   0.8s\n",
      "[CV 1/5] END ..................n_estimators=190;, score=0.657 total time=   1.1s\n",
      "[CV 2/5] END ..................n_estimators=190;, score=0.706 total time=   0.9s\n",
      "[CV 3/5] END ..................n_estimators=190;, score=0.666 total time=   1.0s\n",
      "[CV 4/5] END ..................n_estimators=190;, score=0.686 total time=   1.5s\n",
      "[CV 5/5] END ..................n_estimators=190;, score=0.699 total time=   1.3s\n",
      "[CV 1/5] END ..................n_estimators=195;, score=0.670 total time=   1.4s\n",
      "[CV 2/5] END ..................n_estimators=195;, score=0.719 total time=   0.9s\n",
      "[CV 3/5] END ..................n_estimators=195;, score=0.679 total time=   0.9s\n",
      "[CV 4/5] END ..................n_estimators=195;, score=0.683 total time=   1.0s\n",
      "[CV 5/5] END ..................n_estimators=195;, score=0.703 total time=   1.0s\n",
      "[CV 1/5] END ..................n_estimators=200;, score=0.664 total time=   1.0s\n",
      "[CV 2/5] END ..................n_estimators=200;, score=0.699 total time=   1.1s\n",
      "[CV 3/5] END ..................n_estimators=200;, score=0.676 total time=   0.9s\n",
      "[CV 4/5] END ..................n_estimators=200;, score=0.687 total time=   0.9s\n",
      "[CV 5/5] END ..................n_estimators=200;, score=0.687 total time=   1.0s\n"
     ]
    },
    {
     "data": {
      "text/plain": [
       "GridSearchCV(cv=5, estimator=RandomForestClassifier(),\n",
       "             param_grid={'n_estimators': range(5, 201, 5)}, verbose=3)"
      ]
     },
     "execution_count": 33,
     "metadata": {},
     "output_type": "execute_result"
    }
   ],
   "source": [
    "model_gs.fit(x_train, y_train)"
   ]
  },
  {
   "cell_type": "code",
   "execution_count": 34,
   "metadata": {
    "id": "GZjjY8cQ8y8s"
   },
   "outputs": [
    {
     "data": {
      "text/plain": [
       "{'n_estimators': 195}"
      ]
     },
     "execution_count": 34,
     "metadata": {},
     "output_type": "execute_result"
    }
   ],
   "source": [
    "model_gs.best_params_"
   ]
  },
  {
   "cell_type": "code",
   "execution_count": 35,
   "metadata": {},
   "outputs": [
    {
     "data": {
      "text/plain": [
       "0.6905714285714286"
      ]
     },
     "execution_count": 35,
     "metadata": {},
     "output_type": "execute_result"
    }
   ],
   "source": [
    "model_gs.best_score_"
   ]
  },
  {
   "cell_type": "code",
   "execution_count": 36,
   "metadata": {},
   "outputs": [],
   "source": [
    "pred1 = model_gs.predict(x_val)"
   ]
  },
  {
   "cell_type": "code",
   "execution_count": 37,
   "metadata": {},
   "outputs": [
    {
     "name": "stdout",
     "output_type": "stream",
     "text": [
      "              precision    recall  f1-score   support\n",
      "\n",
      "           0       0.72      0.70      0.71       769\n",
      "           1       0.69      0.71      0.70       731\n",
      "\n",
      "    accuracy                           0.70      1500\n",
      "   macro avg       0.70      0.70      0.70      1500\n",
      "weighted avg       0.70      0.70      0.70      1500\n",
      "\n"
     ]
    }
   ],
   "source": [
    "print(classification_report(y_val, pred1))"
   ]
  },
  {
   "cell_type": "code",
   "execution_count": 39,
   "metadata": {},
   "outputs": [
    {
     "data": {
      "text/html": [
       "<div>\n",
       "<style scoped>\n",
       "    .dataframe tbody tr th:only-of-type {\n",
       "        vertical-align: middle;\n",
       "    }\n",
       "\n",
       "    .dataframe tbody tr th {\n",
       "        vertical-align: top;\n",
       "    }\n",
       "\n",
       "    .dataframe thead th {\n",
       "        text-align: right;\n",
       "    }\n",
       "</style>\n",
       "<table border=\"1\" class=\"dataframe\">\n",
       "  <thead>\n",
       "    <tr style=\"text-align: right;\">\n",
       "      <th></th>\n",
       "      <th>param_n_estimators</th>\n",
       "      <th>mean_test_score</th>\n",
       "    </tr>\n",
       "  </thead>\n",
       "  <tbody>\n",
       "    <tr>\n",
       "      <th>0</th>\n",
       "      <td>5</td>\n",
       "      <td>0.640000</td>\n",
       "    </tr>\n",
       "    <tr>\n",
       "      <th>1</th>\n",
       "      <td>10</td>\n",
       "      <td>0.657143</td>\n",
       "    </tr>\n",
       "    <tr>\n",
       "      <th>2</th>\n",
       "      <td>15</td>\n",
       "      <td>0.656286</td>\n",
       "    </tr>\n",
       "    <tr>\n",
       "      <th>3</th>\n",
       "      <td>20</td>\n",
       "      <td>0.667429</td>\n",
       "    </tr>\n",
       "    <tr>\n",
       "      <th>4</th>\n",
       "      <td>25</td>\n",
       "      <td>0.665429</td>\n",
       "    </tr>\n",
       "  </tbody>\n",
       "</table>\n",
       "</div>"
      ],
      "text/plain": [
       "  param_n_estimators  mean_test_score\n",
       "0                  5         0.640000\n",
       "1                 10         0.657143\n",
       "2                 15         0.656286\n",
       "3                 20         0.667429\n",
       "4                 25         0.665429"
      ]
     },
     "execution_count": 39,
     "metadata": {},
     "output_type": "execute_result"
    }
   ],
   "source": [
    "# 튜닝 결과를 데이터프레임으로 저장\n",
    "result = pd.DataFrame(model_gs.cv_results_)\n",
    "tmp = result.loc[:, ['param_n_estimators', 'mean_test_score']]\n",
    "tmp.head()"
   ]
  },
  {
   "cell_type": "code",
   "execution_count": 41,
   "metadata": {},
   "outputs": [
    {
     "data": {
      "image/png": "[encoded data removed]",
      "text/plain": [
       "<Figure size 864x576 with 1 Axes>"
      ]
     },
     "metadata": {
      "needs_background": "light"
     },
     "output_type": "display_data"
    }
   ],
   "source": [
    "plt.figure(figsize=(12, 8))\n",
    "plt.plot('param_n_estimators', 'mean_test_score', data=tmp)\n",
    "plt.grid()\n",
    "plt.show()"
   ]
  },
  {
   "cell_type": "markdown",
   "metadata": {
    "id": "s5pialxTDU9z"
   },
   "source": [
    "### (2) max_features 튜닝"
   ]
  },
  {
   "cell_type": "code",
   "execution_count": 10,
   "metadata": {},
   "outputs": [
    {
     "data": {
      "text/plain": [
       "(3500, 20)"
      ]
     },
     "execution_count": 10,
     "metadata": {},
     "output_type": "execute_result"
    }
   ],
   "source": [
    "x_train.shape"
   ]
  },
  {
   "cell_type": "code",
   "execution_count": 14,
   "metadata": {
    "id": "6l46BbIJ806i"
   },
   "outputs": [],
   "source": [
    "model = RandomForestClassifier()"
   ]
  },
  {
   "cell_type": "code",
   "execution_count": 15,
   "metadata": {
    "id": "XY0I2IgW802E"
   },
   "outputs": [],
   "source": [
    "params = {'max_features': range(1, 21)}"
   ]
  },
  {
   "cell_type": "code",
   "execution_count": 19,
   "metadata": {
    "id": "rkcpNLh680zM"
   },
   "outputs": [],
   "source": [
    "model_gs = GridSearchCV(model, params, cv=5)"
   ]
  },
  {
   "cell_type": "code",
   "execution_count": 21,
   "metadata": {
    "id": "yg4ptiEJ80wW"
   },
   "outputs": [
    {
     "data": {
      "text/plain": [
       "GridSearchCV(cv=5, estimator=RandomForestClassifier(),\n",
       "             param_grid={'max_features': range(1, 21)})"
      ]
     },
     "execution_count": 21,
     "metadata": {},
     "output_type": "execute_result"
    }
   ],
   "source": [
    "model_gs.fit(x_train, y_train)"
   ]
  },
  {
   "cell_type": "code",
   "execution_count": 22,
   "metadata": {
    "id": "SqbE23GN80tS"
   },
   "outputs": [
    {
     "data": {
      "text/plain": [
       "{'max_features': 8}"
      ]
     },
     "execution_count": 22,
     "metadata": {},
     "output_type": "execute_result"
    }
   ],
   "source": [
    "model_gs.best_params_"
   ]
  },
  {
   "cell_type": "code",
   "execution_count": 23,
   "metadata": {},
   "outputs": [
    {
     "data": {
      "text/plain": [
       "0.6865714285714286"
      ]
     },
     "execution_count": 23,
     "metadata": {},
     "output_type": "execute_result"
    }
   ],
   "source": [
    "model_gs.best_score_"
   ]
  },
  {
   "cell_type": "markdown",
   "metadata": {
    "id": "tQ3ZqJmgi1d1"
   },
   "source": [
    "* 변수 중요도"
   ]
  },
  {
   "cell_type": "code",
   "execution_count": 29,
   "metadata": {},
   "outputs": [
    {
     "data": {
      "text/html": [
       "<div>\n",
       "<style scoped>\n",
       "    .dataframe tbody tr th:only-of-type {\n",
       "        vertical-align: middle;\n",
       "    }\n",
       "\n",
       "    .dataframe tbody tr th {\n",
       "        vertical-align: top;\n",
       "    }\n",
       "\n",
       "    .dataframe thead th {\n",
       "        text-align: right;\n",
       "    }\n",
       "</style>\n",
       "<table border=\"1\" class=\"dataframe\">\n",
       "  <thead>\n",
       "    <tr style=\"text-align: right;\">\n",
       "      <th></th>\n",
       "      <th>mean_fit_time</th>\n",
       "      <th>std_fit_time</th>\n",
       "      <th>mean_score_time</th>\n",
       "      <th>std_score_time</th>\n",
       "      <th>param_max_features</th>\n",
       "      <th>params</th>\n",
       "      <th>split0_test_score</th>\n",
       "      <th>split1_test_score</th>\n",
       "      <th>split2_test_score</th>\n",
       "      <th>split3_test_score</th>\n",
       "      <th>split4_test_score</th>\n",
       "      <th>mean_test_score</th>\n",
       "      <th>std_test_score</th>\n",
       "      <th>rank_test_score</th>\n",
       "    </tr>\n",
       "  </thead>\n",
       "  <tbody>\n",
       "    <tr>\n",
       "      <th>0</th>\n",
       "      <td>0.402762</td>\n",
       "      <td>0.047957</td>\n",
       "      <td>0.034356</td>\n",
       "      <td>0.003567</td>\n",
       "      <td>1</td>\n",
       "      <td>{'max_features': 1}</td>\n",
       "      <td>0.644286</td>\n",
       "      <td>0.667143</td>\n",
       "      <td>0.660000</td>\n",
       "      <td>0.651429</td>\n",
       "      <td>0.671429</td>\n",
       "      <td>0.658857</td>\n",
       "      <td>0.009955</td>\n",
       "      <td>20</td>\n",
       "    </tr>\n",
       "    <tr>\n",
       "      <th>1</th>\n",
       "      <td>0.433111</td>\n",
       "      <td>0.072982</td>\n",
       "      <td>0.034848</td>\n",
       "      <td>0.001679</td>\n",
       "      <td>2</td>\n",
       "      <td>{'max_features': 2}</td>\n",
       "      <td>0.654286</td>\n",
       "      <td>0.687143</td>\n",
       "      <td>0.672857</td>\n",
       "      <td>0.682857</td>\n",
       "      <td>0.701429</td>\n",
       "      <td>0.679714</td>\n",
       "      <td>0.015686</td>\n",
       "      <td>14</td>\n",
       "    </tr>\n",
       "    <tr>\n",
       "      <th>2</th>\n",
       "      <td>0.623474</td>\n",
       "      <td>0.106153</td>\n",
       "      <td>0.039035</td>\n",
       "      <td>0.012582</td>\n",
       "      <td>3</td>\n",
       "      <td>{'max_features': 3}</td>\n",
       "      <td>0.661429</td>\n",
       "      <td>0.700000</td>\n",
       "      <td>0.668571</td>\n",
       "      <td>0.697143</td>\n",
       "      <td>0.680000</td>\n",
       "      <td>0.681429</td>\n",
       "      <td>0.015226</td>\n",
       "      <td>10</td>\n",
       "    </tr>\n",
       "    <tr>\n",
       "      <th>3</th>\n",
       "      <td>0.565669</td>\n",
       "      <td>0.094906</td>\n",
       "      <td>0.028105</td>\n",
       "      <td>0.002495</td>\n",
       "      <td>4</td>\n",
       "      <td>{'max_features': 4}</td>\n",
       "      <td>0.664286</td>\n",
       "      <td>0.714286</td>\n",
       "      <td>0.661429</td>\n",
       "      <td>0.687143</td>\n",
       "      <td>0.687143</td>\n",
       "      <td>0.682857</td>\n",
       "      <td>0.019124</td>\n",
       "      <td>4</td>\n",
       "    </tr>\n",
       "    <tr>\n",
       "      <th>4</th>\n",
       "      <td>0.747982</td>\n",
       "      <td>0.166258</td>\n",
       "      <td>0.031784</td>\n",
       "      <td>0.003374</td>\n",
       "      <td>5</td>\n",
       "      <td>{'max_features': 5}</td>\n",
       "      <td>0.674286</td>\n",
       "      <td>0.701429</td>\n",
       "      <td>0.684286</td>\n",
       "      <td>0.677143</td>\n",
       "      <td>0.684286</td>\n",
       "      <td>0.684286</td>\n",
       "      <td>0.009433</td>\n",
       "      <td>2</td>\n",
       "    </tr>\n",
       "  </tbody>\n",
       "</table>\n",
       "</div>"
      ],
      "text/plain": [
       "   mean_fit_time  std_fit_time  mean_score_time  std_score_time  \\\n",
       "0       0.402762      0.047957         0.034356        0.003567   \n",
       "1       0.433111      0.072982         0.034848        0.001679   \n",
       "2       0.623474      0.106153         0.039035        0.012582   \n",
       "3       0.565669      0.094906         0.028105        0.002495   \n",
       "4       0.747982      0.166258         0.031784        0.003374   \n",
       "\n",
       "  param_max_features               params  split0_test_score  \\\n",
       "0                  1  {'max_features': 1}           0.644286   \n",
       "1                  2  {'max_features': 2}           0.654286   \n",
       "2                  3  {'max_features': 3}           0.661429   \n",
       "3                  4  {'max_features': 4}           0.664286   \n",
       "4                  5  {'max_features': 5}           0.674286   \n",
       "\n",
       "   split1_test_score  split2_test_score  split3_test_score  split4_test_score  \\\n",
       "0           0.667143           0.660000           0.651429           0.671429   \n",
       "1           0.687143           0.672857           0.682857           0.701429   \n",
       "2           0.700000           0.668571           0.697143           0.680000   \n",
       "3           0.714286           0.661429           0.687143           0.687143   \n",
       "4           0.701429           0.684286           0.677143           0.684286   \n",
       "\n",
       "   mean_test_score  std_test_score  rank_test_score  \n",
       "0         0.658857        0.009955               20  \n",
       "1         0.679714        0.015686               14  \n",
       "2         0.681429        0.015226               10  \n",
       "3         0.682857        0.019124                4  \n",
       "4         0.684286        0.009433                2  "
      ]
     },
     "execution_count": 29,
     "metadata": {},
     "output_type": "execute_result"
    }
   ],
   "source": [
    "result = pd.DataFrame(model_gs.cv_results_)\n",
    "result.head()"
   ]
  },
  {
   "cell_type": "code",
   "execution_count": 30,
   "metadata": {
    "id": "Tjp-cmDm83D5"
   },
   "outputs": [
    {
     "data": {
      "text/html": [
       "<div>\n",
       "<style scoped>\n",
       "    .dataframe tbody tr th:only-of-type {\n",
       "        vertical-align: middle;\n",
       "    }\n",
       "\n",
       "    .dataframe tbody tr th {\n",
       "        vertical-align: top;\n",
       "    }\n",
       "\n",
       "    .dataframe thead th {\n",
       "        text-align: right;\n",
       "    }\n",
       "</style>\n",
       "<table border=\"1\" class=\"dataframe\">\n",
       "  <thead>\n",
       "    <tr style=\"text-align: right;\">\n",
       "      <th></th>\n",
       "      <th>param_max_features</th>\n",
       "      <th>mean_test_score</th>\n",
       "    </tr>\n",
       "  </thead>\n",
       "  <tbody>\n",
       "    <tr>\n",
       "      <th>0</th>\n",
       "      <td>1</td>\n",
       "      <td>0.658857</td>\n",
       "    </tr>\n",
       "    <tr>\n",
       "      <th>1</th>\n",
       "      <td>2</td>\n",
       "      <td>0.679714</td>\n",
       "    </tr>\n",
       "    <tr>\n",
       "      <th>2</th>\n",
       "      <td>3</td>\n",
       "      <td>0.681429</td>\n",
       "    </tr>\n",
       "    <tr>\n",
       "      <th>3</th>\n",
       "      <td>4</td>\n",
       "      <td>0.682857</td>\n",
       "    </tr>\n",
       "    <tr>\n",
       "      <th>4</th>\n",
       "      <td>5</td>\n",
       "      <td>0.684286</td>\n",
       "    </tr>\n",
       "  </tbody>\n",
       "</table>\n",
       "</div>"
      ],
      "text/plain": [
       "  param_max_features  mean_test_score\n",
       "0                  1         0.658857\n",
       "1                  2         0.679714\n",
       "2                  3         0.681429\n",
       "3                  4         0.682857\n",
       "4                  5         0.684286"
      ]
     },
     "execution_count": 30,
     "metadata": {},
     "output_type": "execute_result"
    }
   ],
   "source": [
    "# 튜닝 결과를 데이터프레임으로 저장\n",
    "result = pd.DataFrame(model_gs.cv_results_)\n",
    "tmp = result.loc[:, ['param_max_features', 'mean_test_score']]\n",
    "tmp.head()"
   ]
  },
  {
   "cell_type": "code",
   "execution_count": 31,
   "metadata": {
    "id": "y4n1X6yc83An"
   },
   "outputs": [
    {
     "data": {
      "image/png": "[encoded data removed]",
      "text/plain": [
       "<Figure size 864x576 with 1 Axes>"
      ]
     },
     "metadata": {
      "needs_background": "light"
     },
     "output_type": "display_data"
    }
   ],
   "source": [
    "plt.figure(figsize=(12, 8))\n",
    "plt.plot('param_max_features', 'mean_test_score', data=tmp)\n",
    "plt.grid()\n",
    "plt.show()"
   ]
  },
  {
   "cell_type": "markdown",
   "metadata": {
    "id": "9mF0x5vJi9yN"
   },
   "source": [
    "### (3) n_estimators와 max_features를 한꺼번에 튜닝"
   ]
  },
  {
   "cell_type": "code",
   "execution_count": 32,
   "metadata": {
    "id": "ClgmOnqslzU3"
   },
   "outputs": [],
   "source": [
    "model = RandomForestClassifier()"
   ]
  },
  {
   "cell_type": "code",
   "execution_count": 33,
   "metadata": {
    "id": "Bu8CnKCz841O"
   },
   "outputs": [],
   "source": [
    "params = {'n_estimators': range(5, 201, 5), 'max_features': range(1, 21)}"
   ]
  },
  {
   "cell_type": "code",
   "execution_count": 34,
   "metadata": {
    "id": "Yf91TVuC847E"
   },
   "outputs": [],
   "source": [
    "model_gs = GridSearchCV(model, params, cv=5)"
   ]
  },
  {
   "cell_type": "code",
   "execution_count": null,
   "metadata": {
    "id": "31PJYjnu844C"
   },
   "outputs": [],
   "source": [
    "model_gs.fit(x_train, y_train)"
   ]
  },
  {
   "cell_type": "code",
   "execution_count": null,
   "metadata": {},
   "outputs": [],
   "source": [
    "model_gs.best_params_"
   ]
  },
  {
   "cell_type": "code",
   "execution_count": null,
   "metadata": {},
   "outputs": [],
   "source": [
    "model_gs.best_score_"
   ]
  },
  {
   "cell_type": "code",
   "execution_count": null,
   "metadata": {},
   "outputs": [],
   "source": [
    "result = pd.DataFrame(model_gs.cv_results_)\n",
    "\n"
   ]
  },
  {
   "cell_type": "code",
   "execution_count": null,
   "metadata": {},
   "outputs": [],
   "source": [
    "result = pd.DataFrame(model_gs.cv_results_)\n",
    "temp = result[['param_n_estimators','param_max_features', 'mean_test_score']]"
   ]
  },
  {
   "cell_type": "code",
   "execution_count": null,
   "metadata": {},
   "outputs": [],
   "source": [
    "plt.figure(figsize = (12,8))\n",
    "sns.lineplot('param_max_features', 'mean_test_score', data = temp , hue = 'param_n_estimators')\n",
    "plt.grid() plt.show()"
   ]
  }
 ],
 "metadata": {
  "colab": {
   "collapsed_sections": [],
   "name": "12과 Bagging.ipynb",
   "provenance": [],
   "toc_visible": true
  },
  "kernelspec": {
   "display_name": "Python 3 (ipykernel)",
   "language": "python",
   "name": "python3"
  },
  "language_info": {
   "codemirror_mode": {
    "name": "ipython",
    "version": 3
   },
   "file_extension": ".py",
   "mimetype": "text/x-python",
   "name": "python",
   "nbconvert_exporter": "python",
   "pygments_lexer": "ipython3",
   "version": "3.9.7"
  }
 },
 "nbformat": 4,
 "nbformat_minor": 4
}
