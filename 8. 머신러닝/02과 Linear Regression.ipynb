{
 "cells": [
  {
   "cell_type": "markdown",
   "metadata": {
    "id": "cVB9pY-v8uv5"
   },
   "source": [
    "# Linear Regression\n",
    "다음의 항목들에 대해서 학습합니다.\n",
    "\n",
    "* 선형회귀(Linear Regression)\n",
    "* 회귀모델 평가\n"
   ]
  },
  {
   "cell_type": "markdown",
   "metadata": {
    "id": "jnCv9u_Wy9e1"
   },
   "source": [
    "## 1.환경준비"
   ]
  },
  {
   "cell_type": "markdown",
   "metadata": {
    "id": "O1uL0UIEzBPw"
   },
   "source": [
    "### (1) Import"
   ]
  },
  {
   "cell_type": "code",
   "execution_count": 1,
   "metadata": {
    "id": "GVvCef6A8uv6"
   },
   "outputs": [],
   "source": [
    "#라이브러리들을 불러오자.\n",
    "import numpy as np\n",
    "import pandas as pd\n",
    "import matplotlib.pyplot as plt\n",
    "\n",
    "from sklearn.model_selection import train_test_split\n",
    "\n",
    "import warnings    # 경고메시지 제외\n",
    "warnings.filterwarnings(action='ignore')"
   ]
  },
  {
   "cell_type": "markdown",
   "metadata": {
    "id": "VHy5s1OOzItm"
   },
   "source": [
    "### (2) data loading"
   ]
  },
  {
   "cell_type": "code",
   "execution_count": 2,
   "metadata": {
    "id": "petnBApUBvYf"
   },
   "outputs": [],
   "source": [
    "path = 'https://raw.githubusercontent.com/DA4BAM/dataset/master/boston.csv'\n",
    "data = pd.read_csv(path)"
   ]
  },
  {
   "cell_type": "markdown",
   "metadata": {
    "id": "W07fwF8zeix4"
   },
   "source": [
    "|\t변수\t|\t설명\t|\n",
    "|\t----\t|\t----\t|\n",
    "|\t**medv**\t|\t**타운별 집값(중위수), target**\t|\n",
    "|\tcrim\t|\t범죄율\t|\n",
    "|\tzn\t|\t25,000 평방피트를 초과 거주지역 비율\t|\n",
    "|\tindus\t|\t비소매상업지역 면적 비율, 편의시설(관공서, 주요 시설)\t|\n",
    "|\tchas\t|\t찰스강변 위치(범주 : 강변1, 아니면 0)\t|\n",
    "|\tnox\t|\t일산화질소 농도\t|\n",
    "|\trm\t|\t주택당 방 수\t|\n",
    "|\tage\t|\t1940년 이전에 건축된 주택의 비율\t|\n",
    "|\tdis\t|\t직업센터의 거리\t|\n",
    "|\trad\t|\t방사형 고속도로까지의 거리\t|\n",
    "|\ttax\t|\t재산세율\t|\n",
    "|\tptratio\t|\t학생/교사 비율\t|\n",
    "|\tblack\t|\t인구 중 흑인 비율\t|\n",
    "|\tlstat\t|\t인구 중 하위 계층 비율\t|\n"
   ]
  },
  {
   "cell_type": "markdown",
   "metadata": {
    "id": "ZJOddHq2zfcU"
   },
   "source": [
    "## 2.데이터 이해"
   ]
  },
  {
   "cell_type": "markdown",
   "metadata": {
    "id": "Vqr7zY5r8uwC"
   },
   "source": [
    "### (1) 둘러보기"
   ]
  },
  {
   "cell_type": "code",
   "execution_count": 3,
   "metadata": {
    "id": "Wzs1nS348uwE"
   },
   "outputs": [
    {
     "data": {
      "text/html": [
       "<div>\n",
       "<style scoped>\n",
       "    .dataframe tbody tr th:only-of-type {\n",
       "        vertical-align: middle;\n",
       "    }\n",
       "\n",
       "    .dataframe tbody tr th {\n",
       "        vertical-align: top;\n",
       "    }\n",
       "\n",
       "    .dataframe thead th {\n",
       "        text-align: right;\n",
       "    }\n",
       "</style>\n",
       "<table border=\"1\" class=\"dataframe\">\n",
       "  <thead>\n",
       "    <tr style=\"text-align: right;\">\n",
       "      <th></th>\n",
       "      <th>crim</th>\n",
       "      <th>zn</th>\n",
       "      <th>indus</th>\n",
       "      <th>chas</th>\n",
       "      <th>nox</th>\n",
       "      <th>rm</th>\n",
       "      <th>age</th>\n",
       "      <th>dis</th>\n",
       "      <th>rad</th>\n",
       "      <th>tax</th>\n",
       "      <th>ptratio</th>\n",
       "      <th>black</th>\n",
       "      <th>lstat</th>\n",
       "      <th>medv</th>\n",
       "    </tr>\n",
       "  </thead>\n",
       "  <tbody>\n",
       "    <tr>\n",
       "      <th>0</th>\n",
       "      <td>0.00632</td>\n",
       "      <td>18.0</td>\n",
       "      <td>2.31</td>\n",
       "      <td>0</td>\n",
       "      <td>0.538</td>\n",
       "      <td>6.575</td>\n",
       "      <td>65.2</td>\n",
       "      <td>4.0900</td>\n",
       "      <td>1</td>\n",
       "      <td>296</td>\n",
       "      <td>15.3</td>\n",
       "      <td>396.90</td>\n",
       "      <td>4.98</td>\n",
       "      <td>24.0</td>\n",
       "    </tr>\n",
       "    <tr>\n",
       "      <th>1</th>\n",
       "      <td>0.02731</td>\n",
       "      <td>0.0</td>\n",
       "      <td>7.07</td>\n",
       "      <td>0</td>\n",
       "      <td>0.469</td>\n",
       "      <td>6.421</td>\n",
       "      <td>78.9</td>\n",
       "      <td>4.9671</td>\n",
       "      <td>2</td>\n",
       "      <td>242</td>\n",
       "      <td>17.8</td>\n",
       "      <td>396.90</td>\n",
       "      <td>9.14</td>\n",
       "      <td>21.6</td>\n",
       "    </tr>\n",
       "    <tr>\n",
       "      <th>2</th>\n",
       "      <td>0.02729</td>\n",
       "      <td>0.0</td>\n",
       "      <td>7.07</td>\n",
       "      <td>0</td>\n",
       "      <td>0.469</td>\n",
       "      <td>7.185</td>\n",
       "      <td>61.1</td>\n",
       "      <td>4.9671</td>\n",
       "      <td>2</td>\n",
       "      <td>242</td>\n",
       "      <td>17.8</td>\n",
       "      <td>392.83</td>\n",
       "      <td>4.03</td>\n",
       "      <td>34.7</td>\n",
       "    </tr>\n",
       "    <tr>\n",
       "      <th>3</th>\n",
       "      <td>0.03237</td>\n",
       "      <td>0.0</td>\n",
       "      <td>2.18</td>\n",
       "      <td>0</td>\n",
       "      <td>0.458</td>\n",
       "      <td>6.998</td>\n",
       "      <td>45.8</td>\n",
       "      <td>6.0622</td>\n",
       "      <td>3</td>\n",
       "      <td>222</td>\n",
       "      <td>18.7</td>\n",
       "      <td>394.63</td>\n",
       "      <td>2.94</td>\n",
       "      <td>33.4</td>\n",
       "    </tr>\n",
       "    <tr>\n",
       "      <th>4</th>\n",
       "      <td>0.06905</td>\n",
       "      <td>0.0</td>\n",
       "      <td>2.18</td>\n",
       "      <td>0</td>\n",
       "      <td>0.458</td>\n",
       "      <td>7.147</td>\n",
       "      <td>54.2</td>\n",
       "      <td>6.0622</td>\n",
       "      <td>3</td>\n",
       "      <td>222</td>\n",
       "      <td>18.7</td>\n",
       "      <td>396.90</td>\n",
       "      <td>5.33</td>\n",
       "      <td>36.2</td>\n",
       "    </tr>\n",
       "  </tbody>\n",
       "</table>\n",
       "</div>"
      ],
      "text/plain": [
       "      crim    zn  indus  chas    nox     rm   age     dis  rad  tax  ptratio  \\\n",
       "0  0.00632  18.0   2.31     0  0.538  6.575  65.2  4.0900    1  296     15.3   \n",
       "1  0.02731   0.0   7.07     0  0.469  6.421  78.9  4.9671    2  242     17.8   \n",
       "2  0.02729   0.0   7.07     0  0.469  7.185  61.1  4.9671    2  242     17.8   \n",
       "3  0.03237   0.0   2.18     0  0.458  6.998  45.8  6.0622    3  222     18.7   \n",
       "4  0.06905   0.0   2.18     0  0.458  7.147  54.2  6.0622    3  222     18.7   \n",
       "\n",
       "    black  lstat  medv  \n",
       "0  396.90   4.98  24.0  \n",
       "1  396.90   9.14  21.6  \n",
       "2  392.83   4.03  34.7  \n",
       "3  394.63   2.94  33.4  \n",
       "4  396.90   5.33  36.2  "
      ]
     },
     "execution_count": 3,
     "metadata": {},
     "output_type": "execute_result"
    }
   ],
   "source": [
    "# 상/하위 몇개 행을 살펴 봅시다.\n",
    "data.head()"
   ]
  },
  {
   "cell_type": "code",
   "execution_count": 4,
   "metadata": {
    "id": "1ZsXdcfp8uwI"
   },
   "outputs": [
    {
     "name": "stdout",
     "output_type": "stream",
     "text": [
      "<class 'pandas.core.frame.DataFrame'>\n",
      "RangeIndex: 506 entries, 0 to 505\n",
      "Data columns (total 14 columns):\n",
      " #   Column   Non-Null Count  Dtype  \n",
      "---  ------   --------------  -----  \n",
      " 0   crim     506 non-null    float64\n",
      " 1   zn       506 non-null    float64\n",
      " 2   indus    506 non-null    float64\n",
      " 3   chas     506 non-null    int64  \n",
      " 4   nox      506 non-null    float64\n",
      " 5   rm       506 non-null    float64\n",
      " 6   age      506 non-null    float64\n",
      " 7   dis      506 non-null    float64\n",
      " 8   rad      506 non-null    int64  \n",
      " 9   tax      506 non-null    int64  \n",
      " 10  ptratio  506 non-null    float64\n",
      " 11  black    506 non-null    float64\n",
      " 12  lstat    506 non-null    float64\n",
      " 13  medv     506 non-null    float64\n",
      "dtypes: float64(11), int64(3)\n",
      "memory usage: 55.5 KB\n"
     ]
    }
   ],
   "source": [
    "# 각 칼럼의 타입을 살펴 봅시다.\n",
    "data.info()"
   ]
  },
  {
   "cell_type": "markdown",
   "metadata": {
    "id": "wW0d0eGmCYJM"
   },
   "source": [
    "## 3.데이터 준비"
   ]
  },
  {
   "cell_type": "markdown",
   "metadata": {
    "id": "y9Q6jR6OZjUk"
   },
   "source": [
    "### (1) 데이터 정리"
   ]
  },
  {
   "cell_type": "code",
   "execution_count": 5,
   "metadata": {
    "id": "xkc_d-sFCMBo"
   },
   "outputs": [
    {
     "data": {
      "text/html": [
       "<div>\n",
       "<style scoped>\n",
       "    .dataframe tbody tr th:only-of-type {\n",
       "        vertical-align: middle;\n",
       "    }\n",
       "\n",
       "    .dataframe tbody tr th {\n",
       "        vertical-align: top;\n",
       "    }\n",
       "\n",
       "    .dataframe thead th {\n",
       "        text-align: right;\n",
       "    }\n",
       "</style>\n",
       "<table border=\"1\" class=\"dataframe\">\n",
       "  <thead>\n",
       "    <tr style=\"text-align: right;\">\n",
       "      <th></th>\n",
       "      <th>crim</th>\n",
       "      <th>zn</th>\n",
       "      <th>indus</th>\n",
       "      <th>chas</th>\n",
       "      <th>nox</th>\n",
       "      <th>rm</th>\n",
       "      <th>age</th>\n",
       "      <th>dis</th>\n",
       "      <th>rad</th>\n",
       "      <th>tax</th>\n",
       "      <th>ptratio</th>\n",
       "      <th>black</th>\n",
       "      <th>lstat</th>\n",
       "      <th>medv</th>\n",
       "    </tr>\n",
       "  </thead>\n",
       "  <tbody>\n",
       "    <tr>\n",
       "      <th>0</th>\n",
       "      <td>0.00632</td>\n",
       "      <td>18.0</td>\n",
       "      <td>2.31</td>\n",
       "      <td>0</td>\n",
       "      <td>0.538</td>\n",
       "      <td>6.575</td>\n",
       "      <td>65.2</td>\n",
       "      <td>4.0900</td>\n",
       "      <td>1</td>\n",
       "      <td>296</td>\n",
       "      <td>15.3</td>\n",
       "      <td>396.90</td>\n",
       "      <td>4.98</td>\n",
       "      <td>24.0</td>\n",
       "    </tr>\n",
       "    <tr>\n",
       "      <th>1</th>\n",
       "      <td>0.02731</td>\n",
       "      <td>0.0</td>\n",
       "      <td>7.07</td>\n",
       "      <td>0</td>\n",
       "      <td>0.469</td>\n",
       "      <td>6.421</td>\n",
       "      <td>78.9</td>\n",
       "      <td>4.9671</td>\n",
       "      <td>2</td>\n",
       "      <td>242</td>\n",
       "      <td>17.8</td>\n",
       "      <td>396.90</td>\n",
       "      <td>9.14</td>\n",
       "      <td>21.6</td>\n",
       "    </tr>\n",
       "    <tr>\n",
       "      <th>2</th>\n",
       "      <td>0.02729</td>\n",
       "      <td>0.0</td>\n",
       "      <td>7.07</td>\n",
       "      <td>0</td>\n",
       "      <td>0.469</td>\n",
       "      <td>7.185</td>\n",
       "      <td>61.1</td>\n",
       "      <td>4.9671</td>\n",
       "      <td>2</td>\n",
       "      <td>242</td>\n",
       "      <td>17.8</td>\n",
       "      <td>392.83</td>\n",
       "      <td>4.03</td>\n",
       "      <td>34.7</td>\n",
       "    </tr>\n",
       "    <tr>\n",
       "      <th>3</th>\n",
       "      <td>0.03237</td>\n",
       "      <td>0.0</td>\n",
       "      <td>2.18</td>\n",
       "      <td>0</td>\n",
       "      <td>0.458</td>\n",
       "      <td>6.998</td>\n",
       "      <td>45.8</td>\n",
       "      <td>6.0622</td>\n",
       "      <td>3</td>\n",
       "      <td>222</td>\n",
       "      <td>18.7</td>\n",
       "      <td>394.63</td>\n",
       "      <td>2.94</td>\n",
       "      <td>33.4</td>\n",
       "    </tr>\n",
       "    <tr>\n",
       "      <th>4</th>\n",
       "      <td>0.06905</td>\n",
       "      <td>0.0</td>\n",
       "      <td>2.18</td>\n",
       "      <td>0</td>\n",
       "      <td>0.458</td>\n",
       "      <td>7.147</td>\n",
       "      <td>54.2</td>\n",
       "      <td>6.0622</td>\n",
       "      <td>3</td>\n",
       "      <td>222</td>\n",
       "      <td>18.7</td>\n",
       "      <td>396.90</td>\n",
       "      <td>5.33</td>\n",
       "      <td>36.2</td>\n",
       "    </tr>\n",
       "  </tbody>\n",
       "</table>\n",
       "</div>"
      ],
      "text/plain": [
       "      crim    zn  indus  chas    nox     rm   age     dis  rad  tax  ptratio  \\\n",
       "0  0.00632  18.0   2.31     0  0.538  6.575  65.2  4.0900    1  296     15.3   \n",
       "1  0.02731   0.0   7.07     0  0.469  6.421  78.9  4.9671    2  242     17.8   \n",
       "2  0.02729   0.0   7.07     0  0.469  7.185  61.1  4.9671    2  242     17.8   \n",
       "3  0.03237   0.0   2.18     0  0.458  6.998  45.8  6.0622    3  222     18.7   \n",
       "4  0.06905   0.0   2.18     0  0.458  7.147  54.2  6.0622    3  222     18.7   \n",
       "\n",
       "    black  lstat  medv  \n",
       "0  396.90   4.98  24.0  \n",
       "1  396.90   9.14  21.6  \n",
       "2  392.83   4.03  34.7  \n",
       "3  394.63   2.94  33.4  \n",
       "4  396.90   5.33  36.2  "
      ]
     },
     "execution_count": 5,
     "metadata": {},
     "output_type": "execute_result"
    }
   ],
   "source": [
    "data.head()"
   ]
  },
  {
   "cell_type": "code",
   "execution_count": 6,
   "metadata": {
    "id": "5iTdsYqWsjoG"
   },
   "outputs": [],
   "source": [
    "data.drop(['black'], axis = 1, inplace = True)"
   ]
  },
  {
   "cell_type": "markdown",
   "metadata": {
    "id": "WpJEGpUuuVWm"
   },
   "source": [
    "### (2) 데이터분할1 : x, y 나누기"
   ]
  },
  {
   "cell_type": "code",
   "execution_count": 7,
   "metadata": {
    "id": "N-4Msv8VsQ3R"
   },
   "outputs": [],
   "source": [
    "target = 'medv'\n",
    "x = data.drop(target, axis=1)\n",
    "y = data.loc[:, target]"
   ]
  },
  {
   "cell_type": "markdown",
   "metadata": {
    "id": "mp_5volyuaA1"
   },
   "source": [
    "### (3) NA 조치"
   ]
  },
  {
   "cell_type": "markdown",
   "metadata": {
    "id": "nOF9fSLQugGf"
   },
   "source": [
    "### (4) 가변수화"
   ]
  },
  {
   "cell_type": "markdown",
   "metadata": {
    "id": "VBwpOKgkf5Am"
   },
   "source": [
    "### (5) 데이터분할2 : train : validation 나누기"
   ]
  },
  {
   "cell_type": "code",
   "execution_count": 9,
   "metadata": {
    "id": "1iHmTnHCgBw5"
   },
   "outputs": [],
   "source": [
    "x_train, x_val, y_train, y_val = train_test_split(x, y, test_size = .3, random_state = 2022)"
   ]
  },
  {
   "cell_type": "markdown",
   "metadata": {
    "id": "MXUC5Yi3um81"
   },
   "source": [
    "### (6) Scaling"
   ]
  },
  {
   "cell_type": "markdown",
   "metadata": {
    "id": "BYr1vtpd8uw4"
   },
   "source": [
    "## 4.모델링 : 단순회귀"
   ]
  },
  {
   "cell_type": "markdown",
   "metadata": {
    "id": "UYfHl4megf06"
   },
   "source": [
    "### (1)학습할 데이터 준비"
   ]
  },
  {
   "cell_type": "markdown",
   "metadata": {
    "id": "T8eEIRzCSHsT"
   },
   "source": [
    "* 모델링을 시작하기 전에...\n",
    "    * 데이터를 살펴보면서, 어떤 변수가 집값을 예측하는데 가장 중요할까요?"
   ]
  },
  {
   "cell_type": "code",
   "execution_count": null,
   "metadata": {
    "id": "AgPsrsHsSO5w"
   },
   "outputs": [],
   "source": [
    "# lstat"
   ]
  },
  {
   "cell_type": "markdown",
   "metadata": {
    "id": "4HrWfOGyDd8y"
   },
   "source": [
    "* lstat(하위계층 비율)로만 집값(medv)을 예측하는 모델을 만들어 봅시다."
   ]
  },
  {
   "cell_type": "code",
   "execution_count": 11,
   "metadata": {
    "id": "2XS3E6xADnqD"
   },
   "outputs": [],
   "source": [
    "# 학습에 사용할 변수를 지정합니다.\n",
    "features = ['lstat'] # 리스트\n",
    "\n",
    "# 지정된 변수로 데이터셋을 만듭니다. \n",
    "# 학습과 검증시 아래 데이터셋 이름을 사용합니다.\n",
    "x_train1 = x_train[features] # df[list] => df // df[value] => series\n",
    "x_val1 = x_val[features]     # 2차원 변수(df)가 필요함"
   ]
  },
  {
   "cell_type": "code",
   "execution_count": 12,
   "metadata": {
    "id": "LYh2Xut7jp3p"
   },
   "outputs": [
    {
     "data": {
      "text/html": [
       "<div>\n",
       "<style scoped>\n",
       "    .dataframe tbody tr th:only-of-type {\n",
       "        vertical-align: middle;\n",
       "    }\n",
       "\n",
       "    .dataframe tbody tr th {\n",
       "        vertical-align: top;\n",
       "    }\n",
       "\n",
       "    .dataframe thead th {\n",
       "        text-align: right;\n",
       "    }\n",
       "</style>\n",
       "<table border=\"1\" class=\"dataframe\">\n",
       "  <thead>\n",
       "    <tr style=\"text-align: right;\">\n",
       "      <th></th>\n",
       "      <th>lstat</th>\n",
       "    </tr>\n",
       "  </thead>\n",
       "  <tbody>\n",
       "    <tr>\n",
       "      <th>257</th>\n",
       "      <td>5.12</td>\n",
       "    </tr>\n",
       "    <tr>\n",
       "      <th>371</th>\n",
       "      <td>9.53</td>\n",
       "    </tr>\n",
       "    <tr>\n",
       "      <th>253</th>\n",
       "      <td>3.54</td>\n",
       "    </tr>\n",
       "    <tr>\n",
       "      <th>332</th>\n",
       "      <td>7.83</td>\n",
       "    </tr>\n",
       "    <tr>\n",
       "      <th>454</th>\n",
       "      <td>18.71</td>\n",
       "    </tr>\n",
       "  </tbody>\n",
       "</table>\n",
       "</div>"
      ],
      "text/plain": [
       "     lstat\n",
       "257   5.12\n",
       "371   9.53\n",
       "253   3.54\n",
       "332   7.83\n",
       "454  18.71"
      ]
     },
     "execution_count": 12,
     "metadata": {},
     "output_type": "execute_result"
    }
   ],
   "source": [
    "x_train1.head()"
   ]
  },
  {
   "cell_type": "code",
   "execution_count": 16,
   "metadata": {},
   "outputs": [
    {
     "data": {
      "text/plain": [
       "lstat    354\n",
       "dtype: int64"
      ]
     },
     "execution_count": 16,
     "metadata": {},
     "output_type": "execute_result"
    }
   ],
   "source": [
    "x_train1.count()"
   ]
  },
  {
   "cell_type": "code",
   "execution_count": 15,
   "metadata": {},
   "outputs": [
    {
     "data": {
      "text/plain": [
       "lstat    152\n",
       "dtype: int64"
      ]
     },
     "execution_count": 15,
     "metadata": {},
     "output_type": "execute_result"
    }
   ],
   "source": [
    "x_val1.count()"
   ]
  },
  {
   "cell_type": "markdown",
   "metadata": {
    "id": "Z31_h2AHGsjB"
   },
   "source": [
    "### (2) 필요한 함수 불러오기\n",
    "이 부분은 파일의 제일 첫 부분에서 한꺼번에 수행해도 좋습니다."
   ]
  },
  {
   "cell_type": "code",
   "execution_count": 17,
   "metadata": {
    "id": "oRB84_HE8uw5"
   },
   "outputs": [],
   "source": [
    "# 모델링용\n",
    "from sklearn.linear_model import LinearRegression\n",
    "\n",
    "# 회귀모델 평가용\n",
    "from sklearn.metrics import r2_score, mean_squared_error, mean_absolute_error, mean_absolute_percentage_error"
   ]
  },
  {
   "cell_type": "markdown",
   "metadata": {
    "id": "AvxoQdSTG1aV"
   },
   "source": [
    "### (3) 모델선언"
   ]
  },
  {
   "cell_type": "code",
   "execution_count": 18,
   "metadata": {
    "id": "UCEKvUAu8uw7"
   },
   "outputs": [],
   "source": [
    "model1 = LinearRegression()"
   ]
  },
  {
   "cell_type": "markdown",
   "metadata": {
    "id": "muxufxrDG6k0"
   },
   "source": [
    "### (4) 모델링(학습)"
   ]
  },
  {
   "cell_type": "code",
   "execution_count": 19,
   "metadata": {
    "id": "HtRz5Gw6G7IH"
   },
   "outputs": [
    {
     "data": {
      "text/plain": [
       "LinearRegression()"
      ]
     },
     "execution_count": 19,
     "metadata": {},
     "output_type": "execute_result"
    }
   ],
   "source": [
    "model1.fit(x_train1, y_train)"
   ]
  },
  {
   "cell_type": "markdown",
   "metadata": {
    "id": "U3O7R-OnELWO"
   },
   "source": [
    "* 회귀계수 확인하기"
   ]
  },
  {
   "cell_type": "code",
   "execution_count": 20,
   "metadata": {
    "id": "5qEJH2JKENcf"
   },
   "outputs": [
    {
     "name": "stdout",
     "output_type": "stream",
     "text": [
      "회귀계수 :  [-0.9568563]\n",
      "절편 :  34.676249051494665\n"
     ]
    }
   ],
   "source": [
    "print('회귀계수 : ', model1.coef_)\n",
    "print('절편 : ', model1.intercept_)"
   ]
  },
  {
   "cell_type": "markdown",
   "metadata": {
    "id": "p1wxcuSHHC9N"
   },
   "source": [
    "### (5) 검증 : 예측"
   ]
  },
  {
   "cell_type": "code",
   "execution_count": 22,
   "metadata": {
    "id": "UgX-l3rgHDI7"
   },
   "outputs": [],
   "source": [
    "# 학습할때 x 데이터 구조와 예측할때 x의 구조는 똑같아야 한다.\n",
    "pred1 = model1.predict(x_val1) "
   ]
  },
  {
   "cell_type": "markdown",
   "metadata": {
    "id": "iiGs0Vn1HJdj"
   },
   "source": [
    "### (6) 검증 : 평가\n",
    "\n",
    "* 평가용 함수들은 대부분 (실제값, 예측값)"
   ]
  },
  {
   "cell_type": "code",
   "execution_count": 23,
   "metadata": {
    "id": "artgABU2hbUR"
   },
   "outputs": [
    {
     "data": {
      "text/plain": [
       "4.138380487348265"
      ]
     },
     "execution_count": 23,
     "metadata": {},
     "output_type": "execute_result"
    }
   ],
   "source": [
    "# 평균오차\n",
    "mean_absolute_error(y_val   , pred1   )"
   ]
  },
  {
   "cell_type": "markdown",
   "metadata": {
    "id": "YBfaWD22hrZ2"
   },
   "source": [
    "## 5.평가"
   ]
  },
  {
   "cell_type": "markdown",
   "metadata": {
    "id": "z1kNNMuNh-PI"
   },
   "source": [
    "### (1) 오차의 비로 평가하기 : R2 Score\n",
    "\n",
    "* 평균 모델의 오차와 회귀모델 오차\n",
    "    * 평균 모델과 실제 값 과의 차이(SST)\n",
    "    * 평균 모델과 회귀모델 과의 차이(SSR)\n",
    "    * 실제 값과 회귀모델 과의 차이(SSE)\n"
   ]
  },
  {
   "cell_type": "code",
   "execution_count": 25,
   "metadata": {},
   "outputs": [
    {
     "name": "stdout",
     "output_type": "stream",
     "text": [
      "104    20.1\n",
      "406    11.9\n",
      "487    20.6\n",
      "276    33.2\n",
      "422    20.8\n",
      "Name: medv, dtype: float64\n",
      "[22.87821089 12.34322304 23.72024443 28.88726844 21.18457524]\n"
     ]
    }
   ],
   "source": [
    "tmp_y = y_val[:5]\n",
    "tmp_p = pred1[:5]\n",
    "print(tmp_y)\n",
    "print(tmp_p)"
   ]
  },
  {
   "cell_type": "code",
   "execution_count": 26,
   "metadata": {
    "id": "dkKi4wIXiXSo"
   },
   "outputs": [
    {
     "data": {
      "text/plain": [
       "21.32"
      ]
     },
     "execution_count": 26,
     "metadata": {},
     "output_type": "execute_result"
    }
   ],
   "source": [
    "# 실제와 예측 데이터 5건씩 저장\n",
    "tmp_y = y_val[:5]\n",
    "tmp_p = pred1[:5]\n",
    "\n",
    "# 실제값의 평균오차 저장\n",
    "tmp_y_mean = tmp_y.mean()\n",
    "tmp_y_mean"
   ]
  },
  {
   "cell_type": "code",
   "execution_count": 27,
   "metadata": {
    "id": "j3AAKUUbicFw"
   },
   "outputs": [
    {
     "name": "stdout",
     "output_type": "stream",
     "text": [
      "232.14800000000005\n"
     ]
    }
   ],
   "source": [
    "# SST\n",
    "sst = np.sum(np.power(tmp_y - tmp_y_mean, 2))\n",
    "print(sst)"
   ]
  },
  {
   "cell_type": "code",
   "execution_count": 28,
   "metadata": {
    "id": "01lwgnO-icCv"
   },
   "outputs": [
    {
     "name": "stdout",
     "output_type": "stream",
     "text": [
      "36.39837929489292\n"
     ]
    }
   ],
   "source": [
    "# SSE\n",
    "sse = np.sum(np.power(tmp_y - tmp_p, 2))\n",
    "print(sse)"
   ]
  },
  {
   "cell_type": "code",
   "execution_count": 33,
   "metadata": {},
   "outputs": [
    {
     "name": "stdout",
     "output_type": "stream",
     "text": [
      "146.0536106844669\n"
     ]
    }
   ],
   "source": [
    "# SSR\n",
    "ssr = np.sum(np.power(tmp_p - tmp_y_mean, 2))\n",
    "print(ssr)"
   ]
  },
  {
   "cell_type": "code",
   "execution_count": 29,
   "metadata": {
    "id": "_2kiQ_HQib-6"
   },
   "outputs": [
    {
     "data": {
      "text/plain": [
       "0.8432104549903815"
      ]
     },
     "execution_count": 29,
     "metadata": {},
     "output_type": "execute_result"
    }
   ],
   "source": [
    "# R2 Score = 1- SSE/SST\n",
    "1 - (sse/sst)"
   ]
  },
  {
   "cell_type": "code",
   "execution_count": 30,
   "metadata": {
    "id": "FuP4e_eqja-j",
    "tags": []
   },
   "outputs": [
    {
     "data": {
      "text/plain": [
       "0.8432104549903815"
      ]
     },
     "execution_count": 30,
     "metadata": {},
     "output_type": "execute_result"
    }
   ],
   "source": [
    "# 제공된 함수와 비교해 봅시다.\n",
    "r2_score(tmp_y, tmp_p)"
   ]
  },
  {
   "cell_type": "markdown",
   "metadata": {
    "id": "gjQUhBi2juub"
   },
   "source": [
    "### (2)오차의 양과 율로 평가하기"
   ]
  },
  {
   "cell_type": "code",
   "execution_count": 34,
   "metadata": {
    "id": "0ZRwQJXY8uw9"
   },
   "outputs": [
    {
     "data": {
      "text/plain": [
       "31.563327757446412"
      ]
     },
     "execution_count": 34,
     "metadata": {},
     "output_type": "execute_result"
    }
   ],
   "source": [
    "# MSE\n",
    "mean_squared_error( y_val   , pred1   ) "
   ]
  },
  {
   "cell_type": "code",
   "execution_count": 35,
   "metadata": {
    "id": "jpOB4fla6HH7"
   },
   "outputs": [
    {
     "data": {
      "text/plain": [
       "5.618124932523877"
      ]
     },
     "execution_count": 35,
     "metadata": {},
     "output_type": "execute_result"
    }
   ],
   "source": [
    "# RMSE\n",
    "mean_squared_error( y_val   , pred1  , squared = False)"
   ]
  },
  {
   "cell_type": "code",
   "execution_count": 36,
   "metadata": {
    "id": "8n3pKTe8FcZ0"
   },
   "outputs": [
    {
     "data": {
      "text/plain": [
       "4.138380487348265"
      ]
     },
     "execution_count": 36,
     "metadata": {},
     "output_type": "execute_result"
    }
   ],
   "source": [
    "# MAE\n",
    "mean_absolute_error(y_val   , pred1   )"
   ]
  },
  {
   "cell_type": "code",
   "execution_count": 37,
   "metadata": {
    "id": "A2gcrt2UqmkG"
   },
   "outputs": [
    {
     "data": {
      "text/plain": [
       "0.22398686231166276"
      ]
     },
     "execution_count": 37,
     "metadata": {},
     "output_type": "execute_result"
    }
   ],
   "source": [
    "# MAPE : 원래 개념은 100(%)을 곱해야 한다. 그렇지만 sklearn 함수는 100 안 곱한채로 결과를 준다.\n",
    "mean_absolute_percentage_error(y_val   , pred1  )"
   ]
  },
  {
   "cell_type": "code",
   "execution_count": 39,
   "metadata": {
    "id": "h5ltiOpyq9QG"
   },
   "outputs": [
    {
     "data": {
      "text/plain": [
       "0.7760131376883372"
      ]
     },
     "execution_count": 39,
     "metadata": {},
     "output_type": "execute_result"
    }
   ],
   "source": [
    "# 1 - MAPE : 회귀모델의 정확도\n",
    "1 -  mean_absolute_percentage_error(y_val   , pred1   )\n",
    "# MAPE > 1 보다 크면 - 값이 나오므로 정확하지 않을수있다."
   ]
  },
  {
   "cell_type": "markdown",
   "metadata": {
    "id": "z7r3eKmJSCvv"
   },
   "source": [
    "## 6.연습문제\n",
    "* 모델을 2개 더 만들어 봅시다. 여러분이 중요하다고 생각한 변수로 모델2, 모델3을 만들어 봅시다.\n",
    "    * model2 : 중요하다고 생각한 변수1  --> medv\n",
    "    * model3 : 중요하다고 생각한 변수2  --> medv\n",
    "* 모델1,2,3의 성능을 비교해 봅시다.\n",
    "* 평가는 RMSE, MAE, MAPE로 사용"
   ]
  },
  {
   "cell_type": "markdown",
   "metadata": {
    "id": "U2b_7nwZSm0a"
   },
   "source": [
    "### (1) 모델2"
   ]
  },
  {
   "cell_type": "code",
   "execution_count": 40,
   "metadata": {
    "id": "NRAS1FkOSkGM"
   },
   "outputs": [],
   "source": [
    "# 학습에 사용할 변수를 지정합니다.\n",
    "features = ['crim']\n",
    "x_train2 = x_train[features]\n",
    "x_val2 = x_val[features]"
   ]
  },
  {
   "cell_type": "code",
   "execution_count": 42,
   "metadata": {
    "id": "Rn1EJxWLSkDg"
   },
   "outputs": [
    {
     "data": {
      "text/plain": [
       "LinearRegression()"
      ]
     },
     "execution_count": 42,
     "metadata": {},
     "output_type": "execute_result"
    }
   ],
   "source": [
    "model2 = LinearRegression()\n",
    "model2.fit(x_train2, y_train) # x는 2차원이여야 합니다."
   ]
  },
  {
   "cell_type": "code",
   "execution_count": 48,
   "metadata": {
    "id": "1ktlHkk4SkAs"
   },
   "outputs": [
    {
     "data": {
      "text/plain": [
       "array([24.30152115, 18.95312175, 18.95312175, 25.50687322, 18.95312175,\n",
       "       24.53698528, 25.22655878, 24.53698528, 18.95312175, 23.66801053,\n",
       "       18.95312175, 21.90763589, 23.48860929, 18.95312175, 14.7203738 ,\n",
       "       27.87833333, 18.95312175, 18.95312175, 18.12339103, 26.63934353])"
      ]
     },
     "execution_count": 48,
     "metadata": {},
     "output_type": "execute_result"
    }
   ],
   "source": [
    "pred2 = model2.predict(x_val2)\n",
    "pred[:20]"
   ]
  },
  {
   "cell_type": "code",
   "execution_count": 60,
   "metadata": {},
   "outputs": [
    {
     "data": {
      "text/plain": [
       "(array([-0.3570669]), 24.214633238567504)"
      ]
     },
     "execution_count": 60,
     "metadata": {},
     "output_type": "execute_result"
    }
   ],
   "source": [
    "model2.coef_, model2.intercept_"
   ]
  },
  {
   "cell_type": "code",
   "execution_count": 49,
   "metadata": {
    "id": "Zjgfs8ybSj99"
   },
   "outputs": [
    {
     "data": {
      "text/plain": [
       "8.278901155364965"
      ]
     },
     "execution_count": 49,
     "metadata": {},
     "output_type": "execute_result"
    }
   ],
   "source": [
    "# RMSE\n",
    "mean_squared_error( y_val   , pred2  , squared = False)"
   ]
  },
  {
   "cell_type": "code",
   "execution_count": 50,
   "metadata": {},
   "outputs": [
    {
     "data": {
      "text/plain": [
       "6.480426640219394"
      ]
     },
     "execution_count": 50,
     "metadata": {},
     "output_type": "execute_result"
    }
   ],
   "source": [
    "# MAE\n",
    "mean_absolute_error(y_val   , pred2   )"
   ]
  },
  {
   "cell_type": "code",
   "execution_count": 51,
   "metadata": {},
   "outputs": [
    {
     "data": {
      "text/plain": [
       "0.40490343077615576"
      ]
     },
     "execution_count": 51,
     "metadata": {},
     "output_type": "execute_result"
    }
   ],
   "source": [
    "# MAPE\n",
    "mean_absolute_percentage_error(y_val   , pred2   )"
   ]
  },
  {
   "cell_type": "markdown",
   "metadata": {
    "id": "pEyC2NYcSu7E"
   },
   "source": [
    "### (2) 모델3"
   ]
  },
  {
   "cell_type": "code",
   "execution_count": 54,
   "metadata": {
    "id": "bibeY57cSu7E"
   },
   "outputs": [],
   "source": [
    "# 학습에 사용할 변수를 지정합니다.\n",
    "features = ['indus']\n",
    "x_train3 = x_train[features]\n",
    "x_val3 = x_val[features]"
   ]
  },
  {
   "cell_type": "code",
   "execution_count": 55,
   "metadata": {
    "id": "cxLTjKzzzRrF"
   },
   "outputs": [
    {
     "data": {
      "text/plain": [
       "LinearRegression()"
      ]
     },
     "execution_count": 55,
     "metadata": {},
     "output_type": "execute_result"
    }
   ],
   "source": [
    "model3 = LinearRegression()\n",
    "model3.fit(x_train3, y_train) # x는 2차원이여야 합니다."
   ]
  },
  {
   "cell_type": "code",
   "execution_count": 56,
   "metadata": {
    "id": "EBw0zD_pzRrI"
   },
   "outputs": [
    {
     "data": {
      "text/plain": [
       "array([24.30152115, 18.95312175, 18.95312175, 25.50687322, 18.95312175,\n",
       "       24.53698528, 25.22655878, 24.53698528, 18.95312175, 23.66801053,\n",
       "       18.95312175, 21.90763589, 23.48860929, 18.95312175, 14.7203738 ,\n",
       "       27.87833333, 18.95312175, 18.95312175, 18.12339103, 26.63934353])"
      ]
     },
     "execution_count": 56,
     "metadata": {},
     "output_type": "execute_result"
    }
   ],
   "source": [
    "pred3 = model3.predict(x_val3)\n",
    "pred[:20]"
   ]
  },
  {
   "cell_type": "code",
   "execution_count": 61,
   "metadata": {},
   "outputs": [
    {
     "data": {
      "text/plain": [
       "(array([-0.56062887]), 29.100504261766933)"
      ]
     },
     "execution_count": 61,
     "metadata": {},
     "output_type": "execute_result"
    }
   ],
   "source": [
    "model3.coef_, model3.intercept_"
   ]
  },
  {
   "cell_type": "code",
   "execution_count": 57,
   "metadata": {
    "id": "UAPgRjOIzRrI"
   },
   "outputs": [
    {
     "data": {
      "text/plain": [
       "7.641651069897593"
      ]
     },
     "execution_count": 57,
     "metadata": {},
     "output_type": "execute_result"
    }
   ],
   "source": [
    "# RMSE\n",
    "mean_squared_error( y_val   , pred3  , squared = False)"
   ]
  },
  {
   "cell_type": "code",
   "execution_count": 58,
   "metadata": {},
   "outputs": [
    {
     "data": {
      "text/plain": [
       "5.963610772485113"
      ]
     },
     "execution_count": 58,
     "metadata": {},
     "output_type": "execute_result"
    }
   ],
   "source": [
    "# MAE\n",
    "mean_absolute_error(y_val   , pred3   )"
   ]
  },
  {
   "cell_type": "code",
   "execution_count": 59,
   "metadata": {},
   "outputs": [
    {
     "data": {
      "text/plain": [
       "0.38145650203040055"
      ]
     },
     "execution_count": 59,
     "metadata": {},
     "output_type": "execute_result"
    }
   ],
   "source": [
    "# MAPE\n",
    "mean_absolute_percentage_error(y_val   , pred3   )"
   ]
  },
  {
   "cell_type": "code",
   "execution_count": 67,
   "metadata": {},
   "outputs": [
    {
     "name": "stdout",
     "output_type": "stream",
     "text": [
      "lstat :  [-0.9568563] 34.676249051494665\n",
      "crim :  [-0.3570669] 24.214633238567504\n",
      "indus :  [-0.56062887] 29.100504261766933\n"
     ]
    }
   ],
   "source": [
    "print('lstat : ', model1.coef_, model1.intercept_)\n",
    "print('crim : ', model2.coef_, model2.intercept_)\n",
    "print('indus : ', model3.coef_, model3.intercept_)\n",
    "\n",
    "# 이 값만으로는 어떤값이 가장 중요한지는 알 수 없다.\n",
    "# 값들의 범위를 알 수 없기 때문에"
   ]
  },
  {
   "cell_type": "markdown",
   "metadata": {},
   "source": [
    "* 오차 비교(모델 성능 비교)"
   ]
  },
  {
   "cell_type": "code",
   "execution_count": 68,
   "metadata": {},
   "outputs": [
    {
     "name": "stdout",
     "output_type": "stream",
     "text": [
      "lstat :  0.6315401111275217\n",
      "crim :  0.19988423690315305\n",
      "indus :  0.31831798175330883\n"
     ]
    }
   ],
   "source": [
    "# R^2 score 높을수록 좋다.\n",
    "print('lstat : ', r2_score(y_val, pred1))\n",
    "print('crim : ', r2_score(y_val, pred2))\n",
    "print('indus : ', r2_score(y_val, pred3))"
   ]
  },
  {
   "cell_type": "code",
   "execution_count": 69,
   "metadata": {},
   "outputs": [
    {
     "name": "stdout",
     "output_type": "stream",
     "text": [
      "lstat :  5.618124932523877\n",
      "crim :  8.278901155364965\n",
      "indus :  7.641651069897593\n"
     ]
    }
   ],
   "source": [
    "# RMSE 적을수록 좋다.\n",
    "print('lstat : ', mean_squared_error( y_val   , pred1  , squared = False))\n",
    "print('crim : ', mean_squared_error( y_val   , pred2  , squared = False))\n",
    "print('indus : ', mean_squared_error( y_val   , pred3  , squared = False))"
   ]
  },
  {
   "cell_type": "code",
   "execution_count": 73,
   "metadata": {},
   "outputs": [
    {
     "name": "stdout",
     "output_type": "stream",
     "text": [
      "lstat :  4.138380487348265\n",
      "crim :  6.480426640219394\n",
      "indus :  5.963610772485113\n"
     ]
    }
   ],
   "source": [
    "# mae\n",
    "print('lstat : ', mean_absolute_error(y_val   , pred1   ))\n",
    "print('crim : ', mean_absolute_error(y_val   , pred2   ))\n",
    "print('indus : ', mean_absolute_error(y_val   , pred3   ))"
   ]
  },
  {
   "cell_type": "code",
   "execution_count": 72,
   "metadata": {},
   "outputs": [
    {
     "name": "stdout",
     "output_type": "stream",
     "text": [
      "lstat :  0.22398686231166276\n",
      "crim :  0.40490343077615576\n",
      "indus :  0.38145650203040055\n"
     ]
    }
   ],
   "source": [
    "# mape\n",
    "print('lstat : ', mean_absolute_percentage_error(y_val   , pred1   ))\n",
    "print('crim : ', mean_absolute_percentage_error(y_val   , pred2   ))\n",
    "print('indus : ', mean_absolute_percentage_error(y_val   , pred3   ))"
   ]
  },
  {
   "cell_type": "markdown",
   "metadata": {
    "id": "u4OoYOUkEjDZ"
   },
   "source": [
    "## 7.모델링2 : 다중회귀"
   ]
  },
  {
   "cell_type": "markdown",
   "metadata": {
    "id": "hTfqENr-EjDa"
   },
   "source": [
    "* 이번에는 다음의 변수로 예측하는 모델을 각각 만들어 봅시다.\n",
    "    * model4 : lstat + ptratio \n",
    "    * model5 : lstat + ptratio + crim\n",
    "    * model6 : 전체 변수"
   ]
  },
  {
   "cell_type": "markdown",
   "metadata": {
    "id": "07jIXeRogp4R"
   },
   "source": [
    "### (1) 모델4 "
   ]
  },
  {
   "cell_type": "code",
   "execution_count": 75,
   "metadata": {
    "id": "HPqQUSO40xZJ"
   },
   "outputs": [],
   "source": [
    "# 학습에 사용할 변수를 지정합니다.\n",
    "features = ['lstat', 'ptratio']\n",
    "x_train4 = x_train[features]\n",
    "x_val4 = x_val[features]"
   ]
  },
  {
   "cell_type": "code",
   "execution_count": 77,
   "metadata": {
    "id": "FuV6Z_Ej0xZR"
   },
   "outputs": [],
   "source": [
    "model4 = LinearRegression()\n",
    "model4.fit(x_train4, y_train)\n",
    "pred4 = model4.predict(x_val4)"
   ]
  },
  {
   "cell_type": "code",
   "execution_count": 78,
   "metadata": {
    "id": "RDtLhKbh1yvB"
   },
   "outputs": [
    {
     "data": {
      "text/plain": [
       "(array([-0.82877003, -1.25776375]), 56.231763304678594)"
      ]
     },
     "execution_count": 78,
     "metadata": {},
     "output_type": "execute_result"
    }
   ],
   "source": [
    "model4.coef_, model4.intercept_"
   ]
  },
  {
   "cell_type": "code",
   "execution_count": null,
   "metadata": {
    "id": "VdxIoh2E0xZR"
   },
   "outputs": [],
   "source": []
  },
  {
   "cell_type": "code",
   "execution_count": null,
   "metadata": {
    "id": "xHf4K9_R0xZS"
   },
   "outputs": [],
   "source": []
  },
  {
   "cell_type": "markdown",
   "metadata": {
    "id": "ubvVpbWDjDpQ"
   },
   "source": [
    "### (2) 모델5 "
   ]
  },
  {
   "cell_type": "code",
   "execution_count": 76,
   "metadata": {
    "id": "smUk2b5A3tU9"
   },
   "outputs": [],
   "source": [
    "# 학습에 사용할 변수를 지정합니다.\n",
    "features = ['lstat', 'ptratio', 'crim']\n",
    "x_train5 = x_train[features]\n",
    "x_val5 = x_val[features]"
   ]
  },
  {
   "cell_type": "code",
   "execution_count": 79,
   "metadata": {
    "id": "kDu4Y03X3tU-"
   },
   "outputs": [],
   "source": [
    "model5 = LinearRegression()\n",
    "model5.fit(x_train4, y_train)\n",
    "pred5 = model5.predict(x_val4)"
   ]
  },
  {
   "cell_type": "code",
   "execution_count": 80,
   "metadata": {
    "id": "dm3STzFq3tU-"
   },
   "outputs": [
    {
     "data": {
      "text/plain": [
       "(array([-0.82877003, -1.25776375]), 56.231763304678594)"
      ]
     },
     "execution_count": 80,
     "metadata": {},
     "output_type": "execute_result"
    }
   ],
   "source": [
    "model5.coef_, model5.intercept_"
   ]
  },
  {
   "cell_type": "code",
   "execution_count": null,
   "metadata": {
    "id": "tcoZmOfg3tU-"
   },
   "outputs": [],
   "source": []
  },
  {
   "cell_type": "markdown",
   "metadata": {
    "id": "WwwyRbzEkWid"
   },
   "source": [
    "### (3) 모델6"
   ]
  },
  {
   "cell_type": "code",
   "execution_count": 82,
   "metadata": {
    "id": "gi0XKU6L3vAd"
   },
   "outputs": [],
   "source": [
    "model6 = LinearRegression()\n",
    "model6.fit(x_train, y_train)\n",
    "pred6 = model6.predict(x_val)"
   ]
  },
  {
   "cell_type": "code",
   "execution_count": 83,
   "metadata": {
    "id": "JfNZmZFX3vAd"
   },
   "outputs": [
    {
     "data": {
      "text/plain": [
       "(array([-0.82877003, -1.25776375]), 56.231763304678594)"
      ]
     },
     "execution_count": 83,
     "metadata": {},
     "output_type": "execute_result"
    }
   ],
   "source": [
    "model5.coef_, model5.intercept_"
   ]
  },
  {
   "cell_type": "code",
   "execution_count": null,
   "metadata": {
    "id": "lM8myCn_3vAe"
   },
   "outputs": [],
   "source": []
  },
  {
   "cell_type": "markdown",
   "metadata": {
    "id": "CkOq7trbEjDb"
   },
   "source": [
    "### (4) 성능 비교 평가\n",
    "지금까지 모델들에 대해서 성능 비교를 해 봅시다."
   ]
  },
  {
   "cell_type": "markdown",
   "metadata": {
    "id": "fjqVB3nrl22H"
   },
   "source": [
    "* 결과를 하나의 데이터프레임으로 저장해서 비교해 봅시다."
   ]
  },
  {
   "cell_type": "code",
   "execution_count": 120,
   "metadata": {
    "id": "IiGtEgyjl-Zz"
   },
   "outputs": [],
   "source": [
    "df = pd.DataFrame(columns = ['model_no' , 'R^2 score', 'RMSE', 'RAPE', 'RAE'])\n",
    "\n",
    "pred = [pred1, pred2, pred3, pred4, pred5, pred6]\n",
    "\n",
    "for i in range(6):\n",
    "    df.loc[i] = [int(i)+1, r2_score(y_val, pred[i]), mean_squared_error( y_val   , pred[i]  , squared = False), mean_absolute_error(y_val   , pred[i]   ), mean_absolute_percentage_error(y_val   , pred[i]   )]"
   ]
  },
  {
   "cell_type": "code",
   "execution_count": 126,
   "metadata": {
    "id": "zdpFkJ5n3yyD"
   },
   "outputs": [
    {
     "data": {
      "text/plain": [
       "model_no     float64\n",
       "R^2 score    float64\n",
       "RMSE         float64\n",
       "RAPE         float64\n",
       "RAE          float64\n",
       "dtype: object"
      ]
     },
     "execution_count": 126,
     "metadata": {},
     "output_type": "execute_result"
    }
   ],
   "source": [
    "df.dtypes"
   ]
  },
  {
   "cell_type": "code",
   "execution_count": 131,
   "metadata": {},
   "outputs": [],
   "source": [
    "df = df.astype({'model_no': int})"
   ]
  },
  {
   "cell_type": "code",
   "execution_count": 132,
   "metadata": {},
   "outputs": [
    {
     "data": {
      "text/html": [
       "<div>\n",
       "<style scoped>\n",
       "    .dataframe tbody tr th:only-of-type {\n",
       "        vertical-align: middle;\n",
       "    }\n",
       "\n",
       "    .dataframe tbody tr th {\n",
       "        vertical-align: top;\n",
       "    }\n",
       "\n",
       "    .dataframe thead th {\n",
       "        text-align: right;\n",
       "    }\n",
       "</style>\n",
       "<table border=\"1\" class=\"dataframe\">\n",
       "  <thead>\n",
       "    <tr style=\"text-align: right;\">\n",
       "      <th></th>\n",
       "      <th>model_no</th>\n",
       "      <th>R^2 score</th>\n",
       "      <th>RMSE</th>\n",
       "      <th>RAPE</th>\n",
       "      <th>RAE</th>\n",
       "    </tr>\n",
       "  </thead>\n",
       "  <tbody>\n",
       "    <tr>\n",
       "      <th>0</th>\n",
       "      <td>1</td>\n",
       "      <td>0.631540</td>\n",
       "      <td>5.618125</td>\n",
       "      <td>4.138380</td>\n",
       "      <td>0.223987</td>\n",
       "    </tr>\n",
       "    <tr>\n",
       "      <th>1</th>\n",
       "      <td>2</td>\n",
       "      <td>0.199884</td>\n",
       "      <td>8.278901</td>\n",
       "      <td>6.480427</td>\n",
       "      <td>0.404903</td>\n",
       "    </tr>\n",
       "    <tr>\n",
       "      <th>2</th>\n",
       "      <td>3</td>\n",
       "      <td>0.318318</td>\n",
       "      <td>7.641651</td>\n",
       "      <td>5.963611</td>\n",
       "      <td>0.381457</td>\n",
       "    </tr>\n",
       "    <tr>\n",
       "      <th>3</th>\n",
       "      <td>4</td>\n",
       "      <td>0.648083</td>\n",
       "      <td>5.490557</td>\n",
       "      <td>4.039846</td>\n",
       "      <td>0.211744</td>\n",
       "    </tr>\n",
       "    <tr>\n",
       "      <th>4</th>\n",
       "      <td>5</td>\n",
       "      <td>0.648083</td>\n",
       "      <td>5.490557</td>\n",
       "      <td>4.039846</td>\n",
       "      <td>0.211744</td>\n",
       "    </tr>\n",
       "    <tr>\n",
       "      <th>5</th>\n",
       "      <td>6</td>\n",
       "      <td>0.731170</td>\n",
       "      <td>4.798828</td>\n",
       "      <td>3.566514</td>\n",
       "      <td>0.211383</td>\n",
       "    </tr>\n",
       "  </tbody>\n",
       "</table>\n",
       "</div>"
      ],
      "text/plain": [
       "   model_no  R^2 score      RMSE      RAPE       RAE\n",
       "0         1   0.631540  5.618125  4.138380  0.223987\n",
       "1         2   0.199884  8.278901  6.480427  0.404903\n",
       "2         3   0.318318  7.641651  5.963611  0.381457\n",
       "3         4   0.648083  5.490557  4.039846  0.211744\n",
       "4         5   0.648083  5.490557  4.039846  0.211744\n",
       "5         6   0.731170  4.798828  3.566514  0.211383"
      ]
     },
     "execution_count": 132,
     "metadata": {},
     "output_type": "execute_result"
    }
   ],
   "source": [
    "df"
   ]
  },
  {
   "cell_type": "code",
   "execution_count": 135,
   "metadata": {},
   "outputs": [
    {
     "data": {
      "text/html": [
       "<div>\n",
       "<style scoped>\n",
       "    .dataframe tbody tr th:only-of-type {\n",
       "        vertical-align: middle;\n",
       "    }\n",
       "\n",
       "    .dataframe tbody tr th {\n",
       "        vertical-align: top;\n",
       "    }\n",
       "\n",
       "    .dataframe thead th {\n",
       "        text-align: right;\n",
       "    }\n",
       "</style>\n",
       "<table border=\"1\" class=\"dataframe\">\n",
       "  <thead>\n",
       "    <tr style=\"text-align: right;\">\n",
       "      <th></th>\n",
       "      <th>model_no</th>\n",
       "      <th>rmse</th>\n",
       "      <th>mae</th>\n",
       "      <th>mape</th>\n",
       "    </tr>\n",
       "  </thead>\n",
       "  <tbody>\n",
       "    <tr>\n",
       "      <th>0</th>\n",
       "      <td>1</td>\n",
       "      <td>5.618125</td>\n",
       "      <td>4.138380</td>\n",
       "      <td>0.223987</td>\n",
       "    </tr>\n",
       "    <tr>\n",
       "      <th>1</th>\n",
       "      <td>2</td>\n",
       "      <td>8.278901</td>\n",
       "      <td>6.480427</td>\n",
       "      <td>0.404903</td>\n",
       "    </tr>\n",
       "    <tr>\n",
       "      <th>2</th>\n",
       "      <td>3</td>\n",
       "      <td>7.641651</td>\n",
       "      <td>5.963611</td>\n",
       "      <td>0.381457</td>\n",
       "    </tr>\n",
       "    <tr>\n",
       "      <th>3</th>\n",
       "      <td>4</td>\n",
       "      <td>5.490557</td>\n",
       "      <td>4.039846</td>\n",
       "      <td>0.211744</td>\n",
       "    </tr>\n",
       "    <tr>\n",
       "      <th>4</th>\n",
       "      <td>5</td>\n",
       "      <td>5.490557</td>\n",
       "      <td>4.039846</td>\n",
       "      <td>0.211744</td>\n",
       "    </tr>\n",
       "    <tr>\n",
       "      <th>5</th>\n",
       "      <td>6</td>\n",
       "      <td>4.798828</td>\n",
       "      <td>3.566514</td>\n",
       "      <td>0.211383</td>\n",
       "    </tr>\n",
       "  </tbody>\n",
       "</table>\n",
       "</div>"
      ],
      "text/plain": [
       "   model_no      rmse       mae      mape\n",
       "0         1  5.618125  4.138380  0.223987\n",
       "1         2  8.278901  6.480427  0.404903\n",
       "2         3  7.641651  5.963611  0.381457\n",
       "3         4  5.490557  4.039846  0.211744\n",
       "4         5  5.490557  4.039846  0.211744\n",
       "5         6  4.798828  3.566514  0.211383"
      ]
     },
     "execution_count": 135,
     "metadata": {},
     "output_type": "execute_result"
    }
   ],
   "source": [
    "model_no, rmse, mae, mape = [],[],[],[]\n",
    "pred = [pred1, pred2, pred3, pred4, pred5, pred6]\n",
    "\n",
    "for i,p in enumerate(pred):\n",
    "    model_no.append(i+1) \n",
    "    rmse.append(mean_squared_error(y_val, p, squared = False))\n",
    "    mae.append(mean_absolute_error(y_val, p)) \n",
    "    mape.append(mean_absolute_percentage_error(y_val, p)) \n",
    "\n",
    "result = pd.DataFrame({'model_no':model_no, 'rmse':rmse, 'mae':mae, 'mape':mape}) \n",
    "result"
   ]
  },
  {
   "cell_type": "code",
   "execution_count": 138,
   "metadata": {},
   "outputs": [],
   "source": [
    "import seaborn as sns\n",
    "\n",
    "def plot_feature_importance(importance, names):\n",
    "    feature_importance = np.array(importance)\n",
    "    feature_names = np.array(names)\n",
    "\n",
    "    data={'feature_names':feature_names,'feature_importance':feature_importance}\n",
    "    fi_df = pd.DataFrame(data)\n",
    "\n",
    "    fi_df.sort_values(by=['feature_importance'], ascending=False,inplace=True)\n",
    "    fi_df.reset_index(drop=True, inplace = True)\n",
    "\n",
    "    plt.figure(figsize=(10,8))\n",
    "    sns.barplot(x='feature_importance', y='feature_names', data = fi_df)\n",
    "\n",
    "    plt.xlabel('FEATURE IMPORTANCE')\n",
    "    plt.ylabel('FEATURE NAMES')\n",
    "    plt.grid()\n",
    "\n",
    "    return fi_df"
   ]
  },
  {
   "cell_type": "code",
   "execution_count": 137,
   "metadata": {},
   "outputs": [
    {
     "data": {
      "text/plain": [
       "array([-1.22425848e-01,  3.82348308e-02,  4.22856876e-02,  3.20133717e+00,\n",
       "       -1.41572526e+01,  4.39944607e+00, -5.77366256e-03, -1.33095603e+00,\n",
       "        2.89257050e-01, -1.22428947e-02, -9.32466444e-01, -5.53256396e-01])"
      ]
     },
     "execution_count": 137,
     "metadata": {},
     "output_type": "execute_result"
    }
   ],
   "source": [
    "model6.coef_"
   ]
  },
  {
   "cell_type": "code",
   "execution_count": 139,
   "metadata": {},
   "outputs": [
    {
     "data": {
      "image/png": "[encoded data removed]",
      "text/plain": [
       "<Figure size 720x576 with 1 Axes>"
      ]
     },
     "metadata": {
      "needs_background": "light"
     },
     "output_type": "display_data"
    }
   ],
   "source": [
    "r = plot_feature_importance(model6.coef_, list(x_train))"
   ]
  },
  {
   "cell_type": "code",
   "execution_count": 140,
   "metadata": {},
   "outputs": [
    {
     "data": {
      "image/png": "[encoded data removed]",
      "text/plain": [
       "<Figure size 720x576 with 1 Axes>"
      ]
     },
     "metadata": {
      "needs_background": "light"
     },
     "output_type": "display_data"
    }
   ],
   "source": [
    "# 스케일링\n",
    "from sklearn.preprocessing import MinMaxScaler\n",
    "scaler = MinMaxScaler()\n",
    "x_train_s = scaler.fit_transform(x_train)\n",
    "\n",
    "# 다시 모델링\n",
    "model7 = LinearRegression()\n",
    "model7.fit(x_train_s, y_train)\n",
    "\n",
    "r = plot_feature_importance(model7.coef_, list(x_train))"
   ]
  },
  {
   "cell_type": "code",
   "execution_count": null,
   "metadata": {},
   "outputs": [],
   "source": [
    "# 선형회귀 모형의 변수 중요도를 이렇게 뽑을 수도 있다.\n",
    "# 모델 해석 과목에서 변수 중요도에서 확인"
   ]
  }
 ],
 "metadata": {
  "colab": {
   "collapsed_sections": [],
   "name": "02과 Linear Regression.ipynb",
   "provenance": [],
   "toc_visible": true
  },
  "kernelspec": {
   "display_name": "Python 3 (ipykernel)",
   "language": "python",
   "name": "python3"
  },
  "language_info": {
   "codemirror_mode": {
    "name": "ipython",
    "version": 3
   },
   "file_extension": ".py",
   "mimetype": "text/x-python",
   "name": "python",
   "nbconvert_exporter": "python",
   "pygments_lexer": "ipython3",
   "version": "3.9.7"
  }
 },
 "nbformat": 4,
 "nbformat_minor": 4
}
