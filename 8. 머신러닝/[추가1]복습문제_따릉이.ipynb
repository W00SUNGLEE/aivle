{
 "cells": [
  {
   "cell_type": "markdown",
   "metadata": {
    "id": "cVB9pY-v8uv5"
   },
   "source": [
    "# 복습문제_따릉이\n",
    "\n",
    "* 지금까지 배운 것을 복습 합니다.\n",
    "* Data : 서울 공유 자전거\n",
    "* 문제 : 2시간 후의 수요를 예측하고자 합니다.\n",
    "------"
   ]
  },
  {
   "cell_type": "markdown",
   "metadata": {
    "id": "0qIQCk04D0ra"
   },
   "source": [
    "* 모든게 처음이신 분들은 \n",
    "    * 알고리즘을 사용하고 익히는 것에 초점을 맞추시고\n",
    "    * 다양한 알고리즘으로 만든 모델에 대해 성능 비교를 수행합니다.\n",
    "* 경험이 있으신 분들은\n",
    "    * 각 알고리즘마다 최고의 성능을 얻기 위해 노력해 보세요.\n",
    "    * 필요하다면 적절한 feature engineering도 수행합니다.\n",
    "    * 수행시간이 오래 걸리는 알고리즘(SVM, RandomForest, XGB, DL)에 대해서는 학습데이터 크기를 조절해 봅시다.(learning_curve 이용)\n",
    "    * 과적합에 대한 평가와 회피하기 위한 시도를 해보세요.\n",
    "    * 그리고 정리한 자신 만의 내용을 github에 올려서 다른 에이블러들과 공유해 봅시다.^^ \n",
    "-----"
   ]
  },
  {
   "cell_type": "markdown",
   "metadata": {
    "id": "Y2TDwpWWD3Ki"
   },
   "source": [
    "\n",
    "* **진행시 주의사항**\n",
    "    * 본 복습문제 수행 여부는 **개인 자유** 입니다. 제출받는 것이 아니니 부담갖지 않으셔도 좋습니다.\n",
    "    * 본 복습문제를 수행하는 도중 발생된 질문은 \n",
    "        * **1:1게시판이나 수업중 채팅으로 질문하지 말고** (튜터님들은 모르고 계십니다.^^;;;)\n",
    "        * 문제 해결을 위해, 과정 자료, 인터넷 검색 등을 통해 **스스로 해결** 해 봅니다. \n",
    "        * 특히 https://stackoverflow.com/ 는 개발자들이 참여하는 굉장히 큰 Q&A 사이트입니다. 거의 대부분의 문답은 여기에 다 있습니다. 적극 활용하세요. **스스로 문제 해결하는 연습** 은 굉장히 중요합니다.\n",
    "        * 그럼에도 불구하고 도저히 해결이 안될 때, **최후의 히든 카드** 로 저에게 이메일 문의를 하시면, 제가 시간이 가용할때 순차적으로 답변을 드리겠습니다.^^"
   ]
  },
  {
   "cell_type": "markdown",
   "metadata": {
    "id": "I75LoyIG8XdQ"
   },
   "source": [
    "![](https://mediahub.seoul.go.kr/uploads/mediahub/2021/03/RaKqiqgRXyNmYVYymXQIvCjPHpncuhBX.png)"
   ]
  },
  {
   "cell_type": "markdown",
   "metadata": {
    "id": "gIN5d51gtker"
   },
   "source": [
    "## 1.환경준비"
   ]
  },
  {
   "cell_type": "markdown",
   "metadata": {
    "id": "98K82DAxvX6I"
   },
   "source": [
    "### (1) 라이브러리 로딩"
   ]
  },
  {
   "cell_type": "code",
   "execution_count": 1,
   "metadata": {
    "id": "qUG9ltiWCJXr"
   },
   "outputs": [],
   "source": [
    "import pandas as pd\n",
    "import numpy as np\n",
    "import matplotlib.pyplot as plt\n",
    "import seaborn as sns\n",
    "\n",
    "from sklearn.model_selection import train_test_split\n",
    "from sklearn.metrics import *"
   ]
  },
  {
   "cell_type": "markdown",
   "metadata": {
    "id": "6wuqykgvviCc"
   },
   "source": [
    "### (2) 데이터로딩"
   ]
  },
  {
   "cell_type": "code",
   "execution_count": 20,
   "metadata": {
    "id": "qMTdLPzcCNMw"
   },
   "outputs": [
    {
     "data": {
      "text/html": [
       "<div>\n",
       "<style scoped>\n",
       "    .dataframe tbody tr th:only-of-type {\n",
       "        vertical-align: middle;\n",
       "    }\n",
       "\n",
       "    .dataframe tbody tr th {\n",
       "        vertical-align: top;\n",
       "    }\n",
       "\n",
       "    .dataframe thead th {\n",
       "        text-align: right;\n",
       "    }\n",
       "</style>\n",
       "<table border=\"1\" class=\"dataframe\">\n",
       "  <thead>\n",
       "    <tr style=\"text-align: right;\">\n",
       "      <th></th>\n",
       "      <th>DateTime</th>\n",
       "      <th>Count</th>\n",
       "      <th>Temperature</th>\n",
       "      <th>Humidity</th>\n",
       "      <th>WindSpeed</th>\n",
       "      <th>Visibility</th>\n",
       "      <th>Solar</th>\n",
       "      <th>Rainfall</th>\n",
       "      <th>Snowfall</th>\n",
       "      <th>Seasons</th>\n",
       "      <th>Holiday</th>\n",
       "      <th>FuncDay</th>\n",
       "    </tr>\n",
       "  </thead>\n",
       "  <tbody>\n",
       "    <tr>\n",
       "      <th>0</th>\n",
       "      <td>2017-12-01 00:00:00</td>\n",
       "      <td>254</td>\n",
       "      <td>-5.2</td>\n",
       "      <td>37</td>\n",
       "      <td>2.2</td>\n",
       "      <td>2000</td>\n",
       "      <td>0.0</td>\n",
       "      <td>0.0</td>\n",
       "      <td>0.0</td>\n",
       "      <td>Winter</td>\n",
       "      <td>No Holiday</td>\n",
       "      <td>Yes</td>\n",
       "    </tr>\n",
       "    <tr>\n",
       "      <th>1</th>\n",
       "      <td>2017-12-01 01:00:00</td>\n",
       "      <td>204</td>\n",
       "      <td>-5.5</td>\n",
       "      <td>38</td>\n",
       "      <td>0.8</td>\n",
       "      <td>2000</td>\n",
       "      <td>0.0</td>\n",
       "      <td>0.0</td>\n",
       "      <td>0.0</td>\n",
       "      <td>Winter</td>\n",
       "      <td>No Holiday</td>\n",
       "      <td>Yes</td>\n",
       "    </tr>\n",
       "    <tr>\n",
       "      <th>2</th>\n",
       "      <td>2017-12-01 02:00:00</td>\n",
       "      <td>173</td>\n",
       "      <td>-6.0</td>\n",
       "      <td>39</td>\n",
       "      <td>1.0</td>\n",
       "      <td>2000</td>\n",
       "      <td>0.0</td>\n",
       "      <td>0.0</td>\n",
       "      <td>0.0</td>\n",
       "      <td>Winter</td>\n",
       "      <td>No Holiday</td>\n",
       "      <td>Yes</td>\n",
       "    </tr>\n",
       "    <tr>\n",
       "      <th>3</th>\n",
       "      <td>2017-12-01 03:00:00</td>\n",
       "      <td>107</td>\n",
       "      <td>-6.2</td>\n",
       "      <td>40</td>\n",
       "      <td>0.9</td>\n",
       "      <td>2000</td>\n",
       "      <td>0.0</td>\n",
       "      <td>0.0</td>\n",
       "      <td>0.0</td>\n",
       "      <td>Winter</td>\n",
       "      <td>No Holiday</td>\n",
       "      <td>Yes</td>\n",
       "    </tr>\n",
       "    <tr>\n",
       "      <th>4</th>\n",
       "      <td>2017-12-01 04:00:00</td>\n",
       "      <td>78</td>\n",
       "      <td>-6.0</td>\n",
       "      <td>36</td>\n",
       "      <td>2.3</td>\n",
       "      <td>2000</td>\n",
       "      <td>0.0</td>\n",
       "      <td>0.0</td>\n",
       "      <td>0.0</td>\n",
       "      <td>Winter</td>\n",
       "      <td>No Holiday</td>\n",
       "      <td>Yes</td>\n",
       "    </tr>\n",
       "  </tbody>\n",
       "</table>\n",
       "</div>"
      ],
      "text/plain": [
       "             DateTime  Count  Temperature  Humidity  WindSpeed  Visibility  \\\n",
       "0 2017-12-01 00:00:00    254         -5.2        37        2.2        2000   \n",
       "1 2017-12-01 01:00:00    204         -5.5        38        0.8        2000   \n",
       "2 2017-12-01 02:00:00    173         -6.0        39        1.0        2000   \n",
       "3 2017-12-01 03:00:00    107         -6.2        40        0.9        2000   \n",
       "4 2017-12-01 04:00:00     78         -6.0        36        2.3        2000   \n",
       "\n",
       "   Solar  Rainfall  Snowfall Seasons     Holiday FuncDay  \n",
       "0    0.0       0.0       0.0  Winter  No Holiday     Yes  \n",
       "1    0.0       0.0       0.0  Winter  No Holiday     Yes  \n",
       "2    0.0       0.0       0.0  Winter  No Holiday     Yes  \n",
       "3    0.0       0.0       0.0  Winter  No Holiday     Yes  \n",
       "4    0.0       0.0       0.0  Winter  No Holiday     Yes  "
      ]
     },
     "execution_count": 20,
     "metadata": {},
     "output_type": "execute_result"
    }
   ],
   "source": [
    "path = 'https://raw.githubusercontent.com/DA4BAM/dataset/master/SeoulBikeData2.csv'\n",
    "data = pd.read_csv(path)\n",
    "data['DateTime'] = pd.to_datetime(data['DateTime'], format='%Y-%m-%d %H:%M:%S')\n",
    "data.head()"
   ]
  },
  {
   "cell_type": "markdown",
   "metadata": {
    "id": "KlLNUHaiCNMx"
   },
   "source": [
    "**변수설명**  \n",
    "\n",
    "* DateTime : year-month-day hh:mi:ss\n",
    "* Count : 시간대별 수요량\n",
    "* Temperature : 온도(섭씨)\n",
    "* Humidity : 습도(%)\n",
    "* WindSpeed : 풍속(m/s)\n",
    "* Visibility : 가시거리(단위: 10m)\n",
    "* Solar - 태양복사열, MJ/m2\n",
    "* Rainfall - mm\n",
    "* Snowfall - cm\n",
    "* Seasons - Winter, Spring, Summer, Autumn\n",
    "* Holiday - Holiday / No holiday\n",
    "* FuncDay - Yes / No\n"
   ]
  },
  {
   "cell_type": "code",
   "execution_count": 21,
   "metadata": {
    "id": "lFXgAj2LCNMx"
   },
   "outputs": [
    {
     "data": {
      "text/plain": [
       "(Timestamp('2017-12-01 00:00:00'), Timestamp('2018-11-30 23:00:00'))"
      ]
     },
     "execution_count": 21,
     "metadata": {},
     "output_type": "execute_result"
    }
   ],
   "source": [
    "# 데이터 기간은 다음과 같습니다.\n",
    "data.DateTime.min(), data.DateTime.max()"
   ]
  },
  {
   "cell_type": "code",
   "execution_count": 22,
   "metadata": {
    "id": "C4-T9iXgUDHi"
   },
   "outputs": [
    {
     "data": {
      "image/png": "[encoded data removed]",
      "text/plain": [
       "<Figure size 1440x576 with 1 Axes>"
      ]
     },
     "metadata": {
      "needs_background": "light"
     },
     "output_type": "display_data"
    }
   ],
   "source": [
    "# 14일 동안의 수요량을 살펴 봅시다.\n",
    "temp = data[:24*14]\n",
    "plt.figure(figsize = (20,8))\n",
    "plt.plot('DateTime', 'Count', data = temp)\n",
    "plt.grid()\n",
    "plt.show()"
   ]
  },
  {
   "cell_type": "markdown",
   "metadata": {
    "id": "oICMvjzJJKbn"
   },
   "source": [
    "## 2.데이터 준비"
   ]
  },
  {
   "cell_type": "markdown",
   "metadata": {
    "id": "JPHI1HbYDCIA"
   },
   "source": [
    "### (1) y 만들기 \n",
    "* 2시간 이후의 수요량을 예측해야 합니다."
   ]
  },
  {
   "cell_type": "code",
   "execution_count": 23,
   "metadata": {
    "id": "hfoEWmeBDEVN"
   },
   "outputs": [
    {
     "data": {
      "text/html": [
       "<div>\n",
       "<style scoped>\n",
       "    .dataframe tbody tr th:only-of-type {\n",
       "        vertical-align: middle;\n",
       "    }\n",
       "\n",
       "    .dataframe tbody tr th {\n",
       "        vertical-align: top;\n",
       "    }\n",
       "\n",
       "    .dataframe thead th {\n",
       "        text-align: right;\n",
       "    }\n",
       "</style>\n",
       "<table border=\"1\" class=\"dataframe\">\n",
       "  <thead>\n",
       "    <tr style=\"text-align: right;\">\n",
       "      <th></th>\n",
       "      <th>DateTime</th>\n",
       "      <th>Count</th>\n",
       "      <th>Temperature</th>\n",
       "      <th>Humidity</th>\n",
       "      <th>WindSpeed</th>\n",
       "      <th>Visibility</th>\n",
       "      <th>Solar</th>\n",
       "      <th>Rainfall</th>\n",
       "      <th>Snowfall</th>\n",
       "      <th>Seasons</th>\n",
       "      <th>Holiday</th>\n",
       "      <th>FuncDay</th>\n",
       "      <th>y</th>\n",
       "    </tr>\n",
       "  </thead>\n",
       "  <tbody>\n",
       "    <tr>\n",
       "      <th>0</th>\n",
       "      <td>2017-12-01 00:00:00</td>\n",
       "      <td>254</td>\n",
       "      <td>-5.2</td>\n",
       "      <td>37</td>\n",
       "      <td>2.2</td>\n",
       "      <td>2000</td>\n",
       "      <td>0.0</td>\n",
       "      <td>0.0</td>\n",
       "      <td>0.0</td>\n",
       "      <td>Winter</td>\n",
       "      <td>No Holiday</td>\n",
       "      <td>Yes</td>\n",
       "      <td>173.0</td>\n",
       "    </tr>\n",
       "    <tr>\n",
       "      <th>1</th>\n",
       "      <td>2017-12-01 01:00:00</td>\n",
       "      <td>204</td>\n",
       "      <td>-5.5</td>\n",
       "      <td>38</td>\n",
       "      <td>0.8</td>\n",
       "      <td>2000</td>\n",
       "      <td>0.0</td>\n",
       "      <td>0.0</td>\n",
       "      <td>0.0</td>\n",
       "      <td>Winter</td>\n",
       "      <td>No Holiday</td>\n",
       "      <td>Yes</td>\n",
       "      <td>107.0</td>\n",
       "    </tr>\n",
       "    <tr>\n",
       "      <th>2</th>\n",
       "      <td>2017-12-01 02:00:00</td>\n",
       "      <td>173</td>\n",
       "      <td>-6.0</td>\n",
       "      <td>39</td>\n",
       "      <td>1.0</td>\n",
       "      <td>2000</td>\n",
       "      <td>0.0</td>\n",
       "      <td>0.0</td>\n",
       "      <td>0.0</td>\n",
       "      <td>Winter</td>\n",
       "      <td>No Holiday</td>\n",
       "      <td>Yes</td>\n",
       "      <td>78.0</td>\n",
       "    </tr>\n",
       "    <tr>\n",
       "      <th>3</th>\n",
       "      <td>2017-12-01 03:00:00</td>\n",
       "      <td>107</td>\n",
       "      <td>-6.2</td>\n",
       "      <td>40</td>\n",
       "      <td>0.9</td>\n",
       "      <td>2000</td>\n",
       "      <td>0.0</td>\n",
       "      <td>0.0</td>\n",
       "      <td>0.0</td>\n",
       "      <td>Winter</td>\n",
       "      <td>No Holiday</td>\n",
       "      <td>Yes</td>\n",
       "      <td>100.0</td>\n",
       "    </tr>\n",
       "    <tr>\n",
       "      <th>4</th>\n",
       "      <td>2017-12-01 04:00:00</td>\n",
       "      <td>78</td>\n",
       "      <td>-6.0</td>\n",
       "      <td>36</td>\n",
       "      <td>2.3</td>\n",
       "      <td>2000</td>\n",
       "      <td>0.0</td>\n",
       "      <td>0.0</td>\n",
       "      <td>0.0</td>\n",
       "      <td>Winter</td>\n",
       "      <td>No Holiday</td>\n",
       "      <td>Yes</td>\n",
       "      <td>181.0</td>\n",
       "    </tr>\n",
       "  </tbody>\n",
       "</table>\n",
       "</div>"
      ],
      "text/plain": [
       "             DateTime  Count  Temperature  Humidity  WindSpeed  Visibility  \\\n",
       "0 2017-12-01 00:00:00    254         -5.2        37        2.2        2000   \n",
       "1 2017-12-01 01:00:00    204         -5.5        38        0.8        2000   \n",
       "2 2017-12-01 02:00:00    173         -6.0        39        1.0        2000   \n",
       "3 2017-12-01 03:00:00    107         -6.2        40        0.9        2000   \n",
       "4 2017-12-01 04:00:00     78         -6.0        36        2.3        2000   \n",
       "\n",
       "   Solar  Rainfall  Snowfall Seasons     Holiday FuncDay      y  \n",
       "0    0.0       0.0       0.0  Winter  No Holiday     Yes  173.0  \n",
       "1    0.0       0.0       0.0  Winter  No Holiday     Yes  107.0  \n",
       "2    0.0       0.0       0.0  Winter  No Holiday     Yes   78.0  \n",
       "3    0.0       0.0       0.0  Winter  No Holiday     Yes  100.0  \n",
       "4    0.0       0.0       0.0  Winter  No Holiday     Yes  181.0  "
      ]
     },
     "execution_count": 23,
     "metadata": {},
     "output_type": "execute_result"
    }
   ],
   "source": [
    "data['y'] = data['Count'].shift(-2)\n",
    "data.head()"
   ]
  },
  {
   "cell_type": "code",
   "execution_count": 24,
   "metadata": {
    "id": "_AtGGeXVD7UV"
   },
   "outputs": [
    {
     "data": {
      "text/html": [
       "<div>\n",
       "<style scoped>\n",
       "    .dataframe tbody tr th:only-of-type {\n",
       "        vertical-align: middle;\n",
       "    }\n",
       "\n",
       "    .dataframe tbody tr th {\n",
       "        vertical-align: top;\n",
       "    }\n",
       "\n",
       "    .dataframe thead th {\n",
       "        text-align: right;\n",
       "    }\n",
       "</style>\n",
       "<table border=\"1\" class=\"dataframe\">\n",
       "  <thead>\n",
       "    <tr style=\"text-align: right;\">\n",
       "      <th></th>\n",
       "      <th>DateTime</th>\n",
       "      <th>Count</th>\n",
       "      <th>Temperature</th>\n",
       "      <th>Humidity</th>\n",
       "      <th>WindSpeed</th>\n",
       "      <th>Visibility</th>\n",
       "      <th>Solar</th>\n",
       "      <th>Rainfall</th>\n",
       "      <th>Snowfall</th>\n",
       "      <th>Seasons</th>\n",
       "      <th>Holiday</th>\n",
       "      <th>FuncDay</th>\n",
       "      <th>y</th>\n",
       "    </tr>\n",
       "  </thead>\n",
       "  <tbody>\n",
       "    <tr>\n",
       "      <th>8755</th>\n",
       "      <td>2018-11-30 19:00:00</td>\n",
       "      <td>1003</td>\n",
       "      <td>4.2</td>\n",
       "      <td>34</td>\n",
       "      <td>2.6</td>\n",
       "      <td>1894</td>\n",
       "      <td>0.0</td>\n",
       "      <td>0.0</td>\n",
       "      <td>0.0</td>\n",
       "      <td>Autumn</td>\n",
       "      <td>No Holiday</td>\n",
       "      <td>Yes</td>\n",
       "      <td>694.0</td>\n",
       "    </tr>\n",
       "    <tr>\n",
       "      <th>8756</th>\n",
       "      <td>2018-11-30 20:00:00</td>\n",
       "      <td>764</td>\n",
       "      <td>3.4</td>\n",
       "      <td>37</td>\n",
       "      <td>2.3</td>\n",
       "      <td>2000</td>\n",
       "      <td>0.0</td>\n",
       "      <td>0.0</td>\n",
       "      <td>0.0</td>\n",
       "      <td>Autumn</td>\n",
       "      <td>No Holiday</td>\n",
       "      <td>Yes</td>\n",
       "      <td>712.0</td>\n",
       "    </tr>\n",
       "    <tr>\n",
       "      <th>8757</th>\n",
       "      <td>2018-11-30 21:00:00</td>\n",
       "      <td>694</td>\n",
       "      <td>2.6</td>\n",
       "      <td>39</td>\n",
       "      <td>0.3</td>\n",
       "      <td>1968</td>\n",
       "      <td>0.0</td>\n",
       "      <td>0.0</td>\n",
       "      <td>0.0</td>\n",
       "      <td>Autumn</td>\n",
       "      <td>No Holiday</td>\n",
       "      <td>Yes</td>\n",
       "      <td>584.0</td>\n",
       "    </tr>\n",
       "    <tr>\n",
       "      <th>8758</th>\n",
       "      <td>2018-11-30 22:00:00</td>\n",
       "      <td>712</td>\n",
       "      <td>2.1</td>\n",
       "      <td>41</td>\n",
       "      <td>1.0</td>\n",
       "      <td>1859</td>\n",
       "      <td>0.0</td>\n",
       "      <td>0.0</td>\n",
       "      <td>0.0</td>\n",
       "      <td>Autumn</td>\n",
       "      <td>No Holiday</td>\n",
       "      <td>Yes</td>\n",
       "      <td>NaN</td>\n",
       "    </tr>\n",
       "    <tr>\n",
       "      <th>8759</th>\n",
       "      <td>2018-11-30 23:00:00</td>\n",
       "      <td>584</td>\n",
       "      <td>1.9</td>\n",
       "      <td>43</td>\n",
       "      <td>1.3</td>\n",
       "      <td>1909</td>\n",
       "      <td>0.0</td>\n",
       "      <td>0.0</td>\n",
       "      <td>0.0</td>\n",
       "      <td>Autumn</td>\n",
       "      <td>No Holiday</td>\n",
       "      <td>Yes</td>\n",
       "      <td>NaN</td>\n",
       "    </tr>\n",
       "  </tbody>\n",
       "</table>\n",
       "</div>"
      ],
      "text/plain": [
       "                DateTime  Count  Temperature  Humidity  WindSpeed  Visibility  \\\n",
       "8755 2018-11-30 19:00:00   1003          4.2        34        2.6        1894   \n",
       "8756 2018-11-30 20:00:00    764          3.4        37        2.3        2000   \n",
       "8757 2018-11-30 21:00:00    694          2.6        39        0.3        1968   \n",
       "8758 2018-11-30 22:00:00    712          2.1        41        1.0        1859   \n",
       "8759 2018-11-30 23:00:00    584          1.9        43        1.3        1909   \n",
       "\n",
       "      Solar  Rainfall  Snowfall Seasons     Holiday FuncDay      y  \n",
       "8755    0.0       0.0       0.0  Autumn  No Holiday     Yes  694.0  \n",
       "8756    0.0       0.0       0.0  Autumn  No Holiday     Yes  712.0  \n",
       "8757    0.0       0.0       0.0  Autumn  No Holiday     Yes  584.0  \n",
       "8758    0.0       0.0       0.0  Autumn  No Holiday     Yes    NaN  \n",
       "8759    0.0       0.0       0.0  Autumn  No Holiday     Yes    NaN  "
      ]
     },
     "execution_count": 24,
     "metadata": {},
     "output_type": "execute_result"
    }
   ],
   "source": [
    "# 2칸을 앞당겼기 때문에 하위 2행의 y값에 NaN이 표시되어 있습니다.\n",
    "data.tail()"
   ]
  },
  {
   "cell_type": "code",
   "execution_count": 25,
   "metadata": {
    "id": "KGNDCu-xEC26"
   },
   "outputs": [],
   "source": [
    "# 하위 2행은 삭제합니다.\n",
    "# 하위 2행 제외하고 다시 붓기\n",
    "data = data[:-2]"
   ]
  },
  {
   "cell_type": "markdown",
   "metadata": {
    "id": "y9Q6jR6OZjUk"
   },
   "source": [
    "### (2) 데이터 분할1 : x, y 나누기"
   ]
  },
  {
   "cell_type": "code",
   "execution_count": 26,
   "metadata": {
    "id": "FA-PnUpcLqXN"
   },
   "outputs": [],
   "source": [
    "target = 'y'\n",
    "x = data.drop(target, axis=1)\n",
    "y = data.loc[:, target]"
   ]
  },
  {
   "cell_type": "markdown",
   "metadata": {
    "id": "WpJEGpUuuVWm"
   },
   "source": [
    "### (3) feature engineering\n",
    "* 이 부분은 넘어가셔도 좋습니다.\n",
    "* 다만 DataTime은 제거합니다."
   ]
  },
  {
   "cell_type": "code",
   "execution_count": 27,
   "metadata": {
    "id": "bgm5ZCxYFTe8"
   },
   "outputs": [],
   "source": [
    "# 날짜 데이터 제거\n",
    "x.drop(['DateTime'], axis = 1, inplace = True)"
   ]
  },
  {
   "cell_type": "code",
   "execution_count": 28,
   "metadata": {},
   "outputs": [
    {
     "data": {
      "text/html": [
       "<div>\n",
       "<style scoped>\n",
       "    .dataframe tbody tr th:only-of-type {\n",
       "        vertical-align: middle;\n",
       "    }\n",
       "\n",
       "    .dataframe tbody tr th {\n",
       "        vertical-align: top;\n",
       "    }\n",
       "\n",
       "    .dataframe thead th {\n",
       "        text-align: right;\n",
       "    }\n",
       "</style>\n",
       "<table border=\"1\" class=\"dataframe\">\n",
       "  <thead>\n",
       "    <tr style=\"text-align: right;\">\n",
       "      <th></th>\n",
       "      <th>Count</th>\n",
       "      <th>Temperature</th>\n",
       "      <th>Humidity</th>\n",
       "      <th>WindSpeed</th>\n",
       "      <th>Visibility</th>\n",
       "      <th>Solar</th>\n",
       "      <th>Rainfall</th>\n",
       "      <th>Snowfall</th>\n",
       "      <th>Seasons</th>\n",
       "      <th>Holiday</th>\n",
       "      <th>FuncDay</th>\n",
       "    </tr>\n",
       "  </thead>\n",
       "  <tbody>\n",
       "    <tr>\n",
       "      <th>0</th>\n",
       "      <td>254</td>\n",
       "      <td>-5.2</td>\n",
       "      <td>37</td>\n",
       "      <td>2.2</td>\n",
       "      <td>2000</td>\n",
       "      <td>0.0</td>\n",
       "      <td>0.0</td>\n",
       "      <td>0.0</td>\n",
       "      <td>Winter</td>\n",
       "      <td>No Holiday</td>\n",
       "      <td>Yes</td>\n",
       "    </tr>\n",
       "    <tr>\n",
       "      <th>1</th>\n",
       "      <td>204</td>\n",
       "      <td>-5.5</td>\n",
       "      <td>38</td>\n",
       "      <td>0.8</td>\n",
       "      <td>2000</td>\n",
       "      <td>0.0</td>\n",
       "      <td>0.0</td>\n",
       "      <td>0.0</td>\n",
       "      <td>Winter</td>\n",
       "      <td>No Holiday</td>\n",
       "      <td>Yes</td>\n",
       "    </tr>\n",
       "    <tr>\n",
       "      <th>2</th>\n",
       "      <td>173</td>\n",
       "      <td>-6.0</td>\n",
       "      <td>39</td>\n",
       "      <td>1.0</td>\n",
       "      <td>2000</td>\n",
       "      <td>0.0</td>\n",
       "      <td>0.0</td>\n",
       "      <td>0.0</td>\n",
       "      <td>Winter</td>\n",
       "      <td>No Holiday</td>\n",
       "      <td>Yes</td>\n",
       "    </tr>\n",
       "    <tr>\n",
       "      <th>3</th>\n",
       "      <td>107</td>\n",
       "      <td>-6.2</td>\n",
       "      <td>40</td>\n",
       "      <td>0.9</td>\n",
       "      <td>2000</td>\n",
       "      <td>0.0</td>\n",
       "      <td>0.0</td>\n",
       "      <td>0.0</td>\n",
       "      <td>Winter</td>\n",
       "      <td>No Holiday</td>\n",
       "      <td>Yes</td>\n",
       "    </tr>\n",
       "    <tr>\n",
       "      <th>4</th>\n",
       "      <td>78</td>\n",
       "      <td>-6.0</td>\n",
       "      <td>36</td>\n",
       "      <td>2.3</td>\n",
       "      <td>2000</td>\n",
       "      <td>0.0</td>\n",
       "      <td>0.0</td>\n",
       "      <td>0.0</td>\n",
       "      <td>Winter</td>\n",
       "      <td>No Holiday</td>\n",
       "      <td>Yes</td>\n",
       "    </tr>\n",
       "  </tbody>\n",
       "</table>\n",
       "</div>"
      ],
      "text/plain": [
       "   Count  Temperature  Humidity  WindSpeed  Visibility  Solar  Rainfall  \\\n",
       "0    254         -5.2        37        2.2        2000    0.0       0.0   \n",
       "1    204         -5.5        38        0.8        2000    0.0       0.0   \n",
       "2    173         -6.0        39        1.0        2000    0.0       0.0   \n",
       "3    107         -6.2        40        0.9        2000    0.0       0.0   \n",
       "4     78         -6.0        36        2.3        2000    0.0       0.0   \n",
       "\n",
       "   Snowfall Seasons     Holiday FuncDay  \n",
       "0       0.0  Winter  No Holiday     Yes  \n",
       "1       0.0  Winter  No Holiday     Yes  \n",
       "2       0.0  Winter  No Holiday     Yes  \n",
       "3       0.0  Winter  No Holiday     Yes  \n",
       "4       0.0  Winter  No Holiday     Yes  "
      ]
     },
     "execution_count": 28,
     "metadata": {},
     "output_type": "execute_result"
    }
   ],
   "source": [
    "x.head()"
   ]
  },
  {
   "cell_type": "markdown",
   "metadata": {
    "id": "mp_5volyuaA1"
   },
   "source": [
    "### (4) NaN 조치"
   ]
  },
  {
   "cell_type": "markdown",
   "metadata": {
    "id": "nOF9fSLQugGf"
   },
   "source": [
    "### (5) 가변수화"
   ]
  },
  {
   "cell_type": "code",
   "execution_count": 29,
   "metadata": {
    "id": "UTCgncMWFuc2"
   },
   "outputs": [],
   "source": [
    "columns = ['Seasons', 'Holiday', 'FuncDay']\n",
    "x = pd.get_dummies(x, columns = columns, drop_first = True)"
   ]
  },
  {
   "cell_type": "code",
   "execution_count": 30,
   "metadata": {},
   "outputs": [
    {
     "data": {
      "text/html": [
       "<div>\n",
       "<style scoped>\n",
       "    .dataframe tbody tr th:only-of-type {\n",
       "        vertical-align: middle;\n",
       "    }\n",
       "\n",
       "    .dataframe tbody tr th {\n",
       "        vertical-align: top;\n",
       "    }\n",
       "\n",
       "    .dataframe thead th {\n",
       "        text-align: right;\n",
       "    }\n",
       "</style>\n",
       "<table border=\"1\" class=\"dataframe\">\n",
       "  <thead>\n",
       "    <tr style=\"text-align: right;\">\n",
       "      <th></th>\n",
       "      <th>Count</th>\n",
       "      <th>Temperature</th>\n",
       "      <th>Humidity</th>\n",
       "      <th>WindSpeed</th>\n",
       "      <th>Visibility</th>\n",
       "      <th>Solar</th>\n",
       "      <th>Rainfall</th>\n",
       "      <th>Snowfall</th>\n",
       "      <th>Seasons_Spring</th>\n",
       "      <th>Seasons_Summer</th>\n",
       "      <th>Seasons_Winter</th>\n",
       "      <th>Holiday_No Holiday</th>\n",
       "      <th>FuncDay_Yes</th>\n",
       "    </tr>\n",
       "  </thead>\n",
       "  <tbody>\n",
       "    <tr>\n",
       "      <th>0</th>\n",
       "      <td>254</td>\n",
       "      <td>-5.2</td>\n",
       "      <td>37</td>\n",
       "      <td>2.2</td>\n",
       "      <td>2000</td>\n",
       "      <td>0.0</td>\n",
       "      <td>0.0</td>\n",
       "      <td>0.0</td>\n",
       "      <td>0</td>\n",
       "      <td>0</td>\n",
       "      <td>1</td>\n",
       "      <td>1</td>\n",
       "      <td>1</td>\n",
       "    </tr>\n",
       "    <tr>\n",
       "      <th>1</th>\n",
       "      <td>204</td>\n",
       "      <td>-5.5</td>\n",
       "      <td>38</td>\n",
       "      <td>0.8</td>\n",
       "      <td>2000</td>\n",
       "      <td>0.0</td>\n",
       "      <td>0.0</td>\n",
       "      <td>0.0</td>\n",
       "      <td>0</td>\n",
       "      <td>0</td>\n",
       "      <td>1</td>\n",
       "      <td>1</td>\n",
       "      <td>1</td>\n",
       "    </tr>\n",
       "    <tr>\n",
       "      <th>2</th>\n",
       "      <td>173</td>\n",
       "      <td>-6.0</td>\n",
       "      <td>39</td>\n",
       "      <td>1.0</td>\n",
       "      <td>2000</td>\n",
       "      <td>0.0</td>\n",
       "      <td>0.0</td>\n",
       "      <td>0.0</td>\n",
       "      <td>0</td>\n",
       "      <td>0</td>\n",
       "      <td>1</td>\n",
       "      <td>1</td>\n",
       "      <td>1</td>\n",
       "    </tr>\n",
       "    <tr>\n",
       "      <th>3</th>\n",
       "      <td>107</td>\n",
       "      <td>-6.2</td>\n",
       "      <td>40</td>\n",
       "      <td>0.9</td>\n",
       "      <td>2000</td>\n",
       "      <td>0.0</td>\n",
       "      <td>0.0</td>\n",
       "      <td>0.0</td>\n",
       "      <td>0</td>\n",
       "      <td>0</td>\n",
       "      <td>1</td>\n",
       "      <td>1</td>\n",
       "      <td>1</td>\n",
       "    </tr>\n",
       "    <tr>\n",
       "      <th>4</th>\n",
       "      <td>78</td>\n",
       "      <td>-6.0</td>\n",
       "      <td>36</td>\n",
       "      <td>2.3</td>\n",
       "      <td>2000</td>\n",
       "      <td>0.0</td>\n",
       "      <td>0.0</td>\n",
       "      <td>0.0</td>\n",
       "      <td>0</td>\n",
       "      <td>0</td>\n",
       "      <td>1</td>\n",
       "      <td>1</td>\n",
       "      <td>1</td>\n",
       "    </tr>\n",
       "  </tbody>\n",
       "</table>\n",
       "</div>"
      ],
      "text/plain": [
       "   Count  Temperature  Humidity  WindSpeed  Visibility  Solar  Rainfall  \\\n",
       "0    254         -5.2        37        2.2        2000    0.0       0.0   \n",
       "1    204         -5.5        38        0.8        2000    0.0       0.0   \n",
       "2    173         -6.0        39        1.0        2000    0.0       0.0   \n",
       "3    107         -6.2        40        0.9        2000    0.0       0.0   \n",
       "4     78         -6.0        36        2.3        2000    0.0       0.0   \n",
       "\n",
       "   Snowfall  Seasons_Spring  Seasons_Summer  Seasons_Winter  \\\n",
       "0       0.0               0               0               1   \n",
       "1       0.0               0               0               1   \n",
       "2       0.0               0               0               1   \n",
       "3       0.0               0               0               1   \n",
       "4       0.0               0               0               1   \n",
       "\n",
       "   Holiday_No Holiday  FuncDay_Yes  \n",
       "0                   1            1  \n",
       "1                   1            1  \n",
       "2                   1            1  \n",
       "3                   1            1  \n",
       "4                   1            1  "
      ]
     },
     "execution_count": 30,
     "metadata": {},
     "output_type": "execute_result"
    }
   ],
   "source": [
    "x.head()"
   ]
  },
  {
   "cell_type": "markdown",
   "metadata": {
    "id": "KsGGC-a4vpar"
   },
   "source": [
    "### (6) 데이터분할2 : train : val\n",
    "\n",
    "* 시계열 데이터이므로 시간의 흐름에 맞게 분할합시다.\n",
    "* 뒤에서 30일 : validaiton\n",
    "* 나머지 : train\n",
    "* 30일 : 시간단위 데이터이므로 24 * 30\n",
    "* train_test_split(x, y, test_size = 24 * 30, shuffle = False)\n",
    "    * shuffle : 데이터를 섞을지, 아니면 있는 그대로 자를지 결정."
   ]
  },
  {
   "cell_type": "code",
   "execution_count": 33,
   "metadata": {
    "id": "7ilUcIlvvrqR"
   },
   "outputs": [],
   "source": [
    "x_train, x_val, y_train, y_val = train_test_split(x, y, test_size = 24 * 30, shuffle = False)"
   ]
  },
  {
   "cell_type": "code",
   "execution_count": 34,
   "metadata": {
    "id": "N_oVzvpa8_H4"
   },
   "outputs": [
    {
     "data": {
      "text/plain": [
       "Count                 8038\n",
       "Temperature           8038\n",
       "Humidity              8038\n",
       "WindSpeed             8038\n",
       "Visibility            8038\n",
       "Solar                 8038\n",
       "Rainfall              8038\n",
       "Snowfall              8038\n",
       "Seasons_Spring        8038\n",
       "Seasons_Summer        8038\n",
       "Seasons_Winter        8038\n",
       "Holiday_No Holiday    8038\n",
       "FuncDay_Yes           8038\n",
       "dtype: int64"
      ]
     },
     "execution_count": 34,
     "metadata": {},
     "output_type": "execute_result"
    }
   ],
   "source": [
    "x_train.count()"
   ]
  },
  {
   "cell_type": "code",
   "execution_count": 35,
   "metadata": {},
   "outputs": [
    {
     "data": {
      "text/plain": [
       "Count                 720\n",
       "Temperature           720\n",
       "Humidity              720\n",
       "WindSpeed             720\n",
       "Visibility            720\n",
       "Solar                 720\n",
       "Rainfall              720\n",
       "Snowfall              720\n",
       "Seasons_Spring        720\n",
       "Seasons_Summer        720\n",
       "Seasons_Winter        720\n",
       "Holiday_No Holiday    720\n",
       "FuncDay_Yes           720\n",
       "dtype: int64"
      ]
     },
     "execution_count": 35,
     "metadata": {},
     "output_type": "execute_result"
    }
   ],
   "source": [
    "x_val.count()"
   ]
  },
  {
   "cell_type": "markdown",
   "metadata": {
    "id": "MXUC5Yi3um81"
   },
   "source": [
    "### (7) Scaling"
   ]
  },
  {
   "cell_type": "markdown",
   "metadata": {
    "id": "BYr1vtpd8uw4"
   },
   "source": [
    "## 3.모델링\n",
    "* 배운 알고리즘을 적용하여 모델링을 수행하고 성능을 비교합니다."
   ]
  },
  {
   "cell_type": "code",
   "execution_count": 36,
   "metadata": {},
   "outputs": [],
   "source": [
    "# 모델링용\n",
    "from sklearn.linear_model import LinearRegression\n",
    "\n",
    "# 회귀모델 평가용\n",
    "from sklearn.metrics import r2_score, mean_squared_error, mean_absolute_error, mean_absolute_percentage_error"
   ]
  },
  {
   "cell_type": "markdown",
   "metadata": {
    "id": "Hzlv-Lz69vxg"
   },
   "source": [
    "### (1) 선형회귀"
   ]
  },
  {
   "cell_type": "code",
   "execution_count": 48,
   "metadata": {
    "id": "2dCyDgV5T-7D"
   },
   "outputs": [],
   "source": [
    "model1 = LinearRegression()\n",
    "model1.fit(x_train, y_train)\n",
    "pred1 = model1.predict(x_val)"
   ]
  },
  {
   "cell_type": "code",
   "execution_count": 49,
   "metadata": {},
   "outputs": [
    {
     "data": {
      "text/plain": [
       "(array([ 5.88067533e-01,  6.78640689e+00, -9.62383240e-01,  6.89614343e+00,\n",
       "        -6.64686637e-03,  1.59711988e+02, -1.25274246e+01,  9.88500506e+00,\n",
       "        -1.01055842e+02, -7.77682287e+01, -1.57672682e+02,  6.27350770e+01,\n",
       "         3.54827695e+02]),\n",
       " -149.70890265337925)"
      ]
     },
     "execution_count": 49,
     "metadata": {},
     "output_type": "execute_result"
    }
   ],
   "source": [
    "model1.coef_, model1.intercept_"
   ]
  },
  {
   "cell_type": "code",
   "execution_count": 50,
   "metadata": {
    "id": "I7zwA7qwT-3i"
   },
   "outputs": [],
   "source": [
    "features = ['Count']\n",
    "x_train2 = x_train[features]\n",
    "x_val2 = x_val[features]"
   ]
  },
  {
   "cell_type": "code",
   "execution_count": 54,
   "metadata": {
    "id": "TqRy6JYF9zMf"
   },
   "outputs": [],
   "source": [
    "model2 = LinearRegression()\n",
    "model2.fit(x_train2, y_train)\n",
    "pred2 = model2.predict(x_val2)"
   ]
  },
  {
   "cell_type": "code",
   "execution_count": 55,
   "metadata": {
    "id": "Tt_CsJ6T9zJY"
   },
   "outputs": [
    {
     "data": {
      "text/plain": [
       "(array([0.77072545]), 162.89792342304975)"
      ]
     },
     "execution_count": 55,
     "metadata": {},
     "output_type": "execute_result"
    }
   ],
   "source": [
    "model2.coef_, model2.intercept_"
   ]
  },
  {
   "cell_type": "code",
   "execution_count": 62,
   "metadata": {
    "id": "LdoPzeJv9zGU"
   },
   "outputs": [],
   "source": [
    "features = ['Humidity']\n",
    "x_train3 = x_train[features]\n",
    "x_val3 = x_val[features]"
   ]
  },
  {
   "cell_type": "code",
   "execution_count": 63,
   "metadata": {},
   "outputs": [],
   "source": [
    "model3 = LinearRegression()\n",
    "model3.fit(x_train3, y_train)\n",
    "pred3 = model3.predict(x_val3)"
   ]
  },
  {
   "cell_type": "code",
   "execution_count": 64,
   "metadata": {},
   "outputs": [
    {
     "data": {
      "text/plain": [
       "(array([-6.73923921]), 1102.5967404541402)"
      ]
     },
     "execution_count": 64,
     "metadata": {},
     "output_type": "execute_result"
    }
   ],
   "source": [
    "model3.coef_, model3.intercept_"
   ]
  },
  {
   "cell_type": "code",
   "execution_count": 66,
   "metadata": {},
   "outputs": [],
   "source": [
    "features = ['Temperature']\n",
    "x_train4 = x_train[features]\n",
    "x_val4 = x_val[features]"
   ]
  },
  {
   "cell_type": "code",
   "execution_count": 67,
   "metadata": {},
   "outputs": [],
   "source": [
    "model4 = LinearRegression()\n",
    "model4.fit(x_train4, y_train)\n",
    "pred4 = model4.predict(x_val4)"
   ]
  },
  {
   "cell_type": "code",
   "execution_count": 69,
   "metadata": {},
   "outputs": [],
   "source": [
    "df = pd.DataFrame(columns = ['model_no' , 'R^2 score', 'RMSE', 'RAPE', 'RAE'])\n",
    "\n",
    "pred = [pred1, pred2, pred3, pred4]\n",
    "\n",
    "for i in range(4):\n",
    "    df.loc[i] = [int(i)+1, r2_score(y_val, pred[i]), mean_squared_error( y_val   , pred[i]  , squared = False), mean_absolute_error(y_val   , pred[i]   ), mean_absolute_percentage_error(y_val   , pred[i]   )]"
   ]
  },
  {
   "cell_type": "code",
   "execution_count": 71,
   "metadata": {},
   "outputs": [
    {
     "data": {
      "text/html": [
       "<div>\n",
       "<style scoped>\n",
       "    .dataframe tbody tr th:only-of-type {\n",
       "        vertical-align: middle;\n",
       "    }\n",
       "\n",
       "    .dataframe tbody tr th {\n",
       "        vertical-align: top;\n",
       "    }\n",
       "\n",
       "    .dataframe thead th {\n",
       "        text-align: right;\n",
       "    }\n",
       "</style>\n",
       "<table border=\"1\" class=\"dataframe\">\n",
       "  <thead>\n",
       "    <tr style=\"text-align: right;\">\n",
       "      <th></th>\n",
       "      <th>model_no</th>\n",
       "      <th>R^2 score</th>\n",
       "      <th>RMSE</th>\n",
       "      <th>RAPE</th>\n",
       "      <th>RAE</th>\n",
       "    </tr>\n",
       "  </thead>\n",
       "  <tbody>\n",
       "    <tr>\n",
       "      <th>0</th>\n",
       "      <td>1</td>\n",
       "      <td>0.473325</td>\n",
       "      <td>350.455527</td>\n",
       "      <td>243.513574</td>\n",
       "      <td>7.456336e+16</td>\n",
       "    </tr>\n",
       "    <tr>\n",
       "      <th>1</th>\n",
       "      <td>2</td>\n",
       "      <td>0.377361</td>\n",
       "      <td>381.048157</td>\n",
       "      <td>269.790127</td>\n",
       "      <td>9.284391e+16</td>\n",
       "    </tr>\n",
       "    <tr>\n",
       "      <th>2</th>\n",
       "      <td>3</td>\n",
       "      <td>0.114663</td>\n",
       "      <td>454.376740</td>\n",
       "      <td>364.238857</td>\n",
       "      <td>2.957441e+17</td>\n",
       "    </tr>\n",
       "    <tr>\n",
       "      <th>3</th>\n",
       "      <td>4</td>\n",
       "      <td>-0.003862</td>\n",
       "      <td>483.836571</td>\n",
       "      <td>383.360028</td>\n",
       "      <td>2.990033e+17</td>\n",
       "    </tr>\n",
       "  </tbody>\n",
       "</table>\n",
       "</div>"
      ],
      "text/plain": [
       "   model_no  R^2 score        RMSE        RAPE           RAE\n",
       "0         1   0.473325  350.455527  243.513574  7.456336e+16\n",
       "1         2   0.377361  381.048157  269.790127  9.284391e+16\n",
       "2         3   0.114663  454.376740  364.238857  2.957441e+17\n",
       "3         4  -0.003862  483.836571  383.360028  2.990033e+17"
      ]
     },
     "execution_count": 71,
     "metadata": {},
     "output_type": "execute_result"
    }
   ],
   "source": [
    "df = df.astype({'model_no' : int})\n",
    "df"
   ]
  },
  {
   "cell_type": "markdown",
   "metadata": {
    "id": "-pQeheK29zyf"
   },
   "source": [
    "### (2) KNN"
   ]
  },
  {
   "cell_type": "code",
   "execution_count": 1,
   "metadata": {
    "id": "6R_IYCt191Rs"
   },
   "outputs": [],
   "source": [
    "from sklearn.neighbors import KNeighborsRegressor"
   ]
  },
  {
   "cell_type": "code",
   "execution_count": null,
   "metadata": {
    "id": "Fqw8rhdU92gM"
   },
   "outputs": [],
   "source": []
  },
  {
   "cell_type": "code",
   "execution_count": null,
   "metadata": {
    "id": "KP1zrHxr92gM"
   },
   "outputs": [],
   "source": []
  },
  {
   "cell_type": "code",
   "execution_count": null,
   "metadata": {
    "id": "4oUS_S8i92gM"
   },
   "outputs": [],
   "source": []
  },
  {
   "cell_type": "markdown",
   "metadata": {
    "id": "I1UJt88093lc"
   },
   "source": [
    "### (3) Decision Tree"
   ]
  },
  {
   "cell_type": "code",
   "execution_count": null,
   "metadata": {
    "id": "SqztoUL793ld"
   },
   "outputs": [],
   "source": []
  },
  {
   "cell_type": "code",
   "execution_count": null,
   "metadata": {
    "id": "xlBWNesJ93le"
   },
   "outputs": [],
   "source": []
  },
  {
   "cell_type": "code",
   "execution_count": null,
   "metadata": {
    "id": "jWTYgWlU93le"
   },
   "outputs": [],
   "source": []
  },
  {
   "cell_type": "code",
   "execution_count": null,
   "metadata": {
    "id": "C3_GltND93le"
   },
   "outputs": [],
   "source": []
  },
  {
   "cell_type": "markdown",
   "metadata": {
    "id": "uM5e7Fsx93w5"
   },
   "source": [
    "### (4) SVM\n",
    "* svm은 모델링 시간이 오래 걸립니다."
   ]
  },
  {
   "cell_type": "code",
   "execution_count": null,
   "metadata": {
    "id": "Eeby65ih93w6"
   },
   "outputs": [],
   "source": []
  },
  {
   "cell_type": "code",
   "execution_count": null,
   "metadata": {
    "id": "-swDU9_K93w6"
   },
   "outputs": [],
   "source": []
  },
  {
   "cell_type": "code",
   "execution_count": null,
   "metadata": {
    "id": "qH4Jx58593w6"
   },
   "outputs": [],
   "source": []
  },
  {
   "cell_type": "code",
   "execution_count": null,
   "metadata": {
    "id": "5wDw5bN093w6"
   },
   "outputs": [],
   "source": []
  },
  {
   "cell_type": "markdown",
   "metadata": {
    "id": "joWp2zqv934m"
   },
   "source": [
    "### (5) Random Forest"
   ]
  },
  {
   "cell_type": "code",
   "execution_count": null,
   "metadata": {
    "id": "RrO0F3uT934n"
   },
   "outputs": [],
   "source": []
  },
  {
   "cell_type": "code",
   "execution_count": null,
   "metadata": {
    "id": "8uqGRT6c934o"
   },
   "outputs": [],
   "source": []
  },
  {
   "cell_type": "code",
   "execution_count": null,
   "metadata": {
    "id": "oKm_jqEi934p"
   },
   "outputs": [],
   "source": []
  },
  {
   "cell_type": "code",
   "execution_count": null,
   "metadata": {
    "id": "1nhQL2eZ934p"
   },
   "outputs": [],
   "source": []
  },
  {
   "cell_type": "markdown",
   "metadata": {
    "id": "vubu1Htf-GdY"
   },
   "source": [
    "### (6) XGB"
   ]
  },
  {
   "cell_type": "code",
   "execution_count": null,
   "metadata": {
    "id": "NPC4WDGc-GdZ"
   },
   "outputs": [],
   "source": []
  },
  {
   "cell_type": "code",
   "execution_count": null,
   "metadata": {
    "id": "9ruurfMv-Gda"
   },
   "outputs": [],
   "source": []
  },
  {
   "cell_type": "code",
   "execution_count": null,
   "metadata": {
    "id": "8N6kz5lB-Gda"
   },
   "outputs": [],
   "source": []
  },
  {
   "cell_type": "code",
   "execution_count": null,
   "metadata": {
    "id": "wv3p1eVq-Gda"
   },
   "outputs": [],
   "source": []
  },
  {
   "cell_type": "markdown",
   "metadata": {
    "id": "YZ_gGPqK-Jw0"
   },
   "source": [
    "### (7) SARIMAX"
   ]
  },
  {
   "cell_type": "code",
   "execution_count": null,
   "metadata": {
    "id": "Ix_xsSLv-Jw1"
   },
   "outputs": [],
   "source": []
  },
  {
   "cell_type": "code",
   "execution_count": null,
   "metadata": {
    "id": "CNZjAf5r-Jw1"
   },
   "outputs": [],
   "source": []
  },
  {
   "cell_type": "code",
   "execution_count": null,
   "metadata": {
    "id": "jiSMlPWT-Jw1"
   },
   "outputs": [],
   "source": []
  },
  {
   "cell_type": "code",
   "execution_count": null,
   "metadata": {
    "id": "7SkTxQJ8-Jw1"
   },
   "outputs": [],
   "source": []
  },
  {
   "cell_type": "markdown",
   "metadata": {
    "id": "_e288cfp_zKW"
   },
   "source": [
    "### (8) Deep Learning\n",
    "* 딥러닝 모델링은 이번 머신러닝 과정 안에 포함되지 않습니다. 추후에 배우신 다음에 시도해보세요.\n",
    "* 시도해볼 만한 방식\n",
    "    * DNN\n",
    "    * CNN(Conv1d)\n",
    "    * RNN(LSTM)"
   ]
  },
  {
   "cell_type": "code",
   "execution_count": null,
   "metadata": {
    "id": "PAD3QVIt_zKm"
   },
   "outputs": [],
   "source": []
  },
  {
   "cell_type": "code",
   "execution_count": null,
   "metadata": {
    "id": "SwyLjcst_zKm"
   },
   "outputs": [],
   "source": []
  },
  {
   "cell_type": "code",
   "execution_count": null,
   "metadata": {
    "id": "pAsQRYAG_zKn"
   },
   "outputs": [],
   "source": []
  },
  {
   "cell_type": "code",
   "execution_count": null,
   "metadata": {
    "id": "kBhLK3YV_zKn"
   },
   "outputs": [],
   "source": []
  },
  {
   "cell_type": "markdown",
   "metadata": {
    "id": "AXiP9FABBrNg"
   },
   "source": [
    "### (9) 그외 추가 알고리즘"
   ]
  },
  {
   "cell_type": "code",
   "execution_count": null,
   "metadata": {
    "id": "nO5NGZvZBrNh"
   },
   "outputs": [],
   "source": []
  },
  {
   "cell_type": "code",
   "execution_count": null,
   "metadata": {
    "id": "oFKgNLZ0BrNh"
   },
   "outputs": [],
   "source": []
  },
  {
   "cell_type": "code",
   "execution_count": null,
   "metadata": {
    "id": "mtakb-AWBrNh"
   },
   "outputs": [],
   "source": []
  },
  {
   "cell_type": "code",
   "execution_count": null,
   "metadata": {
    "id": "opOftd3YBrNh"
   },
   "outputs": [],
   "source": []
  }
 ],
 "metadata": {
  "colab": {
   "collapsed_sections": [],
   "name": "[추가1]복습문제_따릉이.ipynb",
   "provenance": []
  },
  "kernelspec": {
   "display_name": "Python 3 (ipykernel)",
   "language": "python",
   "name": "python3"
  },
  "language_info": {
   "codemirror_mode": {
    "name": "ipython",
    "version": 3
   },
   "file_extension": ".py",
   "mimetype": "text/x-python",
   "name": "python",
   "nbconvert_exporter": "python",
   "pygments_lexer": "ipython3",
   "version": "3.9.7"
  }
 },
 "nbformat": 4,
 "nbformat_minor": 4
}
