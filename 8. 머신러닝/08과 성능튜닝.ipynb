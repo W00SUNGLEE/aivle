{
 "cells": [
  {
   "cell_type": "markdown",
   "metadata": {
    "id": "cVB9pY-v8uv5"
   },
   "source": [
    "# 성능튜닝"
   ]
  },
  {
   "cell_type": "markdown",
   "metadata": {
    "id": "O1uL0UIEzBPw"
   },
   "source": [
    "## 1.환경준비"
   ]
  },
  {
   "cell_type": "markdown",
   "metadata": {
    "id": "vNt997De17qz"
   },
   "source": [
    "### (1) import"
   ]
  },
  {
   "cell_type": "code",
   "execution_count": 1,
   "metadata": {
    "id": "GugpCLBiVHzd"
   },
   "outputs": [],
   "source": [
    "#라이브러리들을 불러오자.\n",
    "import numpy as np\n",
    "import pandas as pd\n",
    "import matplotlib.pyplot as plt\n",
    "import seaborn as sns\n",
    "\n",
    "# 전처리\n",
    "from sklearn.model_selection import train_test_split\n",
    "from sklearn.preprocessing import MinMaxScaler\n",
    "\n",
    "# 모델링\n",
    "from sklearn.linear_model import LogisticRegression\n",
    "from sklearn.tree import DecisionTreeClassifier, plot_tree\n",
    "from sklearn.neighbors import KNeighborsClassifier\n",
    "from sklearn.svm import SVC\n",
    "from sklearn.metrics import * \n",
    "\n",
    "import warnings    # 경고메시지 제외\n",
    "warnings.filterwarnings(action='ignore')"
   ]
  },
  {
   "cell_type": "markdown",
   "metadata": {
    "id": "CG-FeAY4f25C"
   },
   "source": [
    "### (2) 데이터 준비"
   ]
  },
  {
   "cell_type": "markdown",
   "metadata": {
    "id": "LBOR4ttK_6JA"
   },
   "source": [
    "* 변수설명\n",
    "    * COLLEGE : 대학 졸업여부\n",
    "    * INCOME : 연수입\n",
    "    * OVERAGE : 월평균 초과사용 시간(분)\n",
    "    * LEFTOVER : 월평균 잔여시간비율(%)\n",
    "    * HOUSE : 집값\n",
    "    * HANDSET_PRICE : 스마트폰 가격\n",
    "    * OVER_15MINS_CALLS_PER_MONTH : 월평균 장기통화(15분이상) 횟수\n",
    "    * AVERAGE_CALL_DURATION : 평균 통화 시간\n",
    "    * REPORTED_SATISFACTION : 만족도 설문조사 결과\n",
    "    * REPORTED_USAGE_LEVEL : 사용도 자가진단 결과\n",
    "    * CONSIDERING_CHANGE_OF_PLAN : 향후 변경계획 설문조사 결과\n",
    "    * CHURN : 이탈(번호이동) 여부 (1-이탈, 0-잔류, Target 변수)\n"
   ]
  },
  {
   "cell_type": "code",
   "execution_count": 2,
   "metadata": {
    "id": "pl1Ar13F_6JB"
   },
   "outputs": [
    {
     "data": {
      "text/html": [
       "<div>\n",
       "<style scoped>\n",
       "    .dataframe tbody tr th:only-of-type {\n",
       "        vertical-align: middle;\n",
       "    }\n",
       "\n",
       "    .dataframe tbody tr th {\n",
       "        vertical-align: top;\n",
       "    }\n",
       "\n",
       "    .dataframe thead th {\n",
       "        text-align: right;\n",
       "    }\n",
       "</style>\n",
       "<table border=\"1\" class=\"dataframe\">\n",
       "  <thead>\n",
       "    <tr style=\"text-align: right;\">\n",
       "      <th></th>\n",
       "      <th>id</th>\n",
       "      <th>COLLEGE</th>\n",
       "      <th>INCOME</th>\n",
       "      <th>OVERAGE</th>\n",
       "      <th>LEFTOVER</th>\n",
       "      <th>HOUSE</th>\n",
       "      <th>HANDSET_PRICE</th>\n",
       "      <th>OVER_15MINS_CALLS_PER_MONTH</th>\n",
       "      <th>AVERAGE_CALL_DURATION</th>\n",
       "      <th>REPORTED_SATISFACTION</th>\n",
       "      <th>REPORTED_USAGE_LEVEL</th>\n",
       "      <th>CONSIDERING_CHANGE_OF_PLAN</th>\n",
       "      <th>CHURN</th>\n",
       "    </tr>\n",
       "  </thead>\n",
       "  <tbody>\n",
       "    <tr>\n",
       "      <th>3178</th>\n",
       "      <td>3179</td>\n",
       "      <td>0</td>\n",
       "      <td>119512</td>\n",
       "      <td>51</td>\n",
       "      <td>31</td>\n",
       "      <td>248566</td>\n",
       "      <td>229</td>\n",
       "      <td>5</td>\n",
       "      <td>2</td>\n",
       "      <td>very_sat</td>\n",
       "      <td>very_high</td>\n",
       "      <td>considering</td>\n",
       "      <td>1</td>\n",
       "    </tr>\n",
       "    <tr>\n",
       "      <th>14926</th>\n",
       "      <td>14927</td>\n",
       "      <td>1</td>\n",
       "      <td>142144</td>\n",
       "      <td>192</td>\n",
       "      <td>15</td>\n",
       "      <td>774317</td>\n",
       "      <td>581</td>\n",
       "      <td>29</td>\n",
       "      <td>4</td>\n",
       "      <td>unsat</td>\n",
       "      <td>very_little</td>\n",
       "      <td>never_thought</td>\n",
       "      <td>1</td>\n",
       "    </tr>\n",
       "    <tr>\n",
       "      <th>15116</th>\n",
       "      <td>15117</td>\n",
       "      <td>1</td>\n",
       "      <td>142308</td>\n",
       "      <td>0</td>\n",
       "      <td>79</td>\n",
       "      <td>306426</td>\n",
       "      <td>497</td>\n",
       "      <td>1</td>\n",
       "      <td>1</td>\n",
       "      <td>sat</td>\n",
       "      <td>little</td>\n",
       "      <td>considering</td>\n",
       "      <td>0</td>\n",
       "    </tr>\n",
       "    <tr>\n",
       "      <th>12733</th>\n",
       "      <td>12734</td>\n",
       "      <td>1</td>\n",
       "      <td>113385</td>\n",
       "      <td>0</td>\n",
       "      <td>0</td>\n",
       "      <td>333599</td>\n",
       "      <td>819</td>\n",
       "      <td>1</td>\n",
       "      <td>6</td>\n",
       "      <td>very_unsat</td>\n",
       "      <td>very_high</td>\n",
       "      <td>considering</td>\n",
       "      <td>1</td>\n",
       "    </tr>\n",
       "    <tr>\n",
       "      <th>14032</th>\n",
       "      <td>14033</td>\n",
       "      <td>1</td>\n",
       "      <td>90348</td>\n",
       "      <td>209</td>\n",
       "      <td>10</td>\n",
       "      <td>637286</td>\n",
       "      <td>360</td>\n",
       "      <td>26</td>\n",
       "      <td>4</td>\n",
       "      <td>unsat</td>\n",
       "      <td>little</td>\n",
       "      <td>actively_looking_into_it</td>\n",
       "      <td>0</td>\n",
       "    </tr>\n",
       "  </tbody>\n",
       "</table>\n",
       "</div>"
      ],
      "text/plain": [
       "          id  COLLEGE  INCOME  OVERAGE  LEFTOVER   HOUSE  HANDSET_PRICE  \\\n",
       "3178    3179        0  119512       51        31  248566            229   \n",
       "14926  14927        1  142144      192        15  774317            581   \n",
       "15116  15117        1  142308        0        79  306426            497   \n",
       "12733  12734        1  113385        0         0  333599            819   \n",
       "14032  14033        1   90348      209        10  637286            360   \n",
       "\n",
       "       OVER_15MINS_CALLS_PER_MONTH  AVERAGE_CALL_DURATION  \\\n",
       "3178                             5                      2   \n",
       "14926                           29                      4   \n",
       "15116                            1                      1   \n",
       "12733                            1                      6   \n",
       "14032                           26                      4   \n",
       "\n",
       "      REPORTED_SATISFACTION REPORTED_USAGE_LEVEL CONSIDERING_CHANGE_OF_PLAN  \\\n",
       "3178               very_sat            very_high                considering   \n",
       "14926                 unsat          very_little              never_thought   \n",
       "15116                   sat               little                considering   \n",
       "12733            very_unsat            very_high                considering   \n",
       "14032                 unsat               little   actively_looking_into_it   \n",
       "\n",
       "       CHURN  \n",
       "3178       1  \n",
       "14926      1  \n",
       "15116      0  \n",
       "12733      1  \n",
       "14032      0  "
      ]
     },
     "execution_count": 2,
     "metadata": {},
     "output_type": "execute_result"
    }
   ],
   "source": [
    "# 데이터를 불러옵시다.\n",
    "path = 'https://raw.githubusercontent.com/DA4BAM/dataset/master/mobile_cust_churn.csv'\n",
    "data = pd.read_csv(path)\n",
    "data = data.sample(5000, random_state = 2022)\n",
    "data['CHURN'] = data['CHURN'].map({'LEAVE':1, 'STAY':0})\n",
    "# sklearn 에서는 y를 가변수화 할 필요 없다.\n",
    "# statsmodels, 에서는 반드시 y를 가변수화 해야한다.\n",
    "data.head()"
   ]
  },
  {
   "cell_type": "markdown",
   "metadata": {
    "id": "wW0d0eGmCYJM"
   },
   "source": [
    "## 2.데이터 준비"
   ]
  },
  {
   "cell_type": "markdown",
   "metadata": {
    "id": "y9Q6jR6OZjUk"
   },
   "source": [
    "### (1) 데이터 정리"
   ]
  },
  {
   "cell_type": "code",
   "execution_count": 3,
   "metadata": {
    "id": "Dhi6-3jgrEgQ"
   },
   "outputs": [],
   "source": [
    "drop_cols = ['id']\n",
    "data.drop(drop_cols, axis = 1, inplace = True )"
   ]
  },
  {
   "cell_type": "markdown",
   "metadata": {
    "id": "WpJEGpUuuVWm"
   },
   "source": [
    "### (2) 데이터분할1 : x, y 나누기"
   ]
  },
  {
   "cell_type": "code",
   "execution_count": 4,
   "metadata": {
    "id": "3u8-Ovu4ADVn"
   },
   "outputs": [],
   "source": [
    "target = 'CHURN'\n",
    "x = data.drop(target, axis = 1)\n",
    "y = data.loc[:, target]"
   ]
  },
  {
   "cell_type": "markdown",
   "metadata": {
    "id": "mp_5volyuaA1"
   },
   "source": [
    "### (3) NA 조치"
   ]
  },
  {
   "cell_type": "markdown",
   "metadata": {
    "id": "nOF9fSLQugGf"
   },
   "source": [
    "### (4) 가변수화"
   ]
  },
  {
   "cell_type": "code",
   "execution_count": 5,
   "metadata": {
    "id": "CZgBC2QSoKc8"
   },
   "outputs": [],
   "source": [
    "dumm_cols = ['REPORTED_SATISFACTION','REPORTED_USAGE_LEVEL','CONSIDERING_CHANGE_OF_PLAN']\n",
    "x = pd.get_dummies(x, columns = dumm_cols, drop_first = True)"
   ]
  },
  {
   "cell_type": "markdown",
   "metadata": {
    "id": "VBwpOKgkf5Am"
   },
   "source": [
    "### (5) 데이터분할2 : train : validation 나누기"
   ]
  },
  {
   "cell_type": "code",
   "execution_count": 6,
   "metadata": {
    "id": "1iHmTnHCgBw5"
   },
   "outputs": [],
   "source": [
    "x_train, x_val, y_train, y_val = train_test_split(x, y, test_size = .3, random_state = 20)"
   ]
  },
  {
   "cell_type": "markdown",
   "metadata": {
    "id": "59bBv0a8heYh"
   },
   "source": [
    "### (6) Scaling"
   ]
  },
  {
   "cell_type": "code",
   "execution_count": 7,
   "metadata": {
    "id": "vA28buJg9GpV"
   },
   "outputs": [],
   "source": [
    "scaler = MinMaxScaler()\n",
    "x_train_s = scaler.fit_transform(x_train)\n",
    "x_val_s = scaler.transform(x_val)"
   ]
  },
  {
   "cell_type": "markdown",
   "metadata": {
    "id": "Db2kkXxgf25E"
   },
   "source": [
    "## 3.선형모델 튜닝\n",
    "\n",
    "Logistic Regression : 전진선택법\n",
    "* 변수를 하나씩 늘려가면서\n",
    "* AIC를 가장 낮추는 모델 찾기"
   ]
  },
  {
   "cell_type": "markdown",
   "metadata": {
    "id": "IUfTRB1AZnKM"
   },
   "source": [
    "### (1) 전진선택을 수행할 함수 만들기( **로지스틱 회귀** 용)"
   ]
  },
  {
   "cell_type": "code",
   "execution_count": 8,
   "metadata": {
    "id": "JtuIPRybXPKE"
   },
   "outputs": [],
   "source": [
    "# 아래 함수는 로지스틱 회귀를 위한 전진선택법 함수 입니다.\n",
    "import statsmodels.api as sm\n",
    "\n",
    "def forward_stepwise_logistic(x_train, y_train):\n",
    "\n",
    "    # 변수목록, 선택된 변수 목록, 단계별 모델과 AIC 저장소 정의\n",
    "    features = list(x_train)\n",
    "    selected = []\n",
    "    step_df = pd.DataFrame({ 'step':[], 'feature':[],'aic':[]})\n",
    "\n",
    "    # \n",
    "    for s in range(0, len(features)) :\n",
    "        result =  { 'step':[], 'feature':[],'aic':[]}\n",
    "\n",
    "        # 변수 목록에서 변수 한개씩 뽑아서 모델에 추가\n",
    "        for f in features :\n",
    "            vars = selected + [f]\n",
    "            x_tr = x_train[vars]\n",
    "            model = sm.Logit(y_train, x_tr).fit()\n",
    "            result['step'].append(s+1)\n",
    "            result['feature'].append(vars)\n",
    "            result['aic'].append(model.aic)\n",
    "        \n",
    "        # 모델별 aic 집계\n",
    "        temp = pd.DataFrame(result).sort_values('aic').reset_index(drop = True)\n",
    "\n",
    "        # 만약 이전 aic보다 새로운 aic 가 크다면 멈추기\n",
    "        if step_df['aic'].min() < temp['aic'].min() :\n",
    "            break\n",
    "        step_df = pd.concat([step_df, temp], axis = 0).reset_index(drop = True)\n",
    "\n",
    "        # 선택된 변수 제거\n",
    "        v = temp.loc[0,'feature'][s]\n",
    "        features.remove(v)\n",
    "\n",
    "        selected.append(v)\n",
    "    \n",
    "    # 선택된 변수와 step_df 결과 반환\n",
    "    return selected, step_df"
   ]
  },
  {
   "cell_type": "markdown",
   "metadata": {
    "id": "vp6_CDIvaJ8I"
   },
   "source": [
    "### (2) 전진선택법 수행"
   ]
  },
  {
   "cell_type": "code",
   "execution_count": 9,
   "metadata": {
    "id": "X2_UhsQ0f25E"
   },
   "outputs": [
    {
     "name": "stdout",
     "output_type": "stream",
     "text": [
      "Optimization terminated successfully.\n",
      "         Current function value: 0.693075\n",
      "         Iterations 3\n",
      "Optimization terminated successfully.\n",
      "         Current function value: 0.693062\n",
      "         Iterations 2\n",
      "Optimization terminated successfully.\n",
      "         Current function value: 0.683528\n",
      "         Iterations 4\n",
      "Optimization terminated successfully.\n",
      "         Current function value: 0.693007\n",
      "         Iterations 3\n",
      "Optimization terminated successfully.\n",
      "         Current function value: 0.684909\n",
      "         Iterations 2\n",
      "Optimization terminated successfully.\n",
      "         Current function value: 0.693042\n",
      "         Iterations 2\n",
      "Optimization terminated successfully.\n",
      "         Current function value: 0.686899\n",
      "         Iterations 4\n",
      "Optimization terminated successfully.\n",
      "         Current function value: 0.692565\n",
      "         Iterations 3\n",
      "Optimization terminated successfully.\n",
      "         Current function value: 0.692806\n",
      "         Iterations 4\n",
      "Optimization terminated successfully.\n",
      "         Current function value: 0.693137\n",
      "         Iterations 3\n",
      "Optimization terminated successfully.\n",
      "         Current function value: 0.691866\n",
      "         Iterations 4\n",
      "Optimization terminated successfully.\n",
      "         Current function value: 0.693146\n",
      "         Iterations 2\n",
      "Optimization terminated successfully.\n",
      "         Current function value: 0.693147\n",
      "         Iterations 1\n",
      "Optimization terminated successfully.\n",
      "         Current function value: 0.693015\n",
      "         Iterations 3\n",
      "Optimization terminated successfully.\n",
      "         Current function value: 0.692965\n",
      "         Iterations 3\n",
      "Optimization terminated successfully.\n",
      "         Current function value: 0.692882\n",
      "         Iterations 3\n",
      "Optimization terminated successfully.\n",
      "         Current function value: 0.692579\n",
      "         Iterations 3\n",
      "Optimization terminated successfully.\n",
      "         Current function value: 0.693046\n",
      "         Iterations 3\n",
      "Optimization terminated successfully.\n",
      "         Current function value: 0.693080\n",
      "         Iterations 3\n",
      "Optimization terminated successfully.\n",
      "         Current function value: 0.693058\n",
      "         Iterations 3\n",
      "Optimization terminated successfully.\n",
      "         Current function value: 0.679039\n",
      "         Iterations 4\n",
      "Optimization terminated successfully.\n",
      "         Current function value: 0.679064\n",
      "         Iterations 4\n",
      "Optimization terminated successfully.\n",
      "         Current function value: 0.682035\n",
      "         Iterations 4\n",
      "Optimization terminated successfully.\n",
      "         Current function value: 0.643056\n",
      "         Iterations 4\n",
      "Optimization terminated successfully.\n",
      "         Current function value: 0.679443\n",
      "         Iterations 4\n",
      "Optimization terminated successfully.\n",
      "         Current function value: 0.683317\n",
      "         Iterations 4\n",
      "Optimization terminated successfully.\n",
      "         Current function value: 0.674460\n",
      "         Iterations 4\n",
      "Optimization terminated successfully.\n",
      "         Current function value: 0.682313\n",
      "         Iterations 4\n",
      "Optimization terminated successfully.\n",
      "         Current function value: 0.682292\n",
      "         Iterations 4\n",
      "Optimization terminated successfully.\n",
      "         Current function value: 0.678103\n",
      "         Iterations 4\n",
      "Optimization terminated successfully.\n",
      "         Current function value: 0.680840\n",
      "         Iterations 4\n",
      "Optimization terminated successfully.\n",
      "         Current function value: 0.683068\n",
      "         Iterations 4\n",
      "Optimization terminated successfully.\n",
      "         Current function value: 0.679251\n",
      "         Iterations 4\n",
      "Optimization terminated successfully.\n",
      "         Current function value: 0.680933\n",
      "         Iterations 4\n",
      "Optimization terminated successfully.\n",
      "         Current function value: 0.681200\n",
      "         Iterations 4\n",
      "Optimization terminated successfully.\n",
      "         Current function value: 0.677933\n",
      "         Iterations 4\n",
      "Optimization terminated successfully.\n",
      "         Current function value: 0.682371\n",
      "         Iterations 4\n",
      "Optimization terminated successfully.\n",
      "         Current function value: 0.682062\n",
      "         Iterations 4\n",
      "Optimization terminated successfully.\n",
      "         Current function value: 0.682863\n",
      "         Iterations 4\n",
      "Optimization terminated successfully.\n",
      "         Current function value: 0.642039\n",
      "         Iterations 5\n",
      "Optimization terminated successfully.\n",
      "         Current function value: 0.635596\n",
      "         Iterations 4\n",
      "Optimization terminated successfully.\n",
      "         Current function value: 0.639711\n",
      "         Iterations 4\n",
      "Optimization terminated successfully.\n",
      "         Current function value: 0.635522\n",
      "         Iterations 4\n",
      "Optimization terminated successfully.\n",
      "         Current function value: 0.642894\n",
      "         Iterations 4\n",
      "Optimization terminated successfully.\n",
      "         Current function value: 0.642569\n",
      "         Iterations 5\n",
      "Optimization terminated successfully.\n",
      "         Current function value: 0.642966\n",
      "         Iterations 5\n",
      "Optimization terminated successfully.\n",
      "         Current function value: 0.642830\n",
      "         Iterations 5\n",
      "Optimization terminated successfully.\n",
      "         Current function value: 0.642966\n",
      "         Iterations 5\n",
      "Optimization terminated successfully.\n",
      "         Current function value: 0.641766\n",
      "         Iterations 5\n",
      "Optimization terminated successfully.\n",
      "         Current function value: 0.642866\n",
      "         Iterations 5\n",
      "Optimization terminated successfully.\n",
      "         Current function value: 0.642929\n",
      "         Iterations 5\n",
      "Optimization terminated successfully.\n",
      "         Current function value: 0.642750\n",
      "         Iterations 5\n",
      "Optimization terminated successfully.\n",
      "         Current function value: 0.642940\n",
      "         Iterations 5\n",
      "Optimization terminated successfully.\n",
      "         Current function value: 0.643014\n",
      "         Iterations 5\n",
      "Optimization terminated successfully.\n",
      "         Current function value: 0.643051\n",
      "         Iterations 5\n",
      "Optimization terminated successfully.\n",
      "         Current function value: 0.642672\n",
      "         Iterations 5\n",
      "Optimization terminated successfully.\n",
      "         Current function value: 0.643053\n",
      "         Iterations 5\n",
      "Optimization terminated successfully.\n",
      "         Current function value: 0.635399\n",
      "         Iterations 5\n",
      "Optimization terminated successfully.\n",
      "         Current function value: 0.634914\n",
      "         Iterations 4\n",
      "Optimization terminated successfully.\n",
      "         Current function value: 0.633893\n",
      "         Iterations 5\n",
      "Optimization terminated successfully.\n",
      "         Current function value: 0.635419\n",
      "         Iterations 4\n",
      "Optimization terminated successfully.\n",
      "         Current function value: 0.635464\n",
      "         Iterations 4\n",
      "Optimization terminated successfully.\n",
      "         Current function value: 0.635187\n",
      "         Iterations 5\n",
      "Optimization terminated successfully.\n",
      "         Current function value: 0.635504\n",
      "         Iterations 5\n",
      "Optimization terminated successfully.\n",
      "         Current function value: 0.634933\n",
      "         Iterations 5\n",
      "Optimization terminated successfully.\n",
      "         Current function value: 0.635116\n",
      "         Iterations 5\n",
      "Optimization terminated successfully.\n",
      "         Current function value: 0.635470\n",
      "         Iterations 4\n",
      "Optimization terminated successfully.\n",
      "         Current function value: 0.635439\n",
      "         Iterations 5\n",
      "Optimization terminated successfully.\n",
      "         Current function value: 0.635494\n",
      "         Iterations 5\n",
      "Optimization terminated successfully.\n",
      "         Current function value: 0.635521\n",
      "         Iterations 5\n",
      "Optimization terminated successfully.\n",
      "         Current function value: 0.635391\n",
      "         Iterations 5\n",
      "Optimization terminated successfully.\n",
      "         Current function value: 0.635503\n",
      "         Iterations 5\n",
      "Optimization terminated successfully.\n",
      "         Current function value: 0.635451\n",
      "         Iterations 5\n",
      "Optimization terminated successfully.\n",
      "         Current function value: 0.635483\n",
      "         Iterations 5\n",
      "Optimization terminated successfully.\n",
      "         Current function value: 0.633842\n",
      "         Iterations 5\n",
      "Optimization terminated successfully.\n",
      "         Current function value: 0.633406\n",
      "         Iterations 5\n",
      "Optimization terminated successfully.\n",
      "         Current function value: 0.633794\n",
      "         Iterations 5\n",
      "Optimization terminated successfully.\n",
      "         Current function value: 0.633753\n",
      "         Iterations 5\n",
      "Optimization terminated successfully.\n",
      "         Current function value: 0.633538\n",
      "         Iterations 5\n",
      "Optimization terminated successfully.\n",
      "         Current function value: 0.633890\n",
      "         Iterations 5\n",
      "Optimization terminated successfully.\n",
      "         Current function value: 0.633194\n",
      "         Iterations 5\n",
      "Optimization terminated successfully.\n",
      "         Current function value: 0.633579\n",
      "         Iterations 5\n",
      "Optimization terminated successfully.\n",
      "         Current function value: 0.633861\n",
      "         Iterations 5\n",
      "Optimization terminated successfully.\n",
      "         Current function value: 0.633765\n",
      "         Iterations 5\n",
      "Optimization terminated successfully.\n",
      "         Current function value: 0.633884\n",
      "         Iterations 5\n",
      "Optimization terminated successfully.\n",
      "         Current function value: 0.633888\n",
      "         Iterations 5\n",
      "Optimization terminated successfully.\n",
      "         Current function value: 0.633674\n",
      "         Iterations 5\n",
      "Optimization terminated successfully.\n",
      "         Current function value: 0.633874\n",
      "         Iterations 5\n",
      "Optimization terminated successfully.\n",
      "         Current function value: 0.633866\n",
      "         Iterations 5\n",
      "Optimization terminated successfully.\n",
      "         Current function value: 0.633847\n",
      "         Iterations 5\n",
      "Optimization terminated successfully.\n",
      "         Current function value: 0.633112\n",
      "         Iterations 5\n",
      "Optimization terminated successfully.\n",
      "         Current function value: 0.632641\n",
      "         Iterations 5\n",
      "Optimization terminated successfully.\n",
      "         Current function value: 0.633102\n",
      "         Iterations 5\n",
      "Optimization terminated successfully.\n",
      "         Current function value: 0.632954\n",
      "         Iterations 5\n",
      "Optimization terminated successfully.\n",
      "         Current function value: 0.632697\n",
      "         Iterations 5\n",
      "Optimization terminated successfully.\n",
      "         Current function value: 0.633174\n",
      "         Iterations 5\n",
      "Optimization terminated successfully.\n",
      "         Current function value: 0.633137\n",
      "         Iterations 5\n",
      "Optimization terminated successfully.\n",
      "         Current function value: 0.633162\n",
      "         Iterations 5\n",
      "Optimization terminated successfully.\n",
      "         Current function value: 0.633092\n",
      "         Iterations 5\n",
      "Optimization terminated successfully.\n",
      "         Current function value: 0.633175\n",
      "         Iterations 5\n",
      "Optimization terminated successfully.\n",
      "         Current function value: 0.633193\n",
      "         Iterations 5\n",
      "Optimization terminated successfully.\n",
      "         Current function value: 0.633016\n",
      "         Iterations 5\n",
      "Optimization terminated successfully.\n",
      "         Current function value: 0.633178\n",
      "         Iterations 5\n",
      "Optimization terminated successfully.\n",
      "         Current function value: 0.633151\n",
      "         Iterations 5\n",
      "Optimization terminated successfully.\n",
      "         Current function value: 0.633158\n",
      "         Iterations 5\n",
      "Optimization terminated successfully.\n",
      "         Current function value: 0.632593\n",
      "         Iterations 5\n",
      "Optimization terminated successfully.\n",
      "         Current function value: 0.632566\n",
      "         Iterations 5\n",
      "Optimization terminated successfully.\n",
      "         Current function value: 0.632521\n",
      "         Iterations 5\n",
      "Optimization terminated successfully.\n",
      "         Current function value: 0.632098\n",
      "         Iterations 5\n",
      "Optimization terminated successfully.\n",
      "         Current function value: 0.632599\n",
      "         Iterations 5\n",
      "Optimization terminated successfully.\n",
      "         Current function value: 0.632616\n",
      "         Iterations 5\n",
      "Optimization terminated successfully.\n",
      "         Current function value: 0.632617\n",
      "         Iterations 5\n",
      "Optimization terminated successfully.\n",
      "         Current function value: 0.632520\n",
      "         Iterations 5\n",
      "Optimization terminated successfully.\n",
      "         Current function value: 0.632636\n",
      "         Iterations 5\n",
      "Optimization terminated successfully.\n",
      "         Current function value: 0.632635\n",
      "         Iterations 5\n",
      "Optimization terminated successfully.\n",
      "         Current function value: 0.632427\n",
      "         Iterations 5\n",
      "Optimization terminated successfully.\n",
      "         Current function value: 0.632616\n",
      "         Iterations 5\n",
      "Optimization terminated successfully.\n",
      "         Current function value: 0.632613\n",
      "         Iterations 5\n",
      "Optimization terminated successfully.\n",
      "         Current function value: 0.632591\n",
      "         Iterations 5\n",
      "Optimization terminated successfully.\n",
      "         Current function value: 0.632043\n",
      "         Iterations 5\n",
      "Optimization terminated successfully.\n",
      "         Current function value: 0.632027\n",
      "         Iterations 5\n",
      "Optimization terminated successfully.\n",
      "         Current function value: 0.631949\n",
      "         Iterations 5\n",
      "Optimization terminated successfully.\n",
      "         Current function value: 0.632002\n",
      "         Iterations 5\n",
      "Optimization terminated successfully.\n",
      "         Current function value: 0.632098\n",
      "         Iterations 5\n",
      "Optimization terminated successfully.\n",
      "         Current function value: 0.632072\n",
      "         Iterations 5\n",
      "Optimization terminated successfully.\n",
      "         Current function value: 0.631997\n",
      "         Iterations 5\n",
      "Optimization terminated successfully.\n",
      "         Current function value: 0.632093\n",
      "         Iterations 5\n",
      "Optimization terminated successfully.\n",
      "         Current function value: 0.632092\n",
      "         Iterations 5\n",
      "Optimization terminated successfully.\n",
      "         Current function value: 0.631906\n",
      "         Iterations 5\n",
      "Optimization terminated successfully.\n",
      "         Current function value: 0.632075\n",
      "         Iterations 5\n",
      "Optimization terminated successfully.\n",
      "         Current function value: 0.632062\n",
      "         Iterations 5\n",
      "Optimization terminated successfully.\n",
      "         Current function value: 0.632051\n",
      "         Iterations 5\n"
     ]
    }
   ],
   "source": [
    "vars, result = forward_stepwise_logistic(x_train, y_train)"
   ]
  },
  {
   "cell_type": "markdown",
   "metadata": {
    "id": "b8831TsJaHFq"
   },
   "source": [
    "* 선택된 변수"
   ]
  },
  {
   "cell_type": "code",
   "execution_count": 10,
   "metadata": {
    "id": "ReDkDZMmaB8l"
   },
   "outputs": [
    {
     "data": {
      "text/plain": [
       "['OVERAGE',\n",
       " 'HOUSE',\n",
       " 'HANDSET_PRICE',\n",
       " 'LEFTOVER',\n",
       " 'REPORTED_SATISFACTION_very_sat',\n",
       " 'INCOME',\n",
       " 'REPORTED_SATISFACTION_sat']"
      ]
     },
     "execution_count": 10,
     "metadata": {},
     "output_type": "execute_result"
    }
   ],
   "source": [
    "vars"
   ]
  },
  {
   "cell_type": "code",
   "execution_count": 11,
   "metadata": {},
   "outputs": [
    {
     "data": {
      "text/plain": [
       "['COLLEGE',\n",
       " 'INCOME',\n",
       " 'OVERAGE',\n",
       " 'LEFTOVER',\n",
       " 'HOUSE',\n",
       " 'HANDSET_PRICE',\n",
       " 'OVER_15MINS_CALLS_PER_MONTH',\n",
       " 'AVERAGE_CALL_DURATION',\n",
       " 'REPORTED_SATISFACTION_sat',\n",
       " 'REPORTED_SATISFACTION_unsat',\n",
       " 'REPORTED_SATISFACTION_very_sat',\n",
       " 'REPORTED_SATISFACTION_very_unsat',\n",
       " 'REPORTED_USAGE_LEVEL_high',\n",
       " 'REPORTED_USAGE_LEVEL_little',\n",
       " 'REPORTED_USAGE_LEVEL_very_high',\n",
       " 'REPORTED_USAGE_LEVEL_very_little',\n",
       " 'CONSIDERING_CHANGE_OF_PLAN_considering',\n",
       " 'CONSIDERING_CHANGE_OF_PLAN_never_thought',\n",
       " 'CONSIDERING_CHANGE_OF_PLAN_no',\n",
       " 'CONSIDERING_CHANGE_OF_PLAN_perhaps']"
      ]
     },
     "execution_count": 11,
     "metadata": {},
     "output_type": "execute_result"
    }
   ],
   "source": [
    "list(x_train)"
   ]
  },
  {
   "cell_type": "code",
   "execution_count": 12,
   "metadata": {},
   "outputs": [
    {
     "data": {
      "text/html": [
       "<div>\n",
       "<style scoped>\n",
       "    .dataframe tbody tr th:only-of-type {\n",
       "        vertical-align: middle;\n",
       "    }\n",
       "\n",
       "    .dataframe tbody tr th {\n",
       "        vertical-align: top;\n",
       "    }\n",
       "\n",
       "    .dataframe thead th {\n",
       "        text-align: right;\n",
       "    }\n",
       "</style>\n",
       "<table border=\"1\" class=\"dataframe\">\n",
       "  <thead>\n",
       "    <tr style=\"text-align: right;\">\n",
       "      <th></th>\n",
       "      <th>step</th>\n",
       "      <th>feature</th>\n",
       "      <th>aic</th>\n",
       "    </tr>\n",
       "  </thead>\n",
       "  <tbody>\n",
       "    <tr>\n",
       "      <th>0</th>\n",
       "      <td>1.0</td>\n",
       "      <td>[OVERAGE]</td>\n",
       "      <td>4786.699456</td>\n",
       "    </tr>\n",
       "    <tr>\n",
       "      <th>1</th>\n",
       "      <td>1.0</td>\n",
       "      <td>[HOUSE]</td>\n",
       "      <td>4796.363859</td>\n",
       "    </tr>\n",
       "    <tr>\n",
       "      <th>2</th>\n",
       "      <td>1.0</td>\n",
       "      <td>[OVER_15MINS_CALLS_PER_MONTH]</td>\n",
       "      <td>4810.294604</td>\n",
       "    </tr>\n",
       "    <tr>\n",
       "      <th>3</th>\n",
       "      <td>1.0</td>\n",
       "      <td>[REPORTED_SATISFACTION_very_sat]</td>\n",
       "      <td>4845.064834</td>\n",
       "    </tr>\n",
       "    <tr>\n",
       "      <th>4</th>\n",
       "      <td>1.0</td>\n",
       "      <td>[AVERAGE_CALL_DURATION]</td>\n",
       "      <td>4849.951663</td>\n",
       "    </tr>\n",
       "    <tr>\n",
       "      <th>...</th>\n",
       "      <td>...</td>\n",
       "      <td>...</td>\n",
       "      <td>...</td>\n",
       "    </tr>\n",
       "    <tr>\n",
       "      <th>114</th>\n",
       "      <td>7.0</td>\n",
       "      <td>[OVERAGE, HOUSE, HANDSET_PRICE, LEFTOVER, REPO...</td>\n",
       "      <td>4442.309949</td>\n",
       "    </tr>\n",
       "    <tr>\n",
       "      <th>115</th>\n",
       "      <td>7.0</td>\n",
       "      <td>[OVERAGE, HOUSE, HANDSET_PRICE, LEFTOVER, REPO...</td>\n",
       "      <td>4442.315315</td>\n",
       "    </tr>\n",
       "    <tr>\n",
       "      <th>116</th>\n",
       "      <td>7.0</td>\n",
       "      <td>[OVERAGE, HOUSE, HANDSET_PRICE, LEFTOVER, REPO...</td>\n",
       "      <td>4442.316816</td>\n",
       "    </tr>\n",
       "    <tr>\n",
       "      <th>117</th>\n",
       "      <td>7.0</td>\n",
       "      <td>[OVERAGE, HOUSE, HANDSET_PRICE, LEFTOVER, REPO...</td>\n",
       "      <td>4442.448187</td>\n",
       "    </tr>\n",
       "    <tr>\n",
       "      <th>118</th>\n",
       "      <td>7.0</td>\n",
       "      <td>[OVERAGE, HOUSE, HANDSET_PRICE, LEFTOVER, REPO...</td>\n",
       "      <td>4442.451017</td>\n",
       "    </tr>\n",
       "  </tbody>\n",
       "</table>\n",
       "<p>119 rows × 3 columns</p>\n",
       "</div>"
      ],
      "text/plain": [
       "     step                                            feature          aic\n",
       "0     1.0                                          [OVERAGE]  4786.699456\n",
       "1     1.0                                            [HOUSE]  4796.363859\n",
       "2     1.0                      [OVER_15MINS_CALLS_PER_MONTH]  4810.294604\n",
       "3     1.0                   [REPORTED_SATISFACTION_very_sat]  4845.064834\n",
       "4     1.0                            [AVERAGE_CALL_DURATION]  4849.951663\n",
       "..    ...                                                ...          ...\n",
       "114   7.0  [OVERAGE, HOUSE, HANDSET_PRICE, LEFTOVER, REPO...  4442.309949\n",
       "115   7.0  [OVERAGE, HOUSE, HANDSET_PRICE, LEFTOVER, REPO...  4442.315315\n",
       "116   7.0  [OVERAGE, HOUSE, HANDSET_PRICE, LEFTOVER, REPO...  4442.316816\n",
       "117   7.0  [OVERAGE, HOUSE, HANDSET_PRICE, LEFTOVER, REPO...  4442.448187\n",
       "118   7.0  [OVERAGE, HOUSE, HANDSET_PRICE, LEFTOVER, REPO...  4442.451017\n",
       "\n",
       "[119 rows x 3 columns]"
      ]
     },
     "execution_count": 12,
     "metadata": {},
     "output_type": "execute_result"
    }
   ],
   "source": [
    "result"
   ]
  },
  {
   "cell_type": "code",
   "execution_count": 13,
   "metadata": {
    "id": "cOmUN6lwcgPS"
   },
   "outputs": [],
   "source": [
    "pd.set_option('display.width', None)\n",
    "pd.set_option('display.max_colwidth', -1)"
   ]
  },
  {
   "cell_type": "code",
   "execution_count": 14,
   "metadata": {},
   "outputs": [
    {
     "data": {
      "text/html": [
       "<div>\n",
       "<style scoped>\n",
       "    .dataframe tbody tr th:only-of-type {\n",
       "        vertical-align: middle;\n",
       "    }\n",
       "\n",
       "    .dataframe tbody tr th {\n",
       "        vertical-align: top;\n",
       "    }\n",
       "\n",
       "    .dataframe thead th {\n",
       "        text-align: right;\n",
       "    }\n",
       "</style>\n",
       "<table border=\"1\" class=\"dataframe\">\n",
       "  <thead>\n",
       "    <tr style=\"text-align: right;\">\n",
       "      <th></th>\n",
       "      <th>step</th>\n",
       "      <th>feature</th>\n",
       "      <th>aic</th>\n",
       "    </tr>\n",
       "  </thead>\n",
       "  <tbody>\n",
       "    <tr>\n",
       "      <th>0</th>\n",
       "      <td>1.0</td>\n",
       "      <td>[OVERAGE]</td>\n",
       "      <td>4786.699456</td>\n",
       "    </tr>\n",
       "    <tr>\n",
       "      <th>1</th>\n",
       "      <td>1.0</td>\n",
       "      <td>[HOUSE]</td>\n",
       "      <td>4796.363859</td>\n",
       "    </tr>\n",
       "    <tr>\n",
       "      <th>2</th>\n",
       "      <td>1.0</td>\n",
       "      <td>[OVER_15MINS_CALLS_PER_MONTH]</td>\n",
       "      <td>4810.294604</td>\n",
       "    </tr>\n",
       "    <tr>\n",
       "      <th>3</th>\n",
       "      <td>1.0</td>\n",
       "      <td>[REPORTED_SATISFACTION_very_sat]</td>\n",
       "      <td>4845.064834</td>\n",
       "    </tr>\n",
       "    <tr>\n",
       "      <th>4</th>\n",
       "      <td>1.0</td>\n",
       "      <td>[AVERAGE_CALL_DURATION]</td>\n",
       "      <td>4849.951663</td>\n",
       "    </tr>\n",
       "    <tr>\n",
       "      <th>...</th>\n",
       "      <td>...</td>\n",
       "      <td>...</td>\n",
       "      <td>...</td>\n",
       "    </tr>\n",
       "    <tr>\n",
       "      <th>114</th>\n",
       "      <td>7.0</td>\n",
       "      <td>[OVERAGE, HOUSE, HANDSET_PRICE, LEFTOVER, REPORTED_SATISFACTION_very_sat, INCOME, REPORTED_SATISFACTION_very_unsat]</td>\n",
       "      <td>4442.309949</td>\n",
       "    </tr>\n",
       "    <tr>\n",
       "      <th>115</th>\n",
       "      <td>7.0</td>\n",
       "      <td>[OVERAGE, HOUSE, HANDSET_PRICE, LEFTOVER, REPORTED_SATISFACTION_very_sat, INCOME, CONSIDERING_CHANGE_OF_PLAN_never_thought]</td>\n",
       "      <td>4442.315315</td>\n",
       "    </tr>\n",
       "    <tr>\n",
       "      <th>116</th>\n",
       "      <td>7.0</td>\n",
       "      <td>[OVERAGE, HOUSE, HANDSET_PRICE, LEFTOVER, REPORTED_SATISFACTION_very_sat, INCOME, REPORTED_USAGE_LEVEL_high]</td>\n",
       "      <td>4442.316816</td>\n",
       "    </tr>\n",
       "    <tr>\n",
       "      <th>117</th>\n",
       "      <td>7.0</td>\n",
       "      <td>[OVERAGE, HOUSE, HANDSET_PRICE, LEFTOVER, REPORTED_SATISFACTION_very_sat, INCOME, REPORTED_USAGE_LEVEL_very_little]</td>\n",
       "      <td>4442.448187</td>\n",
       "    </tr>\n",
       "    <tr>\n",
       "      <th>118</th>\n",
       "      <td>7.0</td>\n",
       "      <td>[OVERAGE, HOUSE, HANDSET_PRICE, LEFTOVER, REPORTED_SATISFACTION_very_sat, INCOME, REPORTED_USAGE_LEVEL_very_high]</td>\n",
       "      <td>4442.451017</td>\n",
       "    </tr>\n",
       "  </tbody>\n",
       "</table>\n",
       "<p>119 rows × 3 columns</p>\n",
       "</div>"
      ],
      "text/plain": [
       "     step  \\\n",
       "0    1.0    \n",
       "1    1.0    \n",
       "2    1.0    \n",
       "3    1.0    \n",
       "4    1.0    \n",
       "..   ...    \n",
       "114  7.0    \n",
       "115  7.0    \n",
       "116  7.0    \n",
       "117  7.0    \n",
       "118  7.0    \n",
       "\n",
       "                                                                                                                         feature  \\\n",
       "0    [OVERAGE]                                                                                                                     \n",
       "1    [HOUSE]                                                                                                                       \n",
       "2    [OVER_15MINS_CALLS_PER_MONTH]                                                                                                 \n",
       "3    [REPORTED_SATISFACTION_very_sat]                                                                                              \n",
       "4    [AVERAGE_CALL_DURATION]                                                                                                       \n",
       "..                       ...                                                                                                       \n",
       "114  [OVERAGE, HOUSE, HANDSET_PRICE, LEFTOVER, REPORTED_SATISFACTION_very_sat, INCOME, REPORTED_SATISFACTION_very_unsat]           \n",
       "115  [OVERAGE, HOUSE, HANDSET_PRICE, LEFTOVER, REPORTED_SATISFACTION_very_sat, INCOME, CONSIDERING_CHANGE_OF_PLAN_never_thought]   \n",
       "116  [OVERAGE, HOUSE, HANDSET_PRICE, LEFTOVER, REPORTED_SATISFACTION_very_sat, INCOME, REPORTED_USAGE_LEVEL_high]                  \n",
       "117  [OVERAGE, HOUSE, HANDSET_PRICE, LEFTOVER, REPORTED_SATISFACTION_very_sat, INCOME, REPORTED_USAGE_LEVEL_very_little]           \n",
       "118  [OVERAGE, HOUSE, HANDSET_PRICE, LEFTOVER, REPORTED_SATISFACTION_very_sat, INCOME, REPORTED_USAGE_LEVEL_very_high]             \n",
       "\n",
       "             aic  \n",
       "0    4786.699456  \n",
       "1    4796.363859  \n",
       "2    4810.294604  \n",
       "3    4845.064834  \n",
       "4    4849.951663  \n",
       "..           ...  \n",
       "114  4442.309949  \n",
       "115  4442.315315  \n",
       "116  4442.316816  \n",
       "117  4442.448187  \n",
       "118  4442.451017  \n",
       "\n",
       "[119 rows x 3 columns]"
      ]
     },
     "execution_count": 14,
     "metadata": {},
     "output_type": "execute_result"
    }
   ],
   "source": [
    "result"
   ]
  },
  {
   "cell_type": "markdown",
   "metadata": {
    "id": "F4Z39MGUaZtQ"
   },
   "source": [
    "### (3) 모델링"
   ]
  },
  {
   "cell_type": "markdown",
   "metadata": {
    "id": "mB26yCqEabkL"
   },
   "source": [
    "* 전체 변수 "
   ]
  },
  {
   "cell_type": "code",
   "execution_count": 15,
   "metadata": {
    "id": "zqk4Me37aesP"
   },
   "outputs": [
    {
     "name": "stdout",
     "output_type": "stream",
     "text": [
      "0.6333333333333333\n",
      "              precision    recall  f1-score   support\n",
      "\n",
      "           0       0.62      0.68      0.65       738\n",
      "           1       0.65      0.59      0.62       762\n",
      "\n",
      "    accuracy                           0.63      1500\n",
      "   macro avg       0.63      0.63      0.63      1500\n",
      "weighted avg       0.64      0.63      0.63      1500\n",
      "\n"
     ]
    }
   ],
   "source": [
    "m1 = LogisticRegression()\n",
    "m1.fit(x_train, y_train)\n",
    "p1 = m1.predict(x_val)\n",
    "\n",
    "print(accuracy_score(y_val, p1))\n",
    "print(classification_report(y_val, p1))"
   ]
  },
  {
   "cell_type": "markdown",
   "metadata": {
    "id": "m_1EE72zatBw"
   },
   "source": [
    "* 전진선택법 변수"
   ]
  },
  {
   "cell_type": "code",
   "execution_count": 16,
   "metadata": {
    "id": "0rKoLRi1atBx"
   },
   "outputs": [
    {
     "name": "stdout",
     "output_type": "stream",
     "text": [
      "0.634\n",
      "              precision    recall  f1-score   support\n",
      "\n",
      "           0       0.62      0.68      0.65       738\n",
      "           1       0.66      0.59      0.62       762\n",
      "\n",
      "    accuracy                           0.63      1500\n",
      "   macro avg       0.64      0.63      0.63      1500\n",
      "weighted avg       0.64      0.63      0.63      1500\n",
      "\n"
     ]
    }
   ],
   "source": [
    "m2 = LogisticRegression()\n",
    "m2.fit(x_train[vars], y_train)\n",
    "p2 = m2.predict(x_val[vars])\n",
    "\n",
    "print(accuracy_score(y_val, p2))\n",
    "print(classification_report(y_val, p2))"
   ]
  },
  {
   "cell_type": "markdown",
   "metadata": {
    "id": "fFre1mi8dhcK"
   },
   "source": [
    "## 4.하이퍼파라미터 튜닝"
   ]
  },
  {
   "cell_type": "markdown",
   "metadata": {
    "id": "lqqbcYcleEa7"
   },
   "source": [
    "### (1) 필요한 함수 불러오기 "
   ]
  },
  {
   "cell_type": "code",
   "execution_count": 17,
   "metadata": {
    "id": "b4VHDaqBeGa7"
   },
   "outputs": [],
   "source": [
    "from sklearn.model_selection import RandomizedSearchCV, GridSearchCV"
   ]
  },
  {
   "cell_type": "markdown",
   "metadata": {
    "id": "4QhAEJoKeUph"
   },
   "source": [
    "### (2) Random Search\n",
    "\n",
    "① 값의 범위를 지정한다.  \n",
    "② 모델 선언(시도 횟수 지정)  \n",
    "③ 모델링(값의 범위 내에서 시도 횟수만큼 랜덤하게 선택해서 시도한다.)  \n",
    "④ 가장 성능이 좋은 값을 선정\n"
   ]
  },
  {
   "cell_type": "markdown",
   "metadata": {
    "id": "0QV5WwTsefwR"
   },
   "source": [
    "#### ① 값의 범위를 지정한다."
   ]
  },
  {
   "cell_type": "code",
   "execution_count": 18,
   "metadata": {
    "id": "uw_0xzoRqSWa"
   },
   "outputs": [
    {
     "data": {
      "text/plain": [
       "{'n_neighbors': range(1, 51), 'metric': ['euclidean', 'manhattan']}"
      ]
     },
     "execution_count": 18,
     "metadata": {},
     "output_type": "execute_result"
    }
   ],
   "source": [
    "# dictionary형태로 선언\n",
    "params = { 'n_neighbors' : range(1,51), 'metric' : ['euclidean', 'manhattan']  }\n",
    "params"
   ]
  },
  {
   "cell_type": "markdown",
   "metadata": {
    "id": "smGb7riKe7Fj"
   },
   "source": [
    "#### ② 모델 선언"
   ]
  },
  {
   "cell_type": "code",
   "execution_count": 19,
   "metadata": {
    "id": "aycGcFmIq2aq"
   },
   "outputs": [],
   "source": [
    "# 기본모델\n",
    "model = KNeighborsClassifier()\n",
    "\n",
    "# Random Search 설정.\n",
    "model_rs = RandomizedSearchCV(model\n",
    "                            , params              # hyperparameter 범위 지정.\n",
    "                            , cv=5                    # k-fold Cross Validation\n",
    "                            , n_iter=5                # Random하게 시도할 횟수\n",
    "                            )"
   ]
  },
  {
   "cell_type": "markdown",
   "metadata": {
    "id": "o7YpDODPfW-Y"
   },
   "source": [
    "#### ③ 모델링"
   ]
  },
  {
   "cell_type": "code",
   "execution_count": 20,
   "metadata": {
    "id": "LzX7OxZnoatr"
   },
   "outputs": [
    {
     "data": {
      "text/plain": [
       "RandomizedSearchCV(cv=5, estimator=KNeighborsClassifier(), n_iter=5,\n",
       "                   param_distributions={'metric': ['euclidean', 'manhattan'],\n",
       "                                        'n_neighbors': range(1, 51)})"
      ]
     },
     "execution_count": 20,
     "metadata": {},
     "output_type": "execute_result"
    }
   ],
   "source": [
    "# 학습 : model이 아니라 model_rs\n",
    "model_rs.fit(x_train_s, y_train)"
   ]
  },
  {
   "cell_type": "code",
   "execution_count": 21,
   "metadata": {
    "id": "DkUVXP_Loatt"
   },
   "outputs": [
    {
     "data": {
      "text/plain": [
       "{'mean_fit_time': array([0.00156198, 0.00097642, 0.00117145, 0.00117126, 0.00097623]),\n",
       " 'std_fit_time': array([1.17118371e-03, 1.29362678e-06, 9.56044050e-04, 3.90101368e-04,\n",
       "        1.19304619e-06]),\n",
       " 'mean_score_time': array([0.11280994, 0.08132038, 0.07918496, 0.07834258, 0.08063254]),\n",
       " 'std_score_time': array([0.05024431, 0.00264256, 0.00365899, 0.00211762, 0.01394291]),\n",
       " 'param_n_neighbors': masked_array(data=[38, 36, 29, 11, 44],\n",
       "              mask=[False, False, False, False, False],\n",
       "        fill_value='?',\n",
       "             dtype=object),\n",
       " 'param_metric': masked_array(data=['manhattan', 'manhattan', 'manhattan', 'manhattan',\n",
       "                    'euclidean'],\n",
       "              mask=[False, False, False, False, False],\n",
       "        fill_value='?',\n",
       "             dtype=object),\n",
       " 'params': [{'n_neighbors': 38, 'metric': 'manhattan'},\n",
       "  {'n_neighbors': 36, 'metric': 'manhattan'},\n",
       "  {'n_neighbors': 29, 'metric': 'manhattan'},\n",
       "  {'n_neighbors': 11, 'metric': 'manhattan'},\n",
       "  {'n_neighbors': 44, 'metric': 'euclidean'}],\n",
       " 'split0_test_score': array([0.63285714, 0.62714286, 0.62857143, 0.60428571, 0.61      ]),\n",
       " 'split1_test_score': array([0.62571429, 0.61428571, 0.62142857, 0.60428571, 0.57857143]),\n",
       " 'split2_test_score': array([0.63714286, 0.64      , 0.63142857, 0.59714286, 0.61285714]),\n",
       " 'split3_test_score': array([0.61428571, 0.61428571, 0.61428571, 0.60857143, 0.57714286]),\n",
       " 'split4_test_score': array([0.62857143, 0.61571429, 0.59428571, 0.57714286, 0.58      ]),\n",
       " 'mean_test_score': array([0.62771429, 0.62228571, 0.618     , 0.59828571, 0.59171429]),\n",
       " 'std_test_score': array([0.00775123, 0.01008535, 0.0132665 , 0.01119037, 0.01614728]),\n",
       " 'rank_test_score': array([1, 2, 3, 4, 5])}"
      ]
     },
     "execution_count": 21,
     "metadata": {},
     "output_type": "execute_result"
    }
   ],
   "source": [
    "# 튜닝 결과\n",
    "model_rs.cv_results_"
   ]
  },
  {
   "cell_type": "code",
   "execution_count": 22,
   "metadata": {
    "id": "ygL2UHJE4inW"
   },
   "outputs": [
    {
     "data": {
      "text/plain": [
       "[{'n_neighbors': 38, 'metric': 'manhattan'},\n",
       " {'n_neighbors': 36, 'metric': 'manhattan'},\n",
       " {'n_neighbors': 29, 'metric': 'manhattan'},\n",
       " {'n_neighbors': 11, 'metric': 'manhattan'},\n",
       " {'n_neighbors': 44, 'metric': 'euclidean'}]"
      ]
     },
     "execution_count": 22,
     "metadata": {},
     "output_type": "execute_result"
    }
   ],
   "source": [
    "model_rs.cv_results_['params']"
   ]
  },
  {
   "cell_type": "code",
   "execution_count": 23,
   "metadata": {
    "id": "Ev8QMOLM4qM3"
   },
   "outputs": [
    {
     "data": {
      "text/plain": [
       "array([0.62771429, 0.62228571, 0.618     , 0.59828571, 0.59171429])"
      ]
     },
     "execution_count": 23,
     "metadata": {},
     "output_type": "execute_result"
    }
   ],
   "source": [
    "model_rs.cv_results_['mean_test_score']"
   ]
  },
  {
   "cell_type": "code",
   "execution_count": 24,
   "metadata": {
    "id": "WibiA2j9sRo_"
   },
   "outputs": [
    {
     "data": {
      "text/plain": [
       "{'n_neighbors': 38, 'metric': 'manhattan'}"
      ]
     },
     "execution_count": 24,
     "metadata": {},
     "output_type": "execute_result"
    }
   ],
   "source": [
    "# 최적의 파라미터\n",
    "model_rs.best_params_"
   ]
  },
  {
   "cell_type": "code",
   "execution_count": 25,
   "metadata": {
    "id": "tPwtq5L3vUmo"
   },
   "outputs": [
    {
     "data": {
      "text/plain": [
       "0.6277142857142857"
      ]
     },
     "execution_count": 25,
     "metadata": {},
     "output_type": "execute_result"
    }
   ],
   "source": [
    "# 그때의 성능\n",
    "model_rs.best_score_"
   ]
  },
  {
   "cell_type": "code",
   "execution_count": 26,
   "metadata": {
    "id": "99n6iBAGoatw"
   },
   "outputs": [
    {
     "name": "stdout",
     "output_type": "stream",
     "text": [
      "              precision    recall  f1-score   support\n",
      "\n",
      "           0       0.58      0.78      0.67       738\n",
      "           1       0.68      0.46      0.55       762\n",
      "\n",
      "    accuracy                           0.62      1500\n",
      "   macro avg       0.63      0.62      0.61      1500\n",
      "weighted avg       0.63      0.62      0.61      1500\n",
      "\n"
     ]
    }
   ],
   "source": [
    "# best 모델로 예측 및 평가\n",
    "pred = model_rs.predict(x_val_s)\n",
    "print(classification_report(y_val, pred))"
   ]
  },
  {
   "cell_type": "markdown",
   "metadata": {
    "id": "1WRLq_4tf-ve"
   },
   "source": [
    "### (3) 실습 : Random Search\n",
    "\n",
    "* decision tree로 튜닝을 시도해 봅시다.\n",
    "    * max_depth : 1~10\n",
    "    * min_samples_leaf : 10 ~ 100"
   ]
  },
  {
   "cell_type": "code",
   "execution_count": 27,
   "metadata": {},
   "outputs": [],
   "source": [
    "from sklearn.tree import DecisionTreeClassifier"
   ]
  },
  {
   "cell_type": "markdown",
   "metadata": {
    "id": "-lJcU4Xlf-ve"
   },
   "source": [
    "#### ① 값의 범위를 지정한다."
   ]
  },
  {
   "cell_type": "code",
   "execution_count": 28,
   "metadata": {
    "id": "5vbadH6Cf-ve"
   },
   "outputs": [
    {
     "data": {
      "text/plain": [
       "{'max_depth': range(1, 11), 'min_samples_leaf': range(10, 101)}"
      ]
     },
     "execution_count": 28,
     "metadata": {},
     "output_type": "execute_result"
    }
   ],
   "source": [
    "# dictionary형태로 선언\n",
    "params = { 'max_depth' : range(1, 11), 'min_samples_leaf' : range(10, 101)  }\n",
    "params"
   ]
  },
  {
   "cell_type": "markdown",
   "metadata": {
    "id": "VlSVAR-7f-vf"
   },
   "source": [
    "#### ② 모델 선언"
   ]
  },
  {
   "cell_type": "code",
   "execution_count": 29,
   "metadata": {
    "id": "i0S0er2Af-vf"
   },
   "outputs": [],
   "source": [
    "model = DecisionTreeClassifier()\n",
    "\n",
    "model_rs = RandomizedSearchCV(model\n",
    "                            , params              # hyperparameter 범위 지정.\n",
    "                            , cv=5                    # k-fold Cross Validation\n",
    "                            , n_iter=10               # Random하게 시도할 횟수\n",
    "                            )"
   ]
  },
  {
   "cell_type": "markdown",
   "metadata": {
    "id": "1oTmve_lf-vf"
   },
   "source": [
    "#### ③ 모델링"
   ]
  },
  {
   "cell_type": "code",
   "execution_count": 30,
   "metadata": {
    "id": "O121oftOf-vf"
   },
   "outputs": [
    {
     "data": {
      "text/plain": [
       "RandomizedSearchCV(cv=5, estimator=DecisionTreeClassifier(),\n",
       "                   param_distributions={'max_depth': range(1, 11),\n",
       "                                        'min_samples_leaf': range(10, 101)})"
      ]
     },
     "execution_count": 30,
     "metadata": {},
     "output_type": "execute_result"
    }
   ],
   "source": [
    "# 학습 : model이 아니라 model_rs\n",
    "model_rs.fit(x_train_s, y_train)"
   ]
  },
  {
   "cell_type": "code",
   "execution_count": 31,
   "metadata": {
    "id": "mzVCpqpCf-vf"
   },
   "outputs": [
    {
     "data": {
      "text/plain": [
       "{'mean_fit_time': array([0.00741758, 0.01249256, 0.00292835, 0.01093097, 0.00624671,\n",
       "        0.00936942, 0.00839367, 0.00917449, 0.00409794, 0.00487995]),\n",
       " 'std_fit_time': array([0.00181053, 0.00143521, 0.00061741, 0.00038984, 0.0009957 ,\n",
       "        0.00266242, 0.00117104, 0.00047702, 0.00072979, 0.00106973]),\n",
       " 'mean_score_time': array([0.00058532, 0.00097642, 0.00058537, 0.0011713 , 0.00117073,\n",
       "        0.00078106, 0.00019507, 0.00039063, 0.00117259, 0.00117102]),\n",
       " 'std_score_time': array([0.00047791, 0.00061748, 0.00047795, 0.00095666, 0.00073008,\n",
       "        0.00039053, 0.00039015, 0.00047842, 0.00039075, 0.00073026]),\n",
       " 'param_min_samples_leaf': masked_array(data=[97, 31, 34, 20, 81, 87, 97, 69, 43, 97],\n",
       "              mask=[False, False, False, False, False, False, False, False,\n",
       "                    False, False],\n",
       "        fill_value='?',\n",
       "             dtype=object),\n",
       " 'param_max_depth': masked_array(data=[3, 9, 1, 7, 3, 9, 6, 6, 2, 1],\n",
       "              mask=[False, False, False, False, False, False, False, False,\n",
       "                    False, False],\n",
       "        fill_value='?',\n",
       "             dtype=object),\n",
       " 'params': [{'min_samples_leaf': 97, 'max_depth': 3},\n",
       "  {'min_samples_leaf': 31, 'max_depth': 9},\n",
       "  {'min_samples_leaf': 34, 'max_depth': 1},\n",
       "  {'min_samples_leaf': 20, 'max_depth': 7},\n",
       "  {'min_samples_leaf': 81, 'max_depth': 3},\n",
       "  {'min_samples_leaf': 87, 'max_depth': 9},\n",
       "  {'min_samples_leaf': 97, 'max_depth': 6},\n",
       "  {'min_samples_leaf': 69, 'max_depth': 6},\n",
       "  {'min_samples_leaf': 43, 'max_depth': 2},\n",
       "  {'min_samples_leaf': 97, 'max_depth': 1}],\n",
       " 'split0_test_score': array([0.70285714, 0.72857143, 0.64285714, 0.71428571, 0.70285714,\n",
       "        0.72142857, 0.72142857, 0.70857143, 0.66571429, 0.64285714]),\n",
       " 'split1_test_score': array([0.69714286, 0.70142857, 0.61571429, 0.67857143, 0.69714286,\n",
       "        0.67571429, 0.68142857, 0.67571429, 0.65857143, 0.61571429]),\n",
       " 'split2_test_score': array([0.68      , 0.68      , 0.60142857, 0.67571429, 0.68      ,\n",
       "        0.68142857, 0.67428571, 0.67428571, 0.65428571, 0.60142857]),\n",
       " 'split3_test_score': array([0.69428571, 0.71142857, 0.59714286, 0.69571429, 0.69428571,\n",
       "        0.7       , 0.70428571, 0.70571429, 0.67285714, 0.59714286]),\n",
       " 'split4_test_score': array([0.69142857, 0.66571429, 0.61285714, 0.67714286, 0.69142857,\n",
       "        0.67857143, 0.68      , 0.68857143, 0.65571429, 0.61285714]),\n",
       " 'mean_test_score': array([0.69314286, 0.69742857, 0.614     , 0.68828571, 0.69314286,\n",
       "        0.69142857, 0.69228571, 0.69057143, 0.66142857, 0.614     ]),\n",
       " 'std_test_score': array([0.00758086, 0.02232231, 0.0159949 , 0.01488459, 0.00758086,\n",
       "        0.01723783, 0.0178108 , 0.01444483, 0.00693998, 0.0159949 ]),\n",
       " 'rank_test_score': array([2, 1, 9, 7, 2, 5, 4, 6, 8, 9])}"
      ]
     },
     "execution_count": 31,
     "metadata": {},
     "output_type": "execute_result"
    }
   ],
   "source": [
    "# 튜닝 결과\n",
    "model_rs.cv_results_"
   ]
  },
  {
   "cell_type": "code",
   "execution_count": 32,
   "metadata": {
    "id": "CkkdSVR6f-vf"
   },
   "outputs": [
    {
     "data": {
      "text/plain": [
       "[{'min_samples_leaf': 97, 'max_depth': 3},\n",
       " {'min_samples_leaf': 31, 'max_depth': 9},\n",
       " {'min_samples_leaf': 34, 'max_depth': 1},\n",
       " {'min_samples_leaf': 20, 'max_depth': 7},\n",
       " {'min_samples_leaf': 81, 'max_depth': 3},\n",
       " {'min_samples_leaf': 87, 'max_depth': 9},\n",
       " {'min_samples_leaf': 97, 'max_depth': 6},\n",
       " {'min_samples_leaf': 69, 'max_depth': 6},\n",
       " {'min_samples_leaf': 43, 'max_depth': 2},\n",
       " {'min_samples_leaf': 97, 'max_depth': 1}]"
      ]
     },
     "execution_count": 32,
     "metadata": {},
     "output_type": "execute_result"
    }
   ],
   "source": [
    "model_rs.cv_results_['params']"
   ]
  },
  {
   "cell_type": "code",
   "execution_count": 33,
   "metadata": {
    "id": "IgR9dSA_d6f6"
   },
   "outputs": [
    {
     "data": {
      "text/plain": [
       "array([0.69314286, 0.69742857, 0.614     , 0.68828571, 0.69314286,\n",
       "       0.69142857, 0.69228571, 0.69057143, 0.66142857, 0.614     ])"
      ]
     },
     "execution_count": 33,
     "metadata": {},
     "output_type": "execute_result"
    }
   ],
   "source": [
    "model_rs.cv_results_['mean_test_score']"
   ]
  },
  {
   "cell_type": "code",
   "execution_count": 34,
   "metadata": {},
   "outputs": [
    {
     "data": {
      "text/plain": [
       "{'min_samples_leaf': 31, 'max_depth': 9}"
      ]
     },
     "execution_count": 34,
     "metadata": {},
     "output_type": "execute_result"
    }
   ],
   "source": [
    "# 최적의 파라미터\n",
    "model_rs.best_params_"
   ]
  },
  {
   "cell_type": "code",
   "execution_count": 35,
   "metadata": {},
   "outputs": [
    {
     "data": {
      "text/plain": [
       "0.6974285714285713"
      ]
     },
     "execution_count": 35,
     "metadata": {},
     "output_type": "execute_result"
    }
   ],
   "source": [
    "# 그때의 성능\n",
    "model_rs.best_score_"
   ]
  },
  {
   "cell_type": "code",
   "execution_count": 36,
   "metadata": {},
   "outputs": [
    {
     "name": "stdout",
     "output_type": "stream",
     "text": [
      "              precision    recall  f1-score   support\n",
      "\n",
      "           0       0.67      0.68      0.68       738\n",
      "           1       0.69      0.68      0.68       762\n",
      "\n",
      "    accuracy                           0.68      1500\n",
      "   macro avg       0.68      0.68      0.68      1500\n",
      "weighted avg       0.68      0.68      0.68      1500\n",
      "\n"
     ]
    }
   ],
   "source": [
    "# best 모델로 예측 및 평가\n",
    "pred = model_rs.predict(x_val_s)\n",
    "print(classification_report(y_val, pred))"
   ]
  },
  {
   "cell_type": "markdown",
   "metadata": {
    "id": "wzN7zbnJhmAt"
   },
   "source": [
    "### (4) Grid Search\n",
    "\n",
    "① 값의 범위를 지정한다.  \n",
    "② 모델링(값의 범위 내에서 모든 조합을 다 시도한다.)  \n",
    "③ 가장 성능이 좋은 값을 선정\n"
   ]
  },
  {
   "cell_type": "code",
   "execution_count": 37,
   "metadata": {},
   "outputs": [],
   "source": [
    "from sklearn.model_selection import GridSearchCV"
   ]
  },
  {
   "cell_type": "markdown",
   "metadata": {
    "id": "E7AOo0wxhmA0"
   },
   "source": [
    "#### ① 값의 범위를 지정한다."
   ]
  },
  {
   "cell_type": "code",
   "execution_count": 38,
   "metadata": {
    "id": "CkVVoyWFhmA0"
   },
   "outputs": [
    {
     "data": {
      "text/plain": [
       "{'n_neighbors': range(3, 31, 2), 'metric': ['euclidean', 'manhattan']}"
      ]
     },
     "execution_count": 38,
     "metadata": {},
     "output_type": "execute_result"
    }
   ],
   "source": [
    "# dictionary형태로 선언\n",
    "params = { 'n_neighbors' : range(3,31,2), 'metric' : ['euclidean', 'manhattan']  }\n",
    "params"
   ]
  },
  {
   "cell_type": "markdown",
   "metadata": {
    "id": "qA_g34P3hmA1"
   },
   "source": [
    "#### ② 모델 선언"
   ]
  },
  {
   "cell_type": "code",
   "execution_count": 39,
   "metadata": {
    "id": "A0Zceq-LhmA1"
   },
   "outputs": [],
   "source": [
    "# 기본모델\n",
    "model = KNeighborsClassifier()\n",
    "\n",
    "# Random Search 설정.\n",
    "model_gs = GridSearchCV(model, params, cv=5, verbose=3)"
   ]
  },
  {
   "cell_type": "markdown",
   "metadata": {
    "id": "lu2BRGzQhmA1"
   },
   "source": [
    "#### ③ 모델링"
   ]
  },
  {
   "cell_type": "code",
   "execution_count": 40,
   "metadata": {
    "id": "XtI3d8uZhmA1"
   },
   "outputs": [
    {
     "name": "stdout",
     "output_type": "stream",
     "text": [
      "Fitting 5 folds for each of 28 candidates, totalling 140 fits\n",
      "[CV 1/5] END ...metric=euclidean, n_neighbors=3;, score=0.583 total time=   0.0s\n",
      "[CV 2/5] END ...metric=euclidean, n_neighbors=3;, score=0.577 total time=   0.0s\n",
      "[CV 3/5] END ...metric=euclidean, n_neighbors=3;, score=0.554 total time=   0.0s\n",
      "[CV 4/5] END ...metric=euclidean, n_neighbors=3;, score=0.600 total time=   0.0s\n",
      "[CV 5/5] END ...metric=euclidean, n_neighbors=3;, score=0.580 total time=   0.0s\n",
      "[CV 1/5] END ...metric=euclidean, n_neighbors=5;, score=0.579 total time=   0.0s\n",
      "[CV 2/5] END ...metric=euclidean, n_neighbors=5;, score=0.599 total time=   0.0s\n",
      "[CV 3/5] END ...metric=euclidean, n_neighbors=5;, score=0.569 total time=   0.0s\n",
      "[CV 4/5] END ...metric=euclidean, n_neighbors=5;, score=0.579 total time=   0.0s\n",
      "[CV 5/5] END ...metric=euclidean, n_neighbors=5;, score=0.573 total time=   0.0s\n",
      "[CV 1/5] END ...metric=euclidean, n_neighbors=7;, score=0.581 total time=   0.0s\n",
      "[CV 2/5] END ...metric=euclidean, n_neighbors=7;, score=0.579 total time=   0.0s\n",
      "[CV 3/5] END ...metric=euclidean, n_neighbors=7;, score=0.569 total time=   0.0s\n",
      "[CV 4/5] END ...metric=euclidean, n_neighbors=7;, score=0.580 total time=   0.0s\n",
      "[CV 5/5] END ...metric=euclidean, n_neighbors=7;, score=0.577 total time=   0.0s\n",
      "[CV 1/5] END ...metric=euclidean, n_neighbors=9;, score=0.583 total time=   0.0s\n",
      "[CV 2/5] END ...metric=euclidean, n_neighbors=9;, score=0.577 total time=   0.0s\n",
      "[CV 3/5] END ...metric=euclidean, n_neighbors=9;, score=0.557 total time=   0.0s\n",
      "[CV 4/5] END ...metric=euclidean, n_neighbors=9;, score=0.579 total time=   0.0s\n",
      "[CV 5/5] END ...metric=euclidean, n_neighbors=9;, score=0.571 total time=   0.0s\n",
      "[CV 1/5] END ..metric=euclidean, n_neighbors=11;, score=0.571 total time=   0.0s\n",
      "[CV 2/5] END ..metric=euclidean, n_neighbors=11;, score=0.579 total time=   0.0s\n",
      "[CV 3/5] END ..metric=euclidean, n_neighbors=11;, score=0.544 total time=   0.0s\n",
      "[CV 4/5] END ..metric=euclidean, n_neighbors=11;, score=0.581 total time=   0.0s\n",
      "[CV 5/5] END ..metric=euclidean, n_neighbors=11;, score=0.564 total time=   0.0s\n",
      "[CV 1/5] END ..metric=euclidean, n_neighbors=13;, score=0.579 total time=   0.0s\n",
      "[CV 2/5] END ..metric=euclidean, n_neighbors=13;, score=0.587 total time=   0.0s\n",
      "[CV 3/5] END ..metric=euclidean, n_neighbors=13;, score=0.563 total time=   0.0s\n",
      "[CV 4/5] END ..metric=euclidean, n_neighbors=13;, score=0.583 total time=   0.0s\n",
      "[CV 5/5] END ..metric=euclidean, n_neighbors=13;, score=0.561 total time=   0.0s\n",
      "[CV 1/5] END ..metric=euclidean, n_neighbors=15;, score=0.574 total time=   0.0s\n",
      "[CV 2/5] END ..metric=euclidean, n_neighbors=15;, score=0.594 total time=   0.0s\n",
      "[CV 3/5] END ..metric=euclidean, n_neighbors=15;, score=0.577 total time=   0.0s\n",
      "[CV 4/5] END ..metric=euclidean, n_neighbors=15;, score=0.593 total time=   0.0s\n",
      "[CV 5/5] END ..metric=euclidean, n_neighbors=15;, score=0.566 total time=   0.0s\n",
      "[CV 1/5] END ..metric=euclidean, n_neighbors=17;, score=0.590 total time=   0.0s\n",
      "[CV 2/5] END ..metric=euclidean, n_neighbors=17;, score=0.593 total time=   0.0s\n",
      "[CV 3/5] END ..metric=euclidean, n_neighbors=17;, score=0.567 total time=   0.0s\n",
      "[CV 4/5] END ..metric=euclidean, n_neighbors=17;, score=0.600 total time=   0.0s\n",
      "[CV 5/5] END ..metric=euclidean, n_neighbors=17;, score=0.563 total time=   0.0s\n",
      "[CV 1/5] END ..metric=euclidean, n_neighbors=19;, score=0.591 total time=   0.0s\n",
      "[CV 2/5] END ..metric=euclidean, n_neighbors=19;, score=0.600 total time=   0.0s\n",
      "[CV 3/5] END ..metric=euclidean, n_neighbors=19;, score=0.569 total time=   0.0s\n",
      "[CV 4/5] END ..metric=euclidean, n_neighbors=19;, score=0.579 total time=   0.0s\n",
      "[CV 5/5] END ..metric=euclidean, n_neighbors=19;, score=0.557 total time=   0.0s\n",
      "[CV 1/5] END ..metric=euclidean, n_neighbors=21;, score=0.590 total time=   0.0s\n",
      "[CV 2/5] END ..metric=euclidean, n_neighbors=21;, score=0.591 total time=   0.0s\n",
      "[CV 3/5] END ..metric=euclidean, n_neighbors=21;, score=0.579 total time=   0.0s\n",
      "[CV 4/5] END ..metric=euclidean, n_neighbors=21;, score=0.579 total time=   0.0s\n",
      "[CV 5/5] END ..metric=euclidean, n_neighbors=21;, score=0.564 total time=   0.0s\n",
      "[CV 1/5] END ..metric=euclidean, n_neighbors=23;, score=0.599 total time=   0.0s\n",
      "[CV 2/5] END ..metric=euclidean, n_neighbors=23;, score=0.601 total time=   0.0s\n",
      "[CV 3/5] END ..metric=euclidean, n_neighbors=23;, score=0.590 total time=   0.0s\n",
      "[CV 4/5] END ..metric=euclidean, n_neighbors=23;, score=0.577 total time=   0.0s\n",
      "[CV 5/5] END ..metric=euclidean, n_neighbors=23;, score=0.563 total time=   0.0s\n",
      "[CV 1/5] END ..metric=euclidean, n_neighbors=25;, score=0.589 total time=   0.0s\n",
      "[CV 2/5] END ..metric=euclidean, n_neighbors=25;, score=0.606 total time=   0.0s\n",
      "[CV 3/5] END ..metric=euclidean, n_neighbors=25;, score=0.581 total time=   0.0s\n",
      "[CV 4/5] END ..metric=euclidean, n_neighbors=25;, score=0.576 total time=   0.0s\n",
      "[CV 5/5] END ..metric=euclidean, n_neighbors=25;, score=0.571 total time=   0.0s\n",
      "[CV 1/5] END ..metric=euclidean, n_neighbors=27;, score=0.591 total time=   0.0s\n",
      "[CV 2/5] END ..metric=euclidean, n_neighbors=27;, score=0.586 total time=   0.0s\n",
      "[CV 3/5] END ..metric=euclidean, n_neighbors=27;, score=0.584 total time=   0.0s\n",
      "[CV 4/5] END ..metric=euclidean, n_neighbors=27;, score=0.569 total time=   0.0s\n",
      "[CV 5/5] END ..metric=euclidean, n_neighbors=27;, score=0.569 total time=   0.0s\n",
      "[CV 1/5] END ..metric=euclidean, n_neighbors=29;, score=0.583 total time=   0.0s\n",
      "[CV 2/5] END ..metric=euclidean, n_neighbors=29;, score=0.586 total time=   0.0s\n",
      "[CV 3/5] END ..metric=euclidean, n_neighbors=29;, score=0.591 total time=   0.0s\n",
      "[CV 4/5] END ..metric=euclidean, n_neighbors=29;, score=0.569 total time=   0.0s\n",
      "[CV 5/5] END ..metric=euclidean, n_neighbors=29;, score=0.573 total time=   0.0s\n",
      "[CV 1/5] END ...metric=manhattan, n_neighbors=3;, score=0.577 total time=   0.0s\n",
      "[CV 2/5] END ...metric=manhattan, n_neighbors=3;, score=0.581 total time=   0.0s\n",
      "[CV 3/5] END ...metric=manhattan, n_neighbors=3;, score=0.549 total time=   0.0s\n",
      "[CV 4/5] END ...metric=manhattan, n_neighbors=3;, score=0.590 total time=   0.0s\n",
      "[CV 5/5] END ...metric=manhattan, n_neighbors=3;, score=0.569 total time=   0.0s\n",
      "[CV 1/5] END ...metric=manhattan, n_neighbors=5;, score=0.604 total time=   0.0s\n",
      "[CV 2/5] END ...metric=manhattan, n_neighbors=5;, score=0.593 total time=   0.1s\n",
      "[CV 3/5] END ...metric=manhattan, n_neighbors=5;, score=0.577 total time=   0.1s\n",
      "[CV 4/5] END ...metric=manhattan, n_neighbors=5;, score=0.583 total time=   0.0s\n",
      "[CV 5/5] END ...metric=manhattan, n_neighbors=5;, score=0.600 total time=   0.0s\n",
      "[CV 1/5] END ...metric=manhattan, n_neighbors=7;, score=0.583 total time=   0.0s\n",
      "[CV 2/5] END ...metric=manhattan, n_neighbors=7;, score=0.597 total time=   0.0s\n",
      "[CV 3/5] END ...metric=manhattan, n_neighbors=7;, score=0.580 total time=   0.0s\n",
      "[CV 4/5] END ...metric=manhattan, n_neighbors=7;, score=0.610 total time=   0.0s\n",
      "[CV 5/5] END ...metric=manhattan, n_neighbors=7;, score=0.589 total time=   0.0s\n",
      "[CV 1/5] END ...metric=manhattan, n_neighbors=9;, score=0.596 total time=   0.0s\n",
      "[CV 2/5] END ...metric=manhattan, n_neighbors=9;, score=0.597 total time=   0.0s\n",
      "[CV 3/5] END ...metric=manhattan, n_neighbors=9;, score=0.574 total time=   0.0s\n",
      "[CV 4/5] END ...metric=manhattan, n_neighbors=9;, score=0.611 total time=   0.0s\n",
      "[CV 5/5] END ...metric=manhattan, n_neighbors=9;, score=0.579 total time=   0.0s\n",
      "[CV 1/5] END ..metric=manhattan, n_neighbors=11;, score=0.604 total time=   0.0s\n",
      "[CV 2/5] END ..metric=manhattan, n_neighbors=11;, score=0.604 total time=   0.0s\n",
      "[CV 3/5] END ..metric=manhattan, n_neighbors=11;, score=0.597 total time=   0.0s\n",
      "[CV 4/5] END ..metric=manhattan, n_neighbors=11;, score=0.609 total time=   0.1s\n",
      "[CV 5/5] END ..metric=manhattan, n_neighbors=11;, score=0.577 total time=   0.1s\n",
      "[CV 1/5] END ..metric=manhattan, n_neighbors=13;, score=0.613 total time=   0.0s\n",
      "[CV 2/5] END ..metric=manhattan, n_neighbors=13;, score=0.589 total time=   0.0s\n",
      "[CV 3/5] END ..metric=manhattan, n_neighbors=13;, score=0.590 total time=   0.0s\n",
      "[CV 4/5] END ..metric=manhattan, n_neighbors=13;, score=0.606 total time=   0.0s\n",
      "[CV 5/5] END ..metric=manhattan, n_neighbors=13;, score=0.591 total time=   0.0s\n",
      "[CV 1/5] END ..metric=manhattan, n_neighbors=15;, score=0.606 total time=   0.0s\n",
      "[CV 2/5] END ..metric=manhattan, n_neighbors=15;, score=0.599 total time=   0.0s\n",
      "[CV 3/5] END ..metric=manhattan, n_neighbors=15;, score=0.594 total time=   0.0s\n",
      "[CV 4/5] END ..metric=manhattan, n_neighbors=15;, score=0.606 total time=   0.0s\n",
      "[CV 5/5] END ..metric=manhattan, n_neighbors=15;, score=0.593 total time=   0.0s\n",
      "[CV 1/5] END ..metric=manhattan, n_neighbors=17;, score=0.609 total time=   0.1s\n",
      "[CV 2/5] END ..metric=manhattan, n_neighbors=17;, score=0.604 total time=   0.1s\n",
      "[CV 3/5] END ..metric=manhattan, n_neighbors=17;, score=0.606 total time=   0.0s\n",
      "[CV 4/5] END ..metric=manhattan, n_neighbors=17;, score=0.594 total time=   0.0s\n",
      "[CV 5/5] END ..metric=manhattan, n_neighbors=17;, score=0.594 total time=   0.0s\n",
      "[CV 1/5] END ..metric=manhattan, n_neighbors=19;, score=0.606 total time=   0.0s\n",
      "[CV 2/5] END ..metric=manhattan, n_neighbors=19;, score=0.610 total time=   0.0s\n",
      "[CV 3/5] END ..metric=manhattan, n_neighbors=19;, score=0.607 total time=   0.0s\n",
      "[CV 4/5] END ..metric=manhattan, n_neighbors=19;, score=0.594 total time=   0.0s\n",
      "[CV 5/5] END ..metric=manhattan, n_neighbors=19;, score=0.591 total time=   0.0s\n",
      "[CV 1/5] END ..metric=manhattan, n_neighbors=21;, score=0.616 total time=   0.0s\n",
      "[CV 2/5] END ..metric=manhattan, n_neighbors=21;, score=0.623 total time=   0.0s\n",
      "[CV 3/5] END ..metric=manhattan, n_neighbors=21;, score=0.620 total time=   0.0s\n",
      "[CV 4/5] END ..metric=manhattan, n_neighbors=21;, score=0.609 total time=   0.0s\n",
      "[CV 5/5] END ..metric=manhattan, n_neighbors=21;, score=0.586 total time=   0.0s\n",
      "[CV 1/5] END ..metric=manhattan, n_neighbors=23;, score=0.627 total time=   0.0s\n",
      "[CV 2/5] END ..metric=manhattan, n_neighbors=23;, score=0.614 total time=   0.0s\n",
      "[CV 3/5] END ..metric=manhattan, n_neighbors=23;, score=0.616 total time=   0.0s\n",
      "[CV 4/5] END ..metric=manhattan, n_neighbors=23;, score=0.613 total time=   0.0s\n",
      "[CV 5/5] END ..metric=manhattan, n_neighbors=23;, score=0.580 total time=   0.0s\n",
      "[CV 1/5] END ..metric=manhattan, n_neighbors=25;, score=0.633 total time=   0.0s\n",
      "[CV 2/5] END ..metric=manhattan, n_neighbors=25;, score=0.620 total time=   0.0s\n",
      "[CV 3/5] END ..metric=manhattan, n_neighbors=25;, score=0.613 total time=   0.0s\n",
      "[CV 4/5] END ..metric=manhattan, n_neighbors=25;, score=0.607 total time=   0.0s\n",
      "[CV 5/5] END ..metric=manhattan, n_neighbors=25;, score=0.584 total time=   0.0s\n",
      "[CV 1/5] END ..metric=manhattan, n_neighbors=27;, score=0.630 total time=   0.0s\n",
      "[CV 2/5] END ..metric=manhattan, n_neighbors=27;, score=0.616 total time=   0.0s\n",
      "[CV 3/5] END ..metric=manhattan, n_neighbors=27;, score=0.629 total time=   0.0s\n",
      "[CV 4/5] END ..metric=manhattan, n_neighbors=27;, score=0.616 total time=   0.0s\n",
      "[CV 5/5] END ..metric=manhattan, n_neighbors=27;, score=0.603 total time=   0.0s\n",
      "[CV 1/5] END ..metric=manhattan, n_neighbors=29;, score=0.629 total time=   0.0s\n",
      "[CV 2/5] END ..metric=manhattan, n_neighbors=29;, score=0.621 total time=   0.0s\n",
      "[CV 3/5] END ..metric=manhattan, n_neighbors=29;, score=0.631 total time=   0.0s\n",
      "[CV 4/5] END ..metric=manhattan, n_neighbors=29;, score=0.614 total time=   0.0s\n",
      "[CV 5/5] END ..metric=manhattan, n_neighbors=29;, score=0.594 total time=   0.1s\n"
     ]
    },
    {
     "data": {
      "text/plain": [
       "GridSearchCV(cv=5, estimator=KNeighborsClassifier(),\n",
       "             param_grid={'metric': ['euclidean', 'manhattan'],\n",
       "                         'n_neighbors': range(3, 31, 2)},\n",
       "             verbose=3)"
      ]
     },
     "execution_count": 40,
     "metadata": {},
     "output_type": "execute_result"
    }
   ],
   "source": [
    "# 학습 : model이 아니라 model_rs\n",
    "model_gs.fit(x_train_s, y_train)"
   ]
  },
  {
   "cell_type": "code",
   "execution_count": null,
   "metadata": {},
   "outputs": [
    {
     "data": {
      "text/plain": [
       "{'mean_fit_time': array([0.00119681, 0.00119414, 0.00140429, 0.00109844, 0.0007978 ,\n",
       "        0.00079541, 0.00129905, 0.00099826, 0.0009975 , 0.00111804,\n",
       "        0.00139675, 0.00079789, 0.00099683, 0.00099716, 0.00099778,\n",
       "        0.00060501, 0.00099711, 0.00080161, 0.001196  , 0.00118318,\n",
       "        0.0009974 , 0.0012136 , 0.00039883, 0.00059333, 0.0009973 ,\n",
       "        0.001197  , 0.0008039 , 0.00119128]),\n",
       " 'std_fit_time': array([3.98779044e-04, 4.00632173e-04, 2.03037128e-04, 2.02512769e-04,\n",
       "        3.98898221e-04, 3.97735399e-04, 5.95102604e-04, 2.33995416e-05,\n",
       "        6.97552626e-07, 6.75672728e-04, 4.88636574e-04, 3.98945905e-04,\n",
       "        9.88790577e-07, 5.95569420e-07, 3.01578299e-07, 4.94122183e-04,\n",
       "        1.09153015e-06, 4.00857359e-04, 3.99307251e-04, 3.92591781e-04,\n",
       "        1.90734863e-07, 3.91485409e-04, 4.88460925e-04, 4.84551437e-04,\n",
       "        6.21719590e-07, 3.99044776e-04, 4.02114273e-04, 4.02150749e-04]),\n",
       " 'mean_score_time': array([0.0546535 , 0.06509662, 0.06169186, 0.06239495, 0.0560009 ,\n",
       "        0.05650024, 0.05618887, 0.05573697, 0.05336018, 0.05546699,\n",
       "        0.05685635, 0.05724673, 0.05686426, 0.05714846, 0.05734835,\n",
       "        0.06756444, 0.0682179 , 0.06901493, 0.06742511, 0.07281275,\n",
       "        0.06879821, 0.06817069, 0.07021184, 0.06882668, 0.0692153 ,\n",
       "        0.06887889, 0.06791978, 0.06961408]),\n",
       " 'std_score_time': array([0.00674651, 0.00746045, 0.00369725, 0.00544259, 0.0024668 ,\n",
       "        0.0021636 , 0.00229702, 0.00278557, 0.00205809, 0.00161364,\n",
       "        0.00261456, 0.00184988, 0.00295636, 0.00139586, 0.00274901,\n",
       "        0.00257459, 0.0022198 , 0.0023379 , 0.00148512, 0.00567233,\n",
       "        0.00408975, 0.00173459, 0.00102327, 0.00309522, 0.00101211,\n",
       "        0.00164951, 0.00047055, 0.00264847]),\n",
       " 'param_metric': masked_array(data=['euclidean', 'euclidean', 'euclidean', 'euclidean',\n",
       "                    'euclidean', 'euclidean', 'euclidean', 'euclidean',\n",
       "                    'euclidean', 'euclidean', 'euclidean', 'euclidean',\n",
       "                    'euclidean', 'euclidean', 'manhattan', 'manhattan',\n",
       "                    'manhattan', 'manhattan', 'manhattan', 'manhattan',\n",
       "                    'manhattan', 'manhattan', 'manhattan', 'manhattan',\n",
       "                    'manhattan', 'manhattan', 'manhattan', 'manhattan'],\n",
       "              mask=[False, False, False, False, False, False, False, False,\n",
       "                    False, False, False, False, False, False, False, False,\n",
       "                    False, False, False, False, False, False, False, False,\n",
       "                    False, False, False, False],\n",
       "        fill_value='?',\n",
       "             dtype=object),\n",
       " 'param_n_neighbors': masked_array(data=[3, 5, 7, 9, 11, 13, 15, 17, 19, 21, 23, 25, 27, 29, 3,\n",
       "                    5, 7, 9, 11, 13, 15, 17, 19, 21, 23, 25, 27, 29],\n",
       "              mask=[False, False, False, False, False, False, False, False,\n",
       "                    False, False, False, False, False, False, False, False,\n",
       "                    False, False, False, False, False, False, False, False,\n",
       "                    False, False, False, False],\n",
       "        fill_value='?',\n",
       "             dtype=object),\n",
       " 'params': [{'metric': 'euclidean', 'n_neighbors': 3},\n",
       "  {'metric': 'euclidean', 'n_neighbors': 5},\n",
       "  {'metric': 'euclidean', 'n_neighbors': 7},\n",
       "  {'metric': 'euclidean', 'n_neighbors': 9},\n",
       "  {'metric': 'euclidean', 'n_neighbors': 11},\n",
       "  {'metric': 'euclidean', 'n_neighbors': 13},\n",
       "  {'metric': 'euclidean', 'n_neighbors': 15},\n",
       "  {'metric': 'euclidean', 'n_neighbors': 17},\n",
       "  {'metric': 'euclidean', 'n_neighbors': 19},\n",
       "  {'metric': 'euclidean', 'n_neighbors': 21},\n",
       "  {'metric': 'euclidean', 'n_neighbors': 23},\n",
       "  {'metric': 'euclidean', 'n_neighbors': 25},\n",
       "  {'metric': 'euclidean', 'n_neighbors': 27},\n",
       "  {'metric': 'euclidean', 'n_neighbors': 29},\n",
       "  {'metric': 'manhattan', 'n_neighbors': 3},\n",
       "  {'metric': 'manhattan', 'n_neighbors': 5},\n",
       "  {'metric': 'manhattan', 'n_neighbors': 7},\n",
       "  {'metric': 'manhattan', 'n_neighbors': 9},\n",
       "  {'metric': 'manhattan', 'n_neighbors': 11},\n",
       "  {'metric': 'manhattan', 'n_neighbors': 13},\n",
       "  {'metric': 'manhattan', 'n_neighbors': 15},\n",
       "  {'metric': 'manhattan', 'n_neighbors': 17},\n",
       "  {'metric': 'manhattan', 'n_neighbors': 19},\n",
       "  {'metric': 'manhattan', 'n_neighbors': 21},\n",
       "  {'metric': 'manhattan', 'n_neighbors': 23},\n",
       "  {'metric': 'manhattan', 'n_neighbors': 25},\n",
       "  {'metric': 'manhattan', 'n_neighbors': 27},\n",
       "  {'metric': 'manhattan', 'n_neighbors': 29}],\n",
       " 'split0_test_score': array([0.58285714, 0.57857143, 0.58142857, 0.58285714, 0.57142857,\n",
       "        0.57857143, 0.57428571, 0.59      , 0.59142857, 0.59      ,\n",
       "        0.59857143, 0.58857143, 0.59142857, 0.58285714, 0.57714286,\n",
       "        0.60428571, 0.58285714, 0.59571429, 0.60428571, 0.61285714,\n",
       "        0.60571429, 0.60857143, 0.60571429, 0.61571429, 0.62714286,\n",
       "        0.63285714, 0.63      , 0.62857143]),\n",
       " 'split1_test_score': array([0.57714286, 0.59857143, 0.57857143, 0.57714286, 0.57857143,\n",
       "        0.58714286, 0.59428571, 0.59285714, 0.6       , 0.59142857,\n",
       "        0.60142857, 0.60571429, 0.58571429, 0.58571429, 0.58142857,\n",
       "        0.59285714, 0.59714286, 0.59714286, 0.60428571, 0.58857143,\n",
       "        0.59857143, 0.60428571, 0.61      , 0.62285714, 0.61428571,\n",
       "        0.62      , 0.61571429, 0.62142857]),\n",
       " 'split2_test_score': array([0.55428571, 0.56857143, 0.56857143, 0.55714286, 0.54428571,\n",
       "        0.56285714, 0.57714286, 0.56714286, 0.56857143, 0.57857143,\n",
       "        0.59      , 0.58142857, 0.58428571, 0.59142857, 0.54857143,\n",
       "        0.57714286, 0.58      , 0.57428571, 0.59714286, 0.59      ,\n",
       "        0.59428571, 0.60571429, 0.60714286, 0.62      , 0.61571429,\n",
       "        0.61285714, 0.62857143, 0.63142857]),\n",
       " 'split3_test_score': array([0.6       , 0.57857143, 0.58      , 0.57857143, 0.58142857,\n",
       "        0.58285714, 0.59285714, 0.6       , 0.57857143, 0.57857143,\n",
       "        0.57714286, 0.57571429, 0.56857143, 0.56857143, 0.59      ,\n",
       "        0.58285714, 0.61      , 0.61142857, 0.60857143, 0.60571429,\n",
       "        0.60571429, 0.59428571, 0.59428571, 0.60857143, 0.61285714,\n",
       "        0.60714286, 0.61571429, 0.61428571]),\n",
       " 'split4_test_score': array([0.58      , 0.57285714, 0.57714286, 0.57142857, 0.56428571,\n",
       "        0.56142857, 0.56571429, 0.56285714, 0.55714286, 0.56428571,\n",
       "        0.56285714, 0.57142857, 0.56857143, 0.57285714, 0.56857143,\n",
       "        0.6       , 0.58857143, 0.57857143, 0.57714286, 0.59142857,\n",
       "        0.59285714, 0.59428571, 0.59142857, 0.58571429, 0.58      ,\n",
       "        0.58428571, 0.60285714, 0.59428571]),\n",
       " 'mean_test_score': array([0.57885714, 0.57942857, 0.57714286, 0.57342857, 0.568     ,\n",
       "        0.57457143, 0.58085714, 0.58257143, 0.57914286, 0.58057143,\n",
       "        0.586     , 0.58457143, 0.57971429, 0.58028571, 0.57314286,\n",
       "        0.59142857, 0.59171429, 0.59142857, 0.59828571, 0.59771429,\n",
       "        0.59942857, 0.60142857, 0.60171429, 0.61057143, 0.61      ,\n",
       "        0.61142857, 0.61857143, 0.618     ]),\n",
       " 'std_test_score': array([0.01463571, 0.01028571, 0.00451754, 0.008926  , 0.0132665 ,\n",
       "        0.01051335, 0.0110509 , 0.0147745 , 0.01537557, 0.00979796,\n",
       "        0.01432566, 0.01203397, 0.0094069 , 0.00839825, 0.01409588,\n",
       "        0.01018202, 0.01085714, 0.01349225, 0.01119037, 0.00975621,\n",
       "        0.00546604, 0.00599319, 0.00741757, 0.01332789, 0.01583074,\n",
       "        0.01606111, 0.00993859, 0.0132665 ]),\n",
       " 'rank_test_score': array([23, 21, 24, 26, 28, 25, 17, 16, 22, 18, 14, 15, 20, 19, 27, 13, 11,\n",
       "        12,  9, 10,  8,  7,  6,  4,  5,  3,  1,  2])}"
      ]
     },
     "execution_count": 57,
     "metadata": {},
     "output_type": "execute_result"
    }
   ],
   "source": [
    "# 튜닝 결과\n",
    "model_gs.cv_results_"
   ]
  },
  {
   "cell_type": "code",
   "execution_count": 58,
   "metadata": {
    "id": "B7KakeYkhmA1"
   },
   "outputs": [
    {
     "data": {
      "text/plain": [
       "[{'metric': 'euclidean', 'n_neighbors': 3},\n",
       " {'metric': 'euclidean', 'n_neighbors': 5},\n",
       " {'metric': 'euclidean', 'n_neighbors': 7},\n",
       " {'metric': 'euclidean', 'n_neighbors': 9},\n",
       " {'metric': 'euclidean', 'n_neighbors': 11},\n",
       " {'metric': 'euclidean', 'n_neighbors': 13},\n",
       " {'metric': 'euclidean', 'n_neighbors': 15},\n",
       " {'metric': 'euclidean', 'n_neighbors': 17},\n",
       " {'metric': 'euclidean', 'n_neighbors': 19},\n",
       " {'metric': 'euclidean', 'n_neighbors': 21},\n",
       " {'metric': 'euclidean', 'n_neighbors': 23},\n",
       " {'metric': 'euclidean', 'n_neighbors': 25},\n",
       " {'metric': 'euclidean', 'n_neighbors': 27},\n",
       " {'metric': 'euclidean', 'n_neighbors': 29},\n",
       " {'metric': 'manhattan', 'n_neighbors': 3},\n",
       " {'metric': 'manhattan', 'n_neighbors': 5},\n",
       " {'metric': 'manhattan', 'n_neighbors': 7},\n",
       " {'metric': 'manhattan', 'n_neighbors': 9},\n",
       " {'metric': 'manhattan', 'n_neighbors': 11},\n",
       " {'metric': 'manhattan', 'n_neighbors': 13},\n",
       " {'metric': 'manhattan', 'n_neighbors': 15},\n",
       " {'metric': 'manhattan', 'n_neighbors': 17},\n",
       " {'metric': 'manhattan', 'n_neighbors': 19},\n",
       " {'metric': 'manhattan', 'n_neighbors': 21},\n",
       " {'metric': 'manhattan', 'n_neighbors': 23},\n",
       " {'metric': 'manhattan', 'n_neighbors': 25},\n",
       " {'metric': 'manhattan', 'n_neighbors': 27},\n",
       " {'metric': 'manhattan', 'n_neighbors': 29}]"
      ]
     },
     "execution_count": 58,
     "metadata": {},
     "output_type": "execute_result"
    }
   ],
   "source": [
    "model_gs.cv_results_['params']"
   ]
  },
  {
   "cell_type": "code",
   "execution_count": 59,
   "metadata": {
    "id": "bweqbwp4hmA2"
   },
   "outputs": [
    {
     "data": {
      "text/plain": [
       "array([0.57885714, 0.57942857, 0.57714286, 0.57342857, 0.568     ,\n",
       "       0.57457143, 0.58085714, 0.58257143, 0.57914286, 0.58057143,\n",
       "       0.586     , 0.58457143, 0.57971429, 0.58028571, 0.57314286,\n",
       "       0.59142857, 0.59171429, 0.59142857, 0.59828571, 0.59771429,\n",
       "       0.59942857, 0.60142857, 0.60171429, 0.61057143, 0.61      ,\n",
       "       0.61142857, 0.61857143, 0.618     ])"
      ]
     },
     "execution_count": 59,
     "metadata": {},
     "output_type": "execute_result"
    }
   ],
   "source": [
    "model_gs.cv_results_['mean_test_score']"
   ]
  },
  {
   "cell_type": "code",
   "execution_count": 60,
   "metadata": {
    "id": "6m0F5W3IhmA2"
   },
   "outputs": [
    {
     "data": {
      "text/plain": [
       "{'metric': 'manhattan', 'n_neighbors': 27}"
      ]
     },
     "execution_count": 60,
     "metadata": {},
     "output_type": "execute_result"
    }
   ],
   "source": [
    "# 최적의 파라미터\n",
    "model_gs.best_params_"
   ]
  },
  {
   "cell_type": "code",
   "execution_count": 61,
   "metadata": {
    "id": "1aaAI6PshmA2"
   },
   "outputs": [
    {
     "data": {
      "text/plain": [
       "0.6185714285714285"
      ]
     },
     "execution_count": 61,
     "metadata": {},
     "output_type": "execute_result"
    }
   ],
   "source": [
    "# 그때의 성능\n",
    "model_gs.best_score_"
   ]
  },
  {
   "cell_type": "code",
   "execution_count": 62,
   "metadata": {
    "id": "aW3lOKgKhmA2"
   },
   "outputs": [
    {
     "name": "stdout",
     "output_type": "stream",
     "text": [
      "              precision    recall  f1-score   support\n",
      "\n",
      "           0       0.59      0.72      0.65       738\n",
      "           1       0.65      0.51      0.57       762\n",
      "\n",
      "    accuracy                           0.61      1500\n",
      "   macro avg       0.62      0.61      0.61      1500\n",
      "weighted avg       0.62      0.61      0.61      1500\n",
      "\n"
     ]
    }
   ],
   "source": [
    "# best 모델로 예측 및 평가\n",
    "pred = model_gs.predict(x_val_s)\n",
    "print(classification_report(y_val, pred))"
   ]
  },
  {
   "cell_type": "markdown",
   "metadata": {
    "id": "DobFs64hhmA2"
   },
   "source": [
    "### (5) 실습 : Grid Search\n",
    "\n",
    "* decision tree로 튜닝을 시도해 봅시다.\n",
    "    * max_depth : 1~10\n",
    "    * min_samples_leaf : 10 ~ 100"
   ]
  },
  {
   "cell_type": "markdown",
   "metadata": {
    "id": "vHvcEIqJhmA3"
   },
   "source": [
    "#### ① 값의 범위를 지정한다."
   ]
  },
  {
   "cell_type": "code",
   "execution_count": 64,
   "metadata": {
    "id": "A0fCwubihmA5"
   },
   "outputs": [
    {
     "data": {
      "text/plain": [
       "{'max_depth': range(1, 11), 'min_samples_leaf': range(10, 101)}"
      ]
     },
     "execution_count": 64,
     "metadata": {},
     "output_type": "execute_result"
    }
   ],
   "source": [
    "params = {'max_depth' : range(1, 11), 'min_samples_leaf' : range(10, 101)}\n",
    "params"
   ]
  },
  {
   "cell_type": "markdown",
   "metadata": {
    "id": "tKoDEEbzhmA5"
   },
   "source": [
    "#### ② 모델 선언"
   ]
  },
  {
   "cell_type": "code",
   "execution_count": 66,
   "metadata": {
    "id": "26SqSRbLhmA5"
   },
   "outputs": [],
   "source": [
    "model = DecisionTreeClassifier()\n",
    "\n",
    "model_gs = GridSearchCV(model, params, cv=5) # verbose=2 각각 실행 정보 출력 "
   ]
  },
  {
   "cell_type": "markdown",
   "metadata": {
    "id": "YT-krLWkhmA5"
   },
   "source": [
    "#### ③ 모델링"
   ]
  },
  {
   "cell_type": "code",
   "execution_count": 70,
   "metadata": {},
   "outputs": [
    {
     "data": {
      "text/plain": [
       "GridSearchCV(cv=5, estimator=DecisionTreeClassifier(),\n",
       "             param_grid={'max_depth': range(1, 11),\n",
       "                         'min_samples_leaf': range(10, 101)})"
      ]
     },
     "execution_count": 70,
     "metadata": {},
     "output_type": "execute_result"
    }
   ],
   "source": [
    "# 학습 : model이 아니라 model_rs\n",
    "model_gs.fit(x_train_s, y_train)"
   ]
  },
  {
   "cell_type": "code",
   "execution_count": null,
   "metadata": {
    "id": "He7AMq8f7kz5"
   },
   "outputs": [],
   "source": [
    "# 튜닝 결과\n",
    "model_gs.cv_results_"
   ]
  },
  {
   "cell_type": "code",
   "execution_count": null,
   "metadata": {
    "id": "FvzOJV_37kw_"
   },
   "outputs": [],
   "source": [
    "model_gs.cv_results_['params']"
   ]
  },
  {
   "cell_type": "code",
   "execution_count": null,
   "metadata": {
    "id": "OdolBuhy7kuL"
   },
   "outputs": [],
   "source": [
    "model_gs.cv_results_['mean_test_score']"
   ]
  },
  {
   "cell_type": "code",
   "execution_count": 72,
   "metadata": {
    "id": "zwQfhIwt7krA"
   },
   "outputs": [
    {
     "data": {
      "text/plain": [
       "{'max_depth': 7, 'min_samples_leaf': 28}"
      ]
     },
     "execution_count": 72,
     "metadata": {},
     "output_type": "execute_result"
    }
   ],
   "source": [
    "# 최적의 파라미터\n",
    "model_gs.best_params_"
   ]
  },
  {
   "cell_type": "code",
   "execution_count": 73,
   "metadata": {},
   "outputs": [
    {
     "data": {
      "text/plain": [
       "0.7017142857142857"
      ]
     },
     "execution_count": 73,
     "metadata": {},
     "output_type": "execute_result"
    }
   ],
   "source": [
    "# 그때의 성능\n",
    "model_gs.best_score_"
   ]
  },
  {
   "cell_type": "code",
   "execution_count": 74,
   "metadata": {},
   "outputs": [
    {
     "name": "stdout",
     "output_type": "stream",
     "text": [
      "              precision    recall  f1-score   support\n",
      "\n",
      "           0       0.66      0.70      0.68       738\n",
      "           1       0.69      0.66      0.68       762\n",
      "\n",
      "    accuracy                           0.68      1500\n",
      "   macro avg       0.68      0.68      0.68      1500\n",
      "weighted avg       0.68      0.68      0.68      1500\n",
      "\n"
     ]
    }
   ],
   "source": [
    "# best 모델로 예측 및 평가\n",
    "pred = model_gs.predict(x_val_s)\n",
    "print(classification_report(y_val, pred))"
   ]
  },
  {
   "cell_type": "code",
   "execution_count": null,
   "metadata": {},
   "outputs": [],
   "source": []
  }
 ],
 "metadata": {
  "colab": {
   "authorship_tag": "ABX9TyN6Prk/6koXd+7LqYkAnr0v",
   "collapsed_sections": [],
   "name": "08과 성능튜닝.ipynb",
   "provenance": [],
   "toc_visible": true
  },
  "kernelspec": {
   "display_name": "Python 3 (ipykernel)",
   "language": "python",
   "name": "python3"
  },
  "language_info": {
   "codemirror_mode": {
    "name": "ipython",
    "version": 3
   },
   "file_extension": ".py",
   "mimetype": "text/x-python",
   "name": "python",
   "nbconvert_exporter": "python",
   "pygments_lexer": "ipython3",
   "version": "3.9.7"
  }
 },
 "nbformat": 4,
 "nbformat_minor": 4
}
