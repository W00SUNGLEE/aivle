{
 "cells": [
  {
   "cell_type": "markdown",
   "id": "60779a9b",
   "metadata": {
    "id": "60779a9b"
   },
   "source": [
    " # 기본 전처리 및 Baseline model\n",
    "\n",
    "* 데이터에 대한 기본 전처리를 수행한 후\n",
    "* Baseline 모델을 생성하고 평가합니다."
   ]
  },
  {
   "cell_type": "markdown",
   "id": "Or5xdnmzfzQu",
   "metadata": {
    "id": "Or5xdnmzfzQu"
   },
   "source": [
    "# 1.환경준비"
   ]
  },
  {
   "cell_type": "markdown",
   "id": "4GlLGDhIqh8Y",
   "metadata": {
    "id": "4GlLGDhIqh8Y"
   },
   "source": [
    "## (1) 라이브러리 로딩"
   ]
  },
  {
   "cell_type": "code",
   "execution_count": null,
   "id": "0ff8f366",
   "metadata": {
    "id": "0ff8f366"
   },
   "outputs": [],
   "source": [
    "import pandas as pd\n",
    "import numpy as np\n",
    "import matplotlib.pyplot as plt\n",
    "import seaborn as sns\n",
    "\n",
    "import scipy.stats as spst\n",
    "\n",
    "import warnings\n",
    "warnings.filterwarnings(action='ignore')"
   ]
  },
  {
   "cell_type": "markdown",
   "id": "NJ_16kUxqlFH",
   "metadata": {
    "id": "NJ_16kUxqlFH"
   },
   "source": [
    "## (2) 데이터 불러오기"
   ]
  },
  {
   "cell_type": "code",
   "execution_count": null,
   "id": "3GgFpOB4zQ7h",
   "metadata": {
    "id": "3GgFpOB4zQ7h"
   },
   "outputs": [],
   "source": [
    "path = 'https://raw.githubusercontent.com/DA4BAM/dataset/master/retail_demand2.csv'\n",
    "data = pd.read_csv(path, usecols = ['date', 'sales', 'tot_sales', 'comp_sales'])\n",
    "data = data.loc[data['date']<= '2015-10-31'].reset_index(drop = True)\n",
    "data.head()"
   ]
  },
  {
   "cell_type": "markdown",
   "id": "cG5cky5FS7jp",
   "metadata": {
    "id": "cG5cky5FS7jp"
   },
   "source": [
    "* 변수 설명\n",
    "\n",
    "    * date : 날짜\n",
    "    * sales : A유통회사 a 매장 aa상품의 일별 판매량\n",
    "    * tot_sales : A유통회사 전 매장 aa상품의 일별 판매량\n",
    "    * comp_sales : a매장 인근 B유통회사(경쟁사) b매장 aa상품의 일별 판매량"
   ]
  },
  {
   "cell_type": "code",
   "execution_count": null,
   "id": "jhYBDhh8HVev",
   "metadata": {
    "id": "jhYBDhh8HVev"
   },
   "outputs": [],
   "source": [
    "plt.figure(figsize = (20,8))\n",
    "plt.plot(data['sales'])\n",
    "plt.grid()\n",
    "plt.show()"
   ]
  },
  {
   "cell_type": "code",
   "execution_count": null,
   "id": "u9nk0CmMTsB_",
   "metadata": {
    "id": "u9nk0CmMTsB_"
   },
   "outputs": [],
   "source": [
    "temp = data[-100:]\n",
    "plt.figure(figsize = (20,8))\n",
    "plt.plot(temp['sales'], marker ='o')\n",
    "plt.grid()\n",
    "plt.show()"
   ]
  },
  {
   "cell_type": "markdown",
   "id": "y1fbICOYqolg",
   "metadata": {
    "id": "y1fbICOYqolg"
   },
   "source": [
    "# 2.기본 전처리"
   ]
  },
  {
   "cell_type": "markdown",
   "id": "TMsKSh4Cq22o",
   "metadata": {
    "id": "TMsKSh4Cq22o"
   },
   "source": [
    "## (1) 날짜 인덱스"
   ]
  },
  {
   "cell_type": "markdown",
   "id": "f6izlN8PO8u5",
   "metadata": {
    "id": "f6izlN8PO8u5"
   },
   "source": [
    "### 1) 날짜 타입으로 변경하기"
   ]
  },
  {
   "cell_type": "code",
   "execution_count": null,
   "id": "689S2PusPNQ6",
   "metadata": {
    "id": "689S2PusPNQ6"
   },
   "outputs": [],
   "source": [
    "# 데이터프레임의 정보를 살펴 봅시다.\n",
    "data.info()"
   ]
  },
  {
   "cell_type": "markdown",
   "id": "YvUZnrvyr2ic",
   "metadata": {
    "id": "YvUZnrvyr2ic"
   },
   "source": [
    "* 날짜 요소로 변환하기 : pd.to_datetime( *날짜형식으로 저장된 문자열 변수*   , **format** = )  \n",
    "* format : 일반적인(쉽게 인식 가능한 형태)는 생략 가능 (예 : yyyy-mm-dd hh:mi:ss)\n",
    "    * to_datetime : https://pandas.pydata.org/docs/reference/api/pandas.to_datetime.html\n",
    "    * format : https://docs.python.org/3/library/datetime.html#strftime-and-strptime-behavior"
   ]
  },
  {
   "cell_type": "code",
   "execution_count": null,
   "id": "4RrgUknlPAH0",
   "metadata": {
    "id": "4RrgUknlPAH0"
   },
   "outputs": [],
   "source": [
    "data['date'] = pd.to_datetime(data['date'])\n",
    "data.info()"
   ]
  },
  {
   "cell_type": "markdown",
   "id": "YzJ6BiXCujTp",
   "metadata": {
    "id": "YzJ6BiXCujTp"
   },
   "source": [
    "### 2) 날짜를 인덱스로 변환하기"
   ]
  },
  {
   "cell_type": "code",
   "execution_count": null,
   "id": "95D_qhRaufDn",
   "metadata": {
    "id": "95D_qhRaufDn"
   },
   "outputs": [],
   "source": [
    "data['DT'] = data['date']\n",
    "data.set_index('DT', inplace=True)\n",
    "data.head()"
   ]
  },
  {
   "cell_type": "markdown",
   "id": "p7KBfAHjeF-H",
   "metadata": {
    "id": "p7KBfAHjeF-H"
   },
   "source": [
    "### 3) 날짜단위 지정하기 : freq\n",
    "\n",
    "* **분석 단위**를 어떻게 가져갈 것인가와 관련이 있습니다.\n",
    "* 시계열 데이터를 **일정한 시간 간격**으로 만들어 줍니다.\n",
    "* 인덱스 조회시, 마지막에 있는 **freq** 옵션"
   ]
  },
  {
   "cell_type": "code",
   "execution_count": null,
   "id": "PhSzxFVfeIsF",
   "metadata": {
    "id": "PhSzxFVfeIsF"
   },
   "outputs": [],
   "source": [
    "data.index"
   ]
  },
  {
   "cell_type": "markdown",
   "id": "FrEkymSNf72R",
   "metadata": {
    "id": "FrEkymSNf72R"
   },
   "source": [
    "* 변경하기 \n",
    "    * 시간단위 : H\n",
    "    * 일 : D  (일 중 가장 빠른 시간의 데이터)\n",
    "    * 월 : \n",
    "        * M (월 중 가장 마지막 날 데이터)\n",
    "        * MS (월 중 가장 첫 날 데이터)    "
   ]
  },
  {
   "cell_type": "markdown",
   "id": "Anlatp-VeX6a",
   "metadata": {
    "id": "Anlatp-VeX6a"
   },
   "source": [
    "* asfreq : https://pandas.pydata.org/docs/reference/api/pandas.DataFrame.asfreq.html\n",
    "* freq 지정 방식 설명 : https://rfriend.tistory.com/506"
   ]
  },
  {
   "cell_type": "code",
   "execution_count": null,
   "id": "duO13Ccqtug2",
   "metadata": {
    "id": "duO13Ccqtug2"
   },
   "outputs": [],
   "source": [
    "# 일단위\n",
    "data.asfreq('D').head()"
   ]
  },
  {
   "cell_type": "code",
   "execution_count": null,
   "id": "966-NPrtvtaR",
   "metadata": {
    "id": "966-NPrtvtaR"
   },
   "outputs": [],
   "source": [
    "# 월(말)단위\n",
    "data.asfreq('M').head()"
   ]
  },
  {
   "cell_type": "code",
   "execution_count": null,
   "id": "xGBgm_2TwrMA",
   "metadata": {
    "id": "xGBgm_2TwrMA"
   },
   "outputs": [],
   "source": [
    "# 월초 단위\n",
    "data.asfreq('MS').head()"
   ]
  },
  {
   "cell_type": "markdown",
   "id": "HqZ94fRVw8iI",
   "metadata": {
    "id": "HqZ94fRVw8iI"
   },
   "source": [
    "### 4) 빠진 값 찾기\n",
    "예제 데이터에서는 없지만, 실제 쌓인 데이터에서는 빠진 데이터 발생 가능"
   ]
  },
  {
   "cell_type": "code",
   "execution_count": null,
   "id": "vSVUjREmxJQm",
   "metadata": {
    "id": "vSVUjREmxJQm"
   },
   "outputs": [],
   "source": [
    "temp = data.asfreq('D')"
   ]
  },
  {
   "cell_type": "code",
   "execution_count": null,
   "id": "goOZSD4dxMMO",
   "metadata": {
    "id": "goOZSD4dxMMO"
   },
   "outputs": [],
   "source": [
    "temp.isna().sum()"
   ]
  },
  {
   "cell_type": "markdown",
   "id": "R_o32sLJxjhM",
   "metadata": {
    "id": "R_o32sLJxjhM"
   },
   "source": [
    "* 만약 빠진 데이터가 있다면, 아래와 같이 채울 수 있음."
   ]
  },
  {
   "cell_type": "code",
   "execution_count": null,
   "id": "XgR9v5hweh5m",
   "metadata": {
    "id": "XgR9v5hweh5m"
   },
   "outputs": [],
   "source": [
    "data.asfreq('D', method = 'ffill')"
   ]
  },
  {
   "cell_type": "markdown",
   "id": "crNJ5bG04ump",
   "metadata": {
    "id": "crNJ5bG04ump"
   },
   "source": [
    "* 여기서는 일 단위 데이터이므로 D로 지정"
   ]
  },
  {
   "cell_type": "code",
   "execution_count": null,
   "id": "oteUP6YPxrzM",
   "metadata": {
    "id": "oteUP6YPxrzM"
   },
   "outputs": [],
   "source": [
    "df = data.asfreq('D')\n",
    "df.head()"
   ]
  },
  {
   "cell_type": "markdown",
   "id": "57hByVZOf4CQ",
   "metadata": {
    "id": "57hByVZOf4CQ"
   },
   "source": [
    "## (2) y 만들기"
   ]
  },
  {
   "cell_type": "markdown",
   "id": "bq7gmu2mjLN5",
   "metadata": {
    "id": "bq7gmu2mjLN5"
   },
   "source": [
    "* 사전 관찰(look-ahead) : 미래의 어떤 사실을 안다는 뜻\n",
    "* 사전 관찰 문제 : \n",
    "    * 데이터를 통해 실제로 알아야 하는 시점보다 더 일찍 미래에 대한 사실을 알게 되는 문제.  \n",
    "    * 사전관찰 문제가 있는 채로 모델링을 하게 되면, 놀라운 성능의 모델이 만들어짐. --> 그러나 실제로는 불가능한 상황."
   ]
  },
  {
   "cell_type": "markdown",
   "id": "1ExaFU9mpJUK",
   "metadata": {
    "id": "1ExaFU9mpJUK"
   },
   "source": [
    "* 그래서 y를 만들때 사전관찰문제가 발생되지 않도록 해야 함.\n",
    "    * 예제는 1일 후의 수요량을 예측하려고 합니다."
   ]
  },
  {
   "cell_type": "markdown",
   "id": "zgR1K-7XtA9D",
   "metadata": {
    "id": "zgR1K-7XtA9D"
   },
   "source": [
    "* 1일 후 수요량을 예측하려면, y를 어떻게 만들어야 할까요?"
   ]
  },
  {
   "cell_type": "code",
   "execution_count": null,
   "id": "NdFFrAUAtIYy",
   "metadata": {
    "id": "NdFFrAUAtIYy"
   },
   "outputs": [],
   "source": [
    "df['y'] = df['sales'].shift(-1)\n",
    "display(df.head())\n",
    "display(df.tail())"
   ]
  },
  {
   "cell_type": "code",
   "execution_count": null,
   "id": "JNx0QukL6aNM",
   "metadata": {
    "id": "JNx0QukL6aNM"
   },
   "outputs": [],
   "source": [
    "# 제일 마지막 행은 삭제\n",
    "df.dropna(axis = 0, inplace = True)\n",
    "df.tail()"
   ]
  },
  {
   "cell_type": "markdown",
   "id": "YdzJ8Feyv2o6",
   "metadata": {
    "id": "YdzJ8Feyv2o6"
   },
   "source": [
    "## (3) 데이터 분할"
   ]
  },
  {
   "cell_type": "markdown",
   "id": "zdJUKZoew91D",
   "metadata": {
    "id": "zdJUKZoew91D"
   },
   "source": [
    "### 1) x, y 나누기\n",
    "\n",
    "* .values(넘파이 어레이)로 변환해서 저장하는 이유 ➡ 데이터 스플릿 index를 적용해서 데이터를 가져오기 위해서"
   ]
  },
  {
   "cell_type": "code",
   "execution_count": null,
   "id": "62z8Rvi8v0wy",
   "metadata": {
    "id": "62z8Rvi8v0wy"
   },
   "outputs": [],
   "source": [
    "target = 'y'\n",
    "\n",
    "x = df.drop([target, 'date'], axis = 1)\n",
    "y = df.loc[:, target]"
   ]
  },
  {
   "cell_type": "markdown",
   "id": "KJzqLqxjxAhn",
   "metadata": {
    "id": "KJzqLqxjxAhn"
   },
   "source": [
    "### 2) 시계열 데이터 분할\n",
    "\n",
    "* 다음의 조건으로 Cross Validation을 수행하겠습니다.\n",
    "    * 3-fold\n",
    "    * Validation 기간 30일\n",
    "\n",
    "* TimeSeriesSplit : https://scikit-learn.org/stable/modules/generated/sklearn.model_selection.TimeSeriesSplit.html"
   ]
  },
  {
   "cell_type": "code",
   "execution_count": null,
   "id": "u13yRLNENDLO",
   "metadata": {
    "id": "u13yRLNENDLO"
   },
   "outputs": [],
   "source": [
    "x.iloc[:5]"
   ]
  },
  {
   "cell_type": "code",
   "execution_count": null,
   "id": "dHWvbXGKw8mx",
   "metadata": {
    "id": "dHWvbXGKw8mx"
   },
   "outputs": [],
   "source": [
    "from sklearn.model_selection import TimeSeriesSplit"
   ]
  },
  {
   "cell_type": "code",
   "execution_count": null,
   "id": "QGpKyCra3XNZ",
   "metadata": {
    "id": "QGpKyCra3XNZ"
   },
   "outputs": [],
   "source": [
    "x.shape"
   ]
  },
  {
   "cell_type": "code",
   "execution_count": null,
   "id": "oz1t99NG3fCj",
   "metadata": {
    "id": "oz1t99NG3fCj"
   },
   "outputs": [],
   "source": [
    "# validation set size\n",
    "val_size = 30\n",
    "nfold = 3\n",
    "\n",
    "tscv = TimeSeriesSplit(n_splits = nfold, test_size = val_size)\n",
    "tscv"
   ]
  },
  {
   "cell_type": "code",
   "execution_count": null,
   "id": "-cD4Y6-6z9Cs",
   "metadata": {
    "id": "-cD4Y6-6z9Cs"
   },
   "outputs": [],
   "source": [
    "# .split을 이용하여 fold 하나씩 인덱스들을 뽑아 낼 수 있음.\n",
    "for train_index, val_index in tscv.split(x):\n",
    "    print(\"Train:\", train_index, \"Val:\", val_index)"
   ]
  },
  {
   "cell_type": "markdown",
   "id": "QmexhBJ87OsA",
   "metadata": {
    "id": "QmexhBJ87OsA"
   },
   "source": [
    "**tscv**는 모델링 수행시 cv 적용에 사용됩니다."
   ]
  },
  {
   "cell_type": "markdown",
   "id": "dfPS8IOb6D9j",
   "metadata": {
    "id": "dfPS8IOb6D9j"
   },
   "source": [
    "# 3.Baseline Model 생성\n",
    "\n",
    "* Baseline 모델은 성능 시작점을 제공합니다.\n",
    "* 성능 측정은 ML metric과 Biz metric으로 평가합니다."
   ]
  },
  {
   "cell_type": "code",
   "execution_count": null,
   "id": "SSLMwocO1vdf",
   "metadata": {
    "id": "SSLMwocO1vdf"
   },
   "outputs": [],
   "source": [
    "from sklearn.linear_model import LinearRegression\n",
    "from sklearn.metrics import * "
   ]
  },
  {
   "cell_type": "markdown",
   "id": "9erVmb1cP4rr",
   "metadata": {
    "id": "9erVmb1cP4rr"
   },
   "source": [
    "## (1) loop 돌며 모델링(cross-validation) 수행"
   ]
  },
  {
   "cell_type": "code",
   "execution_count": null,
   "id": "HuzUTFYsNS0d",
   "metadata": {
    "id": "HuzUTFYsNS0d"
   },
   "outputs": [],
   "source": [
    "rmse, mae, mape = [],[],[]\n",
    "residuals = []\n",
    "pred = []\n",
    "model = LinearRegression()\n",
    "\n",
    "for train_index, val_index in tscv.split(x):\n",
    "\n",
    "    # 인덱스로 데이터 분할\n",
    "    x_train, y_train = x.iloc[train_index], y.iloc[train_index]\n",
    "    x_val, y_val = x.iloc[val_index], y.iloc[val_index]\n",
    "\n",
    "    # 학습\n",
    "    model.fit(x_train, y_train)\n",
    "\n",
    "    # 예측\n",
    "    pr = model.predict(x_val)\n",
    "    pred += list(pr)\n",
    "\n",
    "    # 평가\n",
    "    rmse.append(mean_squared_error(y_val, pr, squared = False))\n",
    "    mae.append(mean_absolute_error(y_val, pr))\n",
    "    mape.append(mean_absolute_percentage_error(y_val, pr))\n",
    "\n",
    "    # 잔차 : 각 fold의 결과를 리스트로 변환하여 추가\n",
    "    residuals += list(y_val - pr)\n",
    "\n",
    "np.mean(rmse), np.mean(mae), np.mean(mape)"
   ]
  },
  {
   "cell_type": "markdown",
   "id": "c9tSdcSlNeha",
   "metadata": {
    "id": "c9tSdcSlNeha"
   },
   "source": [
    "## (2) 결과 비교"
   ]
  },
  {
   "cell_type": "code",
   "execution_count": null,
   "id": "VNK9bfw5ZemM",
   "metadata": {
    "id": "VNK9bfw5ZemM"
   },
   "outputs": [],
   "source": [
    "n = val_size * nfold"
   ]
  },
  {
   "cell_type": "markdown",
   "id": "bCgrtlQuOii6",
   "metadata": {
    "id": "bCgrtlQuOii6"
   },
   "source": [
    "* pred를 시리즈로 바꾸고, 인덱스 맞추기"
   ]
  },
  {
   "cell_type": "code",
   "execution_count": null,
   "id": "WYexwSsXOKLV",
   "metadata": {
    "id": "WYexwSsXOKLV"
   },
   "outputs": [],
   "source": [
    "pred = pd.Series(pred, index = y[-n:].index)\n",
    "pred"
   ]
  },
  {
   "cell_type": "markdown",
   "id": "l9aeGjO0OmgR",
   "metadata": {
    "id": "l9aeGjO0OmgR"
   },
   "source": [
    "* y_train, y_val(전체), pred 한꺼번에 시각화 "
   ]
  },
  {
   "cell_type": "code",
   "execution_count": null,
   "id": "eBcPyZ7TNiBX",
   "metadata": {
    "id": "eBcPyZ7TNiBX"
   },
   "outputs": [],
   "source": [
    "plt.figure(figsize = (20,8))\n",
    "plt.plot(y[:-n], label = 'train')\n",
    "plt.plot(y[-n:], label = 'val')\n",
    "plt.plot(pred, label = 'predicted')\n",
    "\n",
    "plt.legend()\n",
    "plt.grid()\n",
    "plt.show()"
   ]
  },
  {
   "cell_type": "code",
   "execution_count": null,
   "id": "pYmV5rjfOvJm",
   "metadata": {
    "id": "pYmV5rjfOvJm"
   },
   "outputs": [],
   "source": [
    "plt.figure(figsize = (20,8))\n",
    "plt.plot(y[-n:], label = 'val')\n",
    "plt.plot(pred, label = 'predicted')\n",
    "\n",
    "plt.legend()\n",
    "plt.grid()\n",
    "plt.show()"
   ]
  },
  {
   "cell_type": "markdown",
   "id": "A2GWpdAtzgZJ",
   "metadata": {
    "id": "A2GWpdAtzgZJ"
   },
   "source": [
    "# 4.평가 : 잔차분석\n",
    "\n",
    "* 잔차에 대한 우리의 기대 : 화이트 노이즈\n",
    "    * 자기상관성 없음 : ACF, PACF 그래프\n",
    "    * 정규분포 : Shapiro-Wilk 검정\n",
    "    * 평균과 분산이 일정(Stationary) : ADF 검정\n",
    "* 만약 화이트 노이즈가 아니라면...\n",
    "    * 더 찾아내야 할 패턴이 있다는 의미."
   ]
  },
  {
   "cell_type": "markdown",
   "id": "NUCFCxa45hD7",
   "metadata": {
    "id": "NUCFCxa45hD7"
   },
   "source": [
    "## (1) 시각화"
   ]
  },
  {
   "cell_type": "code",
   "execution_count": null,
   "id": "Z_VHjefZzllY",
   "metadata": {
    "id": "Z_VHjefZzllY"
   },
   "outputs": [],
   "source": [
    "plt.figure(figsize = (12,8))\n",
    "plt.plot(residuals)\n",
    "plt.axhline(0, color = 'r', ls = '--')\n",
    "plt.axhline(np.mean(residuals), color = 'g', ls = '--')\n",
    "plt.show()"
   ]
  },
  {
   "cell_type": "markdown",
   "id": "5EzJvVc3-MOy",
   "metadata": {
    "id": "5EzJvVc3-MOy"
   },
   "source": [
    "## (2) ACF, PACF\n",
    "\n",
    "* 정상 데이터 및 자기상관관계가 없는 데이터라면\n",
    "* ACF, PACF 그래프에서\n",
    "    * 첫번째 lag 에서부터 하늘색 범위 안에 값이 위치해야 하고\n",
    "    * 값의 등락에 대한 어떠한 패턴도 보이지 않아야 합니다.\n",
    "* 그러나 실제 데이터에서는 그런 결과를 보기 쉽지 않습니다."
   ]
  },
  {
   "cell_type": "code",
   "execution_count": null,
   "id": "7bvykqnw-LwH",
   "metadata": {
    "id": "7bvykqnw-LwH"
   },
   "outputs": [],
   "source": [
    "from statsmodels.graphics.tsaplots import plot_acf, plot_pacf"
   ]
  },
  {
   "cell_type": "markdown",
   "id": "218uxRHcs2b8",
   "metadata": {
    "id": "218uxRHcs2b8"
   },
   "source": [
    "### 1) ACF(자기 상관함수) "
   ]
  },
  {
   "cell_type": "code",
   "execution_count": null,
   "id": "fl8nNNPH-P-2",
   "metadata": {
    "id": "fl8nNNPH-P-2"
   },
   "outputs": [],
   "source": [
    "plot_acf(residuals, lags = 20)\n",
    "plt.show()"
   ]
  },
  {
   "cell_type": "code",
   "execution_count": null,
   "id": "BCpVqhmiEs6H",
   "metadata": {
    "id": "BCpVqhmiEs6H"
   },
   "outputs": [],
   "source": [
    "res = residuals\n",
    "\n",
    "res_df = pd.DataFrame({'residuals':residuals})\n",
    "\n",
    "for i in range(1,21) :\n",
    "    var = 'lag' + str(i)\n",
    "    res_df[var] = res_df['residuals'].shift(i)"
   ]
  },
  {
   "cell_type": "code",
   "execution_count": null,
   "id": "na68rX-FKuYI",
   "metadata": {
    "id": "na68rX-FKuYI"
   },
   "outputs": [],
   "source": [
    "res_df.head(20)"
   ]
  },
  {
   "cell_type": "code",
   "execution_count": null,
   "id": "Th7ZmokmFqUb",
   "metadata": {
    "id": "Th7ZmokmFqUb"
   },
   "outputs": [],
   "source": [
    "res_df.corr()"
   ]
  },
  {
   "cell_type": "code",
   "execution_count": null,
   "id": "WRlXuZxmOuRC",
   "metadata": {
    "id": "WRlXuZxmOuRC"
   },
   "outputs": [],
   "source": [
    "plt.figure(figsize = (12,8))\n",
    "sns.heatmap(res_df.corr(), annot = True)\n",
    "plt.show()"
   ]
  },
  {
   "cell_type": "markdown",
   "id": "qOZypndDs9Yo",
   "metadata": {
    "id": "qOZypndDs9Yo"
   },
   "source": [
    "### 2) PACF"
   ]
  },
  {
   "cell_type": "code",
   "execution_count": null,
   "id": "dBIoUSwis9MI",
   "metadata": {
    "id": "dBIoUSwis9MI"
   },
   "outputs": [],
   "source": [
    "plot_pacf(residuals, lags = 20)\n",
    "plt.show()"
   ]
  },
  {
   "cell_type": "code",
   "execution_count": null,
   "id": "Hr3OWnBUAyYA",
   "metadata": {
    "id": "Hr3OWnBUAyYA"
   },
   "outputs": [],
   "source": [
    "lags = 20\n",
    "\n",
    "fig,ax = plt.subplots(1,2, figsize = (15,5))\n",
    "plot_acf(residuals, lags = lags, ax = ax[0])\n",
    "plot_pacf(residuals, lags = lags, ax = ax[1])\n",
    "plt.show()"
   ]
  },
  {
   "cell_type": "markdown",
   "id": "Wy4deB6j6pzh",
   "metadata": {
    "id": "Wy4deB6j6pzh"
   },
   "source": [
    "## (3) 검정\n",
    "검정 도구를 적용하여 의사결정하는 용도로만 사용합니다."
   ]
  },
  {
   "cell_type": "code",
   "execution_count": null,
   "id": "f89fwqvW7NAP",
   "metadata": {
    "id": "f89fwqvW7NAP"
   },
   "outputs": [],
   "source": [
    "from scipy import stats\n",
    "import statsmodels.api as sm"
   ]
  },
  {
   "cell_type": "markdown",
   "id": "kMfGQvox65H6",
   "metadata": {
    "id": "kMfGQvox65H6"
   },
   "source": [
    "### 1) 정규성 검정 : Shapiro-Wilk 검정\n",
    "\n",
    "* 귀무가설 : **정규 분포이다.** (p-value > 0.05)\n",
    "* 대립가설 : 정규분포가 아니다."
   ]
  },
  {
   "cell_type": "code",
   "execution_count": null,
   "id": "ZAd8ooBxzlic",
   "metadata": {
    "id": "ZAd8ooBxzlic"
   },
   "outputs": [],
   "source": [
    "stats.shapiro(residuals)[1]"
   ]
  },
  {
   "cell_type": "markdown",
   "id": "pJkXVRNU8Y7U",
   "metadata": {
    "id": "pJkXVRNU8Y7U"
   },
   "source": [
    "### 2) 정상성 검정 : ADF 검정\n",
    "\n",
    "* 귀무가설 : 비정상(Non-Stationary) 데이터이다.\n",
    "* 대립가설 : **정상(Stationary) 데이터**이다.(P-value <= 0.05)"
   ]
  },
  {
   "cell_type": "code",
   "execution_count": null,
   "id": "o1slWXD99nzw",
   "metadata": {
    "id": "o1slWXD99nzw"
   },
   "outputs": [],
   "source": [
    "# ADF 테스트\n",
    "sm.tsa.stattools.adfuller(residuals)[1]"
   ]
  },
  {
   "cell_type": "code",
   "execution_count": null,
   "id": "-sypQ_q6wYmb",
   "metadata": {
    "id": "-sypQ_q6wYmb"
   },
   "outputs": [],
   "source": []
  }
 ],
 "metadata": {
  "colab": {
   "collapsed_sections": [
    "y1fbICOYqolg"
   ],
   "name": "17과 시계열 전처리.ipynb",
   "provenance": [],
   "toc_visible": true
  },
  "kernelspec": {
   "display_name": "Python 3 (ipykernel)",
   "language": "python",
   "name": "python3"
  },
  "language_info": {
   "codemirror_mode": {
    "name": "ipython",
    "version": 3
   },
   "file_extension": ".py",
   "mimetype": "text/x-python",
   "name": "python",
   "nbconvert_exporter": "python",
   "pygments_lexer": "ipython3",
   "version": "3.9.7"
  }
 },
 "nbformat": 4,
 "nbformat_minor": 5
}
