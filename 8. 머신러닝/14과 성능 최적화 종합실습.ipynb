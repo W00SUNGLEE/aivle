{
 "cells": [
  {
   "cell_type": "markdown",
   "metadata": {
    "id": "cVB9pY-v8uv5"
   },
   "source": [
    "# 성능 최적화 종합실습 : Car seat sales\n",
    "유아용 카시트 매출액을 예측해 봅시다."
   ]
  },
  {
   "cell_type": "markdown",
   "metadata": {
    "id": "QB2bBgnB8NM7"
   },
   "source": [
    "* 카시트에 대해서 지역 매장 별 매출액을 예측하고자 합니다."
   ]
  },
  {
   "cell_type": "markdown",
   "metadata": {
    "id": "7usNzsAVsGbi"
   },
   "source": [
    "![](https://cdn.images.express.co.uk/img/dynamic/24/590x/child-car-seat-986556.jpg?r=1532946857754)"
   ]
  },
  {
   "cell_type": "markdown",
   "metadata": {
    "id": "jnCv9u_Wy9e1"
   },
   "source": [
    "## 1.환경준비"
   ]
  },
  {
   "cell_type": "markdown",
   "metadata": {
    "id": "O1uL0UIEzBPw"
   },
   "source": [
    "### (1) Import"
   ]
  },
  {
   "cell_type": "code",
   "execution_count": 1,
   "metadata": {
    "id": "GVvCef6A8uv6"
   },
   "outputs": [],
   "source": [
    "#라이브러리들을 불러오자.\n",
    "import numpy as np\n",
    "import pandas as pd\n",
    "import matplotlib.pyplot as plt\n",
    "import seaborn as sns\n",
    "\n",
    "# 전처리\n",
    "from sklearn.model_selection import train_test_split\n",
    "from sklearn.preprocessing import MinMaxScaler\n",
    "\n",
    "# 모델링\n",
    "from sklearn.linear_model import LinearRegression\n",
    "from sklearn.tree import DecisionTreeRegressor, plot_tree\n",
    "from sklearn.neighbors import KNeighborsRegressor\n",
    "from sklearn.svm import SVR\n",
    "from sklearn.ensemble import RandomForestRegressor\n",
    "from xgboost import XGBRegressor\n",
    "from sklearn.metrics import * \n",
    "\n",
    "from sklearn.model_selection import GridSearchCV, RandomizedSearchCV\n",
    "\n",
    "import warnings\n",
    "warnings.filterwarnings(action='ignore')"
   ]
  },
  {
   "cell_type": "markdown",
   "metadata": {
    "id": "tbF-PXYPNsLH"
   },
   "source": [
    "### (2) 함수 생성"
   ]
  },
  {
   "cell_type": "markdown",
   "metadata": {
    "id": "lvfEuLRcORwq"
   },
   "source": [
    "* 선형회귀용 전진선택법"
   ]
  },
  {
   "cell_type": "code",
   "execution_count": 2,
   "metadata": {
    "id": "5dDT4VdvODZL"
   },
   "outputs": [],
   "source": [
    "from statsmodels.regression.linear_model import OLS\n",
    "from statsmodels.tools import add_constant\n",
    "\n",
    "def forward_stepwise_linear(x_train, y_train):\n",
    "\n",
    "    # 변수목록, 선택된 변수 목록, 단계별 모델과 AIC 저장소 정의\n",
    "    features = list(x_train)\n",
    "    selected = []\n",
    "    step_df = pd.DataFrame({ 'step':[], 'feature':[],'aic':[]})\n",
    "\n",
    "    # \n",
    "    for s in range(0, len(features)) :\n",
    "        result =  { 'step':[], 'feature':[],'aic':[]}\n",
    "\n",
    "        # 변수 목록에서 변수 한개씩 뽑아서 모델에 추가\n",
    "        for f in features :\n",
    "            vars = selected + [f]\n",
    "            x_tr = x_train[vars]\n",
    "            model = OLS(y_train, add_constant(x_tr)).fit(disp=False)\n",
    "            result['step'].append(s+1)\n",
    "            result['feature'].append(vars)\n",
    "            result['aic'].append(model.aic)\n",
    "        \n",
    "        # 모델별 aic 집계\n",
    "        temp = pd.DataFrame(result).sort_values('aic').reset_index(drop = True)\n",
    "\n",
    "        # 만약 이전 aic보다 새로운 aic 가 크다면 멈추기\n",
    "        if step_df['aic'].min() < temp['aic'].min() :\n",
    "            break\n",
    "        step_df = pd.concat([step_df, temp], axis = 0).reset_index(drop = True)\n",
    "\n",
    "        # 선택된 변수 제거\n",
    "        v = temp.loc[0,'feature'][s]\n",
    "        features.remove(v)\n",
    "\n",
    "        selected.append(v)\n",
    "    \n",
    "    # 선택된 변수와 step_df 결과 반환\n",
    "    return selected, step_df"
   ]
  },
  {
   "cell_type": "markdown",
   "metadata": {
    "id": "K6E7oZ3jOYMP"
   },
   "source": [
    "* 변수 중요도 그래프"
   ]
  },
  {
   "cell_type": "code",
   "execution_count": 3,
   "metadata": {
    "id": "HP-O8kwyObYQ"
   },
   "outputs": [],
   "source": [
    "def plot_feature_importance(importance, names):\n",
    "    feature_importance = np.array(importance)\n",
    "    feature_names = np.array(names)\n",
    "\n",
    "    data={'feature_names':feature_names,'feature_importance':feature_importance}\n",
    "    fi_df = pd.DataFrame(data)\n",
    "\n",
    "    fi_df.sort_values(by=['feature_importance'], ascending=False,inplace=True)\n",
    "    fi_df.reset_index(drop=True, inplace = True)\n",
    "\n",
    "    plt.figure(figsize=(10,8))\n",
    "    sns.barplot(x='feature_importance', y='feature_names', data = fi_df)\n",
    "\n",
    "    plt.xlabel('FEATURE IMPORTANCE')\n",
    "    plt.ylabel('FEATURE NAMES')\n",
    "    plt.grid()\n",
    "\n",
    "    return fi_df"
   ]
  },
  {
   "cell_type": "markdown",
   "metadata": {
    "id": "VHy5s1OOzItm"
   },
   "source": [
    "### (3) Data Loading"
   ]
  },
  {
   "cell_type": "code",
   "execution_count": 4,
   "metadata": {
    "id": "3GgFpOB4zQ7h"
   },
   "outputs": [],
   "source": [
    "data_path = 'https://raw.githubusercontent.com/DA4BAM/dataset/master/Carseats.csv'\n",
    "data = pd.read_csv(data_path)"
   ]
  },
  {
   "cell_type": "markdown",
   "metadata": {
    "id": "xMx9y0a0MBZ2"
   },
   "source": [
    "**변수설명**\n",
    "> * Sales - 각 지역 판매량(단위 : 1000개) <== Target\n",
    "* CompPrice - 각 지역 경쟁사 가격\n",
    "* Income - 각 지역 평균 소득수준(단위 : 1000달러)\n",
    "* Advertising - 각 지역, 회사의 광고 예산(단위 : 1000달러)\n",
    "* Population - 지역 인구수(단위 : 1000명)\n",
    "* Price - 자사 지역별 판매가격\n",
    "* ShelveLoc - 진열상태\n",
    "* Age - 지역 인구의 평균 연령\n",
    "* Education - 각 지역 교육수준 레벨\n",
    "* Urban - 매장 도시 지역 여부\n",
    "* US - 매장이 미국에 있는지 여부"
   ]
  },
  {
   "cell_type": "markdown",
   "metadata": {
    "id": "2IryAx_7NpPZ"
   },
   "source": []
  },
  {
   "cell_type": "markdown",
   "metadata": {
    "id": "ZJOddHq2zfcU"
   },
   "source": [
    "## 2.데이터 이해"
   ]
  },
  {
   "cell_type": "markdown",
   "metadata": {
    "id": "Vqr7zY5r8uwC"
   },
   "source": [
    "* 둘러보기"
   ]
  },
  {
   "cell_type": "code",
   "execution_count": 5,
   "metadata": {
    "id": "E64acu1xPqLU"
   },
   "outputs": [
    {
     "data": {
      "text/html": [
       "<div>\n",
       "<style scoped>\n",
       "    .dataframe tbody tr th:only-of-type {\n",
       "        vertical-align: middle;\n",
       "    }\n",
       "\n",
       "    .dataframe tbody tr th {\n",
       "        vertical-align: top;\n",
       "    }\n",
       "\n",
       "    .dataframe thead th {\n",
       "        text-align: right;\n",
       "    }\n",
       "</style>\n",
       "<table border=\"1\" class=\"dataframe\">\n",
       "  <thead>\n",
       "    <tr style=\"text-align: right;\">\n",
       "      <th></th>\n",
       "      <th>Sales</th>\n",
       "      <th>CompPrice</th>\n",
       "      <th>Income</th>\n",
       "      <th>Advertising</th>\n",
       "      <th>Population</th>\n",
       "      <th>Price</th>\n",
       "      <th>ShelveLoc</th>\n",
       "      <th>Age</th>\n",
       "      <th>Education</th>\n",
       "      <th>Urban</th>\n",
       "      <th>US</th>\n",
       "    </tr>\n",
       "  </thead>\n",
       "  <tbody>\n",
       "    <tr>\n",
       "      <th>0</th>\n",
       "      <td>9.50</td>\n",
       "      <td>138</td>\n",
       "      <td>73</td>\n",
       "      <td>11</td>\n",
       "      <td>276</td>\n",
       "      <td>120</td>\n",
       "      <td>Bad</td>\n",
       "      <td>42</td>\n",
       "      <td>17</td>\n",
       "      <td>Yes</td>\n",
       "      <td>Yes</td>\n",
       "    </tr>\n",
       "    <tr>\n",
       "      <th>1</th>\n",
       "      <td>11.22</td>\n",
       "      <td>111</td>\n",
       "      <td>48</td>\n",
       "      <td>16</td>\n",
       "      <td>260</td>\n",
       "      <td>83</td>\n",
       "      <td>Good</td>\n",
       "      <td>65</td>\n",
       "      <td>10</td>\n",
       "      <td>Yes</td>\n",
       "      <td>Yes</td>\n",
       "    </tr>\n",
       "    <tr>\n",
       "      <th>2</th>\n",
       "      <td>10.06</td>\n",
       "      <td>113</td>\n",
       "      <td>35</td>\n",
       "      <td>10</td>\n",
       "      <td>269</td>\n",
       "      <td>80</td>\n",
       "      <td>Medium</td>\n",
       "      <td>59</td>\n",
       "      <td>12</td>\n",
       "      <td>Yes</td>\n",
       "      <td>Yes</td>\n",
       "    </tr>\n",
       "    <tr>\n",
       "      <th>3</th>\n",
       "      <td>7.40</td>\n",
       "      <td>117</td>\n",
       "      <td>100</td>\n",
       "      <td>4</td>\n",
       "      <td>466</td>\n",
       "      <td>97</td>\n",
       "      <td>Medium</td>\n",
       "      <td>55</td>\n",
       "      <td>14</td>\n",
       "      <td>Yes</td>\n",
       "      <td>Yes</td>\n",
       "    </tr>\n",
       "    <tr>\n",
       "      <th>4</th>\n",
       "      <td>4.15</td>\n",
       "      <td>141</td>\n",
       "      <td>64</td>\n",
       "      <td>3</td>\n",
       "      <td>340</td>\n",
       "      <td>128</td>\n",
       "      <td>Bad</td>\n",
       "      <td>38</td>\n",
       "      <td>13</td>\n",
       "      <td>Yes</td>\n",
       "      <td>No</td>\n",
       "    </tr>\n",
       "  </tbody>\n",
       "</table>\n",
       "</div>"
      ],
      "text/plain": [
       "   Sales  CompPrice  Income  Advertising  Population  Price ShelveLoc  Age  \\\n",
       "0   9.50        138      73           11         276    120       Bad   42   \n",
       "1  11.22        111      48           16         260     83      Good   65   \n",
       "2  10.06        113      35           10         269     80    Medium   59   \n",
       "3   7.40        117     100            4         466     97    Medium   55   \n",
       "4   4.15        141      64            3         340    128       Bad   38   \n",
       "\n",
       "   Education Urban   US  \n",
       "0         17   Yes  Yes  \n",
       "1         10   Yes  Yes  \n",
       "2         12   Yes  Yes  \n",
       "3         14   Yes  Yes  \n",
       "4         13   Yes   No  "
      ]
     },
     "execution_count": 5,
     "metadata": {},
     "output_type": "execute_result"
    }
   ],
   "source": [
    "data.head()"
   ]
  },
  {
   "cell_type": "markdown",
   "metadata": {
    "id": "wW0d0eGmCYJM"
   },
   "source": [
    "## 3.데이터 준비"
   ]
  },
  {
   "cell_type": "markdown",
   "metadata": {
    "id": "y9Q6jR6OZjUk"
   },
   "source": [
    "### (1) 데이터 정리"
   ]
  },
  {
   "cell_type": "code",
   "execution_count": 6,
   "metadata": {
    "id": "vSPUmHLyNLbD"
   },
   "outputs": [],
   "source": [
    "data['Diff_Price'] = data['CompPrice'] - data['Price']\n",
    "data.drop('CompPrice', axis = 1, inplace = True)"
   ]
  },
  {
   "cell_type": "markdown",
   "metadata": {
    "id": "WpJEGpUuuVWm"
   },
   "source": [
    "### (2) 데이터분할1 : x, y 나누기"
   ]
  },
  {
   "cell_type": "code",
   "execution_count": 7,
   "metadata": {
    "id": "N-4Msv8VsQ3R"
   },
   "outputs": [],
   "source": [
    "target = 'Sales'\n",
    "x = data.drop(target, axis = 1)\n",
    "y = data.loc[:, target]"
   ]
  },
  {
   "cell_type": "markdown",
   "metadata": {
    "id": "mp_5volyuaA1"
   },
   "source": [
    "### (3) NA 조치"
   ]
  },
  {
   "cell_type": "markdown",
   "metadata": {
    "id": "nOF9fSLQugGf"
   },
   "source": [
    "### (4) 가변수화"
   ]
  },
  {
   "cell_type": "code",
   "execution_count": 8,
   "metadata": {
    "id": "CZgBC2QSoKc8"
   },
   "outputs": [],
   "source": [
    "dumm_cols = ['ShelveLoc','Education','Urban', 'US']\n",
    "x = pd.get_dummies(x, columns = dumm_cols, drop_first = True)"
   ]
  },
  {
   "cell_type": "markdown",
   "metadata": {
    "id": "VBwpOKgkf5Am"
   },
   "source": [
    "### (5) 데이터분할2 : train : validation 나누기"
   ]
  },
  {
   "cell_type": "code",
   "execution_count": 9,
   "metadata": {
    "id": "1iHmTnHCgBw5"
   },
   "outputs": [],
   "source": [
    "x_train, x_val, y_train, y_val = train_test_split(x, y, test_size=.3, random_state = 2022)"
   ]
  },
  {
   "cell_type": "markdown",
   "metadata": {
    "id": "59bBv0a8heYh"
   },
   "source": [
    "### (6) Scaling\n",
    "KNN 알고리즘을 적용하기 위해서는 스케일링을 해야 합니다."
   ]
  },
  {
   "cell_type": "code",
   "execution_count": 10,
   "metadata": {
    "id": "RuDcjwhwSo5y"
   },
   "outputs": [],
   "source": [
    "scaler = MinMaxScaler()\n",
    "x_train_s = scaler.fit_transform(x_train)\n",
    "x_val_s = scaler.transform(x_val)"
   ]
  },
  {
   "cell_type": "markdown",
   "metadata": {
    "id": "BYr1vtpd8uw4"
   },
   "source": [
    "## 4.모델링\n",
    "\n"
   ]
  },
  {
   "cell_type": "markdown",
   "metadata": {
    "id": "_JqYchKPNiaY"
   },
   "source": [
    "### (1) 선형회귀"
   ]
  },
  {
   "cell_type": "code",
   "execution_count": 11,
   "metadata": {
    "id": "MDBGZHmXPXGx"
   },
   "outputs": [],
   "source": [
    "selected, step_df = forward_stepwise_linear(x_train, y_train)"
   ]
  },
  {
   "cell_type": "code",
   "execution_count": 12,
   "metadata": {},
   "outputs": [
    {
     "data": {
      "text/plain": [
       "['Diff_Price',\n",
       " 'ShelveLoc_Good',\n",
       " 'ShelveLoc_Medium',\n",
       " 'Advertising',\n",
       " 'Age',\n",
       " 'Income',\n",
       " 'Education_15']"
      ]
     },
     "execution_count": 12,
     "metadata": {},
     "output_type": "execute_result"
    }
   ],
   "source": [
    "selected"
   ]
  },
  {
   "cell_type": "code",
   "execution_count": 13,
   "metadata": {},
   "outputs": [
    {
     "data": {
      "text/html": [
       "<div>\n",
       "<style scoped>\n",
       "    .dataframe tbody tr th:only-of-type {\n",
       "        vertical-align: middle;\n",
       "    }\n",
       "\n",
       "    .dataframe tbody tr th {\n",
       "        vertical-align: top;\n",
       "    }\n",
       "\n",
       "    .dataframe thead th {\n",
       "        text-align: right;\n",
       "    }\n",
       "</style>\n",
       "<table border=\"1\" class=\"dataframe\">\n",
       "  <thead>\n",
       "    <tr style=\"text-align: right;\">\n",
       "      <th></th>\n",
       "      <th>step</th>\n",
       "      <th>feature</th>\n",
       "      <th>aic</th>\n",
       "    </tr>\n",
       "  </thead>\n",
       "  <tbody>\n",
       "    <tr>\n",
       "      <th>0</th>\n",
       "      <td>1.0</td>\n",
       "      <td>[Diff_Price]</td>\n",
       "      <td>1249.425785</td>\n",
       "    </tr>\n",
       "    <tr>\n",
       "      <th>1</th>\n",
       "      <td>1.0</td>\n",
       "      <td>[ShelveLoc_Good]</td>\n",
       "      <td>1293.984969</td>\n",
       "    </tr>\n",
       "    <tr>\n",
       "      <th>2</th>\n",
       "      <td>1.0</td>\n",
       "      <td>[Price]</td>\n",
       "      <td>1313.653507</td>\n",
       "    </tr>\n",
       "    <tr>\n",
       "      <th>3</th>\n",
       "      <td>1.0</td>\n",
       "      <td>[Advertising]</td>\n",
       "      <td>1339.527338</td>\n",
       "    </tr>\n",
       "    <tr>\n",
       "      <th>4</th>\n",
       "      <td>1.0</td>\n",
       "      <td>[Income]</td>\n",
       "      <td>1350.602386</td>\n",
       "    </tr>\n",
       "    <tr>\n",
       "      <th>...</th>\n",
       "      <td>...</td>\n",
       "      <td>...</td>\n",
       "      <td>...</td>\n",
       "    </tr>\n",
       "    <tr>\n",
       "      <th>100</th>\n",
       "      <td>7.0</td>\n",
       "      <td>[Diff_Price, ShelveLoc_Good, ShelveLoc_Medium,...</td>\n",
       "      <td>815.558798</td>\n",
       "    </tr>\n",
       "    <tr>\n",
       "      <th>101</th>\n",
       "      <td>7.0</td>\n",
       "      <td>[Diff_Price, ShelveLoc_Good, ShelveLoc_Medium,...</td>\n",
       "      <td>815.757990</td>\n",
       "    </tr>\n",
       "    <tr>\n",
       "      <th>102</th>\n",
       "      <td>7.0</td>\n",
       "      <td>[Diff_Price, ShelveLoc_Good, ShelveLoc_Medium,...</td>\n",
       "      <td>815.792453</td>\n",
       "    </tr>\n",
       "    <tr>\n",
       "      <th>103</th>\n",
       "      <td>7.0</td>\n",
       "      <td>[Diff_Price, ShelveLoc_Good, ShelveLoc_Medium,...</td>\n",
       "      <td>815.829438</td>\n",
       "    </tr>\n",
       "    <tr>\n",
       "      <th>104</th>\n",
       "      <td>7.0</td>\n",
       "      <td>[Diff_Price, ShelveLoc_Good, ShelveLoc_Medium,...</td>\n",
       "      <td>815.850662</td>\n",
       "    </tr>\n",
       "  </tbody>\n",
       "</table>\n",
       "<p>105 rows × 3 columns</p>\n",
       "</div>"
      ],
      "text/plain": [
       "     step                                            feature          aic\n",
       "0     1.0                                       [Diff_Price]  1249.425785\n",
       "1     1.0                                   [ShelveLoc_Good]  1293.984969\n",
       "2     1.0                                            [Price]  1313.653507\n",
       "3     1.0                                      [Advertising]  1339.527338\n",
       "4     1.0                                           [Income]  1350.602386\n",
       "..    ...                                                ...          ...\n",
       "100   7.0  [Diff_Price, ShelveLoc_Good, ShelveLoc_Medium,...   815.558798\n",
       "101   7.0  [Diff_Price, ShelveLoc_Good, ShelveLoc_Medium,...   815.757990\n",
       "102   7.0  [Diff_Price, ShelveLoc_Good, ShelveLoc_Medium,...   815.792453\n",
       "103   7.0  [Diff_Price, ShelveLoc_Good, ShelveLoc_Medium,...   815.829438\n",
       "104   7.0  [Diff_Price, ShelveLoc_Good, ShelveLoc_Medium,...   815.850662\n",
       "\n",
       "[105 rows x 3 columns]"
      ]
     },
     "execution_count": 13,
     "metadata": {},
     "output_type": "execute_result"
    }
   ],
   "source": [
    "step_df"
   ]
  },
  {
   "cell_type": "code",
   "execution_count": 14,
   "metadata": {},
   "outputs": [
    {
     "data": {
      "text/plain": [
       "array([ 6.73543142,  7.55423209, 10.31578363,  7.91931922,  5.27465532,\n",
       "        6.08530063,  5.14870985,  4.95809081,  4.43507215,  5.20966652,\n",
       "        5.42595331,  1.08465183,  5.00166259,  7.06745647,  8.39252555,\n",
       "        7.75479382,  4.05189935,  6.87657612,  3.93708532,  5.99027985,\n",
       "        7.37240574,  7.60069371,  6.35693451,  5.72326167,  3.47383267,\n",
       "       10.3544791 ,  7.34336612,  8.06614411,  6.85964865,  6.40581519,\n",
       "        9.96775324,  4.72972249,  6.4528839 , 10.46286925,  6.96269626,\n",
       "       13.23504945,  9.64515639,  8.1009044 ,  8.50964299,  9.66196001,\n",
       "        5.3055281 ,  6.32869984,  6.71139821,  4.72137041,  7.52715872,\n",
       "       10.64907028,  4.84893888,  6.66733898, 11.00460244, 10.87846652,\n",
       "       14.09458255, 11.4776057 , 13.01833593,  5.78661334,  7.56023142,\n",
       "       11.6775497 ,  8.87014333, 11.36759054,  9.97907106,  8.43108375,\n",
       "        5.38189898,  5.84990312,  8.02619871,  6.13571647,  4.54721528,\n",
       "        8.20707133,  5.93849156,  5.71977635,  5.22644803,  8.36423116,\n",
       "        2.73266194,  4.69137224,  7.31413896,  6.20327639,  7.0241083 ,\n",
       "        5.29055207,  9.00554033,  7.04156367,  9.14060498,  7.02566358,\n",
       "        4.85251655, 11.93429341,  7.08640543,  4.4770223 ,  5.74839588,\n",
       "        7.15243293, 12.1813835 ,  5.97303656,  7.27423899, 11.93580803,\n",
       "        6.96930722,  6.00710136,  7.79375775, 10.86159145,  7.20920376,\n",
       "        6.80407627,  4.71971923,  6.81347044,  6.60926973,  7.11800332,\n",
       "        4.58638904,  6.4818505 , 11.39293372, 12.36434654,  5.29493968,\n",
       "        9.44396952, 13.05659572, 10.82001302,  2.80996382,  2.68261345,\n",
       "        5.19435079,  3.65549333,  6.00599474,  5.56297218,  9.92755263,\n",
       "        5.53787269, 13.32186287,  4.10226934,  6.45069571,  7.2813713 ])"
      ]
     },
     "execution_count": 14,
     "metadata": {},
     "output_type": "execute_result"
    }
   ],
   "source": [
    "model1 = LinearRegression()\n",
    "model1.fit(x_train[selected], y_train)\n",
    "pred1 = model1.predict(x_val[selected])\n",
    "\n",
    "pred1"
   ]
  },
  {
   "cell_type": "code",
   "execution_count": 16,
   "metadata": {
    "id": "FuP4e_eqja-j",
    "tags": []
   },
   "outputs": [
    {
     "data": {
      "text/plain": [
       "0.8801970769167834"
      ]
     },
     "execution_count": 16,
     "metadata": {},
     "output_type": "execute_result"
    }
   ],
   "source": [
    "# 제공된 함수와 비교해 봅시다.\n",
    "r2_score(y_val, pred1)"
   ]
  },
  {
   "cell_type": "code",
   "execution_count": 17,
   "metadata": {},
   "outputs": [
    {
     "data": {
      "text/plain": [
       "1.0422153386262976"
      ]
     },
     "execution_count": 17,
     "metadata": {},
     "output_type": "execute_result"
    }
   ],
   "source": [
    "# MSE\n",
    "mean_squared_error( y_val   , pred1   ) "
   ]
  },
  {
   "cell_type": "code",
   "execution_count": 18,
   "metadata": {},
   "outputs": [
    {
     "data": {
      "text/plain": [
       "1.020889484041391"
      ]
     },
     "execution_count": 18,
     "metadata": {},
     "output_type": "execute_result"
    }
   ],
   "source": [
    "# RMSE\n",
    "mean_squared_error( y_val   , pred1  , squared = False)"
   ]
  },
  {
   "cell_type": "code",
   "execution_count": 19,
   "metadata": {},
   "outputs": [
    {
     "data": {
      "text/plain": [
       "0.8014365161361277"
      ]
     },
     "execution_count": 19,
     "metadata": {},
     "output_type": "execute_result"
    }
   ],
   "source": [
    "# MAE\n",
    "mean_absolute_error(y_val   , pred1   )"
   ]
  },
  {
   "cell_type": "code",
   "execution_count": 20,
   "metadata": {},
   "outputs": [
    {
     "data": {
      "text/plain": [
       "0.20785310360108084"
      ]
     },
     "execution_count": 20,
     "metadata": {},
     "output_type": "execute_result"
    }
   ],
   "source": [
    "# MAPE : 원래 개념은 100(%)을 곱해야 한다. 그렇지만 sklearn 함수는 100 안 곱한채로 결과를 준다.\n",
    "mean_absolute_percentage_error(y_val   , pred1  )"
   ]
  },
  {
   "cell_type": "code",
   "execution_count": 21,
   "metadata": {},
   "outputs": [
    {
     "data": {
      "text/plain": [
       "0.7921468963989191"
      ]
     },
     "execution_count": 21,
     "metadata": {},
     "output_type": "execute_result"
    }
   ],
   "source": [
    "# 1 - MAPE : 회귀모델의 정확도\n",
    "1 -  mean_absolute_percentage_error(y_val   , pred1   )\n",
    "# MAPE > 1 보다 크면 - 값이 나오므로 정확하지 않을수있다."
   ]
  },
  {
   "cell_type": "markdown",
   "metadata": {
    "id": "LaZoO6TuoZ_U"
   },
   "source": [
    "### (2) KNN"
   ]
  },
  {
   "cell_type": "code",
   "execution_count": 86,
   "metadata": {
    "id": "Hme7SHCy9sk_"
   },
   "outputs": [],
   "source": [
    "model2 = KNeighborsRegressor()"
   ]
  },
  {
   "cell_type": "code",
   "execution_count": 87,
   "metadata": {},
   "outputs": [
    {
     "data": {
      "text/plain": [
       "(280, 18)"
      ]
     },
     "execution_count": 87,
     "metadata": {},
     "output_type": "execute_result"
    }
   ],
   "source": [
    "x_train.shape"
   ]
  },
  {
   "cell_type": "code",
   "execution_count": 88,
   "metadata": {},
   "outputs": [
    {
     "data": {
      "text/plain": [
       "16.73320053068151"
      ]
     },
     "execution_count": 88,
     "metadata": {},
     "output_type": "execute_result"
    }
   ],
   "source": [
    "import math\n",
    "math.sqrt(280)"
   ]
  },
  {
   "cell_type": "code",
   "execution_count": 89,
   "metadata": {
    "id": "AzLp_sOT9saF"
   },
   "outputs": [],
   "source": [
    "params2 = {'n_neighbors' : range(1, 101, 5)}"
   ]
  },
  {
   "cell_type": "code",
   "execution_count": 90,
   "metadata": {
    "id": "HIFCCmAi9sWs"
   },
   "outputs": [],
   "source": [
    "model2_gs = GridSearchCV(model2, params2, cv=5)"
   ]
  },
  {
   "cell_type": "code",
   "execution_count": 91,
   "metadata": {
    "id": "MGxIzyz39sTz"
   },
   "outputs": [
    {
     "data": {
      "text/plain": [
       "GridSearchCV(cv=5, estimator=KNeighborsRegressor(),\n",
       "             param_grid={'n_neighbors': range(1, 101, 5)})"
      ]
     },
     "execution_count": 91,
     "metadata": {},
     "output_type": "execute_result"
    }
   ],
   "source": [
    "model2_gs.fit(x_train_s, y_train)"
   ]
  },
  {
   "cell_type": "code",
   "execution_count": 92,
   "metadata": {},
   "outputs": [
    {
     "data": {
      "text/plain": [
       "{'n_neighbors': 21}"
      ]
     },
     "execution_count": 92,
     "metadata": {},
     "output_type": "execute_result"
    }
   ],
   "source": [
    "model2_gs.best_params_"
   ]
  },
  {
   "cell_type": "code",
   "execution_count": 93,
   "metadata": {},
   "outputs": [
    {
     "data": {
      "text/plain": [
       "0.3256539261515736"
      ]
     },
     "execution_count": 93,
     "metadata": {},
     "output_type": "execute_result"
    }
   ],
   "source": [
    "model2_gs.best_score_"
   ]
  },
  {
   "cell_type": "code",
   "execution_count": 94,
   "metadata": {},
   "outputs": [],
   "source": [
    "result = pd.DataFrame(model2_gs.cv_results_)"
   ]
  },
  {
   "cell_type": "code",
   "execution_count": 95,
   "metadata": {},
   "outputs": [
    {
     "data": {
      "text/html": [
       "<div>\n",
       "<style scoped>\n",
       "    .dataframe tbody tr th:only-of-type {\n",
       "        vertical-align: middle;\n",
       "    }\n",
       "\n",
       "    .dataframe tbody tr th {\n",
       "        vertical-align: top;\n",
       "    }\n",
       "\n",
       "    .dataframe thead th {\n",
       "        text-align: right;\n",
       "    }\n",
       "</style>\n",
       "<table border=\"1\" class=\"dataframe\">\n",
       "  <thead>\n",
       "    <tr style=\"text-align: right;\">\n",
       "      <th></th>\n",
       "      <th>param_n_neighbors</th>\n",
       "      <th>mean_test_score</th>\n",
       "    </tr>\n",
       "  </thead>\n",
       "  <tbody>\n",
       "    <tr>\n",
       "      <th>0</th>\n",
       "      <td>1</td>\n",
       "      <td>-0.094664</td>\n",
       "    </tr>\n",
       "    <tr>\n",
       "      <th>1</th>\n",
       "      <td>6</td>\n",
       "      <td>0.285907</td>\n",
       "    </tr>\n",
       "    <tr>\n",
       "      <th>2</th>\n",
       "      <td>11</td>\n",
       "      <td>0.306238</td>\n",
       "    </tr>\n",
       "    <tr>\n",
       "      <th>3</th>\n",
       "      <td>16</td>\n",
       "      <td>0.310454</td>\n",
       "    </tr>\n",
       "    <tr>\n",
       "      <th>4</th>\n",
       "      <td>21</td>\n",
       "      <td>0.325654</td>\n",
       "    </tr>\n",
       "  </tbody>\n",
       "</table>\n",
       "</div>"
      ],
      "text/plain": [
       "  param_n_neighbors  mean_test_score\n",
       "0                 1        -0.094664\n",
       "1                 6         0.285907\n",
       "2                11         0.306238\n",
       "3                16         0.310454\n",
       "4                21         0.325654"
      ]
     },
     "execution_count": 95,
     "metadata": {},
     "output_type": "execute_result"
    }
   ],
   "source": [
    "temp = result.loc[:, ['param_n_neighbors','mean_test_score']]\n",
    "temp.head()"
   ]
  },
  {
   "cell_type": "code",
   "execution_count": 96,
   "metadata": {},
   "outputs": [
    {
     "data": {
      "image/png": "[encoded data removed]",
      "text/plain": [
       "<Figure size 576x432 with 1 Axes>"
      ]
     },
     "metadata": {
      "needs_background": "light"
     },
     "output_type": "display_data"
    }
   ],
   "source": [
    "plt.figure(figsize = (8,6))\n",
    "sns.lineplot(x = 'param_n_neighbors', y = 'mean_test_score', data = temp )\n",
    "plt.grid()\n",
    "plt.show()"
   ]
  },
  {
   "cell_type": "code",
   "execution_count": 30,
   "metadata": {
    "id": "jCvpPeJF9sQ0"
   },
   "outputs": [],
   "source": [
    "pred2 = model2_gs.predict(x_val_s)"
   ]
  },
  {
   "cell_type": "code",
   "execution_count": 31,
   "metadata": {},
   "outputs": [
    {
     "data": {
      "text/plain": [
       "array([ 7.4135,  8.1045, 10.215 ,  7.225 ,  6.3875,  7.1525,  6.7665,\n",
       "        8.094 ,  6.741 ,  6.5255,  7.0655,  6.426 ,  6.976 ,  9.5555,\n",
       "        7.329 ,  7.567 ,  5.8065,  6.939 ,  7.0245,  7.2955,  7.488 ,\n",
       "        6.8585,  7.246 ,  7.11  ,  6.6135,  8.739 ,  8.276 ,  7.211 ,\n",
       "        7.4855,  5.9075,  8.4   ,  6.5475,  7.602 , 10.101 ,  7.2445,\n",
       "        8.257 ,  8.131 ,  8.388 ,  9.31  ,  8.916 ,  6.9565,  8.1345,\n",
       "        7.9075,  6.4   ,  7.5605,  8.484 ,  8.2765,  6.9775,  7.958 ,\n",
       "       10.0545, 11.248 ,  9.372 , 10.7305,  7.0885,  8.028 ,  8.4085,\n",
       "        7.216 ,  9.9245,  7.988 ,  8.0675,  7.341 ,  7.6485,  7.623 ,\n",
       "        7.3305,  6.4755,  7.688 ,  7.3475,  6.881 ,  7.2785,  9.8635,\n",
       "        6.6115,  7.0775,  7.6095, 10.068 ,  7.3025,  6.908 ,  8.139 ,\n",
       "        7.4455,  8.016 ,  7.3945,  7.223 ,  9.9355,  7.236 ,  6.8965,\n",
       "        7.22  ,  6.8945, 10.8725,  7.1555,  7.56  ,  8.664 ,  7.851 ,\n",
       "        7.5705,  7.692 ,  8.249 ,  7.576 ,  6.634 ,  7.373 ,  6.6885,\n",
       "        6.7285,  9.5635,  7.22  ,  6.7255,  9.3385,  9.476 ,  6.735 ,\n",
       "        8.271 ,  9.2605,  8.694 ,  5.6535,  6.976 ,  7.173 ,  6.0295,\n",
       "        6.5575,  7.8105,  8.06  ,  7.38  ,  8.9755,  6.0015,  8.269 ,\n",
       "        6.977 ])"
      ]
     },
     "execution_count": 31,
     "metadata": {},
     "output_type": "execute_result"
    }
   ],
   "source": [
    "pred2"
   ]
  },
  {
   "cell_type": "markdown",
   "metadata": {
    "id": "fCS_xa4OQ8Cv"
   },
   "source": [
    "### (3) Decision Tree"
   ]
  },
  {
   "cell_type": "code",
   "execution_count": 32,
   "metadata": {
    "id": "wrCn38n79ufk"
   },
   "outputs": [],
   "source": [
    "model3 = DecisionTreeRegressor()"
   ]
  },
  {
   "cell_type": "code",
   "execution_count": 33,
   "metadata": {
    "id": "ycz94WYM9ucf"
   },
   "outputs": [],
   "source": [
    "params3 = {'max_depth' : range(1, 11), 'min_samples_leaf' : range(10, 101)}"
   ]
  },
  {
   "cell_type": "code",
   "execution_count": 34,
   "metadata": {
    "id": "tCC0Y5f19uZ0"
   },
   "outputs": [],
   "source": [
    "model3_gs = GridSearchCV(model3, params3, cv=5, scoring = 'neg_mean_absolute_error')"
   ]
  },
  {
   "cell_type": "code",
   "execution_count": 35,
   "metadata": {
    "id": "uCUTDKCS9uW7"
   },
   "outputs": [
    {
     "data": {
      "text/plain": [
       "GridSearchCV(cv=5, estimator=DecisionTreeRegressor(),\n",
       "             param_grid={'max_depth': range(1, 11),\n",
       "                         'min_samples_leaf': range(10, 101)})"
      ]
     },
     "execution_count": 35,
     "metadata": {},
     "output_type": "execute_result"
    }
   ],
   "source": [
    "model3_gs.fit(x_train, y_train)"
   ]
  },
  {
   "cell_type": "code",
   "execution_count": 36,
   "metadata": {
    "id": "0QDbpKut9uT8"
   },
   "outputs": [
    {
     "data": {
      "text/plain": [
       "{'max_depth': 7, 'min_samples_leaf': 10}"
      ]
     },
     "execution_count": 36,
     "metadata": {},
     "output_type": "execute_result"
    }
   ],
   "source": [
    "model3_gs.best_params_"
   ]
  },
  {
   "cell_type": "code",
   "execution_count": 37,
   "metadata": {
    "id": "oyC26un1Q8Cx"
   },
   "outputs": [
    {
     "data": {
      "text/plain": [
       "0.5181351298523645"
      ]
     },
     "execution_count": 37,
     "metadata": {},
     "output_type": "execute_result"
    }
   ],
   "source": [
    "model3_gs.best_score_"
   ]
  },
  {
   "cell_type": "code",
   "execution_count": 38,
   "metadata": {},
   "outputs": [],
   "source": [
    "pred3 = model3_gs.predict(x_val_s)"
   ]
  },
  {
   "cell_type": "code",
   "execution_count": 39,
   "metadata": {},
   "outputs": [
    {
     "data": {
      "text/plain": [
       "array([8.08857143, 3.444     , 8.26941176, 8.08857143, 5.685     ,\n",
       "       8.08857143, 3.444     , 5.685     , 3.444     , 7.05      ,\n",
       "       5.685     , 5.685     , 3.444     , 8.26941176, 7.05      ,\n",
       "       8.08857143, 3.444     , 5.685     , 3.444     , 7.05      ,\n",
       "       5.685     , 7.05      , 5.685     , 3.444     , 5.685     ,\n",
       "       8.26941176, 5.685     , 8.08857143, 5.685     , 7.05      ,\n",
       "       8.26941176, 5.685     , 7.05      , 8.26941176, 7.05      ,\n",
       "       8.26941176, 5.685     , 8.26941176, 8.26941176, 8.26941176,\n",
       "       7.05      , 8.26941176, 5.685     , 5.685     , 8.08857143,\n",
       "       8.26941176, 8.26941176, 8.08857143, 8.08857143, 8.26941176,\n",
       "       8.26941176, 8.08857143, 8.26941176, 5.685     , 5.685     ,\n",
       "       8.26941176, 8.08857143, 8.26941176, 8.08857143, 8.08857143,\n",
       "       5.685     , 5.685     , 8.08857143, 8.08857143, 3.444     ,\n",
       "       5.685     , 7.05      , 5.685     , 3.444     , 8.26941176,\n",
       "       3.444     , 5.685     , 7.05      , 8.26941176, 8.08857143,\n",
       "       7.05      , 8.08857143, 8.08857143, 8.08857143, 7.05      ,\n",
       "       5.685     , 8.26941176, 8.08857143, 5.685     , 5.685     ,\n",
       "       7.05      , 8.26941176, 3.444     , 5.685     , 8.26941176,\n",
       "       5.685     , 3.444     , 8.08857143, 8.08857143, 5.685     ,\n",
       "       8.08857143, 5.685     , 8.08857143, 8.08857143, 8.26941176,\n",
       "       5.685     , 8.08857143, 8.26941176, 8.26941176, 8.08857143,\n",
       "       8.08857143, 8.26941176, 8.08857143, 3.444     , 3.444     ,\n",
       "       5.685     , 3.444     , 8.08857143, 5.685     , 8.08857143,\n",
       "       5.685     , 8.26941176, 7.05      , 5.685     , 8.08857143])"
      ]
     },
     "execution_count": 39,
     "metadata": {},
     "output_type": "execute_result"
    }
   ],
   "source": [
    "pred3"
   ]
  },
  {
   "cell_type": "markdown",
   "metadata": {},
   "source": [
    "### (4) SVM"
   ]
  },
  {
   "cell_type": "code",
   "execution_count": 46,
   "metadata": {},
   "outputs": [],
   "source": [
    "model4 = SVR()"
   ]
  },
  {
   "cell_type": "code",
   "execution_count": 47,
   "metadata": {},
   "outputs": [],
   "source": [
    "params4 = {'C' : [0.001, 0.01, 0.1, 1, 10, 100, 1000, 10000], 'gamma' : [0.001, 0.01, 0.1, 1, 10, 100, 1000, 10000]}"
   ]
  },
  {
   "cell_type": "code",
   "execution_count": 48,
   "metadata": {},
   "outputs": [],
   "source": [
    "model4_gs = GridSearchCV(model4, params4, cv=5)"
   ]
  },
  {
   "cell_type": "code",
   "execution_count": 49,
   "metadata": {},
   "outputs": [
    {
     "data": {
      "text/plain": [
       "GridSearchCV(cv=5, estimator=SVR(),\n",
       "             param_grid={'C': [0.001, 0.01, 0.1, 1, 10, 100, 1000, 10000],\n",
       "                         'gamma': [0.001, 0.01, 0.1, 1, 10, 100, 1000, 10000]})"
      ]
     },
     "execution_count": 49,
     "metadata": {},
     "output_type": "execute_result"
    }
   ],
   "source": [
    "model4_gs.fit(x_train, y_train)"
   ]
  },
  {
   "cell_type": "code",
   "execution_count": 50,
   "metadata": {},
   "outputs": [
    {
     "data": {
      "text/plain": [
       "{'C': 1, 'gamma': 0.001}"
      ]
     },
     "execution_count": 50,
     "metadata": {},
     "output_type": "execute_result"
    }
   ],
   "source": [
    "model4_gs.best_params_"
   ]
  },
  {
   "cell_type": "code",
   "execution_count": 51,
   "metadata": {},
   "outputs": [
    {
     "data": {
      "text/plain": [
       "0.10163116168415065"
      ]
     },
     "execution_count": 51,
     "metadata": {},
     "output_type": "execute_result"
    }
   ],
   "source": [
    "model4_gs.best_score_"
   ]
  },
  {
   "cell_type": "code",
   "execution_count": 52,
   "metadata": {},
   "outputs": [],
   "source": [
    "pred4 = model4_gs.predict(x_val_s)"
   ]
  },
  {
   "cell_type": "code",
   "execution_count": 53,
   "metadata": {},
   "outputs": [
    {
     "data": {
      "text/plain": [
       "array([7.73582008, 7.73582172, 7.7358247 , 7.73582097, 7.7358241 ,\n",
       "       7.73581963, 7.73582733, 7.73582269, 7.73582757, 7.73582843,\n",
       "       7.73582708, 7.73581854, 7.73582682, 7.73582127, 7.73582326,\n",
       "       7.735822  , 7.73582682, 7.73582869, 7.73582302, 7.73582232,\n",
       "       7.7358181 , 7.73582722, 7.73581924, 7.73581729, 7.73582312,\n",
       "       7.73581831, 7.73582829, 7.73582665, 7.7358272 , 7.73582804,\n",
       "       7.73581494, 7.73581577, 7.73582964, 7.73582399, 7.73582753,\n",
       "       7.73582221, 7.73582275, 7.73582447, 7.73581818, 7.73582195,\n",
       "       7.73582939, 7.73583105, 7.73581272, 7.73582648, 7.73581792,\n",
       "       7.73582315, 7.73582719, 7.73582516, 7.7358239 , 7.73581948,\n",
       "       7.73581875, 7.7358241 , 7.73582629, 7.7358272 , 7.73581435,\n",
       "       7.73582561, 7.73582121, 7.73583037, 7.73581761, 7.73581843,\n",
       "       7.7358186 , 7.73582931, 7.73582532, 7.73583192, 7.73583231,\n",
       "       7.73582541, 7.73581821, 7.7358203 , 7.73581841, 7.73582151,\n",
       "       7.73582702, 7.73582025, 7.73583018, 7.73581834, 7.73582568,\n",
       "       7.73583131, 7.73581971, 7.73582685, 7.73583148, 7.73582486,\n",
       "       7.73582917, 7.73581711, 7.7358257 , 7.73581929, 7.73581702,\n",
       "       7.73581959, 7.73582303, 7.73581885, 7.73582268, 7.73581454,\n",
       "       7.73582299, 7.73582698, 7.73582079, 7.73582422, 7.73582412,\n",
       "       7.73583016, 7.73582635, 7.73582438, 7.73583148, 7.73581446,\n",
       "       7.73581241, 7.73581531, 7.73582967, 7.73581888, 7.73582981,\n",
       "       7.73581888, 7.73582546, 7.73581494, 7.73582298, 7.73581648,\n",
       "       7.7358252 , 7.73581848, 7.73581815, 7.7358255 , 7.73582912,\n",
       "       7.7358299 , 7.73582436, 7.73582057, 7.73581942, 7.73582981])"
      ]
     },
     "execution_count": 53,
     "metadata": {},
     "output_type": "execute_result"
    }
   ],
   "source": [
    "pred4"
   ]
  },
  {
   "cell_type": "markdown",
   "metadata": {
    "id": "-fIyHrVFRgBt"
   },
   "source": [
    "### (5) Random Forest"
   ]
  },
  {
   "cell_type": "code",
   "execution_count": 54,
   "metadata": {
    "id": "6FDPn5oO9wNE"
   },
   "outputs": [],
   "source": [
    "model5 = RandomForestRegressor()"
   ]
  },
  {
   "cell_type": "code",
   "execution_count": 55,
   "metadata": {
    "id": "pNLcnV409wJu"
   },
   "outputs": [],
   "source": [
    "params5 = {'n_estimators': range(5, 201, 20), 'max_features': range(1, 11)}"
   ]
  },
  {
   "cell_type": "code",
   "execution_count": 56,
   "metadata": {
    "id": "v6JTXU4t9wG6"
   },
   "outputs": [],
   "source": [
    "model5_gs = GridSearchCV(model5, params5, cv=5)"
   ]
  },
  {
   "cell_type": "code",
   "execution_count": 57,
   "metadata": {
    "id": "Up6FbvKx9wD_"
   },
   "outputs": [
    {
     "data": {
      "text/plain": [
       "GridSearchCV(cv=5, estimator=RandomForestRegressor(),\n",
       "             param_grid={'max_features': range(1, 11),\n",
       "                         'n_estimators': range(5, 201, 20)})"
      ]
     },
     "execution_count": 57,
     "metadata": {},
     "output_type": "execute_result"
    }
   ],
   "source": [
    "model5_gs.fit(x_train, y_train)"
   ]
  },
  {
   "cell_type": "code",
   "execution_count": 58,
   "metadata": {
    "id": "c7RAzMyw9wA0"
   },
   "outputs": [
    {
     "data": {
      "text/plain": [
       "{'max_features': 10, 'n_estimators': 165}"
      ]
     },
     "execution_count": 58,
     "metadata": {},
     "output_type": "execute_result"
    }
   ],
   "source": [
    "model5_gs.best_params_"
   ]
  },
  {
   "cell_type": "code",
   "execution_count": 59,
   "metadata": {
    "id": "w-SlzyQFRgBv"
   },
   "outputs": [
    {
     "data": {
      "text/plain": [
       "0.7337074623527926"
      ]
     },
     "execution_count": 59,
     "metadata": {},
     "output_type": "execute_result"
    }
   ],
   "source": [
    "model5_gs.best_score_"
   ]
  },
  {
   "cell_type": "code",
   "execution_count": 60,
   "metadata": {},
   "outputs": [],
   "source": [
    "pred5 = model4_gs.predict(x_val_s)"
   ]
  },
  {
   "cell_type": "code",
   "execution_count": 61,
   "metadata": {},
   "outputs": [
    {
     "data": {
      "text/plain": [
       "array([7.73582008, 7.73582172, 7.7358247 , 7.73582097, 7.7358241 ,\n",
       "       7.73581963, 7.73582733, 7.73582269, 7.73582757, 7.73582843,\n",
       "       7.73582708, 7.73581854, 7.73582682, 7.73582127, 7.73582326,\n",
       "       7.735822  , 7.73582682, 7.73582869, 7.73582302, 7.73582232,\n",
       "       7.7358181 , 7.73582722, 7.73581924, 7.73581729, 7.73582312,\n",
       "       7.73581831, 7.73582829, 7.73582665, 7.7358272 , 7.73582804,\n",
       "       7.73581494, 7.73581577, 7.73582964, 7.73582399, 7.73582753,\n",
       "       7.73582221, 7.73582275, 7.73582447, 7.73581818, 7.73582195,\n",
       "       7.73582939, 7.73583105, 7.73581272, 7.73582648, 7.73581792,\n",
       "       7.73582315, 7.73582719, 7.73582516, 7.7358239 , 7.73581948,\n",
       "       7.73581875, 7.7358241 , 7.73582629, 7.7358272 , 7.73581435,\n",
       "       7.73582561, 7.73582121, 7.73583037, 7.73581761, 7.73581843,\n",
       "       7.7358186 , 7.73582931, 7.73582532, 7.73583192, 7.73583231,\n",
       "       7.73582541, 7.73581821, 7.7358203 , 7.73581841, 7.73582151,\n",
       "       7.73582702, 7.73582025, 7.73583018, 7.73581834, 7.73582568,\n",
       "       7.73583131, 7.73581971, 7.73582685, 7.73583148, 7.73582486,\n",
       "       7.73582917, 7.73581711, 7.7358257 , 7.73581929, 7.73581702,\n",
       "       7.73581959, 7.73582303, 7.73581885, 7.73582268, 7.73581454,\n",
       "       7.73582299, 7.73582698, 7.73582079, 7.73582422, 7.73582412,\n",
       "       7.73583016, 7.73582635, 7.73582438, 7.73583148, 7.73581446,\n",
       "       7.73581241, 7.73581531, 7.73582967, 7.73581888, 7.73582981,\n",
       "       7.73581888, 7.73582546, 7.73581494, 7.73582298, 7.73581648,\n",
       "       7.7358252 , 7.73581848, 7.73581815, 7.7358255 , 7.73582912,\n",
       "       7.7358299 , 7.73582436, 7.73582057, 7.73581942, 7.73582981])"
      ]
     },
     "execution_count": 61,
     "metadata": {},
     "output_type": "execute_result"
    }
   ],
   "source": [
    "pred5"
   ]
  },
  {
   "cell_type": "markdown",
   "metadata": {
    "id": "nB5okfNhSLNt"
   },
   "source": [
    "### (5) XGB"
   ]
  },
  {
   "cell_type": "code",
   "execution_count": 62,
   "metadata": {
    "id": "ldfRuzSi9yCk"
   },
   "outputs": [],
   "source": [
    "model6 = XGBRegressor(objective = 'reg:squarederror')"
   ]
  },
  {
   "cell_type": "code",
   "execution_count": 63,
   "metadata": {
    "id": "9i9T6chu9yhX"
   },
   "outputs": [],
   "source": [
    "params6 = {'learning_rate':np.linspace(0.001,0.3,30), \n",
    "           'n_estimators':[20,30,50,100]}"
   ]
  },
  {
   "cell_type": "code",
   "execution_count": 64,
   "metadata": {
    "id": "XBoq3qXN9ygd"
   },
   "outputs": [],
   "source": [
    "model6_gs = GridSearchCV(model6, params6, cv=5)"
   ]
  },
  {
   "cell_type": "code",
   "execution_count": 65,
   "metadata": {
    "id": "OCSURqFj9yfd"
   },
   "outputs": [
    {
     "data": {
      "text/plain": [
       "GridSearchCV(cv=5,\n",
       "             estimator=XGBRegressor(base_score=None, booster=None,\n",
       "                                    callbacks=None, colsample_bylevel=None,\n",
       "                                    colsample_bynode=None,\n",
       "                                    colsample_bytree=None,\n",
       "                                    early_stopping_rounds=None,\n",
       "                                    enable_categorical=False, eval_metric=None,\n",
       "                                    gamma=None, gpu_id=None, grow_policy=None,\n",
       "                                    importance_type=None,\n",
       "                                    interaction_constraints=None,\n",
       "                                    learning_rate=None, max_bin=None,\n",
       "                                    max_cat...\n",
       "             param_grid={'learning_rate': array([0.001     , 0.01131034, 0.02162069, 0.03193103, 0.04224138,\n",
       "       0.05255172, 0.06286207, 0.07317241, 0.08348276, 0.0937931 ,\n",
       "       0.10410345, 0.11441379, 0.12472414, 0.13503448, 0.14534483,\n",
       "       0.15565517, 0.16596552, 0.17627586, 0.18658621, 0.19689655,\n",
       "       0.2072069 , 0.21751724, 0.22782759, 0.23813793, 0.24844828,\n",
       "       0.25875862, 0.26906897, 0.27937931, 0.28968966, 0.3       ]),\n",
       "                         'n_estimators': [20, 30, 50, 100]})"
      ]
     },
     "execution_count": 65,
     "metadata": {},
     "output_type": "execute_result"
    }
   ],
   "source": [
    "model6_gs.fit(x_train, y_train)"
   ]
  },
  {
   "cell_type": "code",
   "execution_count": 66,
   "metadata": {
    "id": "fvVjzLf09yF0"
   },
   "outputs": [
    {
     "data": {
      "text/plain": [
       "{'learning_rate': 0.22782758620689655, 'n_estimators': 30}"
      ]
     },
     "execution_count": 66,
     "metadata": {},
     "output_type": "execute_result"
    }
   ],
   "source": [
    "model6_gs.best_params_"
   ]
  },
  {
   "cell_type": "code",
   "execution_count": 67,
   "metadata": {
    "id": "bOjRyR9WSLN5"
   },
   "outputs": [
    {
     "data": {
      "text/plain": [
       "0.7249531869285823"
      ]
     },
     "execution_count": 67,
     "metadata": {},
     "output_type": "execute_result"
    }
   ],
   "source": [
    "model6_gs.best_score_"
   ]
  },
  {
   "cell_type": "code",
   "execution_count": 68,
   "metadata": {},
   "outputs": [],
   "source": [
    "pred6 = model5_gs.predict(x_val_s)"
   ]
  },
  {
   "cell_type": "code",
   "execution_count": 69,
   "metadata": {},
   "outputs": [
    {
     "data": {
      "text/plain": [
       "array([6.96042424, 5.90006061, 8.62812121, 6.88218182, 6.70284848,\n",
       "       6.85448485, 5.75290909, 6.832     , 5.82484848, 6.06812121,\n",
       "       6.81860606, 6.86775758, 5.86884848, 8.5849697 , 5.98987879,\n",
       "       6.95248485, 5.76521212, 6.82909091, 5.93672727, 5.98987879,\n",
       "       6.93169697, 6.0150303 , 6.90624242, 5.99212121, 6.81860606,\n",
       "       8.21945455, 6.87860606, 6.82024242, 6.86169697, 5.88848485,\n",
       "       8.53830303, 6.75812121, 5.98739394, 8.5849697 , 6.09581818,\n",
       "       8.28206061, 6.80266667, 8.24393939, 8.68769697, 8.70587879,\n",
       "       5.954     , 8.21945455, 6.93169697, 6.77993939, 7.12127273,\n",
       "       8.20333333, 8.21945455, 7.03466667, 6.85448485, 8.68769697,\n",
       "       8.62212121, 7.14818182, 8.62212121, 6.802     , 6.87981818,\n",
       "       8.20333333, 6.91515152, 8.69890909, 6.96042424, 6.96109091,\n",
       "       6.82909091, 6.97206061, 7.01381818, 7.06351515, 5.99212121,\n",
       "       6.83775758, 5.92157576, 6.81860606, 5.92884848, 8.65115152,\n",
       "       5.91006061, 6.802     , 6.06460606, 8.5749697 , 6.97872727,\n",
       "       6.06812121, 7.10781818, 6.97872727, 6.96109091, 6.06812121,\n",
       "       6.81509091, 8.68224242, 6.85448485, 6.89381818, 6.81509091,\n",
       "       5.95357576, 8.69890909, 5.86884848, 6.88109091, 8.20333333,\n",
       "       6.97206061, 5.89260606, 6.90745455, 7.10387879, 6.76533333,\n",
       "       6.91024242, 6.74406061, 6.95236364, 6.91515152, 8.58484848,\n",
       "       6.74406061, 6.82024242, 8.70036364, 8.71606061, 7.03854545,\n",
       "       6.97872727, 8.20333333, 7.10321212, 5.76521212, 5.92884848,\n",
       "       6.79884848, 5.86975758, 6.96278788, 6.93163636, 6.97969697,\n",
       "       6.85878788, 8.27727273, 5.88515152, 6.832     , 7.06042424])"
      ]
     },
     "execution_count": 69,
     "metadata": {},
     "output_type": "execute_result"
    }
   ],
   "source": [
    "pred6"
   ]
  },
  {
   "cell_type": "code",
   "execution_count": null,
   "metadata": {},
   "outputs": [],
   "source": []
  },
  {
   "cell_type": "code",
   "execution_count": 97,
   "metadata": {},
   "outputs": [
    {
     "data": {
      "text/html": [
       "<div>\n",
       "<style scoped>\n",
       "    .dataframe tbody tr th:only-of-type {\n",
       "        vertical-align: middle;\n",
       "    }\n",
       "\n",
       "    .dataframe tbody tr th {\n",
       "        vertical-align: top;\n",
       "    }\n",
       "\n",
       "    .dataframe thead th {\n",
       "        text-align: right;\n",
       "    }\n",
       "</style>\n",
       "<table border=\"1\" class=\"dataframe\">\n",
       "  <thead>\n",
       "    <tr style=\"text-align: right;\">\n",
       "      <th></th>\n",
       "      <th>model_name</th>\n",
       "      <th>r^2 score</th>\n",
       "      <th>mse</th>\n",
       "      <th>rmse</th>\n",
       "      <th>mae</th>\n",
       "      <th>mape</th>\n",
       "    </tr>\n",
       "  </thead>\n",
       "  <tbody>\n",
       "    <tr>\n",
       "      <th>0</th>\n",
       "      <td>LinearRegression</td>\n",
       "      <td>0.880197</td>\n",
       "      <td>1.042215</td>\n",
       "      <td>1.020889</td>\n",
       "      <td>0.801437</td>\n",
       "      <td>0.207853</td>\n",
       "    </tr>\n",
       "    <tr>\n",
       "      <th>1</th>\n",
       "      <td>KNN</td>\n",
       "      <td>0.353301</td>\n",
       "      <td>5.625901</td>\n",
       "      <td>2.371898</td>\n",
       "      <td>1.962862</td>\n",
       "      <td>0.745133</td>\n",
       "    </tr>\n",
       "    <tr>\n",
       "      <th>2</th>\n",
       "      <td>Decision Tree</td>\n",
       "      <td>0.324848</td>\n",
       "      <td>5.873430</td>\n",
       "      <td>2.423516</td>\n",
       "      <td>1.858460</td>\n",
       "      <td>0.596661</td>\n",
       "    </tr>\n",
       "    <tr>\n",
       "      <th>3</th>\n",
       "      <td>SVM</td>\n",
       "      <td>-0.040160</td>\n",
       "      <td>9.048784</td>\n",
       "      <td>3.008120</td>\n",
       "      <td>2.493803</td>\n",
       "      <td>0.910092</td>\n",
       "    </tr>\n",
       "    <tr>\n",
       "      <th>4</th>\n",
       "      <td>Random Forest</td>\n",
       "      <td>-0.040160</td>\n",
       "      <td>9.048784</td>\n",
       "      <td>3.008120</td>\n",
       "      <td>2.493803</td>\n",
       "      <td>0.910092</td>\n",
       "    </tr>\n",
       "    <tr>\n",
       "      <th>5</th>\n",
       "      <td>XGB</td>\n",
       "      <td>0.278219</td>\n",
       "      <td>6.279072</td>\n",
       "      <td>2.505808</td>\n",
       "      <td>2.025201</td>\n",
       "      <td>0.731900</td>\n",
       "    </tr>\n",
       "  </tbody>\n",
       "</table>\n",
       "</div>"
      ],
      "text/plain": [
       "         model_name  r^2 score       mse      rmse       mae      mape\n",
       "0  LinearRegression   0.880197  1.042215  1.020889  0.801437  0.207853\n",
       "1               KNN   0.353301  5.625901  2.371898  1.962862  0.745133\n",
       "2     Decision Tree   0.324848  5.873430  2.423516  1.858460  0.596661\n",
       "3               SVM  -0.040160  9.048784  3.008120  2.493803  0.910092\n",
       "4     Random Forest  -0.040160  9.048784  3.008120  2.493803  0.910092\n",
       "5               XGB   0.278219  6.279072  2.505808  2.025201  0.731900"
      ]
     },
     "execution_count": 97,
     "metadata": {},
     "output_type": "execute_result"
    }
   ],
   "source": [
    "model_name = ['LinearRegression', 'KNN', 'Decision Tree', 'SVM', 'Random Forest', 'XGB'] \n",
    "r2score, mse, rmse, mae, mape = [], [], [], [], []\n",
    "pred = [pred1, pred2, pred3, pred4, pred5, pred6]\n",
    "\n",
    "for i, p in enumerate(pred):\n",
    "    r2score.append(r2_score(y_val, p))\n",
    "    mse.append(mean_squared_error(y_val, p))\n",
    "    rmse.append(mean_squared_error(y_val, p, squared = False))\n",
    "    mae.append(mean_absolute_error(y_val, p)) \n",
    "    mape.append(mean_absolute_percentage_error(y_val, p)) \n",
    "\n",
    "result = pd.DataFrame({'model_name': model_name, 'r^2 score':r2score, 'mse': mse, 'rmse':rmse, 'mae':mae, 'mape':mape}) \n",
    "result"
   ]
  },
  {
   "cell_type": "code",
   "execution_count": null,
   "metadata": {},
   "outputs": [],
   "source": [
    "GridSearchCV score"
   ]
  },
  {
   "cell_type": "code",
   "execution_count": null,
   "metadata": {},
   "outputs": [],
   "source": [
    "https://scikit-learn.org/stable/modules/model_evaluation.html"
   ]
  }
 ],
 "metadata": {
  "colab": {
   "collapsed_sections": [],
   "name": "14과 성능 최적화 종합실습.ipynb",
   "provenance": [],
   "toc_visible": true
  },
  "kernelspec": {
   "display_name": "Python 3 (ipykernel)",
   "language": "python",
   "name": "python3"
  },
  "language_info": {
   "codemirror_mode": {
    "name": "ipython",
    "version": 3
   },
   "file_extension": ".py",
   "mimetype": "text/x-python",
   "name": "python",
   "nbconvert_exporter": "python",
   "pygments_lexer": "ipython3",
   "version": "3.9.7"
  }
 },
 "nbformat": 4,
 "nbformat_minor": 4
}
