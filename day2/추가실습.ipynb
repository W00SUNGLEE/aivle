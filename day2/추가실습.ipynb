{
 "cells": [
  {
   "cell_type": "markdown",
   "id": "b0bd1d10",
   "metadata": {},
   "source": [
    "# 2일차"
   ]
  },
  {
   "cell_type": "markdown",
   "id": "c7d9c073",
   "metadata": {},
   "source": [
    "## 추가 실습 0"
   ]
  },
  {
   "cell_type": "code",
   "execution_count": null,
   "id": "f2ba76de",
   "metadata": {},
   "outputs": [],
   "source": [
    "import sys\n",
    "\n",
    "N, X = map(int, input().split())\n",
    "\n",
    "data = list(map(int, input().split()))\n",
    "\n",
    "for i in range(len(data)):\n",
    "    if data[i] < X:\n",
    "        print(data[i], end=\" \")"
   ]
  },
  {
   "cell_type": "markdown",
   "id": "86124397",
   "metadata": {},
   "source": [
    "## 추가 실습 1"
   ]
  },
  {
   "cell_type": "code",
   "execution_count": null,
   "id": "2a7a10e4",
   "metadata": {},
   "outputs": [],
   "source": [
    "def solution(lottos, win_nums):\n",
    "    rank = [0, 0, 5, 4, 3, 2, 1]\n",
    "    \n",
    "    correct = 0\n",
    "    blank = 0\n",
    "    for i in range(len(lottos)):\n",
    "        if lottos[i] == 0:\n",
    "            blank += 1\n",
    "        else:\n",
    "            if lottos[i] in win_nums:\n",
    "                correct += 1\n",
    "        \n",
    "    answer = [rank[correct + blank], rank[correct]]\n",
    "    return answer\n",
    "\n",
    "lottos = [44, 1, 0, 0, 31, 25]\n",
    "win_nums = [31, 10, 45, 1, 6, 19]\n",
    "answer = solution(lottos, win_nums)\n",
    "print(answer)"
   ]
  },
  {
   "cell_type": "markdown",
   "id": "7c40e8bd",
   "metadata": {},
   "source": [
    "## 추가 실습 2"
   ]
  },
  {
   "cell_type": "code",
   "execution_count": null,
   "id": "7e82bb8c",
   "metadata": {},
   "outputs": [],
   "source": [
    "def solution(numbers):\n",
    "    answer = 0\n",
    "    \n",
    "    for i in range(10):\n",
    "        if i not in numbers:\n",
    "            answer += i\n",
    "        \n",
    "    return answer\n",
    "\n",
    "numbers = [1,2,3,4,6,7,8,0]\n",
    "answer = solution(numbers)\n",
    "print(answer)"
   ]
  },
  {
   "cell_type": "markdown",
   "id": "7c3c5198",
   "metadata": {},
   "source": [
    "## 추가 실습3"
   ]
  },
  {
   "cell_type": "code",
   "execution_count": null,
   "id": "e094cdb7",
   "metadata": {},
   "outputs": [],
   "source": [
    "def solution(store, customer):\n",
    "    answer = []\n",
    "    \n",
    "    for item in customer:\n",
    "        if item in store:\n",
    "            answer.append('yes')\n",
    "            \n",
    "        else:\n",
    "            answer.append('no')\n",
    "    \n",
    "    return answer\n",
    "\n",
    "store = [2,3,7,8,9]\n",
    "customer = [7,5,9]\n",
    "answer = solution(store, customer)\n",
    "print(answer)"
   ]
  },
  {
   "cell_type": "markdown",
   "id": "e4630ecf",
   "metadata": {},
   "source": [
    "## 추가 실습 4"
   ]
  },
  {
   "cell_type": "code",
   "execution_count": 3,
   "id": "4cb9937f",
   "metadata": {},
   "outputs": [
    {
     "name": "stdout",
     "output_type": "stream",
     "text": [
      "6\n"
     ]
    }
   ],
   "source": [
    "def solution(arr):\n",
    "    answer = 0\n",
    "    n = 1\n",
    "    \n",
    "    while True:\n",
    "        check = True\n",
    "        for i in range(len(arr)):\n",
    "            if n % arr[i] != 0:\n",
    "                check = False\n",
    "                break\n",
    "                \n",
    "        if check:\n",
    "            answer = n\n",
    "            break\n",
    "        else: \n",
    "            n += 1\n",
    "            continue\n",
    "\n",
    "    return answer\n",
    "\n",
    "arr = [1, 2, 3]\n",
    "answer = solution(arr)\n",
    "print(answer)"
   ]
  },
  {
   "cell_type": "markdown",
   "id": "cb420662",
   "metadata": {},
   "source": [
    "## 추가 실습 5"
   ]
  },
  {
   "cell_type": "code",
   "execution_count": 5,
   "id": "52e7a81d",
   "metadata": {},
   "outputs": [
    {
     "name": "stdout",
     "output_type": "stream",
     "text": [
      "[0, 1]\n"
     ]
    }
   ],
   "source": [
    "def solution(n, s):\n",
    "    if s == 1:\n",
    "        return [-1]\n",
    "    \n",
    "    else:\n",
    "        answer = [s//2,s-s//2 ]\n",
    "        return answer\n",
    "\n",
    "n = 2\n",
    "s = 1\n",
    "answer = solution(n, s)\n",
    "print(answer)"
   ]
  },
  {
   "cell_type": "markdown",
   "id": "b9fe0692",
   "metadata": {},
   "source": [
    "## 추가 실습 6"
   ]
  },
  {
   "cell_type": "code",
   "execution_count": 6,
   "id": "03ad2b1f",
   "metadata": {},
   "outputs": [
    {
     "name": "stdout",
     "output_type": "stream",
     "text": [
      "[4, 3, 2]\n"
     ]
    }
   ],
   "source": [
    "def solution(arr):\n",
    "    arr.remove(min(arr))\n",
    "    return arr\n",
    "\n",
    "arr = [4, 3, 2, 1]\n",
    "answer = solution(arr)\n",
    "print(answer)"
   ]
  },
  {
   "cell_type": "markdown",
   "id": "de2c3807",
   "metadata": {},
   "source": [
    "## 추가 실습 7"
   ]
  },
  {
   "cell_type": "code",
   "execution_count": 12,
   "id": "a0056dd7",
   "metadata": {},
   "outputs": [
    {
     "name": "stdout",
     "output_type": "stream",
     "text": [
      "[1, 3, 0, 1]\n"
     ]
    }
   ],
   "source": [
    "def solution(arr):\n",
    "    previous = arr[-1]\n",
    "    for i in reversed(range(len(arr)-1)):\n",
    "        if arr[i] == previous:\n",
    "            arr.pop(i+1)\n",
    "            \n",
    "        else:\n",
    "            previous = arr[i]\n",
    "            \n",
    "    answer = arr\n",
    "    return answer\n",
    "\n",
    "arr = [1,1,3,3,0,1,1]\n",
    "#arr = [4,4,4,3,3]\n",
    "answer = solution(arr)\n",
    "print(answer)"
   ]
  }
 ],
 "metadata": {
  "kernelspec": {
   "display_name": "Python 3 (ipykernel)",
   "language": "python",
   "name": "python3"
  },
  "language_info": {
   "codemirror_mode": {
    "name": "ipython",
    "version": 3
   },
   "file_extension": ".py",
   "mimetype": "text/x-python",
   "name": "python",
   "nbconvert_exporter": "python",
   "pygments_lexer": "ipython3",
   "version": "3.9.7"
  }
 },
 "nbformat": 4,
 "nbformat_minor": 5
}
