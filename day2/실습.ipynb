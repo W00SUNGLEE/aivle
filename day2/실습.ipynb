{
 "cells": [
  {
   "cell_type": "markdown",
   "id": "da02d387",
   "metadata": {},
   "source": [
    "# 2일차 "
   ]
  },
  {
   "cell_type": "markdown",
   "id": "e244eb35",
   "metadata": {},
   "source": [
    "## 실습 1"
   ]
  },
  {
   "cell_type": "code",
   "execution_count": 3,
   "id": "2a5cdde3",
   "metadata": {},
   "outputs": [
    {
     "name": "stdout",
     "output_type": "stream",
     "text": [
      "[2, 3, 5, 7, 11, 13, 17, 19, 23, 29, 31, 37, 41, 43, 47, 53, 59, 61, 67, 71, 73, 79, 83, 89, 97, 101, 103, 107, 109, 113, 127, 131, 137, 139, 149, 151, 157, 163, 167, 173, 179, 181, 191, 193, 197, 199, 211, 223, 227, 229, 233, 239, 241, 251, 257, 263, 269, 271, 277, 281, 283, 293, 307, 311, 313, 317, 331, 337, 347, 349, 353, 359, 367, 373, 379, 383, 389, 397, 401, 409, 419, 421, 431, 433, 439, 443, 449, 457, 461, 463, 467, 479, 487, 491, 499, 503, 509, 521, 523, 541, 547, 557, 563, 569, 571, 577, 587, 593, 599, 601, 607, 613, 617, 619, 631, 641, 643, 647, 653, 659, 661, 673, 677, 683, 691, 701, 709, 719, 727, 733, 739, 743, 751, 757, 761, 769, 773, 787, 797, 809, 811, 821, 823, 827, 829, 839, 853, 857, 859, 863, 877, 881, 883, 887, 907, 911, 919, 929, 937, 941, 947, 953, 967, 971, 977, 983, 991, 997]\n"
     ]
    }
   ],
   "source": [
    "arr = [True for _ in range(1001)]\n",
    "answer = list()\n",
    "\n",
    "for i in range(2, 1001):\n",
    "    if arr[i] == True:\n",
    "        answer.append(i)\n",
    "        for j in range(i,1001,i):\n",
    "            arr[j] = False\n",
    "        \n",
    "    else:\n",
    "        continue\n",
    "        \n",
    "print(answer)"
   ]
  },
  {
   "cell_type": "markdown",
   "id": "323c6544",
   "metadata": {},
   "source": [
    "## 실습 2"
   ]
  },
  {
   "cell_type": "code",
   "execution_count": 6,
   "id": "556fee3e",
   "metadata": {},
   "outputs": [
    {
     "name": "stdout",
     "output_type": "stream",
     "text": [
      "리스트에 들어갈 원소를 입력하세요. : 1\n",
      "리스트에 들어갈 원소를 입력하세요. : 2\n",
      "리스트에 들어갈 원소를 입력하세요. : 3\n",
      "리스트에 들어갈 원소를 입력하세요. : 4\n",
      "리스트에 들어갈 원소를 입력하세요. : end\n",
      "['4', '3', '2', '1']\n"
     ]
    }
   ],
   "source": [
    "status = True\n",
    "\n",
    "arr = list()\n",
    "\n",
    "while status:\n",
    "    tmp = input('리스트에 들어갈 원소를 입력하세요. : ')\n",
    "    \n",
    "    if tmp == 'end':\n",
    "        break\n",
    "        \n",
    "    else:\n",
    "        arr.append(tmp)\n",
    "\n",
    "arr.reverse()\n",
    "print(arr)"
   ]
  },
  {
   "cell_type": "markdown",
   "id": "99735a54",
   "metadata": {},
   "source": [
    "## 실습 3"
   ]
  },
  {
   "cell_type": "code",
   "execution_count": 7,
   "id": "b73c9f6a",
   "metadata": {},
   "outputs": [
    {
     "name": "stdout",
     "output_type": "stream",
     "text": [
      "5\n"
     ]
    }
   ],
   "source": [
    "arr = [0,1,2,3,4,5,6,7,8,9]\n",
    "\n",
    "print(arr.index(5))"
   ]
  },
  {
   "cell_type": "markdown",
   "id": "715dd0bd",
   "metadata": {},
   "source": [
    "## 실습 4"
   ]
  },
  {
   "cell_type": "code",
   "execution_count": 9,
   "id": "f4e3f964",
   "metadata": {},
   "outputs": [
    {
     "name": "stdout",
     "output_type": "stream",
     "text": [
      "최대값 : 9\n",
      "최대값 인덱스 : 9\n"
     ]
    }
   ],
   "source": [
    "import sys\n",
    "\n",
    "arr = [0,1,2,3,4,5,6,7,8,9]\n",
    "\n",
    "maxium = -sys.maxsize\n",
    "maxiumIndex = -1\n",
    "\n",
    "for i in range(len(arr)):\n",
    "    if arr[i] > maxium:\n",
    "        maxium = arr[i]\n",
    "        maxiumIndex = i\n",
    "\n",
    "\n",
    "print(\"최대값 : {}\".format(maxium))\n",
    "print(\"최대값 인덱스 : {}\".format(maxiumIndex))        "
   ]
  }
 ],
 "metadata": {
  "kernelspec": {
   "display_name": "Python 3 (ipykernel)",
   "language": "python",
   "name": "python3"
  },
  "language_info": {
   "codemirror_mode": {
    "name": "ipython",
    "version": 3
   },
   "file_extension": ".py",
   "mimetype": "text/x-python",
   "name": "python",
   "nbconvert_exporter": "python",
   "pygments_lexer": "ipython3",
   "version": "3.9.7"
  }
 },
 "nbformat": 4,
 "nbformat_minor": 5
}
