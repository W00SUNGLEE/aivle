{
 "cells": [
  {
   "cell_type": "markdown",
   "metadata": {},
   "source": [
    "## <b> [3단계] AI 모델링\n",
    "---\n",
    "\n",
    "## 1, 2 단계에서 진행하신 내용을 아래에 그대로 진행해주세요.\n",
    "\n",
    "---"
   ]
  },
  {
   "cell_type": "markdown",
   "metadata": {},
   "source": [
    "# <b>Step 0. 라이브러리 import 및 데이터 불러오기\n",
    "### **가. 라이브러리 import**"
   ]
  },
  {
   "cell_type": "code",
   "execution_count": 2,
   "metadata": {},
   "outputs": [
    {
     "name": "stdout",
     "output_type": "stream",
     "text": [
      "Collecting tensorflow\n",
      "  Downloading tensorflow-2.9.1-cp39-cp39-win_amd64.whl (444.0 MB)\n",
      "Collecting keras-preprocessing>=1.1.1\n",
      "  Downloading Keras_Preprocessing-1.1.2-py2.py3-none-any.whl (42 kB)\n",
      "Collecting tensorboard<2.10,>=2.9\n",
      "  Downloading tensorboard-2.9.1-py3-none-any.whl (5.8 MB)\n",
      "Collecting flatbuffers<2,>=1.12\n",
      "  Downloading flatbuffers-1.12-py2.py3-none-any.whl (15 kB)\n",
      "Collecting libclang>=13.0.0\n",
      "  Downloading libclang-14.0.6-py2.py3-none-win_amd64.whl (14.2 MB)\n",
      "Collecting termcolor>=1.1.0\n",
      "  Downloading termcolor-1.1.0.tar.gz (3.9 kB)\n",
      "Collecting tensorflow-io-gcs-filesystem>=0.23.1\n",
      "  Downloading tensorflow_io_gcs_filesystem-0.26.0-cp39-cp39-win_amd64.whl (1.5 MB)\n",
      "Requirement already satisfied: numpy>=1.20 in c:\\users\\wslee\\anaconda3\\lib\\site-packages (from tensorflow) (1.20.3)\n",
      "Collecting keras<2.10.0,>=2.9.0rc0\n",
      "  Downloading keras-2.9.0-py2.py3-none-any.whl (1.6 MB)\n",
      "Requirement already satisfied: typing-extensions>=3.6.6 in c:\\users\\wslee\\anaconda3\\lib\\site-packages (from tensorflow) (3.10.0.2)\n",
      "Collecting grpcio<2.0,>=1.24.3\n",
      "  Downloading grpcio-1.47.0-cp39-cp39-win_amd64.whl (3.6 MB)\n",
      "Requirement already satisfied: h5py>=2.9.0 in c:\\users\\wslee\\anaconda3\\lib\\site-packages (from tensorflow) (3.2.1)\n",
      "Collecting gast<=0.4.0,>=0.2.1\n",
      "  Downloading gast-0.4.0-py3-none-any.whl (9.8 kB)\n",
      "Requirement already satisfied: setuptools in c:\\users\\wslee\\anaconda3\\lib\\site-packages (from tensorflow) (58.0.4)\n",
      "Collecting tensorflow-estimator<2.10.0,>=2.9.0rc0\n",
      "  Downloading tensorflow_estimator-2.9.0-py2.py3-none-any.whl (438 kB)\n",
      "Requirement already satisfied: packaging in c:\\users\\wslee\\anaconda3\\lib\\site-packages (from tensorflow) (21.0)\n",
      "Collecting opt-einsum>=2.3.2\n",
      "  Downloading opt_einsum-3.3.0-py3-none-any.whl (65 kB)\n",
      "Collecting astunparse>=1.6.0\n",
      "  Downloading astunparse-1.6.3-py2.py3-none-any.whl (12 kB)\n",
      "Collecting google-pasta>=0.1.1\n",
      "  Downloading google_pasta-0.2.0-py3-none-any.whl (57 kB)\n",
      "Collecting protobuf<3.20,>=3.9.2\n",
      "  Downloading protobuf-3.19.4-cp39-cp39-win_amd64.whl (895 kB)\n",
      "Requirement already satisfied: wrapt>=1.11.0 in c:\\users\\wslee\\anaconda3\\lib\\site-packages (from tensorflow) (1.12.1)\n",
      "Collecting absl-py>=1.0.0\n",
      "  Downloading absl_py-1.2.0-py3-none-any.whl (123 kB)\n",
      "Requirement already satisfied: six>=1.12.0 in c:\\users\\wslee\\anaconda3\\lib\\site-packages (from tensorflow) (1.16.0)\n",
      "Requirement already satisfied: wheel<1.0,>=0.23.0 in c:\\users\\wslee\\anaconda3\\lib\\site-packages (from astunparse>=1.6.0->tensorflow) (0.37.0)\n",
      "Collecting tensorboard-data-server<0.7.0,>=0.6.0\n",
      "  Downloading tensorboard_data_server-0.6.1-py3-none-any.whl (2.4 kB)\n",
      "Collecting tensorboard-plugin-wit>=1.6.0\n",
      "  Downloading tensorboard_plugin_wit-1.8.1-py3-none-any.whl (781 kB)\n",
      "Requirement already satisfied: werkzeug>=1.0.1 in c:\\users\\wslee\\anaconda3\\lib\\site-packages (from tensorboard<2.10,>=2.9->tensorflow) (2.0.2)\n",
      "Collecting google-auth<3,>=1.6.3\n",
      "  Downloading google_auth-2.11.0-py2.py3-none-any.whl (167 kB)\n",
      "Collecting google-auth-oauthlib<0.5,>=0.4.1\n",
      "  Downloading google_auth_oauthlib-0.4.6-py2.py3-none-any.whl (18 kB)\n",
      "Requirement already satisfied: requests<3,>=2.21.0 in c:\\users\\wslee\\anaconda3\\lib\\site-packages (from tensorboard<2.10,>=2.9->tensorflow) (2.26.0)\n",
      "Collecting markdown>=2.6.8\n",
      "  Downloading Markdown-3.4.1-py3-none-any.whl (93 kB)\n",
      "Requirement already satisfied: pyasn1-modules>=0.2.1 in c:\\users\\wslee\\anaconda3\\lib\\site-packages (from google-auth<3,>=1.6.3->tensorboard<2.10,>=2.9->tensorflow) (0.2.8)\n",
      "Collecting cachetools<6.0,>=2.0.0\n",
      "  Downloading cachetools-5.2.0-py3-none-any.whl (9.3 kB)\n",
      "Collecting rsa<5,>=3.1.4\n",
      "  Downloading rsa-4.9-py3-none-any.whl (34 kB)\n",
      "Collecting requests-oauthlib>=0.7.0\n",
      "  Downloading requests_oauthlib-1.3.1-py2.py3-none-any.whl (23 kB)\n",
      "Requirement already satisfied: importlib-metadata>=4.4 in c:\\users\\wslee\\anaconda3\\lib\\site-packages (from markdown>=2.6.8->tensorboard<2.10,>=2.9->tensorflow) (4.8.1)\n",
      "Requirement already satisfied: zipp>=0.5 in c:\\users\\wslee\\anaconda3\\lib\\site-packages (from importlib-metadata>=4.4->markdown>=2.6.8->tensorboard<2.10,>=2.9->tensorflow) (3.6.0)\n",
      "Requirement already satisfied: pyasn1<0.5.0,>=0.4.6 in c:\\users\\wslee\\anaconda3\\lib\\site-packages (from pyasn1-modules>=0.2.1->google-auth<3,>=1.6.3->tensorboard<2.10,>=2.9->tensorflow) (0.4.8)\n",
      "Requirement already satisfied: charset-normalizer~=2.0.0 in c:\\users\\wslee\\anaconda3\\lib\\site-packages (from requests<3,>=2.21.0->tensorboard<2.10,>=2.9->tensorflow) (2.0.4)\n",
      "Requirement already satisfied: certifi>=2017.4.17 in c:\\users\\wslee\\anaconda3\\lib\\site-packages (from requests<3,>=2.21.0->tensorboard<2.10,>=2.9->tensorflow) (2021.10.8)\n",
      "Requirement already satisfied: urllib3<1.27,>=1.21.1 in c:\\users\\wslee\\anaconda3\\lib\\site-packages (from requests<3,>=2.21.0->tensorboard<2.10,>=2.9->tensorflow) (1.26.7)\n",
      "Requirement already satisfied: idna<4,>=2.5 in c:\\users\\wslee\\anaconda3\\lib\\site-packages (from requests<3,>=2.21.0->tensorboard<2.10,>=2.9->tensorflow) (3.2)\n",
      "Collecting oauthlib>=3.0.0\n",
      "  Downloading oauthlib-3.2.0-py3-none-any.whl (151 kB)\n",
      "Requirement already satisfied: pyparsing>=2.0.2 in c:\\users\\wslee\\anaconda3\\lib\\site-packages (from packaging->tensorflow) (3.0.4)\n",
      "Building wheels for collected packages: termcolor\n",
      "  Building wheel for termcolor (setup.py): started\n",
      "  Building wheel for termcolor (setup.py): finished with status 'done'\n",
      "  Created wheel for termcolor: filename=termcolor-1.1.0-py3-none-any.whl size=4847 sha256=20d24b8f1393fb6867e813b7ec6423d1c94ffcbad60d895710cfff825433d2c4\n",
      "  Stored in directory: c:\\users\\wslee\\appdata\\local\\pip\\cache\\wheels\\b6\\0d\\90\\0d1bbd99855f99cb2f6c2e5ff96f8023fad8ec367695f7d72d\n",
      "Successfully built termcolor\n",
      "Installing collected packages: rsa, oauthlib, cachetools, requests-oauthlib, google-auth, tensorboard-plugin-wit, tensorboard-data-server, protobuf, markdown, grpcio, google-auth-oauthlib, absl-py, termcolor, tensorflow-io-gcs-filesystem, tensorflow-estimator, tensorboard, opt-einsum, libclang, keras-preprocessing, keras, google-pasta, gast, flatbuffers, astunparse, tensorflow\n",
      "Successfully installed absl-py-1.2.0 astunparse-1.6.3 cachetools-5.2.0 flatbuffers-1.12 gast-0.4.0 google-auth-2.11.0 google-auth-oauthlib-0.4.6 google-pasta-0.2.0 grpcio-1.47.0 keras-2.9.0 keras-preprocessing-1.1.2 libclang-14.0.6 markdown-3.4.1 oauthlib-3.2.0 opt-einsum-3.3.0 protobuf-3.19.4 requests-oauthlib-1.3.1 rsa-4.9 tensorboard-2.9.1 tensorboard-data-server-0.6.1 tensorboard-plugin-wit-1.8.1 tensorflow-2.9.1 tensorflow-estimator-2.9.0 tensorflow-io-gcs-filesystem-0.26.0 termcolor-1.1.0\n",
      "Note: you may need to restart the kernel to use updated packages.\n"
     ]
    }
   ],
   "source": [
    "#Tensorflow 설치하기\n",
    "%pip install tensorflow"
   ]
  },
  {
   "cell_type": "markdown",
   "metadata": {},
   "source": [
    "* 데이터 프레임 관련 라이브러리"
   ]
  },
  {
   "cell_type": "code",
   "execution_count": 30,
   "metadata": {},
   "outputs": [],
   "source": [
    "#라이브러리 불러오기\n",
    "import pandas as pd\n",
    "import numpy as np\n",
    "\n",
    "import matplotlib.pyplot as plt\n",
    "import seaborn as sns\n",
    "import scipy.stats as spst\n",
    "from statsmodels.graphics.mosaicplot import mosaic\n",
    "import statsmodels.api as sm"
   ]
  },
  {
   "cell_type": "markdown",
   "metadata": {},
   "source": [
    "### **나.  학습데이터 불러오기**"
   ]
  },
  {
   "cell_type": "code",
   "execution_count": 31,
   "metadata": {},
   "outputs": [],
   "source": [
    "data = pd.read_csv('train_dataset.csv', delimiter=',')"
   ]
  },
  {
   "cell_type": "code",
   "execution_count": null,
   "metadata": {},
   "outputs": [],
   "source": []
  },
  {
   "cell_type": "markdown",
   "metadata": {},
   "source": [
    "### **다.  데이터 전처리**"
   ]
  },
  {
   "cell_type": "code",
   "execution_count": 32,
   "metadata": {},
   "outputs": [
    {
     "name": "stdout",
     "output_type": "stream",
     "text": [
      "<class 'pandas.core.frame.DataFrame'>\n",
      "RangeIndex: 3664 entries, 0 to 3663\n",
      "Data columns (total 25 columns):\n",
      " #   Column                   Non-Null Count  Dtype  \n",
      "---  ------                   --------------  -----  \n",
      " 0   Unnamed: 0               3664 non-null   int64  \n",
      " 1   url_len                  3664 non-null   float64\n",
      " 2   url_num_hyphens_dom      3664 non-null   float64\n",
      " 3   url_path_len             3663 non-null   float64\n",
      " 4   url_domain_len           3663 non-null   float64\n",
      " 5   url_hostname_len         3664 non-null   float64\n",
      " 6   url_num_dots             3664 non-null   float64\n",
      " 7   url_num_underscores      3664 non-null   float64\n",
      " 8   url_query_len            3664 non-null   float64\n",
      " 9   url_num_query_para       3664 non-null   float64\n",
      " 10  url_ip_present           3664 non-null   float64\n",
      " 11  url_entropy              3664 non-null   float64\n",
      " 12  url_chinese_present      3664 non-null   float64\n",
      " 13  url_port                 3664 non-null   float64\n",
      " 14  html_num_tags('iframe')  3664 non-null   float64\n",
      " 15  html_num_tags('script')  3664 non-null   float64\n",
      " 16  html_num_tags('embed')   3664 non-null   float64\n",
      " 17  html_num_tags('object')  3664 non-null   float64\n",
      " 18  html_num_tags('div')     3664 non-null   float64\n",
      " 19  html_num_tags('head')    3664 non-null   float64\n",
      " 20  html_num_tags('body')    3664 non-null   float64\n",
      " 21  html_num_tags('form')    3664 non-null   float64\n",
      " 22  html_num_tags('a')       3664 non-null   float64\n",
      " 23  html_num_tags('applet')  3664 non-null   float64\n",
      " 24  Result_v1                3664 non-null   object \n",
      "dtypes: float64(23), int64(1), object(1)\n",
      "memory usage: 715.8+ KB\n"
     ]
    }
   ],
   "source": [
    "data.info()"
   ]
  },
  {
   "cell_type": "code",
   "execution_count": 33,
   "metadata": {},
   "outputs": [],
   "source": [
    "data.loc[data['url_path_len'].isnull(), 'url_path_len'] = data.loc[data['url_path_len'].isnull(), 'url_len'] - data.loc[data['url_path_len'].isnull(), 'url_domain_len']\n",
    "data.loc[data['url_domain_len'].isnull(), 'url_domain_len'] = data.loc[data['url_domain_len'].isnull(), 'url_len'] - data.loc[data['url_domain_len'].isnull(), 'url_path_len']"
   ]
  },
  {
   "cell_type": "code",
   "execution_count": 34,
   "metadata": {},
   "outputs": [
    {
     "name": "stdout",
     "output_type": "stream",
     "text": [
      "<class 'pandas.core.frame.DataFrame'>\n",
      "RangeIndex: 3664 entries, 0 to 3663\n",
      "Data columns (total 25 columns):\n",
      " #   Column                   Non-Null Count  Dtype  \n",
      "---  ------                   --------------  -----  \n",
      " 0   Unnamed: 0               3664 non-null   int64  \n",
      " 1   url_len                  3664 non-null   float64\n",
      " 2   url_num_hyphens_dom      3664 non-null   float64\n",
      " 3   url_path_len             3664 non-null   float64\n",
      " 4   url_domain_len           3664 non-null   float64\n",
      " 5   url_hostname_len         3664 non-null   float64\n",
      " 6   url_num_dots             3664 non-null   float64\n",
      " 7   url_num_underscores      3664 non-null   float64\n",
      " 8   url_query_len            3664 non-null   float64\n",
      " 9   url_num_query_para       3664 non-null   float64\n",
      " 10  url_ip_present           3664 non-null   float64\n",
      " 11  url_entropy              3664 non-null   float64\n",
      " 12  url_chinese_present      3664 non-null   float64\n",
      " 13  url_port                 3664 non-null   float64\n",
      " 14  html_num_tags('iframe')  3664 non-null   float64\n",
      " 15  html_num_tags('script')  3664 non-null   float64\n",
      " 16  html_num_tags('embed')   3664 non-null   float64\n",
      " 17  html_num_tags('object')  3664 non-null   float64\n",
      " 18  html_num_tags('div')     3664 non-null   float64\n",
      " 19  html_num_tags('head')    3664 non-null   float64\n",
      " 20  html_num_tags('body')    3664 non-null   float64\n",
      " 21  html_num_tags('form')    3664 non-null   float64\n",
      " 22  html_num_tags('a')       3664 non-null   float64\n",
      " 23  html_num_tags('applet')  3664 non-null   float64\n",
      " 24  Result_v1                3664 non-null   object \n",
      "dtypes: float64(23), int64(1), object(1)\n",
      "memory usage: 715.8+ KB\n"
     ]
    }
   ],
   "source": [
    "data.info()"
   ]
  },
  {
   "cell_type": "code",
   "execution_count": 35,
   "metadata": {},
   "outputs": [],
   "source": [
    "columns = ['url_num_hyphens_dom', 'url_num_underscores', 'url_domain_len', 'url_path_len', 'url_num_dots', 'url_ip_present', 'html_num_tags(\\'iframe\\')', 'html_num_tags(\\'script\\')', 'html_num_tags(\\'embed\\')', 'html_num_tags(\\'object\\')', 'html_num_tags(\\'div\\')', 'html_num_tags(\\'form\\')', 'html_num_tags(\\'a\\')']\n",
    "data = data.drop_duplicates(columns, keep = 'first')"
   ]
  },
  {
   "cell_type": "code",
   "execution_count": 36,
   "metadata": {},
   "outputs": [
    {
     "data": {
      "text/plain": [
       "array(['malicious', 'benign'], dtype=object)"
      ]
     },
     "execution_count": 36,
     "metadata": {},
     "output_type": "execute_result"
    }
   ],
   "source": [
    "data['Result_v1'].unique()"
   ]
  },
  {
   "cell_type": "code",
   "execution_count": 37,
   "metadata": {},
   "outputs": [
    {
     "data": {
      "text/plain": [
       "array([-1,  1], dtype=int64)"
      ]
     },
     "execution_count": 37,
     "metadata": {},
     "output_type": "execute_result"
    }
   ],
   "source": [
    "data['Result_v1'] = data['Result_v1'].replace({'malicious' : -1, 'benign' : 1})\n",
    "data['Result_v1'].unique()"
   ]
  },
  {
   "cell_type": "code",
   "execution_count": 38,
   "metadata": {},
   "outputs": [
    {
     "data": {
      "text/html": [
       "<div>\n",
       "<style scoped>\n",
       "    .dataframe tbody tr th:only-of-type {\n",
       "        vertical-align: middle;\n",
       "    }\n",
       "\n",
       "    .dataframe tbody tr th {\n",
       "        vertical-align: top;\n",
       "    }\n",
       "\n",
       "    .dataframe thead th {\n",
       "        text-align: right;\n",
       "    }\n",
       "</style>\n",
       "<table border=\"1\" class=\"dataframe\">\n",
       "  <thead>\n",
       "    <tr style=\"text-align: right;\">\n",
       "      <th></th>\n",
       "      <th>Unnamed: 0</th>\n",
       "      <th>url_len</th>\n",
       "      <th>url_num_hyphens_dom</th>\n",
       "      <th>url_path_len</th>\n",
       "      <th>url_domain_len</th>\n",
       "      <th>url_hostname_len</th>\n",
       "      <th>url_num_dots</th>\n",
       "      <th>url_num_underscores</th>\n",
       "      <th>url_query_len</th>\n",
       "      <th>url_num_query_para</th>\n",
       "      <th>...</th>\n",
       "      <th>html_num_tags('script')</th>\n",
       "      <th>html_num_tags('embed')</th>\n",
       "      <th>html_num_tags('object')</th>\n",
       "      <th>html_num_tags('div')</th>\n",
       "      <th>html_num_tags('head')</th>\n",
       "      <th>html_num_tags('body')</th>\n",
       "      <th>html_num_tags('form')</th>\n",
       "      <th>html_num_tags('a')</th>\n",
       "      <th>html_num_tags('applet')</th>\n",
       "      <th>Result_v1</th>\n",
       "    </tr>\n",
       "  </thead>\n",
       "  <tbody>\n",
       "    <tr>\n",
       "      <th>0</th>\n",
       "      <td>0</td>\n",
       "      <td>23.0</td>\n",
       "      <td>0.0</td>\n",
       "      <td>8.0</td>\n",
       "      <td>15.0</td>\n",
       "      <td>15.0</td>\n",
       "      <td>2.0</td>\n",
       "      <td>0.0</td>\n",
       "      <td>0.0</td>\n",
       "      <td>0.0</td>\n",
       "      <td>...</td>\n",
       "      <td>7.0</td>\n",
       "      <td>0.0</td>\n",
       "      <td>0.0</td>\n",
       "      <td>0.0</td>\n",
       "      <td>1.0</td>\n",
       "      <td>1.0</td>\n",
       "      <td>0.0</td>\n",
       "      <td>0.0</td>\n",
       "      <td>0.0</td>\n",
       "      <td>-1</td>\n",
       "    </tr>\n",
       "    <tr>\n",
       "      <th>1</th>\n",
       "      <td>1</td>\n",
       "      <td>75.0</td>\n",
       "      <td>0.0</td>\n",
       "      <td>58.0</td>\n",
       "      <td>17.0</td>\n",
       "      <td>17.0</td>\n",
       "      <td>6.0</td>\n",
       "      <td>0.0</td>\n",
       "      <td>0.0</td>\n",
       "      <td>0.0</td>\n",
       "      <td>...</td>\n",
       "      <td>18.0</td>\n",
       "      <td>0.0</td>\n",
       "      <td>0.0</td>\n",
       "      <td>20.0</td>\n",
       "      <td>1.0</td>\n",
       "      <td>1.0</td>\n",
       "      <td>0.0</td>\n",
       "      <td>21.0</td>\n",
       "      <td>0.0</td>\n",
       "      <td>1</td>\n",
       "    </tr>\n",
       "    <tr>\n",
       "      <th>2</th>\n",
       "      <td>2</td>\n",
       "      <td>20.0</td>\n",
       "      <td>0.0</td>\n",
       "      <td>4.0</td>\n",
       "      <td>16.0</td>\n",
       "      <td>16.0</td>\n",
       "      <td>2.0</td>\n",
       "      <td>0.0</td>\n",
       "      <td>0.0</td>\n",
       "      <td>0.0</td>\n",
       "      <td>...</td>\n",
       "      <td>33.0</td>\n",
       "      <td>0.0</td>\n",
       "      <td>0.0</td>\n",
       "      <td>101.0</td>\n",
       "      <td>1.0</td>\n",
       "      <td>1.0</td>\n",
       "      <td>3.0</td>\n",
       "      <td>70.0</td>\n",
       "      <td>0.0</td>\n",
       "      <td>1</td>\n",
       "    </tr>\n",
       "    <tr>\n",
       "      <th>3</th>\n",
       "      <td>3</td>\n",
       "      <td>27.0</td>\n",
       "      <td>0.0</td>\n",
       "      <td>13.0</td>\n",
       "      <td>14.0</td>\n",
       "      <td>14.0</td>\n",
       "      <td>3.0</td>\n",
       "      <td>0.0</td>\n",
       "      <td>0.0</td>\n",
       "      <td>0.0</td>\n",
       "      <td>...</td>\n",
       "      <td>15.0</td>\n",
       "      <td>0.0</td>\n",
       "      <td>0.0</td>\n",
       "      <td>151.0</td>\n",
       "      <td>1.0</td>\n",
       "      <td>1.0</td>\n",
       "      <td>1.0</td>\n",
       "      <td>55.0</td>\n",
       "      <td>0.0</td>\n",
       "      <td>1</td>\n",
       "    </tr>\n",
       "    <tr>\n",
       "      <th>4</th>\n",
       "      <td>4</td>\n",
       "      <td>39.0</td>\n",
       "      <td>2.0</td>\n",
       "      <td>12.0</td>\n",
       "      <td>27.0</td>\n",
       "      <td>27.0</td>\n",
       "      <td>2.0</td>\n",
       "      <td>0.0</td>\n",
       "      <td>0.0</td>\n",
       "      <td>0.0</td>\n",
       "      <td>...</td>\n",
       "      <td>10.0</td>\n",
       "      <td>0.0</td>\n",
       "      <td>0.0</td>\n",
       "      <td>332.0</td>\n",
       "      <td>1.0</td>\n",
       "      <td>1.0</td>\n",
       "      <td>0.0</td>\n",
       "      <td>321.0</td>\n",
       "      <td>0.0</td>\n",
       "      <td>1</td>\n",
       "    </tr>\n",
       "  </tbody>\n",
       "</table>\n",
       "<p>5 rows × 25 columns</p>\n",
       "</div>"
      ],
      "text/plain": [
       "   Unnamed: 0  url_len  url_num_hyphens_dom  url_path_len  url_domain_len  \\\n",
       "0           0     23.0                  0.0           8.0            15.0   \n",
       "1           1     75.0                  0.0          58.0            17.0   \n",
       "2           2     20.0                  0.0           4.0            16.0   \n",
       "3           3     27.0                  0.0          13.0            14.0   \n",
       "4           4     39.0                  2.0          12.0            27.0   \n",
       "\n",
       "   url_hostname_len  url_num_dots  url_num_underscores  url_query_len  \\\n",
       "0              15.0           2.0                  0.0            0.0   \n",
       "1              17.0           6.0                  0.0            0.0   \n",
       "2              16.0           2.0                  0.0            0.0   \n",
       "3              14.0           3.0                  0.0            0.0   \n",
       "4              27.0           2.0                  0.0            0.0   \n",
       "\n",
       "   url_num_query_para  ...  html_num_tags('script')  html_num_tags('embed')  \\\n",
       "0                 0.0  ...                      7.0                     0.0   \n",
       "1                 0.0  ...                     18.0                     0.0   \n",
       "2                 0.0  ...                     33.0                     0.0   \n",
       "3                 0.0  ...                     15.0                     0.0   \n",
       "4                 0.0  ...                     10.0                     0.0   \n",
       "\n",
       "   html_num_tags('object')  html_num_tags('div')  html_num_tags('head')  \\\n",
       "0                      0.0                   0.0                    1.0   \n",
       "1                      0.0                  20.0                    1.0   \n",
       "2                      0.0                 101.0                    1.0   \n",
       "3                      0.0                 151.0                    1.0   \n",
       "4                      0.0                 332.0                    1.0   \n",
       "\n",
       "   html_num_tags('body')  html_num_tags('form')  html_num_tags('a')  \\\n",
       "0                    1.0                    0.0                 0.0   \n",
       "1                    1.0                    0.0                21.0   \n",
       "2                    1.0                    3.0                70.0   \n",
       "3                    1.0                    1.0                55.0   \n",
       "4                    1.0                    0.0               321.0   \n",
       "\n",
       "   html_num_tags('applet')  Result_v1  \n",
       "0                      0.0         -1  \n",
       "1                      0.0          1  \n",
       "2                      0.0          1  \n",
       "3                      0.0          1  \n",
       "4                      0.0          1  \n",
       "\n",
       "[5 rows x 25 columns]"
      ]
     },
     "execution_count": 38,
     "metadata": {},
     "output_type": "execute_result"
    }
   ],
   "source": [
    "data.head()"
   ]
  },
  {
   "cell_type": "code",
   "execution_count": 39,
   "metadata": {},
   "outputs": [],
   "source": [
    "columns = ['Unnamed: 0', 'url_len', 'url_hostname_len', 'url_chinese_present', 'html_num_tags(\\'applet\\')']\n",
    "data = data.drop(columns=columns, axis=1)"
   ]
  },
  {
   "cell_type": "code",
   "execution_count": 40,
   "metadata": {},
   "outputs": [
    {
     "name": "stdout",
     "output_type": "stream",
     "text": [
      "<class 'pandas.core.frame.DataFrame'>\n",
      "Int64Index: 2634 entries, 0 to 3663\n",
      "Data columns (total 20 columns):\n",
      " #   Column                   Non-Null Count  Dtype  \n",
      "---  ------                   --------------  -----  \n",
      " 0   url_num_hyphens_dom      2634 non-null   float64\n",
      " 1   url_path_len             2634 non-null   float64\n",
      " 2   url_domain_len           2634 non-null   float64\n",
      " 3   url_num_dots             2634 non-null   float64\n",
      " 4   url_num_underscores      2634 non-null   float64\n",
      " 5   url_query_len            2634 non-null   float64\n",
      " 6   url_num_query_para       2634 non-null   float64\n",
      " 7   url_ip_present           2634 non-null   float64\n",
      " 8   url_entropy              2634 non-null   float64\n",
      " 9   url_port                 2634 non-null   float64\n",
      " 10  html_num_tags('iframe')  2634 non-null   float64\n",
      " 11  html_num_tags('script')  2634 non-null   float64\n",
      " 12  html_num_tags('embed')   2634 non-null   float64\n",
      " 13  html_num_tags('object')  2634 non-null   float64\n",
      " 14  html_num_tags('div')     2634 non-null   float64\n",
      " 15  html_num_tags('head')    2634 non-null   float64\n",
      " 16  html_num_tags('body')    2634 non-null   float64\n",
      " 17  html_num_tags('form')    2634 non-null   float64\n",
      " 18  html_num_tags('a')       2634 non-null   float64\n",
      " 19  Result_v1                2634 non-null   int64  \n",
      "dtypes: float64(19), int64(1)\n",
      "memory usage: 432.1 KB\n"
     ]
    }
   ],
   "source": [
    "data.info()"
   ]
  },
  {
   "cell_type": "markdown",
   "metadata": {},
   "source": [
    "### **라. train_test_split을 이용하여 train/test  데이터 분리**\n",
    "\n"
   ]
  },
  {
   "cell_type": "code",
   "execution_count": 41,
   "metadata": {},
   "outputs": [],
   "source": [
    "from sklearn.model_selection import train_test_split"
   ]
  },
  {
   "cell_type": "code",
   "execution_count": 42,
   "metadata": {},
   "outputs": [],
   "source": [
    "target = 'Result_v1'\n",
    "x = data.drop(target, axis = 1)\n",
    "y = data.loc[:, target]"
   ]
  },
  {
   "cell_type": "code",
   "execution_count": 54,
   "metadata": {},
   "outputs": [],
   "source": [
    "# train_test_split 사용\n",
    "x_train, x_test, y_train, y_test = train_test_split(x, y, test_size = .3, random_state = 2022)"
   ]
  },
  {
   "cell_type": "code",
   "execution_count": 55,
   "metadata": {},
   "outputs": [],
   "source": [
    "x_train, x_val, y_train, y_val = train_test_split(x_train, y_train, test_size = .3, random_state = 2022)"
   ]
  },
  {
   "cell_type": "code",
   "execution_count": 86,
   "metadata": {},
   "outputs": [],
   "source": [
    "scaler = MinMaxScaler()"
   ]
  },
  {
   "cell_type": "code",
   "execution_count": 87,
   "metadata": {},
   "outputs": [],
   "source": [
    "x_s = scaler.fit_transform(x)"
   ]
  },
  {
   "cell_type": "code",
   "execution_count": 88,
   "metadata": {},
   "outputs": [],
   "source": [
    "x_train_s, x_test_s, y_train_s, y_test_s = train_test_split(x_s, y, test_size = .3, random_state = 2022)"
   ]
  },
  {
   "cell_type": "code",
   "execution_count": 90,
   "metadata": {},
   "outputs": [],
   "source": [
    "x_train_s, x_val_s, y_train_s, y_val_s = train_test_split(x_train_s, y_train_s, test_size = .3, random_state = 2022)"
   ]
  },
  {
   "cell_type": "markdown",
   "metadata": {},
   "source": [
    "### **마. Confusion Matrix 함수 정의**\n"
   ]
  },
  {
   "cell_type": "markdown",
   "metadata": {},
   "source": [
    "#### Confusion Matrix란 Training 을 통한 Prediction 성능을 측정하기 위해 예측 value와 실제 value를 비교하기 위한 표입니다.\n",
    "#### 아래 함수는 이번 과제에서 confusion matrix 결과를 보기 쉽게 표현한 것으로 사용 예를 참고하여 모델 결과 확인에 사용하시기 바랍니다.\n",
    "\n"
   ]
  },
  {
   "cell_type": "markdown",
   "metadata": {},
   "source": [
    "**<span style=\"color:green\">[참고링크] 공식 Document**</span>\n",
    " \n",
    "* confusion matrix(https://scikit-learn.org/stable/modules/generated/sklearn.metrics.confusion_matrix.html)"
   ]
  },
  {
   "cell_type": "code",
   "execution_count": 44,
   "metadata": {},
   "outputs": [],
   "source": [
    "from sklearn.metrics import classification_report as creport\n",
    "from sklearn.metrics import confusion_matrix, accuracy_score, precision_score, recall_score"
   ]
  },
  {
   "cell_type": "code",
   "execution_count": 83,
   "metadata": {},
   "outputs": [],
   "source": [
    "def plot_confusion_matrix(ax, matrix, labels = ['malicious','benign'], title='Confusion matrix', fontsize=9):\n",
    "    ax.set_xticks([x for x in range(len(labels))])\n",
    "    ax.set_yticks([y for y in range(len(labels))])\n",
    "\n",
    "    # Place labels on minor ticks\n",
    "    ax.set_xticks([x + 0.5 for x in range(len(labels))], minor=True)\n",
    "    ax.set_xticklabels(labels, rotation='90', fontsize=fontsize, minor=True)\n",
    "    ax.set_yticks([y + 0.5 for y in range(len(labels))], minor=True)\n",
    "    ax.set_yticklabels(labels[::-1], fontsize=fontsize, minor=True)\n",
    "\n",
    "    # Hide major tick labels\n",
    "    ax.tick_params(which='major', labelbottom='off', labelleft='off')\n",
    "\n",
    "    # Finally, hide minor tick marks\n",
    "    ax.tick_params(which='minor', width=0)\n",
    "\n",
    "    # Plot heat map\n",
    "    proportions = [1. * row / sum(row) for row in matrix]\n",
    "    ax.pcolor(np.array(proportions[::-1]), cmap=plt.cm.Blues)\n",
    "\n",
    "    # Plot counts as text\n",
    "    for row in range(len(matrix)):\n",
    "        for col in range(len(matrix[row])):\n",
    "            confusion = matrix[::-1][row][col]\n",
    "            if confusion != 0:\n",
    "                ax.text(col + 0.5, row + 0.5, int(confusion),\n",
    "                        fontsize=fontsize,\n",
    "                        horizontalalignment='center',\n",
    "                        verticalalignment='center')\n",
    "\n",
    "    # Add finishing touches\n",
    "    ax.grid(True, linestyle=':')\n",
    "    ax.set_title(title, fontsize=fontsize)\n",
    "    ax.set_xlabel('prediction', fontsize=fontsize)\n",
    "    ax.set_ylabel('actual', fontsize=fontsize)\n",
    "\n",
    "    plt.show()"
   ]
  },
  {
   "cell_type": "code",
   "execution_count": 341,
   "metadata": {},
   "outputs": [],
   "source": [
    "def plot_feature_importance(importance, names):\n",
    "    feature_importance = np.array(importance)\n",
    "    feature_names = np.array(names)\n",
    "\n",
    "    data={'feature_names':feature_names,'feature_importance':feature_importance}\n",
    "    fi_df = pd.DataFrame(data)\n",
    "\n",
    "    fi_df.sort_values(by=['feature_importance'], ascending=False,inplace=True)\n",
    "    fi_df.reset_index(drop=True, inplace = True)\n",
    "\n",
    "    plt.figure(figsize=(10,8))\n",
    "    sns.barplot(x='feature_importance', y='feature_names', data = fi_df)\n",
    "\n",
    "    plt.xlabel('FEATURE IMPORTANCE')\n",
    "    plt.ylabel('FEATURE NAMES')\n",
    "    plt.grid()\n",
    "\n",
    "    return fi_df"
   ]
  },
  {
   "cell_type": "markdown",
   "metadata": {},
   "source": [
    "### <span style=\"color:blue\">[예시] Confusion Matrix 사용 방법<span>"
   ]
  },
  {
   "cell_type": "markdown",
   "metadata": {},
   "source": [
    "- 샘플\n",
    "#### > confusion = confusion_matrix(test_y, dt_pred)\n",
    "#### > fig, ax = plt.subplots(figsize=(10,3))\n",
    "#### > plot_confusion_matrix(ax, confusion, fontsize=30)\n"
   ]
  },
  {
   "attachments": {
    "2d1c1b93-2db6-45e4-91b4-cee7ea6ef268.png": {
     "image/png": "[encoded data removed]"
    }
   },
   "cell_type": "markdown",
   "metadata": {},
   "source": [
    "![confusion_matrix.png](attachment:2d1c1b93-2db6-45e4-91b4-cee7ea6ef268.png)"
   ]
  },
  {
   "cell_type": "markdown",
   "metadata": {},
   "source": [
    "---"
   ]
  },
  {
   "cell_type": "markdown",
   "metadata": {},
   "source": [
    "## <b> Q. AI 분류 모델 만들기\n",
    "\n",
    "* 전처리한 데이터셋을 활용해 악성사이트 여부를 판별하는 AI 분류 모델을 <font color=\"red\">최소 3개 이상 </font>만들어보세요."
   ]
  },
  {
   "cell_type": "code",
   "execution_count": 56,
   "metadata": {},
   "outputs": [],
   "source": [
    "# 1. import\n",
    "from sklearn.preprocessing import MinMaxScaler\n",
    "\n",
    "# 모델링\n",
    "from sklearn.linear_model import LogisticRegression\n",
    "from sklearn.tree import DecisionTreeClassifier, plot_tree\n",
    "from sklearn.neighbors import KNeighborsClassifier\n",
    "from sklearn.svm import SVC\n",
    "from sklearn.metrics import * \n",
    "from sklearn.ensemble import RandomForestClassifier\n",
    "from xgboost import XGBClassifier, plot_tree\n",
    "\n",
    "from sklearn.model_selection import RandomizedSearchCV, GridSearchCV\n",
    "\n",
    "import warnings    # 경고메시지 제외\n",
    "warnings.filterwarnings(action='ignore')"
   ]
  },
  {
   "cell_type": "markdown",
   "metadata": {},
   "source": [
    "### 1. LogisticRegression"
   ]
  },
  {
   "cell_type": "code",
   "execution_count": 57,
   "metadata": {},
   "outputs": [],
   "source": [
    "# 2.선언 \n",
    "LR_model = LogisticRegression()"
   ]
  },
  {
   "cell_type": "code",
   "execution_count": 58,
   "metadata": {},
   "outputs": [
    {
     "data": {
      "text/plain": [
       "LogisticRegression()"
      ]
     },
     "execution_count": 265,
     "metadata": {},
     "output_type": "execute_result"
    }
   ],
   "source": [
    "# 3. fit(), 학습\n",
    "LR_model.fit(x_train, y_train)"
   ]
  },
  {
   "cell_type": "code",
   "execution_count": 59,
   "metadata": {},
   "outputs": [],
   "source": [
    "# 4. predict(), 예측\n",
    "LR_pred = LR_model.predict(x_val)"
   ]
  },
  {
   "cell_type": "code",
   "execution_count": 64,
   "metadata": {},
   "outputs": [
    {
     "data": {
      "text/plain": [
       "array([[222,  48],\n",
       "       [ 50, 233]], dtype=int64)"
      ]
     },
     "execution_count": 64,
     "metadata": {},
     "output_type": "execute_result"
    }
   ],
   "source": [
    "confusion_matrix( y_val , LR_pred  )"
   ]
  },
  {
   "cell_type": "code",
   "execution_count": null,
   "metadata": {},
   "outputs": [
    {
     "name": "stdout",
     "output_type": "stream",
     "text": [
      "              precision    recall  f1-score   support\n",
      "\n",
      "          -1       0.82      0.82      0.82       270\n",
      "           1       0.83      0.82      0.83       283\n",
      "\n",
      "    accuracy                           0.82       553\n",
      "   macro avg       0.82      0.82      0.82       553\n",
      "weighted avg       0.82      0.82      0.82       553\n",
      "\n"
     ]
    }
   ],
   "source": [
    "# train 및 val 데이터 정확도 확인 \n",
    "print(classification_report(y_val , LR_pred  ))"
   ]
  },
  {
   "cell_type": "code",
   "execution_count": 74,
   "metadata": {},
   "outputs": [],
   "source": [
    "LR_pred = LR_model.predict(x_test)"
   ]
  },
  {
   "cell_type": "code",
   "execution_count": 75,
   "metadata": {},
   "outputs": [
    {
     "data": {
      "text/plain": [
       "array([[316,  72],\n",
       "       [ 53, 350]], dtype=int64)"
      ]
     },
     "execution_count": 75,
     "metadata": {},
     "output_type": "execute_result"
    }
   ],
   "source": [
    "confusion_matrix(y_test, LR_pred )"
   ]
  },
  {
   "cell_type": "code",
   "execution_count": 99,
   "metadata": {},
   "outputs": [
    {
     "name": "stdout",
     "output_type": "stream",
     "text": [
      "              precision    recall  f1-score   support\n",
      "\n",
      "          -1       0.86      0.81      0.83       388\n",
      "           1       0.83      0.87      0.85       403\n",
      "\n",
      "    accuracy                           0.84       791\n",
      "   macro avg       0.84      0.84      0.84       791\n",
      "weighted avg       0.84      0.84      0.84       791\n",
      "\n"
     ]
    }
   ],
   "source": [
    "print(classification_report(y_test , LR_pred  ))"
   ]
  },
  {
   "cell_type": "code",
   "execution_count": 85,
   "metadata": {},
   "outputs": [
    {
     "data": {
      "image/png": "[encoded data removed]",
      "text/plain": [
       "<Figure size 720x216 with 1 Axes>"
      ]
     },
     "metadata": {
      "needs_background": "light"
     },
     "output_type": "display_data"
    }
   ],
   "source": [
    "# Test 데이터 결과 Confusion Matrix 확인\n",
    "confusion = confusion_matrix(y_test, LR_pred)\n",
    "fig, ax = plt.subplots(figsize=(10,3))\n",
    "plot_confusion_matrix(ax, confusion, fontsize=30)"
   ]
  },
  {
   "cell_type": "code",
   "execution_count": 291,
   "metadata": {},
   "outputs": [],
   "source": [
    "# 아래 함수는 로지스틱 회귀를 위한 전진선택법 함수 입니다.\n",
    "import statsmodels.api as sm\n",
    "\n",
    "def forward_stepwise_logistic(x_train, y_train):\n",
    "\n",
    "    # 변수목록, 선택된 변수 목록, 단계별 모델과 AIC 저장소 정의\n",
    "    features = list(x_train)\n",
    "    selected = []\n",
    "    step_df = pd.DataFrame({ 'step':[], 'feature':[],'aic':[]})\n",
    "\n",
    "    # \n",
    "    for s in range(0, len(features)) :\n",
    "        result =  { 'step':[], 'feature':[],'aic':[]}\n",
    "\n",
    "        # 변수 목록에서 변수 한개씩 뽑아서 모델에 추가\n",
    "        for f in features :\n",
    "            vars = selected + [f]\n",
    "            x_tr = x_train[vars]\n",
    "            model = sm.Logit(y_train, x_tr).fit(maxiter=19, disp=False)\n",
    "            result['step'].append(s+1)\n",
    "            result['feature'].append(vars)\n",
    "            result['aic'].append(model.aic)\n",
    "        \n",
    "        # 모델별 aic 집계\n",
    "        temp = pd.DataFrame(result).sort_values('aic').reset_index(drop = True)\n",
    "\n",
    "        # 만약 이전 aic보다 새로운 aic 가 크다면 멈추기\n",
    "        if step_df['aic'].min() < temp['aic'].min() :\n",
    "            break\n",
    "        step_df = pd.concat([step_df, temp], axis = 0).reset_index(drop = True)\n",
    "\n",
    "        # 선택된 변수 제거\n",
    "        v = temp.loc[0,'feature'][s]\n",
    "        features.remove(v)\n",
    "\n",
    "        selected.append(v)\n",
    "    \n",
    "    # 선택된 변수와 step_df 결과 반환\n",
    "    return selected, step_df"
   ]
  },
  {
   "cell_type": "code",
   "execution_count": 295,
   "metadata": {},
   "outputs": [],
   "source": [
    "LR_y_train = xgb_y_train.astype(int)"
   ]
  },
  {
   "cell_type": "code",
   "execution_count": 292,
   "metadata": {},
   "outputs": [],
   "source": [
    "vars, result = forward_stepwise_logistic(x_train, LR_y_train)"
   ]
  },
  {
   "cell_type": "code",
   "execution_count": 293,
   "metadata": {},
   "outputs": [
    {
     "data": {
      "text/plain": [
       "(['url_num_hyphens_dom',\n",
       "  \"html_num_tags('a')\",\n",
       "  \"html_num_tags('form')\",\n",
       "  'url_path_len',\n",
       "  'url_query_len',\n",
       "  'url_num_underscores',\n",
       "  \"html_num_tags('script')\",\n",
       "  \"html_num_tags('iframe')\",\n",
       "  \"html_num_tags('object')\",\n",
       "  'url_domain_len',\n",
       "  'url_entropy',\n",
       "  'url_num_dots',\n",
       "  \"html_num_tags('body')\",\n",
       "  \"html_num_tags('div')\"],\n",
       "      step                                            feature          aic\n",
       " 0     1.0                              [url_num_hyphens_dom]  1659.552018\n",
       " 1     1.0                               [html_num_tags('a')]  1678.366782\n",
       " 2     1.0                                    [url_query_len]  1718.232438\n",
       " 3     1.0                               [url_num_query_para]  1730.709069\n",
       " 4     1.0                          [html_num_tags('script')]  1747.119582\n",
       " ..    ...                                                ...          ...\n",
       " 170  14.0  [url_num_hyphens_dom, html_num_tags('a'), html...  1032.197209\n",
       " 171  14.0  [url_num_hyphens_dom, html_num_tags('a'), html...  1032.491131\n",
       " 172  14.0  [url_num_hyphens_dom, html_num_tags('a'), html...  1032.783095\n",
       " 173  14.0  [url_num_hyphens_dom, html_num_tags('a'), html...  1032.796352\n",
       " 174  14.0  [url_num_hyphens_dom, html_num_tags('a'), html...  1032.807499\n",
       " \n",
       " [175 rows x 3 columns])"
      ]
     },
     "execution_count": 293,
     "metadata": {},
     "output_type": "execute_result"
    }
   ],
   "source": [
    "vars"
   ]
  },
  {
   "cell_type": "code",
   "execution_count": 294,
   "metadata": {},
   "outputs": [
    {
     "data": {
      "text/html": [
       "<div>\n",
       "<style scoped>\n",
       "    .dataframe tbody tr th:only-of-type {\n",
       "        vertical-align: middle;\n",
       "    }\n",
       "\n",
       "    .dataframe tbody tr th {\n",
       "        vertical-align: top;\n",
       "    }\n",
       "\n",
       "    .dataframe thead th {\n",
       "        text-align: right;\n",
       "    }\n",
       "</style>\n",
       "<table border=\"1\" class=\"dataframe\">\n",
       "  <thead>\n",
       "    <tr style=\"text-align: right;\">\n",
       "      <th></th>\n",
       "      <th>step</th>\n",
       "      <th>feature</th>\n",
       "      <th>aic</th>\n",
       "    </tr>\n",
       "  </thead>\n",
       "  <tbody>\n",
       "    <tr>\n",
       "      <th>0</th>\n",
       "      <td>1.0</td>\n",
       "      <td>[url_num_hyphens_dom]</td>\n",
       "      <td>1659.552018</td>\n",
       "    </tr>\n",
       "    <tr>\n",
       "      <th>1</th>\n",
       "      <td>1.0</td>\n",
       "      <td>[html_num_tags('a')]</td>\n",
       "      <td>1678.366782</td>\n",
       "    </tr>\n",
       "    <tr>\n",
       "      <th>2</th>\n",
       "      <td>1.0</td>\n",
       "      <td>[url_query_len]</td>\n",
       "      <td>1718.232438</td>\n",
       "    </tr>\n",
       "    <tr>\n",
       "      <th>3</th>\n",
       "      <td>1.0</td>\n",
       "      <td>[url_num_query_para]</td>\n",
       "      <td>1730.709069</td>\n",
       "    </tr>\n",
       "    <tr>\n",
       "      <th>4</th>\n",
       "      <td>1.0</td>\n",
       "      <td>[html_num_tags('script')]</td>\n",
       "      <td>1747.119582</td>\n",
       "    </tr>\n",
       "    <tr>\n",
       "      <th>...</th>\n",
       "      <td>...</td>\n",
       "      <td>...</td>\n",
       "      <td>...</td>\n",
       "    </tr>\n",
       "    <tr>\n",
       "      <th>170</th>\n",
       "      <td>14.0</td>\n",
       "      <td>[url_num_hyphens_dom, html_num_tags('a'), html...</td>\n",
       "      <td>1032.197209</td>\n",
       "    </tr>\n",
       "    <tr>\n",
       "      <th>171</th>\n",
       "      <td>14.0</td>\n",
       "      <td>[url_num_hyphens_dom, html_num_tags('a'), html...</td>\n",
       "      <td>1032.491131</td>\n",
       "    </tr>\n",
       "    <tr>\n",
       "      <th>172</th>\n",
       "      <td>14.0</td>\n",
       "      <td>[url_num_hyphens_dom, html_num_tags('a'), html...</td>\n",
       "      <td>1032.783095</td>\n",
       "    </tr>\n",
       "    <tr>\n",
       "      <th>173</th>\n",
       "      <td>14.0</td>\n",
       "      <td>[url_num_hyphens_dom, html_num_tags('a'), html...</td>\n",
       "      <td>1032.796352</td>\n",
       "    </tr>\n",
       "    <tr>\n",
       "      <th>174</th>\n",
       "      <td>14.0</td>\n",
       "      <td>[url_num_hyphens_dom, html_num_tags('a'), html...</td>\n",
       "      <td>1032.807499</td>\n",
       "    </tr>\n",
       "  </tbody>\n",
       "</table>\n",
       "<p>175 rows × 3 columns</p>\n",
       "</div>"
      ],
      "text/plain": [
       "     step                                            feature          aic\n",
       "0     1.0                              [url_num_hyphens_dom]  1659.552018\n",
       "1     1.0                               [html_num_tags('a')]  1678.366782\n",
       "2     1.0                                    [url_query_len]  1718.232438\n",
       "3     1.0                               [url_num_query_para]  1730.709069\n",
       "4     1.0                          [html_num_tags('script')]  1747.119582\n",
       "..    ...                                                ...          ...\n",
       "170  14.0  [url_num_hyphens_dom, html_num_tags('a'), html...  1032.197209\n",
       "171  14.0  [url_num_hyphens_dom, html_num_tags('a'), html...  1032.491131\n",
       "172  14.0  [url_num_hyphens_dom, html_num_tags('a'), html...  1032.783095\n",
       "173  14.0  [url_num_hyphens_dom, html_num_tags('a'), html...  1032.796352\n",
       "174  14.0  [url_num_hyphens_dom, html_num_tags('a'), html...  1032.807499\n",
       "\n",
       "[175 rows x 3 columns]"
      ]
     },
     "execution_count": 294,
     "metadata": {},
     "output_type": "execute_result"
    }
   ],
   "source": [
    "result"
   ]
  },
  {
   "cell_type": "code",
   "execution_count": 307,
   "metadata": {},
   "outputs": [
    {
     "name": "stdout",
     "output_type": "stream",
     "text": [
      "0.8209764918625678\n",
      "              precision    recall  f1-score   support\n",
      "\n",
      "          -1       0.81      0.82      0.82       270\n",
      "           1       0.83      0.82      0.82       283\n",
      "\n",
      "    accuracy                           0.82       553\n",
      "   macro avg       0.82      0.82      0.82       553\n",
      "weighted avg       0.82      0.82      0.82       553\n",
      "\n"
     ]
    }
   ],
   "source": [
    "LR_model2 = LogisticRegression()\n",
    "LR_model2.fit(x_train[vars], y_train)\n",
    "LR_pred2 = LR_model2.predict(x_val[vars])\n",
    "\n",
    "print(accuracy_score(y_val, LR_pred2))\n",
    "print(classification_report(y_val, LR_pred2))"
   ]
  },
  {
   "cell_type": "code",
   "execution_count": 308,
   "metadata": {},
   "outputs": [
    {
     "data": {
      "text/plain": [
       "array([[222,  48],\n",
       "       [ 51, 232]], dtype=int64)"
      ]
     },
     "execution_count": 308,
     "metadata": {},
     "output_type": "execute_result"
    }
   ],
   "source": [
    "confusion_matrix(y_val, LR_pred2 )"
   ]
  },
  {
   "cell_type": "code",
   "execution_count": 304,
   "metadata": {},
   "outputs": [],
   "source": [
    "LR_pred2 = LR_model2.predict(x_test[vars])"
   ]
  },
  {
   "cell_type": "code",
   "execution_count": 305,
   "metadata": {},
   "outputs": [
    {
     "data": {
      "text/plain": [
       "array([[317,  71],\n",
       "       [ 53, 350]], dtype=int64)"
      ]
     },
     "execution_count": 305,
     "metadata": {},
     "output_type": "execute_result"
    }
   ],
   "source": [
    "confusion_matrix(y_test, LR_pred2 )"
   ]
  },
  {
   "cell_type": "code",
   "execution_count": 306,
   "metadata": {},
   "outputs": [
    {
     "name": "stdout",
     "output_type": "stream",
     "text": [
      "              precision    recall  f1-score   support\n",
      "\n",
      "          -1       0.86      0.82      0.84       388\n",
      "           1       0.83      0.87      0.85       403\n",
      "\n",
      "    accuracy                           0.84       791\n",
      "   macro avg       0.84      0.84      0.84       791\n",
      "weighted avg       0.84      0.84      0.84       791\n",
      "\n"
     ]
    }
   ],
   "source": [
    "print(classification_report(y_test, LR_pred2))"
   ]
  },
  {
   "cell_type": "code",
   "execution_count": null,
   "metadata": {},
   "outputs": [
    {
     "name": "stdout",
     "output_type": "stream",
     "text": [
      "LogisticRegression()\n"
     ]
    }
   ],
   "source": [
    "# Feature(특징)별 가중치 확인\n",
    "\n"
   ]
  },
  {
   "cell_type": "markdown",
   "metadata": {},
   "source": [
    "### 2. KNeighborsClassifier"
   ]
  },
  {
   "cell_type": "code",
   "execution_count": 119,
   "metadata": {},
   "outputs": [],
   "source": [
    "KNN_model = KNeighborsClassifier()"
   ]
  },
  {
   "cell_type": "code",
   "execution_count": 120,
   "metadata": {},
   "outputs": [
    {
     "data": {
      "text/plain": [
       "KNeighborsClassifier()"
      ]
     },
     "execution_count": 120,
     "metadata": {},
     "output_type": "execute_result"
    }
   ],
   "source": [
    "KNN_model.fit(x_train_s, y_train_s)"
   ]
  },
  {
   "cell_type": "code",
   "execution_count": 121,
   "metadata": {},
   "outputs": [],
   "source": [
    "KNN_pred = KNN_model.predict(x_val_s)"
   ]
  },
  {
   "cell_type": "code",
   "execution_count": 122,
   "metadata": {},
   "outputs": [
    {
     "data": {
      "text/plain": [
       "array([[208,  62],\n",
       "       [ 50, 233]], dtype=int64)"
      ]
     },
     "execution_count": 122,
     "metadata": {},
     "output_type": "execute_result"
    }
   ],
   "source": [
    "confusion_matrix( y_val_s , KNN_pred  )"
   ]
  },
  {
   "cell_type": "code",
   "execution_count": 123,
   "metadata": {},
   "outputs": [
    {
     "name": "stdout",
     "output_type": "stream",
     "text": [
      "              precision    recall  f1-score   support\n",
      "\n",
      "          -1       0.81      0.77      0.79       270\n",
      "           1       0.79      0.82      0.81       283\n",
      "\n",
      "    accuracy                           0.80       553\n",
      "   macro avg       0.80      0.80      0.80       553\n",
      "weighted avg       0.80      0.80      0.80       553\n",
      "\n"
     ]
    }
   ],
   "source": [
    "print(classification_report(y_val_s , KNN_pred  ))"
   ]
  },
  {
   "cell_type": "code",
   "execution_count": 124,
   "metadata": {},
   "outputs": [],
   "source": [
    "KNN_pred = KNN_model.predict(x_test_s)"
   ]
  },
  {
   "cell_type": "code",
   "execution_count": 300,
   "metadata": {},
   "outputs": [
    {
     "data": {
      "text/plain": [
       "array([[309,  79],\n",
       "       [ 70, 333]], dtype=int64)"
      ]
     },
     "execution_count": 300,
     "metadata": {},
     "output_type": "execute_result"
    }
   ],
   "source": [
    "confusion_matrix(y_test_s, KNN_pred )"
   ]
  },
  {
   "cell_type": "code",
   "execution_count": 126,
   "metadata": {},
   "outputs": [
    {
     "name": "stdout",
     "output_type": "stream",
     "text": [
      "              precision    recall  f1-score   support\n",
      "\n",
      "          -1       0.82      0.80      0.81       388\n",
      "           1       0.81      0.83      0.82       403\n",
      "\n",
      "    accuracy                           0.81       791\n",
      "   macro avg       0.81      0.81      0.81       791\n",
      "weighted avg       0.81      0.81      0.81       791\n",
      "\n"
     ]
    }
   ],
   "source": [
    "print(classification_report(y_test , KNN_pred  ))"
   ]
  },
  {
   "cell_type": "code",
   "execution_count": 127,
   "metadata": {},
   "outputs": [
    {
     "data": {
      "image/png": "[encoded data removed]",
      "text/plain": [
       "<Figure size 720x216 with 1 Axes>"
      ]
     },
     "metadata": {
      "needs_background": "light"
     },
     "output_type": "display_data"
    }
   ],
   "source": [
    "# Test 데이터 결과 Confusion Matrix 확인\n",
    "confusion = confusion_matrix(y_test, KNN_pred)\n",
    "fig, ax = plt.subplots(figsize=(10,3))\n",
    "plot_confusion_matrix(ax, confusion, fontsize=30)"
   ]
  },
  {
   "cell_type": "code",
   "execution_count": 313,
   "metadata": {},
   "outputs": [],
   "source": [
    "KNN_model2 = KNeighborsClassifier()"
   ]
  },
  {
   "cell_type": "code",
   "execution_count": 315,
   "metadata": {},
   "outputs": [
    {
     "data": {
      "text/plain": [
       "(1290, 19)"
      ]
     },
     "execution_count": 315,
     "metadata": {},
     "output_type": "execute_result"
    }
   ],
   "source": [
    "x_train_s.shape"
   ]
  },
  {
   "cell_type": "code",
   "execution_count": 316,
   "metadata": {},
   "outputs": [
    {
     "data": {
      "text/plain": [
       "35.91656999213594"
      ]
     },
     "execution_count": 316,
     "metadata": {},
     "output_type": "execute_result"
    }
   ],
   "source": [
    "import math\n",
    "math.sqrt(1290)"
   ]
  },
  {
   "cell_type": "code",
   "execution_count": 317,
   "metadata": {},
   "outputs": [],
   "source": [
    "KNN_params = {'n_neighbors' : range(25, 45, 1), 'metric' : ['minkowski', 'euclidean', 'manhattan'] }"
   ]
  },
  {
   "cell_type": "code",
   "execution_count": 320,
   "metadata": {},
   "outputs": [],
   "source": [
    "KNN_model_gs = GridSearchCV(KNN_model2, KNN_params, cv=5, verbose=3)"
   ]
  },
  {
   "cell_type": "code",
   "execution_count": 321,
   "metadata": {
    "scrolled": true,
    "tags": []
   },
   "outputs": [
    {
     "name": "stdout",
     "output_type": "stream",
     "text": [
      "Fitting 5 folds for each of 60 candidates, totalling 300 fits\n",
      "[CV 1/5] END ..metric=minkowski, n_neighbors=25;, score=0.795 total time=   0.0s\n",
      "[CV 2/5] END ..metric=minkowski, n_neighbors=25;, score=0.756 total time=   0.0s\n",
      "[CV 3/5] END ..metric=minkowski, n_neighbors=25;, score=0.822 total time=   0.0s\n",
      "[CV 4/5] END ..metric=minkowski, n_neighbors=25;, score=0.818 total time=   0.0s\n",
      "[CV 5/5] END ..metric=minkowski, n_neighbors=25;, score=0.795 total time=   0.0s\n",
      "[CV 1/5] END ..metric=minkowski, n_neighbors=26;, score=0.798 total time=   0.0s\n",
      "[CV 2/5] END ..metric=minkowski, n_neighbors=26;, score=0.756 total time=   0.0s\n",
      "[CV 3/5] END ..metric=minkowski, n_neighbors=26;, score=0.818 total time=   0.0s\n",
      "[CV 4/5] END ..metric=minkowski, n_neighbors=26;, score=0.814 total time=   0.0s\n",
      "[CV 5/5] END ..metric=minkowski, n_neighbors=26;, score=0.798 total time=   0.0s\n",
      "[CV 1/5] END ..metric=minkowski, n_neighbors=27;, score=0.791 total time=   0.0s\n",
      "[CV 2/5] END ..metric=minkowski, n_neighbors=27;, score=0.748 total time=   0.0s\n",
      "[CV 3/5] END ..metric=minkowski, n_neighbors=27;, score=0.806 total time=   0.0s\n",
      "[CV 4/5] END ..metric=minkowski, n_neighbors=27;, score=0.818 total time=   0.0s\n",
      "[CV 5/5] END ..metric=minkowski, n_neighbors=27;, score=0.787 total time=   0.0s\n",
      "[CV 1/5] END ..metric=minkowski, n_neighbors=28;, score=0.798 total time=   0.0s\n",
      "[CV 2/5] END ..metric=minkowski, n_neighbors=28;, score=0.733 total time=   0.0s\n",
      "[CV 3/5] END ..metric=minkowski, n_neighbors=28;, score=0.806 total time=   0.0s\n",
      "[CV 4/5] END ..metric=minkowski, n_neighbors=28;, score=0.814 total time=   0.0s\n",
      "[CV 5/5] END ..metric=minkowski, n_neighbors=28;, score=0.795 total time=   0.0s\n",
      "[CV 1/5] END ..metric=minkowski, n_neighbors=29;, score=0.787 total time=   0.0s\n",
      "[CV 2/5] END ..metric=minkowski, n_neighbors=29;, score=0.740 total time=   0.0s\n",
      "[CV 3/5] END ..metric=minkowski, n_neighbors=29;, score=0.810 total time=   0.0s\n",
      "[CV 4/5] END ..metric=minkowski, n_neighbors=29;, score=0.806 total time=   0.0s\n",
      "[CV 5/5] END ..metric=minkowski, n_neighbors=29;, score=0.791 total time=   0.0s\n",
      "[CV 1/5] END ..metric=minkowski, n_neighbors=30;, score=0.779 total time=   0.0s\n",
      "[CV 2/5] END ..metric=minkowski, n_neighbors=30;, score=0.748 total time=   0.0s\n",
      "[CV 3/5] END ..metric=minkowski, n_neighbors=30;, score=0.810 total time=   0.0s\n",
      "[CV 4/5] END ..metric=minkowski, n_neighbors=30;, score=0.806 total time=   0.0s\n",
      "[CV 5/5] END ..metric=minkowski, n_neighbors=30;, score=0.791 total time=   0.0s\n",
      "[CV 1/5] END ..metric=minkowski, n_neighbors=31;, score=0.771 total time=   0.0s\n",
      "[CV 2/5] END ..metric=minkowski, n_neighbors=31;, score=0.736 total time=   0.0s\n",
      "[CV 3/5] END ..metric=minkowski, n_neighbors=31;, score=0.810 total time=   0.0s\n",
      "[CV 4/5] END ..metric=minkowski, n_neighbors=31;, score=0.802 total time=   0.0s\n",
      "[CV 5/5] END ..metric=minkowski, n_neighbors=31;, score=0.795 total time=   0.0s\n",
      "[CV 1/5] END ..metric=minkowski, n_neighbors=32;, score=0.787 total time=   0.0s\n",
      "[CV 2/5] END ..metric=minkowski, n_neighbors=32;, score=0.740 total time=   0.0s\n",
      "[CV 3/5] END ..metric=minkowski, n_neighbors=32;, score=0.818 total time=   0.0s\n",
      "[CV 4/5] END ..metric=minkowski, n_neighbors=32;, score=0.802 total time=   0.0s\n",
      "[CV 5/5] END ..metric=minkowski, n_neighbors=32;, score=0.783 total time=   0.0s\n",
      "[CV 1/5] END ..metric=minkowski, n_neighbors=33;, score=0.771 total time=   0.0s\n",
      "[CV 2/5] END ..metric=minkowski, n_neighbors=33;, score=0.736 total time=   0.0s\n",
      "[CV 3/5] END ..metric=minkowski, n_neighbors=33;, score=0.810 total time=   0.0s\n",
      "[CV 4/5] END ..metric=minkowski, n_neighbors=33;, score=0.802 total time=   0.0s\n",
      "[CV 5/5] END ..metric=minkowski, n_neighbors=33;, score=0.775 total time=   0.0s\n",
      "[CV 1/5] END ..metric=minkowski, n_neighbors=34;, score=0.767 total time=   0.0s\n",
      "[CV 2/5] END ..metric=minkowski, n_neighbors=34;, score=0.736 total time=   0.0s\n",
      "[CV 3/5] END ..metric=minkowski, n_neighbors=34;, score=0.798 total time=   0.0s\n",
      "[CV 4/5] END ..metric=minkowski, n_neighbors=34;, score=0.802 total time=   0.0s\n",
      "[CV 5/5] END ..metric=minkowski, n_neighbors=34;, score=0.771 total time=   0.0s\n",
      "[CV 1/5] END ..metric=minkowski, n_neighbors=35;, score=0.767 total time=   0.0s\n",
      "[CV 2/5] END ..metric=minkowski, n_neighbors=35;, score=0.733 total time=   0.0s\n",
      "[CV 3/5] END ..metric=minkowski, n_neighbors=35;, score=0.806 total time=   0.0s\n",
      "[CV 4/5] END ..metric=minkowski, n_neighbors=35;, score=0.810 total time=   0.0s\n",
      "[CV 5/5] END ..metric=minkowski, n_neighbors=35;, score=0.779 total time=   0.0s\n",
      "[CV 1/5] END ..metric=minkowski, n_neighbors=36;, score=0.779 total time=   0.0s\n",
      "[CV 2/5] END ..metric=minkowski, n_neighbors=36;, score=0.736 total time=   0.0s\n",
      "[CV 3/5] END ..metric=minkowski, n_neighbors=36;, score=0.806 total time=   0.0s\n",
      "[CV 4/5] END ..metric=minkowski, n_neighbors=36;, score=0.806 total time=   0.0s\n",
      "[CV 5/5] END ..metric=minkowski, n_neighbors=36;, score=0.779 total time=   0.0s\n",
      "[CV 1/5] END ..metric=minkowski, n_neighbors=37;, score=0.771 total time=   0.0s\n",
      "[CV 2/5] END ..metric=minkowski, n_neighbors=37;, score=0.733 total time=   0.0s\n",
      "[CV 3/5] END ..metric=minkowski, n_neighbors=37;, score=0.802 total time=   0.0s\n",
      "[CV 4/5] END ..metric=minkowski, n_neighbors=37;, score=0.802 total time=   0.0s\n",
      "[CV 5/5] END ..metric=minkowski, n_neighbors=37;, score=0.791 total time=   0.0s\n",
      "[CV 1/5] END ..metric=minkowski, n_neighbors=38;, score=0.775 total time=   0.0s\n",
      "[CV 2/5] END ..metric=minkowski, n_neighbors=38;, score=0.740 total time=   0.0s\n",
      "[CV 3/5] END ..metric=minkowski, n_neighbors=38;, score=0.802 total time=   0.0s\n",
      "[CV 4/5] END ..metric=minkowski, n_neighbors=38;, score=0.802 total time=   0.0s\n",
      "[CV 5/5] END ..metric=minkowski, n_neighbors=38;, score=0.791 total time=   0.0s\n",
      "[CV 1/5] END ..metric=minkowski, n_neighbors=39;, score=0.775 total time=   0.0s\n",
      "[CV 2/5] END ..metric=minkowski, n_neighbors=39;, score=0.729 total time=   0.0s\n",
      "[CV 3/5] END ..metric=minkowski, n_neighbors=39;, score=0.783 total time=   0.0s\n",
      "[CV 4/5] END ..metric=minkowski, n_neighbors=39;, score=0.802 total time=   0.0s\n",
      "[CV 5/5] END ..metric=minkowski, n_neighbors=39;, score=0.791 total time=   0.0s\n",
      "[CV 1/5] END ..metric=minkowski, n_neighbors=40;, score=0.775 total time=   0.0s\n",
      "[CV 2/5] END ..metric=minkowski, n_neighbors=40;, score=0.733 total time=   0.0s\n",
      "[CV 3/5] END ..metric=minkowski, n_neighbors=40;, score=0.783 total time=   0.0s\n",
      "[CV 4/5] END ..metric=minkowski, n_neighbors=40;, score=0.806 total time=   0.0s\n",
      "[CV 5/5] END ..metric=minkowski, n_neighbors=40;, score=0.787 total time=   0.0s\n",
      "[CV 1/5] END ..metric=minkowski, n_neighbors=41;, score=0.767 total time=   0.0s\n",
      "[CV 2/5] END ..metric=minkowski, n_neighbors=41;, score=0.725 total time=   0.0s\n",
      "[CV 3/5] END ..metric=minkowski, n_neighbors=41;, score=0.775 total time=   0.0s\n",
      "[CV 4/5] END ..metric=minkowski, n_neighbors=41;, score=0.798 total time=   0.0s\n",
      "[CV 5/5] END ..metric=minkowski, n_neighbors=41;, score=0.791 total time=   0.0s\n",
      "[CV 1/5] END ..metric=minkowski, n_neighbors=42;, score=0.771 total time=   0.0s\n",
      "[CV 2/5] END ..metric=minkowski, n_neighbors=42;, score=0.729 total time=   0.0s\n",
      "[CV 3/5] END ..metric=minkowski, n_neighbors=42;, score=0.775 total time=   0.0s\n",
      "[CV 4/5] END ..metric=minkowski, n_neighbors=42;, score=0.798 total time=   0.0s\n",
      "[CV 5/5] END ..metric=minkowski, n_neighbors=42;, score=0.791 total time=   0.0s\n",
      "[CV 1/5] END ..metric=minkowski, n_neighbors=43;, score=0.764 total time=   0.0s\n",
      "[CV 2/5] END ..metric=minkowski, n_neighbors=43;, score=0.725 total time=   0.0s\n",
      "[CV 3/5] END ..metric=minkowski, n_neighbors=43;, score=0.756 total time=   0.0s\n",
      "[CV 4/5] END ..metric=minkowski, n_neighbors=43;, score=0.791 total time=   0.0s\n",
      "[CV 5/5] END ..metric=minkowski, n_neighbors=43;, score=0.791 total time=   0.0s\n",
      "[CV 1/5] END ..metric=minkowski, n_neighbors=44;, score=0.764 total time=   0.0s\n",
      "[CV 2/5] END ..metric=minkowski, n_neighbors=44;, score=0.729 total time=   0.0s\n",
      "[CV 3/5] END ..metric=minkowski, n_neighbors=44;, score=0.760 total time=   0.0s\n",
      "[CV 4/5] END ..metric=minkowski, n_neighbors=44;, score=0.791 total time=   0.0s\n",
      "[CV 5/5] END ..metric=minkowski, n_neighbors=44;, score=0.802 total time=   0.0s\n",
      "[CV 1/5] END ..metric=euclidean, n_neighbors=25;, score=0.795 total time=   0.0s\n",
      "[CV 2/5] END ..metric=euclidean, n_neighbors=25;, score=0.756 total time=   0.0s\n",
      "[CV 3/5] END ..metric=euclidean, n_neighbors=25;, score=0.822 total time=   0.0s\n",
      "[CV 4/5] END ..metric=euclidean, n_neighbors=25;, score=0.818 total time=   0.0s\n",
      "[CV 5/5] END ..metric=euclidean, n_neighbors=25;, score=0.795 total time=   0.0s\n",
      "[CV 1/5] END ..metric=euclidean, n_neighbors=26;, score=0.798 total time=   0.0s\n",
      "[CV 2/5] END ..metric=euclidean, n_neighbors=26;, score=0.756 total time=   0.0s\n",
      "[CV 3/5] END ..metric=euclidean, n_neighbors=26;, score=0.818 total time=   0.0s\n",
      "[CV 4/5] END ..metric=euclidean, n_neighbors=26;, score=0.814 total time=   0.0s\n",
      "[CV 5/5] END ..metric=euclidean, n_neighbors=26;, score=0.798 total time=   0.0s\n",
      "[CV 1/5] END ..metric=euclidean, n_neighbors=27;, score=0.791 total time=   0.0s\n",
      "[CV 2/5] END ..metric=euclidean, n_neighbors=27;, score=0.748 total time=   0.0s\n",
      "[CV 3/5] END ..metric=euclidean, n_neighbors=27;, score=0.806 total time=   0.0s\n",
      "[CV 4/5] END ..metric=euclidean, n_neighbors=27;, score=0.818 total time=   0.0s\n",
      "[CV 5/5] END ..metric=euclidean, n_neighbors=27;, score=0.787 total time=   0.0s\n",
      "[CV 1/5] END ..metric=euclidean, n_neighbors=28;, score=0.798 total time=   0.0s\n",
      "[CV 2/5] END ..metric=euclidean, n_neighbors=28;, score=0.733 total time=   0.0s\n",
      "[CV 3/5] END ..metric=euclidean, n_neighbors=28;, score=0.806 total time=   0.0s\n",
      "[CV 4/5] END ..metric=euclidean, n_neighbors=28;, score=0.814 total time=   0.0s\n",
      "[CV 5/5] END ..metric=euclidean, n_neighbors=28;, score=0.795 total time=   0.0s\n",
      "[CV 1/5] END ..metric=euclidean, n_neighbors=29;, score=0.787 total time=   0.0s\n",
      "[CV 2/5] END ..metric=euclidean, n_neighbors=29;, score=0.740 total time=   0.0s\n",
      "[CV 3/5] END ..metric=euclidean, n_neighbors=29;, score=0.810 total time=   0.0s\n",
      "[CV 4/5] END ..metric=euclidean, n_neighbors=29;, score=0.806 total time=   0.0s\n",
      "[CV 5/5] END ..metric=euclidean, n_neighbors=29;, score=0.791 total time=   0.0s\n",
      "[CV 1/5] END ..metric=euclidean, n_neighbors=30;, score=0.779 total time=   0.0s\n",
      "[CV 2/5] END ..metric=euclidean, n_neighbors=30;, score=0.748 total time=   0.0s\n",
      "[CV 3/5] END ..metric=euclidean, n_neighbors=30;, score=0.810 total time=   0.0s\n",
      "[CV 4/5] END ..metric=euclidean, n_neighbors=30;, score=0.806 total time=   0.0s\n",
      "[CV 5/5] END ..metric=euclidean, n_neighbors=30;, score=0.791 total time=   0.0s\n",
      "[CV 1/5] END ..metric=euclidean, n_neighbors=31;, score=0.771 total time=   0.0s\n",
      "[CV 2/5] END ..metric=euclidean, n_neighbors=31;, score=0.736 total time=   0.0s\n",
      "[CV 3/5] END ..metric=euclidean, n_neighbors=31;, score=0.810 total time=   0.0s\n",
      "[CV 4/5] END ..metric=euclidean, n_neighbors=31;, score=0.802 total time=   0.0s\n",
      "[CV 5/5] END ..metric=euclidean, n_neighbors=31;, score=0.795 total time=   0.0s\n",
      "[CV 1/5] END ..metric=euclidean, n_neighbors=32;, score=0.787 total time=   0.0s\n",
      "[CV 2/5] END ..metric=euclidean, n_neighbors=32;, score=0.740 total time=   0.0s\n",
      "[CV 3/5] END ..metric=euclidean, n_neighbors=32;, score=0.818 total time=   0.0s\n",
      "[CV 4/5] END ..metric=euclidean, n_neighbors=32;, score=0.802 total time=   0.0s\n",
      "[CV 5/5] END ..metric=euclidean, n_neighbors=32;, score=0.783 total time=   0.0s\n",
      "[CV 1/5] END ..metric=euclidean, n_neighbors=33;, score=0.771 total time=   0.0s\n",
      "[CV 2/5] END ..metric=euclidean, n_neighbors=33;, score=0.736 total time=   0.0s\n",
      "[CV 3/5] END ..metric=euclidean, n_neighbors=33;, score=0.810 total time=   0.0s\n",
      "[CV 4/5] END ..metric=euclidean, n_neighbors=33;, score=0.802 total time=   0.0s\n",
      "[CV 5/5] END ..metric=euclidean, n_neighbors=33;, score=0.775 total time=   0.0s\n",
      "[CV 1/5] END ..metric=euclidean, n_neighbors=34;, score=0.767 total time=   0.0s\n",
      "[CV 2/5] END ..metric=euclidean, n_neighbors=34;, score=0.736 total time=   0.0s\n",
      "[CV 3/5] END ..metric=euclidean, n_neighbors=34;, score=0.798 total time=   0.0s\n",
      "[CV 4/5] END ..metric=euclidean, n_neighbors=34;, score=0.802 total time=   0.0s\n",
      "[CV 5/5] END ..metric=euclidean, n_neighbors=34;, score=0.771 total time=   0.0s\n",
      "[CV 1/5] END ..metric=euclidean, n_neighbors=35;, score=0.767 total time=   0.0s\n",
      "[CV 2/5] END ..metric=euclidean, n_neighbors=35;, score=0.733 total time=   0.0s\n",
      "[CV 3/5] END ..metric=euclidean, n_neighbors=35;, score=0.806 total time=   0.0s\n",
      "[CV 4/5] END ..metric=euclidean, n_neighbors=35;, score=0.810 total time=   0.0s\n",
      "[CV 5/5] END ..metric=euclidean, n_neighbors=35;, score=0.779 total time=   0.0s\n",
      "[CV 1/5] END ..metric=euclidean, n_neighbors=36;, score=0.779 total time=   0.0s\n",
      "[CV 2/5] END ..metric=euclidean, n_neighbors=36;, score=0.736 total time=   0.0s\n",
      "[CV 3/5] END ..metric=euclidean, n_neighbors=36;, score=0.806 total time=   0.0s\n",
      "[CV 4/5] END ..metric=euclidean, n_neighbors=36;, score=0.806 total time=   0.0s\n",
      "[CV 5/5] END ..metric=euclidean, n_neighbors=36;, score=0.779 total time=   0.0s\n",
      "[CV 1/5] END ..metric=euclidean, n_neighbors=37;, score=0.771 total time=   0.0s\n",
      "[CV 2/5] END ..metric=euclidean, n_neighbors=37;, score=0.733 total time=   0.0s\n",
      "[CV 3/5] END ..metric=euclidean, n_neighbors=37;, score=0.802 total time=   0.0s\n",
      "[CV 4/5] END ..metric=euclidean, n_neighbors=37;, score=0.802 total time=   0.0s\n",
      "[CV 5/5] END ..metric=euclidean, n_neighbors=37;, score=0.791 total time=   0.0s\n",
      "[CV 1/5] END ..metric=euclidean, n_neighbors=38;, score=0.775 total time=   0.0s\n",
      "[CV 2/5] END ..metric=euclidean, n_neighbors=38;, score=0.740 total time=   0.0s\n",
      "[CV 3/5] END ..metric=euclidean, n_neighbors=38;, score=0.802 total time=   0.0s\n",
      "[CV 4/5] END ..metric=euclidean, n_neighbors=38;, score=0.802 total time=   0.0s\n",
      "[CV 5/5] END ..metric=euclidean, n_neighbors=38;, score=0.791 total time=   0.0s\n",
      "[CV 1/5] END ..metric=euclidean, n_neighbors=39;, score=0.775 total time=   0.0s\n",
      "[CV 2/5] END ..metric=euclidean, n_neighbors=39;, score=0.729 total time=   0.0s\n",
      "[CV 3/5] END ..metric=euclidean, n_neighbors=39;, score=0.783 total time=   0.0s\n",
      "[CV 4/5] END ..metric=euclidean, n_neighbors=39;, score=0.802 total time=   0.0s\n",
      "[CV 5/5] END ..metric=euclidean, n_neighbors=39;, score=0.791 total time=   0.0s\n",
      "[CV 1/5] END ..metric=euclidean, n_neighbors=40;, score=0.775 total time=   0.0s\n",
      "[CV 2/5] END ..metric=euclidean, n_neighbors=40;, score=0.733 total time=   0.0s\n",
      "[CV 3/5] END ..metric=euclidean, n_neighbors=40;, score=0.783 total time=   0.0s\n",
      "[CV 4/5] END ..metric=euclidean, n_neighbors=40;, score=0.806 total time=   0.0s\n",
      "[CV 5/5] END ..metric=euclidean, n_neighbors=40;, score=0.787 total time=   0.0s\n",
      "[CV 1/5] END ..metric=euclidean, n_neighbors=41;, score=0.767 total time=   0.0s\n",
      "[CV 2/5] END ..metric=euclidean, n_neighbors=41;, score=0.725 total time=   0.0s\n",
      "[CV 3/5] END ..metric=euclidean, n_neighbors=41;, score=0.775 total time=   0.0s\n",
      "[CV 4/5] END ..metric=euclidean, n_neighbors=41;, score=0.798 total time=   0.0s\n",
      "[CV 5/5] END ..metric=euclidean, n_neighbors=41;, score=0.791 total time=   0.0s\n",
      "[CV 1/5] END ..metric=euclidean, n_neighbors=42;, score=0.771 total time=   0.0s\n",
      "[CV 2/5] END ..metric=euclidean, n_neighbors=42;, score=0.729 total time=   0.0s\n",
      "[CV 3/5] END ..metric=euclidean, n_neighbors=42;, score=0.775 total time=   0.0s\n",
      "[CV 4/5] END ..metric=euclidean, n_neighbors=42;, score=0.798 total time=   0.0s\n",
      "[CV 5/5] END ..metric=euclidean, n_neighbors=42;, score=0.791 total time=   0.0s\n",
      "[CV 1/5] END ..metric=euclidean, n_neighbors=43;, score=0.764 total time=   0.0s\n",
      "[CV 2/5] END ..metric=euclidean, n_neighbors=43;, score=0.725 total time=   0.0s\n",
      "[CV 3/5] END ..metric=euclidean, n_neighbors=43;, score=0.756 total time=   0.0s\n",
      "[CV 4/5] END ..metric=euclidean, n_neighbors=43;, score=0.791 total time=   0.0s\n",
      "[CV 5/5] END ..metric=euclidean, n_neighbors=43;, score=0.791 total time=   0.0s\n",
      "[CV 1/5] END ..metric=euclidean, n_neighbors=44;, score=0.764 total time=   0.0s\n",
      "[CV 2/5] END ..metric=euclidean, n_neighbors=44;, score=0.729 total time=   0.0s\n",
      "[CV 3/5] END ..metric=euclidean, n_neighbors=44;, score=0.760 total time=   0.0s\n",
      "[CV 4/5] END ..metric=euclidean, n_neighbors=44;, score=0.791 total time=   0.0s\n",
      "[CV 5/5] END ..metric=euclidean, n_neighbors=44;, score=0.802 total time=   0.0s\n",
      "[CV 1/5] END ..metric=manhattan, n_neighbors=25;, score=0.806 total time=   0.0s\n",
      "[CV 2/5] END ..metric=manhattan, n_neighbors=25;, score=0.795 total time=   0.0s\n",
      "[CV 3/5] END ..metric=manhattan, n_neighbors=25;, score=0.822 total time=   0.0s\n",
      "[CV 4/5] END ..metric=manhattan, n_neighbors=25;, score=0.822 total time=   0.0s\n",
      "[CV 5/5] END ..metric=manhattan, n_neighbors=25;, score=0.806 total time=   0.0s\n",
      "[CV 1/5] END ..metric=manhattan, n_neighbors=26;, score=0.798 total time=   0.0s\n",
      "[CV 2/5] END ..metric=manhattan, n_neighbors=26;, score=0.798 total time=   0.0s\n",
      "[CV 3/5] END ..metric=manhattan, n_neighbors=26;, score=0.814 total time=   0.0s\n",
      "[CV 4/5] END ..metric=manhattan, n_neighbors=26;, score=0.826 total time=   0.0s\n",
      "[CV 5/5] END ..metric=manhattan, n_neighbors=26;, score=0.810 total time=   0.0s\n",
      "[CV 1/5] END ..metric=manhattan, n_neighbors=27;, score=0.806 total time=   0.0s\n",
      "[CV 2/5] END ..metric=manhattan, n_neighbors=27;, score=0.795 total time=   0.0s\n",
      "[CV 3/5] END ..metric=manhattan, n_neighbors=27;, score=0.814 total time=   0.0s\n",
      "[CV 4/5] END ..metric=manhattan, n_neighbors=27;, score=0.818 total time=   0.0s\n",
      "[CV 5/5] END ..metric=manhattan, n_neighbors=27;, score=0.810 total time=   0.0s\n",
      "[CV 1/5] END ..metric=manhattan, n_neighbors=28;, score=0.806 total time=   0.0s\n",
      "[CV 2/5] END ..metric=manhattan, n_neighbors=28;, score=0.798 total time=   0.0s\n",
      "[CV 3/5] END ..metric=manhattan, n_neighbors=28;, score=0.818 total time=   0.0s\n",
      "[CV 4/5] END ..metric=manhattan, n_neighbors=28;, score=0.826 total time=   0.0s\n",
      "[CV 5/5] END ..metric=manhattan, n_neighbors=28;, score=0.822 total time=   0.0s\n",
      "[CV 1/5] END ..metric=manhattan, n_neighbors=29;, score=0.810 total time=   0.0s\n",
      "[CV 2/5] END ..metric=manhattan, n_neighbors=29;, score=0.787 total time=   0.0s\n",
      "[CV 3/5] END ..metric=manhattan, n_neighbors=29;, score=0.826 total time=   0.0s\n",
      "[CV 4/5] END ..metric=manhattan, n_neighbors=29;, score=0.822 total time=   0.0s\n",
      "[CV 5/5] END ..metric=manhattan, n_neighbors=29;, score=0.814 total time=   0.0s\n",
      "[CV 1/5] END ..metric=manhattan, n_neighbors=30;, score=0.814 total time=   0.0s\n",
      "[CV 2/5] END ..metric=manhattan, n_neighbors=30;, score=0.787 total time=   0.0s\n",
      "[CV 3/5] END ..metric=manhattan, n_neighbors=30;, score=0.818 total time=   0.0s\n",
      "[CV 4/5] END ..metric=manhattan, n_neighbors=30;, score=0.822 total time=   0.0s\n",
      "[CV 5/5] END ..metric=manhattan, n_neighbors=30;, score=0.818 total time=   0.0s\n",
      "[CV 1/5] END ..metric=manhattan, n_neighbors=31;, score=0.818 total time=   0.0s\n",
      "[CV 2/5] END ..metric=manhattan, n_neighbors=31;, score=0.787 total time=   0.0s\n",
      "[CV 3/5] END ..metric=manhattan, n_neighbors=31;, score=0.818 total time=   0.0s\n",
      "[CV 4/5] END ..metric=manhattan, n_neighbors=31;, score=0.818 total time=   0.0s\n",
      "[CV 5/5] END ..metric=manhattan, n_neighbors=31;, score=0.814 total time=   0.0s\n",
      "[CV 1/5] END ..metric=manhattan, n_neighbors=32;, score=0.818 total time=   0.0s\n",
      "[CV 2/5] END ..metric=manhattan, n_neighbors=32;, score=0.795 total time=   0.0s\n",
      "[CV 3/5] END ..metric=manhattan, n_neighbors=32;, score=0.829 total time=   0.0s\n",
      "[CV 4/5] END ..metric=manhattan, n_neighbors=32;, score=0.810 total time=   0.0s\n",
      "[CV 5/5] END ..metric=manhattan, n_neighbors=32;, score=0.814 total time=   0.0s\n",
      "[CV 1/5] END ..metric=manhattan, n_neighbors=33;, score=0.822 total time=   0.0s\n",
      "[CV 2/5] END ..metric=manhattan, n_neighbors=33;, score=0.787 total time=   0.0s\n",
      "[CV 3/5] END ..metric=manhattan, n_neighbors=33;, score=0.822 total time=   0.0s\n",
      "[CV 4/5] END ..metric=manhattan, n_neighbors=33;, score=0.818 total time=   0.0s\n",
      "[CV 5/5] END ..metric=manhattan, n_neighbors=33;, score=0.814 total time=   0.0s\n",
      "[CV 1/5] END ..metric=manhattan, n_neighbors=34;, score=0.814 total time=   0.0s\n",
      "[CV 2/5] END ..metric=manhattan, n_neighbors=34;, score=0.787 total time=   0.0s\n",
      "[CV 3/5] END ..metric=manhattan, n_neighbors=34;, score=0.818 total time=   0.0s\n",
      "[CV 4/5] END ..metric=manhattan, n_neighbors=34;, score=0.814 total time=   0.0s\n",
      "[CV 5/5] END ..metric=manhattan, n_neighbors=34;, score=0.814 total time=   0.0s\n",
      "[CV 1/5] END ..metric=manhattan, n_neighbors=35;, score=0.818 total time=   0.0s\n",
      "[CV 2/5] END ..metric=manhattan, n_neighbors=35;, score=0.771 total time=   0.0s\n",
      "[CV 3/5] END ..metric=manhattan, n_neighbors=35;, score=0.814 total time=   0.0s\n",
      "[CV 4/5] END ..metric=manhattan, n_neighbors=35;, score=0.806 total time=   0.0s\n",
      "[CV 5/5] END ..metric=manhattan, n_neighbors=35;, score=0.806 total time=   0.0s\n",
      "[CV 1/5] END ..metric=manhattan, n_neighbors=36;, score=0.826 total time=   0.0s\n",
      "[CV 2/5] END ..metric=manhattan, n_neighbors=36;, score=0.779 total time=   0.0s\n",
      "[CV 3/5] END ..metric=manhattan, n_neighbors=36;, score=0.822 total time=   0.0s\n",
      "[CV 4/5] END ..metric=manhattan, n_neighbors=36;, score=0.802 total time=   0.0s\n",
      "[CV 5/5] END ..metric=manhattan, n_neighbors=36;, score=0.802 total time=   0.0s\n",
      "[CV 1/5] END ..metric=manhattan, n_neighbors=37;, score=0.826 total time=   0.0s\n",
      "[CV 2/5] END ..metric=manhattan, n_neighbors=37;, score=0.775 total time=   0.0s\n",
      "[CV 3/5] END ..metric=manhattan, n_neighbors=37;, score=0.806 total time=   0.0s\n",
      "[CV 4/5] END ..metric=manhattan, n_neighbors=37;, score=0.802 total time=   0.0s\n",
      "[CV 5/5] END ..metric=manhattan, n_neighbors=37;, score=0.798 total time=   0.0s\n",
      "[CV 1/5] END ..metric=manhattan, n_neighbors=38;, score=0.826 total time=   0.0s\n",
      "[CV 2/5] END ..metric=manhattan, n_neighbors=38;, score=0.779 total time=   0.0s\n",
      "[CV 3/5] END ..metric=manhattan, n_neighbors=38;, score=0.806 total time=   0.0s\n",
      "[CV 4/5] END ..metric=manhattan, n_neighbors=38;, score=0.802 total time=   0.0s\n",
      "[CV 5/5] END ..metric=manhattan, n_neighbors=38;, score=0.798 total time=   0.0s\n",
      "[CV 1/5] END ..metric=manhattan, n_neighbors=39;, score=0.829 total time=   0.0s\n",
      "[CV 2/5] END ..metric=manhattan, n_neighbors=39;, score=0.771 total time=   0.0s\n",
      "[CV 3/5] END ..metric=manhattan, n_neighbors=39;, score=0.787 total time=   0.0s\n",
      "[CV 4/5] END ..metric=manhattan, n_neighbors=39;, score=0.798 total time=   0.0s\n",
      "[CV 5/5] END ..metric=manhattan, n_neighbors=39;, score=0.798 total time=   0.0s\n",
      "[CV 1/5] END ..metric=manhattan, n_neighbors=40;, score=0.826 total time=   0.0s\n",
      "[CV 2/5] END ..metric=manhattan, n_neighbors=40;, score=0.779 total time=   0.0s\n",
      "[CV 3/5] END ..metric=manhattan, n_neighbors=40;, score=0.795 total time=   0.0s\n",
      "[CV 4/5] END ..metric=manhattan, n_neighbors=40;, score=0.798 total time=   0.0s\n",
      "[CV 5/5] END ..metric=manhattan, n_neighbors=40;, score=0.802 total time=   0.0s\n",
      "[CV 1/5] END ..metric=manhattan, n_neighbors=41;, score=0.829 total time=   0.0s\n",
      "[CV 2/5] END ..metric=manhattan, n_neighbors=41;, score=0.771 total time=   0.0s\n",
      "[CV 3/5] END ..metric=manhattan, n_neighbors=41;, score=0.783 total time=   0.0s\n",
      "[CV 4/5] END ..metric=manhattan, n_neighbors=41;, score=0.795 total time=   0.0s\n",
      "[CV 5/5] END ..metric=manhattan, n_neighbors=41;, score=0.802 total time=   0.0s\n",
      "[CV 1/5] END ..metric=manhattan, n_neighbors=42;, score=0.826 total time=   0.0s\n",
      "[CV 2/5] END ..metric=manhattan, n_neighbors=42;, score=0.779 total time=   0.0s\n",
      "[CV 3/5] END ..metric=manhattan, n_neighbors=42;, score=0.791 total time=   0.0s\n",
      "[CV 4/5] END ..metric=manhattan, n_neighbors=42;, score=0.791 total time=   0.0s\n",
      "[CV 5/5] END ..metric=manhattan, n_neighbors=42;, score=0.802 total time=   0.0s\n",
      "[CV 1/5] END ..metric=manhattan, n_neighbors=43;, score=0.822 total time=   0.0s\n",
      "[CV 2/5] END ..metric=manhattan, n_neighbors=43;, score=0.775 total time=   0.0s\n",
      "[CV 3/5] END ..metric=manhattan, n_neighbors=43;, score=0.795 total time=   0.0s\n",
      "[CV 4/5] END ..metric=manhattan, n_neighbors=43;, score=0.806 total time=   0.0s\n",
      "[CV 5/5] END ..metric=manhattan, n_neighbors=43;, score=0.802 total time=   0.0s\n",
      "[CV 1/5] END ..metric=manhattan, n_neighbors=44;, score=0.810 total time=   0.0s\n",
      "[CV 2/5] END ..metric=manhattan, n_neighbors=44;, score=0.775 total time=   0.0s\n",
      "[CV 3/5] END ..metric=manhattan, n_neighbors=44;, score=0.791 total time=   0.0s\n",
      "[CV 4/5] END ..metric=manhattan, n_neighbors=44;, score=0.802 total time=   0.0s\n",
      "[CV 5/5] END ..metric=manhattan, n_neighbors=44;, score=0.795 total time=   0.0s\n"
     ]
    },
    {
     "data": {
      "text/plain": [
       "GridSearchCV(cv=5, estimator=KNeighborsClassifier(),\n",
       "             param_grid={'metric': ['minkowski', 'euclidean', 'manhattan'],\n",
       "                         'n_neighbors': range(25, 45)},\n",
       "             verbose=3)"
      ]
     },
     "execution_count": 321,
     "metadata": {},
     "output_type": "execute_result"
    }
   ],
   "source": [
    "KNN_model_gs.fit(x_train_s, y_train)"
   ]
  },
  {
   "cell_type": "code",
   "execution_count": 323,
   "metadata": {},
   "outputs": [
    {
     "data": {
      "text/plain": [
       "{'metric': 'manhattan', 'n_neighbors': 28}"
      ]
     },
     "execution_count": 323,
     "metadata": {},
     "output_type": "execute_result"
    }
   ],
   "source": [
    "KNN_model_gs.best_params_"
   ]
  },
  {
   "cell_type": "code",
   "execution_count": 325,
   "metadata": {},
   "outputs": [
    {
     "data": {
      "text/plain": [
       "0.813953488372093"
      ]
     },
     "execution_count": 325,
     "metadata": {},
     "output_type": "execute_result"
    }
   ],
   "source": [
    "KNN_model_gs.best_score_"
   ]
  },
  {
   "cell_type": "code",
   "execution_count": 327,
   "metadata": {},
   "outputs": [
    {
     "name": "stdout",
     "output_type": "stream",
     "text": [
      "              precision    recall  f1-score   support\n",
      "\n",
      "          -1       0.89      0.75      0.81       270\n",
      "           1       0.79      0.91      0.85       283\n",
      "\n",
      "    accuracy                           0.83       553\n",
      "   macro avg       0.84      0.83      0.83       553\n",
      "weighted avg       0.84      0.83      0.83       553\n",
      "\n"
     ]
    }
   ],
   "source": [
    "KNN_pred2 = KNN_model_gs.predict(x_val_s)\n",
    "print(classification_report(y_val, KNN_pred2))"
   ]
  },
  {
   "cell_type": "code",
   "execution_count": 328,
   "metadata": {},
   "outputs": [
    {
     "name": "stdout",
     "output_type": "stream",
     "text": [
      "              precision    recall  f1-score   support\n",
      "\n",
      "          -1       0.85      0.74      0.79       388\n",
      "           1       0.78      0.87      0.82       403\n",
      "\n",
      "    accuracy                           0.81       791\n",
      "   macro avg       0.81      0.81      0.81       791\n",
      "weighted avg       0.81      0.81      0.81       791\n",
      "\n"
     ]
    }
   ],
   "source": [
    "KNN_pred2 = KNN_model_gs.predict(x_test_s)\n",
    "print(classification_report(y_test, KNN_pred2))"
   ]
  },
  {
   "cell_type": "code",
   "execution_count": 332,
   "metadata": {},
   "outputs": [
    {
     "data": {
      "image/png": "[encoded data removed]",
      "text/plain": [
       "<Figure size 720x216 with 1 Axes>"
      ]
     },
     "metadata": {
      "needs_background": "light"
     },
     "output_type": "display_data"
    }
   ],
   "source": [
    "# Test 데이터 결과 Confusion Matrix 확인\n",
    "confusion = confusion_matrix(y_test, KNN_pred2)\n",
    "fig, ax = plt.subplots(figsize=(10,3))\n",
    "plot_confusion_matrix(ax, confusion, fontsize=30)"
   ]
  },
  {
   "cell_type": "markdown",
   "metadata": {},
   "source": [
    "### 3. DecisionTreeClassifier"
   ]
  },
  {
   "cell_type": "code",
   "execution_count": 129,
   "metadata": {},
   "outputs": [],
   "source": [
    "DT_model = DecisionTreeClassifier()"
   ]
  },
  {
   "cell_type": "code",
   "execution_count": 130,
   "metadata": {},
   "outputs": [
    {
     "data": {
      "text/plain": [
       "DecisionTreeClassifier()"
      ]
     },
     "execution_count": 130,
     "metadata": {},
     "output_type": "execute_result"
    }
   ],
   "source": [
    "DT_model.fit(x_train, y_train)"
   ]
  },
  {
   "cell_type": "code",
   "execution_count": 131,
   "metadata": {},
   "outputs": [],
   "source": [
    "DT_pred = DT_model.predict(x_val)"
   ]
  },
  {
   "cell_type": "code",
   "execution_count": 132,
   "metadata": {},
   "outputs": [
    {
     "data": {
      "text/plain": [
       "array([[235,  35],\n",
       "       [ 29, 254]], dtype=int64)"
      ]
     },
     "execution_count": 132,
     "metadata": {},
     "output_type": "execute_result"
    }
   ],
   "source": [
    "confusion_matrix( y_val , DT_pred  )"
   ]
  },
  {
   "cell_type": "code",
   "execution_count": 133,
   "metadata": {},
   "outputs": [
    {
     "name": "stdout",
     "output_type": "stream",
     "text": [
      "              precision    recall  f1-score   support\n",
      "\n",
      "          -1       0.89      0.87      0.88       270\n",
      "           1       0.88      0.90      0.89       283\n",
      "\n",
      "    accuracy                           0.88       553\n",
      "   macro avg       0.88      0.88      0.88       553\n",
      "weighted avg       0.88      0.88      0.88       553\n",
      "\n"
     ]
    }
   ],
   "source": [
    "print(classification_report(y_val , DT_pred  ))"
   ]
  },
  {
   "cell_type": "code",
   "execution_count": 134,
   "metadata": {},
   "outputs": [],
   "source": [
    "DT_pred = DT_model.predict(x_test)"
   ]
  },
  {
   "cell_type": "code",
   "execution_count": 349,
   "metadata": {},
   "outputs": [
    {
     "data": {
      "text/plain": [
       "array([[351,  37],\n",
       "       [ 41, 362]], dtype=int64)"
      ]
     },
     "execution_count": 349,
     "metadata": {},
     "output_type": "execute_result"
    }
   ],
   "source": [
    "confusion_matrix(y_test, DT_pred )"
   ]
  },
  {
   "cell_type": "code",
   "execution_count": 137,
   "metadata": {},
   "outputs": [
    {
     "name": "stdout",
     "output_type": "stream",
     "text": [
      "              precision    recall  f1-score   support\n",
      "\n",
      "          -1       0.90      0.90      0.90       388\n",
      "           1       0.91      0.90      0.90       403\n",
      "\n",
      "    accuracy                           0.90       791\n",
      "   macro avg       0.90      0.90      0.90       791\n",
      "weighted avg       0.90      0.90      0.90       791\n",
      "\n"
     ]
    }
   ],
   "source": [
    "print(classification_report(y_test , DT_pred  ))"
   ]
  },
  {
   "cell_type": "code",
   "execution_count": 139,
   "metadata": {},
   "outputs": [
    {
     "data": {
      "image/png": "[encoded data removed]",
      "text/plain": [
       "<Figure size 720x216 with 1 Axes>"
      ]
     },
     "metadata": {
      "needs_background": "light"
     },
     "output_type": "display_data"
    }
   ],
   "source": [
    "# Test 데이터 결과 Confusion Matrix 확인\n",
    "confusion = confusion_matrix(y_test, DT_pred)\n",
    "fig, ax = plt.subplots(figsize=(10,3))\n",
    "plot_confusion_matrix(ax, confusion, fontsize=30)"
   ]
  },
  {
   "cell_type": "code",
   "execution_count": 333,
   "metadata": {},
   "outputs": [],
   "source": [
    "DT_model2 = DecisionTreeClassifier()"
   ]
  },
  {
   "cell_type": "code",
   "execution_count": 334,
   "metadata": {},
   "outputs": [],
   "source": [
    "DT_params = {'max_depth' : range(1, 11), 'min_samples_leaf' : range(10, 101)}"
   ]
  },
  {
   "cell_type": "code",
   "execution_count": 336,
   "metadata": {},
   "outputs": [],
   "source": [
    "DT_model_gs = GridSearchCV(DT_model2, DT_params, cv=5)"
   ]
  },
  {
   "cell_type": "code",
   "execution_count": 337,
   "metadata": {},
   "outputs": [
    {
     "data": {
      "text/plain": [
       "GridSearchCV(cv=5, estimator=DecisionTreeClassifier(),\n",
       "             param_grid={'max_depth': range(1, 11),\n",
       "                         'min_samples_leaf': range(10, 101)})"
      ]
     },
     "execution_count": 337,
     "metadata": {},
     "output_type": "execute_result"
    }
   ],
   "source": [
    "DT_model_gs.fit(x_train, y_train)"
   ]
  },
  {
   "cell_type": "code",
   "execution_count": 339,
   "metadata": {},
   "outputs": [
    {
     "data": {
      "text/plain": [
       "{'max_depth': 6, 'min_samples_leaf': 11}"
      ]
     },
     "execution_count": 339,
     "metadata": {},
     "output_type": "execute_result"
    }
   ],
   "source": [
    "DT_model_gs.best_params_"
   ]
  },
  {
   "cell_type": "code",
   "execution_count": 340,
   "metadata": {},
   "outputs": [
    {
     "data": {
      "text/plain": [
       "0.8868217054263565"
      ]
     },
     "execution_count": 340,
     "metadata": {},
     "output_type": "execute_result"
    }
   ],
   "source": [
    "DT_model_gs.best_score_"
   ]
  },
  {
   "cell_type": "code",
   "execution_count": 344,
   "metadata": {},
   "outputs": [
    {
     "data": {
      "text/plain": [
       "GridSearchCV(cv=5, estimator=DecisionTreeClassifier(),\n",
       "             param_grid={'max_depth': range(1, 11),\n",
       "                         'min_samples_leaf': range(10, 101)})"
      ]
     },
     "execution_count": 344,
     "metadata": {},
     "output_type": "execute_result"
    }
   ],
   "source": [
    "DT_model_gs.fit(x_train, y_train)"
   ]
  },
  {
   "cell_type": "code",
   "execution_count": 347,
   "metadata": {},
   "outputs": [],
   "source": [
    "DT_pred2 = DT_model_gs.predict(x_val)"
   ]
  },
  {
   "cell_type": "code",
   "execution_count": 350,
   "metadata": {},
   "outputs": [
    {
     "data": {
      "text/plain": [
       "array([[239,  31],\n",
       "       [ 25, 258]], dtype=int64)"
      ]
     },
     "execution_count": 350,
     "metadata": {},
     "output_type": "execute_result"
    }
   ],
   "source": [
    "confusion_matrix(y_val, DT_pred2 )"
   ]
  },
  {
   "cell_type": "code",
   "execution_count": 352,
   "metadata": {},
   "outputs": [
    {
     "name": "stdout",
     "output_type": "stream",
     "text": [
      "              precision    recall  f1-score   support\n",
      "\n",
      "          -1       0.91      0.89      0.90       270\n",
      "           1       0.89      0.91      0.90       283\n",
      "\n",
      "    accuracy                           0.90       553\n",
      "   macro avg       0.90      0.90      0.90       553\n",
      "weighted avg       0.90      0.90      0.90       553\n",
      "\n"
     ]
    }
   ],
   "source": [
    "print(classification_report(y_val , DT_pred2  ))"
   ]
  },
  {
   "cell_type": "code",
   "execution_count": 353,
   "metadata": {},
   "outputs": [],
   "source": [
    "DT_pred2 = DT_model_gs.predict(x_test)"
   ]
  },
  {
   "cell_type": "code",
   "execution_count": 354,
   "metadata": {},
   "outputs": [
    {
     "data": {
      "text/plain": [
       "array([[336,  52],\n",
       "       [ 48, 355]], dtype=int64)"
      ]
     },
     "execution_count": 354,
     "metadata": {},
     "output_type": "execute_result"
    }
   ],
   "source": [
    "confusion_matrix(y_test, DT_pred2 )"
   ]
  },
  {
   "cell_type": "code",
   "execution_count": 356,
   "metadata": {},
   "outputs": [
    {
     "name": "stdout",
     "output_type": "stream",
     "text": [
      "              precision    recall  f1-score   support\n",
      "\n",
      "          -1       0.88      0.87      0.87       388\n",
      "           1       0.87      0.88      0.88       403\n",
      "\n",
      "    accuracy                           0.87       791\n",
      "   macro avg       0.87      0.87      0.87       791\n",
      "weighted avg       0.87      0.87      0.87       791\n",
      "\n"
     ]
    }
   ],
   "source": [
    "print(classification_report(y_test , DT_pred2  ))"
   ]
  },
  {
   "cell_type": "code",
   "execution_count": 357,
   "metadata": {},
   "outputs": [
    {
     "data": {
      "image/png": "[encoded data removed]",
      "text/plain": [
       "<Figure size 720x216 with 1 Axes>"
      ]
     },
     "metadata": {
      "needs_background": "light"
     },
     "output_type": "display_data"
    }
   ],
   "source": [
    "# Test 데이터 결과 Confusion Matrix 확인\n",
    "confusion = confusion_matrix(y_test, DT_pred2)\n",
    "fig, ax = plt.subplots(figsize=(10,3))\n",
    "plot_confusion_matrix(ax, confusion, fontsize=30)"
   ]
  },
  {
   "cell_type": "markdown",
   "metadata": {},
   "source": [
    "### 4. SVC"
   ]
  },
  {
   "cell_type": "code",
   "execution_count": 141,
   "metadata": {},
   "outputs": [],
   "source": [
    "SVC_model = SVC()"
   ]
  },
  {
   "cell_type": "code",
   "execution_count": 142,
   "metadata": {},
   "outputs": [
    {
     "data": {
      "text/plain": [
       "SVC()"
      ]
     },
     "execution_count": 142,
     "metadata": {},
     "output_type": "execute_result"
    }
   ],
   "source": [
    "SVC_model.fit(x_train_s, y_train_s)"
   ]
  },
  {
   "cell_type": "code",
   "execution_count": 143,
   "metadata": {},
   "outputs": [],
   "source": [
    "SVC_pred = SVC_model.predict(x_val_s)"
   ]
  },
  {
   "cell_type": "code",
   "execution_count": 148,
   "metadata": {},
   "outputs": [
    {
     "data": {
      "text/plain": [
       "array([[184,  86],\n",
       "       [ 34, 249]], dtype=int64)"
      ]
     },
     "execution_count": 148,
     "metadata": {},
     "output_type": "execute_result"
    }
   ],
   "source": [
    "confusion_matrix( y_val_s , SVC_pred  )"
   ]
  },
  {
   "cell_type": "code",
   "execution_count": 149,
   "metadata": {},
   "outputs": [
    {
     "name": "stdout",
     "output_type": "stream",
     "text": [
      "              precision    recall  f1-score   support\n",
      "\n",
      "          -1       0.84      0.68      0.75       270\n",
      "           1       0.74      0.88      0.81       283\n",
      "\n",
      "    accuracy                           0.78       553\n",
      "   macro avg       0.79      0.78      0.78       553\n",
      "weighted avg       0.79      0.78      0.78       553\n",
      "\n"
     ]
    }
   ],
   "source": [
    "print(classification_report(y_val_s , SVC_pred  ))"
   ]
  },
  {
   "cell_type": "code",
   "execution_count": 150,
   "metadata": {},
   "outputs": [],
   "source": [
    "SVC_pred = SVC_model.predict(x_test_s)"
   ]
  },
  {
   "cell_type": "code",
   "execution_count": 151,
   "metadata": {},
   "outputs": [
    {
     "data": {
      "text/plain": [
       "array([[277, 111],\n",
       "       [ 48, 355]], dtype=int64)"
      ]
     },
     "execution_count": 151,
     "metadata": {},
     "output_type": "execute_result"
    }
   ],
   "source": [
    "confusion_matrix( y_test_s , SVC_pred  )"
   ]
  },
  {
   "cell_type": "code",
   "execution_count": 152,
   "metadata": {},
   "outputs": [
    {
     "name": "stdout",
     "output_type": "stream",
     "text": [
      "              precision    recall  f1-score   support\n",
      "\n",
      "          -1       0.85      0.71      0.78       388\n",
      "           1       0.76      0.88      0.82       403\n",
      "\n",
      "    accuracy                           0.80       791\n",
      "   macro avg       0.81      0.80      0.80       791\n",
      "weighted avg       0.81      0.80      0.80       791\n",
      "\n"
     ]
    }
   ],
   "source": [
    "print(classification_report(y_test_s , SVC_pred  ))"
   ]
  },
  {
   "cell_type": "code",
   "execution_count": 157,
   "metadata": {},
   "outputs": [
    {
     "data": {
      "image/png": "[encoded data removed]",
      "text/plain": [
       "<Figure size 720x216 with 1 Axes>"
      ]
     },
     "metadata": {
      "needs_background": "light"
     },
     "output_type": "display_data"
    }
   ],
   "source": [
    "# Test 데이터 결과 Confusion Matrix 확인\n",
    "confusion = confusion_matrix(y_test_s, SVC_pred)\n",
    "fig, ax = plt.subplots(figsize=(10,3))\n",
    "plot_confusion_matrix(ax, confusion, fontsize=30)"
   ]
  },
  {
   "cell_type": "code",
   "execution_count": 358,
   "metadata": {},
   "outputs": [],
   "source": [
    "SVC_model2 = SVC()"
   ]
  },
  {
   "cell_type": "code",
   "execution_count": 359,
   "metadata": {},
   "outputs": [],
   "source": [
    "SVC_params = {'C' : [0.001, 0.01, 0.1, 1, 10, 100, 1000, 10000], 'gamma' : [0.001, 0.01, 0.1, 1, 10, 100, 1000, 10000]}"
   ]
  },
  {
   "cell_type": "code",
   "execution_count": 360,
   "metadata": {},
   "outputs": [],
   "source": [
    "SVC_model_gs = GridSearchCV(SVC_model2, SVC_params, cv=5)"
   ]
  },
  {
   "cell_type": "code",
   "execution_count": 361,
   "metadata": {},
   "outputs": [
    {
     "data": {
      "text/plain": [
       "GridSearchCV(cv=5, estimator=SVC(),\n",
       "             param_grid={'C': [0.001, 0.01, 0.1, 1, 10, 100, 1000, 10000],\n",
       "                         'gamma': [0.001, 0.01, 0.1, 1, 10, 100, 1000, 10000]})"
      ]
     },
     "execution_count": 361,
     "metadata": {},
     "output_type": "execute_result"
    }
   ],
   "source": [
    "SVC_model_gs.fit(x_train_s, y_train)"
   ]
  },
  {
   "cell_type": "code",
   "execution_count": 362,
   "metadata": {},
   "outputs": [
    {
     "data": {
      "text/plain": [
       "{'C': 1000, 'gamma': 1}"
      ]
     },
     "execution_count": 362,
     "metadata": {},
     "output_type": "execute_result"
    }
   ],
   "source": [
    "SVC_model_gs.best_params_"
   ]
  },
  {
   "cell_type": "code",
   "execution_count": 363,
   "metadata": {},
   "outputs": [
    {
     "data": {
      "text/plain": [
       "0.8612403100775194"
      ]
     },
     "execution_count": 363,
     "metadata": {},
     "output_type": "execute_result"
    }
   ],
   "source": [
    "SVC_model_gs.best_score_"
   ]
  },
  {
   "cell_type": "code",
   "execution_count": 365,
   "metadata": {},
   "outputs": [],
   "source": [
    "SVC_params = {'C' : range(100, 2001, 100), 'gamma' : np.linspace(0.5, 1.5, 10)}"
   ]
  },
  {
   "cell_type": "code",
   "execution_count": 366,
   "metadata": {},
   "outputs": [],
   "source": [
    "SVC_model_gs = GridSearchCV(SVC_model2, SVC_params, cv=5)"
   ]
  },
  {
   "cell_type": "code",
   "execution_count": 367,
   "metadata": {},
   "outputs": [
    {
     "data": {
      "text/plain": [
       "GridSearchCV(cv=5, estimator=SVC(),\n",
       "             param_grid={'C': range(100, 2001, 100),\n",
       "                         'gamma': array([0.5       , 0.61111111, 0.72222222, 0.83333333, 0.94444444,\n",
       "       1.05555556, 1.16666667, 1.27777778, 1.38888889, 1.5       ])})"
      ]
     },
     "execution_count": 367,
     "metadata": {},
     "output_type": "execute_result"
    }
   ],
   "source": [
    "SVC_model_gs.fit(x_train_s, y_train)"
   ]
  },
  {
   "cell_type": "code",
   "execution_count": 368,
   "metadata": {},
   "outputs": [
    {
     "data": {
      "text/plain": [
       "{'C': 600, 'gamma': 1.5}"
      ]
     },
     "execution_count": 368,
     "metadata": {},
     "output_type": "execute_result"
    }
   ],
   "source": [
    "SVC_model_gs.best_params_"
   ]
  },
  {
   "cell_type": "code",
   "execution_count": 369,
   "metadata": {},
   "outputs": [
    {
     "data": {
      "text/plain": [
       "0.8658914728682172"
      ]
     },
     "execution_count": 369,
     "metadata": {},
     "output_type": "execute_result"
    }
   ],
   "source": [
    "SVC_model_gs.best_score_"
   ]
  },
  {
   "cell_type": "code",
   "execution_count": 370,
   "metadata": {},
   "outputs": [],
   "source": [
    "SVC_params = {'C' : range(500, 701, 20), 'gamma' : range(1, 11)}"
   ]
  },
  {
   "cell_type": "code",
   "execution_count": 371,
   "metadata": {},
   "outputs": [],
   "source": [
    "SVC_model_gs = GridSearchCV(SVC_model2, SVC_params, cv=5)"
   ]
  },
  {
   "cell_type": "code",
   "execution_count": 372,
   "metadata": {},
   "outputs": [
    {
     "data": {
      "text/plain": [
       "GridSearchCV(cv=5, estimator=SVC(),\n",
       "             param_grid={'C': range(500, 701, 20), 'gamma': range(1, 11)})"
      ]
     },
     "execution_count": 372,
     "metadata": {},
     "output_type": "execute_result"
    }
   ],
   "source": [
    "SVC_model_gs.fit(x_train_s, y_train)"
   ]
  },
  {
   "cell_type": "code",
   "execution_count": 373,
   "metadata": {},
   "outputs": [
    {
     "data": {
      "text/plain": [
       "{'C': 540, 'gamma': 6}"
      ]
     },
     "execution_count": 373,
     "metadata": {},
     "output_type": "execute_result"
    }
   ],
   "source": [
    "SVC_model_gs.best_params_"
   ]
  },
  {
   "cell_type": "code",
   "execution_count": 374,
   "metadata": {},
   "outputs": [
    {
     "data": {
      "text/plain": [
       "0.875968992248062"
      ]
     },
     "execution_count": 374,
     "metadata": {},
     "output_type": "execute_result"
    }
   ],
   "source": [
    "SVC_model_gs.best_score_"
   ]
  },
  {
   "cell_type": "code",
   "execution_count": 375,
   "metadata": {},
   "outputs": [],
   "source": [
    "SVC_params = {'C' : range(500, 580, 10), 'gamma' : np.linspace(5, 7, 21)}"
   ]
  },
  {
   "cell_type": "code",
   "execution_count": 376,
   "metadata": {},
   "outputs": [],
   "source": [
    "SVC_model_gs = GridSearchCV(SVC_model2, SVC_params, cv=5)"
   ]
  },
  {
   "cell_type": "code",
   "execution_count": 377,
   "metadata": {},
   "outputs": [
    {
     "data": {
      "text/plain": [
       "GridSearchCV(cv=5, estimator=SVC(),\n",
       "             param_grid={'C': range(500, 580, 10),\n",
       "                         'gamma': array([5. , 5.1, 5.2, 5.3, 5.4, 5.5, 5.6, 5.7, 5.8, 5.9, 6. , 6.1, 6.2,\n",
       "       6.3, 6.4, 6.5, 6.6, 6.7, 6.8, 6.9, 7. ])})"
      ]
     },
     "execution_count": 377,
     "metadata": {},
     "output_type": "execute_result"
    }
   ],
   "source": [
    "SVC_model_gs.fit(x_train_s, y_train)"
   ]
  },
  {
   "cell_type": "code",
   "execution_count": 378,
   "metadata": {},
   "outputs": [
    {
     "data": {
      "text/plain": [
       "{'C': 570, 'gamma': 5.2}"
      ]
     },
     "execution_count": 378,
     "metadata": {},
     "output_type": "execute_result"
    }
   ],
   "source": [
    "SVC_model_gs.best_params_"
   ]
  },
  {
   "cell_type": "code",
   "execution_count": 379,
   "metadata": {},
   "outputs": [
    {
     "data": {
      "text/plain": [
       "0.8767441860465116"
      ]
     },
     "execution_count": 379,
     "metadata": {},
     "output_type": "execute_result"
    }
   ],
   "source": [
    "SVC_model_gs.best_score_"
   ]
  },
  {
   "cell_type": "code",
   "execution_count": 380,
   "metadata": {},
   "outputs": [],
   "source": [
    "SVC_params = {'C' : range(565, 576), 'gamma' : np.linspace(5.15, 5.25, 11)}"
   ]
  },
  {
   "cell_type": "code",
   "execution_count": 381,
   "metadata": {},
   "outputs": [],
   "source": [
    "SVC_model_gs = GridSearchCV(SVC_model2, SVC_params, cv=5)"
   ]
  },
  {
   "cell_type": "code",
   "execution_count": 382,
   "metadata": {},
   "outputs": [
    {
     "data": {
      "text/plain": [
       "GridSearchCV(cv=5, estimator=SVC(),\n",
       "             param_grid={'C': range(565, 576),\n",
       "                         'gamma': array([5.15, 5.16, 5.17, 5.18, 5.19, 5.2 , 5.21, 5.22, 5.23, 5.24, 5.25])})"
      ]
     },
     "execution_count": 382,
     "metadata": {},
     "output_type": "execute_result"
    }
   ],
   "source": [
    "SVC_model_gs.fit(x_train_s, y_train)"
   ]
  },
  {
   "cell_type": "code",
   "execution_count": 383,
   "metadata": {},
   "outputs": [
    {
     "data": {
      "text/plain": [
       "{'C': 565, 'gamma': 5.21}"
      ]
     },
     "execution_count": 383,
     "metadata": {},
     "output_type": "execute_result"
    }
   ],
   "source": [
    "SVC_model_gs.best_params_"
   ]
  },
  {
   "cell_type": "code",
   "execution_count": 384,
   "metadata": {},
   "outputs": [
    {
     "data": {
      "text/plain": [
       "0.8767441860465116"
      ]
     },
     "execution_count": 384,
     "metadata": {},
     "output_type": "execute_result"
    }
   ],
   "source": [
    "SVC_model_gs.best_score_"
   ]
  },
  {
   "cell_type": "code",
   "execution_count": 386,
   "metadata": {},
   "outputs": [
    {
     "data": {
      "text/plain": [
       "GridSearchCV(cv=5, estimator=SVC(),\n",
       "             param_grid={'C': range(565, 576),\n",
       "                         'gamma': array([5.15, 5.16, 5.17, 5.18, 5.19, 5.2 , 5.21, 5.22, 5.23, 5.24, 5.25])})"
      ]
     },
     "execution_count": 386,
     "metadata": {},
     "output_type": "execute_result"
    }
   ],
   "source": [
    "SVC_model_gs.fit(x_train_s, y_train)"
   ]
  },
  {
   "cell_type": "code",
   "execution_count": 387,
   "metadata": {},
   "outputs": [],
   "source": [
    "SVC_pred2 = SVC_model_gs.predict(x_val_s)"
   ]
  },
  {
   "cell_type": "code",
   "execution_count": 388,
   "metadata": {},
   "outputs": [
    {
     "data": {
      "text/plain": [
       "array([[227,  43],\n",
       "       [ 40, 243]], dtype=int64)"
      ]
     },
     "execution_count": 388,
     "metadata": {},
     "output_type": "execute_result"
    }
   ],
   "source": [
    "confusion_matrix( y_val_s , SVC_pred2  )"
   ]
  },
  {
   "cell_type": "code",
   "execution_count": 389,
   "metadata": {},
   "outputs": [
    {
     "name": "stdout",
     "output_type": "stream",
     "text": [
      "              precision    recall  f1-score   support\n",
      "\n",
      "          -1       0.85      0.84      0.85       270\n",
      "           1       0.85      0.86      0.85       283\n",
      "\n",
      "    accuracy                           0.85       553\n",
      "   macro avg       0.85      0.85      0.85       553\n",
      "weighted avg       0.85      0.85      0.85       553\n",
      "\n"
     ]
    }
   ],
   "source": [
    "print(classification_report(y_val_s , SVC_pred2  ))"
   ]
  },
  {
   "cell_type": "code",
   "execution_count": 390,
   "metadata": {},
   "outputs": [],
   "source": [
    "SVC_pred2 = SVC_model_gs.predict(x_test_s)"
   ]
  },
  {
   "cell_type": "code",
   "execution_count": 391,
   "metadata": {},
   "outputs": [
    {
     "data": {
      "text/plain": [
       "array([[330,  58],\n",
       "       [ 42, 361]], dtype=int64)"
      ]
     },
     "execution_count": 391,
     "metadata": {},
     "output_type": "execute_result"
    }
   ],
   "source": [
    "confusion_matrix( y_test_s , SVC_pred2  )"
   ]
  },
  {
   "cell_type": "code",
   "execution_count": 392,
   "metadata": {},
   "outputs": [
    {
     "name": "stdout",
     "output_type": "stream",
     "text": [
      "              precision    recall  f1-score   support\n",
      "\n",
      "          -1       0.89      0.85      0.87       388\n",
      "           1       0.86      0.90      0.88       403\n",
      "\n",
      "    accuracy                           0.87       791\n",
      "   macro avg       0.87      0.87      0.87       791\n",
      "weighted avg       0.87      0.87      0.87       791\n",
      "\n"
     ]
    }
   ],
   "source": [
    "print(classification_report(y_test_s , SVC_pred2  ))"
   ]
  },
  {
   "cell_type": "code",
   "execution_count": 393,
   "metadata": {},
   "outputs": [
    {
     "data": {
      "image/png": "[encoded data removed]",
      "text/plain": [
       "<Figure size 720x216 with 1 Axes>"
      ]
     },
     "metadata": {
      "needs_background": "light"
     },
     "output_type": "display_data"
    }
   ],
   "source": [
    "# Test 데이터 결과 Confusion Matrix 확인\n",
    "confusion = confusion_matrix(y_test_s, SVC_pred2)\n",
    "fig, ax = plt.subplots(figsize=(10,3))\n",
    "plot_confusion_matrix(ax, confusion, fontsize=30)"
   ]
  },
  {
   "cell_type": "markdown",
   "metadata": {},
   "source": [
    "### 5. RandomForestClassifier"
   ]
  },
  {
   "cell_type": "code",
   "execution_count": 159,
   "metadata": {},
   "outputs": [],
   "source": [
    "RF_model = RandomForestClassifier()"
   ]
  },
  {
   "cell_type": "code",
   "execution_count": 160,
   "metadata": {},
   "outputs": [
    {
     "data": {
      "text/plain": [
       "RandomForestClassifier()"
      ]
     },
     "execution_count": 160,
     "metadata": {},
     "output_type": "execute_result"
    }
   ],
   "source": [
    "RF_model.fit(x_train, y_train)"
   ]
  },
  {
   "cell_type": "code",
   "execution_count": 162,
   "metadata": {},
   "outputs": [],
   "source": [
    "RF_pred = RF_model.predict(x_val)"
   ]
  },
  {
   "cell_type": "code",
   "execution_count": 163,
   "metadata": {},
   "outputs": [
    {
     "data": {
      "text/plain": [
       "array([[256,  14],\n",
       "       [ 13, 270]], dtype=int64)"
      ]
     },
     "execution_count": 163,
     "metadata": {},
     "output_type": "execute_result"
    }
   ],
   "source": [
    "confusion_matrix( y_val, RF_pred  )"
   ]
  },
  {
   "cell_type": "code",
   "execution_count": 164,
   "metadata": {},
   "outputs": [
    {
     "name": "stdout",
     "output_type": "stream",
     "text": [
      "              precision    recall  f1-score   support\n",
      "\n",
      "          -1       0.95      0.95      0.95       270\n",
      "           1       0.95      0.95      0.95       283\n",
      "\n",
      "    accuracy                           0.95       553\n",
      "   macro avg       0.95      0.95      0.95       553\n",
      "weighted avg       0.95      0.95      0.95       553\n",
      "\n"
     ]
    }
   ],
   "source": [
    "print(classification_report(y_val , RF_pred  ))"
   ]
  },
  {
   "cell_type": "code",
   "execution_count": 165,
   "metadata": {},
   "outputs": [],
   "source": [
    "RF_pred = RF_model.predict(x_test)"
   ]
  },
  {
   "cell_type": "code",
   "execution_count": 166,
   "metadata": {},
   "outputs": [
    {
     "data": {
      "text/plain": [
       "array([[361,  27],\n",
       "       [ 29, 374]], dtype=int64)"
      ]
     },
     "execution_count": 166,
     "metadata": {},
     "output_type": "execute_result"
    }
   ],
   "source": [
    "confusion_matrix( y_test, RF_pred  )"
   ]
  },
  {
   "cell_type": "code",
   "execution_count": 167,
   "metadata": {},
   "outputs": [
    {
     "name": "stdout",
     "output_type": "stream",
     "text": [
      "              precision    recall  f1-score   support\n",
      "\n",
      "          -1       0.93      0.93      0.93       388\n",
      "           1       0.93      0.93      0.93       403\n",
      "\n",
      "    accuracy                           0.93       791\n",
      "   macro avg       0.93      0.93      0.93       791\n",
      "weighted avg       0.93      0.93      0.93       791\n",
      "\n"
     ]
    }
   ],
   "source": [
    "print(classification_report(y_test , RF_pred  ))"
   ]
  },
  {
   "cell_type": "code",
   "execution_count": 169,
   "metadata": {},
   "outputs": [
    {
     "data": {
      "image/png": "[encoded data removed]",
      "text/plain": [
       "<Figure size 720x216 with 1 Axes>"
      ]
     },
     "metadata": {
      "needs_background": "light"
     },
     "output_type": "display_data"
    }
   ],
   "source": [
    "# Test 데이터 결과 Confusion Matrix 확인\n",
    "confusion = confusion_matrix(y_test, RF_pred)\n",
    "fig, ax = plt.subplots(figsize=(10,3))\n",
    "plot_confusion_matrix(ax, confusion, fontsize=30)"
   ]
  },
  {
   "cell_type": "markdown",
   "metadata": {},
   "source": [
    "### 6. XGBClassifier"
   ]
  },
  {
   "cell_type": "code",
   "execution_count": 195,
   "metadata": {},
   "outputs": [],
   "source": [
    "xgb_y_train = y_train.map({-1 : 0.0, 1 : 1})\n",
    "xgb_y_val = y_val.map({-1 : 0.0, 1 : 1})\n",
    "xgb_y_test = y_test.map({-1 : 0.0, 1 : 1})"
   ]
  },
  {
   "cell_type": "code",
   "execution_count": 183,
   "metadata": {},
   "outputs": [],
   "source": [
    "XGB_model = XGBClassifier()"
   ]
  },
  {
   "cell_type": "code",
   "execution_count": 185,
   "metadata": {},
   "outputs": [
    {
     "data": {
      "text/plain": [
       "XGBClassifier(base_score=0.5, booster='gbtree', callbacks=None,\n",
       "              colsample_bylevel=1, colsample_bynode=1, colsample_bytree=1,\n",
       "              early_stopping_rounds=None, enable_categorical=False,\n",
       "              eval_metric=None, gamma=0, gpu_id=-1, grow_policy='depthwise',\n",
       "              importance_type=None, interaction_constraints='',\n",
       "              learning_rate=0.300000012, max_bin=256, max_cat_to_onehot=4,\n",
       "              max_delta_step=0, max_depth=6, max_leaves=0, min_child_weight=1,\n",
       "              missing=nan, monotone_constraints='()', n_estimators=100,\n",
       "              n_jobs=0, num_parallel_tree=1, predictor='auto', random_state=0,\n",
       "              reg_alpha=0, reg_lambda=1, ...)"
      ]
     },
     "execution_count": 185,
     "metadata": {},
     "output_type": "execute_result"
    }
   ],
   "source": [
    "XGB_model.fit(x_train, xgb_y_train)"
   ]
  },
  {
   "cell_type": "code",
   "execution_count": 188,
   "metadata": {},
   "outputs": [],
   "source": [
    "XGB_pred = XGB_model.predict(x_val)"
   ]
  },
  {
   "cell_type": "code",
   "execution_count": 197,
   "metadata": {},
   "outputs": [
    {
     "data": {
      "text/plain": [
       "array([[250,  20],\n",
       "       [ 14, 269]], dtype=int64)"
      ]
     },
     "execution_count": 197,
     "metadata": {},
     "output_type": "execute_result"
    }
   ],
   "source": [
    "confusion_matrix( xgb_y_val, XGB_pred  )"
   ]
  },
  {
   "cell_type": "code",
   "execution_count": 198,
   "metadata": {},
   "outputs": [
    {
     "name": "stdout",
     "output_type": "stream",
     "text": [
      "              precision    recall  f1-score   support\n",
      "\n",
      "         0.0       0.95      0.93      0.94       270\n",
      "         1.0       0.93      0.95      0.94       283\n",
      "\n",
      "    accuracy                           0.94       553\n",
      "   macro avg       0.94      0.94      0.94       553\n",
      "weighted avg       0.94      0.94      0.94       553\n",
      "\n"
     ]
    }
   ],
   "source": [
    "print(classification_report(xgb_y_val , XGB_pred  ))"
   ]
  },
  {
   "cell_type": "code",
   "execution_count": 199,
   "metadata": {},
   "outputs": [],
   "source": [
    "XGB_pred = XGB_model.predict(x_test)"
   ]
  },
  {
   "cell_type": "code",
   "execution_count": 200,
   "metadata": {},
   "outputs": [
    {
     "data": {
      "text/plain": [
       "array([[361,  27],\n",
       "       [ 24, 379]], dtype=int64)"
      ]
     },
     "execution_count": 200,
     "metadata": {},
     "output_type": "execute_result"
    }
   ],
   "source": [
    "confusion_matrix( xgb_y_test, XGB_pred  )"
   ]
  },
  {
   "cell_type": "code",
   "execution_count": 204,
   "metadata": {},
   "outputs": [
    {
     "name": "stdout",
     "output_type": "stream",
     "text": [
      "              precision    recall  f1-score   support\n",
      "\n",
      "         0.0       0.94      0.93      0.93       388\n",
      "         1.0       0.93      0.94      0.94       403\n",
      "\n",
      "    accuracy                           0.94       791\n",
      "   macro avg       0.94      0.94      0.94       791\n",
      "weighted avg       0.94      0.94      0.94       791\n",
      "\n"
     ]
    }
   ],
   "source": [
    "print(classification_report(xgb_y_test , XGB_pred  ))"
   ]
  },
  {
   "cell_type": "code",
   "execution_count": 203,
   "metadata": {},
   "outputs": [
    {
     "data": {
      "image/png": "[encoded data removed]",
      "text/plain": [
       "<Figure size 720x216 with 1 Axes>"
      ]
     },
     "metadata": {
      "needs_background": "light"
     },
     "output_type": "display_data"
    }
   ],
   "source": [
    "# Test 데이터 결과 Confusion Matrix 확인\n",
    "confusion = confusion_matrix(xgb_y_test, XGB_pred)\n",
    "fig, ax = plt.subplots(figsize=(10,3))\n",
    "plot_confusion_matrix(ax, confusion, fontsize=30)"
   ]
  },
  {
   "cell_type": "code",
   "execution_count": 207,
   "metadata": {},
   "outputs": [],
   "source": [
    "from sklearn.ensemble import StackingClassifier\n",
    "from sklearn.pipeline import make_pipeline"
   ]
  },
  {
   "cell_type": "code",
   "execution_count": 218,
   "metadata": {},
   "outputs": [],
   "source": [
    "estimators = [('lr', LogisticRegression()),\n",
    "              ('dt', DecisionTreeClassifier()),\n",
    "              ('knn', make_pipeline(MinMaxScaler(), KNeighborsClassifier())),\n",
    "              ('rf', RandomForestClassifier()),\n",
    "              ('xgb', XGBClassifier())]\n",
    "\n",
    "model_stacking = StackingClassifier(estimators=estimators\n",
    "                                    , final_estimator= RandomForestClassifier())"
   ]
  },
  {
   "cell_type": "code",
   "execution_count": 219,
   "metadata": {},
   "outputs": [
    {
     "data": {
      "text/plain": [
       "StackingClassifier(estimators=[('lr', LogisticRegression()),\n",
       "                               ('dt', DecisionTreeClassifier()),\n",
       "                               ('knn',\n",
       "                                Pipeline(steps=[('minmaxscaler',\n",
       "                                                 MinMaxScaler()),\n",
       "                                                ('kneighborsclassifier',\n",
       "                                                 KNeighborsClassifier())])),\n",
       "                               ('rf', RandomForestClassifier()),\n",
       "                               ('xgb',\n",
       "                                XGBClassifier(base_score=None, booster=None,\n",
       "                                              callbacks=None,\n",
       "                                              colsample_bylevel=None,\n",
       "                                              colsample_bynode=None,\n",
       "                                              colsample_b...\n",
       "                                              interaction_constraints=None,\n",
       "                                              learning_rate=None, max_bin=None,\n",
       "                                              max_cat_to_onehot=None,\n",
       "                                              max_delta_step=None,\n",
       "                                              max_depth=None, max_leaves=None,\n",
       "                                              min_child_weight=None,\n",
       "                                              missing=nan,\n",
       "                                              monotone_constraints=None,\n",
       "                                              n_estimators=100, n_jobs=None,\n",
       "                                              num_parallel_tree=None,\n",
       "                                              predictor=None, random_state=None,\n",
       "                                              reg_alpha=None, reg_lambda=None, ...))],\n",
       "                   final_estimator=RandomForestClassifier())"
      ]
     },
     "execution_count": 219,
     "metadata": {},
     "output_type": "execute_result"
    }
   ],
   "source": [
    "model_stacking.fit(x_train, y_train)"
   ]
  },
  {
   "cell_type": "code",
   "execution_count": 220,
   "metadata": {},
   "outputs": [],
   "source": [
    "stacking_pred = model_stacking.predict(x_val)"
   ]
  },
  {
   "cell_type": "code",
   "execution_count": 221,
   "metadata": {},
   "outputs": [
    {
     "data": {
      "text/plain": [
       "array([[249,  21],\n",
       "       [ 11, 272]], dtype=int64)"
      ]
     },
     "execution_count": 221,
     "metadata": {},
     "output_type": "execute_result"
    }
   ],
   "source": [
    "confusion_matrix( y_val, stacking_pred  )"
   ]
  },
  {
   "cell_type": "code",
   "execution_count": 222,
   "metadata": {},
   "outputs": [
    {
     "name": "stdout",
     "output_type": "stream",
     "text": [
      "              precision    recall  f1-score   support\n",
      "\n",
      "          -1       0.96      0.92      0.94       270\n",
      "           1       0.93      0.96      0.94       283\n",
      "\n",
      "    accuracy                           0.94       553\n",
      "   macro avg       0.94      0.94      0.94       553\n",
      "weighted avg       0.94      0.94      0.94       553\n",
      "\n"
     ]
    }
   ],
   "source": [
    "print(classification_report(y_val , stacking_pred  ))"
   ]
  },
  {
   "cell_type": "code",
   "execution_count": 225,
   "metadata": {},
   "outputs": [],
   "source": [
    "stacking_pred = model_stacking.predict(x_test)"
   ]
  },
  {
   "cell_type": "code",
   "execution_count": 226,
   "metadata": {},
   "outputs": [
    {
     "data": {
      "text/plain": [
       "array([[357,  31],\n",
       "       [ 30, 373]], dtype=int64)"
      ]
     },
     "execution_count": 226,
     "metadata": {},
     "output_type": "execute_result"
    }
   ],
   "source": [
    "confusion_matrix( y_test, stacking_pred  )"
   ]
  },
  {
   "cell_type": "code",
   "execution_count": 227,
   "metadata": {},
   "outputs": [
    {
     "name": "stdout",
     "output_type": "stream",
     "text": [
      "              precision    recall  f1-score   support\n",
      "\n",
      "          -1       0.92      0.92      0.92       388\n",
      "           1       0.92      0.93      0.92       403\n",
      "\n",
      "    accuracy                           0.92       791\n",
      "   macro avg       0.92      0.92      0.92       791\n",
      "weighted avg       0.92      0.92      0.92       791\n",
      "\n"
     ]
    }
   ],
   "source": [
    "print(classification_report(y_test , stacking_pred  ))"
   ]
  },
  {
   "cell_type": "code",
   "execution_count": 229,
   "metadata": {},
   "outputs": [
    {
     "data": {
      "image/png": "[encoded data removed]",
      "text/plain": [
       "<Figure size 720x216 with 1 Axes>"
      ]
     },
     "metadata": {
      "needs_background": "light"
     },
     "output_type": "display_data"
    }
   ],
   "source": [
    "confusion = confusion_matrix(y_test, stacking_pred)\n",
    "fig, ax = plt.subplots(figsize=(10,3))\n",
    "plot_confusion_matrix(ax, confusion, fontsize=30)"
   ]
  },
  {
   "cell_type": "code",
   "execution_count": null,
   "metadata": {},
   "outputs": [],
   "source": []
  }
 ],
 "metadata": {
  "kernelspec": {
   "display_name": "Python 3 (ipykernel)",
   "language": "python",
   "name": "python3"
  },
  "language_info": {
   "codemirror_mode": {
    "name": "ipython",
    "version": 3
   },
   "file_extension": ".py",
   "mimetype": "text/x-python",
   "name": "python",
   "nbconvert_exporter": "python",
   "pygments_lexer": "ipython3",
   "version": "3.9.7"
  },
  "vscode": {
   "interpreter": {
    "hash": "f08154012ddadd8e950e6e9e035c7a7b32c136e7647e9b7c77e02eb723a8bedb"
   }
  }
 },
 "nbformat": 4,
 "nbformat_minor": 4
}
