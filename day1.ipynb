{
 "cells": [
  {
   "cell_type": "markdown",
   "id": "3d2c8303",
   "metadata": {},
   "source": [
    "# 1일차"
   ]
  },
  {
   "cell_type": "markdown",
   "id": "7765f31b",
   "metadata": {},
   "source": [
    "## 미니 실습 1"
   ]
  },
  {
   "cell_type": "code",
   "execution_count": null,
   "id": "2165ba8e",
   "metadata": {},
   "outputs": [],
   "source": [
    "def f(a, b, c, d):\n",
    "    maximum = a\n",
    "    if b > maximum:\n",
    "        maximum = b\n",
    "    if c > maximum:\n",
    "        maximum = c\n",
    "    if d > maximum:\n",
    "        maximum = d\n",
    "    return maximum\n",
    "\n",
    "print(f(1, 2, 3, 4))"
   ]
  },
  {
   "cell_type": "markdown",
   "id": "c24dc795",
   "metadata": {},
   "source": [
    "## 미니 실습 2"
   ]
  },
  {
   "cell_type": "code",
   "execution_count": null,
   "id": "77cd5b88",
   "metadata": {},
   "outputs": [],
   "source": [
    "def waterPay(water):\n",
    "    a = water * 100\n",
    "\n",
    "    if water <= 50:\n",
    "        b = water * 150\n",
    "    else:\n",
    "        b = 50 * 150 + (water - 50) * 75\n",
    "    \n",
    "    print(\"A 수도회사 : \" + str(a))\n",
    "    print(\"B 수도회사 : \" + str(b))\n",
    "\n",
    "print(waterPay(100))"
   ]
  },
  {
   "cell_type": "markdown",
   "id": "5f6e2356",
   "metadata": {},
   "source": [
    "## 미니 실습 3"
   ]
  },
  {
   "cell_type": "code",
   "execution_count": null,
   "id": "74a2d4c7",
   "metadata": {},
   "outputs": [],
   "source": [
    "def f():\n",
    "    print('a부터 b까지 정수의 합을 구합니다.')\n",
    "    a = int(input('정수 a를 입력하세요.: '))\n",
    "    b = int(input('정수 b를 입력하세요.: '))\n",
    "    if a > b:\n",
    "        a, b = b, a\n",
    "    sum = 0\n",
    "    for i in range(a, b):\n",
    "        print(f'{i} + ', end='')\n",
    "        sum += i\n",
    "\n",
    "    print(f'{b} = ', end='')\n",
    "    sum += b\n",
    "\n",
    "    print(sum)\n",
    "\n",
    "f()"
   ]
  },
  {
   "cell_type": "markdown",
   "id": "c822bc5f",
   "metadata": {},
   "source": [
    "## 미니 실습 4"
   ]
  },
  {
   "cell_type": "code",
   "execution_count": null,
   "id": "b285f0c3",
   "metadata": {},
   "outputs": [],
   "source": [
    "def f():\n",
    "    area = int(input('직사각형의 넓이를 입력하세요.: '))\n",
    "\n",
    "    for i in range(1, area + 1):\n",
    "        if area % i: continue\n",
    "        print(f'{i} x {area // i}')\n",
    "    print(sum)\n",
    "\n",
    "f()"
   ]
  },
  {
   "cell_type": "markdown",
   "id": "f6ce6135",
   "metadata": {},
   "source": [
    "## 실습 1"
   ]
  },
  {
   "cell_type": "code",
   "execution_count": 17,
   "id": "bab12b1e",
   "metadata": {},
   "outputs": [
    {
     "name": "stdout",
     "output_type": "stream",
     "text": [
      "전기 사용량을 입력하세요.: 250\n",
      "33717\n"
     ]
    }
   ],
   "source": [
    "import math\n",
    "\n",
    "def electircPay(usage):\n",
    "    cost = 1600\n",
    "    if usage < 100:\n",
    "        cost += usage *60.7\n",
    "        \n",
    "    elif 100 <= usage < 200:\n",
    "        cost += 100 * 60.7 + (usage - 100) * 125.9\n",
    "    \n",
    "    elif usage >= 200:\n",
    "        cost += 100 * 60.7 + 100 * 125.9 + (usage - 200) * 187.9\n",
    "    \n",
    "    cost *= 1.137\n",
    "    \n",
    "    print(math.floor(cost))\n",
    "        \n",
    "    \n",
    "electircPay(int(input('전기 사용량을 입력하세요.: ')))"
   ]
  },
  {
   "cell_type": "markdown",
   "id": "575035b8",
   "metadata": {},
   "source": [
    "## 실습 2"
   ]
  },
  {
   "cell_type": "code",
   "execution_count": 28,
   "id": "b650f320",
   "metadata": {},
   "outputs": [
    {
     "name": "stdout",
     "output_type": "stream",
     "text": [
      "몇번 출력할까요?: 12\n",
      "-+-+-+-+-+-+\n"
     ]
    }
   ],
   "source": [
    "def func(a):\n",
    "    for i in range(a):\n",
    "        if i % 2 == 0:\n",
    "            print('+', end='')\n",
    "        else:\n",
    "            print('-', end='')\n",
    "    print()\n",
    "\n",
    "\n",
    "func(int(input('몇번 출력할까요?: ')))"
   ]
  },
  {
   "cell_type": "markdown",
   "id": "18b40ba9",
   "metadata": {},
   "source": [
    "## 실습 3"
   ]
  },
  {
   "cell_type": "code",
   "execution_count": 30,
   "id": "e45a30c9",
   "metadata": {},
   "outputs": [
    {
     "name": "stdout",
     "output_type": "stream",
     "text": [
      "1 2 3 4 5 6 7 9 10 11 12 \n"
     ]
    }
   ],
   "source": [
    "for i in range(1,13):\n",
    "    if i == 8:\n",
    "        continue\n",
    "    else:\n",
    "        print(i, end=\" \")\n",
    "print()"
   ]
  },
  {
   "cell_type": "markdown",
   "id": "0590f763",
   "metadata": {},
   "source": [
    "## 실습 4"
   ]
  },
  {
   "cell_type": "code",
   "execution_count": 9,
   "id": "1ec5c40c",
   "metadata": {},
   "outputs": [
    {
     "name": "stdout",
     "output_type": "stream",
     "text": [
      "정수를 입력하세요.: 4\n",
      "0 2\n",
      "0 3\n",
      "0 4\n",
      "0 5\n",
      "1 2\n",
      "1 3\n",
      "1 4\n",
      "1 5\n",
      "2 2\n",
      "root: 2, pwr: 2\n"
     ]
    }
   ],
   "source": [
    "def func():\n",
    "    n = int(input('정수를 입력하세요.: '))\n",
    "\n",
    "    for i in range(n//2+1):\n",
    "        for j in range(2,6):\n",
    "            print(i, j)\n",
    "            if i**j == n:\n",
    "                print(f\"root: {i}, pwr: {j}\")\n",
    "                return None\n",
    "            \n",
    "    print(\"결과가 없습니다.\")\n",
    "    \n",
    "func()"
   ]
  }
 ],
 "metadata": {
  "kernelspec": {
   "display_name": "Python 3 (ipykernel)",
   "language": "python",
   "name": "python3"
  },
  "language_info": {
   "codemirror_mode": {
    "name": "ipython",
    "version": 3
   },
   "file_extension": ".py",
   "mimetype": "text/x-python",
   "name": "python",
   "nbconvert_exporter": "python",
   "pygments_lexer": "ipython3",
   "version": "3.9.7"
  }
 },
 "nbformat": 4,
 "nbformat_minor": 5
}
