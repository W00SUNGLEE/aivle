{
 "cells": [
  {
   "cell_type": "markdown",
   "id": "43dbb0e9-988c-4205-bdfd-fa1ac4615657",
   "metadata": {},
   "source": [
    "### CSS Selector\n",
    "    - css 스타일을 적용 시킬 HTML 엘리먼트를 선택하는 방법"
   ]
  },
  {
   "cell_type": "code",
   "execution_count": 2,
   "id": "b3d8357e-e347-4007-8c5a-4f444887b57e",
   "metadata": {},
   "outputs": [],
   "source": [
    "# 1. Element Tag 이름으로 선택\n",
    "# css selector : span : python 3 선택"
   ]
  },
  {
   "cell_type": "code",
   "execution_count": 5,
   "id": "aef8ea90-b88e-4e03-9042-4dfede81a286",
   "metadata": {},
   "outputs": [
    {
     "data": {
      "text/html": [
       "<div id=\"kt\">\n",
       "    <div>python 1</div>\n",
       "    <p>python 2</p>\n",
       "    <span>python 3</span>\n",
       "</div>\n"
      ],
      "text/plain": [
       "<IPython.core.display.HTML object>"
      ]
     },
     "metadata": {},
     "output_type": "display_data"
    }
   ],
   "source": [
    "%%html\n",
    "<div id=\"kt\">\n",
    "    <div>python 1</div>\n",
    "    <p>python 2</p>\n",
    "    <span>python 3</span>\n",
    "</div>"
   ]
  },
  {
   "cell_type": "code",
   "execution_count": 6,
   "id": "bbd1eb2c-eec1-4852-94b7-223665f98a12",
   "metadata": {},
   "outputs": [],
   "source": [
    "# 2. Tag의 id 값으로 선택\n",
    "# css selector : #kt2 : python 2 선택"
   ]
  },
  {
   "cell_type": "code",
   "execution_count": 15,
   "id": "d79e3117-a6a7-4272-8eba-cf104e9ced57",
   "metadata": {},
   "outputs": [
    {
     "data": {
      "text/html": [
       "<div class=\"kt\">\n",
       "    <p id=\"kt1\">python 1</p>\n",
       "    <p id=\"kt2\">python 2</p>\n",
       "    <p id=\"kt3\">python 3</p>\n",
       "</div>\n"
      ],
      "text/plain": [
       "<IPython.core.display.HTML object>"
      ]
     },
     "metadata": {},
     "output_type": "display_data"
    }
   ],
   "source": [
    "%%html\n",
    "<div class=\"kt\">\n",
    "    <p id=\"kt1\">python 1</p>\n",
    "    <p id=\"kt2\">python 2</p>\n",
    "    <p id=\"kt3\">python 3</p>\n",
    "</div>"
   ]
  },
  {
   "cell_type": "code",
   "execution_count": 13,
   "id": "673992de-3100-48bd-b580-c67c3f1536ea",
   "metadata": {},
   "outputs": [],
   "source": [
    "# 3. class의 id 값으로 선택\n",
    "# css selector : .kt2 : python 2 선택\n",
    "# css selector : .kt : python 1, python 2, python 3 선택"
   ]
  },
  {
   "cell_type": "code",
   "execution_count": 14,
   "id": "c95ce733-e42f-4ad4-a962-90d73e84be53",
   "metadata": {},
   "outputs": [
    {
     "data": {
      "text/html": [
       "<p class=\"kt kt1\">python 1</p>\n",
       "<p class=\"kt kt2\">python 2</p>\n",
       "<p class=\"kt kt3\">python 3</p>\n"
      ],
      "text/plain": [
       "<IPython.core.display.HTML object>"
      ]
     },
     "metadata": {},
     "output_type": "display_data"
    }
   ],
   "source": [
    "%%html\n",
    "<p class=\"kt kt1\">python 1</p>\n",
    "<p class=\"kt kt2\">python 2</p>\n",
    "<p class=\"kt kt3\">python 3</p>"
   ]
  },
  {
   "cell_type": "code",
   "execution_count": null,
   "id": "268ec88f-a57f-4a6e-a9cf-c1814594e644",
   "metadata": {},
   "outputs": [],
   "source": [
    "# 4. Tag의 attr 값으로 선택\n",
    "# css selector : [value=\"no2\"] : python 2 선택"
   ]
  },
  {
   "cell_type": "code",
   "execution_count": 11,
   "id": "13db3f98-8803-444f-828b-7a07ecf1fe5e",
   "metadata": {},
   "outputs": [
    {
     "data": {
      "text/html": [
       "<p value=\"no1\">python 1</p>\n",
       "<p value=\"no2\">python 2</p>\n",
       "<p value=\"no3\">python 3</p>\n"
      ],
      "text/plain": [
       "<IPython.core.display.HTML object>"
      ]
     },
     "metadata": {},
     "output_type": "display_data"
    }
   ],
   "source": [
    "%%html\n",
    "<p value=\"no1\">python 1</p>\n",
    "<p value=\"no2\">python 2</p>\n",
    "<p value=\"no3\">python 3</p>"
   ]
  },
  {
   "cell_type": "code",
   "execution_count": 16,
   "id": "14bbfc4b-e135-4673-a727-de3ac96fa7bd",
   "metadata": {},
   "outputs": [],
   "source": [
    "# 5. 여러개의 엘리먼트 선택\n",
    "# not selector\n",
    "# class no 엘리먼트 모두 선택하고,\n",
    "# no2 클래스를 갖는 엘리먼트만 제외\n",
    "# css selector : .no:not(.no2) : python 1, python 3"
   ]
  },
  {
   "cell_type": "code",
   "execution_count": 18,
   "id": "e3259714-77a2-4a89-9b2d-c53ce84b5b64",
   "metadata": {},
   "outputs": [
    {
     "data": {
      "text/html": [
       "<p class=\"no no1\">python 1</p>\n",
       "<p class=\"no no2\">python 2</p>\n",
       "<p class=\"no no3\">python 3</p>\n"
      ],
      "text/plain": [
       "<IPython.core.display.HTML object>"
      ]
     },
     "metadata": {},
     "output_type": "display_data"
    }
   ],
   "source": [
    "%%html\n",
    "<p class=\"no no1\">python 1</p>\n",
    "<p class=\"no no2\">python 2</p>\n",
    "<p class=\"no no3\">python 3</p>"
   ]
  },
  {
   "cell_type": "code",
   "execution_count": 19,
   "id": "34b70c25-e120-45fa-832e-b1e4dc11f132",
   "metadata": {},
   "outputs": [],
   "source": [
    "# 6. n 번째 엘리먼트 선택\n",
    "# css selector : .py:nth-child(2): python 2 선택 # 0이 아닌 1부터 시작\n",
    "# .py 엘리먼트 중에서 2번째 : X\n",
    "# 2번째 엘리먼트중에서 .py클래스를 갖는 : O"
   ]
  },
  {
   "cell_type": "code",
   "execution_count": 22,
   "id": "8f2c7a4e-044b-4c75-8316-5cc878b92431",
   "metadata": {},
   "outputs": [
    {
     "data": {
      "text/html": [
       "<div>\n",
       "    <p class=\"py\">python 1</p>\n",
       "    <span>python 0</span>\n",
       "    <p class=\"py\">python 2</p>\n",
       "    <p class=\"py\">python 3</p>\n",
       "</div>\n",
       "<div>\n",
       "    <p class=\"py\">python 1</p>\n",
       "    <p class=\"py\">python 2</p>\n",
       "    <p class=\"py\">python 3</p>\n",
       "</div>\n"
      ],
      "text/plain": [
       "<IPython.core.display.HTML object>"
      ]
     },
     "metadata": {},
     "output_type": "display_data"
    }
   ],
   "source": [
    "%%html\n",
    "<div>\n",
    "    <p class=\"py\">python 1</p>\n",
    "    <span>python 0</span>\n",
    "    <p class=\"py\">python 2</p>\n",
    "    <p class=\"py\">python 3</p>\n",
    "</div>\n",
    "<div>\n",
    "    <p class=\"py\">python 1</p>\n",
    "    <p class=\"py\">python 2</p>\n",
    "    <p class=\"py\">python 3</p>\n",
    "</div>"
   ]
  },
  {
   "cell_type": "code",
   "execution_count": null,
   "id": "112c9f67-01d5-49f4-bb3b-e720ae22d427",
   "metadata": {},
   "outputs": [],
   "source": [
    "# 7. 계층적으로 엘리먼트 선택\n",
    "# .wrap > p : inner 1 선택\n",
    "# .wrap p : inner 1, inner 2 선택"
   ]
  },
  {
   "cell_type": "code",
   "execution_count": 23,
   "id": "290d331e-e349-44d4-b9ae-5c4e2554ab4b",
   "metadata": {},
   "outputs": [
    {
     "data": {
      "text/html": [
       "<div class=\"wrap\">\n",
       "    <p>inner 1</p>\n",
       "    <div>\n",
       "        <p>inner 2</p>\n",
       "    </div>\n",
       "\n",
       "</div>\n"
      ],
      "text/plain": [
       "<IPython.core.display.HTML object>"
      ]
     },
     "metadata": {},
     "output_type": "display_data"
    }
   ],
   "source": [
    "%%html\n",
    "<div class=\"wrap\">\n",
    "    <p>inner 1</p>\n",
    "    <div>\n",
    "        <p>inner 2</p>\n",
    "    </div>\n",
    "\n",
    "</div>"
   ]
  },
  {
   "cell_type": "code",
   "execution_count": 24,
   "id": "77f4cc17-ce03-4cc1-b32c-c0a4c254a233",
   "metadata": {},
   "outputs": [],
   "source": [
    "# 8. 여러개의 엘리먼트 선택\n",
    "# .py1, .py3 : python 1, python 3 선택"
   ]
  },
  {
   "cell_type": "code",
   "execution_count": 25,
   "id": "fe982a5a-4ff9-4396-8bb8-7fb006ea76d0",
   "metadata": {},
   "outputs": [
    {
     "data": {
      "text/html": [
       "<p class=\"py1\">python 1</p>\n",
       "<p class=\"py2\">python 2</p>\n",
       "<p class=\"py3\">python 3</p>\n"
      ],
      "text/plain": [
       "<IPython.core.display.HTML object>"
      ]
     },
     "metadata": {},
     "output_type": "display_data"
    }
   ],
   "source": [
    "%%html\n",
    "<p class=\"py1\">python 1</p>\n",
    "<p class=\"py2\">python 2</p>\n",
    "<p class=\"py3\">python 3</p>"
   ]
  },
  {
   "cell_type": "code",
   "execution_count": null,
   "id": "134603ac-0e50-4540-8937-d46f85505f3e",
   "metadata": {},
   "outputs": [],
   "source": [
    "# 엘리먼트 하나 선택\n",
    "# tag 이름 : span\n",
    "# id : #kt\n",
    "# class : .kt\n",
    "# attr : [value=\"kt\"]\n",
    "\n",
    "# 여러개의 엘리먼트 선택\n",
    "# :not(.kt1)\n",
    "# :nth-child(n)\n",
    "# .wrap > p : 한단계 하위 엘리먼트\n",
    "# .wrap p : 모든 하위 엘리먼트\n",
    "# .kt1, .kt2 : 선택하는 모든 엘리먼트 선택"
   ]
  }
 ],
 "metadata": {
  "kernelspec": {
   "display_name": "Python 3 (ipykernel)",
   "language": "python",
   "name": "python3"
  },
  "language_info": {
   "codemirror_mode": {
    "name": "ipython",
    "version": 3
   },
   "file_extension": ".py",
   "mimetype": "text/x-python",
   "name": "python",
   "nbconvert_exporter": "python",
   "pygments_lexer": "ipython3",
   "version": "3.9.7"
  }
 },
 "nbformat": 4,
 "nbformat_minor": 5
}
