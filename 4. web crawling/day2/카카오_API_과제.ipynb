{
 "cells": [
  {
   "cell_type": "markdown",
   "id": "a0b877eb-601f-48bd-acce-06fcfe5a3de9",
   "metadata": {},
   "source": [
    "# 카카오 API 사용해서 주소 -> 경도, 위도, 우편번호"
   ]
  },
  {
   "cell_type": "markdown",
   "id": "f9ddd12f-0b59-4179-bdad-811fc1d6ca9d",
   "metadata": {},
   "source": [
    "### 주소 검색하기\n",
    "##### https://developers.kakao.com/docs/latest/ko/local/dev-guide#address-coord"
   ]
  },
  {
   "cell_type": "markdown",
   "id": "65eb6c6a-9785-4c99-8535-8c51011bb253",
   "metadata": {},
   "source": [
    "### 1. application key"
   ]
  },
  {
   "cell_type": "code",
   "execution_count": 98,
   "id": "2f9b3c41-7b67-4432-90ac-0d920e65e479",
   "metadata": {},
   "outputs": [],
   "source": [
    "# %pip install python-dotenv\n",
    "\n",
    "from dotenv import load_dotenv\n",
    "import os\n",
    "load_dotenv()\n",
    "\n",
    "# REST_API_KEY 환경변수에 저장했어요. 본인 키 사용\n",
    "REST_API_KEY = os.environ.get(\"rest_app_key\")"
   ]
  },
  {
   "cell_type": "markdown",
   "id": "16abf4aa-07cc-48fc-8eb5-88d12b5562f0",
   "metadata": {},
   "source": [
    "### 2. document : url, parems, headers"
   ]
  },
  {
   "cell_type": "code",
   "execution_count": 104,
   "id": "bfe2a621-984b-4973-85e9-038c3a32e98f",
   "metadata": {},
   "outputs": [],
   "source": [
    "import pandas as pd\n",
    "import requests"
   ]
  },
  {
   "cell_type": "code",
   "execution_count": 107,
   "id": "7d9156bb-5086-4b00-a213-71903fc2559b",
   "metadata": {},
   "outputs": [],
   "source": [
    "query = \"경기도 성남시 분당구 불정로 90 KT 본사\"\n",
    "\n",
    "url = \"https://dapi.kakao.com/v2/local/search/address.json\"\n",
    "\n",
    "params = {\n",
    "    \"query\": query\n",
    "}\n",
    "\n",
    "headers = {\n",
    "    \"Authorization\": f\"KakaoAK {REST_API_KEY}\"\n",
    "}"
   ]
  },
  {
   "cell_type": "markdown",
   "id": "f2645553-5a24-4c84-bbb8-f75ae2828b39",
   "metadata": {
    "tags": []
   },
   "source": [
    "### 3. requests(url, params, headers) > response(json) : JSON(str)"
   ]
  },
  {
   "cell_type": "code",
   "execution_count": 108,
   "id": "73568064-a280-4b93-b209-6ace952da069",
   "metadata": {},
   "outputs": [
    {
     "data": {
      "text/plain": [
       "<Response [200]>"
      ]
     },
     "execution_count": 108,
     "metadata": {},
     "output_type": "execute_result"
    }
   ],
   "source": [
    "response = requests.get(url, data=params, headers=headers)\n",
    "response"
   ]
  },
  {
   "cell_type": "code",
   "execution_count": 109,
   "id": "a27162bc-fe76-4b35-9333-e257924b0fe4",
   "metadata": {},
   "outputs": [
    {
     "data": {
      "text/plain": [
       "'{\"documents\":[{\"address\":{\"address_name\":\"경기 성남시 분당구 정자동 206\",\"b_code\":\"4113510300\",\"h_code\":\"4113557000\",\"main_address_no\":\"206\",\"mountain_yn\":\"N\",\"region_1depth_name\":\"경기\",\"region_2depth_name\":\"성남시 분당구\",\"region_3depth_h_name\":\"정자3동\",\"region_3depth_name\":\"정자동\",\"sub_address_no\":\"\",\"x\":\"127.114936252016\",\"y\":\"37.3587823498654\"},\"address_name\":\"경기 성남시 분당구 불정로 90\",\"address_type\":\"ROAD_ADDR\",\"road_address\":{\"address_name\":\"경기 성남시 분당구 불정로 90\",\"building_name\":\"KT본사\",\"main_building_no\":\"90\",\"region_1depth_name\":\"경기\",\"region_2depth_name\":\"성남시 분당구\",\"region_3depth_name\":\"정자동\",\"road_name\":\"불정로\",\"sub_building_no\":\"\",\"underground_yn\":\"N\",\"x\":\"127.114936252016\",\"y\":\"37.3587823498654\",\"zone_no\":\"13606\"},\"x\":\"127.114936252016\",\"y\":\"37.3587823498654\"}],\"meta\":{\"is_end\":true,\"pageable_count\":1,\"total_count\":1}}'"
      ]
     },
     "execution_count": 109,
     "metadata": {},
     "output_type": "execute_result"
    }
   ],
   "source": [
    "response.text"
   ]
  },
  {
   "cell_type": "markdown",
   "id": "dee59447-48c4-4772-817e-1fb23b994877",
   "metadata": {},
   "source": [
    "### 4. JSON(str) > prepocessing > data"
   ]
  },
  {
   "cell_type": "code",
   "execution_count": 110,
   "id": "103e56f6-a5d4-4cfa-9e15-2990f4d0dee2",
   "metadata": {},
   "outputs": [
    {
     "data": {
      "text/plain": [
       "{'address': {'address_name': '경기 성남시 분당구 정자동 206',\n",
       "  'b_code': '4113510300',\n",
       "  'h_code': '4113557000',\n",
       "  'main_address_no': '206',\n",
       "  'mountain_yn': 'N',\n",
       "  'region_1depth_name': '경기',\n",
       "  'region_2depth_name': '성남시 분당구',\n",
       "  'region_3depth_h_name': '정자3동',\n",
       "  'region_3depth_name': '정자동',\n",
       "  'sub_address_no': '',\n",
       "  'x': '127.114936252016',\n",
       "  'y': '37.3587823498654'},\n",
       " 'address_name': '경기 성남시 분당구 불정로 90',\n",
       " 'address_type': 'ROAD_ADDR',\n",
       " 'road_address': {'address_name': '경기 성남시 분당구 불정로 90',\n",
       "  'building_name': 'KT본사',\n",
       "  'main_building_no': '90',\n",
       "  'region_1depth_name': '경기',\n",
       "  'region_2depth_name': '성남시 분당구',\n",
       "  'region_3depth_name': '정자동',\n",
       "  'road_name': '불정로',\n",
       "  'sub_building_no': '',\n",
       "  'underground_yn': 'N',\n",
       "  'x': '127.114936252016',\n",
       "  'y': '37.3587823498654',\n",
       "  'zone_no': '13606'},\n",
       " 'x': '127.114936252016',\n",
       " 'y': '37.3587823498654'}"
      ]
     },
     "execution_count": 110,
     "metadata": {},
     "output_type": "execute_result"
    }
   ],
   "source": [
    "data = response.json()[\"documents\"][0]\n",
    "data"
   ]
  },
  {
   "cell_type": "code",
   "execution_count": 111,
   "id": "401cd66b-c5a8-47ee-b221-a8f3d4ff766f",
   "metadata": {},
   "outputs": [
    {
     "name": "stdout",
     "output_type": "stream",
     "text": [
      "경도: 127.114936252016\n",
      "위도: 37.3587823498654\n",
      "우편번호: 13606\n"
     ]
    }
   ],
   "source": [
    "x = data[\"x\"]\n",
    "y = data[\"y\"]\n",
    "zone_no = data[\"road_address\"][\"zone_no\"]\n",
    "\n",
    "print(\"경도: {}\".format(x))\n",
    "print(\"위도: {}\".format(y))\n",
    "print(\"우편번호: {}\".format(zone_no))"
   ]
  },
  {
   "cell_type": "markdown",
   "id": "b1ee4a4e-a72a-494b-a42a-6f7f9a7f463d",
   "metadata": {},
   "source": [
    "# 카카오 API 사용해서 경도, 위도 -> 주소, 우편번호"
   ]
  },
  {
   "cell_type": "markdown",
   "id": "3c21215b-7ef4-4856-845b-179badade100",
   "metadata": {},
   "source": [
    "### 좌표로 주소 변환하기"
   ]
  },
  {
   "cell_type": "markdown",
   "id": "1e729f8a-c10c-4483-83dc-d96a5b647c3a",
   "metadata": {},
   "source": [
    "##### https://developers.kakao.com/docs/latest/ko/local/dev-guide#coord-to-address"
   ]
  },
  {
   "cell_type": "markdown",
   "id": "cd6b4e8c-fa02-4c8b-8ab9-ab42451cb8bf",
   "metadata": {},
   "source": [
    "### 1. document : url, parems, headers"
   ]
  },
  {
   "cell_type": "code",
   "execution_count": 112,
   "id": "2ead4ae9-a82c-4f81-ac15-f2b3d4cb90df",
   "metadata": {},
   "outputs": [],
   "source": [
    "import pandas as pd\n",
    "import requests"
   ]
  },
  {
   "cell_type": "code",
   "execution_count": 113,
   "id": "f8a1b777-a290-432f-ba24-2c18805ff7f6",
   "metadata": {},
   "outputs": [],
   "source": [
    "# 앞에서 얻은 x, y 값 사용\n",
    "url = f\"https://dapi.kakao.com/v2/local/geo/coord2address.json?x={x}&y={y}\"\n",
    "\n",
    "headers = {\n",
    "    \"Authorization\": f\"KakaoAK {REST_API_KEY}\"\n",
    "}"
   ]
  },
  {
   "cell_type": "markdown",
   "id": "f3cb0afb-5811-4770-b6a6-897d6d26b457",
   "metadata": {},
   "source": [
    "### 2. requests(url, params, headers) > response(json) : JSON(str)"
   ]
  },
  {
   "cell_type": "code",
   "execution_count": 114,
   "id": "a52aab73-cf10-49b3-b754-add7f4cb25ff",
   "metadata": {},
   "outputs": [
    {
     "data": {
      "text/plain": [
       "<Response [200]>"
      ]
     },
     "execution_count": 114,
     "metadata": {},
     "output_type": "execute_result"
    }
   ],
   "source": [
    "response = requests.get(url, headers=headers)\n",
    "response"
   ]
  },
  {
   "cell_type": "code",
   "execution_count": 115,
   "id": "9709846c-91db-4a30-8893-f15945f7cc68",
   "metadata": {},
   "outputs": [
    {
     "data": {
      "text/plain": [
       "'{\"meta\":{\"total_count\":1},\"documents\":[{\"road_address\":{\"address_name\":\"경기도 성남시 분당구 불정로 90\",\"region_1depth_name\":\"경기\",\"region_2depth_name\":\"성남시 분당구\",\"region_3depth_name\":\"\",\"road_name\":\"불정로\",\"underground_yn\":\"N\",\"main_building_no\":\"90\",\"sub_building_no\":\"\",\"building_name\":\"KT본사\",\"zone_no\":\"13606\"},\"address\":{\"address_name\":\"경기 성남시 분당구 정자동 206\",\"region_1depth_name\":\"경기\",\"region_2depth_name\":\"성남시 분당구\",\"region_3depth_name\":\"정자동\",\"mountain_yn\":\"N\",\"main_address_no\":\"206\",\"sub_address_no\":\"\",\"zip_code\":\"\"}}]}'"
      ]
     },
     "execution_count": 115,
     "metadata": {},
     "output_type": "execute_result"
    }
   ],
   "source": [
    "response.text"
   ]
  },
  {
   "cell_type": "markdown",
   "id": "23decf22-2492-4e6a-8e57-d349747b7964",
   "metadata": {},
   "source": [
    "### 3 JSON(str) > prepocessing > data"
   ]
  },
  {
   "cell_type": "code",
   "execution_count": 116,
   "id": "d34727cf-277b-4604-8ba6-d1b3cd7df847",
   "metadata": {},
   "outputs": [
    {
     "data": {
      "text/plain": [
       "{'road_address': {'address_name': '경기도 성남시 분당구 불정로 90',\n",
       "  'region_1depth_name': '경기',\n",
       "  'region_2depth_name': '성남시 분당구',\n",
       "  'region_3depth_name': '',\n",
       "  'road_name': '불정로',\n",
       "  'underground_yn': 'N',\n",
       "  'main_building_no': '90',\n",
       "  'sub_building_no': '',\n",
       "  'building_name': 'KT본사',\n",
       "  'zone_no': '13606'},\n",
       " 'address': {'address_name': '경기 성남시 분당구 정자동 206',\n",
       "  'region_1depth_name': '경기',\n",
       "  'region_2depth_name': '성남시 분당구',\n",
       "  'region_3depth_name': '정자동',\n",
       "  'mountain_yn': 'N',\n",
       "  'main_address_no': '206',\n",
       "  'sub_address_no': '',\n",
       "  'zip_code': ''}}"
      ]
     },
     "execution_count": 116,
     "metadata": {},
     "output_type": "execute_result"
    }
   ],
   "source": [
    "data = response.json()[\"documents\"][0]\n",
    "data"
   ]
  },
  {
   "cell_type": "code",
   "execution_count": 120,
   "id": "3e4ffb83-15ea-412c-ba34-96dd81b0e583",
   "metadata": {},
   "outputs": [
    {
     "name": "stdout",
     "output_type": "stream",
     "text": [
      "도로명 주소: 경기도 성남시 분당구 불정로 90\n",
      "지번 주소: 경기 성남시 분당구 정자동 206\n",
      "우편번호: 13606\n"
     ]
    }
   ],
   "source": [
    "road_address = data[\"road_address\"][\"address_name\"]\n",
    "address = data[\"address\"][\"address_name\"]\n",
    "zone_no = data[\"road_address\"][\"zone_no\"]\n",
    "\n",
    "print(\"도로명 주소: {}\".format(road_address))\n",
    "print(\"지번 주소: {}\".format(address))\n",
    "print(\"우편번호: {}\".format(zone_no))"
   ]
  },
  {
   "cell_type": "code",
   "execution_count": null,
   "id": "c1e262d8-74b4-4f76-892c-5d556459f246",
   "metadata": {},
   "outputs": [],
   "source": []
  }
 ],
 "metadata": {
  "kernelspec": {
   "display_name": "Python 3 (ipykernel)",
   "language": "python",
   "name": "python3"
  },
  "language_info": {
   "codemirror_mode": {
    "name": "ipython",
    "version": 3
   },
   "file_extension": ".py",
   "mimetype": "text/x-python",
   "name": "python",
   "nbconvert_exporter": "python",
   "pygments_lexer": "ipython3",
   "version": "3.9.7"
  }
 },
 "nbformat": 4,
 "nbformat_minor": 5
}
