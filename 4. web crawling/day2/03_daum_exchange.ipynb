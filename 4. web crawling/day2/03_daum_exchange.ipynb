{
 "cells": [
  {
   "cell_type": "markdown",
   "id": "cee828bc-e88c-4956-a86c-8ebd7d5b6c85",
   "metadata": {},
   "source": [
    "### Daum Exchange\n",
    "    - 환율정보 수집\n",
    "    - headers : referer, user_agent"
   ]
  },
  {
   "cell_type": "code",
   "execution_count": 3,
   "id": "cf8f959f-e0c7-4b92-a1c4-445786002128",
   "metadata": {},
   "outputs": [],
   "source": [
    "import pandas as pd\n",
    "import requests"
   ]
  },
  {
   "cell_type": "code",
   "execution_count": 1,
   "id": "31f7a168-195a-43ec-9608-0e568b93e81a",
   "metadata": {},
   "outputs": [],
   "source": [
    "# 1. 웹서비스를 분석 : 크롬 개발자 도구 : URL"
   ]
  },
  {
   "cell_type": "code",
   "execution_count": 12,
   "id": "3e4d1d7a-3e6c-4276-8c07-3c97624415d7",
   "metadata": {},
   "outputs": [],
   "source": [
    "url = \"https://finance.daum.net/api/exchanges/summaries\"\n",
    "\n",
    "headers = {\n",
    "        \"referer\" : \"https://finance.daum.net/exchanges\",\n",
    "        \"user-agent\" : \"Mozilla/5.0 (Windows NT 10.0; Win64; x64) AppleWebKit/537.36 (KHTML, like Gecko) Chrome/103.0.0.0 Safari/537.36\"\n",
    "}"
   ]
  },
  {
   "cell_type": "code",
   "execution_count": 21,
   "id": "a0956e55-7d74-48bc-9f62-1cda7531ef91",
   "metadata": {},
   "outputs": [
    {
     "data": {
      "text/plain": [
       "<Response [200]>"
      ]
     },
     "execution_count": 21,
     "metadata": {},
     "output_type": "execute_result"
    }
   ],
   "source": [
    "# 2. request > response : JSON(str)\n",
    "response = requests.get(url, headers=headers)\n",
    "response"
   ]
  },
  {
   "cell_type": "code",
   "execution_count": 15,
   "id": "92cb9ead-e8c2-470b-9bee-7b81700b7a06",
   "metadata": {},
   "outputs": [
    {
     "data": {
      "text/plain": [
       "{'symbolCode': 'FRX.KRWUSD',\n",
       " 'date': '2022-08-04 14:01:59',\n",
       " 'currencyCode': 'USD',\n",
       " 'currencyName': '달러',\n",
       " 'currencyUnit': 1,\n",
       " 'country': '미국',\n",
       " 'region': {'korName': '아메리카', 'engName': 'America'},\n",
       " 'name': '미국 (KRW/USD)',\n",
       " 'recurrenceCount': 217,\n",
       " 'basePrice': 1310.9,\n",
       " 'change': 'FALL',\n",
       " 'changePrice': 1.1,\n",
       " 'changeRate': 0.0008384146,\n",
       " 'cashBuyingPrice': 1333.84,\n",
       " 'cashSellingPrice': 1287.96,\n",
       " 'ttBuyingPrice': 1298.1,\n",
       " 'ttSellingPrice': 1323.7,\n",
       " 'tcBuyingPrice': None,\n",
       " 'fcSellingPrice': None,\n",
       " 'exchangeCommission': 4.1374,\n",
       " 'usDollarRate': 1.0,\n",
       " 'chartImageUrl': {'day': 'https://t1.daumcdn.net/finance/chart/kr/daumforex/d/FRX.KRWUSD.png',\n",
       "  'month': 'https://t1.daumcdn.net/finance/chart/kr/daumforex/m/FRX.KRWUSD.png',\n",
       "  'month3': 'https://t1.daumcdn.net/finance/chart/kr/daumforex/m3/FRX.KRWUSD.png',\n",
       "  'year': 'https://t1.daumcdn.net/finance/chart/kr/daumforex/y/FRX.KRWUSD.png'}}"
      ]
     },
     "execution_count": 15,
     "metadata": {},
     "output_type": "execute_result"
    }
   ],
   "source": [
    "data = response.json()['data'] \n",
    "data[0]"
   ]
  },
  {
   "cell_type": "code",
   "execution_count": null,
   "id": "2f648283-746b-431d-8c79-1e6473dc7f20",
   "metadata": {},
   "outputs": [],
   "source": [
    "# 3. JSON(str) > list, dict > DataFrame"
   ]
  },
  {
   "cell_type": "code",
   "execution_count": 17,
   "id": "dc001575-d448-4c81-9e11-9fc9f10e91fc",
   "metadata": {},
   "outputs": [
    {
     "data": {
      "text/html": [
       "<div>\n",
       "<style scoped>\n",
       "    .dataframe tbody tr th:only-of-type {\n",
       "        vertical-align: middle;\n",
       "    }\n",
       "\n",
       "    .dataframe tbody tr th {\n",
       "        vertical-align: top;\n",
       "    }\n",
       "\n",
       "    .dataframe thead th {\n",
       "        text-align: right;\n",
       "    }\n",
       "</style>\n",
       "<table border=\"1\" class=\"dataframe\">\n",
       "  <thead>\n",
       "    <tr style=\"text-align: right;\">\n",
       "      <th></th>\n",
       "      <th>symbolCode</th>\n",
       "      <th>currencyCode</th>\n",
       "      <th>basePrice</th>\n",
       "    </tr>\n",
       "  </thead>\n",
       "  <tbody>\n",
       "    <tr>\n",
       "      <th>40</th>\n",
       "      <td>FRX.KRWQAR</td>\n",
       "      <td>QAR</td>\n",
       "      <td>357.88</td>\n",
       "    </tr>\n",
       "    <tr>\n",
       "      <th>41</th>\n",
       "      <td>FRX.KRWTRY</td>\n",
       "      <td>TRY</td>\n",
       "      <td>73.06</td>\n",
       "    </tr>\n",
       "  </tbody>\n",
       "</table>\n",
       "</div>"
      ],
      "text/plain": [
       "    symbolCode currencyCode  basePrice\n",
       "40  FRX.KRWQAR          QAR     357.88\n",
       "41  FRX.KRWTRY          TRY      73.06"
      ]
     },
     "execution_count": 17,
     "metadata": {},
     "output_type": "execute_result"
    }
   ],
   "source": [
    "df = pd.DataFrame(data)[['symbolCode', 'currencyCode', 'basePrice']] \n",
    "df.tail(2)"
   ]
  },
  {
   "cell_type": "code",
   "execution_count": null,
   "id": "aeac80fd-ad2e-456c-9b3a-07f78fafc65a",
   "metadata": {},
   "outputs": [],
   "source": []
  }
 ],
 "metadata": {
  "kernelspec": {
   "display_name": "Python 3 (ipykernel)",
   "language": "python",
   "name": "python3"
  },
  "language_info": {
   "codemirror_mode": {
    "name": "ipython",
    "version": 3
   },
   "file_extension": ".py",
   "mimetype": "text/x-python",
   "name": "python",
   "nbconvert_exporter": "python",
   "pygments_lexer": "ipython3",
   "version": "3.9.7"
  }
 },
 "nbformat": 4,
 "nbformat_minor": 5
}
