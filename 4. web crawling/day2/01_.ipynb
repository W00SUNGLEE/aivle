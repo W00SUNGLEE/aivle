{
 "cells": [
  {
   "cell_type": "code",
   "execution_count": 1,
   "id": "3fc1956d-d9e1-4107-99f3-b75e124704c5",
   "metadata": {},
   "outputs": [],
   "source": [
    "# summary\n",
    "# web : server-client : url\n",
    "# requests, response : get, post\n",
    "\n",
    "# 페이지 종류\n",
    "# 동적 페이지 : URL 변화 없이 페이지 데이터 변경 : JSON > API\n",
    "# 정적 페이지 : URL 변화 해서 페이지 데이터 변경 : HTML\n",
    "\n",
    "# 동적 페이지 데이터 수집 프로세스\n",
    "# 1. 웹서비스 분석(개발자 도구) : URL\n",
    "# 2. requests(URL, parms, headers) > response(json) > JSON(str)\n",
    "# 3. JSON(str) > list, dict > DataFrmae\n",
    "\n",
    "# API를 이용한 데이터 수집\n",
    "# 1. APP 등록 : application key\n",
    "# 2. api 문서 : URL\n",
    "# 2. requests(URL, parms, headers(application key)) > response(json) > JSON(str)\n",
    "# 3. JSON(str) > list, dict > DataFrmae or Text"
   ]
  },
  {
   "cell_type": "markdown",
   "id": "7528f0d0-752c-4c44-a7de-e3cfc18a0d82",
   "metadata": {},
   "source": [
    "### 크롤링 정책\n",
    "- robots.txt 파일에 크롤링 정책 설명 : 사이트 주소/robots.txt, https://www.ted.com/robots.txt \n",
    "- 크롤링에 대한 법적 재제 X\n",
    "- 과도한 크롤링으로 서비스에 영향을 주었을때 문제가 될 수 있음\n",
    "        - 영업방해, 지적재산권 침해\n",
    "- 크롤링을 할때는 되도록 API를 사용\n",
    "- 사례 : 잡코리아, 사람인 : 2008 ~ 2018"
   ]
  },
  {
   "cell_type": "code",
   "execution_count": 111,
   "id": "a6eabad3-7713-40e1-97d5-4402950192a6",
   "metadata": {},
   "outputs": [],
   "source": [
    "import pandas as pd\n",
    "import requests, json\n",
    "import matplotlib.pyplot as plt"
   ]
  },
  {
   "cell_type": "code",
   "execution_count": 55,
   "id": "52524e03-7682-4abf-8b21-bbbbbdf323cb",
   "metadata": {},
   "outputs": [],
   "source": [
    "# 1. application key"
   ]
  },
  {
   "cell_type": "code",
   "execution_count": 56,
   "id": "221239ad-1d70-4c77-8956-c0cb7496b05b",
   "metadata": {},
   "outputs": [],
   "source": [
    "CLIENT_ID, CLIENT_SECRET = \"NolYzvV_nveIfSGN0eys\", \"gBM0HfT_U4\""
   ]
  },
  {
   "cell_type": "code",
   "execution_count": 57,
   "id": "8724d303-0211-4cb5-8060-f891cadf4fb1",
   "metadata": {},
   "outputs": [],
   "source": [
    "# 2. document : url, parems, headers"
   ]
  },
  {
   "cell_type": "code",
   "execution_count": 58,
   "id": "203ffb2c-37ad-415a-9dd8-e410b42d2b49",
   "metadata": {},
   "outputs": [],
   "source": [
    "url = \"https://openapi.naver.com/v1/datalab/search\""
   ]
  },
  {
   "cell_type": "code",
   "execution_count": 59,
   "id": "66be0b1d-dc32-4707-a3c7-757ce1b97d97",
   "metadata": {},
   "outputs": [],
   "source": [
    "params = {\n",
    "  \"startDate\": \"2018-01-01\",\n",
    "  \"endDate\": \"2022-07-31\",\n",
    "  \"timeUnit\": \"month\",\n",
    "  \"keywordGroups\": [\n",
    "    {\n",
    "      \"groupName\": \"트위터\",\n",
    "      \"keywords\": [\n",
    "        \"트위터\",\n",
    "        \"트윗\"\n",
    "      ]\n",
    "    },\n",
    "    {\n",
    "      \"groupName\": \"페이스북\",\n",
    "      \"keywords\": [\n",
    "        \"페이스북\",\n",
    "        \"페북\"\n",
    "      ]\n",
    "    },\n",
    "    {\n",
    "      \"groupName\": \"인스타그램\",\n",
    "      \"keywords\": [\n",
    "        \"인스타그램\",\n",
    "        \"인스타\"\n",
    "      ]\n",
    "    }\n",
    "  ]\n",
    "}"
   ]
  },
  {
   "cell_type": "code",
   "execution_count": 60,
   "id": "b449ab27-27e7-4413-91ef-91646d1b3b01",
   "metadata": {},
   "outputs": [],
   "source": [
    "headers = {\n",
    "    \"X-Naver-Client-Id\": CLIENT_ID,\n",
    "    \"X-Naver-Client-Secret\": CLIENT_SECRET,\n",
    "    \"Content-Type\": \"application/json\"\n",
    "}"
   ]
  },
  {
   "cell_type": "code",
   "execution_count": 61,
   "id": "ca59f0cb-5440-4264-82a4-1f58d5e06b11",
   "metadata": {},
   "outputs": [],
   "source": [
    "# 3. requests(url, params, headers) > response(json) : JSON(str)"
   ]
  },
  {
   "cell_type": "code",
   "execution_count": 62,
   "id": "5a1dd0e2-c278-4be6-b4bd-c2eea4cb251e",
   "metadata": {},
   "outputs": [
    {
     "data": {
      "text/plain": [
       "<Response [200]>"
      ]
     },
     "execution_count": 62,
     "metadata": {},
     "output_type": "execute_result"
    }
   ],
   "source": [
    "response = requests.post(url, data=json.dumps(params), headers=headers)\n",
    "response"
   ]
  },
  {
   "cell_type": "code",
   "execution_count": 66,
   "id": "21efa1e0-8043-4aaa-9c8e-aa1b6fee6711",
   "metadata": {},
   "outputs": [
    {
     "data": {
      "text/plain": [
       "'{\"startDate\":\"2018-01-01\",\"endDate\":\"2022-07-31\",\"timeUnit\":\"month\",\"results\":[{\"title\":\"트위터\",\"keywords\":[\"트위터\",\"트윗\"],\"data\":[{\"period\":\"2018-01-01\",\"ratio\":14.59502},{\"period\":\"2018-02-01\",\"ratio\":13'"
      ]
     },
     "execution_count": 66,
     "metadata": {},
     "output_type": "execute_result"
    }
   ],
   "source": [
    "response.text[:200]"
   ]
  },
  {
   "cell_type": "code",
   "execution_count": 26,
   "id": "3b1f1fc1-9ae1-4269-8c93-020054c3f0c2",
   "metadata": {},
   "outputs": [],
   "source": [
    "# 4. JSON(str) > prepocessing > DataFrame"
   ]
  },
  {
   "cell_type": "code",
   "execution_count": 99,
   "id": "2af09336-e357-4e11-9aaa-522a0863e945",
   "metadata": {},
   "outputs": [],
   "source": [
    "data = response.json()[\"results\"]"
   ]
  },
  {
   "cell_type": "code",
   "execution_count": 92,
   "id": "50acbc71-1327-4f17-92bd-383ca45f6479",
   "metadata": {},
   "outputs": [
    {
     "data": {
      "text/plain": [
       "[1, 9, 25, 49, 81]"
      ]
     },
     "execution_count": 92,
     "metadata": {},
     "output_type": "execute_result"
    }
   ],
   "source": [
    "# list comprehension : 간단한 for, if 문을 사용하여 리스트 데이터를 만들때 사용하는방법\n",
    "# 0 ~ 9 까지 홀수만 제공해서 리스트 출력\n",
    "\n",
    "result = []\n",
    "for num in range(10):\n",
    "    if num % 2:\n",
    "        result.append(num **2)\n",
    "result"
   ]
  },
  {
   "cell_type": "code",
   "execution_count": 123,
   "id": "e3f0f536-2e43-4cb0-830b-6e6779dd1596",
   "metadata": {},
   "outputs": [
    {
     "data": {
      "text/plain": [
       "[1, 9, 25, 49, 81]"
      ]
     },
     "execution_count": 123,
     "metadata": {},
     "output_type": "execute_result"
    }
   ],
   "source": [
    "result = [i**2  for i in range(10) if i % 2] # if 만 쓸때는 for문 뒤에\n",
    "result"
   ]
  },
  {
   "cell_type": "code",
   "execution_count": 124,
   "id": "40b1b08f-31bd-453c-9806-2c2de0bdda7f",
   "metadata": {},
   "outputs": [
    {
     "data": {
      "text/plain": [
       "[0, 1, 2, 9, 4, 25, 6, 49, 8, 81]"
      ]
     },
     "execution_count": 124,
     "metadata": {},
     "output_type": "execute_result"
    }
   ],
   "source": [
    "result = [i**2 if i % 2 else i for i in range(10) ] # if else 쓸때는 for문 전에\n",
    "result"
   ]
  },
  {
   "cell_type": "code",
   "execution_count": 96,
   "id": "28670f8a-f2ca-4482-a88f-462314eee1e9",
   "metadata": {},
   "outputs": [
    {
     "data": {
      "text/plain": [
       "55"
      ]
     },
     "execution_count": 96,
     "metadata": {},
     "output_type": "execute_result"
    }
   ],
   "source": [
    "len(data[\"results\"][0][\"data\"])"
   ]
  },
  {
   "cell_type": "code",
   "execution_count": 103,
   "id": "56eb8faf-2e1c-4af2-a6c3-51a082a3c567",
   "metadata": {},
   "outputs": [
    {
     "data": {
      "text/plain": [
       "'2018-01-01'"
      ]
     },
     "execution_count": 103,
     "metadata": {},
     "output_type": "execute_result"
    }
   ],
   "source": [
    "period = [period[\"period\"] for period in data[0][\"data\"]]\n",
    "period[0]"
   ]
  },
  {
   "cell_type": "code",
   "execution_count": 104,
   "id": "02ba3e84-3a0b-4dee-9350-32c1fa1fcc09",
   "metadata": {},
   "outputs": [
    {
     "data": {
      "text/plain": [
       "'2018-01-01'"
      ]
     },
     "execution_count": 104,
     "metadata": {},
     "output_type": "execute_result"
    }
   ],
   "source": [
    "period = [data[0][\"data\"][i][\"period\"] for i in range(len(data[0][\"data\"]))]\n",
    "period[0]"
   ]
  },
  {
   "cell_type": "code",
   "execution_count": 108,
   "id": "0de20b5d-209a-461c-8d6d-4f2d67644e3f",
   "metadata": {},
   "outputs": [
    {
     "data": {
      "text/html": [
       "<div>\n",
       "<style scoped>\n",
       "    .dataframe tbody tr th:only-of-type {\n",
       "        vertical-align: middle;\n",
       "    }\n",
       "\n",
       "    .dataframe tbody tr th {\n",
       "        vertical-align: top;\n",
       "    }\n",
       "\n",
       "    .dataframe thead th {\n",
       "        text-align: right;\n",
       "    }\n",
       "</style>\n",
       "<table border=\"1\" class=\"dataframe\">\n",
       "  <thead>\n",
       "    <tr style=\"text-align: right;\">\n",
       "      <th></th>\n",
       "      <th>date</th>\n",
       "      <th>twitter</th>\n",
       "      <th>facebook</th>\n",
       "      <th>instagrem</th>\n",
       "    </tr>\n",
       "  </thead>\n",
       "  <tbody>\n",
       "    <tr>\n",
       "      <th>53</th>\n",
       "      <td>2022-06-01</td>\n",
       "      <td>23.24110</td>\n",
       "      <td>20.04381</td>\n",
       "      <td>21.63141</td>\n",
       "    </tr>\n",
       "    <tr>\n",
       "      <th>54</th>\n",
       "      <td>2022-07-01</td>\n",
       "      <td>24.06197</td>\n",
       "      <td>19.53712</td>\n",
       "      <td>21.40551</td>\n",
       "    </tr>\n",
       "  </tbody>\n",
       "</table>\n",
       "</div>"
      ],
      "text/plain": [
       "          date   twitter  facebook  instagrem\n",
       "53  2022-06-01  23.24110  20.04381   21.63141\n",
       "54  2022-07-01  24.06197  19.53712   21.40551"
      ]
     },
     "execution_count": 108,
     "metadata": {},
     "output_type": "execute_result"
    }
   ],
   "source": [
    "df = pd.DataFrame({\n",
    "    \"date\": [period[\"period\"] for period in data[0][\"data\"]],\n",
    "    \"twitter\": [ratio[\"ratio\"] for ratio in data[0][\"data\"]],\n",
    "    \"facebook\": [ratio[\"ratio\"] for ratio in data[1][\"data\"]],\n",
    "    \"instagrem\": [ratio[\"ratio\"] for ratio in data[2][\"data\"]]\n",
    "})\n",
    "df.tail(2)"
   ]
  },
  {
   "cell_type": "code",
   "execution_count": null,
   "id": "66aecd5a-79f0-4e10-83f6-090ea0e788eb",
   "metadata": {},
   "outputs": [],
   "source": [
    "# 5. visualization"
   ]
  },
  {
   "cell_type": "code",
   "execution_count": 115,
   "id": "eed8ff54-9b30-4a81-9b91-ae3fe46c0dd2",
   "metadata": {},
   "outputs": [
    {
     "data": {
      "text/plain": [
       "<AxesSubplot:>"
      ]
     },
     "execution_count": 115,
     "metadata": {},
     "output_type": "execute_result"
    },
    {
     "data": {
      "image/png": "[encoded data removed]",
      "text/plain": [
       "<Figure size 1440x360 with 1 Axes>"
      ]
     },
     "metadata": {
      "needs_background": "light"
     },
     "output_type": "display_data"
    }
   ],
   "source": [
    "df.plot(figsize=(20, 5))"
   ]
  },
  {
   "cell_type": "code",
   "execution_count": null,
   "id": "7c0b7704-8262-49b8-865c-76ca2d3cf992",
   "metadata": {},
   "outputs": [],
   "source": [
    "# 과제 : 카카오 API 사용해서 주소 > 위도, 경도, 우편번호 또는 반대 API 사용"
   ]
  }
 ],
 "metadata": {
  "kernelspec": {
   "display_name": "Python 3 (ipykernel)",
   "language": "python",
   "name": "python3"
  },
  "language_info": {
   "codemirror_mode": {
    "name": "ipython",
    "version": 3
   },
   "file_extension": ".py",
   "mimetype": "text/x-python",
   "name": "python",
   "nbconvert_exporter": "python",
   "pygments_lexer": "ipython3",
   "version": "3.9.7"
  }
 },
 "nbformat": 4,
 "nbformat_minor": 5
}
