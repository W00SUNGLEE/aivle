{
 "cells": [
  {
   "cell_type": "markdown",
   "id": "2f96efcd-88cc-4b86-bb4a-0a2a23a194d2",
   "metadata": {},
   "source": [
    "### selenium\n",
    "- 브라우저의 자동화 목적으로 만들어진 다양한 브라우저와 언어를 지원하는 라이브러리\n",
    "- 브라우저를 파이썬 코드로 컨트롤 해서 브라우저에 있는 데이터를 수집"
   ]
  },
  {
   "cell_type": "markdown",
   "id": "70f1be59-48d5-4471-9e18-1e3c834a2702",
   "metadata": {},
   "source": [
    "#### 크롤링 방법\n",
    "- 1. requests : json 웹페이지의 API 트래픽을 분석해서 데이터 수집 : naver stock\n",
    "- 2. requests : json공식적으로 제공하는 API를 application key 받아서 데이터 수집 : naver api(papago, trend)\n",
    "- 3. requests : html, BeautifulSoup(css selector) : 웹페이지의 html 코드를 받아서 데이터 수집 : gmarket\n",
    "- 4. selenium : browser - python : 브라우저를 파이썬 코드로 컨트롤 해서 데이터 수집 : ted\n",
    "- 크롤링할때 좋은 순서 : 2 > 1 > 3 > 4"
   ]
  },
  {
   "cell_type": "markdown",
   "id": "6eef745f-c7bd-4912-bbf1-9c0c348237ed",
   "metadata": {},
   "source": [
    "#### 환경설정\n",
    "- 크롬 브라우저 설치\n",
    "- 크롬 브라우저 드라이버 다운로드 : 크롬 브라우저와 같은 버전 : 크롬 브라우저와 파이썬 코드 연결해주는 역할\n",
    "https://chromedriver.chromium.org/downloads\n",
    "- selenium 패키지 설치\n",
    "- opt. : 크롬 브라우저의 드라이버 파일을 환경변수로 등록하면 조금 쉽게 사용"
   ]
  },
  {
   "cell_type": "code",
   "execution_count": 2,
   "id": "77c2e391-2a8f-466c-85f3-bb23d33b559b",
   "metadata": {},
   "outputs": [
    {
     "name": "stdout",
     "output_type": "stream",
     "text": [
      "Collecting selenium\n",
      "  Downloading selenium-4.3.0-py3-none-any.whl (981 kB)\n",
      "Requirement already satisfied: urllib3[secure,socks]~=1.26 in c:\\users\\wslee\\anaconda3\\lib\\site-packages (from selenium) (1.26.7)\n",
      "Collecting trio~=0.17\n",
      "  Downloading trio-0.21.0-py3-none-any.whl (358 kB)\n",
      "Collecting trio-websocket~=0.9\n",
      "  Downloading trio_websocket-0.9.2-py3-none-any.whl (16 kB)\n",
      "Requirement already satisfied: cffi>=1.14 in c:\\users\\wslee\\anaconda3\\lib\\site-packages (from trio~=0.17->selenium) (1.14.6)\n",
      "Requirement already satisfied: idna in c:\\users\\wslee\\anaconda3\\lib\\site-packages (from trio~=0.17->selenium) (3.2)\n",
      "Requirement already satisfied: sortedcontainers in c:\\users\\wslee\\anaconda3\\lib\\site-packages (from trio~=0.17->selenium) (2.4.0)\n",
      "Requirement already satisfied: async-generator>=1.9 in c:\\users\\wslee\\anaconda3\\lib\\site-packages (from trio~=0.17->selenium) (1.10)\n",
      "Requirement already satisfied: attrs>=19.2.0 in c:\\users\\wslee\\anaconda3\\lib\\site-packages (from trio~=0.17->selenium) (21.2.0)\n",
      "Requirement already satisfied: sniffio in c:\\users\\wslee\\anaconda3\\lib\\site-packages (from trio~=0.17->selenium) (1.2.0)\n",
      "Collecting outcome\n",
      "  Downloading outcome-1.2.0-py2.py3-none-any.whl (9.7 kB)\n",
      "Requirement already satisfied: pycparser in c:\\users\\wslee\\anaconda3\\lib\\site-packages (from cffi>=1.14->trio~=0.17->selenium) (2.20)\n",
      "Collecting wsproto>=0.14\n",
      "  Downloading wsproto-1.1.0-py3-none-any.whl (24 kB)\n",
      "Requirement already satisfied: PySocks!=1.5.7,<2.0,>=1.5.6 in c:\\users\\wslee\\anaconda3\\lib\\site-packages (from urllib3[secure,socks]~=1.26->selenium) (1.7.1)\n",
      "Requirement already satisfied: pyOpenSSL>=0.14 in c:\\users\\wslee\\anaconda3\\lib\\site-packages (from urllib3[secure,socks]~=1.26->selenium) (21.0.0)\n",
      "Requirement already satisfied: cryptography>=1.3.4 in c:\\users\\wslee\\anaconda3\\lib\\site-packages (from urllib3[secure,socks]~=1.26->selenium) (3.4.8)\n",
      "Requirement already satisfied: certifi in c:\\users\\wslee\\anaconda3\\lib\\site-packages (from urllib3[secure,socks]~=1.26->selenium) (2021.10.8)\n",
      "Requirement already satisfied: six>=1.5.2 in c:\\users\\wslee\\anaconda3\\lib\\site-packages (from pyOpenSSL>=0.14->urllib3[secure,socks]~=1.26->selenium) (1.16.0)\n",
      "Collecting h11<1,>=0.9.0\n",
      "  Downloading h11-0.13.0-py3-none-any.whl (58 kB)\n",
      "Installing collected packages: outcome, h11, wsproto, trio, trio-websocket, selenium\n",
      "Successfully installed h11-0.13.0 outcome-1.2.0 selenium-4.3.0 trio-0.21.0 trio-websocket-0.9.2 wsproto-1.1.0\n"
     ]
    }
   ],
   "source": [
    "!pip install selenium"
   ]
  },
  {
   "cell_type": "code",
   "execution_count": 3,
   "id": "9a57d7ee-d1a7-4f1d-b595-0006088d5b06",
   "metadata": {},
   "outputs": [],
   "source": [
    "from selenium import webdriver\n",
    "from selenium.webdriver.common.by import By"
   ]
  },
  {
   "cell_type": "code",
   "execution_count": 26,
   "id": "c18b7f1d-a2f9-408b-a60d-672e1859ca37",
   "metadata": {},
   "outputs": [],
   "source": [
    "# 1. 브라우저 띄우기\n",
    "driver = webdriver.Chrome()"
   ]
  },
  {
   "cell_type": "code",
   "execution_count": 27,
   "id": "2cc2a31d-b3cb-4111-a6cf-5aad00c97f10",
   "metadata": {},
   "outputs": [],
   "source": [
    "# 2. 페이지 이동\n",
    "driver.get(\"http://daum.net\")"
   ]
  },
  {
   "cell_type": "code",
   "execution_count": 28,
   "id": "fe893045-742e-48f4-a546-5d56994bdcaf",
   "metadata": {},
   "outputs": [],
   "source": [
    "# 3. 브라우저 사이즈 조절\n",
    "driver.set_window_size(200, 600)"
   ]
  },
  {
   "cell_type": "code",
   "execution_count": 29,
   "id": "03deb13e-9b4c-4ee6-b0ba-ff930db7c5a7",
   "metadata": {},
   "outputs": [],
   "source": [
    "# 4. 브라우저 스크롤 조절(자바스크립트 코드 실행)\n",
    "driver.execute_script(\"window.scrollTo(200, 300);\")"
   ]
  },
  {
   "cell_type": "code",
   "execution_count": 30,
   "id": "76cca9c0-216b-493e-acd3-c2da554cda54",
   "metadata": {},
   "outputs": [],
   "source": [
    "# 5. alert 다루기\n",
    "driver.execute_script(\"alert('hello selenium!');\")"
   ]
  },
  {
   "cell_type": "code",
   "execution_count": 31,
   "id": "40d0b8b5-db9f-4178-b3f4-c7bc28e7cac2",
   "metadata": {},
   "outputs": [],
   "source": [
    "alert = driver.switch_to.alert"
   ]
  },
  {
   "cell_type": "code",
   "execution_count": 33,
   "id": "c5ad952a-97ba-4719-86c5-4863b3997f29",
   "metadata": {},
   "outputs": [],
   "source": [
    "alert.accept()"
   ]
  },
  {
   "cell_type": "code",
   "execution_count": 34,
   "id": "9b3b17de-c3ad-4bc3-a3cb-b2865c6e3ef7",
   "metadata": {},
   "outputs": [],
   "source": [
    "driver.execute_script(\"window.scrollTo(0, 0);\")"
   ]
  },
  {
   "cell_type": "code",
   "execution_count": 36,
   "id": "4a9be181-ad2a-40cb-9d45-f776d7887684",
   "metadata": {},
   "outputs": [],
   "source": [
    "# 6. input 창에 문자열 입력\n",
    "driver.find_element(By.CSS_SELECTOR, \"#q\").send_keys(\"파이썬\")"
   ]
  },
  {
   "cell_type": "code",
   "execution_count": 39,
   "id": "f111e7ea-45e2-4804-87ba-69799cfba98a",
   "metadata": {},
   "outputs": [],
   "source": [
    "# 7. 검색버튼 클릭\n",
    "driver.find_element(By.CSS_SELECTOR, \".inner_search > .ico_pctop.btn_search\").click()"
   ]
  },
  {
   "cell_type": "code",
   "execution_count": 78,
   "id": "c85b082d-07d3-40ae-9184-de0f5e6ab29f",
   "metadata": {},
   "outputs": [],
   "source": [
    "# 8. 브라우저 종료\n",
    "driver.quit()"
   ]
  },
  {
   "cell_type": "code",
   "execution_count": 41,
   "id": "da44b605-2301-4a73-a451-fc00080e39f7",
   "metadata": {},
   "outputs": [],
   "source": [
    "# 브라우저 자동화\n",
    "driver = webdriver.Chrome()\n",
    "driver.get(\"http://daum.net\")\n",
    "driver.set_window_size(200, 600)\n",
    "driver.execute_script(\"window.scrollTo(200, 300);\")\n",
    "driver.execute_script(\"alert('hello selenium!');\")\n",
    "alert = driver.switch_to.alert\n",
    "alert.accept()\n",
    "driver.execute_script(\"window.scrollTo(0, 0);\")\n",
    "driver.find_element(By.CSS_SELECTOR, \"#q\").send_keys(\"파이썬\")\n",
    "driver.find_element(By.CSS_SELECTOR, \".inner_search > .ico_pctop.btn_search\").click()\n",
    "driver.quit()"
   ]
  },
  {
   "cell_type": "code",
   "execution_count": 42,
   "id": "b98d27c7-6312-41cd-9084-b5a3c4166e4c",
   "metadata": {},
   "outputs": [],
   "source": [
    "# 간단하게 머신러닝 사용"
   ]
  },
  {
   "cell_type": "code",
   "execution_count": 43,
   "id": "3745740a-1d92-4e9b-8fe8-f791ed1bf26d",
   "metadata": {},
   "outputs": [
    {
     "name": "stdout",
     "output_type": "stream",
     "text": [
      " C 드라이브의 볼륨에는 이름이 없습니다.\n",
      " 볼륨 일련 번호: D3A3-08A0\n",
      "\n",
      " C:\\Users\\Wslee\\Desktop\\github\\aivle\\3. web crawling\\day3 디렉터리\n",
      "\n",
      "2022-08-05  오후 12:04               477 premierleague.csv\n",
      "               1개 파일                 477 바이트\n",
      "               0개 디렉터리  44,227,964,928 바이트 남음\n"
     ]
    }
   ],
   "source": [
    "%ls premierleague.csv"
   ]
  },
  {
   "cell_type": "code",
   "execution_count": 50,
   "id": "64e095e6-d126-4252-b80a-7a20db7079be",
   "metadata": {},
   "outputs": [
    {
     "data": {
      "text/html": [
       "<div>\n",
       "<style scoped>\n",
       "    .dataframe tbody tr th:only-of-type {\n",
       "        vertical-align: middle;\n",
       "    }\n",
       "\n",
       "    .dataframe tbody tr th {\n",
       "        vertical-align: top;\n",
       "    }\n",
       "\n",
       "    .dataframe thead th {\n",
       "        text-align: right;\n",
       "    }\n",
       "</style>\n",
       "<table border=\"1\" class=\"dataframe\">\n",
       "  <thead>\n",
       "    <tr style=\"text-align: right;\">\n",
       "      <th></th>\n",
       "      <th>name</th>\n",
       "      <th>gf</th>\n",
       "      <th>ga</th>\n",
       "      <th>points</th>\n",
       "    </tr>\n",
       "  </thead>\n",
       "  <tbody>\n",
       "    <tr>\n",
       "      <th>0</th>\n",
       "      <td>Manchester City</td>\n",
       "      <td>106</td>\n",
       "      <td>27</td>\n",
       "      <td>100</td>\n",
       "    </tr>\n",
       "    <tr>\n",
       "      <th>1</th>\n",
       "      <td>Manchester United</td>\n",
       "      <td>68</td>\n",
       "      <td>28</td>\n",
       "      <td>81</td>\n",
       "    </tr>\n",
       "    <tr>\n",
       "      <th>2</th>\n",
       "      <td>Tottenham Hotspur</td>\n",
       "      <td>74</td>\n",
       "      <td>36</td>\n",
       "      <td>77</td>\n",
       "    </tr>\n",
       "    <tr>\n",
       "      <th>3</th>\n",
       "      <td>Liverpool</td>\n",
       "      <td>84</td>\n",
       "      <td>38</td>\n",
       "      <td>75</td>\n",
       "    </tr>\n",
       "    <tr>\n",
       "      <th>4</th>\n",
       "      <td>Chelsea</td>\n",
       "      <td>62</td>\n",
       "      <td>38</td>\n",
       "      <td>70</td>\n",
       "    </tr>\n",
       "  </tbody>\n",
       "</table>\n",
       "</div>"
      ],
      "text/plain": [
       "                name   gf  ga  points\n",
       "0    Manchester City  106  27     100\n",
       "1  Manchester United   68  28      81\n",
       "2  Tottenham Hotspur   74  36      77\n",
       "3          Liverpool   84  38      75\n",
       "4            Chelsea   62  38      70"
      ]
     },
     "execution_count": 50,
     "metadata": {},
     "output_type": "execute_result"
    }
   ],
   "source": [
    "df = pd.read_csv(\"premierleague.csv\")\n",
    "df.head(5)"
   ]
  },
  {
   "cell_type": "code",
   "execution_count": 48,
   "id": "18d6de45-a9e9-46dc-b1ff-9378714b5ae7",
   "metadata": {},
   "outputs": [],
   "source": [
    "feature = df[[\"gf\", \"ga\"]] \n",
    "target = df[\"points\"]"
   ]
  },
  {
   "cell_type": "code",
   "execution_count": null,
   "id": "d1933ab1-9c66-4062-868c-387b67e4235f",
   "metadata": {},
   "outputs": [],
   "source": [
    "# !pip install sklearn"
   ]
  },
  {
   "cell_type": "code",
   "execution_count": 49,
   "id": "2ac24344-8559-441c-b29f-5242975b5e8a",
   "metadata": {},
   "outputs": [],
   "source": [
    "from sklearn.linear_model import LinearRegression\n",
    "model = LinearRegression().fit(feature, target)"
   ]
  },
  {
   "cell_type": "code",
   "execution_count": 52,
   "id": "1a9cc23b-3f14-469b-b422-065f4c46d158",
   "metadata": {},
   "outputs": [
    {
     "data": {
      "text/plain": [
       "array([79.])"
      ]
     },
     "execution_count": 52,
     "metadata": {},
     "output_type": "execute_result"
    }
   ],
   "source": [
    "# 데이터 예측 : 득점 80, 승점 36\n",
    "np.round(model.predict([[80, 36]]))"
   ]
  },
  {
   "cell_type": "code",
   "execution_count": 53,
   "id": "62e2922b-3728-49ae-a862-0e0fb610f9d1",
   "metadata": {},
   "outputs": [],
   "source": [
    "# warning 메시지 안뜨게 하는법\n",
    "import warnings\n",
    "warnings.filterwarnings(\"ignore\")"
   ]
  },
  {
   "cell_type": "code",
   "execution_count": 55,
   "id": "90f097e5-233e-4156-bb0d-9cf57f11d822",
   "metadata": {},
   "outputs": [],
   "source": [
    "# data > train(8h) > model(ram) > computer off\n",
    "# model > ssd, hdd에 저장해서 사용"
   ]
  },
  {
   "cell_type": "code",
   "execution_count": 58,
   "id": "f1dc3864-24ed-4339-8ba3-828cf838aa8f",
   "metadata": {},
   "outputs": [],
   "source": [
    "import pickle"
   ]
  },
  {
   "cell_type": "code",
   "execution_count": 59,
   "id": "5fed5752-f1d2-4a3a-a7f7-c10b2cffddf8",
   "metadata": {},
   "outputs": [],
   "source": [
    "# ram > ssd\n",
    "with open(\"model.pkl\", \"wb\") as file:\n",
    "    pickle.dump(model, file)"
   ]
  },
  {
   "cell_type": "code",
   "execution_count": 60,
   "id": "df472f6a-2cb3-4a51-bb58-c3fd04692c61",
   "metadata": {},
   "outputs": [
    {
     "name": "stdout",
     "output_type": "stream",
     "text": [
      " C 드라이브의 볼륨에는 이름이 없습니다.\n",
      " 볼륨 일련 번호: D3A3-08A0\n",
      "\n",
      " C:\\Users\\Wslee\\Desktop\\github\\aivle\\3. web crawling\\day3 디렉터리\n",
      "\n",
      "2022-08-05  오후 12:16    <DIR>          .\n",
      "2022-08-05  오후 12:16    <DIR>          ..\n",
      "2022-08-05  오전 10:59    <DIR>          .ipynb_checkpoints\n",
      "2022-08-05  오전 10:57           186,608 01_crawling_images.ipynb\n",
      "2022-08-05  오후 12:15            14,420 02_selenium.ipynb\n",
      "2022-08-05  오전 11:42        11,884,544 chromedriver.exe\n",
      "2022-08-05  오전 10:20    <DIR>          data\n",
      "2022-08-05  오전 09:57            31,275 gmarket.csv\n",
      "2022-08-05  오후 12:16               480 model.pkl\n",
      "2022-08-05  오후 12:04               477 premierleague.csv\n",
      "2022-08-05  오전 10:59             1,060 Untitled.ipynb\n",
      "               7개 파일          12,118,864 바이트\n",
      "               4개 디렉터리  44,230,504,448 바이트 남음\n"
     ]
    }
   ],
   "source": [
    "%ls"
   ]
  },
  {
   "cell_type": "code",
   "execution_count": 61,
   "id": "08165056-7431-4ff4-98cb-5ed030b905b6",
   "metadata": {},
   "outputs": [],
   "source": [
    "# ssd > ram\n",
    "with open(\"model.pkl\", \"rb\") as file:\n",
    "    load_model = pickle.load(file)"
   ]
  },
  {
   "cell_type": "code",
   "execution_count": 62,
   "id": "3294b4c4-3be0-486d-8f7f-4471da3aac25",
   "metadata": {},
   "outputs": [
    {
     "data": {
      "text/plain": [
       "array([79.])"
      ]
     },
     "execution_count": 62,
     "metadata": {},
     "output_type": "execute_result"
    }
   ],
   "source": [
    "np.round(load_model.predict([[80, 36]]))"
   ]
  },
  {
   "cell_type": "markdown",
   "id": "cdaec8e0-ca7f-42dc-ab7d-bf6edbf3b78c",
   "metadata": {},
   "source": [
    "### 텍스터 데이터 수집\n",
    "- TED 사이트 : https://www.ted.com/talks"
   ]
  },
  {
   "cell_type": "code",
   "execution_count": 65,
   "id": "9263ecda-8bff-43c0-8b61-b38e47a171ce",
   "metadata": {},
   "outputs": [],
   "source": [
    "# 1. 브라우저 열기"
   ]
  },
  {
   "cell_type": "code",
   "execution_count": 79,
   "id": "351ebcaa-6619-41a2-a02f-baaeeac681f6",
   "metadata": {},
   "outputs": [],
   "source": [
    "driver = webdriver.Chrome()"
   ]
  },
  {
   "cell_type": "code",
   "execution_count": 80,
   "id": "b865a0bc-0548-4f6e-a5d3-c02d379a2816",
   "metadata": {},
   "outputs": [],
   "source": [
    "# 2. 페이지 이동"
   ]
  },
  {
   "cell_type": "code",
   "execution_count": 81,
   "id": "f47f3341-cac7-4cfc-91c3-e1721d801afe",
   "metadata": {},
   "outputs": [],
   "source": [
    "driver.get(\"https://www.ted.com/talks\")"
   ]
  },
  {
   "cell_type": "code",
   "execution_count": 82,
   "id": "f1cfe12b-fa39-404d-bcd0-8dbec630e500",
   "metadata": {},
   "outputs": [
    {
     "data": {
      "text/plain": [
       "'Join TED Recommends to get the best ideas, selected just for you'"
      ]
     },
     "execution_count": 82,
     "metadata": {},
     "output_type": "execute_result"
    }
   ],
   "source": [
    "# 3. 제목 데이터 텍스트 수집\n",
    "sub_title = driver.find_element(By.CSS_SELECTOR, \"#banner-secondary\").text\n",
    "sub_title"
   ]
  },
  {
   "cell_type": "code",
   "execution_count": 84,
   "id": "31216ac9-6a2d-42f2-ac6d-f4926f302bf4",
   "metadata": {},
   "outputs": [],
   "source": [
    "# 4. selector box에서 한국어 메뉴 클릭\n",
    "#languages > optgroup > [lang=\"ko\"] 또는\n",
    "#languages [lang=\"ko\"]\n",
    "driver.find_element(By.CSS_SELECTOR, '#languages [lang=\"ko\"]').click()"
   ]
  },
  {
   "cell_type": "code",
   "execution_count": 85,
   "id": "3ebe4671-fbee-49de-872a-acc5e16b3bb6",
   "metadata": {},
   "outputs": [
    {
     "data": {
      "text/plain": [
       "36"
      ]
     },
     "execution_count": 85,
     "metadata": {},
     "output_type": "execute_result"
    }
   ],
   "source": [
    "# 5. 전체 데이터의 제목과 링크 데이터 수집\n",
    "elements = driver.find_elements(By.CSS_SELECTOR, \"#browse-results > .row > div\")\n",
    "len(elements)"
   ]
  },
  {
   "cell_type": "code",
   "execution_count": 88,
   "id": "5a21d636-60fa-43bd-8b0b-f30048eb4639",
   "metadata": {},
   "outputs": [
    {
     "data": {
      "text/plain": [
       "('스페인어의 역사 - 일란 스타반스(Ilan Stavans)',\n",
       " 'https://www.ted.com/talks/ilan_stavans_a_brief_history_of_spanish?language=ko')"
      ]
     },
     "execution_count": 88,
     "metadata": {},
     "output_type": "execute_result"
    }
   ],
   "source": [
    "element = elements[0]\n",
    "title = element.find_element(By.CSS_SELECTOR, \"h4 > .ga-link\").text\n",
    "link = element.find_element(By.CSS_SELECTOR, \"h4 > .ga-link\").get_attribute(\"href\") # beautifulSoup 에서는 get()으로 사용한것\n",
    "title, link"
   ]
  },
  {
   "cell_type": "code",
   "execution_count": 89,
   "id": "96940cec-4175-4e2e-a85a-e54d352e58e5",
   "metadata": {},
   "outputs": [],
   "source": [
    "# 6. 데이터 프레임으로 만들기"
   ]
  },
  {
   "cell_type": "code",
   "execution_count": 92,
   "id": "9a8648d9-9dfb-40ac-a36c-ccbb5ad7e6db",
   "metadata": {},
   "outputs": [
    {
     "data": {
      "text/html": [
       "<div>\n",
       "<style scoped>\n",
       "    .dataframe tbody tr th:only-of-type {\n",
       "        vertical-align: middle;\n",
       "    }\n",
       "\n",
       "    .dataframe tbody tr th {\n",
       "        vertical-align: top;\n",
       "    }\n",
       "\n",
       "    .dataframe thead th {\n",
       "        text-align: right;\n",
       "    }\n",
       "</style>\n",
       "<table border=\"1\" class=\"dataframe\">\n",
       "  <thead>\n",
       "    <tr style=\"text-align: right;\">\n",
       "      <th></th>\n",
       "      <th>title</th>\n",
       "      <th>link</th>\n",
       "    </tr>\n",
       "  </thead>\n",
       "  <tbody>\n",
       "    <tr>\n",
       "      <th>34</th>\n",
       "      <td>두려움을 극복하기 위한 올림픽 챔피언의 사고방식</td>\n",
       "      <td>https://www.ted.com/talks/allyson_felix_an_oly...</td>\n",
       "    </tr>\n",
       "    <tr>\n",
       "      <th>35</th>\n",
       "      <td>바퀴벌레를 없애는 것은 왜 이렇게 어려울까요? - 아메야 곤달레카르</td>\n",
       "      <td>https://www.ted.com/talks/ameya_gondhalekar_wh...</td>\n",
       "    </tr>\n",
       "  </tbody>\n",
       "</table>\n",
       "</div>"
      ],
      "text/plain": [
       "                                    title  \\\n",
       "34             두려움을 극복하기 위한 올림픽 챔피언의 사고방식   \n",
       "35  바퀴벌레를 없애는 것은 왜 이렇게 어려울까요? - 아메야 곤달레카르   \n",
       "\n",
       "                                                 link  \n",
       "34  https://www.ted.com/talks/allyson_felix_an_oly...  \n",
       "35  https://www.ted.com/talks/ameya_gondhalekar_wh...  "
      ]
     },
     "execution_count": 92,
     "metadata": {},
     "output_type": "execute_result"
    }
   ],
   "source": [
    "data = []\n",
    "for element in elements:\n",
    "    data.append({\n",
    "        \"title\": element.find_element(By.CSS_SELECTOR, \"h4 > .ga-link\").text,\n",
    "        \"link\": element.find_element(By.CSS_SELECTOR, \"h4 > .ga-link\").get_attribute(\"href\")\n",
    "    })\n",
    "df = pd.DataFrame(data)\n",
    "df.tail(2)"
   ]
  },
  {
   "cell_type": "code",
   "execution_count": 93,
   "id": "b92e0ac8-8573-4d05-bd89-4eb0473cf350",
   "metadata": {},
   "outputs": [],
   "source": [
    "driver.quit()"
   ]
  },
  {
   "cell_type": "markdown",
   "id": "c0971df7-da6f-478c-ba48-d7ad08dc9329",
   "metadata": {},
   "source": [
    "### Headless\n",
    "- 브라우저를 화면에 띄우지 않고 메모리 상에서만 브라우저를 실행하여 크롤링하는 방법\n",
    "- window가 지원되지 않는 환경에서 selenium 사용 가능\n",
    "- 크롬 버전 : 60 이상부터 지원\n",
    "- 메모리에 이점은 없음"
   ]
  },
  {
   "cell_type": "code",
   "execution_count": 94,
   "id": "47d64aaa-abac-49a8-a9d3-aa38daf1d6b5",
   "metadata": {},
   "outputs": [
    {
     "data": {
      "text/plain": [
       "'104.0.5112.81'"
      ]
     },
     "execution_count": 94,
     "metadata": {},
     "output_type": "execute_result"
    }
   ],
   "source": [
    "# 크롬 버전 확인\n",
    "driver = webdriver.Chrome()\n",
    "version = driver.capabilities[\"browserVersion\"]\n",
    "driver.quit()\n",
    "version"
   ]
  },
  {
   "cell_type": "code",
   "execution_count": 96,
   "id": "e2bdef92-16f2-49e5-9c41-24d959889b7b",
   "metadata": {},
   "outputs": [
    {
     "data": {
      "text/plain": [
       "'Join TED Recommends to get the best ideas, selected just for you'"
      ]
     },
     "execution_count": 96,
     "metadata": {},
     "output_type": "execute_result"
    }
   ],
   "source": [
    "options = webdriver.ChromeOptions()\n",
    "options.add_argument(\"headless\")\n",
    "driver = webdriver.Chrome(options=options)\n",
    "driver.get(\"https://www.ted.com/talks\")\n",
    "sub_title = driver.find_element(By.CSS_SELECTOR, \"#banner-secondary\").text\n",
    "driver.quit()\n",
    "sub_title"
   ]
  },
  {
   "cell_type": "code",
   "execution_count": null,
   "id": "17da6d48-ce67-4887-b50d-10d053aab003",
   "metadata": {},
   "outputs": [],
   "source": []
  }
 ],
 "metadata": {
  "kernelspec": {
   "display_name": "Python 3 (ipykernel)",
   "language": "python",
   "name": "python3"
  },
  "language_info": {
   "codemirror_mode": {
    "name": "ipython",
    "version": 3
   },
   "file_extension": ".py",
   "mimetype": "text/x-python",
   "name": "python",
   "nbconvert_exporter": "python",
   "pygments_lexer": "ipython3",
   "version": "3.9.7"
  }
 },
 "nbformat": 4,
 "nbformat_minor": 5
}
