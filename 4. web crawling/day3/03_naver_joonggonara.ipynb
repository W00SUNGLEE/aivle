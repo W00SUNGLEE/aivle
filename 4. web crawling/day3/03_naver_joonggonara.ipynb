{
 "cells": [
  {
   "cell_type": "markdown",
   "id": "856e161d-1e55-490f-bbfc-bf795e2b09cd",
   "metadata": {},
   "source": [
    "### 네이버 중고나라 게시글 데이터 수집\n",
    "- selenium에서 iframe에 있는 데이터 수집\n",
    "- https://cafe.naver.com/joonggonara.cafe"
   ]
  },
  {
   "cell_type": "code",
   "execution_count": 1,
   "id": "0b67748e-6cb3-4f87-a0d7-91a8885f80dc",
   "metadata": {},
   "outputs": [],
   "source": [
    "from selenium import webdriver\n",
    "from selenium.webdriver.common.by import By"
   ]
  },
  {
   "cell_type": "code",
   "execution_count": 2,
   "id": "0e4488ef-f8bf-4558-b3e2-5edeee2ac820",
   "metadata": {},
   "outputs": [],
   "source": [
    "url = \"https://cafe.naver.com/joonggonara.cafe\""
   ]
  },
  {
   "cell_type": "code",
   "execution_count": 3,
   "id": "e912928a-ecf3-4d0a-bda8-c499f18ce493",
   "metadata": {},
   "outputs": [],
   "source": [
    "# 1. 웹브라우저 열기 및 페이지 이동"
   ]
  },
  {
   "cell_type": "code",
   "execution_count": 34,
   "id": "67a554ae-7272-4039-b2eb-4fa47a30f923",
   "metadata": {},
   "outputs": [],
   "source": [
    "driver = webdriver.Chrome()\n",
    "driver.get(\"https://cafe.naver.com/joonggonara.cafe\")"
   ]
  },
  {
   "cell_type": "code",
   "execution_count": null,
   "id": "661513ee-68b0-443e-9303-339244d199b3",
   "metadata": {},
   "outputs": [],
   "source": [
    "# 페이지가 뜨는 시간 동안 기다리기"
   ]
  },
  {
   "cell_type": "code",
   "execution_count": 31,
   "id": "1cf0bb87-1b85-463d-8f27-89dfecfd6671",
   "metadata": {},
   "outputs": [],
   "source": [
    "import time"
   ]
  },
  {
   "cell_type": "code",
   "execution_count": 33,
   "id": "cb1efb12-7e11-40e4-a46b-0438a933f4e7",
   "metadata": {},
   "outputs": [
    {
     "name": "stdout",
     "output_type": "stream",
     "text": [
      "1\n",
      "2\n"
     ]
    }
   ],
   "source": [
    "print(1)\n",
    "time.sleep(3)\n",
    "print(2)"
   ]
  },
  {
   "cell_type": "code",
   "execution_count": null,
   "id": "430130e8-1c3f-42d9-bde0-d19026f9fbbd",
   "metadata": {},
   "outputs": [],
   "source": [
    "# 2. 검색창에 \"맥북\"을 입력하고 검색 버튼 클릭"
   ]
  },
  {
   "cell_type": "code",
   "execution_count": 8,
   "id": "1af0f66d-806f-46db-915d-3eab8bf5ad04",
   "metadata": {},
   "outputs": [],
   "source": [
    "keyword = \"맥북\"\n",
    "driver.find_element(By.CSS_SELECTOR,\"#topLayerQueryInput\").send_keys(keyword)"
   ]
  },
  {
   "cell_type": "code",
   "execution_count": 10,
   "id": "ad223ebd-5d00-4fe8-b2ca-74a0314d295c",
   "metadata": {},
   "outputs": [],
   "source": [
    "driver.execute_script(\"searchBoard();\")"
   ]
  },
  {
   "cell_type": "code",
   "execution_count": 4,
   "id": "3d3e5a2f-1802-48e4-b2d4-d77bc67c4af5",
   "metadata": {},
   "outputs": [],
   "source": [
    "# 3. 게시글 목록 데이터 수집"
   ]
  },
  {
   "cell_type": "code",
   "execution_count": 11,
   "id": "80eeb04a-e86e-445a-bd52-8ae3cc627393",
   "metadata": {},
   "outputs": [
    {
     "data": {
      "text/plain": [
       "0"
      ]
     },
     "execution_count": 11,
     "metadata": {},
     "output_type": "execute_result"
    }
   ],
   "source": [
    "selector = \".article-board > table > tbody > tr\"\n",
    "elements = driver.find_elements(By.CSS_SELECTOR, selector)\n",
    "len(elements)"
   ]
  },
  {
   "cell_type": "code",
   "execution_count": 12,
   "id": "89e4c20e-b026-4c31-8d3b-c6dc3faf3e12",
   "metadata": {},
   "outputs": [
    {
     "data": {
      "text/plain": [
       "<selenium.webdriver.remote.webelement.WebElement (session=\"8adcc14303d3cc7e8d8dd961855e206c\", element=\"58abdff8-5985-4aee-9eb9-9271179c34d0\")>"
      ]
     },
     "execution_count": 12,
     "metadata": {},
     "output_type": "execute_result"
    }
   ],
   "source": [
    "# iframe 으로 driver 이동\n",
    "iframe = driver.find_element(By.CSS_SELECTOR, \"#cafe_main\")\n",
    "iframe"
   ]
  },
  {
   "cell_type": "code",
   "execution_count": 18,
   "id": "f35e04f5-7ee1-4f86-a99f-09835f083a28",
   "metadata": {},
   "outputs": [],
   "source": [
    "driver.switch_to.frame(iframe)"
   ]
  },
  {
   "cell_type": "code",
   "execution_count": 19,
   "id": "dd60a1bf-7d80-49c0-b7ce-4c14654a1702",
   "metadata": {},
   "outputs": [
    {
     "data": {
      "text/plain": [
       "15"
      ]
     },
     "execution_count": 19,
     "metadata": {},
     "output_type": "execute_result"
    }
   ],
   "source": [
    "selector = \".article-board > table > tbody > tr\"\n",
    "elements = driver.find_elements(By.CSS_SELECTOR, selector)\n",
    "len(elements)"
   ]
  },
  {
   "cell_type": "code",
   "execution_count": 21,
   "id": "224a2ecd-1b53-4010-a5e8-61eeb221d381",
   "metadata": {},
   "outputs": [],
   "source": [
    "element = elements[0]"
   ]
  },
  {
   "cell_type": "code",
   "execution_count": 23,
   "id": "b2041de5-d684-452e-9aca-9db285a658c0",
   "metadata": {},
   "outputs": [
    {
     "data": {
      "text/plain": [
       "('14인치 M1PRO M1MAX 엠원프로 엠원맥스 맥북프로 애플노트북', 'topontopcom')"
      ]
     },
     "execution_count": 23,
     "metadata": {},
     "output_type": "execute_result"
    }
   ],
   "source": [
    "title = element.find_element(By.CSS_SELECTOR, \".article\").text\n",
    "writer = element.find_element(By.CSS_SELECTOR, \".p-nick\").text\n",
    "title, writer"
   ]
  },
  {
   "cell_type": "code",
   "execution_count": 28,
   "id": "846935dc-9200-4a17-bd49-9d3b8a519f4f",
   "metadata": {},
   "outputs": [
    {
     "data": {
      "text/html": [
       "<div>\n",
       "<style scoped>\n",
       "    .dataframe tbody tr th:only-of-type {\n",
       "        vertical-align: middle;\n",
       "    }\n",
       "\n",
       "    .dataframe tbody tr th {\n",
       "        vertical-align: top;\n",
       "    }\n",
       "\n",
       "    .dataframe thead th {\n",
       "        text-align: right;\n",
       "    }\n",
       "</style>\n",
       "<table border=\"1\" class=\"dataframe\">\n",
       "  <thead>\n",
       "    <tr style=\"text-align: right;\">\n",
       "      <th></th>\n",
       "      <th>title</th>\n",
       "      <th>writer</th>\n",
       "    </tr>\n",
       "  </thead>\n",
       "  <tbody>\n",
       "    <tr>\n",
       "      <th>0</th>\n",
       "      <td>14인치 M1PRO M1MAX 엠원프로 엠원맥스 맥북프로 애플노트북</td>\n",
       "      <td>topontopcom</td>\n",
       "    </tr>\n",
       "    <tr>\n",
       "      <th>1</th>\n",
       "      <td>[매입]고장난 맥북, 노트북, 컴퓨터 선입매입(개인.기업 대량매입)</td>\n",
       "      <td>다사요컴닥터</td>\n",
       "    </tr>\n",
       "    <tr>\n",
       "      <th>2</th>\n",
       "      <td>[판매]맥북프로 2019 13인치 i5/8GB/256GB 풀박스</td>\n",
       "      <td>리퍼노트북</td>\n",
       "    </tr>\n",
       "    <tr>\n",
       "      <th>3</th>\n",
       "      <td>[미개봉/새제품] 맥북 프로 max 16인치 고급형 CTO 모델 판매 합니다.</td>\n",
       "      <td>하진아ㅂ</td>\n",
       "    </tr>\n",
       "    <tr>\n",
       "      <th>4</th>\n",
       "      <td>2021 맥북프로 14인치 m1 엠원 pro max CTO S급판매</td>\n",
       "      <td>FRANKCOM</td>\n",
       "    </tr>\n",
       "  </tbody>\n",
       "</table>\n",
       "</div>"
      ],
      "text/plain": [
       "                                         title       writer\n",
       "0        14인치 M1PRO M1MAX 엠원프로 엠원맥스 맥북프로 애플노트북  topontopcom\n",
       "1        [매입]고장난 맥북, 노트북, 컴퓨터 선입매입(개인.기업 대량매입)       다사요컴닥터\n",
       "2          [판매]맥북프로 2019 13인치 i5/8GB/256GB 풀박스        리퍼노트북\n",
       "3  [미개봉/새제품] 맥북 프로 max 16인치 고급형 CTO 모델 판매 합니다.         하진아ㅂ\n",
       "4        2021 맥북프로 14인치 m1 엠원 pro max CTO S급판매     FRANKCOM"
      ]
     },
     "execution_count": 28,
     "metadata": {},
     "output_type": "execute_result"
    }
   ],
   "source": [
    "data = []\n",
    "for element in elements:\n",
    "    data.append({\n",
    "        \"title\": element.find_element(By.CSS_SELECTOR, \".article\").text,\n",
    "        \"writer\": element.find_element(By.CSS_SELECTOR, \".p-nick\").text\n",
    "    })\n",
    "df = pd.DataFrame(data)\n",
    "df.head()"
   ]
  },
  {
   "cell_type": "code",
   "execution_count": 29,
   "id": "a72b34b3-528e-4529-b3a9-d2de32c1839b",
   "metadata": {},
   "outputs": [],
   "source": [
    "# 원래 default frame 으로 이동\n",
    "driver.switch_to.default_content()"
   ]
  },
  {
   "cell_type": "code",
   "execution_count": 35,
   "id": "9ca374b2-0aed-4636-99f8-17c45ea1420d",
   "metadata": {},
   "outputs": [],
   "source": [
    "# 4. 웹브라우저 종료\n",
    "driver.quit()"
   ]
  },
  {
   "cell_type": "code",
   "execution_count": null,
   "id": "63277a9d-0fd8-46ef-915d-a7e33ab5d82c",
   "metadata": {},
   "outputs": [],
   "source": [
    "웹페이즈를 불러올때 기다리는 시간필요\n",
    "\n",
    "웹페이지 크기가 작아 화면에 엘리먼트가 보이지 않을경우, 엘리먼트 사용시 오류가 발생할 수 있다.\n",
    "스크롤이나 화면을 늘려 엘리먼트가 보인다음에 엘리먼트 사용하기"
   ]
  }
 ],
 "metadata": {
  "kernelspec": {
   "display_name": "Python 3 (ipykernel)",
   "language": "python",
   "name": "python3"
  },
  "language_info": {
   "codemirror_mode": {
    "name": "ipython",
    "version": 3
   },
   "file_extension": ".py",
   "mimetype": "text/x-python",
   "name": "python",
   "nbconvert_exporter": "python",
   "pygments_lexer": "ipython3",
   "version": "3.9.7"
  }
 },
 "nbformat": 4,
 "nbformat_minor": 5
}
