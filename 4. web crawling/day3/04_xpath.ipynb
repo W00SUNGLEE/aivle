{
 "cells": [
  {
   "cell_type": "markdown",
   "id": "c8b5004d-db02-4ea0-9e6a-26f448ce8ef6",
   "metadata": {},
   "source": [
    "### xpath\n",
    "- html element 선택하는 방법\n",
    "- scrapy 에서 기본적으로 사용하는 selector\n",
    "- scrapy : 파이썬 코드로 웹페이지의 데이터를 수집하는 프레임워크"
   ]
  },
  {
   "cell_type": "code",
   "execution_count": 2,
   "id": "318a745a-2fed-41cd-acc6-c33b14a1a206",
   "metadata": {},
   "outputs": [
    {
     "name": "stdout",
     "output_type": "stream",
     "text": [
      "Collecting scrapy\n",
      "  Downloading Scrapy-2.6.2-py2.py3-none-any.whl (264 kB)\n",
      "Collecting protego>=0.1.15\n",
      "  Downloading Protego-0.2.1-py2.py3-none-any.whl (8.2 kB)\n",
      "Collecting parsel>=1.5.0\n",
      "  Downloading parsel-1.6.0-py2.py3-none-any.whl (13 kB)\n",
      "Collecting cssselect>=0.9.1\n",
      "  Downloading cssselect-1.1.0-py2.py3-none-any.whl (16 kB)\n",
      "Collecting PyDispatcher>=2.0.5\n",
      "  Downloading PyDispatcher-2.0.5.zip (47 kB)\n",
      "Collecting queuelib>=1.4.2\n",
      "  Downloading queuelib-1.6.2-py2.py3-none-any.whl (13 kB)\n",
      "Collecting w3lib>=1.17.0\n",
      "  Downloading w3lib-1.22.0-py2.py3-none-any.whl (20 kB)\n",
      "Requirement already satisfied: zope.interface>=4.1.3 in c:\\users\\wslee\\anaconda3\\lib\\site-packages (from scrapy) (5.4.0)\n",
      "Requirement already satisfied: lxml>=3.5.0 in c:\\users\\wslee\\anaconda3\\lib\\site-packages (from scrapy) (4.6.3)\n",
      "Collecting itemloaders>=1.0.1\n",
      "  Downloading itemloaders-1.0.4-py3-none-any.whl (11 kB)\n",
      "Requirement already satisfied: pyOpenSSL>=16.2.0 in c:\\users\\wslee\\anaconda3\\lib\\site-packages (from scrapy) (21.0.0)\n",
      "Collecting service-identity>=16.0.0\n",
      "  Downloading service_identity-21.1.0-py2.py3-none-any.whl (12 kB)\n",
      "Requirement already satisfied: setuptools in c:\\users\\wslee\\anaconda3\\lib\\site-packages (from scrapy) (58.0.4)\n",
      "Collecting Twisted>=17.9.0\n",
      "  Downloading Twisted-22.4.0-py3-none-any.whl (3.1 MB)\n",
      "Collecting itemadapter>=0.1.0\n",
      "  Downloading itemadapter-0.7.0-py3-none-any.whl (10 kB)\n",
      "Requirement already satisfied: cryptography>=2.0 in c:\\users\\wslee\\anaconda3\\lib\\site-packages (from scrapy) (3.4.8)\n",
      "Collecting tldextract\n",
      "  Downloading tldextract-3.3.1-py3-none-any.whl (93 kB)\n",
      "Requirement already satisfied: cffi>=1.12 in c:\\users\\wslee\\anaconda3\\lib\\site-packages (from cryptography>=2.0->scrapy) (1.14.6)\n",
      "Requirement already satisfied: pycparser in c:\\users\\wslee\\anaconda3\\lib\\site-packages (from cffi>=1.12->cryptography>=2.0->scrapy) (2.20)\n",
      "Collecting jmespath>=0.9.5\n",
      "  Downloading jmespath-1.0.1-py3-none-any.whl (20 kB)\n",
      "Requirement already satisfied: six>=1.6.0 in c:\\users\\wslee\\anaconda3\\lib\\site-packages (from parsel>=1.5.0->scrapy) (1.16.0)\n",
      "Requirement already satisfied: attrs>=19.1.0 in c:\\users\\wslee\\anaconda3\\lib\\site-packages (from service-identity>=16.0.0->scrapy) (21.2.0)\n",
      "Collecting pyasn1-modules\n",
      "  Downloading pyasn1_modules-0.2.8-py2.py3-none-any.whl (155 kB)\n",
      "Collecting pyasn1\n",
      "  Downloading pyasn1-0.4.8-py2.py3-none-any.whl (77 kB)\n",
      "Collecting hyperlink>=17.1.1\n",
      "  Downloading hyperlink-21.0.0-py2.py3-none-any.whl (74 kB)\n",
      "Collecting Automat>=0.8.0\n",
      "  Downloading Automat-20.2.0-py2.py3-none-any.whl (31 kB)\n",
      "Collecting twisted-iocpsupport<2,>=1.0.2\n",
      "  Downloading twisted_iocpsupport-1.0.2-cp39-cp39-win_amd64.whl (45 kB)\n",
      "Requirement already satisfied: typing-extensions>=3.6.5 in c:\\users\\wslee\\anaconda3\\lib\\site-packages (from Twisted>=17.9.0->scrapy) (3.10.0.2)\n",
      "Collecting constantly>=15.1\n",
      "  Downloading constantly-15.1.0-py2.py3-none-any.whl (7.9 kB)\n",
      "Collecting incremental>=21.3.0\n",
      "  Downloading incremental-21.3.0-py2.py3-none-any.whl (15 kB)\n",
      "Requirement already satisfied: idna>=2.5 in c:\\users\\wslee\\anaconda3\\lib\\site-packages (from hyperlink>=17.1.1->Twisted>=17.9.0->scrapy) (3.2)\n",
      "Requirement already satisfied: requests>=2.1.0 in c:\\users\\wslee\\anaconda3\\lib\\site-packages (from tldextract->scrapy) (2.26.0)\n",
      "Collecting requests-file>=1.4\n",
      "  Downloading requests_file-1.5.1-py2.py3-none-any.whl (3.7 kB)\n",
      "Requirement already satisfied: filelock>=3.0.8 in c:\\users\\wslee\\anaconda3\\lib\\site-packages (from tldextract->scrapy) (3.3.1)\n",
      "Requirement already satisfied: charset-normalizer~=2.0.0 in c:\\users\\wslee\\anaconda3\\lib\\site-packages (from requests>=2.1.0->tldextract->scrapy) (2.0.4)\n",
      "Requirement already satisfied: urllib3<1.27,>=1.21.1 in c:\\users\\wslee\\anaconda3\\lib\\site-packages (from requests>=2.1.0->tldextract->scrapy) (1.26.7)\n",
      "Requirement already satisfied: certifi>=2017.4.17 in c:\\users\\wslee\\anaconda3\\lib\\site-packages (from requests>=2.1.0->tldextract->scrapy) (2021.10.8)\n",
      "Building wheels for collected packages: PyDispatcher\n",
      "  Building wheel for PyDispatcher (setup.py): started\n",
      "  Building wheel for PyDispatcher (setup.py): finished with status 'done'\n",
      "  Created wheel for PyDispatcher: filename=PyDispatcher-2.0.5-py3-none-any.whl size=12559 sha256=9edae9a8131d84fcf71e4e85c9b922e7dcdfee3ba298f6a011f8396d82b38950\n",
      "  Stored in directory: c:\\users\\wslee\\appdata\\local\\pip\\cache\\wheels\\a5\\de\\8a\\4b52190a95d99c042ec6bd5ad2de3a3c1b5ce71d69f0bbd036\n",
      "Successfully built PyDispatcher\n",
      "Installing collected packages: w3lib, pyasn1, cssselect, twisted-iocpsupport, requests-file, pyasn1-modules, parsel, jmespath, itemadapter, incremental, hyperlink, constantly, Automat, Twisted, tldextract, service-identity, queuelib, PyDispatcher, protego, itemloaders, scrapy\n",
      "Successfully installed Automat-20.2.0 PyDispatcher-2.0.5 Twisted-22.4.0 constantly-15.1.0 cssselect-1.1.0 hyperlink-21.0.0 incremental-21.3.0 itemadapter-0.7.0 itemloaders-1.0.4 jmespath-1.0.1 parsel-1.6.0 protego-0.2.1 pyasn1-0.4.8 pyasn1-modules-0.2.8 queuelib-1.6.2 requests-file-1.5.1 scrapy-2.6.2 service-identity-21.1.0 tldextract-3.3.1 twisted-iocpsupport-1.0.2 w3lib-1.22.0\n"
     ]
    }
   ],
   "source": [
    "!pip install scrapy"
   ]
  },
  {
   "cell_type": "code",
   "execution_count": 3,
   "id": "22df66a7-2651-4c4f-b219-874a83452158",
   "metadata": {},
   "outputs": [],
   "source": [
    "import scrapy, requests\n",
    "from scrapy.http import TextResponse"
   ]
  },
  {
   "cell_type": "code",
   "execution_count": 4,
   "id": "a4f65bc7-7a4d-43b7-86fd-19f5346e63cc",
   "metadata": {},
   "outputs": [],
   "source": [
    "# 네이버 연관검색어 수집"
   ]
  },
  {
   "cell_type": "code",
   "execution_count": 6,
   "id": "dbb744cc-7ecc-40cf-9256-819e8dcd5747",
   "metadata": {},
   "outputs": [
    {
     "data": {
      "text/plain": [
       "'https://search.naver.com/search.naver?query=kt'"
      ]
     },
     "execution_count": 6,
     "metadata": {},
     "output_type": "execute_result"
    }
   ],
   "source": [
    "query = \"kt\"\n",
    "url = f\"https://search.naver.com/search.naver?query={query}\"\n",
    "url"
   ]
  },
  {
   "cell_type": "code",
   "execution_count": 9,
   "id": "48fce43d-f16f-41d4-b122-ca9f802e2e63",
   "metadata": {},
   "outputs": [],
   "source": [
    "response = requests.get(url)\n",
    "dom = TextResponse(response.url, body=response.text, encoding=\"utf-8\")"
   ]
  },
  {
   "cell_type": "code",
   "execution_count": 10,
   "id": "3d35362e-ed82-4e7b-bf44-c0e7a0d62395",
   "metadata": {},
   "outputs": [],
   "source": [
    "# xpath syntax\n",
    "# //*[@id=\"nx_footer_related_keywords\"]/div/div[2]/ul/li[1]/a/div\n",
    "# // : 최상위 엘리먼트\n",
    "# * : 모든 하위 엘리먼트 : css selector(.wrap p)\n",
    "# [@id=\"nx_footer_related_keywords\"] : 속성값으로 엘리먼트 선택 (id)\n",
    "# / : 한단계 하위 엘리먼트 : css selector(.wrap > p)\n",
    "# [n] : nth-child(n): n 번째 엘리먼트"
   ]
  },
  {
   "cell_type": "code",
   "execution_count": null,
   "id": "0c8a9c1b-e5f6-42c6-83fd-e252fc56b828",
   "metadata": {},
   "outputs": [],
   "source": [
    "dom.xpath(\"\")"
   ]
  },
  {
   "cell_type": "code",
   "execution_count": 12,
   "id": "c502810d-dc81-4873-bae6-7ca32e147549",
   "metadata": {},
   "outputs": [
    {
     "data": {
      "text/plain": [
       "[<Selector xpath='//*[@id=\"nx_footer_related_keywords\"]/div/div[2]/ul/li[1]/a/div' data='<div class=\"tit\">삼성전자</div> </a> </li...'>]"
      ]
     },
     "execution_count": 12,
     "metadata": {},
     "output_type": "execute_result"
    }
   ],
   "source": [
    "dom.xpath('//*[@id=\"nx_footer_related_keywords\"]/div/div[2]/ul/li[1]/a/div')"
   ]
  },
  {
   "cell_type": "code",
   "execution_count": 14,
   "id": "53e8fed7-1080-4742-a27e-e6e02a70c7e8",
   "metadata": {},
   "outputs": [
    {
     "data": {
      "text/plain": [
       "[<Selector xpath='//*[@id=\"nx_footer_related_keywords\"]/div/div[2]/ul/li/a/div' data='<div class=\"tit\">삼성전자</div> </a> </li...'>,\n",
       " <Selector xpath='//*[@id=\"nx_footer_related_keywords\"]/div/div[2]/ul/li/a/div' data='<div class=\"tit\">kt 고객센터</div> </a> <...'>,\n",
       " <Selector xpath='//*[@id=\"nx_footer_related_keywords\"]/div/div[2]/ul/li/a/div' data='<div class=\"tit\">kt 인터넷</div> </a> </...'>,\n",
       " <Selector xpath='//*[@id=\"nx_footer_related_keywords\"]/div/div[2]/ul/li/a/div' data='<div class=\"tit\">ky</div> </a> </li> ...'>,\n",
       " <Selector xpath='//*[@id=\"nx_footer_related_keywords\"]/div/div[2]/ul/li/a/div' data='<div class=\"tit\">환율</div> </a> </li> ...'>]"
      ]
     },
     "execution_count": 14,
     "metadata": {},
     "output_type": "execute_result"
    }
   ],
   "source": [
    "dom.xpath('//*[@id=\"nx_footer_related_keywords\"]/div/div[2]/ul/li/a/div')[:5]"
   ]
  },
  {
   "cell_type": "code",
   "execution_count": 20,
   "id": "cb5eec6f-3d93-44e8-bb21-6022dd582787",
   "metadata": {},
   "outputs": [
    {
     "name": "stdout",
     "output_type": "stream",
     "text": [
      "['삼성전자', 'kt 고객센터', 'kt 인터넷', 'ky', '환율', 'kt 대리점', 'kr', '날씨', 'SKT', 'kt 고객센터 전화번호']\n"
     ]
    }
   ],
   "source": [
    "keywords = dom.xpath('//*[@id=\"nx_footer_related_keywords\"]/div/div[2]/ul/li/a/div/text()').extract()\n",
    "print(keywords)"
   ]
  },
  {
   "cell_type": "code",
   "execution_count": null,
   "id": "7a257c65-2237-492e-a20f-fabcd9c58557",
   "metadata": {},
   "outputs": [],
   "source": [
    "# selenium 에서의 xpath는 for 문을 사용해서 데이터를 수집"
   ]
  }
 ],
 "metadata": {
  "kernelspec": {
   "display_name": "Python 3 (ipykernel)",
   "language": "python",
   "name": "python3"
  },
  "language_info": {
   "codemirror_mode": {
    "name": "ipython",
    "version": 3
   },
   "file_extension": ".py",
   "mimetype": "text/x-python",
   "name": "python",
   "nbconvert_exporter": "python",
   "pygments_lexer": "ipython3",
   "version": "3.9.7"
  }
 },
 "nbformat": 4,
 "nbformat_minor": 5
}
